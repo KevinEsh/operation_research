{
 "cells": [
  {
   "cell_type": "code",
   "execution_count": 7,
   "metadata": {},
   "outputs": [],
   "source": [
    "def get_s3_client():\n",
    "    \"\"\"Create and return an S3 client using the credentials from environment variables.\"\"\"\n",
    "    import boto3\n",
    "\n",
    "    return boto3.client(\n",
    "        \"s3\",\n",
    "        aws_access_key_id=\"admin\",\n",
    "        aws_secret_access_key=\"password\",\n",
    "        endpoint_url=\"http://localhost:10000\",  # \"http://minio:9000\",\n",
    "        region_name=\"us-east-1\",\n",
    "    )"
   ]
  },
  {
   "cell_type": "code",
   "execution_count": 13,
   "metadata": {},
   "outputs": [],
   "source": [
    "s3_client = get_s3_client()\n",
    "\n",
    "BUCKER_NAME = \"dashboard\"\n",
    "def get_html_content_from_s3(product: str, store: str):\n",
    "    file_path = f\"balance_{product}_{store}.html\"\n",
    "    file_path = \"balance_Donut_Market 1.html\"  # Example file path, adjust as needed\n",
    "\n",
    "    try:\n",
    "        response = s3_client.get_object(Bucket=BUCKER_NAME, Key=file_path)\n",
    "        return response[\"Body\"].read().decode(\"utf-8\")\n",
    "    except s3_client.exceptions.NoSuchKey:\n",
    "        return None\n",
    "    except Exception as e:\n",
    "        print(f\"Error fetching HTML content from S3: {e}\")\n",
    "        return None"
   ]
  },
  {
   "cell_type": "code",
   "execution_count": 14,
   "metadata": {},
   "outputs": [],
   "source": [
    "file = get_html_content_from_s3(\"Donut\", \"Market 1\")"
   ]
  },
  {
   "cell_type": "code",
   "execution_count": 59,
   "metadata": {},
   "outputs": [],
   "source": [
    "from itertools import zip_longest\n",
    "from collections import Counter\n",
    "from typing import List\n",
    "\n",
    "MAX_INT = 1000000007\n",
    "\n",
    "class Solution:\n",
    "    def numWays(self, words: List[str], target: str) -> int:\n",
    "        char_counter = [Counter(row) for row in zip_longest(*words, fillvalue='#')]\n",
    "        max_size = len(char_counter)\n",
    "\n",
    "        if max_size < len(target):\n",
    "            return 0\n",
    "        \n",
    "        # dp = [[1] * max_size for _ in range(len(target)+1)]\n",
    "\n",
    "        # # print(char_counter)\n",
    "        # for i, c in enumerate(target):\n",
    "        #     dp[i+1][i] = (char_counter[i][c] * (dp[i][i-1] if i > 0 else 1)) % MAX_INT\n",
    "        #     for j in range(i+1, max_size):\n",
    "        #         dp[i+1][j] = (char_counter[j][c] * dp[i][j-1] + dp[i+1][j-1]) % MAX_INT\n",
    "        # # for row in dp:\n",
    "        # #     print(row)\n",
    "\n",
    "        # Space-optimized solution:\n",
    "        dp = [0] * (max_size + 1)\n",
    "        dp[0] = 1\n",
    "        print(dp)\n",
    "        for i, c in enumerate(target):\n",
    "            for j in range(max_size-1, -1, -1):\n",
    "                # dp[j+1] = dp[j] + dp[j] * char_counter[i][c]\n",
    "                dp[j+1] += dp[j] * char_counter[i][c]\n",
    "            print(dp)\n",
    "        return dp[-1]"
   ]
  },
  {
   "cell_type": "code",
   "execution_count": 60,
   "metadata": {},
   "outputs": [
    {
     "name": "stdout",
     "output_type": "stream",
     "text": [
      "[1, 0, 0, 0, 0, 0, 0]\n",
      "[1, 1, 0, 0, 0, 0, 0]\n",
      "[1, 2, 1, 0, 0, 0, 0]\n",
      "[1, 2, 1, 0, 0, 0, 0]\n"
     ]
    },
    {
     "data": {
      "text/plain": [
       "0"
      ]
     },
     "execution_count": 60,
     "metadata": {},
     "output_type": "execute_result"
    }
   ],
   "source": [
    "w = [\"acca\",\"bbbb\",\"cacazz\"]\n",
    "t = \"aba\"\n",
    "Solution().numWays(w, t)"
   ]
  },
  {
   "cell_type": "code",
   "execution_count": null,
   "metadata": {},
   "outputs": [],
   "source": []
  }
 ],
 "metadata": {
  "kernelspec": {
   "display_name": "operation-research",
   "language": "python",
   "name": "python3"
  },
  "language_info": {
   "codemirror_mode": {
    "name": "ipython",
    "version": 3
   },
   "file_extension": ".py",
   "mimetype": "text/x-python",
   "name": "python",
   "nbconvert_exporter": "python",
   "pygments_lexer": "ipython3",
   "version": "3.10.12"
  }
 },
 "nbformat": 4,
 "nbformat_minor": 2
}
