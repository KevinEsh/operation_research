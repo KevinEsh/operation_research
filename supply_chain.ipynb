{
 "cells": [
  {
   "cell_type": "code",
   "execution_count": 121,
   "id": "10c2904e",
   "metadata": {},
   "outputs": [],
   "source": [
    "import duckdb\n",
    "import polars as pl\n",
    "\n",
    "today = \"2023-12-31\"\n",
    "procurement_window = 6\n",
    "\n",
    "with duckdb.connect(\"./data/duckdb.db\") as con:\n",
    "    df_demand_predictions = con.execute(\n",
    "        \"\"\"\n",
    "        SELECT\n",
    "            dp_p_id as p_id,\n",
    "            dp_s_id as s_id,\n",
    "            dp_period as period,\n",
    "            dp_mean as mean\n",
    "        FROM demand_predictions\"\"\").pl()\n",
    "    df_procurements = con.execute(\n",
    "        \"\"\"\n",
    "        SELECT \n",
    "            pc_p_id as p_id,\n",
    "            pc_s_id as s_id,\n",
    "            pc_active_from,\n",
    "            pc_active_upto\n",
    "        FROM procurements\"\"\").pl()\n",
    "    df_transport_links = con.execute(\n",
    "        \"\"\"\n",
    "        SELECT \n",
    "            tl_w_id as w_id,\n",
    "            tl_s_id as s_id,\n",
    "            tl_cost as cost\n",
    "        FROM transport_links\"\"\").pl()\n",
    "    df_current_stocks = con.execute(\n",
    "        f\"\"\"\n",
    "        SELECT\n",
    "            sk_p_id as p_id, \n",
    "            sk_s_id as s_id, \n",
    "            0 as period_rank, \n",
    "            sk_ending_inventory as ending_inventory,\n",
    "        FROM stocks\n",
    "        WHERE sk_period == DATE '{today}'\"\"\").pl()\n",
    "    df_periods = con.execute(f\"\"\"\n",
    "        SELECT \n",
    "            CAST(d AS DATE) AS period,\n",
    "            ROW_NUMBER() OVER (ORDER BY d) - 1 AS period_rank\n",
    "        FROM generate_series(\n",
    "            DATE '{today}', \n",
    "            DATE '{today}' + INTERVAL {procurement_window} DAY, \n",
    "            INTERVAL 1 DAY\n",
    "        ) AS t(d)\n",
    "    \"\"\").pl()"
   ]
  },
  {
   "cell_type": "code",
   "execution_count": 130,
   "id": "2697b560",
   "metadata": {},
   "outputs": [
    {
     "data": {
      "text/html": [
       "<div><style>\n",
       ".dataframe > thead > tr,\n",
       ".dataframe > tbody > tr {\n",
       "  text-align: right;\n",
       "  white-space: pre-wrap;\n",
       "}\n",
       "</style>\n",
       "<small>shape: (72, 4)</small><table border=\"1\" class=\"dataframe\"><thead><tr><th>p_id</th><th>s_id</th><th>mean</th><th>period_rank</th></tr><tr><td>i32</td><td>i32</td><td>i32</td><td>i64</td></tr></thead><tbody><tr><td>1</td><td>2</td><td>10</td><td>1</td></tr><tr><td>1</td><td>2</td><td>10</td><td>2</td></tr><tr><td>1</td><td>2</td><td>10</td><td>3</td></tr><tr><td>1</td><td>2</td><td>5</td><td>4</td></tr><tr><td>1</td><td>2</td><td>5</td><td>5</td></tr><tr><td>&hellip;</td><td>&hellip;</td><td>&hellip;</td><td>&hellip;</td></tr><tr><td>5</td><td>3</td><td>10</td><td>2</td></tr><tr><td>5</td><td>3</td><td>7</td><td>3</td></tr><tr><td>5</td><td>3</td><td>10</td><td>4</td></tr><tr><td>5</td><td>3</td><td>7</td><td>5</td></tr><tr><td>5</td><td>3</td><td>7</td><td>6</td></tr></tbody></table></div>"
      ],
      "text/plain": [
       "shape: (72, 4)\n",
       "┌──────┬──────┬──────┬─────────────┐\n",
       "│ p_id ┆ s_id ┆ mean ┆ period_rank │\n",
       "│ ---  ┆ ---  ┆ ---  ┆ ---         │\n",
       "│ i32  ┆ i32  ┆ i32  ┆ i64         │\n",
       "╞══════╪══════╪══════╪═════════════╡\n",
       "│ 1    ┆ 2    ┆ 10   ┆ 1           │\n",
       "│ 1    ┆ 2    ┆ 10   ┆ 2           │\n",
       "│ 1    ┆ 2    ┆ 10   ┆ 3           │\n",
       "│ 1    ┆ 2    ┆ 5    ┆ 4           │\n",
       "│ 1    ┆ 2    ┆ 5    ┆ 5           │\n",
       "│ …    ┆ …    ┆ …    ┆ …           │\n",
       "│ 5    ┆ 3    ┆ 10   ┆ 2           │\n",
       "│ 5    ┆ 3    ┆ 7    ┆ 3           │\n",
       "│ 5    ┆ 3    ┆ 10   ┆ 4           │\n",
       "│ 5    ┆ 3    ┆ 7    ┆ 5           │\n",
       "│ 5    ┆ 3    ┆ 7    ┆ 6           │\n",
       "└──────┴──────┴──────┴─────────────┘"
      ]
     },
     "execution_count": 130,
     "metadata": {},
     "output_type": "execute_result"
    }
   ],
   "source": [
    "df_demand_predictions"
   ]
  },
  {
   "cell_type": "code",
   "execution_count": 129,
   "id": "48914904",
   "metadata": {},
   "outputs": [
    {
     "data": {
      "text/html": [
       "<div><style>\n",
       ".dataframe > thead > tr,\n",
       ".dataframe > tbody > tr {\n",
       "  text-align: right;\n",
       "  white-space: pre-wrap;\n",
       "}\n",
       "</style>\n",
       "<small>shape: (72, 3)</small><table border=\"1\" class=\"dataframe\"><thead><tr><th>p_id</th><th>s_id</th><th>period_rank</th></tr><tr><td>i32</td><td>i32</td><td>i64</td></tr></thead><tbody><tr><td>1</td><td>2</td><td>1</td></tr><tr><td>1</td><td>2</td><td>2</td></tr><tr><td>1</td><td>2</td><td>3</td></tr><tr><td>1</td><td>2</td><td>4</td></tr><tr><td>1</td><td>2</td><td>5</td></tr><tr><td>&hellip;</td><td>&hellip;</td><td>&hellip;</td></tr><tr><td>4</td><td>1</td><td>6</td></tr><tr><td>4</td><td>2</td><td>6</td></tr><tr><td>4</td><td>3</td><td>6</td></tr><tr><td>5</td><td>2</td><td>6</td></tr><tr><td>5</td><td>3</td><td>6</td></tr></tbody></table></div>"
      ],
      "text/plain": [
       "shape: (72, 3)\n",
       "┌──────┬──────┬─────────────┐\n",
       "│ p_id ┆ s_id ┆ period_rank │\n",
       "│ ---  ┆ ---  ┆ ---         │\n",
       "│ i32  ┆ i32  ┆ i64         │\n",
       "╞══════╪══════╪═════════════╡\n",
       "│ 1    ┆ 2    ┆ 1           │\n",
       "│ 1    ┆ 2    ┆ 2           │\n",
       "│ 1    ┆ 2    ┆ 3           │\n",
       "│ 1    ┆ 2    ┆ 4           │\n",
       "│ 1    ┆ 2    ┆ 5           │\n",
       "│ …    ┆ …    ┆ …           │\n",
       "│ 4    ┆ 1    ┆ 6           │\n",
       "│ 4    ┆ 2    ┆ 6           │\n",
       "│ 4    ┆ 3    ┆ 6           │\n",
       "│ 5    ┆ 2    ┆ 6           │\n",
       "│ 5    ┆ 3    ┆ 6           │\n",
       "└──────┴──────┴─────────────┘"
      ]
     },
     "execution_count": 129,
     "metadata": {},
     "output_type": "execute_result"
    }
   ],
   "source": [
    "df_procurements"
   ]
  },
  {
   "cell_type": "code",
   "execution_count": 124,
   "id": "9944cbf6",
   "metadata": {},
   "outputs": [
    {
     "data": {
      "text/html": [
       "<div><style>\n",
       ".dataframe > thead > tr,\n",
       ".dataframe > tbody > tr {\n",
       "  text-align: right;\n",
       "  white-space: pre-wrap;\n",
       "}\n",
       "</style>\n",
       "<small>shape: (6, 3)</small><table border=\"1\" class=\"dataframe\"><thead><tr><th>w_id</th><th>s_id</th><th>cost</th></tr><tr><td>i32</td><td>i32</td><td>f64</td></tr></thead><tbody><tr><td>1</td><td>1</td><td>1.0</td></tr><tr><td>1</td><td>2</td><td>3.0</td></tr><tr><td>1</td><td>3</td><td>9.0</td></tr><tr><td>2</td><td>1</td><td>3.0</td></tr><tr><td>2</td><td>2</td><td>9.0</td></tr><tr><td>2</td><td>3</td><td>1.0</td></tr></tbody></table></div>"
      ],
      "text/plain": [
       "shape: (6, 3)\n",
       "┌──────┬──────┬──────┐\n",
       "│ w_id ┆ s_id ┆ cost │\n",
       "│ ---  ┆ ---  ┆ ---  │\n",
       "│ i32  ┆ i32  ┆ f64  │\n",
       "╞══════╪══════╪══════╡\n",
       "│ 1    ┆ 1    ┆ 1.0  │\n",
       "│ 1    ┆ 2    ┆ 3.0  │\n",
       "│ 1    ┆ 3    ┆ 9.0  │\n",
       "│ 2    ┆ 1    ┆ 3.0  │\n",
       "│ 2    ┆ 2    ┆ 9.0  │\n",
       "│ 2    ┆ 3    ┆ 1.0  │\n",
       "└──────┴──────┴──────┘"
      ]
     },
     "execution_count": 124,
     "metadata": {},
     "output_type": "execute_result"
    }
   ],
   "source": [
    "df_transport_links"
   ]
  },
  {
   "cell_type": "code",
   "execution_count": 125,
   "id": "ef01b23f",
   "metadata": {},
   "outputs": [
    {
     "data": {
      "text/html": [
       "<div><style>\n",
       ".dataframe > thead > tr,\n",
       ".dataframe > tbody > tr {\n",
       "  text-align: right;\n",
       "  white-space: pre-wrap;\n",
       "}\n",
       "</style>\n",
       "<small>shape: (12, 4)</small><table border=\"1\" class=\"dataframe\"><thead><tr><th>p_id</th><th>s_id</th><th>period_rank</th><th>ending_inventory</th></tr><tr><td>i32</td><td>i32</td><td>i32</td><td>i32</td></tr></thead><tbody><tr><td>3</td><td>1</td><td>0</td><td>5</td></tr><tr><td>3</td><td>3</td><td>0</td><td>5</td></tr><tr><td>2</td><td>1</td><td>0</td><td>10</td></tr><tr><td>2</td><td>2</td><td>0</td><td>10</td></tr><tr><td>2</td><td>3</td><td>0</td><td>5</td></tr><tr><td>&hellip;</td><td>&hellip;</td><td>&hellip;</td><td>&hellip;</td></tr><tr><td>4</td><td>1</td><td>0</td><td>5</td></tr><tr><td>4</td><td>2</td><td>0</td><td>5</td></tr><tr><td>4</td><td>3</td><td>0</td><td>0</td></tr><tr><td>1</td><td>2</td><td>0</td><td>5</td></tr><tr><td>1</td><td>3</td><td>0</td><td>3</td></tr></tbody></table></div>"
      ],
      "text/plain": [
       "shape: (12, 4)\n",
       "┌──────┬──────┬─────────────┬──────────────────┐\n",
       "│ p_id ┆ s_id ┆ period_rank ┆ ending_inventory │\n",
       "│ ---  ┆ ---  ┆ ---         ┆ ---              │\n",
       "│ i32  ┆ i32  ┆ i32         ┆ i32              │\n",
       "╞══════╪══════╪═════════════╪══════════════════╡\n",
       "│ 3    ┆ 1    ┆ 0           ┆ 5                │\n",
       "│ 3    ┆ 3    ┆ 0           ┆ 5                │\n",
       "│ 2    ┆ 1    ┆ 0           ┆ 10               │\n",
       "│ 2    ┆ 2    ┆ 0           ┆ 10               │\n",
       "│ 2    ┆ 3    ┆ 0           ┆ 5                │\n",
       "│ …    ┆ …    ┆ …           ┆ …                │\n",
       "│ 4    ┆ 1    ┆ 0           ┆ 5                │\n",
       "│ 4    ┆ 2    ┆ 0           ┆ 5                │\n",
       "│ 4    ┆ 3    ┆ 0           ┆ 0                │\n",
       "│ 1    ┆ 2    ┆ 0           ┆ 5                │\n",
       "│ 1    ┆ 3    ┆ 0           ┆ 3                │\n",
       "└──────┴──────┴─────────────┴──────────────────┘"
      ]
     },
     "execution_count": 125,
     "metadata": {},
     "output_type": "execute_result"
    }
   ],
   "source": [
    "df_current_stocks"
   ]
  },
  {
   "cell_type": "code",
   "execution_count": 88,
   "id": "acc76c19",
   "metadata": {},
   "outputs": [],
   "source": [
    "# from datetime import date, timedelta\n",
    "\n",
    "# today =  date.fromisoformat(\"2023-12-31\")\n",
    "# procurement_window = 6\n",
    "# start_procurement = today + timedelta(days=1)\n",
    "# end_procurement = today + timedelta(days=procurement_window)\n",
    "\n",
    "# # create a df_periods with the dates we want to procurement for from tomorrow upto tomorrow + procurement window\n",
    "# df_periods = pl.DataFrame()\n",
    "\n",
    "# df_periods = df_periods.with_columns(\n",
    "#     period = pl.date_range(\n",
    "#         start=today, \n",
    "#         end=end_procurement,\n",
    "#         interval=\"1d\", closed=\"both\"\n",
    "#     ).cast(pl.Date),\n",
    "#     period_rank=pl.arange(0, procurement_window+1).cast(pl.Int32),\n",
    "# )"
   ]
  },
  {
   "cell_type": "code",
   "execution_count": 126,
   "id": "b15d4a81",
   "metadata": {},
   "outputs": [],
   "source": [
    "# do a join to get the periods where the assignments are active\n",
    "import polars.selectors as cs\n",
    "\n",
    "df_procurements = df_procurements.join_where(\n",
    "    df_periods,\n",
    "    (pl.col('pc_active_from') <= pl.col(\"period\")) & \\\n",
    "    (pl.col(\"period\") < pl.col('pc_active_upto')) & \\\n",
    "    (pl.col(\"period_rank\") > 0)\n",
    ").drop(cs.date())\n",
    "    #['pc_active_from', 'pc_active_upto', \"period\"])"
   ]
  },
  {
   "cell_type": "code",
   "execution_count": 127,
   "id": "4a9f3e7a",
   "metadata": {},
   "outputs": [],
   "source": [
    "# df_procurements.sort(by=[\"p_id\", \"s_id\", \"period_rank\"]).to_dicts()"
   ]
  },
  {
   "cell_type": "code",
   "execution_count": 128,
   "id": "afa2d079",
   "metadata": {},
   "outputs": [],
   "source": [
    "df_demand_predictions = df_demand_predictions.join(df_periods, on=\"period\", how=\"left\") \\\n",
    ".drop(cs.date())"
   ]
  },
  {
   "cell_type": "code",
   "execution_count": null,
   "id": "1b0efe79",
   "metadata": {},
   "outputs": [
    {
     "data": {
      "text/html": [
       "<div><style>\n",
       ".dataframe > thead > tr,\n",
       ".dataframe > tbody > tr {\n",
       "  text-align: right;\n",
       "  white-space: pre-wrap;\n",
       "}\n",
       "</style>\n",
       "<small>shape: (72, 6)</small><table border=\"1\" class=\"dataframe\"><thead><tr><th>p_id</th><th>s_id</th><th>period</th><th>ending_inventory</th><th>period_right</th><th>period_rank</th></tr><tr><td>i32</td><td>i32</td><td>date</td><td>i32</td><td>date</td><td>i64</td></tr></thead><tbody><tr><td>3</td><td>1</td><td>2023-12-31</td><td>5</td><td>2024-01-01</td><td>1</td></tr><tr><td>3</td><td>1</td><td>2023-12-31</td><td>5</td><td>2024-01-02</td><td>2</td></tr><tr><td>3</td><td>1</td><td>2023-12-31</td><td>5</td><td>2024-01-03</td><td>3</td></tr><tr><td>3</td><td>1</td><td>2023-12-31</td><td>5</td><td>2024-01-04</td><td>4</td></tr><tr><td>3</td><td>1</td><td>2023-12-31</td><td>5</td><td>2024-01-05</td><td>5</td></tr><tr><td>&hellip;</td><td>&hellip;</td><td>&hellip;</td><td>&hellip;</td><td>&hellip;</td><td>&hellip;</td></tr><tr><td>4</td><td>1</td><td>2023-12-31</td><td>5</td><td>2024-01-06</td><td>6</td></tr><tr><td>4</td><td>2</td><td>2023-12-31</td><td>5</td><td>2024-01-06</td><td>6</td></tr><tr><td>4</td><td>3</td><td>2023-12-31</td><td>0</td><td>2024-01-06</td><td>6</td></tr><tr><td>1</td><td>2</td><td>2023-12-31</td><td>5</td><td>2024-01-06</td><td>6</td></tr><tr><td>1</td><td>3</td><td>2023-12-31</td><td>3</td><td>2024-01-06</td><td>6</td></tr></tbody></table></div>"
      ],
      "text/plain": [
       "shape: (72, 6)\n",
       "┌──────┬──────┬────────────┬──────────────────┬──────────────┬─────────────┐\n",
       "│ p_id ┆ s_id ┆ period     ┆ ending_inventory ┆ period_right ┆ period_rank │\n",
       "│ ---  ┆ ---  ┆ ---        ┆ ---              ┆ ---          ┆ ---         │\n",
       "│ i32  ┆ i32  ┆ date       ┆ i32              ┆ date         ┆ i64         │\n",
       "╞══════╪══════╪════════════╪══════════════════╪══════════════╪═════════════╡\n",
       "│ 3    ┆ 1    ┆ 2023-12-31 ┆ 5                ┆ 2024-01-01   ┆ 1           │\n",
       "│ 3    ┆ 1    ┆ 2023-12-31 ┆ 5                ┆ 2024-01-02   ┆ 2           │\n",
       "│ 3    ┆ 1    ┆ 2023-12-31 ┆ 5                ┆ 2024-01-03   ┆ 3           │\n",
       "│ 3    ┆ 1    ┆ 2023-12-31 ┆ 5                ┆ 2024-01-04   ┆ 4           │\n",
       "│ 3    ┆ 1    ┆ 2023-12-31 ┆ 5                ┆ 2024-01-05   ┆ 5           │\n",
       "│ …    ┆ …    ┆ …          ┆ …                ┆ …            ┆ …           │\n",
       "│ 4    ┆ 1    ┆ 2023-12-31 ┆ 5                ┆ 2024-01-06   ┆ 6           │\n",
       "│ 4    ┆ 2    ┆ 2023-12-31 ┆ 5                ┆ 2024-01-06   ┆ 6           │\n",
       "│ 4    ┆ 3    ┆ 2023-12-31 ┆ 0                ┆ 2024-01-06   ┆ 6           │\n",
       "│ 1    ┆ 2    ┆ 2023-12-31 ┆ 5                ┆ 2024-01-06   ┆ 6           │\n",
       "│ 1    ┆ 3    ┆ 2023-12-31 ┆ 3                ┆ 2024-01-06   ┆ 6           │\n",
       "└──────┴──────┴────────────┴──────────────────┴──────────────┴─────────────┘"
      ]
     },
     "execution_count": 95,
     "metadata": {},
     "output_type": "execute_result"
    }
   ],
   "source": [
    "# df_ending_inventory = \n",
    "# df_stocks.join_where(df_periods, pl.col(\"period_rank\") > 0)#.drop([\"sk_p_id\", \"sk_s_id\", \"period_rank\"])"
   ]
  },
  {
   "cell_type": "code",
   "execution_count": 119,
   "id": "e1c0108d",
   "metadata": {},
   "outputs": [],
   "source": [
    "# df_starting_inventory = df_stocks.join(\n",
    "#     df_periods, \n",
    "#     on=\"period\", \n",
    "#     how=\"left\"\n",
    "# ).drop(cs.date())\n",
    "# df_starting_inventory"
   ]
  },
  {
   "cell_type": "code",
   "execution_count": 131,
   "id": "7c68808c",
   "metadata": {},
   "outputs": [],
   "source": [
    "from ortools.sat.python import cp_model\n",
    "\n",
    "model = cp_model.CpModel()\n",
    "solver = cp_model.CpSolver()\n",
    "\n",
    "def polars_to_dict(df, key_cols, value_col):\n",
    "    \"\"\"\n",
    "    Convierte un DataFrame de Polars a un diccionario con tuplas como clave.\n",
    "    key_cols: lista de nombres de columnas para la clave.\n",
    "    value_col: nombre de la columna para el valor.\n",
    "    \"\"\"\n",
    "    return {\n",
    "        tuple(row[col] for col in key_cols): row[value_col]\n",
    "        for row in df.to_dicts()\n",
    "    }\n",
    "\n",
    "\n",
    "def empty_dict_from_polars(df, key_cols=None):\n",
    "    if not key_cols:\n",
    "        key_cols = df.columns\n",
    "    return {tuple(row): None for row in zip(*[df[col] for col in key_cols])}"
   ]
  },
  {
   "cell_type": "code",
   "execution_count": 132,
   "id": "8ef81a89",
   "metadata": {},
   "outputs": [],
   "source": [
    "new_orders = empty_dict_from_polars(df_procurements)\n",
    "for p, s, t in new_orders.keys():\n",
    "    new_orders[p,s,t] = model.new_int_var(0, 1000, f\"new_order_{p}_{s}_{t}\")"
   ]
  },
  {
   "cell_type": "code",
   "execution_count": 134,
   "id": "6b5efa32",
   "metadata": {},
   "outputs": [],
   "source": [
    "\n",
    "demand_predictions = polars_to_dict(df_demand_predictions, key_cols=[\"p_id\", \"s_id\", \"period_rank\"], value_col=\"mean\")\n",
    "met_demand = demand_predictions.copy() #empty_dict_from_polars(df_demand_predictions.drop(\"mean\")) #key_cols=[\"p_id\", \"s_id\", \"period_rank\"])\n",
    "unmet_demand = demand_predictions.copy()\n",
    "\n",
    "for p, s, t in demand_predictions.keys():\n",
    "    met_demand[p,s,t] = model.new_int_var(0, 1000, f\"met_demand_{p}_{s}_{t}\")\n",
    "    unmet_demand[p,s,t] = model.new_int_var(0, 1000, f\"unmet_demand_{p}_{s}_{t}\")"
   ]
  },
  {
   "cell_type": "code",
   "execution_count": 135,
   "id": "4498805a",
   "metadata": {},
   "outputs": [],
   "source": [
    "current_stocks = polars_to_dict(df_current_stocks, key_cols=[\"p_id\", \"s_id\"], value_col=\"ending_inventory\")\n",
    "expected_stocks = empty_dict_from_polars(df_procurements)\n",
    "for p, s, t in expected_stocks.keys():\n",
    "    expected_stocks[p,s,t] = model.new_int_var(0, 1000, f\"ending_inv_{p}_{s}_{t}\")"
   ]
  },
  {
   "cell_type": "code",
   "execution_count": 136,
   "id": "135ff6b3",
   "metadata": {},
   "outputs": [],
   "source": [
    "# define constraints for met and unmet demand\n",
    "for p, s, t in demand_predictions.keys():\n",
    "    # met demand is the sum of all orders for product p, location l, and time t\n",
    "    # model.add(met_demand[p,l,t] == sum(order_vars[p, l, t, o] for o in vars_tuples.o))\n",
    "    \n",
    "    # met demand should not exceed forecast demand\n",
    "    # model.add(met_demand[p,s,t] <= demand_predictions[p,s,t])\n",
    "    \n",
    "    # unmet demand is the difference between demand and met demand\n",
    "    model.add(unmet_demand[p,s,t] + met_demand[p,s,t] == demand_predictions[p,s,t])\n",
    "    \n",
    "    # # new orders should be at least the unmet demand\n",
    "    # model.add(new_orders[p,l,t] >= unmet_demand[p,l,t])"
   ]
  },
  {
   "cell_type": "code",
   "execution_count": 137,
   "id": "fbee712c",
   "metadata": {},
   "outputs": [],
   "source": [
    "#create constraints for inventory rolling over time periods\n",
    "for p, s, t in expected_stocks.keys():\n",
    "    if t == 1: # if p, s has not recorded current stock, we use the current stock as 0\n",
    "        model.add(expected_stocks[p, s, 1] == current_stocks.get((p, s), 0) + new_orders[p, s, 1] - met_demand[p, s, 1])\n",
    "    else: # t > 1 \n",
    "        model.add(expected_stocks[p,s,t] == expected_stocks[p,s,t-1] + new_orders[p,s,t] - met_demand[p,s,t])"
   ]
  },
  {
   "cell_type": "code",
   "execution_count": 138,
   "id": "b1c76e0c",
   "metadata": {},
   "outputs": [],
   "source": [
    "unmet_penalty = 10\n",
    "max_stock_penalty = 5\n",
    "\n",
    "objective_terms = []\n",
    "objective_terms.extend([unmet_penalty * ud_var for ud_var in unmet_demand.values()])\n",
    "objective_terms.extend([max_stock_penalty * exst_var for exst_var in expected_stocks.values()])\n",
    "\n",
    "model.minimize(sum(objective_terms))"
   ]
  },
  {
   "cell_type": "code",
   "execution_count": 139,
   "id": "af4d97ca",
   "metadata": {},
   "outputs": [
    {
     "name": "stdout",
     "output_type": "stream",
     "text": [
      "Solution 0, time = 0.00 s, objective = 15.0\n",
      "Solution: Total cost = 15.0\n"
     ]
    }
   ],
   "source": [
    "# --- Solve the model ---\n",
    "solver.parameters.num_search_workers = 8\n",
    "solver.parameters.max_time_in_seconds = 120\n",
    "callback = cp_model.ObjectiveSolutionPrinter()\n",
    "or_status = solver.SolveWithSolutionCallback(model, callback)\n",
    "status = solver.StatusName(or_status)\n",
    "\n",
    "if status in [\"OPTIMAL\", \"FEASIBLE\"]:\n",
    "    print(f'Solution: Total cost = {solver.ObjectiveValue()}')\n",
    "else:\n",
    "    print('A solution could not be found, check the problem specification')"
   ]
  },
  {
   "cell_type": "code",
   "execution_count": 140,
   "id": "2a5739fe",
   "metadata": {},
   "outputs": [],
   "source": [
    "def solution_to_df(solution_dict, key_schema:list[tuple[str, type]], value_schema:tuple[str, type]):\n",
    "    \"\"\"\n",
    "    Convert a solution dictionary to a Polars DataFrame.\n",
    "    solution_dict: dictionary with keys as tuples and values as integers.\n",
    "    key_schema: list of tuples defining the schema for the keys.\n",
    "    value_schema: tuple defining the name and type of the value column.\n",
    "    \n",
    "    Example:\n",
    "    solution_to_df(met_demand_solution, key_schema=[(\"product\", str), (\"location\", str), (\"period_rank\", int)], value_schema=(\"met_demand\", int))\n",
    "    \"\"\"\n",
    "    # get list of tuples keys from solution_dict\n",
    "    df = pl.DataFrame(list(solution_dict.keys()), schema=key_schema, orient=\"row\")\n",
    "    df = df.with_columns(\n",
    "        pl.Series(value_schema[0], list(solution_dict.values())).cast(value_schema[1])\n",
    "    )\n",
    "    return df\n",
    "\n",
    "def get_solver_solutions(solver, var_dict):\n",
    "    \"\"\"\n",
    "    Extracts the solution from the solver for the given variable dictionary.\n",
    "    var_dict: dictionary with variable keys.\n",
    "    Returns a dictionary with the variable keys and their values.\n",
    "    \"\"\"\n",
    "    return {keys: solver.Value(var_dict[keys]) for keys in var_dict.keys()}"
   ]
  },
  {
   "cell_type": "code",
   "execution_count": 141,
   "id": "b7287114",
   "metadata": {},
   "outputs": [],
   "source": [
    "\n",
    "met_demand_solution = get_solver_solutions(solver, met_demand)\n",
    "unmet_demand_solution = get_solver_solutions(solver, unmet_demand)\n",
    "expected_stocks_solution = get_solver_solutions(solver, expected_stocks)\n",
    "new_orders_solution = get_solver_solutions(solver, new_orders)"
   ]
  },
  {
   "cell_type": "code",
   "execution_count": 153,
   "id": "c0e91d9c",
   "metadata": {},
   "outputs": [],
   "source": [
    "df_met_demand = solution_to_df(\n",
    "    met_demand_solution, \n",
    "    key_schema=[(\"p_id\", pl.Int32), (\"s_id\", pl.Int32), (\"period_rank\", pl.Int32)], \n",
    "    value_schema=(\"met_demand\", pl.Int32)\n",
    ")\n",
    "df_unmet_demand = solution_to_df(\n",
    "    unmet_demand_solution,\n",
    "    key_schema=[(\"p_id\", pl.Int32), (\"s_id\", pl.Int32), (\"period_rank\", pl.Int32)], \n",
    "    value_schema=(\"unmet_demand\", pl.Int32)\n",
    ")\n",
    "\n",
    "df_expected_stocks = solution_to_df(\n",
    "    expected_stocks_solution, \n",
    "    key_schema=[(\"p_id\", pl.Int32), (\"s_id\", pl.Int32), (\"period_rank\", pl.Int32)], \n",
    "    value_schema=(\"ending_inventory\", pl.Int32)\n",
    ")\n",
    "# .join(\n",
    "#     df_periods, \n",
    "#     left_on=\"period_rank\", \n",
    "#     right_on=\"period_rank\", \n",
    "#     how=\"left\"\n",
    "# ).drop(\"period_rank\").rename({\"period\": \"exsk_period\"})\n",
    "\n",
    "df_new_orders = solution_to_df(\n",
    "    new_orders_solution, \n",
    "    key_schema=[(\"p_id\", pl.Int32), (\"s_id\", pl.Int32), (\"period_rank\", pl.Int32)], \n",
    "    value_schema=(\"recommended_orders\", pl.Int32)\n",
    ")"
   ]
  },
  {
   "cell_type": "code",
   "execution_count": null,
   "id": "6842a679",
   "metadata": {},
   "outputs": [],
   "source": [
    "with duckdb.connect(\"./data/duckdb.db\") as con:\n",
    "    # con.execute(\"CREATE OR REPLACE TABLE met_demand AS SELECT * FROM df_met_demand\")\n",
    "    # con.execute(\"CREATE OR REPLACE TABLE unmet_demand AS SELECT * FROM df_unmet_demand\")\n",
    "    con.execute(\n",
    "        \"\"\"\n",
    "        CREATE SEQUENCE IF NOT EXISTS expected_stocks_id_seq START 1;\n",
    "\n",
    "        CREATE TABLE IF NOT EXISTS expected_stocks (\n",
    "            exsk_id INTEGER PRIMARY KEY DEFAULT nextval('expected_stocks_id_seq'),\n",
    "            exsk_p_id INTEGER,\n",
    "            exsk_s_id INTEGER,\n",
    "            exsk_period DATE,\n",
    "            -- exsk_starting_inventory INTEGER CHECK (exsk_starting_inventory >= 0),\n",
    "            exsk_ending_inventory INTEGER CHECK (exsk_ending_inventory >= 0),\n",
    "            UNIQUE (exsk_p_id, exsk_s_id, exsk_period),\n",
    "            FOREIGN KEY (exsk_p_id) REFERENCES products(p_id),\n",
    "            FOREIGN KEY (exsk_s_id) REFERENCES stores(s_id) \n",
    "        );\n",
    "        \"\"\"\n",
    "    )\n",
    "    con.execute(\"INSERT INTO expected_stocks (exsk_p_id, exsk_s_id, exsk_period, exsk_ending_inventory) SELECT exsk_p_id, exsk_s_id, exsk_period, exsk_ending_inventory FROM df_expected_inventory\")\n",
    "    # con.execute(\"CREATE OR REPLACE TABLE new_orders AS SELECT * FROM df_new_orders\")"
   ]
  },
  {
   "cell_type": "code",
   "execution_count": 58,
   "id": "bbc7ee68",
   "metadata": {},
   "outputs": [],
   "source": [
    "with duckdb.connect(\"./data/duckdb.db\") as con:\n",
    "    df_exp = con.execute(\"SELECT * FROM expected_stocks\").pl()"
   ]
  },
  {
   "cell_type": "code",
   "execution_count": 160,
   "id": "d4cc1f5b",
   "metadata": {},
   "outputs": [],
   "source": [
    "# df_expected_stocks = \n",
    "df_output = pl.concat([df_current_stocks, df_expected_stocks], how=\"vertical\") \\\n",
    "        .with_columns(\n",
    "            starting_inventory=pl.col(\"ending_inventory\").shift(1) \\\n",
    "                .over(\"p_id\", \"s_id\", order_by=\"period_rank\")\n",
    "        ).filter(pl.col(\"period_rank\") > 0) \\\n",
    "        .join(df_met_demand, on=[\"p_id\", \"s_id\", \"period_rank\"], how=\"left\") \\\n",
    "        .join(df_unmet_demand, on=[\"p_id\", \"s_id\", \"period_rank\"], how=\"left\") \\\n",
    "        .join(df_new_orders, on=[\"p_id\", \"s_id\", \"period_rank\"], how=\"left\") \\\n",
    "        .join(df_periods, on=\"period_rank\", how=\"left\") \\\n",
    "        .drop(\"period_rank\")\n",
    "# df_expected_inventory"
   ]
  },
  {
   "cell_type": "code",
   "execution_count": 161,
   "id": "c8c01b51",
   "metadata": {},
   "outputs": [
    {
     "data": {
      "text/html": [
       "<div><style>\n",
       ".dataframe > thead > tr,\n",
       ".dataframe > tbody > tr {\n",
       "  text-align: right;\n",
       "  white-space: pre-wrap;\n",
       "}\n",
       "</style>\n",
       "<small>shape: (72, 8)</small><table border=\"1\" class=\"dataframe\"><thead><tr><th>pcpl_p_id</th><th>pcpl_s_id</th><th>pcpl_ending_inventory</th><th>pcpl_starting_inventory</th><th>pcpl_met_demand</th><th>pcpl_unmet_demand</th><th>pcpl_recommended_orders</th><th>pcpl_period</th></tr><tr><td>i32</td><td>i32</td><td>i32</td><td>i32</td><td>i32</td><td>i32</td><td>i32</td><td>date</td></tr></thead><tbody><tr><td>1</td><td>2</td><td>0</td><td>5</td><td>10</td><td>0</td><td>5</td><td>2024-01-01</td></tr><tr><td>1</td><td>2</td><td>0</td><td>0</td><td>10</td><td>0</td><td>10</td><td>2024-01-02</td></tr><tr><td>1</td><td>2</td><td>0</td><td>0</td><td>10</td><td>0</td><td>10</td><td>2024-01-03</td></tr><tr><td>1</td><td>2</td><td>0</td><td>0</td><td>5</td><td>0</td><td>5</td><td>2024-01-04</td></tr><tr><td>1</td><td>2</td><td>0</td><td>0</td><td>5</td><td>0</td><td>5</td><td>2024-01-05</td></tr><tr><td>&hellip;</td><td>&hellip;</td><td>&hellip;</td><td>&hellip;</td><td>&hellip;</td><td>&hellip;</td><td>&hellip;</td><td>&hellip;</td></tr><tr><td>4</td><td>1</td><td>0</td><td>0</td><td>12</td><td>0</td><td>12</td><td>2024-01-06</td></tr><tr><td>4</td><td>2</td><td>0</td><td>0</td><td>5</td><td>0</td><td>5</td><td>2024-01-06</td></tr><tr><td>4</td><td>3</td><td>0</td><td>0</td><td>10</td><td>0</td><td>10</td><td>2024-01-06</td></tr><tr><td>5</td><td>2</td><td>0</td><td>0</td><td>5</td><td>0</td><td>5</td><td>2024-01-06</td></tr><tr><td>5</td><td>3</td><td>0</td><td>0</td><td>7</td><td>0</td><td>7</td><td>2024-01-06</td></tr></tbody></table></div>"
      ],
      "text/plain": [
       "shape: (72, 8)\n",
       "┌───────────┬───────────┬────────────┬────────────┬────────────┬───────────┬───────────┬───────────┐\n",
       "│ pcpl_p_id ┆ pcpl_s_id ┆ pcpl_endin ┆ pcpl_start ┆ pcpl_met_d ┆ pcpl_unme ┆ pcpl_reco ┆ pcpl_peri │\n",
       "│ ---       ┆ ---       ┆ g_inventor ┆ ing_invent ┆ emand      ┆ t_demand  ┆ mmended_o ┆ od        │\n",
       "│ i32       ┆ i32       ┆ y          ┆ ory        ┆ ---        ┆ ---       ┆ rders     ┆ ---       │\n",
       "│           ┆           ┆ ---        ┆ ---        ┆ i32        ┆ i32       ┆ ---       ┆ date      │\n",
       "│           ┆           ┆ i32        ┆ i32        ┆            ┆           ┆ i32       ┆           │\n",
       "╞═══════════╪═══════════╪════════════╪════════════╪════════════╪═══════════╪═══════════╪═══════════╡\n",
       "│ 1         ┆ 2         ┆ 0          ┆ 5          ┆ 10         ┆ 0         ┆ 5         ┆ 2024-01-0 │\n",
       "│           ┆           ┆            ┆            ┆            ┆           ┆           ┆ 1         │\n",
       "│ 1         ┆ 2         ┆ 0          ┆ 0          ┆ 10         ┆ 0         ┆ 10        ┆ 2024-01-0 │\n",
       "│           ┆           ┆            ┆            ┆            ┆           ┆           ┆ 2         │\n",
       "│ 1         ┆ 2         ┆ 0          ┆ 0          ┆ 10         ┆ 0         ┆ 10        ┆ 2024-01-0 │\n",
       "│           ┆           ┆            ┆            ┆            ┆           ┆           ┆ 3         │\n",
       "│ 1         ┆ 2         ┆ 0          ┆ 0          ┆ 5          ┆ 0         ┆ 5         ┆ 2024-01-0 │\n",
       "│           ┆           ┆            ┆            ┆            ┆           ┆           ┆ 4         │\n",
       "│ 1         ┆ 2         ┆ 0          ┆ 0          ┆ 5          ┆ 0         ┆ 5         ┆ 2024-01-0 │\n",
       "│           ┆           ┆            ┆            ┆            ┆           ┆           ┆ 5         │\n",
       "│ …         ┆ …         ┆ …          ┆ …          ┆ …          ┆ …         ┆ …         ┆ …         │\n",
       "│ 4         ┆ 1         ┆ 0          ┆ 0          ┆ 12         ┆ 0         ┆ 12        ┆ 2024-01-0 │\n",
       "│           ┆           ┆            ┆            ┆            ┆           ┆           ┆ 6         │\n",
       "│ 4         ┆ 2         ┆ 0          ┆ 0          ┆ 5          ┆ 0         ┆ 5         ┆ 2024-01-0 │\n",
       "│           ┆           ┆            ┆            ┆            ┆           ┆           ┆ 6         │\n",
       "│ 4         ┆ 3         ┆ 0          ┆ 0          ┆ 10         ┆ 0         ┆ 10        ┆ 2024-01-0 │\n",
       "│           ┆           ┆            ┆            ┆            ┆           ┆           ┆ 6         │\n",
       "│ 5         ┆ 2         ┆ 0          ┆ 0          ┆ 5          ┆ 0         ┆ 5         ┆ 2024-01-0 │\n",
       "│           ┆           ┆            ┆            ┆            ┆           ┆           ┆ 6         │\n",
       "│ 5         ┆ 3         ┆ 0          ┆ 0          ┆ 7          ┆ 0         ┆ 7         ┆ 2024-01-0 │\n",
       "│           ┆           ┆            ┆            ┆            ┆           ┆           ┆ 6         │\n",
       "└───────────┴───────────┴────────────┴────────────┴────────────┴───────────┴───────────┴───────────┘"
      ]
     },
     "execution_count": 161,
     "metadata": {},
     "output_type": "execute_result"
    }
   ],
   "source": [
    "# I will name this table as procurement_plans \n",
    "df_output.select(pl.all().name.prefix(\"pcpl_\"))\n",
    "# - \"\",\n"
   ]
  },
  {
   "cell_type": "code",
   "execution_count": 172,
   "id": "f9549cfe",
   "metadata": {},
   "outputs": [],
   "source": [
    "import plotly.graph_objects as go\n",
    "\n",
    "def plot_inventory_balance(df_output, agg_level=None):\n",
    "    \"\"\"\n",
    "    Visualiza el balance de inventario agregando por el nivel deseado (agg_level).\n",
    "    agg_level: lista de columnas para agrupar, por ejemplo [\"product\"], [\"location\"], [\"product\", \"location\"], o None/[] para total.\n",
    "    \"\"\"\n",
    "\n",
    "    # Columnas a sumar\n",
    "    cols_to_sum = [\"starting_inventory\", \"recommended_orders\", \"met_demand\"]\n",
    "\n",
    "    # Si agg_level es None o vacío, solo agrupa por periodo\n",
    "    if not agg_level:\n",
    "        group_cols = [\"period\"]\n",
    "    else:\n",
    "        group_cols = agg_level + [\"period\"]\n",
    "\n",
    "    df_plot = df_output.group_by(group_cols).agg([\n",
    "        pl.col(c).sum().alias(c) for c in cols_to_sum if c in df_output.columns\n",
    "    ]).sort(\"period\")\n",
    "\n",
    "    # Si hay agregación total, solo una gráfica\n",
    "    if not agg_level:\n",
    "        title = \"Total\"\n",
    "        figs = [(\"\", df_plot)]\n",
    "    else:\n",
    "        figs = list(df_plot.group_by(agg_level))\n",
    "\n",
    "    for keys, subdf in figs:\n",
    "        if agg_level:\n",
    "            title = \" - \".join(f\"{k}: {v}\" for k, v in zip(agg_level, keys))\n",
    "        fig = go.Figure()\n",
    "\n",
    "        if \"starting_inventory\" in subdf.columns:\n",
    "            fig.add_trace(go.Bar(\n",
    "                x=subdf[\"period\"].to_list(),\n",
    "                y=subdf[\"starting_inventory\"].to_list(),\n",
    "                name='Initial Inventory',\n",
    "                marker_color='rgb(158,202,225)',\n",
    "                # marker_line_color='rgb(8,48,107)',\n",
    "            ))\n",
    "\n",
    "        if \"recommended_orders\" in subdf.columns:\n",
    "            fig.add_trace(go.Bar(\n",
    "                x=subdf[\"period\"].to_list(),\n",
    "                y=subdf[\"recommended_orders\"].to_list(),\n",
    "                name='Expected New Orders',\n",
    "                marker_color='rgb(158,100,225)',\n",
    "                # marker_line_color='rgb(8,48,107)',\n",
    "            ))\n",
    "\n",
    "        if \"met_demand\" in subdf.columns:\n",
    "            fig.add_trace(go.Bar(\n",
    "                x=subdf[\"period\"].to_list(),\n",
    "                y=[-v for v in subdf[\"met_demand\"].to_list()],\n",
    "                name='Expected Demand Fulfilled',\n",
    "                marker_color='green',\n",
    "                # marker_color='rgb(158,100,225)',\n",
    "                # marker_line_color='rgb(8,107,48)',\n",
    "            ))\n",
    "        #marker_color='rgb(158,202,225)', marker_line_color='rgb(8,48,107)'\n",
    "        fig.update_traces(marker_line_width=1.5, opacity=0.6)\n",
    "\n",
    "        fig.update_layout(\n",
    "            title=f'Inventory Balance ({title})',\n",
    "            barmode='relative',\n",
    "            xaxis_title='Period',\n",
    "            yaxis_title='Quantity',\n",
    "            legend_title='Legend'\n",
    "        )\n",
    "        fig.show()"
   ]
  },
  {
   "cell_type": "code",
   "execution_count": 173,
   "id": "bb7df0d5",
   "metadata": {},
   "outputs": [
    {
     "data": {
      "application/vnd.plotly.v1+json": {
       "config": {
        "plotlyServerURL": "https://plot.ly"
       },
       "data": [
        {
         "marker": {
          "color": "rgb(158,202,225)",
          "line": {
           "width": 1.5
          }
         },
         "name": "Initial Inventory",
         "opacity": 0.6,
         "type": "bar",
         "x": [
          "2024-01-01",
          "2024-01-02",
          "2024-01-03",
          "2024-01-04",
          "2024-01-05",
          "2024-01-06"
         ],
         "y": [
          73,
          3,
          0,
          0,
          0,
          0
         ]
        },
        {
         "marker": {
          "color": "rgb(158,100,225)",
          "line": {
           "width": 1.5
          }
         },
         "name": "Expected New Orders",
         "opacity": 0.6,
         "type": "bar",
         "x": [
          "2024-01-01",
          "2024-01-02",
          "2024-01-03",
          "2024-01-04",
          "2024-01-05",
          "2024-01-06"
         ],
         "y": [
          48,
          108,
          108,
          106,
          113,
          103
         ]
        },
        {
         "marker": {
          "color": "green",
          "line": {
           "width": 1.5
          }
         },
         "name": "Expected Demand Fulfilled",
         "opacity": 0.6,
         "type": "bar",
         "x": [
          "2024-01-01",
          "2024-01-02",
          "2024-01-03",
          "2024-01-04",
          "2024-01-05",
          "2024-01-06"
         ],
         "y": [
          -118,
          -111,
          -108,
          -106,
          -113,
          -103
         ]
        }
       ],
       "layout": {
        "barmode": "relative",
        "legend": {
         "title": {
          "text": "Legend"
         }
        },
        "template": {
         "data": {
          "bar": [
           {
            "error_x": {
             "color": "#2a3f5f"
            },
            "error_y": {
             "color": "#2a3f5f"
            },
            "marker": {
             "line": {
              "color": "#E5ECF6",
              "width": 0.5
             },
             "pattern": {
              "fillmode": "overlay",
              "size": 10,
              "solidity": 0.2
             }
            },
            "type": "bar"
           }
          ],
          "barpolar": [
           {
            "marker": {
             "line": {
              "color": "#E5ECF6",
              "width": 0.5
             },
             "pattern": {
              "fillmode": "overlay",
              "size": 10,
              "solidity": 0.2
             }
            },
            "type": "barpolar"
           }
          ],
          "carpet": [
           {
            "aaxis": {
             "endlinecolor": "#2a3f5f",
             "gridcolor": "white",
             "linecolor": "white",
             "minorgridcolor": "white",
             "startlinecolor": "#2a3f5f"
            },
            "baxis": {
             "endlinecolor": "#2a3f5f",
             "gridcolor": "white",
             "linecolor": "white",
             "minorgridcolor": "white",
             "startlinecolor": "#2a3f5f"
            },
            "type": "carpet"
           }
          ],
          "choropleth": [
           {
            "colorbar": {
             "outlinewidth": 0,
             "ticks": ""
            },
            "type": "choropleth"
           }
          ],
          "contour": [
           {
            "colorbar": {
             "outlinewidth": 0,
             "ticks": ""
            },
            "colorscale": [
             [
              0,
              "#0d0887"
             ],
             [
              0.1111111111111111,
              "#46039f"
             ],
             [
              0.2222222222222222,
              "#7201a8"
             ],
             [
              0.3333333333333333,
              "#9c179e"
             ],
             [
              0.4444444444444444,
              "#bd3786"
             ],
             [
              0.5555555555555556,
              "#d8576b"
             ],
             [
              0.6666666666666666,
              "#ed7953"
             ],
             [
              0.7777777777777778,
              "#fb9f3a"
             ],
             [
              0.8888888888888888,
              "#fdca26"
             ],
             [
              1,
              "#f0f921"
             ]
            ],
            "type": "contour"
           }
          ],
          "contourcarpet": [
           {
            "colorbar": {
             "outlinewidth": 0,
             "ticks": ""
            },
            "type": "contourcarpet"
           }
          ],
          "heatmap": [
           {
            "colorbar": {
             "outlinewidth": 0,
             "ticks": ""
            },
            "colorscale": [
             [
              0,
              "#0d0887"
             ],
             [
              0.1111111111111111,
              "#46039f"
             ],
             [
              0.2222222222222222,
              "#7201a8"
             ],
             [
              0.3333333333333333,
              "#9c179e"
             ],
             [
              0.4444444444444444,
              "#bd3786"
             ],
             [
              0.5555555555555556,
              "#d8576b"
             ],
             [
              0.6666666666666666,
              "#ed7953"
             ],
             [
              0.7777777777777778,
              "#fb9f3a"
             ],
             [
              0.8888888888888888,
              "#fdca26"
             ],
             [
              1,
              "#f0f921"
             ]
            ],
            "type": "heatmap"
           }
          ],
          "heatmapgl": [
           {
            "colorbar": {
             "outlinewidth": 0,
             "ticks": ""
            },
            "colorscale": [
             [
              0,
              "#0d0887"
             ],
             [
              0.1111111111111111,
              "#46039f"
             ],
             [
              0.2222222222222222,
              "#7201a8"
             ],
             [
              0.3333333333333333,
              "#9c179e"
             ],
             [
              0.4444444444444444,
              "#bd3786"
             ],
             [
              0.5555555555555556,
              "#d8576b"
             ],
             [
              0.6666666666666666,
              "#ed7953"
             ],
             [
              0.7777777777777778,
              "#fb9f3a"
             ],
             [
              0.8888888888888888,
              "#fdca26"
             ],
             [
              1,
              "#f0f921"
             ]
            ],
            "type": "heatmapgl"
           }
          ],
          "histogram": [
           {
            "marker": {
             "pattern": {
              "fillmode": "overlay",
              "size": 10,
              "solidity": 0.2
             }
            },
            "type": "histogram"
           }
          ],
          "histogram2d": [
           {
            "colorbar": {
             "outlinewidth": 0,
             "ticks": ""
            },
            "colorscale": [
             [
              0,
              "#0d0887"
             ],
             [
              0.1111111111111111,
              "#46039f"
             ],
             [
              0.2222222222222222,
              "#7201a8"
             ],
             [
              0.3333333333333333,
              "#9c179e"
             ],
             [
              0.4444444444444444,
              "#bd3786"
             ],
             [
              0.5555555555555556,
              "#d8576b"
             ],
             [
              0.6666666666666666,
              "#ed7953"
             ],
             [
              0.7777777777777778,
              "#fb9f3a"
             ],
             [
              0.8888888888888888,
              "#fdca26"
             ],
             [
              1,
              "#f0f921"
             ]
            ],
            "type": "histogram2d"
           }
          ],
          "histogram2dcontour": [
           {
            "colorbar": {
             "outlinewidth": 0,
             "ticks": ""
            },
            "colorscale": [
             [
              0,
              "#0d0887"
             ],
             [
              0.1111111111111111,
              "#46039f"
             ],
             [
              0.2222222222222222,
              "#7201a8"
             ],
             [
              0.3333333333333333,
              "#9c179e"
             ],
             [
              0.4444444444444444,
              "#bd3786"
             ],
             [
              0.5555555555555556,
              "#d8576b"
             ],
             [
              0.6666666666666666,
              "#ed7953"
             ],
             [
              0.7777777777777778,
              "#fb9f3a"
             ],
             [
              0.8888888888888888,
              "#fdca26"
             ],
             [
              1,
              "#f0f921"
             ]
            ],
            "type": "histogram2dcontour"
           }
          ],
          "mesh3d": [
           {
            "colorbar": {
             "outlinewidth": 0,
             "ticks": ""
            },
            "type": "mesh3d"
           }
          ],
          "parcoords": [
           {
            "line": {
             "colorbar": {
              "outlinewidth": 0,
              "ticks": ""
             }
            },
            "type": "parcoords"
           }
          ],
          "pie": [
           {
            "automargin": true,
            "type": "pie"
           }
          ],
          "scatter": [
           {
            "fillpattern": {
             "fillmode": "overlay",
             "size": 10,
             "solidity": 0.2
            },
            "type": "scatter"
           }
          ],
          "scatter3d": [
           {
            "line": {
             "colorbar": {
              "outlinewidth": 0,
              "ticks": ""
             }
            },
            "marker": {
             "colorbar": {
              "outlinewidth": 0,
              "ticks": ""
             }
            },
            "type": "scatter3d"
           }
          ],
          "scattercarpet": [
           {
            "marker": {
             "colorbar": {
              "outlinewidth": 0,
              "ticks": ""
             }
            },
            "type": "scattercarpet"
           }
          ],
          "scattergeo": [
           {
            "marker": {
             "colorbar": {
              "outlinewidth": 0,
              "ticks": ""
             }
            },
            "type": "scattergeo"
           }
          ],
          "scattergl": [
           {
            "marker": {
             "colorbar": {
              "outlinewidth": 0,
              "ticks": ""
             }
            },
            "type": "scattergl"
           }
          ],
          "scattermapbox": [
           {
            "marker": {
             "colorbar": {
              "outlinewidth": 0,
              "ticks": ""
             }
            },
            "type": "scattermapbox"
           }
          ],
          "scatterpolar": [
           {
            "marker": {
             "colorbar": {
              "outlinewidth": 0,
              "ticks": ""
             }
            },
            "type": "scatterpolar"
           }
          ],
          "scatterpolargl": [
           {
            "marker": {
             "colorbar": {
              "outlinewidth": 0,
              "ticks": ""
             }
            },
            "type": "scatterpolargl"
           }
          ],
          "scatterternary": [
           {
            "marker": {
             "colorbar": {
              "outlinewidth": 0,
              "ticks": ""
             }
            },
            "type": "scatterternary"
           }
          ],
          "surface": [
           {
            "colorbar": {
             "outlinewidth": 0,
             "ticks": ""
            },
            "colorscale": [
             [
              0,
              "#0d0887"
             ],
             [
              0.1111111111111111,
              "#46039f"
             ],
             [
              0.2222222222222222,
              "#7201a8"
             ],
             [
              0.3333333333333333,
              "#9c179e"
             ],
             [
              0.4444444444444444,
              "#bd3786"
             ],
             [
              0.5555555555555556,
              "#d8576b"
             ],
             [
              0.6666666666666666,
              "#ed7953"
             ],
             [
              0.7777777777777778,
              "#fb9f3a"
             ],
             [
              0.8888888888888888,
              "#fdca26"
             ],
             [
              1,
              "#f0f921"
             ]
            ],
            "type": "surface"
           }
          ],
          "table": [
           {
            "cells": {
             "fill": {
              "color": "#EBF0F8"
             },
             "line": {
              "color": "white"
             }
            },
            "header": {
             "fill": {
              "color": "#C8D4E3"
             },
             "line": {
              "color": "white"
             }
            },
            "type": "table"
           }
          ]
         },
         "layout": {
          "annotationdefaults": {
           "arrowcolor": "#2a3f5f",
           "arrowhead": 0,
           "arrowwidth": 1
          },
          "autotypenumbers": "strict",
          "coloraxis": {
           "colorbar": {
            "outlinewidth": 0,
            "ticks": ""
           }
          },
          "colorscale": {
           "diverging": [
            [
             0,
             "#8e0152"
            ],
            [
             0.1,
             "#c51b7d"
            ],
            [
             0.2,
             "#de77ae"
            ],
            [
             0.3,
             "#f1b6da"
            ],
            [
             0.4,
             "#fde0ef"
            ],
            [
             0.5,
             "#f7f7f7"
            ],
            [
             0.6,
             "#e6f5d0"
            ],
            [
             0.7,
             "#b8e186"
            ],
            [
             0.8,
             "#7fbc41"
            ],
            [
             0.9,
             "#4d9221"
            ],
            [
             1,
             "#276419"
            ]
           ],
           "sequential": [
            [
             0,
             "#0d0887"
            ],
            [
             0.1111111111111111,
             "#46039f"
            ],
            [
             0.2222222222222222,
             "#7201a8"
            ],
            [
             0.3333333333333333,
             "#9c179e"
            ],
            [
             0.4444444444444444,
             "#bd3786"
            ],
            [
             0.5555555555555556,
             "#d8576b"
            ],
            [
             0.6666666666666666,
             "#ed7953"
            ],
            [
             0.7777777777777778,
             "#fb9f3a"
            ],
            [
             0.8888888888888888,
             "#fdca26"
            ],
            [
             1,
             "#f0f921"
            ]
           ],
           "sequentialminus": [
            [
             0,
             "#0d0887"
            ],
            [
             0.1111111111111111,
             "#46039f"
            ],
            [
             0.2222222222222222,
             "#7201a8"
            ],
            [
             0.3333333333333333,
             "#9c179e"
            ],
            [
             0.4444444444444444,
             "#bd3786"
            ],
            [
             0.5555555555555556,
             "#d8576b"
            ],
            [
             0.6666666666666666,
             "#ed7953"
            ],
            [
             0.7777777777777778,
             "#fb9f3a"
            ],
            [
             0.8888888888888888,
             "#fdca26"
            ],
            [
             1,
             "#f0f921"
            ]
           ]
          },
          "colorway": [
           "#636efa",
           "#EF553B",
           "#00cc96",
           "#ab63fa",
           "#FFA15A",
           "#19d3f3",
           "#FF6692",
           "#B6E880",
           "#FF97FF",
           "#FECB52"
          ],
          "font": {
           "color": "#2a3f5f"
          },
          "geo": {
           "bgcolor": "white",
           "lakecolor": "white",
           "landcolor": "#E5ECF6",
           "showlakes": true,
           "showland": true,
           "subunitcolor": "white"
          },
          "hoverlabel": {
           "align": "left"
          },
          "hovermode": "closest",
          "mapbox": {
           "style": "light"
          },
          "paper_bgcolor": "white",
          "plot_bgcolor": "#E5ECF6",
          "polar": {
           "angularaxis": {
            "gridcolor": "white",
            "linecolor": "white",
            "ticks": ""
           },
           "bgcolor": "#E5ECF6",
           "radialaxis": {
            "gridcolor": "white",
            "linecolor": "white",
            "ticks": ""
           }
          },
          "scene": {
           "xaxis": {
            "backgroundcolor": "#E5ECF6",
            "gridcolor": "white",
            "gridwidth": 2,
            "linecolor": "white",
            "showbackground": true,
            "ticks": "",
            "zerolinecolor": "white"
           },
           "yaxis": {
            "backgroundcolor": "#E5ECF6",
            "gridcolor": "white",
            "gridwidth": 2,
            "linecolor": "white",
            "showbackground": true,
            "ticks": "",
            "zerolinecolor": "white"
           },
           "zaxis": {
            "backgroundcolor": "#E5ECF6",
            "gridcolor": "white",
            "gridwidth": 2,
            "linecolor": "white",
            "showbackground": true,
            "ticks": "",
            "zerolinecolor": "white"
           }
          },
          "shapedefaults": {
           "line": {
            "color": "#2a3f5f"
           }
          },
          "ternary": {
           "aaxis": {
            "gridcolor": "white",
            "linecolor": "white",
            "ticks": ""
           },
           "baxis": {
            "gridcolor": "white",
            "linecolor": "white",
            "ticks": ""
           },
           "bgcolor": "#E5ECF6",
           "caxis": {
            "gridcolor": "white",
            "linecolor": "white",
            "ticks": ""
           }
          },
          "title": {
           "x": 0.05
          },
          "xaxis": {
           "automargin": true,
           "gridcolor": "white",
           "linecolor": "white",
           "ticks": "",
           "title": {
            "standoff": 15
           },
           "zerolinecolor": "white",
           "zerolinewidth": 2
          },
          "yaxis": {
           "automargin": true,
           "gridcolor": "white",
           "linecolor": "white",
           "ticks": "",
           "title": {
            "standoff": 15
           },
           "zerolinecolor": "white",
           "zerolinewidth": 2
          }
         }
        },
        "title": {
         "text": "Inventory Balance (Total)"
        },
        "xaxis": {
         "title": {
          "text": "Period"
         }
        },
        "yaxis": {
         "title": {
          "text": "Quantity"
         }
        }
       }
      }
     },
     "metadata": {},
     "output_type": "display_data"
    }
   ],
   "source": [
    "plot_inventory_balance(df_output, )# agg_level=[\"location\", \"product\"] )"
   ]
  },
  {
   "cell_type": "code",
   "execution_count": null,
   "id": "92723273",
   "metadata": {},
   "outputs": [],
   "source": [
    "import plotly.graph_objects as go\n",
    "\n",
    "def plot_demand_forecast(df_output, agg_level=None):\n",
    "    \"\"\"\n",
    "    Visualiza df_output agregando por el nivel deseado (agg_level).\n",
    "    agg_level: lista de columnas para agrupar, por ejemplo [\"product\"], [\"location\"], [\"product\", \"location\"], o None/[] para total.\n",
    "    \"\"\"\n",
    "    # Asegúrate de que 'period' es string para el eje x\n",
    "    df_plot = df_output.with_columns(\n",
    "        pl.col(\"period\").alias(\"period_str\")#.dt.strftime(\"%Y-%m-%d\").alias(\"period_str\")\n",
    "    )\n",
    "\n",
    "    # Columnas a sumar\n",
    "    cols_to_sum = [\"mean\", \"met_demand\", \"unmet_demand\"] #, \"quantity\", \"ending_inventory\"]\n",
    "\n",
    "    # Si agg_level es None o vacío, solo agrupa por periodo\n",
    "    if not agg_level:\n",
    "        group_cols = [\"period_str\"]\n",
    "    else:\n",
    "        group_cols = agg_level + [\"period_str\"]\n",
    "\n",
    "    df_plot = df_plot.group_by(group_cols).agg([\n",
    "        pl.col(c).sum().alias(c) for c in cols_to_sum if c in df_plot.columns\n",
    "    ]).sort(\"period_str\")\n",
    "\n",
    "    # Si hay agregación total, solo una gráfica\n",
    "    if not agg_level:\n",
    "        title = \"Total\"\n",
    "        figs = [(\"\", df_plot)]\n",
    "    else:\n",
    "        figs = list(df_plot.group_by(agg_level))\n",
    "\n",
    "    for keys, subdf in figs:\n",
    "        if agg_level:\n",
    "            title = \" - \".join(f\"{k}: {v}\" for k, v in zip(agg_level, keys))\n",
    "        fig = go.Figure()\n",
    "\n",
    "        if \"mean\" in subdf.columns:\n",
    "            fig.add_trace(go.Scatter(\n",
    "                x=subdf[\"period_str\"].to_list(),\n",
    "                y=subdf[\"mean\"].to_list(),\n",
    "                mode='lines+markers',\n",
    "                name='Demand Forecast',\n",
    "                line=dict(color='blue')\n",
    "            ))\n",
    "        if \"met_demand\" in subdf.columns:\n",
    "            fig.add_trace(go.Bar(\n",
    "                x=subdf[\"period_str\"].to_list(),\n",
    "                y=subdf[\"met_demand\"].to_list(),\n",
    "                name='Expected Demand Fulfilled',\n",
    "                marker_color='green'\n",
    "            ))\n",
    "        if \"unmet_demand\" in subdf.columns:\n",
    "            fig.add_trace(go.Bar(\n",
    "                x=subdf[\"period_str\"].to_list(),\n",
    "                y=subdf[\"unmet_demand\"].to_list(),\n",
    "                name='Expected Demand Unfulfilled',\n",
    "                marker_color='red'\n",
    "            ))\n",
    "        if \"quantity\" in subdf.columns:\n",
    "            fig.add_trace(go.Bar(\n",
    "                x=subdf[\"period_str\"].to_list(),\n",
    "                y=subdf[\"quantity\"].to_list(),\n",
    "                name='New Orders',\n",
    "                marker_color='orange'\n",
    "            ))\n",
    "        if \"ending_inventory\" in subdf.columns:\n",
    "            fig.add_trace(go.Bar(\n",
    "                x=subdf[\"period_str\"].to_list(),\n",
    "                y=subdf[\"ending_inventory\"].to_list(),\n",
    "                name='Ending Inventory',\n",
    "                marker_color='purple'\n",
    "            ))\n",
    "\n",
    "        fig.update_layout(\n",
    "            title=f'Demand & Inventory ({title})',\n",
    "            barmode='stack',\n",
    "            xaxis_title='Period',\n",
    "            yaxis_title='Quantity',\n",
    "            legend_title='Legend'\n",
    "        )\n",
    "        fig.show()"
   ]
  },
  {
   "cell_type": "code",
   "execution_count": null,
   "id": "9e7b0163",
   "metadata": {},
   "outputs": [],
   "source": [
    "plot_demand_forecast(df_output, agg_level=None)"
   ]
  }
 ],
 "metadata": {
  "kernelspec": {
   "display_name": "operation-research",
   "language": "python",
   "name": "python3"
  },
  "language_info": {
   "codemirror_mode": {
    "name": "ipython",
    "version": 3
   },
   "file_extension": ".py",
   "mimetype": "text/x-python",
   "name": "python",
   "nbconvert_exporter": "python",
   "pygments_lexer": "ipython3",
   "version": "3.10.16"
  }
 },
 "nbformat": 4,
 "nbformat_minor": 5
}
