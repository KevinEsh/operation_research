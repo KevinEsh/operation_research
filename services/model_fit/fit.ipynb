{
 "cells": [
  {
   "cell_type": "code",
   "execution_count": 76,
   "id": "8f90b037",
   "metadata": {},
   "outputs": [],
   "source": [
    "# 8. LightGBM train\n",
    "import lightgbm as lgb\n",
    "import polars as pl\n",
    "\n",
    "\n",
    "x_train = pl.read_parquet(\"../../data/favorita_dataset/subset/x_train.parquet\")\n",
    "y_train = pl.read_parquet(\"../../data/favorita_dataset/subset/y_train.parquet\")\n",
    "c_train = pl.read_parquet(\"../../data/favorita_dataset/subset/dates_train.parquet\")\n",
    "\n",
    "x_valid = pl.read_parquet(\"../../data/favorita_dataset/subset/x_valid.parquet\")\n",
    "y_valid = pl.read_parquet(\"../../data/favorita_dataset/subset/y_valid.parquet\")\n",
    "c_valid = pl.read_parquet(\"../../data/favorita_dataset/subset/dates_valid.parquet\")\n",
    "\n"
   ]
  },
  {
   "cell_type": "code",
   "execution_count": 77,
   "id": "3b8e5439",
   "metadata": {},
   "outputs": [],
   "source": [
    "import polars.selectors as cs\n",
    "\n",
    "# get all categorical columns\n",
    "categorical_cols = x_train.select(cs.categorical(), cs.integer()).columns"
   ]
  },
  {
   "cell_type": "code",
   "execution_count": 78,
   "id": "c7ca5122",
   "metadata": {},
   "outputs": [
    {
     "data": {
      "text/plain": [
       "['family',\n",
       " 'class',\n",
       " 'store_id',\n",
       " 'product_id',\n",
       " 'is_on_promotion',\n",
       " 'weekday',\n",
       " 'month',\n",
       " 'weekofyear',\n",
       " 'dayofyear',\n",
       " 'sum_next_3d_is_on_promotion',\n",
       " 'sum_next_7d_is_on_promotion',\n",
       " 'sum_next_14d_is_on_promotion',\n",
       " 'perishable']"
      ]
     },
     "execution_count": 78,
     "metadata": {},
     "output_type": "execute_result"
    }
   ],
   "source": [
    "categorical_cols"
   ]
  },
  {
   "cell_type": "code",
   "execution_count": 40,
   "id": "82213119",
   "metadata": {},
   "outputs": [
    {
     "name": "stdout",
     "output_type": "stream",
     "text": [
      "==================================================\n",
      "==================================================\n",
      "[LightGBM] [Warning] Met categorical feature which contains sparse values. Consider renumbering to consecutive integers started from zero\n",
      "[LightGBM] [Warning] Categorical features with more bins than the configured maximum bin number found.\n",
      "[LightGBM] [Warning] For categorical features, max_bin and max_bin_by_feature may be ignored with a large number of categories.\n",
      "[LightGBM] [Info] Auto-choosing col-wise multi-threading, the overhead of testing was 0.001745 seconds.\n",
      "You can set `force_col_wise=true` to remove the overhead.\n",
      "[LightGBM] [Info] Total Bins 10218\n",
      "[LightGBM] [Info] Number of data points in the train set: 29059, number of used features: 64\n",
      "[LightGBM] [Info] Start training from score 3.713340\n",
      "Training until validation scores don't improve for 125 rounds\n",
      "[25]\ttraining's l2: 0.306271\tvalid_1's l2: 0.321648\n",
      "[50]\ttraining's l2: 0.176342\tvalid_1's l2: 0.193512\n",
      "[75]\ttraining's l2: 0.125771\tvalid_1's l2: 0.145189\n",
      "[100]\ttraining's l2: 0.101676\tvalid_1's l2: 0.123376\n",
      "[125]\ttraining's l2: 0.0892252\tvalid_1's l2: 0.113927\n",
      "[150]\ttraining's l2: 0.0823788\tvalid_1's l2: 0.109231\n",
      "[175]\ttraining's l2: 0.0784748\tvalid_1's l2: 0.107135\n",
      "[200]\ttraining's l2: 0.0760689\tvalid_1's l2: 0.105831\n",
      "[225]\ttraining's l2: 0.0728269\tvalid_1's l2: 0.103962\n",
      "[250]\ttraining's l2: 0.0702399\tvalid_1's l2: 0.102398\n",
      "[275]\ttraining's l2: 0.0684989\tvalid_1's l2: 0.101671\n",
      "[300]\ttraining's l2: 0.0668794\tvalid_1's l2: 0.101086\n",
      "[325]\ttraining's l2: 0.0654113\tvalid_1's l2: 0.100432\n",
      "[350]\ttraining's l2: 0.0638924\tvalid_1's l2: 0.0996733\n",
      "[375]\ttraining's l2: 0.062643\tvalid_1's l2: 0.0992253\n",
      "[400]\ttraining's l2: 0.0616257\tvalid_1's l2: 0.0988273\n",
      "[425]\ttraining's l2: 0.0604204\tvalid_1's l2: 0.0984781\n",
      "[450]\ttraining's l2: 0.0592725\tvalid_1's l2: 0.0980169\n",
      "[475]\ttraining's l2: 0.0583739\tvalid_1's l2: 0.0978168\n",
      "[500]\ttraining's l2: 0.0574016\tvalid_1's l2: 0.0978865\n",
      "[525]\ttraining's l2: 0.056571\tvalid_1's l2: 0.0976726\n",
      "[550]\ttraining's l2: 0.0556748\tvalid_1's l2: 0.0974364\n",
      "[575]\ttraining's l2: 0.0549508\tvalid_1's l2: 0.0975145\n",
      "[600]\ttraining's l2: 0.0540712\tvalid_1's l2: 0.0973305\n",
      "[625]\ttraining's l2: 0.0532602\tvalid_1's l2: 0.097274\n",
      "[650]\ttraining's l2: 0.0526444\tvalid_1's l2: 0.0970604\n",
      "[675]\ttraining's l2: 0.0520292\tvalid_1's l2: 0.0969858\n",
      "[700]\ttraining's l2: 0.0513885\tvalid_1's l2: 0.0969107\n",
      "[725]\ttraining's l2: 0.0507872\tvalid_1's l2: 0.0968611\n",
      "[750]\ttraining's l2: 0.0501673\tvalid_1's l2: 0.0968803\n",
      "[775]\ttraining's l2: 0.0496026\tvalid_1's l2: 0.0967983\n",
      "[800]\ttraining's l2: 0.0489798\tvalid_1's l2: 0.0967404\n",
      "[825]\ttraining's l2: 0.0482873\tvalid_1's l2: 0.096825\n",
      "[850]\ttraining's l2: 0.0478082\tvalid_1's l2: 0.0968273\n",
      "[875]\ttraining's l2: 0.047261\tvalid_1's l2: 0.0968681\n",
      "[900]\ttraining's l2: 0.0467495\tvalid_1's l2: 0.0968128\n",
      "[925]\ttraining's l2: 0.0462746\tvalid_1's l2: 0.0967647\n",
      "Early stopping, best iteration is:\n",
      "[803]\ttraining's l2: 0.0488763\tvalid_1's l2: 0.0967338\n"
     ]
    }
   ],
   "source": [
    "params = {\n",
    "    'num_leaves': 50,\n",
    "    'objective': 'regression',\n",
    "    'min_data_in_leaf': 10, #200,\n",
    "    'learning_rate': 0.02,\n",
    "    'feature_fraction': 0.1,#0.8,\n",
    "    'bagging_fraction': 0.7,\n",
    "    'bagging_freq': 1,\n",
    "    'metric': 'l2',\n",
    "    'num_threads': 16\n",
    "}\n",
    "\n",
    "MAX_ROUNDS = 5000\n",
    "# val_pred = []\n",
    "# test_pred = []\n",
    "# cate_vars = []\n",
    "# for i in range(16):\n",
    "print(\"=\" * 50)\n",
    "# print(\"Step %d\" % (i+1))\n",
    "print(\"=\" * 50)\n",
    "dataset_train = lgb.Dataset(\n",
    "    x_train.to_pandas(), label=y_train.get_column(\"log_units_sold\").to_numpy(),\n",
    "    categorical_feature=categorical_cols,\n",
    "    # weight=pd.concat([items[\"perishable\"]] * num_days) * 0.25 + 1\n",
    ")\n",
    "\n",
    "dataset_valid = lgb.Dataset(\n",
    "    x_valid.to_pandas(), label=y_valid.get_column(\"log_units_sold\").to_numpy(), \n",
    "    reference=dataset_train,\n",
    "    # weight=items[\"perishable\"] * 0.25 + 1,\n",
    "    categorical_feature=categorical_cols,\n",
    "    )\n",
    "\n",
    "\n",
    "bst = lgb.train(\n",
    "    params, dataset_train, num_boost_round=MAX_ROUNDS,\n",
    "    valid_sets=[dataset_train, dataset_valid],\n",
    "    callbacks=[lgb.early_stopping(125), lgb.log_evaluation(25)],\n",
    "    # force_col_wise=True\n",
    ")\n"
   ]
  },
  {
   "cell_type": "code",
   "execution_count": 42,
   "id": "197d9178",
   "metadata": {},
   "outputs": [
    {
     "data": {
      "application/vnd.plotly.v1+json": {
       "config": {
        "plotlyServerURL": "https://plot.ly"
       },
       "data": [
        {
         "hovertemplate": "Date=%{x}<br>y=%{y}<extra></extra>",
         "legendgroup": "",
         "line": {
          "color": "#636efa",
          "dash": "solid"
         },
         "marker": {
          "symbol": "circle"
         },
         "mode": "lines",
         "name": "",
         "orientation": "v",
         "showlegend": false,
         "type": "scatter",
         "x": [
          "2017-01-02",
          "2017-01-03",
          "2017-01-04",
          "2017-01-05",
          "2017-01-06",
          "2017-01-07",
          "2017-01-08",
          "2017-01-09",
          "2017-01-10",
          "2017-01-11",
          "2017-01-12",
          "2017-01-13",
          "2017-01-14",
          "2017-01-15",
          "2017-01-16",
          "2017-01-17",
          "2017-01-18",
          "2017-01-19",
          "2017-01-20",
          "2017-01-21",
          "2017-01-22",
          "2017-01-23",
          "2017-01-24",
          "2017-01-25",
          "2017-01-26",
          "2017-01-27",
          "2017-01-28",
          "2017-01-29",
          "2017-01-30",
          "2017-01-31",
          "2017-02-01",
          "2017-02-02",
          "2017-02-03",
          "2017-02-04",
          "2017-02-05",
          "2017-02-06",
          "2017-02-07",
          "2017-02-08",
          "2017-02-09",
          "2017-02-10",
          "2017-02-11",
          "2017-02-12",
          "2017-02-13",
          "2017-02-14",
          "2017-02-15",
          "2017-02-16",
          "2017-02-17",
          "2017-02-18",
          "2017-02-19",
          "2017-02-20",
          "2017-02-21",
          "2017-02-22",
          "2017-02-23",
          "2017-02-24",
          "2017-02-25",
          "2017-02-26",
          "2017-02-27",
          "2017-02-28",
          "2017-03-01",
          "2017-03-02",
          "2017-03-03",
          "2017-03-04",
          "2017-03-05",
          "2017-03-06",
          "2017-03-07",
          "2017-03-08",
          "2017-03-09",
          "2017-03-10",
          "2017-03-11",
          "2017-03-12",
          "2017-03-13",
          "2017-03-14",
          "2017-03-15",
          "2017-03-16",
          "2017-03-17",
          "2017-03-18",
          "2017-03-19",
          "2017-03-20",
          "2017-03-21",
          "2017-03-22",
          "2017-03-23",
          "2017-03-24",
          "2017-03-25",
          "2017-03-26",
          "2017-03-27",
          "2017-03-28",
          "2017-03-29",
          "2017-03-30",
          "2017-03-31",
          "2017-04-01",
          "2017-04-02",
          "2017-04-03",
          "2017-04-04",
          "2017-04-05",
          "2017-04-06",
          "2017-04-07",
          "2017-04-08",
          "2017-04-09",
          "2017-04-10",
          "2017-04-11",
          "2017-04-12",
          "2017-04-13",
          "2017-04-14",
          "2017-04-15",
          "2017-04-16",
          "2017-04-17",
          "2017-04-18",
          "2017-04-19",
          "2017-04-20",
          "2017-04-21",
          "2017-04-22",
          "2017-04-23",
          "2017-04-24",
          "2017-04-25",
          "2017-04-26",
          "2017-04-27",
          "2017-04-28",
          "2017-04-29",
          "2017-04-30",
          "2017-05-01",
          "2017-05-02",
          "2017-05-03",
          "2017-05-04",
          "2017-05-05",
          "2017-05-06",
          "2017-05-07",
          "2017-05-08",
          "2017-05-09",
          "2017-05-10",
          "2017-05-11",
          "2017-05-12",
          "2017-05-13",
          "2017-05-14",
          "2017-05-15",
          "2017-05-16",
          "2017-05-17",
          "2017-05-18",
          "2017-05-19",
          "2017-05-20",
          "2017-05-21",
          "2017-05-22",
          "2017-05-23",
          "2017-05-24",
          "2017-05-25",
          "2017-05-26",
          "2017-05-27",
          "2017-05-28",
          "2017-05-29",
          "2017-05-30",
          "2017-05-31",
          "2017-06-01",
          "2017-06-02",
          "2017-06-03",
          "2017-06-04",
          "2017-06-05",
          "2017-06-06",
          "2017-06-07",
          "2017-06-08",
          "2017-06-09",
          "2017-06-10",
          "2017-06-11",
          "2017-06-12",
          "2017-06-13",
          "2017-06-14",
          "2017-06-15",
          "2017-06-16",
          "2017-06-17",
          "2017-06-18",
          "2017-06-19",
          "2017-06-20",
          "2017-06-21",
          "2017-06-22",
          "2017-06-23",
          "2017-06-24",
          "2017-06-25",
          "2017-06-26",
          "2017-06-27",
          "2017-06-28",
          "2017-06-29",
          "2017-06-30",
          "2017-07-01",
          "2017-07-02",
          "2017-07-03",
          "2017-07-04",
          "2017-07-05",
          "2017-07-06",
          "2017-07-07",
          "2017-07-08",
          "2017-07-09",
          "2017-07-10",
          "2017-07-11",
          "2017-07-12",
          "2017-07-13",
          "2017-07-14",
          "2017-07-15",
          "2017-07-16",
          "2017-07-17",
          "2017-07-18",
          "2017-07-19",
          "2017-07-20",
          "2017-07-21",
          "2017-07-22",
          "2017-07-23",
          "2017-07-24",
          "2017-07-25",
          "2017-07-26",
          "2017-07-27",
          "2017-07-28",
          "2017-07-29",
          "2017-07-30",
          "2017-07-31",
          "2017-08-01",
          "2017-08-02",
          "2017-08-03",
          "2017-08-04",
          "2017-08-05",
          "2017-08-06",
          "2017-08-07",
          "2017-08-08",
          "2017-08-09",
          "2017-08-10",
          "2017-08-11",
          "2017-08-12",
          "2017-08-13",
          "2017-08-14",
          "2017-08-15"
         ],
         "xaxis": "x",
         "y": {
          "bdata": "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",
          "dtype": "f8"
         },
         "yaxis": "y"
        },
        {
         "line": {
          "color": "red",
          "width": 2
         },
         "name": "Actual Sales",
         "type": "scatter",
         "x": [
          "2017-01-02",
          "2017-01-03",
          "2017-01-04",
          "2017-01-05",
          "2017-01-06",
          "2017-01-07",
          "2017-01-08",
          "2017-01-09",
          "2017-01-10",
          "2017-01-11",
          "2017-01-12",
          "2017-01-13",
          "2017-01-14",
          "2017-01-15",
          "2017-01-16",
          "2017-01-17",
          "2017-01-18",
          "2017-01-19",
          "2017-01-20",
          "2017-01-21",
          "2017-01-22",
          "2017-01-23",
          "2017-01-24",
          "2017-01-25",
          "2017-01-26",
          "2017-01-27",
          "2017-01-28",
          "2017-01-29",
          "2017-01-30",
          "2017-01-31",
          "2017-02-01",
          "2017-02-02",
          "2017-02-03",
          "2017-02-04",
          "2017-02-05",
          "2017-02-06",
          "2017-02-07",
          "2017-02-08",
          "2017-02-09",
          "2017-02-10",
          "2017-02-11",
          "2017-02-12",
          "2017-02-13",
          "2017-02-14",
          "2017-02-15",
          "2017-02-16",
          "2017-02-17",
          "2017-02-18",
          "2017-02-19",
          "2017-02-20",
          "2017-02-21",
          "2017-02-22",
          "2017-02-23",
          "2017-02-24",
          "2017-02-25",
          "2017-02-26",
          "2017-02-27",
          "2017-02-28",
          "2017-03-01",
          "2017-03-02",
          "2017-03-03",
          "2017-03-04",
          "2017-03-05",
          "2017-03-06",
          "2017-03-07",
          "2017-03-08",
          "2017-03-09",
          "2017-03-10",
          "2017-03-11",
          "2017-03-12",
          "2017-03-13",
          "2017-03-14",
          "2017-03-15",
          "2017-03-16",
          "2017-03-17",
          "2017-03-18",
          "2017-03-19",
          "2017-03-20",
          "2017-03-21",
          "2017-03-22",
          "2017-03-23",
          "2017-03-24",
          "2017-03-25",
          "2017-03-26",
          "2017-03-27",
          "2017-03-28",
          "2017-03-29",
          "2017-03-30",
          "2017-03-31",
          "2017-04-01",
          "2017-04-02",
          "2017-04-03",
          "2017-04-04",
          "2017-04-05",
          "2017-04-06",
          "2017-04-07",
          "2017-04-08",
          "2017-04-09",
          "2017-04-10",
          "2017-04-11",
          "2017-04-12",
          "2017-04-13",
          "2017-04-14",
          "2017-04-15",
          "2017-04-16",
          "2017-04-17",
          "2017-04-18",
          "2017-04-19",
          "2017-04-20",
          "2017-04-21",
          "2017-04-22",
          "2017-04-23",
          "2017-04-24",
          "2017-04-25",
          "2017-04-26",
          "2017-04-27",
          "2017-04-28",
          "2017-04-29",
          "2017-04-30",
          "2017-05-01",
          "2017-05-02",
          "2017-05-03",
          "2017-05-04",
          "2017-05-05",
          "2017-05-06",
          "2017-05-07",
          "2017-05-08",
          "2017-05-09",
          "2017-05-10",
          "2017-05-11",
          "2017-05-12",
          "2017-05-13",
          "2017-05-14",
          "2017-05-15",
          "2017-05-16",
          "2017-05-17",
          "2017-05-18",
          "2017-05-19",
          "2017-05-20",
          "2017-05-21",
          "2017-05-22",
          "2017-05-23",
          "2017-05-24",
          "2017-05-25",
          "2017-05-26",
          "2017-05-27",
          "2017-05-28",
          "2017-05-29",
          "2017-05-30",
          "2017-05-31",
          "2017-06-01",
          "2017-06-02",
          "2017-06-03",
          "2017-06-04",
          "2017-06-05",
          "2017-06-06",
          "2017-06-07",
          "2017-06-08",
          "2017-06-09",
          "2017-06-10",
          "2017-06-11",
          "2017-06-12",
          "2017-06-13",
          "2017-06-14",
          "2017-06-15",
          "2017-06-16",
          "2017-06-17",
          "2017-06-18",
          "2017-06-19",
          "2017-06-20",
          "2017-06-21",
          "2017-06-22",
          "2017-06-23",
          "2017-06-24",
          "2017-06-25",
          "2017-06-26",
          "2017-06-27",
          "2017-06-28",
          "2017-06-29",
          "2017-06-30",
          "2017-07-01",
          "2017-07-02",
          "2017-07-03",
          "2017-07-04",
          "2017-07-05",
          "2017-07-06",
          "2017-07-07",
          "2017-07-08",
          "2017-07-09",
          "2017-07-10",
          "2017-07-11",
          "2017-07-12",
          "2017-07-13",
          "2017-07-14",
          "2017-07-15",
          "2017-07-16",
          "2017-07-17",
          "2017-07-18",
          "2017-07-19",
          "2017-07-20",
          "2017-07-21",
          "2017-07-22",
          "2017-07-23",
          "2017-07-24",
          "2017-07-25",
          "2017-07-26",
          "2017-07-27",
          "2017-07-28",
          "2017-07-29",
          "2017-07-30",
          "2017-07-31",
          "2017-08-01",
          "2017-08-02",
          "2017-08-03",
          "2017-08-04",
          "2017-08-05",
          "2017-08-06",
          "2017-08-07",
          "2017-08-08",
          "2017-08-09",
          "2017-08-10",
          "2017-08-11",
          "2017-08-12",
          "2017-08-13",
          "2017-08-14",
          "2017-08-15"
         ],
         "y": {
          "bdata": "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",
          "dtype": "f8"
         }
        }
       ],
       "layout": {
        "legend": {
         "tracegroupgap": 0
        },
        "template": {
         "data": {
          "bar": [
           {
            "error_x": {
             "color": "#2a3f5f"
            },
            "error_y": {
             "color": "#2a3f5f"
            },
            "marker": {
             "line": {
              "color": "white",
              "width": 0.5
             },
             "pattern": {
              "fillmode": "overlay",
              "size": 10,
              "solidity": 0.2
             }
            },
            "type": "bar"
           }
          ],
          "barpolar": [
           {
            "marker": {
             "line": {
              "color": "white",
              "width": 0.5
             },
             "pattern": {
              "fillmode": "overlay",
              "size": 10,
              "solidity": 0.2
             }
            },
            "type": "barpolar"
           }
          ],
          "carpet": [
           {
            "aaxis": {
             "endlinecolor": "#2a3f5f",
             "gridcolor": "#C8D4E3",
             "linecolor": "#C8D4E3",
             "minorgridcolor": "#C8D4E3",
             "startlinecolor": "#2a3f5f"
            },
            "baxis": {
             "endlinecolor": "#2a3f5f",
             "gridcolor": "#C8D4E3",
             "linecolor": "#C8D4E3",
             "minorgridcolor": "#C8D4E3",
             "startlinecolor": "#2a3f5f"
            },
            "type": "carpet"
           }
          ],
          "choropleth": [
           {
            "colorbar": {
             "outlinewidth": 0,
             "ticks": ""
            },
            "type": "choropleth"
           }
          ],
          "contour": [
           {
            "colorbar": {
             "outlinewidth": 0,
             "ticks": ""
            },
            "colorscale": [
             [
              0,
              "#0d0887"
             ],
             [
              0.1111111111111111,
              "#46039f"
             ],
             [
              0.2222222222222222,
              "#7201a8"
             ],
             [
              0.3333333333333333,
              "#9c179e"
             ],
             [
              0.4444444444444444,
              "#bd3786"
             ],
             [
              0.5555555555555556,
              "#d8576b"
             ],
             [
              0.6666666666666666,
              "#ed7953"
             ],
             [
              0.7777777777777778,
              "#fb9f3a"
             ],
             [
              0.8888888888888888,
              "#fdca26"
             ],
             [
              1,
              "#f0f921"
             ]
            ],
            "type": "contour"
           }
          ],
          "contourcarpet": [
           {
            "colorbar": {
             "outlinewidth": 0,
             "ticks": ""
            },
            "type": "contourcarpet"
           }
          ],
          "heatmap": [
           {
            "colorbar": {
             "outlinewidth": 0,
             "ticks": ""
            },
            "colorscale": [
             [
              0,
              "#0d0887"
             ],
             [
              0.1111111111111111,
              "#46039f"
             ],
             [
              0.2222222222222222,
              "#7201a8"
             ],
             [
              0.3333333333333333,
              "#9c179e"
             ],
             [
              0.4444444444444444,
              "#bd3786"
             ],
             [
              0.5555555555555556,
              "#d8576b"
             ],
             [
              0.6666666666666666,
              "#ed7953"
             ],
             [
              0.7777777777777778,
              "#fb9f3a"
             ],
             [
              0.8888888888888888,
              "#fdca26"
             ],
             [
              1,
              "#f0f921"
             ]
            ],
            "type": "heatmap"
           }
          ],
          "histogram": [
           {
            "marker": {
             "pattern": {
              "fillmode": "overlay",
              "size": 10,
              "solidity": 0.2
             }
            },
            "type": "histogram"
           }
          ],
          "histogram2d": [
           {
            "colorbar": {
             "outlinewidth": 0,
             "ticks": ""
            },
            "colorscale": [
             [
              0,
              "#0d0887"
             ],
             [
              0.1111111111111111,
              "#46039f"
             ],
             [
              0.2222222222222222,
              "#7201a8"
             ],
             [
              0.3333333333333333,
              "#9c179e"
             ],
             [
              0.4444444444444444,
              "#bd3786"
             ],
             [
              0.5555555555555556,
              "#d8576b"
             ],
             [
              0.6666666666666666,
              "#ed7953"
             ],
             [
              0.7777777777777778,
              "#fb9f3a"
             ],
             [
              0.8888888888888888,
              "#fdca26"
             ],
             [
              1,
              "#f0f921"
             ]
            ],
            "type": "histogram2d"
           }
          ],
          "histogram2dcontour": [
           {
            "colorbar": {
             "outlinewidth": 0,
             "ticks": ""
            },
            "colorscale": [
             [
              0,
              "#0d0887"
             ],
             [
              0.1111111111111111,
              "#46039f"
             ],
             [
              0.2222222222222222,
              "#7201a8"
             ],
             [
              0.3333333333333333,
              "#9c179e"
             ],
             [
              0.4444444444444444,
              "#bd3786"
             ],
             [
              0.5555555555555556,
              "#d8576b"
             ],
             [
              0.6666666666666666,
              "#ed7953"
             ],
             [
              0.7777777777777778,
              "#fb9f3a"
             ],
             [
              0.8888888888888888,
              "#fdca26"
             ],
             [
              1,
              "#f0f921"
             ]
            ],
            "type": "histogram2dcontour"
           }
          ],
          "mesh3d": [
           {
            "colorbar": {
             "outlinewidth": 0,
             "ticks": ""
            },
            "type": "mesh3d"
           }
          ],
          "parcoords": [
           {
            "line": {
             "colorbar": {
              "outlinewidth": 0,
              "ticks": ""
             }
            },
            "type": "parcoords"
           }
          ],
          "pie": [
           {
            "automargin": true,
            "type": "pie"
           }
          ],
          "scatter": [
           {
            "fillpattern": {
             "fillmode": "overlay",
             "size": 10,
             "solidity": 0.2
            },
            "type": "scatter"
           }
          ],
          "scatter3d": [
           {
            "line": {
             "colorbar": {
              "outlinewidth": 0,
              "ticks": ""
             }
            },
            "marker": {
             "colorbar": {
              "outlinewidth": 0,
              "ticks": ""
             }
            },
            "type": "scatter3d"
           }
          ],
          "scattercarpet": [
           {
            "marker": {
             "colorbar": {
              "outlinewidth": 0,
              "ticks": ""
             }
            },
            "type": "scattercarpet"
           }
          ],
          "scattergeo": [
           {
            "marker": {
             "colorbar": {
              "outlinewidth": 0,
              "ticks": ""
             }
            },
            "type": "scattergeo"
           }
          ],
          "scattergl": [
           {
            "marker": {
             "colorbar": {
              "outlinewidth": 0,
              "ticks": ""
             }
            },
            "type": "scattergl"
           }
          ],
          "scattermap": [
           {
            "marker": {
             "colorbar": {
              "outlinewidth": 0,
              "ticks": ""
             }
            },
            "type": "scattermap"
           }
          ],
          "scattermapbox": [
           {
            "marker": {
             "colorbar": {
              "outlinewidth": 0,
              "ticks": ""
             }
            },
            "type": "scattermapbox"
           }
          ],
          "scatterpolar": [
           {
            "marker": {
             "colorbar": {
              "outlinewidth": 0,
              "ticks": ""
             }
            },
            "type": "scatterpolar"
           }
          ],
          "scatterpolargl": [
           {
            "marker": {
             "colorbar": {
              "outlinewidth": 0,
              "ticks": ""
             }
            },
            "type": "scatterpolargl"
           }
          ],
          "scatterternary": [
           {
            "marker": {
             "colorbar": {
              "outlinewidth": 0,
              "ticks": ""
             }
            },
            "type": "scatterternary"
           }
          ],
          "surface": [
           {
            "colorbar": {
             "outlinewidth": 0,
             "ticks": ""
            },
            "colorscale": [
             [
              0,
              "#0d0887"
             ],
             [
              0.1111111111111111,
              "#46039f"
             ],
             [
              0.2222222222222222,
              "#7201a8"
             ],
             [
              0.3333333333333333,
              "#9c179e"
             ],
             [
              0.4444444444444444,
              "#bd3786"
             ],
             [
              0.5555555555555556,
              "#d8576b"
             ],
             [
              0.6666666666666666,
              "#ed7953"
             ],
             [
              0.7777777777777778,
              "#fb9f3a"
             ],
             [
              0.8888888888888888,
              "#fdca26"
             ],
             [
              1,
              "#f0f921"
             ]
            ],
            "type": "surface"
           }
          ],
          "table": [
           {
            "cells": {
             "fill": {
              "color": "#EBF0F8"
             },
             "line": {
              "color": "white"
             }
            },
            "header": {
             "fill": {
              "color": "#C8D4E3"
             },
             "line": {
              "color": "white"
             }
            },
            "type": "table"
           }
          ]
         },
         "layout": {
          "annotationdefaults": {
           "arrowcolor": "#2a3f5f",
           "arrowhead": 0,
           "arrowwidth": 1
          },
          "autotypenumbers": "strict",
          "coloraxis": {
           "colorbar": {
            "outlinewidth": 0,
            "ticks": ""
           }
          },
          "colorscale": {
           "diverging": [
            [
             0,
             "#8e0152"
            ],
            [
             0.1,
             "#c51b7d"
            ],
            [
             0.2,
             "#de77ae"
            ],
            [
             0.3,
             "#f1b6da"
            ],
            [
             0.4,
             "#fde0ef"
            ],
            [
             0.5,
             "#f7f7f7"
            ],
            [
             0.6,
             "#e6f5d0"
            ],
            [
             0.7,
             "#b8e186"
            ],
            [
             0.8,
             "#7fbc41"
            ],
            [
             0.9,
             "#4d9221"
            ],
            [
             1,
             "#276419"
            ]
           ],
           "sequential": [
            [
             0,
             "#0d0887"
            ],
            [
             0.1111111111111111,
             "#46039f"
            ],
            [
             0.2222222222222222,
             "#7201a8"
            ],
            [
             0.3333333333333333,
             "#9c179e"
            ],
            [
             0.4444444444444444,
             "#bd3786"
            ],
            [
             0.5555555555555556,
             "#d8576b"
            ],
            [
             0.6666666666666666,
             "#ed7953"
            ],
            [
             0.7777777777777778,
             "#fb9f3a"
            ],
            [
             0.8888888888888888,
             "#fdca26"
            ],
            [
             1,
             "#f0f921"
            ]
           ],
           "sequentialminus": [
            [
             0,
             "#0d0887"
            ],
            [
             0.1111111111111111,
             "#46039f"
            ],
            [
             0.2222222222222222,
             "#7201a8"
            ],
            [
             0.3333333333333333,
             "#9c179e"
            ],
            [
             0.4444444444444444,
             "#bd3786"
            ],
            [
             0.5555555555555556,
             "#d8576b"
            ],
            [
             0.6666666666666666,
             "#ed7953"
            ],
            [
             0.7777777777777778,
             "#fb9f3a"
            ],
            [
             0.8888888888888888,
             "#fdca26"
            ],
            [
             1,
             "#f0f921"
            ]
           ]
          },
          "colorway": [
           "#636efa",
           "#EF553B",
           "#00cc96",
           "#ab63fa",
           "#FFA15A",
           "#19d3f3",
           "#FF6692",
           "#B6E880",
           "#FF97FF",
           "#FECB52"
          ],
          "font": {
           "color": "#2a3f5f"
          },
          "geo": {
           "bgcolor": "white",
           "lakecolor": "white",
           "landcolor": "white",
           "showlakes": true,
           "showland": true,
           "subunitcolor": "#C8D4E3"
          },
          "hoverlabel": {
           "align": "left"
          },
          "hovermode": "closest",
          "mapbox": {
           "style": "light"
          },
          "paper_bgcolor": "white",
          "plot_bgcolor": "white",
          "polar": {
           "angularaxis": {
            "gridcolor": "#EBF0F8",
            "linecolor": "#EBF0F8",
            "ticks": ""
           },
           "bgcolor": "white",
           "radialaxis": {
            "gridcolor": "#EBF0F8",
            "linecolor": "#EBF0F8",
            "ticks": ""
           }
          },
          "scene": {
           "xaxis": {
            "backgroundcolor": "white",
            "gridcolor": "#DFE8F3",
            "gridwidth": 2,
            "linecolor": "#EBF0F8",
            "showbackground": true,
            "ticks": "",
            "zerolinecolor": "#EBF0F8"
           },
           "yaxis": {
            "backgroundcolor": "white",
            "gridcolor": "#DFE8F3",
            "gridwidth": 2,
            "linecolor": "#EBF0F8",
            "showbackground": true,
            "ticks": "",
            "zerolinecolor": "#EBF0F8"
           },
           "zaxis": {
            "backgroundcolor": "white",
            "gridcolor": "#DFE8F3",
            "gridwidth": 2,
            "linecolor": "#EBF0F8",
            "showbackground": true,
            "ticks": "",
            "zerolinecolor": "#EBF0F8"
           }
          },
          "shapedefaults": {
           "line": {
            "color": "#2a3f5f"
           }
          },
          "ternary": {
           "aaxis": {
            "gridcolor": "#DFE8F3",
            "linecolor": "#A2B1C6",
            "ticks": ""
           },
           "baxis": {
            "gridcolor": "#DFE8F3",
            "linecolor": "#A2B1C6",
            "ticks": ""
           },
           "bgcolor": "white",
           "caxis": {
            "gridcolor": "#DFE8F3",
            "linecolor": "#A2B1C6",
            "ticks": ""
           }
          },
          "title": {
           "x": 0.05
          },
          "xaxis": {
           "automargin": true,
           "gridcolor": "#EBF0F8",
           "linecolor": "#EBF0F8",
           "ticks": "",
           "title": {
            "standoff": 15
           },
           "zerolinecolor": "#EBF0F8",
           "zerolinewidth": 2
          },
          "yaxis": {
           "automargin": true,
           "gridcolor": "#EBF0F8",
           "linecolor": "#EBF0F8",
           "ticks": "",
           "title": {
            "standoff": 15
           },
           "zerolinecolor": "#EBF0F8",
           "zerolinewidth": 2
          }
         }
        },
        "title": {
         "text": "Actual vs Predicted Sales"
        },
        "xaxis": {
         "anchor": "y",
         "domain": [
          0,
          1
         ],
         "title": {
          "text": "Date"
         }
        },
        "yaxis": {
         "anchor": "x",
         "domain": [
          0,
          1
         ],
         "range": [
          0,
          50
         ],
         "title": {
          "text": "y"
         }
        }
       }
      }
     },
     "metadata": {},
     "output_type": "display_data"
    }
   ],
   "source": [
    "import plotly.express as px\n",
    "\n",
    "x_subset = x_valid.with_columns(\n",
    "    date=x_dates_valid\n",
    ").filter(\n",
    "    (pl.col(\"store_id\") == 3) \n",
    "    & (pl.col(\"product_id\") == 213652)\n",
    ")\n",
    "\n",
    "y_subset = y_valid.with_columns(\n",
    "    product_id=x_valid.get_column(\"product_id\"),\n",
    "    store_id=x_valid.get_column(\"store_id\"),\n",
    ").filter(\n",
    "    (pl.col(\"store_id\") == 3)\n",
    "    & (pl.col(\"product_id\") == 213652)\n",
    ")\n",
    "\n",
    "x_dates_subset = x_subset.drop_in_place(\"date\")\n",
    "\n",
    "# apply inverse of logp1 transformation to actuals and round to nearest integer\n",
    "actuals = y_subset.get_column(\"log_units_sold\")\n",
    "actuals = (pl.Series(actuals).exp() - 1).round()\n",
    "\n",
    "# apply inverse of logp1 transformation to predictions and round to nearest integer\n",
    "predictions = bst.predict(x_subset.to_pandas())\n",
    "predictions = (pl.Series(predictions).exp() - 1).round()\n",
    "\n",
    "# plot time series: y_valid vs prediction\n",
    "fig = px.line(\n",
    "    x=x_dates_subset,\n",
    "    # y=[y_subset, predictions],\n",
    "    y=predictions,\n",
    "    labels={\"x\": \"Date\", \"value\": \"Sales\"},\n",
    "    title=\"Actual vs Predicted Sales\",\n",
    "    template=\"plotly_white\"\n",
    ")\n",
    "\n",
    "fig.add_scatter(\n",
    "    x=x_dates_subset,\n",
    "    y=actuals,\n",
    "    name=\"Actual Sales\",\n",
    "    line=dict(color=\"red\", width=2)\n",
    ")\n",
    "\n",
    "# limit y-axis to 0-5\n",
    "fig.update_yaxes(range=[0, 50])\n",
    "\n",
    "fig.show()"
   ]
  },
  {
   "cell_type": "code",
   "execution_count": 79,
   "id": "871f0cf3",
   "metadata": {},
   "outputs": [],
   "source": [
    "from sklearn.base import BaseEstimator, RegressorMixin, clone\n",
    "import lightgbm as lgbm\n",
    "\n",
    "class DirectMultihorizonForecaster(BaseEstimator, RegressorMixin):\n",
    "    def __init__(self, horizons: int, params=None):\n",
    "        \"\"\"Construct a gradient boosting model.\n",
    "\n",
    "        Parameters\n",
    "        ----------\n",
    "        boosting_type : str, optional (default='gbdt')\n",
    "            'gbdt', traditional Gradient Boosting Decision Tree.\n",
    "            'dart', Dropouts meet Multiple Additive Regression Trees.\n",
    "            'rf', Random Forest.\n",
    "        num_leaves : int, optional (default=31)\n",
    "            Maximum tree leaves for base learners.\n",
    "        max_depth : int, optional (default=-1)\n",
    "            Maximum tree depth for base learners, <=0 means no limit.\n",
    "            If setting this to a positive value, consider also changing ``num_leaves`` to ``<= 2^max_depth``.\n",
    "        learning_rate : float, optional (default=0.1)\n",
    "            Boosting learning rate.\n",
    "            You can use ``callbacks`` parameter of ``fit`` method to shrink/adapt learning rate\n",
    "            in training using ``reset_parameter`` callback.\n",
    "            Note, that this will ignore the ``learning_rate`` argument in training.\n",
    "        n_estimators : int, optional (default=100)\n",
    "            Number of boosted trees to fit.\n",
    "        subsample_for_bin : int, optional (default=200000)\n",
    "            Number of samples for constructing bins.\n",
    "        objective : str, callable or None, optional (default=None)\n",
    "            Specify the learning task and the corresponding learning objective or\n",
    "            a custom objective function to be used (see note below).\n",
    "            Default: 'regression' for LGBMRegressor, 'binary' or 'multiclass' for LGBMClassifier, 'lambdarank' for LGBMRanker.\n",
    "        class_weight : dict, 'balanced' or None, optional (default=None)\n",
    "            Weights associated with classes in the form ``{class_label: weight}``.\n",
    "            Use this parameter only for multi-class classification task;\n",
    "            for binary classification task you may use ``is_unbalance`` or ``scale_pos_weight`` parameters.\n",
    "            Note, that the usage of all these parameters will result in poor estimates of the individual class probabilities.\n",
    "            You may want to consider performing probability calibration\n",
    "            (https://scikit-learn.org/stable/modules/calibration.html) of your model.\n",
    "            The 'balanced' mode uses the values of y to automatically adjust weights\n",
    "            inversely proportional to class frequencies in the input data as ``n_samples / (n_classes * np.bincount(y))``.\n",
    "            If None, all classes are supposed to have weight one.\n",
    "            Note, that these weights will be multiplied with ``sample_weight`` (passed through the ``fit`` method)\n",
    "            if ``sample_weight`` is specified.\n",
    "        min_split_gain : float, optional (default=0.)\n",
    "            Minimum loss reduction required to make a further partition on a leaf node of the tree.\n",
    "        min_child_weight : float, optional (default=1e-3)\n",
    "            Minimum sum of instance weight (Hessian) needed in a child (leaf).\n",
    "        min_child_samples : int, optional (default=20)\n",
    "            Minimum number of data needed in a child (leaf).\n",
    "        subsample : float, optional (default=1.)\n",
    "            Subsample ratio of the training instance.\n",
    "        subsample_freq : int, optional (default=0)\n",
    "            Frequency of subsample, <=0 means no enable.\n",
    "        colsample_bytree : float, optional (default=1.)\n",
    "            Subsample ratio of columns when constructing each tree.\n",
    "        reg_alpha : float, optional (default=0.)\n",
    "            L1 regularization term on weights.\n",
    "        reg_lambda : float, optional (default=0.)\n",
    "            L2 regularization term on weights.\n",
    "        random_state : int, RandomState object or None, optional (default=None)\n",
    "            Random number seed.\n",
    "            If int, this number is used to seed the C++ code.\n",
    "            If RandomState or Generator object (numpy), a random integer is picked based on its state to seed the C++ code.\n",
    "            If None, default seeds in C++ code are used.\n",
    "        n_jobs : int or None, optional (default=None)\n",
    "            Number of parallel threads to use for training (can be changed at prediction time by\n",
    "            passing it as an extra keyword argument).\n",
    "\n",
    "            For better performance, it is recommended to set this to the number of physical cores\n",
    "            in the CPU.\n",
    "\n",
    "            Negative integers are interpreted as following joblib's formula (n_cpus + 1 + n_jobs), just like\n",
    "            scikit-learn (so e.g. -1 means using all threads). A value of zero corresponds the default number of\n",
    "            threads configured for OpenMP in the system. A value of ``None`` (the default) corresponds\n",
    "            to using the number of physical cores in the system (its correct detection requires\n",
    "            either the ``joblib`` or the ``psutil`` util libraries to be installed).\n",
    "\n",
    "            .. versionchanged:: 4.0.0\n",
    "\n",
    "        importance_type : str, optional (default='split')\n",
    "            The type of feature importance to be filled into ``feature_importances_``.\n",
    "            If 'split', result contains numbers of times the feature is used in a model.\n",
    "            If 'gain', result contains total gains of splits which use the feature.\n",
    "        **kwargs\n",
    "            Other parameters for the model.\n",
    "            Check http://lightgbm.readthedocs.io/en/latest/Parameters.html for more parameters.\n",
    "\n",
    "            .. warning::\n",
    "\n",
    "                \\*\\*kwargs is not supported in sklearn, it may cause unexpected issues.\n",
    "\n",
    "        Note\n",
    "        ----\n",
    "        A custom objective function can be provided for the ``objective`` parameter.\n",
    "        In this case, it should have the signature\n",
    "        ``objective(y_true, y_pred) -> grad, hess``,\n",
    "        ``objective(y_true, y_pred, weight) -> grad, hess``\n",
    "        or ``objective(y_true, y_pred, weight, group) -> grad, hess``:\n",
    "\n",
    "            y_true : numpy 1-D array of shape = [n_samples]\n",
    "                The target values.\n",
    "            y_pred : numpy 1-D array of shape = [n_samples] or numpy 2-D array of shape = [n_samples, n_classes] (for multi-class task)\n",
    "                The predicted values.\n",
    "                Predicted values are returned before any transformation,\n",
    "                e.g. they are raw margin instead of probability of positive class for binary task.\n",
    "            weight : numpy 1-D array of shape = [n_samples]\n",
    "                The weight of samples. Weights should be non-negative.\n",
    "            group : numpy 1-D array\n",
    "                Group/query data.\n",
    "                Only used in the learning-to-rank task.\n",
    "                sum(group) = n_samples.\n",
    "                For example, if you have a 100-document dataset with ``group = [10, 20, 40, 10, 10, 10]``, that means that you have 6 groups,\n",
    "                where the first 10 records are in the first group, records 11-30 are in the second group, records 31-70 are in the third group, etc.\n",
    "            grad : numpy 1-D array of shape = [n_samples] or numpy 2-D array of shape = [n_samples, n_classes] (for multi-class task)\n",
    "                The value of the first order derivative (gradient) of the loss\n",
    "                with respect to the elements of y_pred for each sample point.\n",
    "            hess : numpy 1-D array of shape = [n_samples] or numpy 2-D array of shape = [n_samples, n_classes] (for multi-class task)\n",
    "                The value of the second order derivative (Hessian) of the loss\n",
    "                with respect to the elements of y_pred for each sample point.\n",
    "\n",
    "        For multi-class task, y_pred is a numpy 2-D array of shape = [n_samples, n_classes],\n",
    "        and grad and hess should be returned in the same format.\n",
    "        \"\"\"\n",
    "        # boosting_type: str = \"gbdt\",\n",
    "        # num_leaves: int = 31,\n",
    "        # max_depth: int = -1,\n",
    "        # learning_rate: float = 0.1,\n",
    "        # n_estimators: int = 100,\n",
    "        # subsample_for_bin: int = 200000,\n",
    "        # objective: Optional[Union[str, _LGBM_ScikitCustomObjectiveFunction]] = None,\n",
    "        # class_weight: Optional[Union[Dict, str]] = None,\n",
    "        # min_split_gain: float = 0.0,\n",
    "        # min_child_weight: float = 1e-3,\n",
    "        # min_child_samples: int = 20,\n",
    "        # subsample: float = 1.0,\n",
    "        # subsample_freq: int = 0,\n",
    "        # colsample_bytree: float = 1.0,\n",
    "        # reg_alpha: float = 0.0,\n",
    "        # reg_lambda: float = 0.0,\n",
    "        # random_state: Optional[Union[int, np.random.RandomState, np.random.Generator]] = None,\n",
    "        # n_jobs: Optional[int] = None,\n",
    "        # importance_type: str = \"split\",\n",
    "        self.params = params if params is not None else {}\n",
    "        self.base_regressor = lgbm.LGBMRegressor(**params)\n",
    "        self.horizons = horizons\n",
    "        self.models_ = []\n",
    "        self.is_fitted_ = False\n",
    "        self.target_names_ = None\n",
    "\n",
    "    def fit(self, X: pl.DataFrame, Y: pl.DataFrame, fit_params=None, target_cols=None):\n",
    "        # X: _LGBM_ScikitMatrixLike,\n",
    "        # y: _LGBM_LabelType,\n",
    "        # sample_weight: Optional[_LGBM_WeightType] = None,\n",
    "        # init_score: Optional[_LGBM_InitScoreType] = None,\n",
    "        # eval_set: Optional[List[_LGBM_ScikitValidSet]] = None,\n",
    "        # eval_names: Optional[List[str]] = None,\n",
    "        # eval_sample_weight: Optional[List[_LGBM_WeightType]] = None,\n",
    "        # eval_init_score: Optional[List[_LGBM_InitScoreType]] = None,\n",
    "        # eval_metric: Optional[_LGBM_ScikitEvalMetricType] = None,\n",
    "        # feature_name: _LGBM_FeatureNameConfiguration = \"auto\",\n",
    "        # categorical_feature: _LGBM_CategoricalFeatureConfiguration = \"auto\",\n",
    "        # callbacks: Optional[List[Callable]] = None,\n",
    "        # init_model: Optional[Union[str, Path, Booster, LGBMModel]] = None,\n",
    "\n",
    "        self.fit_params = fit_params if fit_params is not None else {}\n",
    "        self.target_cols_ = Y.columns if target_cols is None else target_cols\n",
    "\n",
    "        # For direct approach, Y should contain multiple columns, each representing a different horizon.\n",
    "        # Each column should be sorted out according to the horizon it represents, e.g., 'h1', 'h2', etc.\n",
    "        if len(self.target_cols_) != self.horizons:\n",
    "            raise ValueError(\n",
    "                f\"Expected {self.horizons} target columns, but got {len(self.target_cols_)}.\"\n",
    "            )\n",
    "        \n",
    "        X = X.to_pandas()\n",
    "        self.models_ = [clone(self.base_regressor) for _ in range(self.horizons)]\n",
    "        \n",
    "        # Fit each model for each horizon\n",
    "        for h in range(self.horizons):\n",
    "            y_h = Y.get_column(self.target_cols_[h]).to_numpy()\n",
    "            self.models_[h].fit(X, y_h, **self.fit_params)\n",
    "        \n",
    "        self.is_fitted_ = True\n",
    "        return self\n",
    "\n",
    "    def predict(self, X: pl.DataFrame):\n",
    "        \"\"\"Predict using the fitted models for each horizon.\n",
    "        \"\"\"\n",
    "        if not self.is_fitted_:\n",
    "            raise RuntimeError(\"You must fit the model before calling predict.\")\n",
    "    \n",
    "        X = X.to_pandas()\n",
    "        preds_df = pl.DataFrame(\n",
    "            {\n",
    "                f'pred_{self.target_cols_[horizon]}': model.predict(X)\n",
    "                for horizon, model in enumerate(self.models_)\n",
    "            }\n",
    "        )\n",
    "        return preds_df\n",
    "    \n",
    "    def feature_importances(self) -> pl.DataFrame:\n",
    "        \"\"\"Get feature importances from the fitted models.\n",
    "        \n",
    "        Parameters\n",
    "        ----------\n",
    "        importance_type : str, optional (default='split')\n",
    "            The type of feature importance to be returned.\n",
    "            Can be 'split' or 'gain'.\n",
    "        \"\"\"\n",
    "        if not self.is_fitted_:\n",
    "            raise RuntimeError(\"You must fit the model before calling feature_importances_.\")\n",
    "\n",
    "        return pl.DataFrame(\n",
    "            {\n",
    "                \"feature_name\": self.models_[0].feature_name_\n",
    "            }\n",
    "            |\n",
    "            {\n",
    "                f'{self.target_cols_[horizon]}': model.feature_importances_\n",
    "                for horizon, model in enumerate(self.models_)\n",
    "            }\n",
    "        )"
   ]
  },
  {
   "cell_type": "code",
   "execution_count": 80,
   "id": "38321a8c",
   "metadata": {},
   "outputs": [],
   "source": [
    "weights = 0.25 * x_train.get_column(\"perishable\").to_numpy() + 1"
   ]
  },
  {
   "cell_type": "code",
   "execution_count": 82,
   "id": "3423a78a",
   "metadata": {},
   "outputs": [
    {
     "name": "stdout",
     "output_type": "stream",
     "text": [
      "[LightGBM] [Warning] Met categorical feature which contains sparse values. Consider renumbering to consecutive integers started from zero\n",
      "[LightGBM] [Warning] Categorical features with more bins than the configured maximum bin number found.\n",
      "[LightGBM] [Warning] For categorical features, max_bin and max_bin_by_feature may be ignored with a large number of categories.\n",
      "[LightGBM] [Info] Auto-choosing col-wise multi-threading, the overhead of testing was 0.003066 seconds.\n",
      "You can set `force_col_wise=true` to remove the overhead.\n",
      "[LightGBM] [Info] Total Bins 10353\n",
      "[LightGBM] [Info] Number of data points in the train set: 29059, number of used features: 54\n",
      "[LightGBM] [Info] Start training from score 3.696507\n",
      "Training until validation scores don't improve for 125 rounds\n",
      "[25]\tvalid_0's l2: 0.448413\n",
      "[50]\tvalid_0's l2: 0.323265\n",
      "[75]\tvalid_0's l2: 0.269319\n",
      "[100]\tvalid_0's l2: 0.239044\n",
      "[125]\tvalid_0's l2: 0.220354\n",
      "[150]\tvalid_0's l2: 0.207423\n",
      "[175]\tvalid_0's l2: 0.197617\n",
      "[200]\tvalid_0's l2: 0.188377\n",
      "[225]\tvalid_0's l2: 0.181637\n",
      "[250]\tvalid_0's l2: 0.175132\n",
      "[275]\tvalid_0's l2: 0.170572\n",
      "[300]\tvalid_0's l2: 0.167124\n",
      "[325]\tvalid_0's l2: 0.164378\n",
      "[350]\tvalid_0's l2: 0.162361\n",
      "[375]\tvalid_0's l2: 0.160686\n",
      "[400]\tvalid_0's l2: 0.159262\n",
      "[425]\tvalid_0's l2: 0.158139\n",
      "[450]\tvalid_0's l2: 0.157128\n",
      "[475]\tvalid_0's l2: 0.156632\n",
      "[500]\tvalid_0's l2: 0.155995\n",
      "[525]\tvalid_0's l2: 0.155667\n",
      "[550]\tvalid_0's l2: 0.155333\n",
      "[575]\tvalid_0's l2: 0.155314\n",
      "[600]\tvalid_0's l2: 0.154912\n",
      "[625]\tvalid_0's l2: 0.154546\n",
      "[650]\tvalid_0's l2: 0.153873\n",
      "[675]\tvalid_0's l2: 0.15344\n",
      "[700]\tvalid_0's l2: 0.153411\n",
      "[725]\tvalid_0's l2: 0.153178\n",
      "[750]\tvalid_0's l2: 0.152969\n",
      "[775]\tvalid_0's l2: 0.152935\n",
      "[800]\tvalid_0's l2: 0.152879\n",
      "[825]\tvalid_0's l2: 0.152479\n",
      "[850]\tvalid_0's l2: 0.152354\n",
      "[875]\tvalid_0's l2: 0.152178\n",
      "[900]\tvalid_0's l2: 0.15202\n",
      "[925]\tvalid_0's l2: 0.151938\n",
      "[950]\tvalid_0's l2: 0.151903\n",
      "[975]\tvalid_0's l2: 0.151676\n",
      "[1000]\tvalid_0's l2: 0.151558\n",
      "Did not meet early stopping. Best iteration is:\n",
      "[994]\tvalid_0's l2: 0.151478\n",
      "[LightGBM] [Warning] Met categorical feature which contains sparse values. Consider renumbering to consecutive integers started from zero\n",
      "[LightGBM] [Warning] Categorical features with more bins than the configured maximum bin number found.\n",
      "[LightGBM] [Warning] For categorical features, max_bin and max_bin_by_feature may be ignored with a large number of categories.\n",
      "[LightGBM] [Info] Auto-choosing col-wise multi-threading, the overhead of testing was 0.002879 seconds.\n",
      "You can set `force_col_wise=true` to remove the overhead.\n",
      "[LightGBM] [Info] Total Bins 10353\n",
      "[LightGBM] [Info] Number of data points in the train set: 29059, number of used features: 54\n",
      "[LightGBM] [Info] Start training from score 3.697110\n",
      "Training until validation scores don't improve for 125 rounds\n",
      "[25]\tvalid_0's l2: 0.473621\n",
      "[50]\tvalid_0's l2: 0.369362\n",
      "[75]\tvalid_0's l2: 0.334723\n",
      "[100]\tvalid_0's l2: 0.323839\n",
      "[125]\tvalid_0's l2: 0.322258\n",
      "[150]\tvalid_0's l2: 0.323715\n",
      "[175]\tvalid_0's l2: 0.326276\n",
      "[200]\tvalid_0's l2: 0.327073\n",
      "[225]\tvalid_0's l2: 0.328794\n",
      "Early stopping, best iteration is:\n",
      "[122]\tvalid_0's l2: 0.322041\n",
      "[LightGBM] [Warning] Met categorical feature which contains sparse values. Consider renumbering to consecutive integers started from zero\n",
      "[LightGBM] [Warning] Categorical features with more bins than the configured maximum bin number found.\n",
      "[LightGBM] [Warning] For categorical features, max_bin and max_bin_by_feature may be ignored with a large number of categories.\n",
      "[LightGBM] [Info] Auto-choosing col-wise multi-threading, the overhead of testing was 0.002747 seconds.\n",
      "You can set `force_col_wise=true` to remove the overhead.\n",
      "[LightGBM] [Info] Total Bins 10353\n",
      "[LightGBM] [Info] Number of data points in the train set: 29059, number of used features: 54\n",
      "[LightGBM] [Info] Start training from score 3.696676\n",
      "Training until validation scores don't improve for 125 rounds\n",
      "[25]\tvalid_0's l2: 0.495913\n",
      "[50]\tvalid_0's l2: 0.404243\n",
      "[75]\tvalid_0's l2: 0.378215\n",
      "[100]\tvalid_0's l2: 0.374054\n",
      "[125]\tvalid_0's l2: 0.378176\n",
      "[150]\tvalid_0's l2: 0.385583\n",
      "[175]\tvalid_0's l2: 0.390226\n",
      "[200]\tvalid_0's l2: 0.395248\n",
      "Early stopping, best iteration is:\n",
      "[94]\tvalid_0's l2: 0.373877\n",
      "[LightGBM] [Warning] Met categorical feature which contains sparse values. Consider renumbering to consecutive integers started from zero\n",
      "[LightGBM] [Warning] Categorical features with more bins than the configured maximum bin number found.\n",
      "[LightGBM] [Warning] For categorical features, max_bin and max_bin_by_feature may be ignored with a large number of categories.\n",
      "[LightGBM] [Info] Auto-choosing col-wise multi-threading, the overhead of testing was 0.002809 seconds.\n",
      "You can set `force_col_wise=true` to remove the overhead.\n",
      "[LightGBM] [Info] Total Bins 10353\n",
      "[LightGBM] [Info] Number of data points in the train set: 29059, number of used features: 54\n",
      "[LightGBM] [Info] Start training from score 3.696737\n",
      "Training until validation scores don't improve for 125 rounds\n",
      "[25]\tvalid_0's l2: 0.503325\n",
      "[50]\tvalid_0's l2: 0.4165\n",
      "[75]\tvalid_0's l2: 0.392192\n",
      "[100]\tvalid_0's l2: 0.389375\n",
      "[125]\tvalid_0's l2: 0.393625\n",
      "[150]\tvalid_0's l2: 0.40047\n",
      "[175]\tvalid_0's l2: 0.407222\n",
      "[200]\tvalid_0's l2: 0.414964\n",
      "Early stopping, best iteration is:\n",
      "[96]\tvalid_0's l2: 0.38914\n",
      "[LightGBM] [Warning] Met categorical feature which contains sparse values. Consider renumbering to consecutive integers started from zero\n",
      "[LightGBM] [Warning] Categorical features with more bins than the configured maximum bin number found.\n",
      "[LightGBM] [Warning] For categorical features, max_bin and max_bin_by_feature may be ignored with a large number of categories.\n",
      "[LightGBM] [Info] Auto-choosing col-wise multi-threading, the overhead of testing was 0.003001 seconds.\n",
      "You can set `force_col_wise=true` to remove the overhead.\n",
      "[LightGBM] [Info] Total Bins 10353\n",
      "[LightGBM] [Info] Number of data points in the train set: 29059, number of used features: 54\n",
      "[LightGBM] [Info] Start training from score 3.696098\n",
      "Training until validation scores don't improve for 125 rounds\n",
      "[25]\tvalid_0's l2: 0.500049\n",
      "[50]\tvalid_0's l2: 0.412397\n",
      "[75]\tvalid_0's l2: 0.387427\n",
      "[100]\tvalid_0's l2: 0.382326\n",
      "[125]\tvalid_0's l2: 0.388109\n",
      "[150]\tvalid_0's l2: 0.393955\n",
      "[175]\tvalid_0's l2: 0.401404\n",
      "[200]\tvalid_0's l2: 0.408166\n",
      "Early stopping, best iteration is:\n",
      "[92]\tvalid_0's l2: 0.382139\n",
      "[LightGBM] [Warning] Met categorical feature which contains sparse values. Consider renumbering to consecutive integers started from zero\n",
      "[LightGBM] [Warning] Categorical features with more bins than the configured maximum bin number found.\n",
      "[LightGBM] [Warning] For categorical features, max_bin and max_bin_by_feature may be ignored with a large number of categories.\n",
      "[LightGBM] [Info] Auto-choosing col-wise multi-threading, the overhead of testing was 0.002813 seconds.\n",
      "You can set `force_col_wise=true` to remove the overhead.\n",
      "[LightGBM] [Info] Total Bins 10353\n",
      "[LightGBM] [Info] Number of data points in the train set: 29059, number of used features: 54\n",
      "[LightGBM] [Info] Start training from score 3.697251\n",
      "Training until validation scores don't improve for 125 rounds\n",
      "[25]\tvalid_0's l2: 0.489825\n",
      "[50]\tvalid_0's l2: 0.392448\n",
      "[75]\tvalid_0's l2: 0.360255\n",
      "[100]\tvalid_0's l2: 0.351075\n",
      "[125]\tvalid_0's l2: 0.353017\n",
      "[150]\tvalid_0's l2: 0.358132\n",
      "[175]\tvalid_0's l2: 0.363925\n",
      "[200]\tvalid_0's l2: 0.371056\n",
      "[225]\tvalid_0's l2: 0.377995\n",
      "Early stopping, best iteration is:\n",
      "[103]\tvalid_0's l2: 0.350674\n",
      "[LightGBM] [Warning] Met categorical feature which contains sparse values. Consider renumbering to consecutive integers started from zero\n",
      "[LightGBM] [Warning] Categorical features with more bins than the configured maximum bin number found.\n",
      "[LightGBM] [Warning] For categorical features, max_bin and max_bin_by_feature may be ignored with a large number of categories.\n",
      "[LightGBM] [Info] Auto-choosing col-wise multi-threading, the overhead of testing was 0.003818 seconds.\n",
      "You can set `force_col_wise=true` to remove the overhead.\n",
      "[LightGBM] [Info] Total Bins 10353\n",
      "[LightGBM] [Info] Number of data points in the train set: 29059, number of used features: 54\n",
      "[LightGBM] [Info] Start training from score 3.707310\n",
      "Training until validation scores don't improve for 125 rounds\n",
      "[25]\tvalid_0's l2: 0.476312\n",
      "[50]\tvalid_0's l2: 0.370934\n",
      "[75]\tvalid_0's l2: 0.338594\n",
      "[100]\tvalid_0's l2: 0.331937\n",
      "[125]\tvalid_0's l2: 0.334598\n",
      "[150]\tvalid_0's l2: 0.339984\n",
      "[175]\tvalid_0's l2: 0.344828\n",
      "[200]\tvalid_0's l2: 0.350372\n",
      "[225]\tvalid_0's l2: 0.356047\n",
      "Early stopping, best iteration is:\n",
      "[103]\tvalid_0's l2: 0.331485\n"
     ]
    },
    {
     "data": {
      "text/html": [
       "<style>#sk-container-id-13 {\n",
       "  /* Definition of color scheme common for light and dark mode */\n",
       "  --sklearn-color-text: #000;\n",
       "  --sklearn-color-text-muted: #666;\n",
       "  --sklearn-color-line: gray;\n",
       "  /* Definition of color scheme for unfitted estimators */\n",
       "  --sklearn-color-unfitted-level-0: #fff5e6;\n",
       "  --sklearn-color-unfitted-level-1: #f6e4d2;\n",
       "  --sklearn-color-unfitted-level-2: #ffe0b3;\n",
       "  --sklearn-color-unfitted-level-3: chocolate;\n",
       "  /* Definition of color scheme for fitted estimators */\n",
       "  --sklearn-color-fitted-level-0: #f0f8ff;\n",
       "  --sklearn-color-fitted-level-1: #d4ebff;\n",
       "  --sklearn-color-fitted-level-2: #b3dbfd;\n",
       "  --sklearn-color-fitted-level-3: cornflowerblue;\n",
       "\n",
       "  /* Specific color for light theme */\n",
       "  --sklearn-color-text-on-default-background: var(--sg-text-color, var(--theme-code-foreground, var(--jp-content-font-color1, black)));\n",
       "  --sklearn-color-background: var(--sg-background-color, var(--theme-background, var(--jp-layout-color0, white)));\n",
       "  --sklearn-color-border-box: var(--sg-text-color, var(--theme-code-foreground, var(--jp-content-font-color1, black)));\n",
       "  --sklearn-color-icon: #696969;\n",
       "\n",
       "  @media (prefers-color-scheme: dark) {\n",
       "    /* Redefinition of color scheme for dark theme */\n",
       "    --sklearn-color-text-on-default-background: var(--sg-text-color, var(--theme-code-foreground, var(--jp-content-font-color1, white)));\n",
       "    --sklearn-color-background: var(--sg-background-color, var(--theme-background, var(--jp-layout-color0, #111)));\n",
       "    --sklearn-color-border-box: var(--sg-text-color, var(--theme-code-foreground, var(--jp-content-font-color1, white)));\n",
       "    --sklearn-color-icon: #878787;\n",
       "  }\n",
       "}\n",
       "\n",
       "#sk-container-id-13 {\n",
       "  color: var(--sklearn-color-text);\n",
       "}\n",
       "\n",
       "#sk-container-id-13 pre {\n",
       "  padding: 0;\n",
       "}\n",
       "\n",
       "#sk-container-id-13 input.sk-hidden--visually {\n",
       "  border: 0;\n",
       "  clip: rect(1px 1px 1px 1px);\n",
       "  clip: rect(1px, 1px, 1px, 1px);\n",
       "  height: 1px;\n",
       "  margin: -1px;\n",
       "  overflow: hidden;\n",
       "  padding: 0;\n",
       "  position: absolute;\n",
       "  width: 1px;\n",
       "}\n",
       "\n",
       "#sk-container-id-13 div.sk-dashed-wrapped {\n",
       "  border: 1px dashed var(--sklearn-color-line);\n",
       "  margin: 0 0.4em 0.5em 0.4em;\n",
       "  box-sizing: border-box;\n",
       "  padding-bottom: 0.4em;\n",
       "  background-color: var(--sklearn-color-background);\n",
       "}\n",
       "\n",
       "#sk-container-id-13 div.sk-container {\n",
       "  /* jupyter's `normalize.less` sets `[hidden] { display: none; }`\n",
       "     but bootstrap.min.css set `[hidden] { display: none !important; }`\n",
       "     so we also need the `!important` here to be able to override the\n",
       "     default hidden behavior on the sphinx rendered scikit-learn.org.\n",
       "     See: https://github.com/scikit-learn/scikit-learn/issues/21755 */\n",
       "  display: inline-block !important;\n",
       "  position: relative;\n",
       "}\n",
       "\n",
       "#sk-container-id-13 div.sk-text-repr-fallback {\n",
       "  display: none;\n",
       "}\n",
       "\n",
       "div.sk-parallel-item,\n",
       "div.sk-serial,\n",
       "div.sk-item {\n",
       "  /* draw centered vertical line to link estimators */\n",
       "  background-image: linear-gradient(var(--sklearn-color-text-on-default-background), var(--sklearn-color-text-on-default-background));\n",
       "  background-size: 2px 100%;\n",
       "  background-repeat: no-repeat;\n",
       "  background-position: center center;\n",
       "}\n",
       "\n",
       "/* Parallel-specific style estimator block */\n",
       "\n",
       "#sk-container-id-13 div.sk-parallel-item::after {\n",
       "  content: \"\";\n",
       "  width: 100%;\n",
       "  border-bottom: 2px solid var(--sklearn-color-text-on-default-background);\n",
       "  flex-grow: 1;\n",
       "}\n",
       "\n",
       "#sk-container-id-13 div.sk-parallel {\n",
       "  display: flex;\n",
       "  align-items: stretch;\n",
       "  justify-content: center;\n",
       "  background-color: var(--sklearn-color-background);\n",
       "  position: relative;\n",
       "}\n",
       "\n",
       "#sk-container-id-13 div.sk-parallel-item {\n",
       "  display: flex;\n",
       "  flex-direction: column;\n",
       "}\n",
       "\n",
       "#sk-container-id-13 div.sk-parallel-item:first-child::after {\n",
       "  align-self: flex-end;\n",
       "  width: 50%;\n",
       "}\n",
       "\n",
       "#sk-container-id-13 div.sk-parallel-item:last-child::after {\n",
       "  align-self: flex-start;\n",
       "  width: 50%;\n",
       "}\n",
       "\n",
       "#sk-container-id-13 div.sk-parallel-item:only-child::after {\n",
       "  width: 0;\n",
       "}\n",
       "\n",
       "/* Serial-specific style estimator block */\n",
       "\n",
       "#sk-container-id-13 div.sk-serial {\n",
       "  display: flex;\n",
       "  flex-direction: column;\n",
       "  align-items: center;\n",
       "  background-color: var(--sklearn-color-background);\n",
       "  padding-right: 1em;\n",
       "  padding-left: 1em;\n",
       "}\n",
       "\n",
       "\n",
       "/* Toggleable style: style used for estimator/Pipeline/ColumnTransformer box that is\n",
       "clickable and can be expanded/collapsed.\n",
       "- Pipeline and ColumnTransformer use this feature and define the default style\n",
       "- Estimators will overwrite some part of the style using the `sk-estimator` class\n",
       "*/\n",
       "\n",
       "/* Pipeline and ColumnTransformer style (default) */\n",
       "\n",
       "#sk-container-id-13 div.sk-toggleable {\n",
       "  /* Default theme specific background. It is overwritten whether we have a\n",
       "  specific estimator or a Pipeline/ColumnTransformer */\n",
       "  background-color: var(--sklearn-color-background);\n",
       "}\n",
       "\n",
       "/* Toggleable label */\n",
       "#sk-container-id-13 label.sk-toggleable__label {\n",
       "  cursor: pointer;\n",
       "  display: flex;\n",
       "  width: 100%;\n",
       "  margin-bottom: 0;\n",
       "  padding: 0.5em;\n",
       "  box-sizing: border-box;\n",
       "  text-align: center;\n",
       "  align-items: start;\n",
       "  justify-content: space-between;\n",
       "  gap: 0.5em;\n",
       "}\n",
       "\n",
       "#sk-container-id-13 label.sk-toggleable__label .caption {\n",
       "  font-size: 0.6rem;\n",
       "  font-weight: lighter;\n",
       "  color: var(--sklearn-color-text-muted);\n",
       "}\n",
       "\n",
       "#sk-container-id-13 label.sk-toggleable__label-arrow:before {\n",
       "  /* Arrow on the left of the label */\n",
       "  content: \"▸\";\n",
       "  float: left;\n",
       "  margin-right: 0.25em;\n",
       "  color: var(--sklearn-color-icon);\n",
       "}\n",
       "\n",
       "#sk-container-id-13 label.sk-toggleable__label-arrow:hover:before {\n",
       "  color: var(--sklearn-color-text);\n",
       "}\n",
       "\n",
       "/* Toggleable content - dropdown */\n",
       "\n",
       "#sk-container-id-13 div.sk-toggleable__content {\n",
       "  display: none;\n",
       "  text-align: left;\n",
       "  /* unfitted */\n",
       "  background-color: var(--sklearn-color-unfitted-level-0);\n",
       "}\n",
       "\n",
       "#sk-container-id-13 div.sk-toggleable__content.fitted {\n",
       "  /* fitted */\n",
       "  background-color: var(--sklearn-color-fitted-level-0);\n",
       "}\n",
       "\n",
       "#sk-container-id-13 div.sk-toggleable__content pre {\n",
       "  margin: 0.2em;\n",
       "  border-radius: 0.25em;\n",
       "  color: var(--sklearn-color-text);\n",
       "  /* unfitted */\n",
       "  background-color: var(--sklearn-color-unfitted-level-0);\n",
       "}\n",
       "\n",
       "#sk-container-id-13 div.sk-toggleable__content.fitted pre {\n",
       "  /* unfitted */\n",
       "  background-color: var(--sklearn-color-fitted-level-0);\n",
       "}\n",
       "\n",
       "#sk-container-id-13 input.sk-toggleable__control:checked~div.sk-toggleable__content {\n",
       "  /* Expand drop-down */\n",
       "  display: block;\n",
       "  width: 100%;\n",
       "  overflow: visible;\n",
       "}\n",
       "\n",
       "#sk-container-id-13 input.sk-toggleable__control:checked~label.sk-toggleable__label-arrow:before {\n",
       "  content: \"▾\";\n",
       "}\n",
       "\n",
       "/* Pipeline/ColumnTransformer-specific style */\n",
       "\n",
       "#sk-container-id-13 div.sk-label input.sk-toggleable__control:checked~label.sk-toggleable__label {\n",
       "  color: var(--sklearn-color-text);\n",
       "  background-color: var(--sklearn-color-unfitted-level-2);\n",
       "}\n",
       "\n",
       "#sk-container-id-13 div.sk-label.fitted input.sk-toggleable__control:checked~label.sk-toggleable__label {\n",
       "  background-color: var(--sklearn-color-fitted-level-2);\n",
       "}\n",
       "\n",
       "/* Estimator-specific style */\n",
       "\n",
       "/* Colorize estimator box */\n",
       "#sk-container-id-13 div.sk-estimator input.sk-toggleable__control:checked~label.sk-toggleable__label {\n",
       "  /* unfitted */\n",
       "  background-color: var(--sklearn-color-unfitted-level-2);\n",
       "}\n",
       "\n",
       "#sk-container-id-13 div.sk-estimator.fitted input.sk-toggleable__control:checked~label.sk-toggleable__label {\n",
       "  /* fitted */\n",
       "  background-color: var(--sklearn-color-fitted-level-2);\n",
       "}\n",
       "\n",
       "#sk-container-id-13 div.sk-label label.sk-toggleable__label,\n",
       "#sk-container-id-13 div.sk-label label {\n",
       "  /* The background is the default theme color */\n",
       "  color: var(--sklearn-color-text-on-default-background);\n",
       "}\n",
       "\n",
       "/* On hover, darken the color of the background */\n",
       "#sk-container-id-13 div.sk-label:hover label.sk-toggleable__label {\n",
       "  color: var(--sklearn-color-text);\n",
       "  background-color: var(--sklearn-color-unfitted-level-2);\n",
       "}\n",
       "\n",
       "/* Label box, darken color on hover, fitted */\n",
       "#sk-container-id-13 div.sk-label.fitted:hover label.sk-toggleable__label.fitted {\n",
       "  color: var(--sklearn-color-text);\n",
       "  background-color: var(--sklearn-color-fitted-level-2);\n",
       "}\n",
       "\n",
       "/* Estimator label */\n",
       "\n",
       "#sk-container-id-13 div.sk-label label {\n",
       "  font-family: monospace;\n",
       "  font-weight: bold;\n",
       "  display: inline-block;\n",
       "  line-height: 1.2em;\n",
       "}\n",
       "\n",
       "#sk-container-id-13 div.sk-label-container {\n",
       "  text-align: center;\n",
       "}\n",
       "\n",
       "/* Estimator-specific */\n",
       "#sk-container-id-13 div.sk-estimator {\n",
       "  font-family: monospace;\n",
       "  border: 1px dotted var(--sklearn-color-border-box);\n",
       "  border-radius: 0.25em;\n",
       "  box-sizing: border-box;\n",
       "  margin-bottom: 0.5em;\n",
       "  /* unfitted */\n",
       "  background-color: var(--sklearn-color-unfitted-level-0);\n",
       "}\n",
       "\n",
       "#sk-container-id-13 div.sk-estimator.fitted {\n",
       "  /* fitted */\n",
       "  background-color: var(--sklearn-color-fitted-level-0);\n",
       "}\n",
       "\n",
       "/* on hover */\n",
       "#sk-container-id-13 div.sk-estimator:hover {\n",
       "  /* unfitted */\n",
       "  background-color: var(--sklearn-color-unfitted-level-2);\n",
       "}\n",
       "\n",
       "#sk-container-id-13 div.sk-estimator.fitted:hover {\n",
       "  /* fitted */\n",
       "  background-color: var(--sklearn-color-fitted-level-2);\n",
       "}\n",
       "\n",
       "/* Specification for estimator info (e.g. \"i\" and \"?\") */\n",
       "\n",
       "/* Common style for \"i\" and \"?\" */\n",
       "\n",
       ".sk-estimator-doc-link,\n",
       "a:link.sk-estimator-doc-link,\n",
       "a:visited.sk-estimator-doc-link {\n",
       "  float: right;\n",
       "  font-size: smaller;\n",
       "  line-height: 1em;\n",
       "  font-family: monospace;\n",
       "  background-color: var(--sklearn-color-background);\n",
       "  border-radius: 1em;\n",
       "  height: 1em;\n",
       "  width: 1em;\n",
       "  text-decoration: none !important;\n",
       "  margin-left: 0.5em;\n",
       "  text-align: center;\n",
       "  /* unfitted */\n",
       "  border: var(--sklearn-color-unfitted-level-1) 1pt solid;\n",
       "  color: var(--sklearn-color-unfitted-level-1);\n",
       "}\n",
       "\n",
       ".sk-estimator-doc-link.fitted,\n",
       "a:link.sk-estimator-doc-link.fitted,\n",
       "a:visited.sk-estimator-doc-link.fitted {\n",
       "  /* fitted */\n",
       "  border: var(--sklearn-color-fitted-level-1) 1pt solid;\n",
       "  color: var(--sklearn-color-fitted-level-1);\n",
       "}\n",
       "\n",
       "/* On hover */\n",
       "div.sk-estimator:hover .sk-estimator-doc-link:hover,\n",
       ".sk-estimator-doc-link:hover,\n",
       "div.sk-label-container:hover .sk-estimator-doc-link:hover,\n",
       ".sk-estimator-doc-link:hover {\n",
       "  /* unfitted */\n",
       "  background-color: var(--sklearn-color-unfitted-level-3);\n",
       "  color: var(--sklearn-color-background);\n",
       "  text-decoration: none;\n",
       "}\n",
       "\n",
       "div.sk-estimator.fitted:hover .sk-estimator-doc-link.fitted:hover,\n",
       ".sk-estimator-doc-link.fitted:hover,\n",
       "div.sk-label-container:hover .sk-estimator-doc-link.fitted:hover,\n",
       ".sk-estimator-doc-link.fitted:hover {\n",
       "  /* fitted */\n",
       "  background-color: var(--sklearn-color-fitted-level-3);\n",
       "  color: var(--sklearn-color-background);\n",
       "  text-decoration: none;\n",
       "}\n",
       "\n",
       "/* Span, style for the box shown on hovering the info icon */\n",
       ".sk-estimator-doc-link span {\n",
       "  display: none;\n",
       "  z-index: 9999;\n",
       "  position: relative;\n",
       "  font-weight: normal;\n",
       "  right: .2ex;\n",
       "  padding: .5ex;\n",
       "  margin: .5ex;\n",
       "  width: min-content;\n",
       "  min-width: 20ex;\n",
       "  max-width: 50ex;\n",
       "  color: var(--sklearn-color-text);\n",
       "  box-shadow: 2pt 2pt 4pt #999;\n",
       "  /* unfitted */\n",
       "  background: var(--sklearn-color-unfitted-level-0);\n",
       "  border: .5pt solid var(--sklearn-color-unfitted-level-3);\n",
       "}\n",
       "\n",
       ".sk-estimator-doc-link.fitted span {\n",
       "  /* fitted */\n",
       "  background: var(--sklearn-color-fitted-level-0);\n",
       "  border: var(--sklearn-color-fitted-level-3);\n",
       "}\n",
       "\n",
       ".sk-estimator-doc-link:hover span {\n",
       "  display: block;\n",
       "}\n",
       "\n",
       "/* \"?\"-specific style due to the `<a>` HTML tag */\n",
       "\n",
       "#sk-container-id-13 a.estimator_doc_link {\n",
       "  float: right;\n",
       "  font-size: 1rem;\n",
       "  line-height: 1em;\n",
       "  font-family: monospace;\n",
       "  background-color: var(--sklearn-color-background);\n",
       "  border-radius: 1rem;\n",
       "  height: 1rem;\n",
       "  width: 1rem;\n",
       "  text-decoration: none;\n",
       "  /* unfitted */\n",
       "  color: var(--sklearn-color-unfitted-level-1);\n",
       "  border: var(--sklearn-color-unfitted-level-1) 1pt solid;\n",
       "}\n",
       "\n",
       "#sk-container-id-13 a.estimator_doc_link.fitted {\n",
       "  /* fitted */\n",
       "  border: var(--sklearn-color-fitted-level-1) 1pt solid;\n",
       "  color: var(--sklearn-color-fitted-level-1);\n",
       "}\n",
       "\n",
       "/* On hover */\n",
       "#sk-container-id-13 a.estimator_doc_link:hover {\n",
       "  /* unfitted */\n",
       "  background-color: var(--sklearn-color-unfitted-level-3);\n",
       "  color: var(--sklearn-color-background);\n",
       "  text-decoration: none;\n",
       "}\n",
       "\n",
       "#sk-container-id-13 a.estimator_doc_link.fitted:hover {\n",
       "  /* fitted */\n",
       "  background-color: var(--sklearn-color-fitted-level-3);\n",
       "}\n",
       "\n",
       ".estimator-table summary {\n",
       "    padding: .5rem;\n",
       "    font-family: monospace;\n",
       "    cursor: pointer;\n",
       "}\n",
       "\n",
       ".estimator-table details[open] {\n",
       "    padding-left: 0.1rem;\n",
       "    padding-right: 0.1rem;\n",
       "    padding-bottom: 0.3rem;\n",
       "}\n",
       "\n",
       ".estimator-table .parameters-table {\n",
       "    margin-left: auto !important;\n",
       "    margin-right: auto !important;\n",
       "}\n",
       "\n",
       ".estimator-table .parameters-table tr:nth-child(odd) {\n",
       "    background-color: #fff;\n",
       "}\n",
       "\n",
       ".estimator-table .parameters-table tr:nth-child(even) {\n",
       "    background-color: #f6f6f6;\n",
       "}\n",
       "\n",
       ".estimator-table .parameters-table tr:hover {\n",
       "    background-color: #e0e0e0;\n",
       "}\n",
       "\n",
       ".estimator-table table td {\n",
       "    border: 1px solid rgba(106, 105, 104, 0.232);\n",
       "}\n",
       "\n",
       ".user-set td {\n",
       "    color:rgb(255, 94, 0);\n",
       "    text-align: left;\n",
       "}\n",
       "\n",
       ".user-set td.value pre {\n",
       "    color:rgb(255, 94, 0) !important;\n",
       "    background-color: transparent !important;\n",
       "}\n",
       "\n",
       ".default td {\n",
       "    color: black;\n",
       "    text-align: left;\n",
       "}\n",
       "\n",
       ".user-set td i,\n",
       ".default td i {\n",
       "    color: black;\n",
       "}\n",
       "\n",
       ".copy-paste-icon {\n",
       "    background-image: url(data:image/svg+xml;base64,PHN2ZyB4bWxucz0iaHR0cDovL3d3dy53My5vcmcvMjAwMC9zdmciIHZpZXdCb3g9IjAgMCA0NDggNTEyIj48IS0tIUZvbnQgQXdlc29tZSBGcmVlIDYuNy4yIGJ5IEBmb250YXdlc29tZSAtIGh0dHBzOi8vZm9udGF3ZXNvbWUuY29tIExpY2Vuc2UgLSBodHRwczovL2ZvbnRhd2Vzb21lLmNvbS9saWNlbnNlL2ZyZWUgQ29weXJpZ2h0IDIwMjUgRm9udGljb25zLCBJbmMuLS0+PHBhdGggZD0iTTIwOCAwTDMzMi4xIDBjMTIuNyAwIDI0LjkgNS4xIDMzLjkgMTQuMWw2Ny45IDY3LjljOSA5IDE0LjEgMjEuMiAxNC4xIDMzLjlMNDQ4IDMzNmMwIDI2LjUtMjEuNSA0OC00OCA0OGwtMTkyIDBjLTI2LjUgMC00OC0yMS41LTQ4LTQ4bDAtMjg4YzAtMjYuNSAyMS41LTQ4IDQ4LTQ4ek00OCAxMjhsODAgMCAwIDY0LTY0IDAgMCAyNTYgMTkyIDAgMC0zMiA2NCAwIDAgNDhjMCAyNi41LTIxLjUgNDgtNDggNDhMNDggNTEyYy0yNi41IDAtNDgtMjEuNS00OC00OEwwIDE3NmMwLTI2LjUgMjEuNS00OCA0OC00OHoiLz48L3N2Zz4=);\n",
       "    background-repeat: no-repeat;\n",
       "    background-size: 14px 14px;\n",
       "    background-position: 0;\n",
       "    display: inline-block;\n",
       "    width: 14px;\n",
       "    height: 14px;\n",
       "    cursor: pointer;\n",
       "}\n",
       "</style><body><div id=\"sk-container-id-13\" class=\"sk-top-container\"><div class=\"sk-text-repr-fallback\"><pre>DirectMultihorizonForecaster(horizons=7,\n",
       "                             params={&#x27;learning_rate&#x27;: 0.02,\n",
       "                                     &#x27;min_child_samples&#x27;: 20,\n",
       "                                     &#x27;min_split_gain&#x27;: 0.1,\n",
       "                                     &#x27;n_estimators&#x27;: 1000, &#x27;n_jobs&#x27;: 8,\n",
       "                                     &#x27;num_leaves&#x27;: 31,\n",
       "                                     &#x27;objective&#x27;: &#x27;regression&#x27;,\n",
       "                                     &#x27;subsample&#x27;: 0.4, &#x27;subsample_freq&#x27;: 1})</pre><b>In a Jupyter environment, please rerun this cell to show the HTML representation or trust the notebook. <br />On GitHub, the HTML representation is unable to render, please try loading this page with nbviewer.org.</b></div><div class=\"sk-container\" hidden><div class=\"sk-item\"><div class=\"sk-estimator fitted sk-toggleable\"><input class=\"sk-toggleable__control sk-hidden--visually\" id=\"sk-estimator-id-13\" type=\"checkbox\" checked><label for=\"sk-estimator-id-13\" class=\"sk-toggleable__label fitted sk-toggleable__label-arrow\"><div><div>DirectMultihorizonForecaster</div></div><div><span class=\"sk-estimator-doc-link fitted\">i<span>Fitted</span></span></div></label><div class=\"sk-toggleable__content fitted\" data-param-prefix=\"\">\n",
       "        <div class=\"estimator-table\">\n",
       "            <details>\n",
       "                <summary>Parameters</summary>\n",
       "                <table class=\"parameters-table\">\n",
       "                  <tbody>\n",
       "                    \n",
       "        <tr class=\"user-set\">\n",
       "            <td><i class=\"copy-paste-icon\"\n",
       "                 onclick=\"copyToClipboard('horizons',\n",
       "                          this.parentElement.nextElementSibling)\"\n",
       "            ></i></td>\n",
       "            <td class=\"param\">horizons&nbsp;</td>\n",
       "            <td class=\"value\">7</td>\n",
       "        </tr>\n",
       "    \n",
       "\n",
       "        <tr class=\"user-set\">\n",
       "            <td><i class=\"copy-paste-icon\"\n",
       "                 onclick=\"copyToClipboard('params',\n",
       "                          this.parentElement.nextElementSibling)\"\n",
       "            ></i></td>\n",
       "            <td class=\"param\">params&nbsp;</td>\n",
       "            <td class=\"value\">{&#x27;learning_rate&#x27;: 0.02, &#x27;min_child_samples&#x27;: 20, &#x27;min_split_gain&#x27;: 0.1, &#x27;n_estimators&#x27;: 1000, ...}</td>\n",
       "        </tr>\n",
       "    \n",
       "                  </tbody>\n",
       "                </table>\n",
       "            </details>\n",
       "        </div>\n",
       "    </div></div></div></div></div><script>function copyToClipboard(text, element) {\n",
       "    // Get the parameter prefix from the closest toggleable content\n",
       "    const toggleableContent = element.closest('.sk-toggleable__content');\n",
       "    const paramPrefix = toggleableContent ? toggleableContent.dataset.paramPrefix : '';\n",
       "    const fullParamName = paramPrefix ? `${paramPrefix}${text}` : text;\n",
       "\n",
       "    const originalStyle = element.style;\n",
       "    const computedStyle = window.getComputedStyle(element);\n",
       "    const originalWidth = computedStyle.width;\n",
       "    const originalHTML = element.innerHTML.replace('Copied!', '');\n",
       "\n",
       "    navigator.clipboard.writeText(fullParamName)\n",
       "        .then(() => {\n",
       "            element.style.width = originalWidth;\n",
       "            element.style.color = 'green';\n",
       "            element.innerHTML = \"Copied!\";\n",
       "\n",
       "            setTimeout(() => {\n",
       "                element.innerHTML = originalHTML;\n",
       "                element.style = originalStyle;\n",
       "            }, 2000);\n",
       "        })\n",
       "        .catch(err => {\n",
       "            console.error('Failed to copy:', err);\n",
       "            element.style.color = 'red';\n",
       "            element.innerHTML = \"Failed!\";\n",
       "            setTimeout(() => {\n",
       "                element.innerHTML = originalHTML;\n",
       "                element.style = originalStyle;\n",
       "            }, 2000);\n",
       "        });\n",
       "    return false;\n",
       "}\n",
       "\n",
       "document.querySelectorAll('.fa-regular.fa-copy').forEach(function(element) {\n",
       "    const toggleableContent = element.closest('.sk-toggleable__content');\n",
       "    const paramPrefix = toggleableContent ? toggleableContent.dataset.paramPrefix : '';\n",
       "    const paramName = element.parentElement.nextElementSibling.textContent.trim();\n",
       "    const fullParamName = paramPrefix ? `${paramPrefix}${paramName}` : paramName;\n",
       "\n",
       "    element.setAttribute('title', fullParamName);\n",
       "});\n",
       "</script></body>"
      ],
      "text/plain": [
       "DirectMultihorizonForecaster(horizons=7,\n",
       "                             params={'learning_rate': 0.02,\n",
       "                                     'min_child_samples': 20,\n",
       "                                     'min_split_gain': 0.1,\n",
       "                                     'n_estimators': 1000, 'n_jobs': 8,\n",
       "                                     'num_leaves': 31,\n",
       "                                     'objective': 'regression',\n",
       "                                     'subsample': 0.4, 'subsample_freq': 1})"
      ]
     },
     "execution_count": 82,
     "metadata": {},
     "output_type": "execute_result"
    }
   ],
   "source": [
    "# x_train = lgb.Dataset(\n",
    "#     X.to_pandas(), label=y_train.get_column(\"log_units_sold\").to_numpy(),\n",
    "#     categorical_feature=categorical_cols,\n",
    "#     # weight=pd.concat([items[\"perishable\"]] * num_days) * 0.25 + 1\n",
    "# )\n",
    "\n",
    "# # Example usage:\n",
    "\n",
    "# bst = lgb.train(\n",
    "#     params, x_train, num_boost_round=MAX_ROUNDS,\n",
    "#     valid_sets=[x_train, dataset_valid],\n",
    "#     callbacks=[lgb.early_stopping(125), lgb.log_evaluation(25)],\n",
    "#     # force_col_wise=True\n",
    "# )\n",
    "\n",
    "model_params = {\n",
    "    # \"boosting_type\":\"dart\", # \"gdbt\"\n",
    "    \"num_leaves\": 31, #31\n",
    "    # \"max_depth\": 10, #-1,\n",
    "    \"learning_rate\": 0.02,\n",
    "    \"n_estimators\": 1000,\n",
    "    # \"subsample_for_bin\": 200000,\n",
    "    \"objective\": \"regression\",\n",
    "    # class_weight: Optional[Union[Dict, str]] = None,\n",
    "    \"min_split_gain\": 0.1, # 'feature_fraction': 0.1,#0.8,\n",
    "    # min_child_weight: float = 1e-3,\n",
    "    \"min_child_samples\": 20,\n",
    "    \"subsample\": 0.4, #'bagging_fraction': 0.7,\n",
    "    \"subsample_freq\": 1, # 'bagging_freq': 1,\n",
    "    # colsample_bytree: float = 1.0,\n",
    "    # reg_alpha: float = 0.0,\n",
    "    # reg_lambda: float = 0.0,\n",
    "    # random_state: Optional[Union[int, np.random.RandomState, np.random.Generator]] = None,\n",
    "    \"n_jobs\": 8, # 'num_threads': 16\n",
    "    # importance_type: str = \"split\",\n",
    "}\n",
    "\n",
    "dataset_valid = lgb.Dataset(\n",
    "    x_valid.to_pandas(), label=y_valid.get_column(\"h1_log_units_sold\").to_numpy(), \n",
    "    # reference=x_train,\n",
    "    # weight=items[\"perishable\"] * 0.25 + 1,\n",
    "    # categorical_feature=categorical_cols,\n",
    ")\n",
    "\n",
    "fit_params = {\n",
    "    \"eval_metric\": \"l2\",\n",
    "    \"eval_set\": [\n",
    "        # (x_train.to_pandas(), y_train.get_column(\"h1_log_units_sold\").to_numpy()),\n",
    "        (x_valid.to_pandas(), y_valid.get_column(\"h1_log_units_sold\").to_numpy())\n",
    "    ],\n",
    "    \"callbacks\": [lgbm.early_stopping(125), lgbm.log_evaluation(25)],\n",
    "    \"categorical_feature\": categorical_cols,\n",
    "    \"sample_weight\": weights,\n",
    "    # \"feature_name\": \"auto\",\n",
    "}\n",
    "\n",
    "forecaster = DirectMultihorizonForecaster(\n",
    "    horizons=7,\n",
    "    params=model_params\n",
    ")\n",
    "\n",
    "forecaster.fit(x_train, y_train, fit_params)#, target_cols=[\"h1_log_units_sold\", \"h2_log_units_sold\"])"
   ]
  },
  {
   "cell_type": "code",
   "execution_count": 83,
   "id": "aea34bb5",
   "metadata": {},
   "outputs": [
    {
     "data": {
      "text/html": [
       "<div><style>\n",
       ".dataframe > thead > tr,\n",
       ".dataframe > tbody > tr {\n",
       "  text-align: right;\n",
       "  white-space: pre-wrap;\n",
       "}\n",
       "</style>\n",
       "<small>shape: (54, 8)</small><table border=\"1\" class=\"dataframe\"><thead><tr><th>feature_name</th><th>h1_log_units_sold</th><th>h2_log_units_sold</th><th>h3_log_units_sold</th><th>h4_log_units_sold</th><th>h5_log_units_sold</th><th>h6_log_units_sold</th><th>h7_log_units_sold</th></tr><tr><td>str</td><td>i32</td><td>i32</td><td>i32</td><td>i32</td><td>i32</td><td>i32</td><td>i32</td></tr></thead><tbody><tr><td>&quot;store_id&quot;</td><td>90</td><td>41</td><td>34</td><td>41</td><td>23</td><td>21</td><td>20</td></tr><tr><td>&quot;product_id&quot;</td><td>202</td><td>72</td><td>66</td><td>72</td><td>70</td><td>43</td><td>44</td></tr><tr><td>&quot;log_units_sold&quot;</td><td>503</td><td>58</td><td>23</td><td>26</td><td>7</td><td>13</td><td>92</td></tr><tr><td>&quot;is_on_promotion&quot;</td><td>26</td><td>29</td><td>4</td><td>1</td><td>0</td><td>26</td><td>1</td></tr><tr><td>&quot;weekday&quot;</td><td>1003</td><td>542</td><td>494</td><td>470</td><td>433</td><td>437</td><td>400</td></tr><tr><td>&quot;month&quot;</td><td>414</td><td>3</td><td>6</td><td>2</td><td>1</td><td>1</td><td>0</td></tr><tr><td>&quot;weekofyear&quot;</td><td>2717</td><td>379</td><td>300</td><td>333</td><td>315</td><td>433</td><td>425</td></tr><tr><td>&quot;dayofyear&quot;</td><td>7256</td><td>518</td><td>319</td><td>340</td><td>307</td><td>313</td><td>350</td></tr><tr><td>&quot;mean_3d_log_units_sold&quot;</td><td>347</td><td>25</td><td>16</td><td>16</td><td>75</td><td>237</td><td>70</td></tr><tr><td>&quot;median_3d_log_units_sold&quot;</td><td>296</td><td>14</td><td>6</td><td>13</td><td>17</td><td>82</td><td>49</td></tr><tr><td>&quot;std_3d_log_units_sold&quot;</td><td>497</td><td>35</td><td>35</td><td>39</td><td>22</td><td>26</td><td>22</td></tr><tr><td>&quot;min_3d_log_units_sold&quot;</td><td>211</td><td>29</td><td>16</td><td>8</td><td>25</td><td>14</td><td>10</td></tr><tr><td>&quot;max_3d_log_units_sold&quot;</td><td>389</td><td>19</td><td>12</td><td>8</td><td>82</td><td>72</td><td>23</td></tr><tr><td>&quot;ewm_3d_log_units_sold&quot;</td><td>582</td><td>35</td><td>14</td><td>19</td><td>11</td><td>9</td><td>177</td></tr><tr><td>&quot;diff_mean_3d_log_units_sold&quot;</td><td>903</td><td>130</td><td>40</td><td>88</td><td>158</td><td>136</td><td>43</td></tr><tr><td>&quot;max_mean_ratio_3d_log_units_so…</td><td>518</td><td>20</td><td>28</td><td>11</td><td>42</td><td>63</td><td>18</td></tr><tr><td>&quot;mean_7d_log_units_sold&quot;</td><td>408</td><td>111</td><td>66</td><td>61</td><td>20</td><td>30</td><td>19</td></tr><tr><td>&quot;median_7d_log_units_sold&quot;</td><td>293</td><td>31</td><td>20</td><td>21</td><td>16</td><td>37</td><td>15</td></tr><tr><td>&quot;std_7d_log_units_sold&quot;</td><td>1031</td><td>81</td><td>33</td><td>29</td><td>33</td><td>37</td><td>39</td></tr><tr><td>&quot;min_7d_log_units_sold&quot;</td><td>268</td><td>25</td><td>20</td><td>23</td><td>13</td><td>19</td><td>14</td></tr><tr><td>&quot;max_7d_log_units_sold&quot;</td><td>423</td><td>88</td><td>33</td><td>39</td><td>9</td><td>18</td><td>8</td></tr><tr><td>&quot;ewm_7d_log_units_sold&quot;</td><td>154</td><td>10</td><td>6</td><td>4</td><td>1</td><td>1</td><td>113</td></tr><tr><td>&quot;diff_mean_7d_log_units_sold&quot;</td><td>1149</td><td>92</td><td>69</td><td>32</td><td>39</td><td>31</td><td>44</td></tr><tr><td>&quot;max_mean_ratio_7d_log_units_so…</td><td>827</td><td>51</td><td>31</td><td>31</td><td>33</td><td>30</td><td>22</td></tr><tr><td>&quot;mean_14d_log_units_sold&quot;</td><td>295</td><td>155</td><td>188</td><td>173</td><td>116</td><td>63</td><td>34</td></tr><tr><td>&quot;median_14d_log_units_sold&quot;</td><td>303</td><td>56</td><td>63</td><td>60</td><td>58</td><td>50</td><td>49</td></tr><tr><td>&quot;std_14d_log_units_sold&quot;</td><td>821</td><td>60</td><td>43</td><td>42</td><td>31</td><td>25</td><td>23</td></tr><tr><td>&quot;min_14d_log_units_sold&quot;</td><td>348</td><td>26</td><td>22</td><td>38</td><td>24</td><td>30</td><td>18</td></tr><tr><td>&quot;max_14d_log_units_sold&quot;</td><td>348</td><td>49</td><td>47</td><td>49</td><td>31</td><td>21</td><td>23</td></tr><tr><td>&quot;ewm_14d_log_units_sold&quot;</td><td>0</td><td>0</td><td>0</td><td>0</td><td>0</td><td>0</td><td>0</td></tr><tr><td>&quot;diff_mean_14d_log_units_sold&quot;</td><td>980</td><td>42</td><td>27</td><td>31</td><td>40</td><td>64</td><td>62</td></tr><tr><td>&quot;max_mean_ratio_14d_log_units_s…</td><td>757</td><td>35</td><td>22</td><td>24</td><td>16</td><td>14</td><td>14</td></tr><tr><td>&quot;mean_28d_log_units_sold&quot;</td><td>287</td><td>126</td><td>131</td><td>157</td><td>146</td><td>89</td><td>93</td></tr><tr><td>&quot;median_28d_log_units_sold&quot;</td><td>332</td><td>89</td><td>92</td><td>69</td><td>93</td><td>95</td><td>79</td></tr><tr><td>&quot;std_28d_log_units_sold&quot;</td><td>662</td><td>34</td><td>34</td><td>35</td><td>33</td><td>33</td><td>36</td></tr><tr><td>&quot;min_28d_log_units_sold&quot;</td><td>279</td><td>16</td><td>11</td><td>7</td><td>15</td><td>25</td><td>21</td></tr><tr><td>&quot;max_28d_log_units_sold&quot;</td><td>489</td><td>68</td><td>54</td><td>61</td><td>45</td><td>57</td><td>45</td></tr><tr><td>&quot;ewm_28d_log_units_sold&quot;</td><td>0</td><td>0</td><td>0</td><td>0</td><td>0</td><td>0</td><td>0</td></tr><tr><td>&quot;diff_mean_28d_log_units_sold&quot;</td><td>944</td><td>84</td><td>32</td><td>67</td><td>34</td><td>60</td><td>67</td></tr><tr><td>&quot;max_mean_ratio_28d_log_units_s…</td><td>794</td><td>28</td><td>21</td><td>32</td><td>17</td><td>15</td><td>15</td></tr><tr><td>&quot;mean_1w_log_units_sold&quot;</td><td>381</td><td>34</td><td>31</td><td>35</td><td>36</td><td>26</td><td>69</td></tr><tr><td>&quot;mean_2w_log_units_sold&quot;</td><td>289</td><td>79</td><td>72</td><td>67</td><td>61</td><td>60</td><td>79</td></tr><tr><td>&quot;mean_3w_log_units_sold&quot;</td><td>332</td><td>43</td><td>24</td><td>16</td><td>15</td><td>21</td><td>42</td></tr><tr><td>&quot;mean_4w_log_units_sold&quot;</td><td>339</td><td>119</td><td>140</td><td>132</td><td>140</td><td>177</td><td>239</td></tr><tr><td>&quot;mean_1y_log_units_sold&quot;</td><td>0</td><td>0</td><td>0</td><td>0</td><td>0</td><td>0</td><td>0</td></tr><tr><td>&quot;mean_2y_log_units_sold&quot;</td><td>0</td><td>0</td><td>0</td><td>0</td><td>0</td><td>0</td><td>0</td></tr><tr><td>&quot;mean_3y_log_units_sold&quot;</td><td>0</td><td>0</td><td>0</td><td>0</td><td>0</td><td>0</td><td>0</td></tr><tr><td>&quot;mean_4y_log_units_sold&quot;</td><td>0</td><td>0</td><td>0</td><td>0</td><td>0</td><td>0</td><td>0</td></tr><tr><td>&quot;sum_next_3d_is_on_promotion&quot;</td><td>131</td><td>24</td><td>14</td><td>14</td><td>11</td><td>0</td><td>36</td></tr><tr><td>&quot;sum_next_7d_is_on_promotion&quot;</td><td>12</td><td>0</td><td>0</td><td>0</td><td>2</td><td>0</td><td>0</td></tr><tr><td>&quot;sum_next_14d_is_on_promotion&quot;</td><td>77</td><td>1</td><td>0</td><td>0</td><td>0</td><td>1</td><td>0</td></tr><tr><td>&quot;family&quot;</td><td>113</td><td>54</td><td>61</td><td>44</td><td>44</td><td>35</td><td>28</td></tr><tr><td>&quot;class&quot;</td><td>0</td><td>0</td><td>0</td><td>0</td><td>0</td><td>0</td><td>0</td></tr><tr><td>&quot;perishable&quot;</td><td>0</td><td>0</td><td>0</td><td>0</td><td>0</td><td>0</td><td>0</td></tr></tbody></table></div>"
      ],
      "text/plain": [
       "shape: (54, 8)\n",
       "┌────────────┬────────────┬────────────┬───────────┬───────────┬───────────┬───────────┬───────────┐\n",
       "│ feature_na ┆ h1_log_uni ┆ h2_log_uni ┆ h3_log_un ┆ h4_log_un ┆ h5_log_un ┆ h6_log_un ┆ h7_log_un │\n",
       "│ me         ┆ ts_sold    ┆ ts_sold    ┆ its_sold  ┆ its_sold  ┆ its_sold  ┆ its_sold  ┆ its_sold  │\n",
       "│ ---        ┆ ---        ┆ ---        ┆ ---       ┆ ---       ┆ ---       ┆ ---       ┆ ---       │\n",
       "│ str        ┆ i32        ┆ i32        ┆ i32       ┆ i32       ┆ i32       ┆ i32       ┆ i32       │\n",
       "╞════════════╪════════════╪════════════╪═══════════╪═══════════╪═══════════╪═══════════╪═══════════╡\n",
       "│ store_id   ┆ 90         ┆ 41         ┆ 34        ┆ 41        ┆ 23        ┆ 21        ┆ 20        │\n",
       "│ product_id ┆ 202        ┆ 72         ┆ 66        ┆ 72        ┆ 70        ┆ 43        ┆ 44        │\n",
       "│ log_units_ ┆ 503        ┆ 58         ┆ 23        ┆ 26        ┆ 7         ┆ 13        ┆ 92        │\n",
       "│ sold       ┆            ┆            ┆           ┆           ┆           ┆           ┆           │\n",
       "│ is_on_prom ┆ 26         ┆ 29         ┆ 4         ┆ 1         ┆ 0         ┆ 26        ┆ 1         │\n",
       "│ otion      ┆            ┆            ┆           ┆           ┆           ┆           ┆           │\n",
       "│ weekday    ┆ 1003       ┆ 542        ┆ 494       ┆ 470       ┆ 433       ┆ 437       ┆ 400       │\n",
       "│ month      ┆ 414        ┆ 3          ┆ 6         ┆ 2         ┆ 1         ┆ 1         ┆ 0         │\n",
       "│ weekofyear ┆ 2717       ┆ 379        ┆ 300       ┆ 333       ┆ 315       ┆ 433       ┆ 425       │\n",
       "│ dayofyear  ┆ 7256       ┆ 518        ┆ 319       ┆ 340       ┆ 307       ┆ 313       ┆ 350       │\n",
       "│ mean_3d_lo ┆ 347        ┆ 25         ┆ 16        ┆ 16        ┆ 75        ┆ 237       ┆ 70        │\n",
       "│ g_units_so ┆            ┆            ┆           ┆           ┆           ┆           ┆           │\n",
       "│ ld         ┆            ┆            ┆           ┆           ┆           ┆           ┆           │\n",
       "│ median_3d_ ┆ 296        ┆ 14         ┆ 6         ┆ 13        ┆ 17        ┆ 82        ┆ 49        │\n",
       "│ log_units_ ┆            ┆            ┆           ┆           ┆           ┆           ┆           │\n",
       "│ sold       ┆            ┆            ┆           ┆           ┆           ┆           ┆           │\n",
       "│ std_3d_log ┆ 497        ┆ 35         ┆ 35        ┆ 39        ┆ 22        ┆ 26        ┆ 22        │\n",
       "│ _units_sol ┆            ┆            ┆           ┆           ┆           ┆           ┆           │\n",
       "│ d          ┆            ┆            ┆           ┆           ┆           ┆           ┆           │\n",
       "│ min_3d_log ┆ 211        ┆ 29         ┆ 16        ┆ 8         ┆ 25        ┆ 14        ┆ 10        │\n",
       "│ _units_sol ┆            ┆            ┆           ┆           ┆           ┆           ┆           │\n",
       "│ d          ┆            ┆            ┆           ┆           ┆           ┆           ┆           │\n",
       "│ max_3d_log ┆ 389        ┆ 19         ┆ 12        ┆ 8         ┆ 82        ┆ 72        ┆ 23        │\n",
       "│ _units_sol ┆            ┆            ┆           ┆           ┆           ┆           ┆           │\n",
       "│ d          ┆            ┆            ┆           ┆           ┆           ┆           ┆           │\n",
       "│ ewm_3d_log ┆ 582        ┆ 35         ┆ 14        ┆ 19        ┆ 11        ┆ 9         ┆ 177       │\n",
       "│ _units_sol ┆            ┆            ┆           ┆           ┆           ┆           ┆           │\n",
       "│ d          ┆            ┆            ┆           ┆           ┆           ┆           ┆           │\n",
       "│ diff_mean_ ┆ 903        ┆ 130        ┆ 40        ┆ 88        ┆ 158       ┆ 136       ┆ 43        │\n",
       "│ 3d_log_uni ┆            ┆            ┆           ┆           ┆           ┆           ┆           │\n",
       "│ ts_sold    ┆            ┆            ┆           ┆           ┆           ┆           ┆           │\n",
       "│ max_mean_r ┆ 518        ┆ 20         ┆ 28        ┆ 11        ┆ 42        ┆ 63        ┆ 18        │\n",
       "│ atio_3d_lo ┆            ┆            ┆           ┆           ┆           ┆           ┆           │\n",
       "│ g_units_so ┆            ┆            ┆           ┆           ┆           ┆           ┆           │\n",
       "│ …          ┆            ┆            ┆           ┆           ┆           ┆           ┆           │\n",
       "│ mean_7d_lo ┆ 408        ┆ 111        ┆ 66        ┆ 61        ┆ 20        ┆ 30        ┆ 19        │\n",
       "│ g_units_so ┆            ┆            ┆           ┆           ┆           ┆           ┆           │\n",
       "│ ld         ┆            ┆            ┆           ┆           ┆           ┆           ┆           │\n",
       "│ median_7d_ ┆ 293        ┆ 31         ┆ 20        ┆ 21        ┆ 16        ┆ 37        ┆ 15        │\n",
       "│ log_units_ ┆            ┆            ┆           ┆           ┆           ┆           ┆           │\n",
       "│ sold       ┆            ┆            ┆           ┆           ┆           ┆           ┆           │\n",
       "│ std_7d_log ┆ 1031       ┆ 81         ┆ 33        ┆ 29        ┆ 33        ┆ 37        ┆ 39        │\n",
       "│ _units_sol ┆            ┆            ┆           ┆           ┆           ┆           ┆           │\n",
       "│ d          ┆            ┆            ┆           ┆           ┆           ┆           ┆           │\n",
       "│ min_7d_log ┆ 268        ┆ 25         ┆ 20        ┆ 23        ┆ 13        ┆ 19        ┆ 14        │\n",
       "│ _units_sol ┆            ┆            ┆           ┆           ┆           ┆           ┆           │\n",
       "│ d          ┆            ┆            ┆           ┆           ┆           ┆           ┆           │\n",
       "│ max_7d_log ┆ 423        ┆ 88         ┆ 33        ┆ 39        ┆ 9         ┆ 18        ┆ 8         │\n",
       "│ _units_sol ┆            ┆            ┆           ┆           ┆           ┆           ┆           │\n",
       "│ d          ┆            ┆            ┆           ┆           ┆           ┆           ┆           │\n",
       "│ ewm_7d_log ┆ 154        ┆ 10         ┆ 6         ┆ 4         ┆ 1         ┆ 1         ┆ 113       │\n",
       "│ _units_sol ┆            ┆            ┆           ┆           ┆           ┆           ┆           │\n",
       "│ d          ┆            ┆            ┆           ┆           ┆           ┆           ┆           │\n",
       "│ diff_mean_ ┆ 1149       ┆ 92         ┆ 69        ┆ 32        ┆ 39        ┆ 31        ┆ 44        │\n",
       "│ 7d_log_uni ┆            ┆            ┆           ┆           ┆           ┆           ┆           │\n",
       "│ ts_sold    ┆            ┆            ┆           ┆           ┆           ┆           ┆           │\n",
       "│ max_mean_r ┆ 827        ┆ 51         ┆ 31        ┆ 31        ┆ 33        ┆ 30        ┆ 22        │\n",
       "│ atio_7d_lo ┆            ┆            ┆           ┆           ┆           ┆           ┆           │\n",
       "│ g_units_so ┆            ┆            ┆           ┆           ┆           ┆           ┆           │\n",
       "│ …          ┆            ┆            ┆           ┆           ┆           ┆           ┆           │\n",
       "│ mean_14d_l ┆ 295        ┆ 155        ┆ 188       ┆ 173       ┆ 116       ┆ 63        ┆ 34        │\n",
       "│ og_units_s ┆            ┆            ┆           ┆           ┆           ┆           ┆           │\n",
       "│ old        ┆            ┆            ┆           ┆           ┆           ┆           ┆           │\n",
       "│ median_14d ┆ 303        ┆ 56         ┆ 63        ┆ 60        ┆ 58        ┆ 50        ┆ 49        │\n",
       "│ _log_units ┆            ┆            ┆           ┆           ┆           ┆           ┆           │\n",
       "│ _sold      ┆            ┆            ┆           ┆           ┆           ┆           ┆           │\n",
       "│ std_14d_lo ┆ 821        ┆ 60         ┆ 43        ┆ 42        ┆ 31        ┆ 25        ┆ 23        │\n",
       "│ g_units_so ┆            ┆            ┆           ┆           ┆           ┆           ┆           │\n",
       "│ ld         ┆            ┆            ┆           ┆           ┆           ┆           ┆           │\n",
       "│ min_14d_lo ┆ 348        ┆ 26         ┆ 22        ┆ 38        ┆ 24        ┆ 30        ┆ 18        │\n",
       "│ g_units_so ┆            ┆            ┆           ┆           ┆           ┆           ┆           │\n",
       "│ ld         ┆            ┆            ┆           ┆           ┆           ┆           ┆           │\n",
       "│ max_14d_lo ┆ 348        ┆ 49         ┆ 47        ┆ 49        ┆ 31        ┆ 21        ┆ 23        │\n",
       "│ g_units_so ┆            ┆            ┆           ┆           ┆           ┆           ┆           │\n",
       "│ ld         ┆            ┆            ┆           ┆           ┆           ┆           ┆           │\n",
       "│ ewm_14d_lo ┆ 0          ┆ 0          ┆ 0         ┆ 0         ┆ 0         ┆ 0         ┆ 0         │\n",
       "│ g_units_so ┆            ┆            ┆           ┆           ┆           ┆           ┆           │\n",
       "│ ld         ┆            ┆            ┆           ┆           ┆           ┆           ┆           │\n",
       "│ diff_mean_ ┆ 980        ┆ 42         ┆ 27        ┆ 31        ┆ 40        ┆ 64        ┆ 62        │\n",
       "│ 14d_log_un ┆            ┆            ┆           ┆           ┆           ┆           ┆           │\n",
       "│ its_sold   ┆            ┆            ┆           ┆           ┆           ┆           ┆           │\n",
       "│ max_mean_r ┆ 757        ┆ 35         ┆ 22        ┆ 24        ┆ 16        ┆ 14        ┆ 14        │\n",
       "│ atio_14d_l ┆            ┆            ┆           ┆           ┆           ┆           ┆           │\n",
       "│ og_units_s ┆            ┆            ┆           ┆           ┆           ┆           ┆           │\n",
       "│ …          ┆            ┆            ┆           ┆           ┆           ┆           ┆           │\n",
       "│ mean_28d_l ┆ 287        ┆ 126        ┆ 131       ┆ 157       ┆ 146       ┆ 89        ┆ 93        │\n",
       "│ og_units_s ┆            ┆            ┆           ┆           ┆           ┆           ┆           │\n",
       "│ old        ┆            ┆            ┆           ┆           ┆           ┆           ┆           │\n",
       "│ median_28d ┆ 332        ┆ 89         ┆ 92        ┆ 69        ┆ 93        ┆ 95        ┆ 79        │\n",
       "│ _log_units ┆            ┆            ┆           ┆           ┆           ┆           ┆           │\n",
       "│ _sold      ┆            ┆            ┆           ┆           ┆           ┆           ┆           │\n",
       "│ std_28d_lo ┆ 662        ┆ 34         ┆ 34        ┆ 35        ┆ 33        ┆ 33        ┆ 36        │\n",
       "│ g_units_so ┆            ┆            ┆           ┆           ┆           ┆           ┆           │\n",
       "│ ld         ┆            ┆            ┆           ┆           ┆           ┆           ┆           │\n",
       "│ min_28d_lo ┆ 279        ┆ 16         ┆ 11        ┆ 7         ┆ 15        ┆ 25        ┆ 21        │\n",
       "│ g_units_so ┆            ┆            ┆           ┆           ┆           ┆           ┆           │\n",
       "│ ld         ┆            ┆            ┆           ┆           ┆           ┆           ┆           │\n",
       "│ max_28d_lo ┆ 489        ┆ 68         ┆ 54        ┆ 61        ┆ 45        ┆ 57        ┆ 45        │\n",
       "│ g_units_so ┆            ┆            ┆           ┆           ┆           ┆           ┆           │\n",
       "│ ld         ┆            ┆            ┆           ┆           ┆           ┆           ┆           │\n",
       "│ ewm_28d_lo ┆ 0          ┆ 0          ┆ 0         ┆ 0         ┆ 0         ┆ 0         ┆ 0         │\n",
       "│ g_units_so ┆            ┆            ┆           ┆           ┆           ┆           ┆           │\n",
       "│ ld         ┆            ┆            ┆           ┆           ┆           ┆           ┆           │\n",
       "│ diff_mean_ ┆ 944        ┆ 84         ┆ 32        ┆ 67        ┆ 34        ┆ 60        ┆ 67        │\n",
       "│ 28d_log_un ┆            ┆            ┆           ┆           ┆           ┆           ┆           │\n",
       "│ its_sold   ┆            ┆            ┆           ┆           ┆           ┆           ┆           │\n",
       "│ max_mean_r ┆ 794        ┆ 28         ┆ 21        ┆ 32        ┆ 17        ┆ 15        ┆ 15        │\n",
       "│ atio_28d_l ┆            ┆            ┆           ┆           ┆           ┆           ┆           │\n",
       "│ og_units_s ┆            ┆            ┆           ┆           ┆           ┆           ┆           │\n",
       "│ …          ┆            ┆            ┆           ┆           ┆           ┆           ┆           │\n",
       "│ mean_1w_lo ┆ 381        ┆ 34         ┆ 31        ┆ 35        ┆ 36        ┆ 26        ┆ 69        │\n",
       "│ g_units_so ┆            ┆            ┆           ┆           ┆           ┆           ┆           │\n",
       "│ ld         ┆            ┆            ┆           ┆           ┆           ┆           ┆           │\n",
       "│ mean_2w_lo ┆ 289        ┆ 79         ┆ 72        ┆ 67        ┆ 61        ┆ 60        ┆ 79        │\n",
       "│ g_units_so ┆            ┆            ┆           ┆           ┆           ┆           ┆           │\n",
       "│ ld         ┆            ┆            ┆           ┆           ┆           ┆           ┆           │\n",
       "│ mean_3w_lo ┆ 332        ┆ 43         ┆ 24        ┆ 16        ┆ 15        ┆ 21        ┆ 42        │\n",
       "│ g_units_so ┆            ┆            ┆           ┆           ┆           ┆           ┆           │\n",
       "│ ld         ┆            ┆            ┆           ┆           ┆           ┆           ┆           │\n",
       "│ mean_4w_lo ┆ 339        ┆ 119        ┆ 140       ┆ 132       ┆ 140       ┆ 177       ┆ 239       │\n",
       "│ g_units_so ┆            ┆            ┆           ┆           ┆           ┆           ┆           │\n",
       "│ ld         ┆            ┆            ┆           ┆           ┆           ┆           ┆           │\n",
       "│ mean_1y_lo ┆ 0          ┆ 0          ┆ 0         ┆ 0         ┆ 0         ┆ 0         ┆ 0         │\n",
       "│ g_units_so ┆            ┆            ┆           ┆           ┆           ┆           ┆           │\n",
       "│ ld         ┆            ┆            ┆           ┆           ┆           ┆           ┆           │\n",
       "│ mean_2y_lo ┆ 0          ┆ 0          ┆ 0         ┆ 0         ┆ 0         ┆ 0         ┆ 0         │\n",
       "│ g_units_so ┆            ┆            ┆           ┆           ┆           ┆           ┆           │\n",
       "│ ld         ┆            ┆            ┆           ┆           ┆           ┆           ┆           │\n",
       "│ mean_3y_lo ┆ 0          ┆ 0          ┆ 0         ┆ 0         ┆ 0         ┆ 0         ┆ 0         │\n",
       "│ g_units_so ┆            ┆            ┆           ┆           ┆           ┆           ┆           │\n",
       "│ ld         ┆            ┆            ┆           ┆           ┆           ┆           ┆           │\n",
       "│ mean_4y_lo ┆ 0          ┆ 0          ┆ 0         ┆ 0         ┆ 0         ┆ 0         ┆ 0         │\n",
       "│ g_units_so ┆            ┆            ┆           ┆           ┆           ┆           ┆           │\n",
       "│ ld         ┆            ┆            ┆           ┆           ┆           ┆           ┆           │\n",
       "│ sum_next_3 ┆ 131        ┆ 24         ┆ 14        ┆ 14        ┆ 11        ┆ 0         ┆ 36        │\n",
       "│ d_is_on_pr ┆            ┆            ┆           ┆           ┆           ┆           ┆           │\n",
       "│ omotion    ┆            ┆            ┆           ┆           ┆           ┆           ┆           │\n",
       "│ sum_next_7 ┆ 12         ┆ 0          ┆ 0         ┆ 0         ┆ 2         ┆ 0         ┆ 0         │\n",
       "│ d_is_on_pr ┆            ┆            ┆           ┆           ┆           ┆           ┆           │\n",
       "│ omotion    ┆            ┆            ┆           ┆           ┆           ┆           ┆           │\n",
       "│ sum_next_1 ┆ 77         ┆ 1          ┆ 0         ┆ 0         ┆ 0         ┆ 1         ┆ 0         │\n",
       "│ 4d_is_on_p ┆            ┆            ┆           ┆           ┆           ┆           ┆           │\n",
       "│ romotion   ┆            ┆            ┆           ┆           ┆           ┆           ┆           │\n",
       "│ family     ┆ 113        ┆ 54         ┆ 61        ┆ 44        ┆ 44        ┆ 35        ┆ 28        │\n",
       "│ class      ┆ 0          ┆ 0          ┆ 0         ┆ 0         ┆ 0         ┆ 0         ┆ 0         │\n",
       "│ perishable ┆ 0          ┆ 0          ┆ 0         ┆ 0         ┆ 0         ┆ 0         ┆ 0         │\n",
       "└────────────┴────────────┴────────────┴───────────┴───────────┴───────────┴───────────┴───────────┘"
      ]
     },
     "execution_count": 83,
     "metadata": {},
     "output_type": "execute_result"
    }
   ],
   "source": [
    "importances_df = forecaster.feature_importances()\n",
    "importances_df"
   ]
  },
  {
   "cell_type": "code",
   "execution_count": 84,
   "id": "975b9bd2",
   "metadata": {},
   "outputs": [
    {
     "data": {
      "text/plain": [
       "polars.config.Config"
      ]
     },
     "execution_count": 84,
     "metadata": {},
     "output_type": "execute_result"
    }
   ],
   "source": [
    "# modify max limit of df display\n",
    "pl.Config.set_tbl_rows(60)"
   ]
  },
  {
   "cell_type": "code",
   "execution_count": 106,
   "id": "811dc5ff",
   "metadata": {},
   "outputs": [
    {
     "data": {
      "text/html": [
       "<div><style>\n",
       ".dataframe > thead > tr,\n",
       ".dataframe > tbody > tr {\n",
       "  text-align: right;\n",
       "  white-space: pre-wrap;\n",
       "}\n",
       "</style>\n",
       "<small>shape: (54, 2)</small><table border=\"1\" class=\"dataframe\"><thead><tr><th>feature_name</th><th>importance</th></tr><tr><td>str</td><td>f64</td></tr></thead><tbody><tr><td>&quot;dayofyear&quot;</td><td>1343.285714</td></tr><tr><td>&quot;weekofyear&quot;</td><td>700.285714</td></tr><tr><td>&quot;weekday&quot;</td><td>539.857143</td></tr><tr><td>&quot;diff_mean_3d_log_units_sold&quot;</td><td>214.0</td></tr><tr><td>&quot;diff_mean_7d_log_units_sold&quot;</td><td>208.0</td></tr><tr><td>&quot;diff_mean_28d_log_units_sold&quot;</td><td>184.0</td></tr><tr><td>&quot;mean_4w_log_units_sold&quot;</td><td>183.714286</td></tr><tr><td>&quot;std_7d_log_units_sold&quot;</td><td>183.285714</td></tr><tr><td>&quot;diff_mean_14d_log_units_sold&quot;</td><td>178.0</td></tr><tr><td>&quot;std_14d_log_units_sold&quot;</td><td>149.285714</td></tr><tr><td>&quot;mean_28d_log_units_sold&quot;</td><td>147.0</td></tr><tr><td>&quot;max_mean_ratio_7d_log_units_so…</td><td>146.428571</td></tr><tr><td>&quot;mean_14d_log_units_sold&quot;</td><td>146.285714</td></tr><tr><td>&quot;max_mean_ratio_28d_log_units_s…</td><td>131.714286</td></tr><tr><td>&quot;max_mean_ratio_14d_log_units_s…</td><td>126.0</td></tr><tr><td>&quot;std_28d_log_units_sold&quot;</td><td>123.857143</td></tr><tr><td>&quot;median_28d_log_units_sold&quot;</td><td>121.285714</td></tr><tr><td>&quot;ewm_3d_log_units_sold&quot;</td><td>121.0</td></tr><tr><td>&quot;max_28d_log_units_sold&quot;</td><td>117.0</td></tr><tr><td>&quot;mean_3d_log_units_sold&quot;</td><td>112.285714</td></tr><tr><td>&quot;log_units_sold&quot;</td><td>103.142857</td></tr><tr><td>&quot;mean_7d_log_units_sold&quot;</td><td>102.142857</td></tr><tr><td>&quot;mean_2w_log_units_sold&quot;</td><td>101.0</td></tr><tr><td>&quot;max_mean_ratio_3d_log_units_so…</td><td>100.0</td></tr><tr><td>&quot;std_3d_log_units_sold&quot;</td><td>96.571429</td></tr><tr><td>&quot;median_14d_log_units_sold&quot;</td><td>91.285714</td></tr><tr><td>&quot;max_7d_log_units_sold&quot;</td><td>88.285714</td></tr><tr><td>&quot;mean_1w_log_units_sold&quot;</td><td>87.428571</td></tr><tr><td>&quot;max_3d_log_units_sold&quot;</td><td>86.428571</td></tr><tr><td>&quot;product_id&quot;</td><td>81.285714</td></tr><tr><td>&quot;max_14d_log_units_sold&quot;</td><td>81.142857</td></tr><tr><td>&quot;min_14d_log_units_sold&quot;</td><td>72.285714</td></tr><tr><td>&quot;mean_3w_log_units_sold&quot;</td><td>70.428571</td></tr><tr><td>&quot;median_3d_log_units_sold&quot;</td><td>68.142857</td></tr><tr><td>&quot;median_7d_log_units_sold&quot;</td><td>61.857143</td></tr><tr><td>&quot;month&quot;</td><td>61.0</td></tr><tr><td>&quot;min_7d_log_units_sold&quot;</td><td>54.571429</td></tr><tr><td>&quot;family&quot;</td><td>54.142857</td></tr><tr><td>&quot;min_28d_log_units_sold&quot;</td><td>53.428571</td></tr><tr><td>&quot;min_3d_log_units_sold&quot;</td><td>44.714286</td></tr><tr><td>&quot;ewm_7d_log_units_sold&quot;</td><td>41.285714</td></tr><tr><td>&quot;store_id&quot;</td><td>38.571429</td></tr><tr><td>&quot;sum_next_3d_is_on_promotion&quot;</td><td>32.857143</td></tr><tr><td>&quot;is_on_promotion&quot;</td><td>12.428571</td></tr><tr><td>&quot;sum_next_14d_is_on_promotion&quot;</td><td>11.285714</td></tr><tr><td>&quot;sum_next_7d_is_on_promotion&quot;</td><td>2.0</td></tr><tr><td>&quot;ewm_14d_log_units_sold&quot;</td><td>0.0</td></tr><tr><td>&quot;ewm_28d_log_units_sold&quot;</td><td>0.0</td></tr><tr><td>&quot;mean_1y_log_units_sold&quot;</td><td>0.0</td></tr><tr><td>&quot;mean_2y_log_units_sold&quot;</td><td>0.0</td></tr><tr><td>&quot;mean_3y_log_units_sold&quot;</td><td>0.0</td></tr><tr><td>&quot;mean_4y_log_units_sold&quot;</td><td>0.0</td></tr><tr><td>&quot;class&quot;</td><td>0.0</td></tr><tr><td>&quot;perishable&quot;</td><td>0.0</td></tr></tbody></table></div>"
      ],
      "text/plain": [
       "shape: (54, 2)\n",
       "┌─────────────────────────────────┬─────────────┐\n",
       "│ feature_name                    ┆ importance  │\n",
       "│ ---                             ┆ ---         │\n",
       "│ str                             ┆ f64         │\n",
       "╞═════════════════════════════════╪═════════════╡\n",
       "│ dayofyear                       ┆ 1343.285714 │\n",
       "│ weekofyear                      ┆ 700.285714  │\n",
       "│ weekday                         ┆ 539.857143  │\n",
       "│ diff_mean_3d_log_units_sold     ┆ 214.0       │\n",
       "│ diff_mean_7d_log_units_sold     ┆ 208.0       │\n",
       "│ diff_mean_28d_log_units_sold    ┆ 184.0       │\n",
       "│ mean_4w_log_units_sold          ┆ 183.714286  │\n",
       "│ std_7d_log_units_sold           ┆ 183.285714  │\n",
       "│ diff_mean_14d_log_units_sold    ┆ 178.0       │\n",
       "│ std_14d_log_units_sold          ┆ 149.285714  │\n",
       "│ mean_28d_log_units_sold         ┆ 147.0       │\n",
       "│ max_mean_ratio_7d_log_units_so… ┆ 146.428571  │\n",
       "│ mean_14d_log_units_sold         ┆ 146.285714  │\n",
       "│ max_mean_ratio_28d_log_units_s… ┆ 131.714286  │\n",
       "│ max_mean_ratio_14d_log_units_s… ┆ 126.0       │\n",
       "│ std_28d_log_units_sold          ┆ 123.857143  │\n",
       "│ median_28d_log_units_sold       ┆ 121.285714  │\n",
       "│ ewm_3d_log_units_sold           ┆ 121.0       │\n",
       "│ max_28d_log_units_sold          ┆ 117.0       │\n",
       "│ mean_3d_log_units_sold          ┆ 112.285714  │\n",
       "│ log_units_sold                  ┆ 103.142857  │\n",
       "│ mean_7d_log_units_sold          ┆ 102.142857  │\n",
       "│ mean_2w_log_units_sold          ┆ 101.0       │\n",
       "│ max_mean_ratio_3d_log_units_so… ┆ 100.0       │\n",
       "│ std_3d_log_units_sold           ┆ 96.571429   │\n",
       "│ median_14d_log_units_sold       ┆ 91.285714   │\n",
       "│ max_7d_log_units_sold           ┆ 88.285714   │\n",
       "│ mean_1w_log_units_sold          ┆ 87.428571   │\n",
       "│ max_3d_log_units_sold           ┆ 86.428571   │\n",
       "│ product_id                      ┆ 81.285714   │\n",
       "│ max_14d_log_units_sold          ┆ 81.142857   │\n",
       "│ min_14d_log_units_sold          ┆ 72.285714   │\n",
       "│ mean_3w_log_units_sold          ┆ 70.428571   │\n",
       "│ median_3d_log_units_sold        ┆ 68.142857   │\n",
       "│ median_7d_log_units_sold        ┆ 61.857143   │\n",
       "│ month                           ┆ 61.0        │\n",
       "│ min_7d_log_units_sold           ┆ 54.571429   │\n",
       "│ family                          ┆ 54.142857   │\n",
       "│ min_28d_log_units_sold          ┆ 53.428571   │\n",
       "│ min_3d_log_units_sold           ┆ 44.714286   │\n",
       "│ ewm_7d_log_units_sold           ┆ 41.285714   │\n",
       "│ store_id                        ┆ 38.571429   │\n",
       "│ sum_next_3d_is_on_promotion     ┆ 32.857143   │\n",
       "│ is_on_promotion                 ┆ 12.428571   │\n",
       "│ sum_next_14d_is_on_promotion    ┆ 11.285714   │\n",
       "│ sum_next_7d_is_on_promotion     ┆ 2.0         │\n",
       "│ ewm_14d_log_units_sold          ┆ 0.0         │\n",
       "│ ewm_28d_log_units_sold          ┆ 0.0         │\n",
       "│ mean_1y_log_units_sold          ┆ 0.0         │\n",
       "│ mean_2y_log_units_sold          ┆ 0.0         │\n",
       "│ mean_3y_log_units_sold          ┆ 0.0         │\n",
       "│ mean_4y_log_units_sold          ┆ 0.0         │\n",
       "│ class                           ┆ 0.0         │\n",
       "│ perishable                      ┆ 0.0         │\n",
       "└─────────────────────────────────┴─────────────┘"
      ]
     },
     "execution_count": 106,
     "metadata": {},
     "output_type": "execute_result"
    }
   ],
   "source": [
    "importances_df.select(\n",
    "    pl.col(\"feature_name\"),\n",
    "    pl.concat_list(cs.starts_with(\"h\")).list.mean().alias(\"importance\")\n",
    ").sort(\"importance\", descending=True)\n"
   ]
  },
  {
   "cell_type": "code",
   "execution_count": 107,
   "id": "9f36bf91",
   "metadata": {},
   "outputs": [],
   "source": [
    "preds_df = forecaster.predict(x_valid)"
   ]
  },
  {
   "cell_type": "code",
   "execution_count": 113,
   "id": "b57f0445",
   "metadata": {},
   "outputs": [
    {
     "data": {
      "application/vnd.plotly.v1+json": {
       "config": {
        "plotlyServerURL": "https://plot.ly"
       },
       "data": [
        {
         "hovertemplate": "date=%{x}<br>units=%{y}<extra></extra>",
         "legendgroup": "",
         "line": {
          "color": "#636efa",
          "dash": "solid"
         },
         "marker": {
          "symbol": "circle"
         },
         "mode": "lines",
         "name": "",
         "orientation": "v",
         "showlegend": false,
         "type": "scatter",
         "x": [
          "2016-12-01",
          "2016-12-02",
          "2016-12-03",
          "2016-12-04",
          "2016-12-05",
          "2016-12-06",
          "2016-12-07",
          "2016-12-08",
          "2016-12-09",
          "2016-12-10",
          "2016-12-11",
          "2016-12-12",
          "2016-12-13",
          "2016-12-14",
          "2016-12-15",
          "2016-12-16",
          "2016-12-17",
          "2016-12-18",
          "2016-12-19",
          "2016-12-20",
          "2016-12-21",
          "2016-12-22",
          "2016-12-23",
          "2016-12-24",
          "2016-12-26",
          "2016-12-27",
          "2016-12-28",
          "2016-12-29",
          "2016-12-30",
          "2016-12-31",
          "2017-01-02",
          "2017-01-03",
          "2017-01-04",
          "2017-01-05",
          "2017-01-06",
          "2017-01-07",
          "2017-01-08",
          "2017-01-09",
          "2017-01-10",
          "2017-01-11",
          "2017-01-12",
          "2017-01-13",
          "2017-01-14",
          "2017-01-15",
          "2017-01-16",
          "2017-01-17",
          "2017-01-18",
          "2017-01-19",
          "2017-01-20",
          "2017-01-21",
          "2017-01-22",
          "2017-01-23",
          "2017-01-24",
          "2017-01-25",
          "2017-01-26",
          "2017-01-27",
          "2017-01-28",
          "2017-01-29",
          "2017-01-30",
          "2017-01-31",
          "2017-02-01",
          "2017-02-02",
          "2017-02-03",
          "2017-02-04",
          "2017-02-05",
          "2017-02-06",
          "2017-02-07",
          "2017-02-08",
          "2017-02-09",
          "2017-02-10",
          "2017-02-11",
          "2017-02-12",
          "2017-02-13",
          "2017-02-14",
          "2017-02-15",
          "2017-02-16",
          "2017-02-17",
          "2017-02-18",
          "2017-02-19",
          "2017-02-20",
          "2017-02-21",
          "2017-02-22",
          "2017-02-23",
          "2017-02-24",
          "2017-02-25",
          "2017-02-26",
          "2017-02-27",
          "2017-02-28",
          "2017-03-01",
          "2017-03-02",
          "2017-03-03",
          "2017-03-04",
          "2017-03-05",
          "2017-03-06",
          "2017-03-07",
          "2017-03-08",
          "2017-03-09",
          "2017-03-10",
          "2017-03-11",
          "2017-03-12",
          "2017-03-13",
          "2017-03-14",
          "2017-03-15",
          "2017-03-16",
          "2017-03-17",
          "2017-03-18",
          "2017-03-19",
          "2017-03-20",
          "2017-03-21",
          "2017-03-22",
          "2017-03-23",
          "2017-03-24",
          "2017-03-25",
          "2017-03-26",
          "2017-03-27",
          "2017-03-28",
          "2017-03-29",
          "2017-03-30",
          "2017-03-31",
          "2017-04-01",
          "2017-04-02",
          "2017-04-03",
          "2017-04-04",
          "2017-04-05",
          "2017-04-06",
          "2017-04-07",
          "2017-04-08",
          "2017-04-09",
          "2017-04-10",
          "2017-04-11",
          "2017-04-12",
          "2017-04-13",
          "2017-04-14",
          "2017-04-15",
          "2017-04-16",
          "2017-04-17",
          "2017-04-18",
          "2017-04-19",
          "2017-04-20",
          "2017-04-21",
          "2017-04-22",
          "2017-04-23",
          "2017-04-24",
          "2017-04-25",
          "2017-04-26",
          "2017-04-27",
          "2017-04-28",
          "2017-04-29",
          "2017-04-30",
          "2017-05-01",
          "2017-05-02",
          "2017-05-03",
          "2017-05-04",
          "2017-05-05",
          "2017-05-06",
          "2017-05-07",
          "2017-05-08",
          "2017-05-09",
          "2017-05-10",
          "2017-05-11",
          "2017-05-12",
          "2017-05-13",
          "2017-05-14",
          "2017-05-15",
          "2017-05-16",
          "2017-05-17",
          "2017-05-18",
          "2017-05-19",
          "2017-05-20",
          "2017-05-21",
          "2017-05-22",
          "2017-05-23",
          "2017-05-24",
          "2017-05-25",
          "2017-05-26",
          "2017-05-27",
          "2017-05-28",
          "2017-05-29",
          "2017-05-30",
          "2017-05-31",
          "2017-06-01",
          "2017-06-02",
          "2017-06-03",
          "2017-06-04",
          "2017-06-05",
          "2017-06-06",
          "2017-06-07",
          "2017-06-08",
          "2017-06-09",
          "2017-06-10",
          "2017-06-11",
          "2017-06-12",
          "2017-06-13",
          "2017-06-14",
          "2017-06-15",
          "2017-06-16",
          "2017-06-17",
          "2017-06-18",
          "2017-06-19",
          "2017-06-20",
          "2017-06-21",
          "2017-06-22",
          "2017-06-23",
          "2017-06-24",
          "2017-06-25",
          "2017-06-26",
          "2017-06-27",
          "2017-06-28",
          "2017-06-29",
          "2017-06-30",
          "2017-07-01",
          "2017-07-02",
          "2017-07-03",
          "2017-07-04",
          "2017-07-05",
          "2017-07-06",
          "2017-07-07",
          "2017-07-08",
          "2017-07-09",
          "2017-07-10",
          "2017-07-11",
          "2017-07-12",
          "2017-07-13",
          "2017-07-14",
          "2017-07-15",
          "2017-07-16",
          "2017-07-17",
          "2017-07-18",
          "2017-07-19",
          "2017-07-20",
          "2017-07-21",
          "2017-07-22",
          "2017-07-23",
          "2017-07-24",
          "2017-07-25",
          "2017-07-26",
          "2017-07-27",
          "2017-07-28",
          "2017-07-29",
          "2017-07-30",
          "2017-07-31",
          "2017-08-01",
          "2017-08-02",
          "2017-08-03",
          "2017-08-04",
          "2017-08-05",
          "2017-08-06",
          "2017-08-07",
          "2017-08-08",
          "2017-08-09",
          "2017-08-10",
          "2017-08-11",
          "2017-08-12",
          "2017-08-13",
          "2017-08-14",
          "2017-08-15"
         ],
         "xaxis": "x",
         "y": {
          "bdata": "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",
          "dtype": "f8"
         },
         "yaxis": "y"
        },
        {
         "line": {
          "color": "green",
          "width": 2
         },
         "name": "sales",
         "type": "scatter",
         "x": [
          "2016-12-01",
          "2016-12-02",
          "2016-12-03",
          "2016-12-04",
          "2016-12-05",
          "2016-12-06",
          "2016-12-07",
          "2016-12-08",
          "2016-12-09",
          "2016-12-10",
          "2016-12-11",
          "2016-12-12",
          "2016-12-13",
          "2016-12-14",
          "2016-12-15",
          "2016-12-16",
          "2016-12-17",
          "2016-12-18",
          "2016-12-19",
          "2016-12-20",
          "2016-12-21",
          "2016-12-22",
          "2016-12-23",
          "2016-12-24",
          "2016-12-26",
          "2016-12-27",
          "2016-12-28",
          "2016-12-29",
          "2016-12-30",
          "2016-12-31",
          "2017-01-02",
          "2017-01-03",
          "2017-01-04",
          "2017-01-05",
          "2017-01-06",
          "2017-01-07",
          "2017-01-08",
          "2017-01-09",
          "2017-01-10",
          "2017-01-11",
          "2017-01-12",
          "2017-01-13",
          "2017-01-14",
          "2017-01-15",
          "2017-01-16",
          "2017-01-17",
          "2017-01-18",
          "2017-01-19",
          "2017-01-20",
          "2017-01-21",
          "2017-01-22",
          "2017-01-23",
          "2017-01-24",
          "2017-01-25",
          "2017-01-26",
          "2017-01-27",
          "2017-01-28",
          "2017-01-29",
          "2017-01-30",
          "2017-01-31",
          "2017-02-01",
          "2017-02-02",
          "2017-02-03",
          "2017-02-04",
          "2017-02-05",
          "2017-02-06",
          "2017-02-07",
          "2017-02-08",
          "2017-02-09",
          "2017-02-10",
          "2017-02-11",
          "2017-02-12",
          "2017-02-13",
          "2017-02-14",
          "2017-02-15",
          "2017-02-16",
          "2017-02-17",
          "2017-02-18",
          "2017-02-19",
          "2017-02-20",
          "2017-02-21",
          "2017-02-22",
          "2017-02-23",
          "2017-02-24",
          "2017-02-25",
          "2017-02-26",
          "2017-02-27",
          "2017-02-28",
          "2017-03-01",
          "2017-03-02",
          "2017-03-03",
          "2017-03-04",
          "2017-03-05",
          "2017-03-06",
          "2017-03-07",
          "2017-03-08",
          "2017-03-09",
          "2017-03-10",
          "2017-03-11",
          "2017-03-12",
          "2017-03-13",
          "2017-03-14",
          "2017-03-15",
          "2017-03-16",
          "2017-03-17",
          "2017-03-18",
          "2017-03-19",
          "2017-03-20",
          "2017-03-21",
          "2017-03-22",
          "2017-03-23",
          "2017-03-24",
          "2017-03-25",
          "2017-03-26",
          "2017-03-27",
          "2017-03-28",
          "2017-03-29",
          "2017-03-30",
          "2017-03-31",
          "2017-04-01",
          "2017-04-02",
          "2017-04-03",
          "2017-04-04",
          "2017-04-05",
          "2017-04-06",
          "2017-04-07",
          "2017-04-08",
          "2017-04-09",
          "2017-04-10",
          "2017-04-11",
          "2017-04-12",
          "2017-04-13",
          "2017-04-14",
          "2017-04-15",
          "2017-04-16",
          "2017-04-17",
          "2017-04-18",
          "2017-04-19",
          "2017-04-20",
          "2017-04-21",
          "2017-04-22",
          "2017-04-23",
          "2017-04-24",
          "2017-04-25",
          "2017-04-26",
          "2017-04-27",
          "2017-04-28",
          "2017-04-29",
          "2017-04-30",
          "2017-05-01",
          "2017-05-02",
          "2017-05-03",
          "2017-05-04",
          "2017-05-05",
          "2017-05-06",
          "2017-05-07",
          "2017-05-08",
          "2017-05-09",
          "2017-05-10",
          "2017-05-11",
          "2017-05-12",
          "2017-05-13",
          "2017-05-14",
          "2017-05-15",
          "2017-05-16",
          "2017-05-17",
          "2017-05-18",
          "2017-05-19",
          "2017-05-20",
          "2017-05-21",
          "2017-05-22",
          "2017-05-23",
          "2017-05-24",
          "2017-05-25",
          "2017-05-26",
          "2017-05-27",
          "2017-05-28",
          "2017-05-29",
          "2017-05-30",
          "2017-05-31",
          "2017-06-01",
          "2017-06-02",
          "2017-06-03",
          "2017-06-04",
          "2017-06-05",
          "2017-06-06",
          "2017-06-07",
          "2017-06-08",
          "2017-06-09",
          "2017-06-10",
          "2017-06-11",
          "2017-06-12",
          "2017-06-13",
          "2017-06-14",
          "2017-06-15",
          "2017-06-16",
          "2017-06-17",
          "2017-06-18",
          "2017-06-19",
          "2017-06-20",
          "2017-06-21",
          "2017-06-22",
          "2017-06-23",
          "2017-06-24",
          "2017-06-25",
          "2017-06-26",
          "2017-06-27",
          "2017-06-28",
          "2017-06-29",
          "2017-06-30",
          "2017-07-01",
          "2017-07-02",
          "2017-07-03",
          "2017-07-04",
          "2017-07-05",
          "2017-07-06",
          "2017-07-07",
          "2017-07-08",
          "2017-07-09",
          "2017-07-10",
          "2017-07-11",
          "2017-07-12",
          "2017-07-13",
          "2017-07-14",
          "2017-07-15",
          "2017-07-16",
          "2017-07-17",
          "2017-07-18",
          "2017-07-19",
          "2017-07-20",
          "2017-07-21",
          "2017-07-22",
          "2017-07-23",
          "2017-07-24",
          "2017-07-25",
          "2017-07-26",
          "2017-07-27",
          "2017-07-28",
          "2017-07-29",
          "2017-07-30",
          "2017-07-31",
          "2017-08-01",
          "2017-08-02",
          "2017-08-03",
          "2017-08-04",
          "2017-08-05",
          "2017-08-06",
          "2017-08-07",
          "2017-08-08",
          "2017-08-09",
          "2017-08-10",
          "2017-08-11",
          "2017-08-12",
          "2017-08-13",
          "2017-08-14",
          "2017-08-15"
         ],
         "y": {
          "bdata": "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",
          "dtype": "f8"
         }
        }
       ],
       "layout": {
        "legend": {
         "tracegroupgap": 0
        },
        "template": {
         "data": {
          "bar": [
           {
            "error_x": {
             "color": "#2a3f5f"
            },
            "error_y": {
             "color": "#2a3f5f"
            },
            "marker": {
             "line": {
              "color": "white",
              "width": 0.5
             },
             "pattern": {
              "fillmode": "overlay",
              "size": 10,
              "solidity": 0.2
             }
            },
            "type": "bar"
           }
          ],
          "barpolar": [
           {
            "marker": {
             "line": {
              "color": "white",
              "width": 0.5
             },
             "pattern": {
              "fillmode": "overlay",
              "size": 10,
              "solidity": 0.2
             }
            },
            "type": "barpolar"
           }
          ],
          "carpet": [
           {
            "aaxis": {
             "endlinecolor": "#2a3f5f",
             "gridcolor": "#C8D4E3",
             "linecolor": "#C8D4E3",
             "minorgridcolor": "#C8D4E3",
             "startlinecolor": "#2a3f5f"
            },
            "baxis": {
             "endlinecolor": "#2a3f5f",
             "gridcolor": "#C8D4E3",
             "linecolor": "#C8D4E3",
             "minorgridcolor": "#C8D4E3",
             "startlinecolor": "#2a3f5f"
            },
            "type": "carpet"
           }
          ],
          "choropleth": [
           {
            "colorbar": {
             "outlinewidth": 0,
             "ticks": ""
            },
            "type": "choropleth"
           }
          ],
          "contour": [
           {
            "colorbar": {
             "outlinewidth": 0,
             "ticks": ""
            },
            "colorscale": [
             [
              0,
              "#0d0887"
             ],
             [
              0.1111111111111111,
              "#46039f"
             ],
             [
              0.2222222222222222,
              "#7201a8"
             ],
             [
              0.3333333333333333,
              "#9c179e"
             ],
             [
              0.4444444444444444,
              "#bd3786"
             ],
             [
              0.5555555555555556,
              "#d8576b"
             ],
             [
              0.6666666666666666,
              "#ed7953"
             ],
             [
              0.7777777777777778,
              "#fb9f3a"
             ],
             [
              0.8888888888888888,
              "#fdca26"
             ],
             [
              1,
              "#f0f921"
             ]
            ],
            "type": "contour"
           }
          ],
          "contourcarpet": [
           {
            "colorbar": {
             "outlinewidth": 0,
             "ticks": ""
            },
            "type": "contourcarpet"
           }
          ],
          "heatmap": [
           {
            "colorbar": {
             "outlinewidth": 0,
             "ticks": ""
            },
            "colorscale": [
             [
              0,
              "#0d0887"
             ],
             [
              0.1111111111111111,
              "#46039f"
             ],
             [
              0.2222222222222222,
              "#7201a8"
             ],
             [
              0.3333333333333333,
              "#9c179e"
             ],
             [
              0.4444444444444444,
              "#bd3786"
             ],
             [
              0.5555555555555556,
              "#d8576b"
             ],
             [
              0.6666666666666666,
              "#ed7953"
             ],
             [
              0.7777777777777778,
              "#fb9f3a"
             ],
             [
              0.8888888888888888,
              "#fdca26"
             ],
             [
              1,
              "#f0f921"
             ]
            ],
            "type": "heatmap"
           }
          ],
          "histogram": [
           {
            "marker": {
             "pattern": {
              "fillmode": "overlay",
              "size": 10,
              "solidity": 0.2
             }
            },
            "type": "histogram"
           }
          ],
          "histogram2d": [
           {
            "colorbar": {
             "outlinewidth": 0,
             "ticks": ""
            },
            "colorscale": [
             [
              0,
              "#0d0887"
             ],
             [
              0.1111111111111111,
              "#46039f"
             ],
             [
              0.2222222222222222,
              "#7201a8"
             ],
             [
              0.3333333333333333,
              "#9c179e"
             ],
             [
              0.4444444444444444,
              "#bd3786"
             ],
             [
              0.5555555555555556,
              "#d8576b"
             ],
             [
              0.6666666666666666,
              "#ed7953"
             ],
             [
              0.7777777777777778,
              "#fb9f3a"
             ],
             [
              0.8888888888888888,
              "#fdca26"
             ],
             [
              1,
              "#f0f921"
             ]
            ],
            "type": "histogram2d"
           }
          ],
          "histogram2dcontour": [
           {
            "colorbar": {
             "outlinewidth": 0,
             "ticks": ""
            },
            "colorscale": [
             [
              0,
              "#0d0887"
             ],
             [
              0.1111111111111111,
              "#46039f"
             ],
             [
              0.2222222222222222,
              "#7201a8"
             ],
             [
              0.3333333333333333,
              "#9c179e"
             ],
             [
              0.4444444444444444,
              "#bd3786"
             ],
             [
              0.5555555555555556,
              "#d8576b"
             ],
             [
              0.6666666666666666,
              "#ed7953"
             ],
             [
              0.7777777777777778,
              "#fb9f3a"
             ],
             [
              0.8888888888888888,
              "#fdca26"
             ],
             [
              1,
              "#f0f921"
             ]
            ],
            "type": "histogram2dcontour"
           }
          ],
          "mesh3d": [
           {
            "colorbar": {
             "outlinewidth": 0,
             "ticks": ""
            },
            "type": "mesh3d"
           }
          ],
          "parcoords": [
           {
            "line": {
             "colorbar": {
              "outlinewidth": 0,
              "ticks": ""
             }
            },
            "type": "parcoords"
           }
          ],
          "pie": [
           {
            "automargin": true,
            "type": "pie"
           }
          ],
          "scatter": [
           {
            "fillpattern": {
             "fillmode": "overlay",
             "size": 10,
             "solidity": 0.2
            },
            "type": "scatter"
           }
          ],
          "scatter3d": [
           {
            "line": {
             "colorbar": {
              "outlinewidth": 0,
              "ticks": ""
             }
            },
            "marker": {
             "colorbar": {
              "outlinewidth": 0,
              "ticks": ""
             }
            },
            "type": "scatter3d"
           }
          ],
          "scattercarpet": [
           {
            "marker": {
             "colorbar": {
              "outlinewidth": 0,
              "ticks": ""
             }
            },
            "type": "scattercarpet"
           }
          ],
          "scattergeo": [
           {
            "marker": {
             "colorbar": {
              "outlinewidth": 0,
              "ticks": ""
             }
            },
            "type": "scattergeo"
           }
          ],
          "scattergl": [
           {
            "marker": {
             "colorbar": {
              "outlinewidth": 0,
              "ticks": ""
             }
            },
            "type": "scattergl"
           }
          ],
          "scattermap": [
           {
            "marker": {
             "colorbar": {
              "outlinewidth": 0,
              "ticks": ""
             }
            },
            "type": "scattermap"
           }
          ],
          "scattermapbox": [
           {
            "marker": {
             "colorbar": {
              "outlinewidth": 0,
              "ticks": ""
             }
            },
            "type": "scattermapbox"
           }
          ],
          "scatterpolar": [
           {
            "marker": {
             "colorbar": {
              "outlinewidth": 0,
              "ticks": ""
             }
            },
            "type": "scatterpolar"
           }
          ],
          "scatterpolargl": [
           {
            "marker": {
             "colorbar": {
              "outlinewidth": 0,
              "ticks": ""
             }
            },
            "type": "scatterpolargl"
           }
          ],
          "scatterternary": [
           {
            "marker": {
             "colorbar": {
              "outlinewidth": 0,
              "ticks": ""
             }
            },
            "type": "scatterternary"
           }
          ],
          "surface": [
           {
            "colorbar": {
             "outlinewidth": 0,
             "ticks": ""
            },
            "colorscale": [
             [
              0,
              "#0d0887"
             ],
             [
              0.1111111111111111,
              "#46039f"
             ],
             [
              0.2222222222222222,
              "#7201a8"
             ],
             [
              0.3333333333333333,
              "#9c179e"
             ],
             [
              0.4444444444444444,
              "#bd3786"
             ],
             [
              0.5555555555555556,
              "#d8576b"
             ],
             [
              0.6666666666666666,
              "#ed7953"
             ],
             [
              0.7777777777777778,
              "#fb9f3a"
             ],
             [
              0.8888888888888888,
              "#fdca26"
             ],
             [
              1,
              "#f0f921"
             ]
            ],
            "type": "surface"
           }
          ],
          "table": [
           {
            "cells": {
             "fill": {
              "color": "#EBF0F8"
             },
             "line": {
              "color": "white"
             }
            },
            "header": {
             "fill": {
              "color": "#C8D4E3"
             },
             "line": {
              "color": "white"
             }
            },
            "type": "table"
           }
          ]
         },
         "layout": {
          "annotationdefaults": {
           "arrowcolor": "#2a3f5f",
           "arrowhead": 0,
           "arrowwidth": 1
          },
          "autotypenumbers": "strict",
          "coloraxis": {
           "colorbar": {
            "outlinewidth": 0,
            "ticks": ""
           }
          },
          "colorscale": {
           "diverging": [
            [
             0,
             "#8e0152"
            ],
            [
             0.1,
             "#c51b7d"
            ],
            [
             0.2,
             "#de77ae"
            ],
            [
             0.3,
             "#f1b6da"
            ],
            [
             0.4,
             "#fde0ef"
            ],
            [
             0.5,
             "#f7f7f7"
            ],
            [
             0.6,
             "#e6f5d0"
            ],
            [
             0.7,
             "#b8e186"
            ],
            [
             0.8,
             "#7fbc41"
            ],
            [
             0.9,
             "#4d9221"
            ],
            [
             1,
             "#276419"
            ]
           ],
           "sequential": [
            [
             0,
             "#0d0887"
            ],
            [
             0.1111111111111111,
             "#46039f"
            ],
            [
             0.2222222222222222,
             "#7201a8"
            ],
            [
             0.3333333333333333,
             "#9c179e"
            ],
            [
             0.4444444444444444,
             "#bd3786"
            ],
            [
             0.5555555555555556,
             "#d8576b"
            ],
            [
             0.6666666666666666,
             "#ed7953"
            ],
            [
             0.7777777777777778,
             "#fb9f3a"
            ],
            [
             0.8888888888888888,
             "#fdca26"
            ],
            [
             1,
             "#f0f921"
            ]
           ],
           "sequentialminus": [
            [
             0,
             "#0d0887"
            ],
            [
             0.1111111111111111,
             "#46039f"
            ],
            [
             0.2222222222222222,
             "#7201a8"
            ],
            [
             0.3333333333333333,
             "#9c179e"
            ],
            [
             0.4444444444444444,
             "#bd3786"
            ],
            [
             0.5555555555555556,
             "#d8576b"
            ],
            [
             0.6666666666666666,
             "#ed7953"
            ],
            [
             0.7777777777777778,
             "#fb9f3a"
            ],
            [
             0.8888888888888888,
             "#fdca26"
            ],
            [
             1,
             "#f0f921"
            ]
           ]
          },
          "colorway": [
           "#636efa",
           "#EF553B",
           "#00cc96",
           "#ab63fa",
           "#FFA15A",
           "#19d3f3",
           "#FF6692",
           "#B6E880",
           "#FF97FF",
           "#FECB52"
          ],
          "font": {
           "color": "#2a3f5f"
          },
          "geo": {
           "bgcolor": "white",
           "lakecolor": "white",
           "landcolor": "white",
           "showlakes": true,
           "showland": true,
           "subunitcolor": "#C8D4E3"
          },
          "hoverlabel": {
           "align": "left"
          },
          "hovermode": "closest",
          "mapbox": {
           "style": "light"
          },
          "paper_bgcolor": "white",
          "plot_bgcolor": "white",
          "polar": {
           "angularaxis": {
            "gridcolor": "#EBF0F8",
            "linecolor": "#EBF0F8",
            "ticks": ""
           },
           "bgcolor": "white",
           "radialaxis": {
            "gridcolor": "#EBF0F8",
            "linecolor": "#EBF0F8",
            "ticks": ""
           }
          },
          "scene": {
           "xaxis": {
            "backgroundcolor": "white",
            "gridcolor": "#DFE8F3",
            "gridwidth": 2,
            "linecolor": "#EBF0F8",
            "showbackground": true,
            "ticks": "",
            "zerolinecolor": "#EBF0F8"
           },
           "yaxis": {
            "backgroundcolor": "white",
            "gridcolor": "#DFE8F3",
            "gridwidth": 2,
            "linecolor": "#EBF0F8",
            "showbackground": true,
            "ticks": "",
            "zerolinecolor": "#EBF0F8"
           },
           "zaxis": {
            "backgroundcolor": "white",
            "gridcolor": "#DFE8F3",
            "gridwidth": 2,
            "linecolor": "#EBF0F8",
            "showbackground": true,
            "ticks": "",
            "zerolinecolor": "#EBF0F8"
           }
          },
          "shapedefaults": {
           "line": {
            "color": "#2a3f5f"
           }
          },
          "ternary": {
           "aaxis": {
            "gridcolor": "#DFE8F3",
            "linecolor": "#A2B1C6",
            "ticks": ""
           },
           "baxis": {
            "gridcolor": "#DFE8F3",
            "linecolor": "#A2B1C6",
            "ticks": ""
           },
           "bgcolor": "white",
           "caxis": {
            "gridcolor": "#DFE8F3",
            "linecolor": "#A2B1C6",
            "ticks": ""
           }
          },
          "title": {
           "x": 0.05
          },
          "xaxis": {
           "automargin": true,
           "gridcolor": "#EBF0F8",
           "linecolor": "#EBF0F8",
           "ticks": "",
           "title": {
            "standoff": 15
           },
           "zerolinecolor": "#EBF0F8",
           "zerolinewidth": 2
          },
          "yaxis": {
           "automargin": true,
           "gridcolor": "#EBF0F8",
           "linecolor": "#EBF0F8",
           "ticks": "",
           "title": {
            "standoff": 15
           },
           "zerolinecolor": "#EBF0F8",
           "zerolinewidth": 2
          }
         }
        },
        "title": {
         "text": "Actual vs Predicted Sales"
        },
        "xaxis": {
         "anchor": "y",
         "domain": [
          0,
          1
         ],
         "title": {
          "text": "date"
         }
        },
        "yaxis": {
         "anchor": "x",
         "domain": [
          0,
          1
         ],
         "range": [
          0,
          100
         ],
         "title": {
          "text": "units"
         }
        }
       }
      }
     },
     "metadata": {},
     "output_type": "display_data"
    }
   ],
   "source": [
    "import plotly.express as px\n",
    "\n",
    "\n",
    "target_col = \"h4_log_units_sold\"\n",
    "\n",
    "\n",
    "x_subset = x_valid.with_columns(\n",
    "    (y_valid.get_column(target_col).exp() + 1).round(),\n",
    "    (forecaster.predict(x_valid).get_column(f'pred_{target_col}').exp() + 1).round(),\n",
    "    c_valid.get_column(\"date\"),\n",
    ").filter(\n",
    "    (pl.col(\"store_id\") == 3) \n",
    "    & (pl.col(\"product_id\") == 213652)\n",
    ")\n",
    "\n",
    "y_true = x_subset.drop_in_place(target_col)\n",
    "y_preds = x_subset.drop_in_place(f\"pred_{target_col}\")\n",
    "x_dates_subset = x_subset.drop_in_place(\"date\")\n",
    "\n",
    "# apply inverse of logp1 transformation to actuals and round to nearest integer\n",
    "# actuals = y_subset.get_column(\"log_units_sold\")\n",
    "# actuals = (pl.Series(actuals).exp() - 1).round()\n",
    "\n",
    "# apply inverse of logp1 transformation to predictions and round to nearest integer\n",
    "# predictions = bst.predict(x_subset.to_pandas())\n",
    "# predictions = (pl.Series(predictions).exp() - 1).round()\n",
    "\n",
    "# plot time series: y_valid vs prediction\n",
    "fig = px.line(\n",
    "    x=x_dates_subset,\n",
    "    # y=[y_subset, predictions],\n",
    "    y=y_preds,\n",
    "    labels={\"x\": \"date\", \"y\": \"units\"},\n",
    "    title=\"Actual vs Predicted Sales\",\n",
    "    template=\"plotly_white\"\n",
    ")\n",
    "\n",
    "fig.add_scatter(\n",
    "    x=x_dates_subset,\n",
    "    y=y_true,\n",
    "    name=\"sales\",\n",
    "    line=dict(color=\"green\", width=2)\n",
    ")\n",
    "\n",
    "# limit y-axis to 0-5\n",
    "fig.update_yaxes(range=[0, 100])\n",
    "                           \n",
    "fig.show()"
   ]
  }
 ],
 "metadata": {
  "kernelspec": {
   "display_name": "fit-service",
   "language": "python",
   "name": "python3"
  },
  "language_info": {
   "codemirror_mode": {
    "name": "ipython",
    "version": 3
   },
   "file_extension": ".py",
   "mimetype": "text/x-python",
   "name": "python",
   "nbconvert_exporter": "python",
   "pygments_lexer": "ipython3",
   "version": "3.10.16"
  }
 },
 "nbformat": 4,
 "nbformat_minor": 5
}
