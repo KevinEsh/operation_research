{
 "cells": [
  {
   "cell_type": "code",
   "execution_count": 17,
   "id": "8f90b037",
   "metadata": {},
   "outputs": [],
   "source": [
    "# 8. LightGBM train\n",
    "import lightgbm as lgb\n",
    "import polars as pl\n",
    "\n",
    "\n",
    "x_train = pl.read_parquet(\"../../data/favorita_dataset/output/train_input.parquet\")\n",
    "y_train = pl.read_parquet(\"../../data/favorita_dataset/output/train_target.parquet\")\n",
    "c_train = pl.read_parquet(\"../../data/favorita_dataset/output/train_dates.parquet\")\n",
    "\n",
    "# x_valid = pl.read_parquet(\"../../data/favorita_dataset/output/x_valid.parquet\")\n",
    "# y_valid = pl.read_parquet(\"../../data/favorita_dataset/output/y_valid.parquet\")\n",
    "# c_valid = pl.read_parquet(\"../../data/favorita_dataset/output/dates_valid.parquet\")"
   ]
  },
  {
   "cell_type": "code",
   "execution_count": 18,
   "id": "3221c236",
   "metadata": {},
   "outputs": [],
   "source": [
    "x_train = x_train.with_columns(\n",
    "    pl.col.product_group.cast(pl.Categorical)\n",
    ")"
   ]
  },
  {
   "cell_type": "code",
   "execution_count": 19,
   "id": "3b8e5439",
   "metadata": {},
   "outputs": [],
   "source": [
    "import polars.selectors as cs\n",
    "\n",
    "# get all categorical columns\n",
    "categorical_cols = x_train.select(cs.integer(), cs.categorical()).columns"
   ]
  },
  {
   "cell_type": "code",
   "execution_count": 20,
   "id": "c7ca5122",
   "metadata": {},
   "outputs": [
    {
     "data": {
      "text/plain": [
       "['product_id',\n",
       " 'store_id',\n",
       " 'next_1d_event_id',\n",
       " 'next_2d_event_id',\n",
       " 'next_3d_event_id',\n",
       " 'next_4d_event_id',\n",
       " 'next_5d_event_id',\n",
       " 'next_6d_event_id',\n",
       " 'next_7d_event_id',\n",
       " 'dayofweek',\n",
       " 'dayofmonth',\n",
       " 'dayofyear',\n",
       " 'weekofyear',\n",
       " 'month',\n",
       " 'year',\n",
       " 'product_group']"
      ]
     },
     "execution_count": 20,
     "metadata": {},
     "output_type": "execute_result"
    }
   ],
   "source": [
    "categorical_cols"
   ]
  },
  {
   "cell_type": "code",
   "execution_count": 40,
   "id": "82213119",
   "metadata": {},
   "outputs": [
    {
     "name": "stdout",
     "output_type": "stream",
     "text": [
      "==================================================\n",
      "==================================================\n",
      "[LightGBM] [Warning] Met categorical feature which contains sparse values. Consider renumbering to consecutive integers started from zero\n",
      "[LightGBM] [Warning] Categorical features with more bins than the configured maximum bin number found.\n",
      "[LightGBM] [Warning] For categorical features, max_bin and max_bin_by_feature may be ignored with a large number of categories.\n",
      "[LightGBM] [Info] Auto-choosing col-wise multi-threading, the overhead of testing was 0.001745 seconds.\n",
      "You can set `force_col_wise=true` to remove the overhead.\n",
      "[LightGBM] [Info] Total Bins 10218\n",
      "[LightGBM] [Info] Number of data points in the train set: 29059, number of used features: 64\n",
      "[LightGBM] [Info] Start training from score 3.713340\n",
      "Training until validation scores don't improve for 125 rounds\n",
      "[25]\ttraining's l2: 0.306271\tvalid_1's l2: 0.321648\n",
      "[50]\ttraining's l2: 0.176342\tvalid_1's l2: 0.193512\n",
      "[75]\ttraining's l2: 0.125771\tvalid_1's l2: 0.145189\n",
      "[100]\ttraining's l2: 0.101676\tvalid_1's l2: 0.123376\n",
      "[125]\ttraining's l2: 0.0892252\tvalid_1's l2: 0.113927\n",
      "[150]\ttraining's l2: 0.0823788\tvalid_1's l2: 0.109231\n",
      "[175]\ttraining's l2: 0.0784748\tvalid_1's l2: 0.107135\n",
      "[200]\ttraining's l2: 0.0760689\tvalid_1's l2: 0.105831\n",
      "[225]\ttraining's l2: 0.0728269\tvalid_1's l2: 0.103962\n",
      "[250]\ttraining's l2: 0.0702399\tvalid_1's l2: 0.102398\n",
      "[275]\ttraining's l2: 0.0684989\tvalid_1's l2: 0.101671\n",
      "[300]\ttraining's l2: 0.0668794\tvalid_1's l2: 0.101086\n",
      "[325]\ttraining's l2: 0.0654113\tvalid_1's l2: 0.100432\n",
      "[350]\ttraining's l2: 0.0638924\tvalid_1's l2: 0.0996733\n",
      "[375]\ttraining's l2: 0.062643\tvalid_1's l2: 0.0992253\n",
      "[400]\ttraining's l2: 0.0616257\tvalid_1's l2: 0.0988273\n",
      "[425]\ttraining's l2: 0.0604204\tvalid_1's l2: 0.0984781\n",
      "[450]\ttraining's l2: 0.0592725\tvalid_1's l2: 0.0980169\n",
      "[475]\ttraining's l2: 0.0583739\tvalid_1's l2: 0.0978168\n",
      "[500]\ttraining's l2: 0.0574016\tvalid_1's l2: 0.0978865\n",
      "[525]\ttraining's l2: 0.056571\tvalid_1's l2: 0.0976726\n",
      "[550]\ttraining's l2: 0.0556748\tvalid_1's l2: 0.0974364\n",
      "[575]\ttraining's l2: 0.0549508\tvalid_1's l2: 0.0975145\n",
      "[600]\ttraining's l2: 0.0540712\tvalid_1's l2: 0.0973305\n",
      "[625]\ttraining's l2: 0.0532602\tvalid_1's l2: 0.097274\n",
      "[650]\ttraining's l2: 0.0526444\tvalid_1's l2: 0.0970604\n",
      "[675]\ttraining's l2: 0.0520292\tvalid_1's l2: 0.0969858\n",
      "[700]\ttraining's l2: 0.0513885\tvalid_1's l2: 0.0969107\n",
      "[725]\ttraining's l2: 0.0507872\tvalid_1's l2: 0.0968611\n",
      "[750]\ttraining's l2: 0.0501673\tvalid_1's l2: 0.0968803\n",
      "[775]\ttraining's l2: 0.0496026\tvalid_1's l2: 0.0967983\n",
      "[800]\ttraining's l2: 0.0489798\tvalid_1's l2: 0.0967404\n",
      "[825]\ttraining's l2: 0.0482873\tvalid_1's l2: 0.096825\n",
      "[850]\ttraining's l2: 0.0478082\tvalid_1's l2: 0.0968273\n",
      "[875]\ttraining's l2: 0.047261\tvalid_1's l2: 0.0968681\n",
      "[900]\ttraining's l2: 0.0467495\tvalid_1's l2: 0.0968128\n",
      "[925]\ttraining's l2: 0.0462746\tvalid_1's l2: 0.0967647\n",
      "Early stopping, best iteration is:\n",
      "[803]\ttraining's l2: 0.0488763\tvalid_1's l2: 0.0967338\n"
     ]
    }
   ],
   "source": [
    "params = {\n",
    "    'num_leaves': 50,\n",
    "    'objective': 'regression',\n",
    "    'min_data_in_leaf': 10, #200,\n",
    "    'learning_rate': 0.02,\n",
    "    'feature_fraction': 0.1,#0.8,\n",
    "    'bagging_fraction': 0.7,\n",
    "    'bagging_freq': 1,\n",
    "    'metric': 'l2',\n",
    "    'num_threads': 16\n",
    "}\n",
    "\n",
    "MAX_ROUNDS = 5000\n",
    "# val_pred = []\n",
    "# test_pred = []\n",
    "# cate_vars = []\n",
    "# for i in range(16):\n",
    "print(\"=\" * 50)\n",
    "# print(\"Step %d\" % (i+1))\n",
    "print(\"=\" * 50)\n",
    "dataset_train = lgb.Dataset(\n",
    "    x_train.to_pandas(), label=y_train.get_column(\"log_units_sold\").to_numpy(),\n",
    "    categorical_feature=categorical_cols,\n",
    "    # weight=pd.concat([items[\"perishable\"]] * num_days) * 0.25 + 1\n",
    ")\n",
    "\n",
    "dataset_valid = lgb.Dataset(\n",
    "    x_valid.to_pandas(), label=y_valid.get_column(\"log_units_sold\").to_numpy(), \n",
    "    reference=dataset_train,\n",
    "    # weight=items[\"perishable\"] * 0.25 + 1,\n",
    "    categorical_feature=categorical_cols,\n",
    "    )\n",
    "\n",
    "\n",
    "bst = lgb.train(\n",
    "    params, dataset_train, num_boost_round=MAX_ROUNDS,\n",
    "    valid_sets=[dataset_train, dataset_valid],\n",
    "    callbacks=[lgb.early_stopping(125), lgb.log_evaluation(25)],\n",
    "    # force_col_wise=True\n",
    ")\n"
   ]
  },
  {
   "cell_type": "code",
   "execution_count": 42,
   "id": "197d9178",
   "metadata": {},
   "outputs": [
    {
     "data": {
      "application/vnd.plotly.v1+json": {
       "config": {
        "plotlyServerURL": "https://plot.ly"
       },
       "data": [
        {
         "hovertemplate": "Date=%{x}<br>y=%{y}<extra></extra>",
         "legendgroup": "",
         "line": {
          "color": "#636efa",
          "dash": "solid"
         },
         "marker": {
          "symbol": "circle"
         },
         "mode": "lines",
         "name": "",
         "orientation": "v",
         "showlegend": false,
         "type": "scatter",
         "x": [
          "2017-01-02",
          "2017-01-03",
          "2017-01-04",
          "2017-01-05",
          "2017-01-06",
          "2017-01-07",
          "2017-01-08",
          "2017-01-09",
          "2017-01-10",
          "2017-01-11",
          "2017-01-12",
          "2017-01-13",
          "2017-01-14",
          "2017-01-15",
          "2017-01-16",
          "2017-01-17",
          "2017-01-18",
          "2017-01-19",
          "2017-01-20",
          "2017-01-21",
          "2017-01-22",
          "2017-01-23",
          "2017-01-24",
          "2017-01-25",
          "2017-01-26",
          "2017-01-27",
          "2017-01-28",
          "2017-01-29",
          "2017-01-30",
          "2017-01-31",
          "2017-02-01",
          "2017-02-02",
          "2017-02-03",
          "2017-02-04",
          "2017-02-05",
          "2017-02-06",
          "2017-02-07",
          "2017-02-08",
          "2017-02-09",
          "2017-02-10",
          "2017-02-11",
          "2017-02-12",
          "2017-02-13",
          "2017-02-14",
          "2017-02-15",
          "2017-02-16",
          "2017-02-17",
          "2017-02-18",
          "2017-02-19",
          "2017-02-20",
          "2017-02-21",
          "2017-02-22",
          "2017-02-23",
          "2017-02-24",
          "2017-02-25",
          "2017-02-26",
          "2017-02-27",
          "2017-02-28",
          "2017-03-01",
          "2017-03-02",
          "2017-03-03",
          "2017-03-04",
          "2017-03-05",
          "2017-03-06",
          "2017-03-07",
          "2017-03-08",
          "2017-03-09",
          "2017-03-10",
          "2017-03-11",
          "2017-03-12",
          "2017-03-13",
          "2017-03-14",
          "2017-03-15",
          "2017-03-16",
          "2017-03-17",
          "2017-03-18",
          "2017-03-19",
          "2017-03-20",
          "2017-03-21",
          "2017-03-22",
          "2017-03-23",
          "2017-03-24",
          "2017-03-25",
          "2017-03-26",
          "2017-03-27",
          "2017-03-28",
          "2017-03-29",
          "2017-03-30",
          "2017-03-31",
          "2017-04-01",
          "2017-04-02",
          "2017-04-03",
          "2017-04-04",
          "2017-04-05",
          "2017-04-06",
          "2017-04-07",
          "2017-04-08",
          "2017-04-09",
          "2017-04-10",
          "2017-04-11",
          "2017-04-12",
          "2017-04-13",
          "2017-04-14",
          "2017-04-15",
          "2017-04-16",
          "2017-04-17",
          "2017-04-18",
          "2017-04-19",
          "2017-04-20",
          "2017-04-21",
          "2017-04-22",
          "2017-04-23",
          "2017-04-24",
          "2017-04-25",
          "2017-04-26",
          "2017-04-27",
          "2017-04-28",
          "2017-04-29",
          "2017-04-30",
          "2017-05-01",
          "2017-05-02",
          "2017-05-03",
          "2017-05-04",
          "2017-05-05",
          "2017-05-06",
          "2017-05-07",
          "2017-05-08",
          "2017-05-09",
          "2017-05-10",
          "2017-05-11",
          "2017-05-12",
          "2017-05-13",
          "2017-05-14",
          "2017-05-15",
          "2017-05-16",
          "2017-05-17",
          "2017-05-18",
          "2017-05-19",
          "2017-05-20",
          "2017-05-21",
          "2017-05-22",
          "2017-05-23",
          "2017-05-24",
          "2017-05-25",
          "2017-05-26",
          "2017-05-27",
          "2017-05-28",
          "2017-05-29",
          "2017-05-30",
          "2017-05-31",
          "2017-06-01",
          "2017-06-02",
          "2017-06-03",
          "2017-06-04",
          "2017-06-05",
          "2017-06-06",
          "2017-06-07",
          "2017-06-08",
          "2017-06-09",
          "2017-06-10",
          "2017-06-11",
          "2017-06-12",
          "2017-06-13",
          "2017-06-14",
          "2017-06-15",
          "2017-06-16",
          "2017-06-17",
          "2017-06-18",
          "2017-06-19",
          "2017-06-20",
          "2017-06-21",
          "2017-06-22",
          "2017-06-23",
          "2017-06-24",
          "2017-06-25",
          "2017-06-26",
          "2017-06-27",
          "2017-06-28",
          "2017-06-29",
          "2017-06-30",
          "2017-07-01",
          "2017-07-02",
          "2017-07-03",
          "2017-07-04",
          "2017-07-05",
          "2017-07-06",
          "2017-07-07",
          "2017-07-08",
          "2017-07-09",
          "2017-07-10",
          "2017-07-11",
          "2017-07-12",
          "2017-07-13",
          "2017-07-14",
          "2017-07-15",
          "2017-07-16",
          "2017-07-17",
          "2017-07-18",
          "2017-07-19",
          "2017-07-20",
          "2017-07-21",
          "2017-07-22",
          "2017-07-23",
          "2017-07-24",
          "2017-07-25",
          "2017-07-26",
          "2017-07-27",
          "2017-07-28",
          "2017-07-29",
          "2017-07-30",
          "2017-07-31",
          "2017-08-01",
          "2017-08-02",
          "2017-08-03",
          "2017-08-04",
          "2017-08-05",
          "2017-08-06",
          "2017-08-07",
          "2017-08-08",
          "2017-08-09",
          "2017-08-10",
          "2017-08-11",
          "2017-08-12",
          "2017-08-13",
          "2017-08-14",
          "2017-08-15"
         ],
         "xaxis": "x",
         "y": {
          "bdata": "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",
          "dtype": "f8"
         },
         "yaxis": "y"
        },
        {
         "line": {
          "color": "red",
          "width": 2
         },
         "name": "Actual Sales",
         "type": "scatter",
         "x": [
          "2017-01-02",
          "2017-01-03",
          "2017-01-04",
          "2017-01-05",
          "2017-01-06",
          "2017-01-07",
          "2017-01-08",
          "2017-01-09",
          "2017-01-10",
          "2017-01-11",
          "2017-01-12",
          "2017-01-13",
          "2017-01-14",
          "2017-01-15",
          "2017-01-16",
          "2017-01-17",
          "2017-01-18",
          "2017-01-19",
          "2017-01-20",
          "2017-01-21",
          "2017-01-22",
          "2017-01-23",
          "2017-01-24",
          "2017-01-25",
          "2017-01-26",
          "2017-01-27",
          "2017-01-28",
          "2017-01-29",
          "2017-01-30",
          "2017-01-31",
          "2017-02-01",
          "2017-02-02",
          "2017-02-03",
          "2017-02-04",
          "2017-02-05",
          "2017-02-06",
          "2017-02-07",
          "2017-02-08",
          "2017-02-09",
          "2017-02-10",
          "2017-02-11",
          "2017-02-12",
          "2017-02-13",
          "2017-02-14",
          "2017-02-15",
          "2017-02-16",
          "2017-02-17",
          "2017-02-18",
          "2017-02-19",
          "2017-02-20",
          "2017-02-21",
          "2017-02-22",
          "2017-02-23",
          "2017-02-24",
          "2017-02-25",
          "2017-02-26",
          "2017-02-27",
          "2017-02-28",
          "2017-03-01",
          "2017-03-02",
          "2017-03-03",
          "2017-03-04",
          "2017-03-05",
          "2017-03-06",
          "2017-03-07",
          "2017-03-08",
          "2017-03-09",
          "2017-03-10",
          "2017-03-11",
          "2017-03-12",
          "2017-03-13",
          "2017-03-14",
          "2017-03-15",
          "2017-03-16",
          "2017-03-17",
          "2017-03-18",
          "2017-03-19",
          "2017-03-20",
          "2017-03-21",
          "2017-03-22",
          "2017-03-23",
          "2017-03-24",
          "2017-03-25",
          "2017-03-26",
          "2017-03-27",
          "2017-03-28",
          "2017-03-29",
          "2017-03-30",
          "2017-03-31",
          "2017-04-01",
          "2017-04-02",
          "2017-04-03",
          "2017-04-04",
          "2017-04-05",
          "2017-04-06",
          "2017-04-07",
          "2017-04-08",
          "2017-04-09",
          "2017-04-10",
          "2017-04-11",
          "2017-04-12",
          "2017-04-13",
          "2017-04-14",
          "2017-04-15",
          "2017-04-16",
          "2017-04-17",
          "2017-04-18",
          "2017-04-19",
          "2017-04-20",
          "2017-04-21",
          "2017-04-22",
          "2017-04-23",
          "2017-04-24",
          "2017-04-25",
          "2017-04-26",
          "2017-04-27",
          "2017-04-28",
          "2017-04-29",
          "2017-04-30",
          "2017-05-01",
          "2017-05-02",
          "2017-05-03",
          "2017-05-04",
          "2017-05-05",
          "2017-05-06",
          "2017-05-07",
          "2017-05-08",
          "2017-05-09",
          "2017-05-10",
          "2017-05-11",
          "2017-05-12",
          "2017-05-13",
          "2017-05-14",
          "2017-05-15",
          "2017-05-16",
          "2017-05-17",
          "2017-05-18",
          "2017-05-19",
          "2017-05-20",
          "2017-05-21",
          "2017-05-22",
          "2017-05-23",
          "2017-05-24",
          "2017-05-25",
          "2017-05-26",
          "2017-05-27",
          "2017-05-28",
          "2017-05-29",
          "2017-05-30",
          "2017-05-31",
          "2017-06-01",
          "2017-06-02",
          "2017-06-03",
          "2017-06-04",
          "2017-06-05",
          "2017-06-06",
          "2017-06-07",
          "2017-06-08",
          "2017-06-09",
          "2017-06-10",
          "2017-06-11",
          "2017-06-12",
          "2017-06-13",
          "2017-06-14",
          "2017-06-15",
          "2017-06-16",
          "2017-06-17",
          "2017-06-18",
          "2017-06-19",
          "2017-06-20",
          "2017-06-21",
          "2017-06-22",
          "2017-06-23",
          "2017-06-24",
          "2017-06-25",
          "2017-06-26",
          "2017-06-27",
          "2017-06-28",
          "2017-06-29",
          "2017-06-30",
          "2017-07-01",
          "2017-07-02",
          "2017-07-03",
          "2017-07-04",
          "2017-07-05",
          "2017-07-06",
          "2017-07-07",
          "2017-07-08",
          "2017-07-09",
          "2017-07-10",
          "2017-07-11",
          "2017-07-12",
          "2017-07-13",
          "2017-07-14",
          "2017-07-15",
          "2017-07-16",
          "2017-07-17",
          "2017-07-18",
          "2017-07-19",
          "2017-07-20",
          "2017-07-21",
          "2017-07-22",
          "2017-07-23",
          "2017-07-24",
          "2017-07-25",
          "2017-07-26",
          "2017-07-27",
          "2017-07-28",
          "2017-07-29",
          "2017-07-30",
          "2017-07-31",
          "2017-08-01",
          "2017-08-02",
          "2017-08-03",
          "2017-08-04",
          "2017-08-05",
          "2017-08-06",
          "2017-08-07",
          "2017-08-08",
          "2017-08-09",
          "2017-08-10",
          "2017-08-11",
          "2017-08-12",
          "2017-08-13",
          "2017-08-14",
          "2017-08-15"
         ],
         "y": {
          "bdata": "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",
          "dtype": "f8"
         }
        }
       ],
       "layout": {
        "legend": {
         "tracegroupgap": 0
        },
        "template": {
         "data": {
          "bar": [
           {
            "error_x": {
             "color": "#2a3f5f"
            },
            "error_y": {
             "color": "#2a3f5f"
            },
            "marker": {
             "line": {
              "color": "white",
              "width": 0.5
             },
             "pattern": {
              "fillmode": "overlay",
              "size": 10,
              "solidity": 0.2
             }
            },
            "type": "bar"
           }
          ],
          "barpolar": [
           {
            "marker": {
             "line": {
              "color": "white",
              "width": 0.5
             },
             "pattern": {
              "fillmode": "overlay",
              "size": 10,
              "solidity": 0.2
             }
            },
            "type": "barpolar"
           }
          ],
          "carpet": [
           {
            "aaxis": {
             "endlinecolor": "#2a3f5f",
             "gridcolor": "#C8D4E3",
             "linecolor": "#C8D4E3",
             "minorgridcolor": "#C8D4E3",
             "startlinecolor": "#2a3f5f"
            },
            "baxis": {
             "endlinecolor": "#2a3f5f",
             "gridcolor": "#C8D4E3",
             "linecolor": "#C8D4E3",
             "minorgridcolor": "#C8D4E3",
             "startlinecolor": "#2a3f5f"
            },
            "type": "carpet"
           }
          ],
          "choropleth": [
           {
            "colorbar": {
             "outlinewidth": 0,
             "ticks": ""
            },
            "type": "choropleth"
           }
          ],
          "contour": [
           {
            "colorbar": {
             "outlinewidth": 0,
             "ticks": ""
            },
            "colorscale": [
             [
              0,
              "#0d0887"
             ],
             [
              0.1111111111111111,
              "#46039f"
             ],
             [
              0.2222222222222222,
              "#7201a8"
             ],
             [
              0.3333333333333333,
              "#9c179e"
             ],
             [
              0.4444444444444444,
              "#bd3786"
             ],
             [
              0.5555555555555556,
              "#d8576b"
             ],
             [
              0.6666666666666666,
              "#ed7953"
             ],
             [
              0.7777777777777778,
              "#fb9f3a"
             ],
             [
              0.8888888888888888,
              "#fdca26"
             ],
             [
              1,
              "#f0f921"
             ]
            ],
            "type": "contour"
           }
          ],
          "contourcarpet": [
           {
            "colorbar": {
             "outlinewidth": 0,
             "ticks": ""
            },
            "type": "contourcarpet"
           }
          ],
          "heatmap": [
           {
            "colorbar": {
             "outlinewidth": 0,
             "ticks": ""
            },
            "colorscale": [
             [
              0,
              "#0d0887"
             ],
             [
              0.1111111111111111,
              "#46039f"
             ],
             [
              0.2222222222222222,
              "#7201a8"
             ],
             [
              0.3333333333333333,
              "#9c179e"
             ],
             [
              0.4444444444444444,
              "#bd3786"
             ],
             [
              0.5555555555555556,
              "#d8576b"
             ],
             [
              0.6666666666666666,
              "#ed7953"
             ],
             [
              0.7777777777777778,
              "#fb9f3a"
             ],
             [
              0.8888888888888888,
              "#fdca26"
             ],
             [
              1,
              "#f0f921"
             ]
            ],
            "type": "heatmap"
           }
          ],
          "histogram": [
           {
            "marker": {
             "pattern": {
              "fillmode": "overlay",
              "size": 10,
              "solidity": 0.2
             }
            },
            "type": "histogram"
           }
          ],
          "histogram2d": [
           {
            "colorbar": {
             "outlinewidth": 0,
             "ticks": ""
            },
            "colorscale": [
             [
              0,
              "#0d0887"
             ],
             [
              0.1111111111111111,
              "#46039f"
             ],
             [
              0.2222222222222222,
              "#7201a8"
             ],
             [
              0.3333333333333333,
              "#9c179e"
             ],
             [
              0.4444444444444444,
              "#bd3786"
             ],
             [
              0.5555555555555556,
              "#d8576b"
             ],
             [
              0.6666666666666666,
              "#ed7953"
             ],
             [
              0.7777777777777778,
              "#fb9f3a"
             ],
             [
              0.8888888888888888,
              "#fdca26"
             ],
             [
              1,
              "#f0f921"
             ]
            ],
            "type": "histogram2d"
           }
          ],
          "histogram2dcontour": [
           {
            "colorbar": {
             "outlinewidth": 0,
             "ticks": ""
            },
            "colorscale": [
             [
              0,
              "#0d0887"
             ],
             [
              0.1111111111111111,
              "#46039f"
             ],
             [
              0.2222222222222222,
              "#7201a8"
             ],
             [
              0.3333333333333333,
              "#9c179e"
             ],
             [
              0.4444444444444444,
              "#bd3786"
             ],
             [
              0.5555555555555556,
              "#d8576b"
             ],
             [
              0.6666666666666666,
              "#ed7953"
             ],
             [
              0.7777777777777778,
              "#fb9f3a"
             ],
             [
              0.8888888888888888,
              "#fdca26"
             ],
             [
              1,
              "#f0f921"
             ]
            ],
            "type": "histogram2dcontour"
           }
          ],
          "mesh3d": [
           {
            "colorbar": {
             "outlinewidth": 0,
             "ticks": ""
            },
            "type": "mesh3d"
           }
          ],
          "parcoords": [
           {
            "line": {
             "colorbar": {
              "outlinewidth": 0,
              "ticks": ""
             }
            },
            "type": "parcoords"
           }
          ],
          "pie": [
           {
            "automargin": true,
            "type": "pie"
           }
          ],
          "scatter": [
           {
            "fillpattern": {
             "fillmode": "overlay",
             "size": 10,
             "solidity": 0.2
            },
            "type": "scatter"
           }
          ],
          "scatter3d": [
           {
            "line": {
             "colorbar": {
              "outlinewidth": 0,
              "ticks": ""
             }
            },
            "marker": {
             "colorbar": {
              "outlinewidth": 0,
              "ticks": ""
             }
            },
            "type": "scatter3d"
           }
          ],
          "scattercarpet": [
           {
            "marker": {
             "colorbar": {
              "outlinewidth": 0,
              "ticks": ""
             }
            },
            "type": "scattercarpet"
           }
          ],
          "scattergeo": [
           {
            "marker": {
             "colorbar": {
              "outlinewidth": 0,
              "ticks": ""
             }
            },
            "type": "scattergeo"
           }
          ],
          "scattergl": [
           {
            "marker": {
             "colorbar": {
              "outlinewidth": 0,
              "ticks": ""
             }
            },
            "type": "scattergl"
           }
          ],
          "scattermap": [
           {
            "marker": {
             "colorbar": {
              "outlinewidth": 0,
              "ticks": ""
             }
            },
            "type": "scattermap"
           }
          ],
          "scattermapbox": [
           {
            "marker": {
             "colorbar": {
              "outlinewidth": 0,
              "ticks": ""
             }
            },
            "type": "scattermapbox"
           }
          ],
          "scatterpolar": [
           {
            "marker": {
             "colorbar": {
              "outlinewidth": 0,
              "ticks": ""
             }
            },
            "type": "scatterpolar"
           }
          ],
          "scatterpolargl": [
           {
            "marker": {
             "colorbar": {
              "outlinewidth": 0,
              "ticks": ""
             }
            },
            "type": "scatterpolargl"
           }
          ],
          "scatterternary": [
           {
            "marker": {
             "colorbar": {
              "outlinewidth": 0,
              "ticks": ""
             }
            },
            "type": "scatterternary"
           }
          ],
          "surface": [
           {
            "colorbar": {
             "outlinewidth": 0,
             "ticks": ""
            },
            "colorscale": [
             [
              0,
              "#0d0887"
             ],
             [
              0.1111111111111111,
              "#46039f"
             ],
             [
              0.2222222222222222,
              "#7201a8"
             ],
             [
              0.3333333333333333,
              "#9c179e"
             ],
             [
              0.4444444444444444,
              "#bd3786"
             ],
             [
              0.5555555555555556,
              "#d8576b"
             ],
             [
              0.6666666666666666,
              "#ed7953"
             ],
             [
              0.7777777777777778,
              "#fb9f3a"
             ],
             [
              0.8888888888888888,
              "#fdca26"
             ],
             [
              1,
              "#f0f921"
             ]
            ],
            "type": "surface"
           }
          ],
          "table": [
           {
            "cells": {
             "fill": {
              "color": "#EBF0F8"
             },
             "line": {
              "color": "white"
             }
            },
            "header": {
             "fill": {
              "color": "#C8D4E3"
             },
             "line": {
              "color": "white"
             }
            },
            "type": "table"
           }
          ]
         },
         "layout": {
          "annotationdefaults": {
           "arrowcolor": "#2a3f5f",
           "arrowhead": 0,
           "arrowwidth": 1
          },
          "autotypenumbers": "strict",
          "coloraxis": {
           "colorbar": {
            "outlinewidth": 0,
            "ticks": ""
           }
          },
          "colorscale": {
           "diverging": [
            [
             0,
             "#8e0152"
            ],
            [
             0.1,
             "#c51b7d"
            ],
            [
             0.2,
             "#de77ae"
            ],
            [
             0.3,
             "#f1b6da"
            ],
            [
             0.4,
             "#fde0ef"
            ],
            [
             0.5,
             "#f7f7f7"
            ],
            [
             0.6,
             "#e6f5d0"
            ],
            [
             0.7,
             "#b8e186"
            ],
            [
             0.8,
             "#7fbc41"
            ],
            [
             0.9,
             "#4d9221"
            ],
            [
             1,
             "#276419"
            ]
           ],
           "sequential": [
            [
             0,
             "#0d0887"
            ],
            [
             0.1111111111111111,
             "#46039f"
            ],
            [
             0.2222222222222222,
             "#7201a8"
            ],
            [
             0.3333333333333333,
             "#9c179e"
            ],
            [
             0.4444444444444444,
             "#bd3786"
            ],
            [
             0.5555555555555556,
             "#d8576b"
            ],
            [
             0.6666666666666666,
             "#ed7953"
            ],
            [
             0.7777777777777778,
             "#fb9f3a"
            ],
            [
             0.8888888888888888,
             "#fdca26"
            ],
            [
             1,
             "#f0f921"
            ]
           ],
           "sequentialminus": [
            [
             0,
             "#0d0887"
            ],
            [
             0.1111111111111111,
             "#46039f"
            ],
            [
             0.2222222222222222,
             "#7201a8"
            ],
            [
             0.3333333333333333,
             "#9c179e"
            ],
            [
             0.4444444444444444,
             "#bd3786"
            ],
            [
             0.5555555555555556,
             "#d8576b"
            ],
            [
             0.6666666666666666,
             "#ed7953"
            ],
            [
             0.7777777777777778,
             "#fb9f3a"
            ],
            [
             0.8888888888888888,
             "#fdca26"
            ],
            [
             1,
             "#f0f921"
            ]
           ]
          },
          "colorway": [
           "#636efa",
           "#EF553B",
           "#00cc96",
           "#ab63fa",
           "#FFA15A",
           "#19d3f3",
           "#FF6692",
           "#B6E880",
           "#FF97FF",
           "#FECB52"
          ],
          "font": {
           "color": "#2a3f5f"
          },
          "geo": {
           "bgcolor": "white",
           "lakecolor": "white",
           "landcolor": "white",
           "showlakes": true,
           "showland": true,
           "subunitcolor": "#C8D4E3"
          },
          "hoverlabel": {
           "align": "left"
          },
          "hovermode": "closest",
          "mapbox": {
           "style": "light"
          },
          "paper_bgcolor": "white",
          "plot_bgcolor": "white",
          "polar": {
           "angularaxis": {
            "gridcolor": "#EBF0F8",
            "linecolor": "#EBF0F8",
            "ticks": ""
           },
           "bgcolor": "white",
           "radialaxis": {
            "gridcolor": "#EBF0F8",
            "linecolor": "#EBF0F8",
            "ticks": ""
           }
          },
          "scene": {
           "xaxis": {
            "backgroundcolor": "white",
            "gridcolor": "#DFE8F3",
            "gridwidth": 2,
            "linecolor": "#EBF0F8",
            "showbackground": true,
            "ticks": "",
            "zerolinecolor": "#EBF0F8"
           },
           "yaxis": {
            "backgroundcolor": "white",
            "gridcolor": "#DFE8F3",
            "gridwidth": 2,
            "linecolor": "#EBF0F8",
            "showbackground": true,
            "ticks": "",
            "zerolinecolor": "#EBF0F8"
           },
           "zaxis": {
            "backgroundcolor": "white",
            "gridcolor": "#DFE8F3",
            "gridwidth": 2,
            "linecolor": "#EBF0F8",
            "showbackground": true,
            "ticks": "",
            "zerolinecolor": "#EBF0F8"
           }
          },
          "shapedefaults": {
           "line": {
            "color": "#2a3f5f"
           }
          },
          "ternary": {
           "aaxis": {
            "gridcolor": "#DFE8F3",
            "linecolor": "#A2B1C6",
            "ticks": ""
           },
           "baxis": {
            "gridcolor": "#DFE8F3",
            "linecolor": "#A2B1C6",
            "ticks": ""
           },
           "bgcolor": "white",
           "caxis": {
            "gridcolor": "#DFE8F3",
            "linecolor": "#A2B1C6",
            "ticks": ""
           }
          },
          "title": {
           "x": 0.05
          },
          "xaxis": {
           "automargin": true,
           "gridcolor": "#EBF0F8",
           "linecolor": "#EBF0F8",
           "ticks": "",
           "title": {
            "standoff": 15
           },
           "zerolinecolor": "#EBF0F8",
           "zerolinewidth": 2
          },
          "yaxis": {
           "automargin": true,
           "gridcolor": "#EBF0F8",
           "linecolor": "#EBF0F8",
           "ticks": "",
           "title": {
            "standoff": 15
           },
           "zerolinecolor": "#EBF0F8",
           "zerolinewidth": 2
          }
         }
        },
        "title": {
         "text": "Actual vs Predicted Sales"
        },
        "xaxis": {
         "anchor": "y",
         "domain": [
          0,
          1
         ],
         "title": {
          "text": "Date"
         }
        },
        "yaxis": {
         "anchor": "x",
         "domain": [
          0,
          1
         ],
         "range": [
          0,
          50
         ],
         "title": {
          "text": "y"
         }
        }
       }
      }
     },
     "metadata": {},
     "output_type": "display_data"
    }
   ],
   "source": [
    "import plotly.express as px\n",
    "\n",
    "x_subset = x_valid.with_columns(\n",
    "    date=x_dates_valid\n",
    ").filter(\n",
    "    (pl.col(\"store_id\") == 3) \n",
    "    & (pl.col(\"product_id\") == 213652)\n",
    ")\n",
    "\n",
    "y_subset = y_valid.with_columns(\n",
    "    product_id=x_valid.get_column(\"product_id\"),\n",
    "    store_id=x_valid.get_column(\"store_id\"),\n",
    ").filter(\n",
    "    (pl.col(\"store_id\") == 3)\n",
    "    & (pl.col(\"product_id\") == 213652)\n",
    ")\n",
    "\n",
    "x_dates_subset = x_subset.drop_in_place(\"date\")\n",
    "\n",
    "# apply inverse of logp1 transformation to actuals and round to nearest integer\n",
    "actuals = y_subset.get_column(\"log_units_sold\")\n",
    "actuals = (pl.Series(actuals).exp() - 1).round()\n",
    "\n",
    "# apply inverse of logp1 transformation to predictions and round to nearest integer\n",
    "predictions = bst.predict(x_subset.to_pandas())\n",
    "predictions = (pl.Series(predictions).exp() - 1).round()\n",
    "\n",
    "# plot time series: y_valid vs prediction\n",
    "fig = px.line(\n",
    "    x=x_dates_subset,\n",
    "    # y=[y_subset, predictions],\n",
    "    y=predictions,\n",
    "    labels={\"x\": \"Date\", \"value\": \"Sales\"},\n",
    "    title=\"Actual vs Predicted Sales\",\n",
    "    template=\"plotly_white\"\n",
    ")\n",
    "\n",
    "fig.add_scatter(\n",
    "    x=x_dates_subset,\n",
    "    y=actuals,\n",
    "    name=\"Actual Sales\",\n",
    "    line=dict(color=\"red\", width=2)\n",
    ")\n",
    "\n",
    "# limit y-axis to 0-5\n",
    "fig.update_yaxes(range=[0, 50])\n",
    "\n",
    "fig.show()"
   ]
  },
  {
   "cell_type": "code",
   "execution_count": 21,
   "id": "871f0cf3",
   "metadata": {},
   "outputs": [],
   "source": [
    "from sklearn.base import BaseEstimator, RegressorMixin, clone\n",
    "import lightgbm as lgbm\n",
    "\n",
    "class DirectMultihorizonForecaster(BaseEstimator, RegressorMixin):\n",
    "    def __init__(self, horizons: int, params=None):\n",
    "        \"\"\"Construct a gradient boosting model.\n",
    "\n",
    "        Parameters\n",
    "        ----------\n",
    "        boosting_type : str, optional (default='gbdt')\n",
    "            'gbdt', traditional Gradient Boosting Decision Tree.\n",
    "            'dart', Dropouts meet Multiple Additive Regression Trees.\n",
    "            'rf', Random Forest.\n",
    "        num_leaves : int, optional (default=31)\n",
    "            Maximum tree leaves for base learners.\n",
    "        max_depth : int, optional (default=-1)\n",
    "            Maximum tree depth for base learners, <=0 means no limit.\n",
    "            If setting this to a positive value, consider also changing ``num_leaves`` to ``<= 2^max_depth``.\n",
    "        learning_rate : float, optional (default=0.1)\n",
    "            Boosting learning rate.\n",
    "            You can use ``callbacks`` parameter of ``fit`` method to shrink/adapt learning rate\n",
    "            in training using ``reset_parameter`` callback.\n",
    "            Note, that this will ignore the ``learning_rate`` argument in training.\n",
    "        n_estimators : int, optional (default=100)\n",
    "            Number of boosted trees to fit.\n",
    "        subsample_for_bin : int, optional (default=200000)\n",
    "            Number of samples for constructing bins.\n",
    "        objective : str, callable or None, optional (default=None)\n",
    "            Specify the learning task and the corresponding learning objective or\n",
    "            a custom objective function to be used (see note below).\n",
    "            Default: 'regression' for LGBMRegressor, 'binary' or 'multiclass' for LGBMClassifier, 'lambdarank' for LGBMRanker.\n",
    "        class_weight : dict, 'balanced' or None, optional (default=None)\n",
    "            Weights associated with classes in the form ``{class_label: weight}``.\n",
    "            Use this parameter only for multi-class classification task;\n",
    "            for binary classification task you may use ``is_unbalance`` or ``scale_pos_weight`` parameters.\n",
    "            Note, that the usage of all these parameters will result in poor estimates of the individual class probabilities.\n",
    "            You may want to consider performing probability calibration\n",
    "            (https://scikit-learn.org/stable/modules/calibration.html) of your model.\n",
    "            The 'balanced' mode uses the values of y to automatically adjust weights\n",
    "            inversely proportional to class frequencies in the input data as ``n_samples / (n_classes * np.bincount(y))``.\n",
    "            If None, all classes are supposed to have weight one.\n",
    "            Note, that these weights will be multiplied with ``sample_weight`` (passed through the ``fit`` method)\n",
    "            if ``sample_weight`` is specified.\n",
    "        min_split_gain : float, optional (default=0.)\n",
    "            Minimum loss reduction required to make a further partition on a leaf node of the tree.\n",
    "        min_child_weight : float, optional (default=1e-3)\n",
    "            Minimum sum of instance weight (Hessian) needed in a child (leaf).\n",
    "        min_child_samples : int, optional (default=20)\n",
    "            Minimum number of data needed in a child (leaf).\n",
    "        subsample : float, optional (default=1.)\n",
    "            Subsample ratio of the training instance.\n",
    "        subsample_freq : int, optional (default=0)\n",
    "            Frequency of subsample, <=0 means no enable.\n",
    "        colsample_bytree : float, optional (default=1.)\n",
    "            Subsample ratio of columns when constructing each tree.\n",
    "        reg_alpha : float, optional (default=0.)\n",
    "            L1 regularization term on weights.\n",
    "        reg_lambda : float, optional (default=0.)\n",
    "            L2 regularization term on weights.\n",
    "        random_state : int, RandomState object or None, optional (default=None)\n",
    "            Random number seed.\n",
    "            If int, this number is used to seed the C++ code.\n",
    "            If RandomState or Generator object (numpy), a random integer is picked based on its state to seed the C++ code.\n",
    "            If None, default seeds in C++ code are used.\n",
    "        n_jobs : int or None, optional (default=None)\n",
    "            Number of parallel threads to use for training (can be changed at prediction time by\n",
    "            passing it as an extra keyword argument).\n",
    "\n",
    "            For better performance, it is recommended to set this to the number of physical cores\n",
    "            in the CPU.\n",
    "\n",
    "            Negative integers are interpreted as following joblib's formula (n_cpus + 1 + n_jobs), just like\n",
    "            scikit-learn (so e.g. -1 means using all threads). A value of zero corresponds the default number of\n",
    "            threads configured for OpenMP in the system. A value of ``None`` (the default) corresponds\n",
    "            to using the number of physical cores in the system (its correct detection requires\n",
    "            either the ``joblib`` or the ``psutil`` util libraries to be installed).\n",
    "\n",
    "            .. versionchanged:: 4.0.0\n",
    "\n",
    "        importance_type : str, optional (default='split')\n",
    "            The type of feature importance to be filled into ``feature_importances_``.\n",
    "            If 'split', result contains numbers of times the feature is used in a model.\n",
    "            If 'gain', result contains total gains of splits which use the feature.\n",
    "        **kwargs\n",
    "            Other parameters for the model.\n",
    "            Check http://lightgbm.readthedocs.io/en/latest/Parameters.html for more parameters.\n",
    "\n",
    "            .. warning::\n",
    "\n",
    "                \\*\\*kwargs is not supported in sklearn, it may cause unexpected issues.\n",
    "\n",
    "        Note\n",
    "        ----\n",
    "        A custom objective function can be provided for the ``objective`` parameter.\n",
    "        In this case, it should have the signature\n",
    "        ``objective(y_true, y_pred) -> grad, hess``,\n",
    "        ``objective(y_true, y_pred, weight) -> grad, hess``\n",
    "        or ``objective(y_true, y_pred, weight, group) -> grad, hess``:\n",
    "\n",
    "            y_true : numpy 1-D array of shape = [n_samples]\n",
    "                The target values.\n",
    "            y_pred : numpy 1-D array of shape = [n_samples] or numpy 2-D array of shape = [n_samples, n_classes] (for multi-class task)\n",
    "                The predicted values.\n",
    "                Predicted values are returned before any transformation,\n",
    "                e.g. they are raw margin instead of probability of positive class for binary task.\n",
    "            weight : numpy 1-D array of shape = [n_samples]\n",
    "                The weight of samples. Weights should be non-negative.\n",
    "            group : numpy 1-D array\n",
    "                Group/query data.\n",
    "                Only used in the learning-to-rank task.\n",
    "                sum(group) = n_samples.\n",
    "                For example, if you have a 100-document dataset with ``group = [10, 20, 40, 10, 10, 10]``, that means that you have 6 groups,\n",
    "                where the first 10 records are in the first group, records 11-30 are in the second group, records 31-70 are in the third group, etc.\n",
    "            grad : numpy 1-D array of shape = [n_samples] or numpy 2-D array of shape = [n_samples, n_classes] (for multi-class task)\n",
    "                The value of the first order derivative (gradient) of the loss\n",
    "                with respect to the elements of y_pred for each sample point.\n",
    "            hess : numpy 1-D array of shape = [n_samples] or numpy 2-D array of shape = [n_samples, n_classes] (for multi-class task)\n",
    "                The value of the second order derivative (Hessian) of the loss\n",
    "                with respect to the elements of y_pred for each sample point.\n",
    "\n",
    "        For multi-class task, y_pred is a numpy 2-D array of shape = [n_samples, n_classes],\n",
    "        and grad and hess should be returned in the same format.\n",
    "        \"\"\"\n",
    "        # boosting_type: str = \"gbdt\",\n",
    "        # num_leaves: int = 31,\n",
    "        # max_depth: int = -1,\n",
    "        # learning_rate: float = 0.1,\n",
    "        # n_estimators: int = 100,\n",
    "        # subsample_for_bin: int = 200000,\n",
    "        # objective: Optional[Union[str, _LGBM_ScikitCustomObjectiveFunction]] = None,\n",
    "        # class_weight: Optional[Union[Dict, str]] = None,\n",
    "        # min_split_gain: float = 0.0,\n",
    "        # min_child_weight: float = 1e-3,\n",
    "        # min_child_samples: int = 20,\n",
    "        # subsample: float = 1.0,\n",
    "        # subsample_freq: int = 0,\n",
    "        # colsample_bytree: float = 1.0,\n",
    "        # reg_alpha: float = 0.0,\n",
    "        # reg_lambda: float = 0.0,\n",
    "        # random_state: Optional[Union[int, np.random.RandomState, np.random.Generator]] = None,\n",
    "        # n_jobs: Optional[int] = None,\n",
    "        # importance_type: str = \"split\",\n",
    "        self.params = params if params is not None else {}\n",
    "        self.base_regressor = lgbm.LGBMRegressor(**params)\n",
    "        self.horizons = horizons\n",
    "        self.models_ = []\n",
    "        self.is_fitted_ = False\n",
    "        self.target_names_ = None\n",
    "\n",
    "    def fit(self, X: pl.DataFrame, Y: pl.DataFrame, fit_params=None, target_cols=None):\n",
    "        # X: _LGBM_ScikitMatrixLike,\n",
    "        # y: _LGBM_LabelType,\n",
    "        # sample_weight: Optional[_LGBM_WeightType] = None,\n",
    "        # init_score: Optional[_LGBM_InitScoreType] = None,\n",
    "        # eval_set: Optional[List[_LGBM_ScikitValidSet]] = None,\n",
    "        # eval_names: Optional[List[str]] = None,\n",
    "        # eval_sample_weight: Optional[List[_LGBM_WeightType]] = None,\n",
    "        # eval_init_score: Optional[List[_LGBM_InitScoreType]] = None,\n",
    "        # eval_metric: Optional[_LGBM_ScikitEvalMetricType] = None,\n",
    "        # feature_name: _LGBM_FeatureNameConfiguration = \"auto\",\n",
    "        # categorical_feature: _LGBM_CategoricalFeatureConfiguration = \"auto\",\n",
    "        # callbacks: Optional[List[Callable]] = None,\n",
    "        # init_model: Optional[Union[str, Path, Booster, LGBMModel]] = None,\n",
    "\n",
    "        self.fit_params = fit_params if fit_params is not None else {}\n",
    "        self.target_cols_ = Y.columns if target_cols is None else target_cols\n",
    "\n",
    "        # For direct approach, Y should contain multiple columns, each representing a different horizon.\n",
    "        # Each column should be sorted out according to the horizon it represents, e.g., 'h1', 'h2', etc.\n",
    "        if len(self.target_cols_) != self.horizons:\n",
    "            raise ValueError(\n",
    "                f\"Expected {self.horizons} target columns, but got {len(self.target_cols_)}.\"\n",
    "            )\n",
    "        \n",
    "        X = X.to_pandas()\n",
    "        self.models_ = [clone(self.base_regressor) for _ in range(self.horizons)]\n",
    "        \n",
    "        # Fit each model for each horizon\n",
    "        for h in range(self.horizons):\n",
    "            y_h = Y.get_column(self.target_cols_[h]).to_numpy()\n",
    "            self.models_[h].fit(X, y_h, **self.fit_params)\n",
    "        \n",
    "        self.is_fitted_ = True\n",
    "        return self\n",
    "\n",
    "    def predict(self, X: pl.DataFrame):\n",
    "        \"\"\"Predict using the fitted models for each horizon.\n",
    "        \"\"\"\n",
    "        if not self.is_fitted_:\n",
    "            raise RuntimeError(\"You must fit the model before calling predict.\")\n",
    "    \n",
    "        X = X.to_pandas()\n",
    "        preds_df = pl.DataFrame(\n",
    "            {\n",
    "                f'pred_{self.target_cols_[horizon]}': model.predict(X)\n",
    "                for horizon, model in enumerate(self.models_)\n",
    "            }\n",
    "        )\n",
    "        return preds_df\n",
    "    \n",
    "    def feature_importances(self) -> pl.DataFrame:\n",
    "        \"\"\"Get feature importances from the fitted models.\n",
    "        \n",
    "        Parameters\n",
    "        ----------\n",
    "        importance_type : str, optional (default='split')\n",
    "            The type of feature importance to be returned.\n",
    "            Can be 'split' or 'gain'.\n",
    "        \"\"\"\n",
    "        if not self.is_fitted_:\n",
    "            raise RuntimeError(\"You must fit the model before calling feature_importances_.\")\n",
    "\n",
    "        return pl.DataFrame(\n",
    "            {\n",
    "                \"feature_name\": self.models_[0].feature_name_\n",
    "            }\n",
    "            |\n",
    "            {\n",
    "                f'{self.target_cols_[horizon]}': model.feature_importances_\n",
    "                for horizon, model in enumerate(self.models_)\n",
    "            }\n",
    "        )"
   ]
  },
  {
   "cell_type": "code",
   "execution_count": 22,
   "id": "38321a8c",
   "metadata": {},
   "outputs": [
    {
     "ename": "ColumnNotFoundError",
     "evalue": "\"perishable\" not found",
     "output_type": "error",
     "traceback": [
      "\u001b[1;31m---------------------------------------------------------------------------\u001b[0m",
      "\u001b[1;31mColumnNotFoundError\u001b[0m                       Traceback (most recent call last)",
      "Cell \u001b[1;32mIn[22], line 1\u001b[0m\n\u001b[1;32m----> 1\u001b[0m weights \u001b[38;5;241m=\u001b[39m \u001b[38;5;241m0.25\u001b[39m \u001b[38;5;241m*\u001b[39m \u001b[43mx_train\u001b[49m\u001b[38;5;241;43m.\u001b[39;49m\u001b[43mget_column\u001b[49m\u001b[43m(\u001b[49m\u001b[38;5;124;43m\"\u001b[39;49m\u001b[38;5;124;43mperishable\u001b[39;49m\u001b[38;5;124;43m\"\u001b[39;49m\u001b[43m)\u001b[49m\u001b[38;5;241m.\u001b[39mto_numpy() \u001b[38;5;241m+\u001b[39m \u001b[38;5;241m1\u001b[39m\n",
      "File \u001b[1;32mc:\\Users\\godsp\\Documents\\repos\\operation_research\\services\\model_fit\\.venv\\lib\\site-packages\\polars\\dataframe\\frame.py:8694\u001b[0m, in \u001b[0;36mDataFrame.get_column\u001b[1;34m(self, name, default)\u001b[0m\n\u001b[0;32m   8647\u001b[0m \u001b[38;5;250m\u001b[39m\u001b[38;5;124;03m\"\"\"\u001b[39;00m\n\u001b[0;32m   8648\u001b[0m \u001b[38;5;124;03mGet a single column by name.\u001b[39;00m\n\u001b[0;32m   8649\u001b[0m \n\u001b[1;32m   (...)\u001b[0m\n\u001b[0;32m   8691\u001b[0m \u001b[38;5;124;03mTrue\u001b[39;00m\n\u001b[0;32m   8692\u001b[0m \u001b[38;5;124;03m\"\"\"\u001b[39;00m\n\u001b[0;32m   8693\u001b[0m \u001b[38;5;28;01mtry\u001b[39;00m:\n\u001b[1;32m-> 8694\u001b[0m     \u001b[38;5;28;01mreturn\u001b[39;00m wrap_s(\u001b[38;5;28;43mself\u001b[39;49m\u001b[38;5;241;43m.\u001b[39;49m\u001b[43m_df\u001b[49m\u001b[38;5;241;43m.\u001b[39;49m\u001b[43mget_column\u001b[49m\u001b[43m(\u001b[49m\u001b[43mname\u001b[49m\u001b[43m)\u001b[49m)\n\u001b[0;32m   8695\u001b[0m \u001b[38;5;28;01mexcept\u001b[39;00m ColumnNotFoundError:\n\u001b[0;32m   8696\u001b[0m     \u001b[38;5;28;01mif\u001b[39;00m default \u001b[38;5;129;01mis\u001b[39;00m no_default:\n",
      "\u001b[1;31mColumnNotFoundError\u001b[0m: \"perishable\" not found"
     ]
    }
   ],
   "source": [
    "weights = 0.25 * x_train.get_column(\"perishable\").to_numpy() + 1"
   ]
  },
  {
   "cell_type": "code",
   "execution_count": null,
   "id": "3423a78a",
   "metadata": {},
   "outputs": [
    {
     "name": "stdout",
     "output_type": "stream",
     "text": [
      "[LightGBM] [Warning] Categorical features with more bins than the configured maximum bin number found.\n",
      "[LightGBM] [Warning] For categorical features, max_bin and max_bin_by_feature may be ignored with a large number of categories.\n",
      "[LightGBM] [Info] Auto-choosing col-wise multi-threading, the overhead of testing was 0.004403 seconds.\n",
      "You can set `force_col_wise=true` to remove the overhead.\n",
      "[LightGBM] [Info] Total Bins 12395\n",
      "[LightGBM] [Info] Number of data points in the train set: 46039, number of used features: 71\n",
      "[LightGBM] [Info] Start training from score 3.606862\n",
      "Training until validation scores don't improve for 125 rounds\n",
      "[25]\tvalid_0's l2: 0.255361\n",
      "[50]\tvalid_0's l2: 0.144549\n",
      "[75]\tvalid_0's l2: 0.10025\n",
      "[100]\tvalid_0's l2: 0.0814864\n",
      "[125]\tvalid_0's l2: 0.0722764\n",
      "[150]\tvalid_0's l2: 0.067358\n",
      "[175]\tvalid_0's l2: 0.0643582\n",
      "[200]\tvalid_0's l2: 0.0623735\n",
      "[225]\tvalid_0's l2: 0.0609436\n",
      "[250]\tvalid_0's l2: 0.0595133\n",
      "[275]\tvalid_0's l2: 0.0582818\n",
      "[300]\tvalid_0's l2: 0.0574224\n",
      "[325]\tvalid_0's l2: 0.0566501\n",
      "[350]\tvalid_0's l2: 0.056037\n",
      "[375]\tvalid_0's l2: 0.0553311\n",
      "[400]\tvalid_0's l2: 0.0547586\n",
      "[425]\tvalid_0's l2: 0.0541929\n",
      "[450]\tvalid_0's l2: 0.0536918\n",
      "[475]\tvalid_0's l2: 0.0531929\n",
      "[500]\tvalid_0's l2: 0.0527277\n",
      "[525]\tvalid_0's l2: 0.0522684\n",
      "[550]\tvalid_0's l2: 0.0518371\n",
      "[575]\tvalid_0's l2: 0.0514096\n",
      "[600]\tvalid_0's l2: 0.050996\n",
      "[625]\tvalid_0's l2: 0.0505633\n",
      "[650]\tvalid_0's l2: 0.0501864\n",
      "[675]\tvalid_0's l2: 0.049793\n",
      "[700]\tvalid_0's l2: 0.0494396\n",
      "[725]\tvalid_0's l2: 0.049076\n",
      "[750]\tvalid_0's l2: 0.0487186\n",
      "[775]\tvalid_0's l2: 0.0483559\n",
      "[800]\tvalid_0's l2: 0.0480127\n",
      "[825]\tvalid_0's l2: 0.0476669\n",
      "[850]\tvalid_0's l2: 0.0473315\n",
      "[875]\tvalid_0's l2: 0.0469719\n",
      "[900]\tvalid_0's l2: 0.0466643\n",
      "[925]\tvalid_0's l2: 0.0462901\n",
      "[950]\tvalid_0's l2: 0.0459928\n",
      "[975]\tvalid_0's l2: 0.0456522\n",
      "[1000]\tvalid_0's l2: 0.0453529\n",
      "[1025]\tvalid_0's l2: 0.0450484\n",
      "[1050]\tvalid_0's l2: 0.0447476\n",
      "[1075]\tvalid_0's l2: 0.0444635\n",
      "[1100]\tvalid_0's l2: 0.0442048\n",
      "[1125]\tvalid_0's l2: 0.0439083\n",
      "[1150]\tvalid_0's l2: 0.0436311\n",
      "[1175]\tvalid_0's l2: 0.0433274\n",
      "[1200]\tvalid_0's l2: 0.0430521\n",
      "[1225]\tvalid_0's l2: 0.0427629\n",
      "[1250]\tvalid_0's l2: 0.0424806\n",
      "[1275]\tvalid_0's l2: 0.0421952\n",
      "[1300]\tvalid_0's l2: 0.041927\n",
      "[1325]\tvalid_0's l2: 0.0416437\n",
      "[1350]\tvalid_0's l2: 0.0413569\n",
      "[1375]\tvalid_0's l2: 0.0410798\n",
      "[1400]\tvalid_0's l2: 0.0408299\n",
      "[1425]\tvalid_0's l2: 0.0405638\n",
      "[1450]\tvalid_0's l2: 0.0403488\n",
      "[1475]\tvalid_0's l2: 0.0400982\n",
      "[1500]\tvalid_0's l2: 0.0398442\n",
      "[1525]\tvalid_0's l2: 0.0395894\n",
      "[1550]\tvalid_0's l2: 0.0393494\n",
      "[1575]\tvalid_0's l2: 0.0391027\n",
      "[1600]\tvalid_0's l2: 0.0388762\n",
      "[1625]\tvalid_0's l2: 0.0386333\n",
      "[1650]\tvalid_0's l2: 0.0383999\n",
      "[1675]\tvalid_0's l2: 0.0381893\n",
      "[1700]\tvalid_0's l2: 0.0379667\n",
      "[1725]\tvalid_0's l2: 0.0377547\n",
      "[1750]\tvalid_0's l2: 0.037538\n",
      "[1775]\tvalid_0's l2: 0.0373049\n",
      "[1800]\tvalid_0's l2: 0.03708\n",
      "[1825]\tvalid_0's l2: 0.0368698\n",
      "[1850]\tvalid_0's l2: 0.036648\n",
      "[1875]\tvalid_0's l2: 0.0364373\n",
      "[1900]\tvalid_0's l2: 0.0362408\n",
      "[1925]\tvalid_0's l2: 0.0360275\n",
      "[1950]\tvalid_0's l2: 0.0358345\n",
      "[1975]\tvalid_0's l2: 0.0356322\n",
      "[2000]\tvalid_0's l2: 0.0354396\n",
      "[2025]\tvalid_0's l2: 0.035235\n",
      "[2050]\tvalid_0's l2: 0.0350413\n",
      "[2075]\tvalid_0's l2: 0.0348406\n",
      "[2100]\tvalid_0's l2: 0.0346452\n",
      "[2125]\tvalid_0's l2: 0.0344497\n",
      "[2150]\tvalid_0's l2: 0.0342508\n",
      "[2175]\tvalid_0's l2: 0.034033\n",
      "[2200]\tvalid_0's l2: 0.0338448\n",
      "[2225]\tvalid_0's l2: 0.0336392\n",
      "[2250]\tvalid_0's l2: 0.0334546\n",
      "[2275]\tvalid_0's l2: 0.0332715\n",
      "[2300]\tvalid_0's l2: 0.0330858\n",
      "[2325]\tvalid_0's l2: 0.0329031\n",
      "[2350]\tvalid_0's l2: 0.0327347\n",
      "[2375]\tvalid_0's l2: 0.0325734\n",
      "[2400]\tvalid_0's l2: 0.0323979\n",
      "[2425]\tvalid_0's l2: 0.0322173\n",
      "[2450]\tvalid_0's l2: 0.0320419\n",
      "[2475]\tvalid_0's l2: 0.0318663\n",
      "[2500]\tvalid_0's l2: 0.0316987\n",
      "[2525]\tvalid_0's l2: 0.0315283\n",
      "[2550]\tvalid_0's l2: 0.0313814\n",
      "[2575]\tvalid_0's l2: 0.0312239\n",
      "[2600]\tvalid_0's l2: 0.0310672\n",
      "[2625]\tvalid_0's l2: 0.0309031\n",
      "[2650]\tvalid_0's l2: 0.0307428\n",
      "[2675]\tvalid_0's l2: 0.0305758\n",
      "[2700]\tvalid_0's l2: 0.0304186\n",
      "[2725]\tvalid_0's l2: 0.0302561\n",
      "[2750]\tvalid_0's l2: 0.0301062\n",
      "[2775]\tvalid_0's l2: 0.0299552\n",
      "[2800]\tvalid_0's l2: 0.0298145\n",
      "[2825]\tvalid_0's l2: 0.0296603\n",
      "[2850]\tvalid_0's l2: 0.0295043\n",
      "[2875]\tvalid_0's l2: 0.029344\n",
      "[2900]\tvalid_0's l2: 0.0291933\n",
      "[2925]\tvalid_0's l2: 0.029044\n",
      "[2950]\tvalid_0's l2: 0.0288988\n",
      "[2975]\tvalid_0's l2: 0.0287479\n",
      "[3000]\tvalid_0's l2: 0.0286019\n",
      "[3025]\tvalid_0's l2: 0.0284364\n",
      "[3050]\tvalid_0's l2: 0.0282976\n",
      "[3075]\tvalid_0's l2: 0.0281521\n",
      "[3100]\tvalid_0's l2: 0.0280112\n",
      "[3125]\tvalid_0's l2: 0.0278653\n",
      "[3150]\tvalid_0's l2: 0.0277352\n",
      "[3175]\tvalid_0's l2: 0.0275849\n",
      "[3200]\tvalid_0's l2: 0.0274503\n",
      "[3225]\tvalid_0's l2: 0.0272813\n",
      "[3250]\tvalid_0's l2: 0.0271579\n",
      "[3275]\tvalid_0's l2: 0.0270116\n",
      "[3300]\tvalid_0's l2: 0.0268923\n",
      "[3325]\tvalid_0's l2: 0.0267509\n",
      "[3350]\tvalid_0's l2: 0.0266145\n",
      "[3375]\tvalid_0's l2: 0.026486\n",
      "[3400]\tvalid_0's l2: 0.0263645\n",
      "[3425]\tvalid_0's l2: 0.0262325\n",
      "[3450]\tvalid_0's l2: 0.0261171\n",
      "[3475]\tvalid_0's l2: 0.0259878\n",
      "[3500]\tvalid_0's l2: 0.0258736\n",
      "[3525]\tvalid_0's l2: 0.0257507\n",
      "[3550]\tvalid_0's l2: 0.0256325\n",
      "[3575]\tvalid_0's l2: 0.0255119\n",
      "[3600]\tvalid_0's l2: 0.0253932\n",
      "[3625]\tvalid_0's l2: 0.025277\n",
      "[3650]\tvalid_0's l2: 0.0251603\n",
      "[3675]\tvalid_0's l2: 0.0250338\n",
      "[3700]\tvalid_0's l2: 0.0249225\n",
      "[3725]\tvalid_0's l2: 0.0247997\n",
      "[3750]\tvalid_0's l2: 0.0246879\n",
      "[3775]\tvalid_0's l2: 0.0245827\n",
      "[3800]\tvalid_0's l2: 0.0244712\n",
      "[3825]\tvalid_0's l2: 0.0243476\n",
      "[3850]\tvalid_0's l2: 0.024236\n",
      "[3875]\tvalid_0's l2: 0.0241246\n",
      "[3900]\tvalid_0's l2: 0.0240091\n",
      "[3925]\tvalid_0's l2: 0.0238899\n",
      "[3950]\tvalid_0's l2: 0.0237901\n",
      "[3975]\tvalid_0's l2: 0.0236634\n",
      "[4000]\tvalid_0's l2: 0.0235583\n",
      "[4025]\tvalid_0's l2: 0.0234517\n",
      "[4050]\tvalid_0's l2: 0.0233495\n",
      "[4075]\tvalid_0's l2: 0.0232382\n",
      "[4100]\tvalid_0's l2: 0.0231325\n",
      "[4125]\tvalid_0's l2: 0.0230213\n",
      "[4150]\tvalid_0's l2: 0.0229233\n",
      "[4175]\tvalid_0's l2: 0.0228248\n",
      "[4200]\tvalid_0's l2: 0.0227209\n",
      "[4225]\tvalid_0's l2: 0.0226141\n",
      "[4250]\tvalid_0's l2: 0.0225074\n",
      "[4275]\tvalid_0's l2: 0.0224062\n",
      "[4300]\tvalid_0's l2: 0.0223093\n",
      "[4325]\tvalid_0's l2: 0.0222119\n",
      "[4350]\tvalid_0's l2: 0.0221064\n",
      "[4375]\tvalid_0's l2: 0.0220068\n",
      "[4400]\tvalid_0's l2: 0.021919\n",
      "[4425]\tvalid_0's l2: 0.0218233\n",
      "[4450]\tvalid_0's l2: 0.0217272\n",
      "[4475]\tvalid_0's l2: 0.0216235\n",
      "[4500]\tvalid_0's l2: 0.021523\n",
      "[4525]\tvalid_0's l2: 0.0214336\n",
      "[4550]\tvalid_0's l2: 0.0213377\n",
      "[4575]\tvalid_0's l2: 0.0212417\n",
      "[4600]\tvalid_0's l2: 0.0211614\n",
      "[4625]\tvalid_0's l2: 0.0210659\n",
      "[4650]\tvalid_0's l2: 0.0209788\n",
      "[4675]\tvalid_0's l2: 0.0208795\n",
      "[4700]\tvalid_0's l2: 0.0207876\n",
      "[4725]\tvalid_0's l2: 0.0206857\n",
      "[4750]\tvalid_0's l2: 0.0206009\n",
      "[4775]\tvalid_0's l2: 0.0205059\n",
      "[4800]\tvalid_0's l2: 0.020425\n",
      "[4825]\tvalid_0's l2: 0.0203466\n",
      "[4850]\tvalid_0's l2: 0.0202598\n",
      "[4875]\tvalid_0's l2: 0.0201631\n",
      "[4900]\tvalid_0's l2: 0.0200751\n",
      "[4925]\tvalid_0's l2: 0.0199871\n",
      "[4950]\tvalid_0's l2: 0.0198999\n",
      "[4975]\tvalid_0's l2: 0.0198009\n",
      "[5000]\tvalid_0's l2: 0.0197176\n",
      "[5025]\tvalid_0's l2: 0.0196283\n",
      "[5050]\tvalid_0's l2: 0.0195501\n",
      "[5075]\tvalid_0's l2: 0.0194561\n",
      "[5100]\tvalid_0's l2: 0.019379\n",
      "[5125]\tvalid_0's l2: 0.0192944\n",
      "[5150]\tvalid_0's l2: 0.0192117\n",
      "[5175]\tvalid_0's l2: 0.0191324\n",
      "[5200]\tvalid_0's l2: 0.0190522\n",
      "[5225]\tvalid_0's l2: 0.0189782\n",
      "[5250]\tvalid_0's l2: 0.0188989\n",
      "[5275]\tvalid_0's l2: 0.018819\n",
      "[5300]\tvalid_0's l2: 0.0187443\n",
      "[5325]\tvalid_0's l2: 0.0186671\n",
      "[5350]\tvalid_0's l2: 0.0185923\n",
      "[5375]\tvalid_0's l2: 0.0185126\n",
      "[5400]\tvalid_0's l2: 0.0184352\n",
      "[5425]\tvalid_0's l2: 0.0183606\n",
      "[5450]\tvalid_0's l2: 0.0182882\n",
      "[5475]\tvalid_0's l2: 0.0182126\n",
      "[5500]\tvalid_0's l2: 0.0181446\n",
      "[5525]\tvalid_0's l2: 0.018066\n",
      "[5550]\tvalid_0's l2: 0.0179931\n",
      "[5575]\tvalid_0's l2: 0.0179132\n",
      "[5600]\tvalid_0's l2: 0.017839\n",
      "[5625]\tvalid_0's l2: 0.0177681\n",
      "[5650]\tvalid_0's l2: 0.0176924\n",
      "[5675]\tvalid_0's l2: 0.0176157\n",
      "[5700]\tvalid_0's l2: 0.0175503\n",
      "[5725]\tvalid_0's l2: 0.0174741\n",
      "[5750]\tvalid_0's l2: 0.0174015\n",
      "[5775]\tvalid_0's l2: 0.0173251\n",
      "[5800]\tvalid_0's l2: 0.0172554\n",
      "[5825]\tvalid_0's l2: 0.0171823\n",
      "[5850]\tvalid_0's l2: 0.0171115\n",
      "[5875]\tvalid_0's l2: 0.0170386\n",
      "[5900]\tvalid_0's l2: 0.0169628\n",
      "[5925]\tvalid_0's l2: 0.0168939\n",
      "[5950]\tvalid_0's l2: 0.0168333\n",
      "[5975]\tvalid_0's l2: 0.0167631\n",
      "[6000]\tvalid_0's l2: 0.0167023\n",
      "[6025]\tvalid_0's l2: 0.0166348\n",
      "[6050]\tvalid_0's l2: 0.0165707\n",
      "[6075]\tvalid_0's l2: 0.0165033\n",
      "[6100]\tvalid_0's l2: 0.0164307\n",
      "[6125]\tvalid_0's l2: 0.0163645\n",
      "[6150]\tvalid_0's l2: 0.0163037\n",
      "[6175]\tvalid_0's l2: 0.0162359\n",
      "[6200]\tvalid_0's l2: 0.0161555\n",
      "[6225]\tvalid_0's l2: 0.0160908\n",
      "[6250]\tvalid_0's l2: 0.0160265\n",
      "[6275]\tvalid_0's l2: 0.0159611\n",
      "[6300]\tvalid_0's l2: 0.0159038\n",
      "[6325]\tvalid_0's l2: 0.0158401\n",
      "[6350]\tvalid_0's l2: 0.0157808\n",
      "[6375]\tvalid_0's l2: 0.0157136\n",
      "[6400]\tvalid_0's l2: 0.015656\n",
      "[6425]\tvalid_0's l2: 0.0155885\n",
      "[6450]\tvalid_0's l2: 0.0155292\n",
      "[6475]\tvalid_0's l2: 0.0154604\n",
      "[6500]\tvalid_0's l2: 0.0153975\n",
      "[6525]\tvalid_0's l2: 0.0153352\n",
      "[6550]\tvalid_0's l2: 0.0152683\n",
      "[6575]\tvalid_0's l2: 0.0152003\n",
      "[6600]\tvalid_0's l2: 0.0151376\n",
      "[6625]\tvalid_0's l2: 0.0150721\n",
      "[6650]\tvalid_0's l2: 0.0150145\n",
      "[6675]\tvalid_0's l2: 0.0149569\n",
      "[6700]\tvalid_0's l2: 0.0149013\n",
      "[6725]\tvalid_0's l2: 0.0148377\n",
      "[6750]\tvalid_0's l2: 0.014781\n",
      "[6775]\tvalid_0's l2: 0.0147225\n",
      "[6800]\tvalid_0's l2: 0.0146672\n",
      "[6825]\tvalid_0's l2: 0.0146091\n",
      "[6850]\tvalid_0's l2: 0.0145519\n",
      "[6875]\tvalid_0's l2: 0.0144871\n",
      "[6900]\tvalid_0's l2: 0.0144312\n",
      "[6925]\tvalid_0's l2: 0.0143733\n",
      "[6950]\tvalid_0's l2: 0.0143235\n",
      "[6975]\tvalid_0's l2: 0.0142583\n",
      "[7000]\tvalid_0's l2: 0.0142017\n",
      "[7025]\tvalid_0's l2: 0.014141\n",
      "[7050]\tvalid_0's l2: 0.0140877\n",
      "[7075]\tvalid_0's l2: 0.0140341\n",
      "[7100]\tvalid_0's l2: 0.0139872\n",
      "[7125]\tvalid_0's l2: 0.0139217\n",
      "[7150]\tvalid_0's l2: 0.0138666\n",
      "[7175]\tvalid_0's l2: 0.0138136\n",
      "[7200]\tvalid_0's l2: 0.0137599\n",
      "[7225]\tvalid_0's l2: 0.0136969\n",
      "[7250]\tvalid_0's l2: 0.0136462\n",
      "[7275]\tvalid_0's l2: 0.0135932\n",
      "[7300]\tvalid_0's l2: 0.0135463\n",
      "[7325]\tvalid_0's l2: 0.0134892\n",
      "[7350]\tvalid_0's l2: 0.0134354\n",
      "[7375]\tvalid_0's l2: 0.0133813\n",
      "[7400]\tvalid_0's l2: 0.0133326\n",
      "[7425]\tvalid_0's l2: 0.0132777\n",
      "[7450]\tvalid_0's l2: 0.0132254\n",
      "[7475]\tvalid_0's l2: 0.0131776\n",
      "[7500]\tvalid_0's l2: 0.0131267\n",
      "[7525]\tvalid_0's l2: 0.0130724\n",
      "[7550]\tvalid_0's l2: 0.0130207\n",
      "[7575]\tvalid_0's l2: 0.0129687\n",
      "[7600]\tvalid_0's l2: 0.0129214\n",
      "[7625]\tvalid_0's l2: 0.0128683\n",
      "[7650]\tvalid_0's l2: 0.0128255\n",
      "[7675]\tvalid_0's l2: 0.0127787\n",
      "[7700]\tvalid_0's l2: 0.0127348\n",
      "[7725]\tvalid_0's l2: 0.0126833\n",
      "[7750]\tvalid_0's l2: 0.0126362\n",
      "[7775]\tvalid_0's l2: 0.0125888\n",
      "[7800]\tvalid_0's l2: 0.0125456\n",
      "[7825]\tvalid_0's l2: 0.0124991\n",
      "[7850]\tvalid_0's l2: 0.0124514\n",
      "[7875]\tvalid_0's l2: 0.0123973\n",
      "[7900]\tvalid_0's l2: 0.0123532\n",
      "[7925]\tvalid_0's l2: 0.0123029\n",
      "[7950]\tvalid_0's l2: 0.0122558\n",
      "[7975]\tvalid_0's l2: 0.0122054\n",
      "[8000]\tvalid_0's l2: 0.0121652\n",
      "[8025]\tvalid_0's l2: 0.0121143\n",
      "[8050]\tvalid_0's l2: 0.012064\n",
      "[8075]\tvalid_0's l2: 0.0120143\n",
      "[8100]\tvalid_0's l2: 0.0119742\n",
      "[8125]\tvalid_0's l2: 0.011931\n",
      "[8150]\tvalid_0's l2: 0.0118827\n",
      "[8175]\tvalid_0's l2: 0.0118357\n",
      "[8200]\tvalid_0's l2: 0.011791\n",
      "[8225]\tvalid_0's l2: 0.0117445\n",
      "[8250]\tvalid_0's l2: 0.0117004\n",
      "[8275]\tvalid_0's l2: 0.0116582\n",
      "[8300]\tvalid_0's l2: 0.0116193\n",
      "[8325]\tvalid_0's l2: 0.0115703\n",
      "[8350]\tvalid_0's l2: 0.0115265\n",
      "[8375]\tvalid_0's l2: 0.0114839\n",
      "[8400]\tvalid_0's l2: 0.0114421\n",
      "[8425]\tvalid_0's l2: 0.0113997\n",
      "[8450]\tvalid_0's l2: 0.0113566\n",
      "[8475]\tvalid_0's l2: 0.0113111\n",
      "[8500]\tvalid_0's l2: 0.0112732\n",
      "[8525]\tvalid_0's l2: 0.0112318\n",
      "[8550]\tvalid_0's l2: 0.0111921\n",
      "[8575]\tvalid_0's l2: 0.0111514\n",
      "[8600]\tvalid_0's l2: 0.0111104\n",
      "[8625]\tvalid_0's l2: 0.0110653\n",
      "[8650]\tvalid_0's l2: 0.0110255\n",
      "[8675]\tvalid_0's l2: 0.0109844\n",
      "[8700]\tvalid_0's l2: 0.0109441\n",
      "[8725]\tvalid_0's l2: 0.0108995\n",
      "[8750]\tvalid_0's l2: 0.0108613\n",
      "[8775]\tvalid_0's l2: 0.0108193\n",
      "[8800]\tvalid_0's l2: 0.010778\n",
      "[8825]\tvalid_0's l2: 0.0107387\n",
      "[8850]\tvalid_0's l2: 0.0106995\n",
      "[8875]\tvalid_0's l2: 0.0106596\n",
      "[8900]\tvalid_0's l2: 0.0106272\n",
      "[8925]\tvalid_0's l2: 0.0105862\n",
      "[8950]\tvalid_0's l2: 0.0105484\n",
      "[8975]\tvalid_0's l2: 0.0105095\n",
      "[9000]\tvalid_0's l2: 0.0104713\n",
      "[9025]\tvalid_0's l2: 0.0104334\n",
      "[9050]\tvalid_0's l2: 0.010395\n",
      "[9075]\tvalid_0's l2: 0.0103551\n",
      "[9100]\tvalid_0's l2: 0.0103128\n",
      "[9125]\tvalid_0's l2: 0.0102779\n",
      "[9150]\tvalid_0's l2: 0.0102435\n",
      "[9175]\tvalid_0's l2: 0.0102051\n",
      "[9200]\tvalid_0's l2: 0.0101659\n",
      "[9225]\tvalid_0's l2: 0.0101229\n",
      "[9250]\tvalid_0's l2: 0.0100825\n",
      "[9275]\tvalid_0's l2: 0.0100435\n",
      "[9300]\tvalid_0's l2: 0.0100098\n",
      "[9325]\tvalid_0's l2: 0.0099751\n",
      "[9350]\tvalid_0's l2: 0.00993998\n",
      "[9375]\tvalid_0's l2: 0.00990428\n",
      "[9400]\tvalid_0's l2: 0.00986789\n",
      "[9425]\tvalid_0's l2: 0.00983118\n",
      "[9450]\tvalid_0's l2: 0.0097976\n",
      "[9475]\tvalid_0's l2: 0.00975839\n",
      "[9500]\tvalid_0's l2: 0.00972727\n",
      "[9525]\tvalid_0's l2: 0.00968734\n",
      "[9550]\tvalid_0's l2: 0.0096535\n",
      "[9575]\tvalid_0's l2: 0.00962125\n",
      "[9600]\tvalid_0's l2: 0.00958809\n",
      "[9625]\tvalid_0's l2: 0.00955614\n",
      "[9650]\tvalid_0's l2: 0.00952112\n",
      "[9675]\tvalid_0's l2: 0.00948484\n",
      "[9700]\tvalid_0's l2: 0.00944959\n",
      "[9725]\tvalid_0's l2: 0.00941729\n",
      "[9750]\tvalid_0's l2: 0.009384\n",
      "[9775]\tvalid_0's l2: 0.00934607\n",
      "[9800]\tvalid_0's l2: 0.00931437\n",
      "[9825]\tvalid_0's l2: 0.009279\n",
      "[9850]\tvalid_0's l2: 0.00924498\n",
      "[9875]\tvalid_0's l2: 0.00921018\n",
      "[9900]\tvalid_0's l2: 0.00918173\n",
      "[9925]\tvalid_0's l2: 0.00914693\n",
      "[9950]\tvalid_0's l2: 0.00911604\n",
      "[9975]\tvalid_0's l2: 0.0090803\n",
      "[10000]\tvalid_0's l2: 0.00904831\n",
      "Did not meet early stopping. Best iteration is:\n",
      "[10000]\tvalid_0's l2: 0.00904831\n",
      "[LightGBM] [Warning] Categorical features with more bins than the configured maximum bin number found.\n",
      "[LightGBM] [Warning] For categorical features, max_bin and max_bin_by_feature may be ignored with a large number of categories.\n",
      "[LightGBM] [Info] Auto-choosing col-wise multi-threading, the overhead of testing was 0.004103 seconds.\n",
      "You can set `force_col_wise=true` to remove the overhead.\n",
      "[LightGBM] [Info] Total Bins 12395\n",
      "[LightGBM] [Info] Number of data points in the train set: 46039, number of used features: 71\n",
      "[LightGBM] [Info] Start training from score 3.606957\n",
      "Training until validation scores don't improve for 125 rounds\n",
      "[25]\tvalid_0's l2: 0.282458\n",
      "[50]\tvalid_0's l2: 0.18783\n",
      "[75]\tvalid_0's l2: 0.154209\n",
      "[100]\tvalid_0's l2: 0.143164\n",
      "[125]\tvalid_0's l2: 0.139458\n",
      "[150]\tvalid_0's l2: 0.139261\n",
      "[175]\tvalid_0's l2: 0.139641\n",
      "[200]\tvalid_0's l2: 0.140572\n",
      "[225]\tvalid_0's l2: 0.140846\n",
      "[250]\tvalid_0's l2: 0.1419\n",
      "[275]\tvalid_0's l2: 0.142173\n",
      "Early stopping, best iteration is:\n",
      "[154]\tvalid_0's l2: 0.139227\n",
      "[LightGBM] [Warning] Categorical features with more bins than the configured maximum bin number found.\n",
      "[LightGBM] [Warning] For categorical features, max_bin and max_bin_by_feature may be ignored with a large number of categories.\n",
      "[LightGBM] [Info] Auto-choosing col-wise multi-threading, the overhead of testing was 0.004218 seconds.\n",
      "You can set `force_col_wise=true` to remove the overhead.\n",
      "[LightGBM] [Info] Total Bins 12395\n",
      "[LightGBM] [Info] Number of data points in the train set: 46039, number of used features: 71\n",
      "[LightGBM] [Info] Start training from score 3.606650\n",
      "Training until validation scores don't improve for 125 rounds\n",
      "[25]\tvalid_0's l2: 0.315121\n",
      "[50]\tvalid_0's l2: 0.240737\n",
      "[75]\tvalid_0's l2: 0.218796\n",
      "[100]\tvalid_0's l2: 0.214875\n",
      "[125]\tvalid_0's l2: 0.216161\n",
      "[150]\tvalid_0's l2: 0.219914\n",
      "[175]\tvalid_0's l2: 0.22307\n",
      "[200]\tvalid_0's l2: 0.224972\n",
      "[225]\tvalid_0's l2: 0.227235\n",
      "Early stopping, best iteration is:\n",
      "[103]\tvalid_0's l2: 0.214828\n",
      "[LightGBM] [Warning] Categorical features with more bins than the configured maximum bin number found.\n",
      "[LightGBM] [Warning] For categorical features, max_bin and max_bin_by_feature may be ignored with a large number of categories.\n",
      "[LightGBM] [Info] Auto-choosing col-wise multi-threading, the overhead of testing was 0.004151 seconds.\n",
      "You can set `force_col_wise=true` to remove the overhead.\n",
      "[LightGBM] [Info] Total Bins 12395\n",
      "[LightGBM] [Info] Number of data points in the train set: 46039, number of used features: 71\n",
      "[LightGBM] [Info] Start training from score 3.606678\n",
      "Training until validation scores don't improve for 125 rounds\n",
      "[25]\tvalid_0's l2: 0.320515\n",
      "[50]\tvalid_0's l2: 0.252868\n",
      "[75]\tvalid_0's l2: 0.234939\n",
      "[100]\tvalid_0's l2: 0.234191\n",
      "[125]\tvalid_0's l2: 0.238688\n",
      "[150]\tvalid_0's l2: 0.243244\n",
      "[175]\tvalid_0's l2: 0.24726\n",
      "[200]\tvalid_0's l2: 0.250811\n",
      "Early stopping, best iteration is:\n",
      "[90]\tvalid_0's l2: 0.23359\n",
      "[LightGBM] [Warning] Categorical features with more bins than the configured maximum bin number found.\n",
      "[LightGBM] [Warning] For categorical features, max_bin and max_bin_by_feature may be ignored with a large number of categories.\n",
      "[LightGBM] [Info] Auto-choosing col-wise multi-threading, the overhead of testing was 0.004204 seconds.\n",
      "You can set `force_col_wise=true` to remove the overhead.\n",
      "[LightGBM] [Info] Total Bins 12395\n",
      "[LightGBM] [Info] Number of data points in the train set: 46039, number of used features: 71\n",
      "[LightGBM] [Info] Start training from score 3.606314\n",
      "Training until validation scores don't improve for 125 rounds\n",
      "[25]\tvalid_0's l2: 0.318101\n",
      "[50]\tvalid_0's l2: 0.248242\n",
      "[75]\tvalid_0's l2: 0.230798\n",
      "[100]\tvalid_0's l2: 0.231642\n",
      "[125]\tvalid_0's l2: 0.236067\n",
      "[150]\tvalid_0's l2: 0.24246\n",
      "[175]\tvalid_0's l2: 0.247233\n",
      "[200]\tvalid_0's l2: 0.252509\n",
      "Early stopping, best iteration is:\n",
      "[83]\tvalid_0's l2: 0.230095\n",
      "[LightGBM] [Warning] Categorical features with more bins than the configured maximum bin number found.\n",
      "[LightGBM] [Warning] For categorical features, max_bin and max_bin_by_feature may be ignored with a large number of categories.\n",
      "[LightGBM] [Info] Auto-choosing col-wise multi-threading, the overhead of testing was 0.004654 seconds.\n",
      "You can set `force_col_wise=true` to remove the overhead.\n",
      "[LightGBM] [Info] Total Bins 12395\n",
      "[LightGBM] [Info] Number of data points in the train set: 46039, number of used features: 71\n",
      "[LightGBM] [Info] Start training from score 3.608008\n",
      "Training until validation scores don't improve for 125 rounds\n",
      "[25]\tvalid_0's l2: 0.308921\n",
      "[50]\tvalid_0's l2: 0.23218\n",
      "[75]\tvalid_0's l2: 0.212441\n",
      "[100]\tvalid_0's l2: 0.211884\n",
      "[125]\tvalid_0's l2: 0.216489\n",
      "[150]\tvalid_0's l2: 0.221695\n",
      "[175]\tvalid_0's l2: 0.225917\n",
      "[200]\tvalid_0's l2: 0.22988\n",
      "Early stopping, best iteration is:\n",
      "[88]\tvalid_0's l2: 0.211069\n",
      "[LightGBM] [Warning] Categorical features with more bins than the configured maximum bin number found.\n",
      "[LightGBM] [Warning] For categorical features, max_bin and max_bin_by_feature may be ignored with a large number of categories.\n",
      "[LightGBM] [Info] Auto-choosing col-wise multi-threading, the overhead of testing was 0.004231 seconds.\n",
      "You can set `force_col_wise=true` to remove the overhead.\n",
      "[LightGBM] [Info] Total Bins 12395\n",
      "[LightGBM] [Info] Number of data points in the train set: 46039, number of used features: 71\n",
      "[LightGBM] [Info] Start training from score 3.607436\n",
      "Training until validation scores don't improve for 125 rounds\n",
      "[25]\tvalid_0's l2: 0.281757\n",
      "[50]\tvalid_0's l2: 0.187348\n",
      "[75]\tvalid_0's l2: 0.155433\n",
      "[100]\tvalid_0's l2: 0.146828\n",
      "[125]\tvalid_0's l2: 0.14611\n",
      "[150]\tvalid_0's l2: 0.147889\n",
      "[175]\tvalid_0's l2: 0.149939\n",
      "[200]\tvalid_0's l2: 0.152506\n",
      "[225]\tvalid_0's l2: 0.154089\n",
      "Early stopping, best iteration is:\n",
      "[114]\tvalid_0's l2: 0.145953\n"
     ]
    },
    {
     "data": {
      "text/html": [
       "<style>#sk-container-id-2 {\n",
       "  /* Definition of color scheme common for light and dark mode */\n",
       "  --sklearn-color-text: #000;\n",
       "  --sklearn-color-text-muted: #666;\n",
       "  --sklearn-color-line: gray;\n",
       "  /* Definition of color scheme for unfitted estimators */\n",
       "  --sklearn-color-unfitted-level-0: #fff5e6;\n",
       "  --sklearn-color-unfitted-level-1: #f6e4d2;\n",
       "  --sklearn-color-unfitted-level-2: #ffe0b3;\n",
       "  --sklearn-color-unfitted-level-3: chocolate;\n",
       "  /* Definition of color scheme for fitted estimators */\n",
       "  --sklearn-color-fitted-level-0: #f0f8ff;\n",
       "  --sklearn-color-fitted-level-1: #d4ebff;\n",
       "  --sklearn-color-fitted-level-2: #b3dbfd;\n",
       "  --sklearn-color-fitted-level-3: cornflowerblue;\n",
       "\n",
       "  /* Specific color for light theme */\n",
       "  --sklearn-color-text-on-default-background: var(--sg-text-color, var(--theme-code-foreground, var(--jp-content-font-color1, black)));\n",
       "  --sklearn-color-background: var(--sg-background-color, var(--theme-background, var(--jp-layout-color0, white)));\n",
       "  --sklearn-color-border-box: var(--sg-text-color, var(--theme-code-foreground, var(--jp-content-font-color1, black)));\n",
       "  --sklearn-color-icon: #696969;\n",
       "\n",
       "  @media (prefers-color-scheme: dark) {\n",
       "    /* Redefinition of color scheme for dark theme */\n",
       "    --sklearn-color-text-on-default-background: var(--sg-text-color, var(--theme-code-foreground, var(--jp-content-font-color1, white)));\n",
       "    --sklearn-color-background: var(--sg-background-color, var(--theme-background, var(--jp-layout-color0, #111)));\n",
       "    --sklearn-color-border-box: var(--sg-text-color, var(--theme-code-foreground, var(--jp-content-font-color1, white)));\n",
       "    --sklearn-color-icon: #878787;\n",
       "  }\n",
       "}\n",
       "\n",
       "#sk-container-id-2 {\n",
       "  color: var(--sklearn-color-text);\n",
       "}\n",
       "\n",
       "#sk-container-id-2 pre {\n",
       "  padding: 0;\n",
       "}\n",
       "\n",
       "#sk-container-id-2 input.sk-hidden--visually {\n",
       "  border: 0;\n",
       "  clip: rect(1px 1px 1px 1px);\n",
       "  clip: rect(1px, 1px, 1px, 1px);\n",
       "  height: 1px;\n",
       "  margin: -1px;\n",
       "  overflow: hidden;\n",
       "  padding: 0;\n",
       "  position: absolute;\n",
       "  width: 1px;\n",
       "}\n",
       "\n",
       "#sk-container-id-2 div.sk-dashed-wrapped {\n",
       "  border: 1px dashed var(--sklearn-color-line);\n",
       "  margin: 0 0.4em 0.5em 0.4em;\n",
       "  box-sizing: border-box;\n",
       "  padding-bottom: 0.4em;\n",
       "  background-color: var(--sklearn-color-background);\n",
       "}\n",
       "\n",
       "#sk-container-id-2 div.sk-container {\n",
       "  /* jupyter's `normalize.less` sets `[hidden] { display: none; }`\n",
       "     but bootstrap.min.css set `[hidden] { display: none !important; }`\n",
       "     so we also need the `!important` here to be able to override the\n",
       "     default hidden behavior on the sphinx rendered scikit-learn.org.\n",
       "     See: https://github.com/scikit-learn/scikit-learn/issues/21755 */\n",
       "  display: inline-block !important;\n",
       "  position: relative;\n",
       "}\n",
       "\n",
       "#sk-container-id-2 div.sk-text-repr-fallback {\n",
       "  display: none;\n",
       "}\n",
       "\n",
       "div.sk-parallel-item,\n",
       "div.sk-serial,\n",
       "div.sk-item {\n",
       "  /* draw centered vertical line to link estimators */\n",
       "  background-image: linear-gradient(var(--sklearn-color-text-on-default-background), var(--sklearn-color-text-on-default-background));\n",
       "  background-size: 2px 100%;\n",
       "  background-repeat: no-repeat;\n",
       "  background-position: center center;\n",
       "}\n",
       "\n",
       "/* Parallel-specific style estimator block */\n",
       "\n",
       "#sk-container-id-2 div.sk-parallel-item::after {\n",
       "  content: \"\";\n",
       "  width: 100%;\n",
       "  border-bottom: 2px solid var(--sklearn-color-text-on-default-background);\n",
       "  flex-grow: 1;\n",
       "}\n",
       "\n",
       "#sk-container-id-2 div.sk-parallel {\n",
       "  display: flex;\n",
       "  align-items: stretch;\n",
       "  justify-content: center;\n",
       "  background-color: var(--sklearn-color-background);\n",
       "  position: relative;\n",
       "}\n",
       "\n",
       "#sk-container-id-2 div.sk-parallel-item {\n",
       "  display: flex;\n",
       "  flex-direction: column;\n",
       "}\n",
       "\n",
       "#sk-container-id-2 div.sk-parallel-item:first-child::after {\n",
       "  align-self: flex-end;\n",
       "  width: 50%;\n",
       "}\n",
       "\n",
       "#sk-container-id-2 div.sk-parallel-item:last-child::after {\n",
       "  align-self: flex-start;\n",
       "  width: 50%;\n",
       "}\n",
       "\n",
       "#sk-container-id-2 div.sk-parallel-item:only-child::after {\n",
       "  width: 0;\n",
       "}\n",
       "\n",
       "/* Serial-specific style estimator block */\n",
       "\n",
       "#sk-container-id-2 div.sk-serial {\n",
       "  display: flex;\n",
       "  flex-direction: column;\n",
       "  align-items: center;\n",
       "  background-color: var(--sklearn-color-background);\n",
       "  padding-right: 1em;\n",
       "  padding-left: 1em;\n",
       "}\n",
       "\n",
       "\n",
       "/* Toggleable style: style used for estimator/Pipeline/ColumnTransformer box that is\n",
       "clickable and can be expanded/collapsed.\n",
       "- Pipeline and ColumnTransformer use this feature and define the default style\n",
       "- Estimators will overwrite some part of the style using the `sk-estimator` class\n",
       "*/\n",
       "\n",
       "/* Pipeline and ColumnTransformer style (default) */\n",
       "\n",
       "#sk-container-id-2 div.sk-toggleable {\n",
       "  /* Default theme specific background. It is overwritten whether we have a\n",
       "  specific estimator or a Pipeline/ColumnTransformer */\n",
       "  background-color: var(--sklearn-color-background);\n",
       "}\n",
       "\n",
       "/* Toggleable label */\n",
       "#sk-container-id-2 label.sk-toggleable__label {\n",
       "  cursor: pointer;\n",
       "  display: flex;\n",
       "  width: 100%;\n",
       "  margin-bottom: 0;\n",
       "  padding: 0.5em;\n",
       "  box-sizing: border-box;\n",
       "  text-align: center;\n",
       "  align-items: start;\n",
       "  justify-content: space-between;\n",
       "  gap: 0.5em;\n",
       "}\n",
       "\n",
       "#sk-container-id-2 label.sk-toggleable__label .caption {\n",
       "  font-size: 0.6rem;\n",
       "  font-weight: lighter;\n",
       "  color: var(--sklearn-color-text-muted);\n",
       "}\n",
       "\n",
       "#sk-container-id-2 label.sk-toggleable__label-arrow:before {\n",
       "  /* Arrow on the left of the label */\n",
       "  content: \"▸\";\n",
       "  float: left;\n",
       "  margin-right: 0.25em;\n",
       "  color: var(--sklearn-color-icon);\n",
       "}\n",
       "\n",
       "#sk-container-id-2 label.sk-toggleable__label-arrow:hover:before {\n",
       "  color: var(--sklearn-color-text);\n",
       "}\n",
       "\n",
       "/* Toggleable content - dropdown */\n",
       "\n",
       "#sk-container-id-2 div.sk-toggleable__content {\n",
       "  display: none;\n",
       "  text-align: left;\n",
       "  /* unfitted */\n",
       "  background-color: var(--sklearn-color-unfitted-level-0);\n",
       "}\n",
       "\n",
       "#sk-container-id-2 div.sk-toggleable__content.fitted {\n",
       "  /* fitted */\n",
       "  background-color: var(--sklearn-color-fitted-level-0);\n",
       "}\n",
       "\n",
       "#sk-container-id-2 div.sk-toggleable__content pre {\n",
       "  margin: 0.2em;\n",
       "  border-radius: 0.25em;\n",
       "  color: var(--sklearn-color-text);\n",
       "  /* unfitted */\n",
       "  background-color: var(--sklearn-color-unfitted-level-0);\n",
       "}\n",
       "\n",
       "#sk-container-id-2 div.sk-toggleable__content.fitted pre {\n",
       "  /* unfitted */\n",
       "  background-color: var(--sklearn-color-fitted-level-0);\n",
       "}\n",
       "\n",
       "#sk-container-id-2 input.sk-toggleable__control:checked~div.sk-toggleable__content {\n",
       "  /* Expand drop-down */\n",
       "  display: block;\n",
       "  width: 100%;\n",
       "  overflow: visible;\n",
       "}\n",
       "\n",
       "#sk-container-id-2 input.sk-toggleable__control:checked~label.sk-toggleable__label-arrow:before {\n",
       "  content: \"▾\";\n",
       "}\n",
       "\n",
       "/* Pipeline/ColumnTransformer-specific style */\n",
       "\n",
       "#sk-container-id-2 div.sk-label input.sk-toggleable__control:checked~label.sk-toggleable__label {\n",
       "  color: var(--sklearn-color-text);\n",
       "  background-color: var(--sklearn-color-unfitted-level-2);\n",
       "}\n",
       "\n",
       "#sk-container-id-2 div.sk-label.fitted input.sk-toggleable__control:checked~label.sk-toggleable__label {\n",
       "  background-color: var(--sklearn-color-fitted-level-2);\n",
       "}\n",
       "\n",
       "/* Estimator-specific style */\n",
       "\n",
       "/* Colorize estimator box */\n",
       "#sk-container-id-2 div.sk-estimator input.sk-toggleable__control:checked~label.sk-toggleable__label {\n",
       "  /* unfitted */\n",
       "  background-color: var(--sklearn-color-unfitted-level-2);\n",
       "}\n",
       "\n",
       "#sk-container-id-2 div.sk-estimator.fitted input.sk-toggleable__control:checked~label.sk-toggleable__label {\n",
       "  /* fitted */\n",
       "  background-color: var(--sklearn-color-fitted-level-2);\n",
       "}\n",
       "\n",
       "#sk-container-id-2 div.sk-label label.sk-toggleable__label,\n",
       "#sk-container-id-2 div.sk-label label {\n",
       "  /* The background is the default theme color */\n",
       "  color: var(--sklearn-color-text-on-default-background);\n",
       "}\n",
       "\n",
       "/* On hover, darken the color of the background */\n",
       "#sk-container-id-2 div.sk-label:hover label.sk-toggleable__label {\n",
       "  color: var(--sklearn-color-text);\n",
       "  background-color: var(--sklearn-color-unfitted-level-2);\n",
       "}\n",
       "\n",
       "/* Label box, darken color on hover, fitted */\n",
       "#sk-container-id-2 div.sk-label.fitted:hover label.sk-toggleable__label.fitted {\n",
       "  color: var(--sklearn-color-text);\n",
       "  background-color: var(--sklearn-color-fitted-level-2);\n",
       "}\n",
       "\n",
       "/* Estimator label */\n",
       "\n",
       "#sk-container-id-2 div.sk-label label {\n",
       "  font-family: monospace;\n",
       "  font-weight: bold;\n",
       "  display: inline-block;\n",
       "  line-height: 1.2em;\n",
       "}\n",
       "\n",
       "#sk-container-id-2 div.sk-label-container {\n",
       "  text-align: center;\n",
       "}\n",
       "\n",
       "/* Estimator-specific */\n",
       "#sk-container-id-2 div.sk-estimator {\n",
       "  font-family: monospace;\n",
       "  border: 1px dotted var(--sklearn-color-border-box);\n",
       "  border-radius: 0.25em;\n",
       "  box-sizing: border-box;\n",
       "  margin-bottom: 0.5em;\n",
       "  /* unfitted */\n",
       "  background-color: var(--sklearn-color-unfitted-level-0);\n",
       "}\n",
       "\n",
       "#sk-container-id-2 div.sk-estimator.fitted {\n",
       "  /* fitted */\n",
       "  background-color: var(--sklearn-color-fitted-level-0);\n",
       "}\n",
       "\n",
       "/* on hover */\n",
       "#sk-container-id-2 div.sk-estimator:hover {\n",
       "  /* unfitted */\n",
       "  background-color: var(--sklearn-color-unfitted-level-2);\n",
       "}\n",
       "\n",
       "#sk-container-id-2 div.sk-estimator.fitted:hover {\n",
       "  /* fitted */\n",
       "  background-color: var(--sklearn-color-fitted-level-2);\n",
       "}\n",
       "\n",
       "/* Specification for estimator info (e.g. \"i\" and \"?\") */\n",
       "\n",
       "/* Common style for \"i\" and \"?\" */\n",
       "\n",
       ".sk-estimator-doc-link,\n",
       "a:link.sk-estimator-doc-link,\n",
       "a:visited.sk-estimator-doc-link {\n",
       "  float: right;\n",
       "  font-size: smaller;\n",
       "  line-height: 1em;\n",
       "  font-family: monospace;\n",
       "  background-color: var(--sklearn-color-background);\n",
       "  border-radius: 1em;\n",
       "  height: 1em;\n",
       "  width: 1em;\n",
       "  text-decoration: none !important;\n",
       "  margin-left: 0.5em;\n",
       "  text-align: center;\n",
       "  /* unfitted */\n",
       "  border: var(--sklearn-color-unfitted-level-1) 1pt solid;\n",
       "  color: var(--sklearn-color-unfitted-level-1);\n",
       "}\n",
       "\n",
       ".sk-estimator-doc-link.fitted,\n",
       "a:link.sk-estimator-doc-link.fitted,\n",
       "a:visited.sk-estimator-doc-link.fitted {\n",
       "  /* fitted */\n",
       "  border: var(--sklearn-color-fitted-level-1) 1pt solid;\n",
       "  color: var(--sklearn-color-fitted-level-1);\n",
       "}\n",
       "\n",
       "/* On hover */\n",
       "div.sk-estimator:hover .sk-estimator-doc-link:hover,\n",
       ".sk-estimator-doc-link:hover,\n",
       "div.sk-label-container:hover .sk-estimator-doc-link:hover,\n",
       ".sk-estimator-doc-link:hover {\n",
       "  /* unfitted */\n",
       "  background-color: var(--sklearn-color-unfitted-level-3);\n",
       "  color: var(--sklearn-color-background);\n",
       "  text-decoration: none;\n",
       "}\n",
       "\n",
       "div.sk-estimator.fitted:hover .sk-estimator-doc-link.fitted:hover,\n",
       ".sk-estimator-doc-link.fitted:hover,\n",
       "div.sk-label-container:hover .sk-estimator-doc-link.fitted:hover,\n",
       ".sk-estimator-doc-link.fitted:hover {\n",
       "  /* fitted */\n",
       "  background-color: var(--sklearn-color-fitted-level-3);\n",
       "  color: var(--sklearn-color-background);\n",
       "  text-decoration: none;\n",
       "}\n",
       "\n",
       "/* Span, style for the box shown on hovering the info icon */\n",
       ".sk-estimator-doc-link span {\n",
       "  display: none;\n",
       "  z-index: 9999;\n",
       "  position: relative;\n",
       "  font-weight: normal;\n",
       "  right: .2ex;\n",
       "  padding: .5ex;\n",
       "  margin: .5ex;\n",
       "  width: min-content;\n",
       "  min-width: 20ex;\n",
       "  max-width: 50ex;\n",
       "  color: var(--sklearn-color-text);\n",
       "  box-shadow: 2pt 2pt 4pt #999;\n",
       "  /* unfitted */\n",
       "  background: var(--sklearn-color-unfitted-level-0);\n",
       "  border: .5pt solid var(--sklearn-color-unfitted-level-3);\n",
       "}\n",
       "\n",
       ".sk-estimator-doc-link.fitted span {\n",
       "  /* fitted */\n",
       "  background: var(--sklearn-color-fitted-level-0);\n",
       "  border: var(--sklearn-color-fitted-level-3);\n",
       "}\n",
       "\n",
       ".sk-estimator-doc-link:hover span {\n",
       "  display: block;\n",
       "}\n",
       "\n",
       "/* \"?\"-specific style due to the `<a>` HTML tag */\n",
       "\n",
       "#sk-container-id-2 a.estimator_doc_link {\n",
       "  float: right;\n",
       "  font-size: 1rem;\n",
       "  line-height: 1em;\n",
       "  font-family: monospace;\n",
       "  background-color: var(--sklearn-color-background);\n",
       "  border-radius: 1rem;\n",
       "  height: 1rem;\n",
       "  width: 1rem;\n",
       "  text-decoration: none;\n",
       "  /* unfitted */\n",
       "  color: var(--sklearn-color-unfitted-level-1);\n",
       "  border: var(--sklearn-color-unfitted-level-1) 1pt solid;\n",
       "}\n",
       "\n",
       "#sk-container-id-2 a.estimator_doc_link.fitted {\n",
       "  /* fitted */\n",
       "  border: var(--sklearn-color-fitted-level-1) 1pt solid;\n",
       "  color: var(--sklearn-color-fitted-level-1);\n",
       "}\n",
       "\n",
       "/* On hover */\n",
       "#sk-container-id-2 a.estimator_doc_link:hover {\n",
       "  /* unfitted */\n",
       "  background-color: var(--sklearn-color-unfitted-level-3);\n",
       "  color: var(--sklearn-color-background);\n",
       "  text-decoration: none;\n",
       "}\n",
       "\n",
       "#sk-container-id-2 a.estimator_doc_link.fitted:hover {\n",
       "  /* fitted */\n",
       "  background-color: var(--sklearn-color-fitted-level-3);\n",
       "}\n",
       "\n",
       ".estimator-table summary {\n",
       "    padding: .5rem;\n",
       "    font-family: monospace;\n",
       "    cursor: pointer;\n",
       "}\n",
       "\n",
       ".estimator-table details[open] {\n",
       "    padding-left: 0.1rem;\n",
       "    padding-right: 0.1rem;\n",
       "    padding-bottom: 0.3rem;\n",
       "}\n",
       "\n",
       ".estimator-table .parameters-table {\n",
       "    margin-left: auto !important;\n",
       "    margin-right: auto !important;\n",
       "}\n",
       "\n",
       ".estimator-table .parameters-table tr:nth-child(odd) {\n",
       "    background-color: #fff;\n",
       "}\n",
       "\n",
       ".estimator-table .parameters-table tr:nth-child(even) {\n",
       "    background-color: #f6f6f6;\n",
       "}\n",
       "\n",
       ".estimator-table .parameters-table tr:hover {\n",
       "    background-color: #e0e0e0;\n",
       "}\n",
       "\n",
       ".estimator-table table td {\n",
       "    border: 1px solid rgba(106, 105, 104, 0.232);\n",
       "}\n",
       "\n",
       ".user-set td {\n",
       "    color:rgb(255, 94, 0);\n",
       "    text-align: left;\n",
       "}\n",
       "\n",
       ".user-set td.value pre {\n",
       "    color:rgb(255, 94, 0) !important;\n",
       "    background-color: transparent !important;\n",
       "}\n",
       "\n",
       ".default td {\n",
       "    color: black;\n",
       "    text-align: left;\n",
       "}\n",
       "\n",
       ".user-set td i,\n",
       ".default td i {\n",
       "    color: black;\n",
       "}\n",
       "\n",
       ".copy-paste-icon {\n",
       "    background-image: url(data:image/svg+xml;base64,PHN2ZyB4bWxucz0iaHR0cDovL3d3dy53My5vcmcvMjAwMC9zdmciIHZpZXdCb3g9IjAgMCA0NDggNTEyIj48IS0tIUZvbnQgQXdlc29tZSBGcmVlIDYuNy4yIGJ5IEBmb250YXdlc29tZSAtIGh0dHBzOi8vZm9udGF3ZXNvbWUuY29tIExpY2Vuc2UgLSBodHRwczovL2ZvbnRhd2Vzb21lLmNvbS9saWNlbnNlL2ZyZWUgQ29weXJpZ2h0IDIwMjUgRm9udGljb25zLCBJbmMuLS0+PHBhdGggZD0iTTIwOCAwTDMzMi4xIDBjMTIuNyAwIDI0LjkgNS4xIDMzLjkgMTQuMWw2Ny45IDY3LjljOSA5IDE0LjEgMjEuMiAxNC4xIDMzLjlMNDQ4IDMzNmMwIDI2LjUtMjEuNSA0OC00OCA0OGwtMTkyIDBjLTI2LjUgMC00OC0yMS41LTQ4LTQ4bDAtMjg4YzAtMjYuNSAyMS41LTQ4IDQ4LTQ4ek00OCAxMjhsODAgMCAwIDY0LTY0IDAgMCAyNTYgMTkyIDAgMC0zMiA2NCAwIDAgNDhjMCAyNi41LTIxLjUgNDgtNDggNDhMNDggNTEyYy0yNi41IDAtNDgtMjEuNS00OC00OEwwIDE3NmMwLTI2LjUgMjEuNS00OCA0OC00OHoiLz48L3N2Zz4=);\n",
       "    background-repeat: no-repeat;\n",
       "    background-size: 14px 14px;\n",
       "    background-position: 0;\n",
       "    display: inline-block;\n",
       "    width: 14px;\n",
       "    height: 14px;\n",
       "    cursor: pointer;\n",
       "}\n",
       "</style><body><div id=\"sk-container-id-2\" class=\"sk-top-container\"><div class=\"sk-text-repr-fallback\"><pre>DirectMultihorizonForecaster(horizons=7,\n",
       "                             params={&#x27;learning_rate&#x27;: 0.02,\n",
       "                                     &#x27;min_child_samples&#x27;: 10,\n",
       "                                     &#x27;min_split_gain&#x27;: 0.01,\n",
       "                                     &#x27;n_estimators&#x27;: 10000, &#x27;n_jobs&#x27;: 16,\n",
       "                                     &#x27;num_leaves&#x27;: 31,\n",
       "                                     &#x27;objective&#x27;: &#x27;regression&#x27;,\n",
       "                                     &#x27;subsample&#x27;: 0.4, &#x27;subsample_freq&#x27;: 10})</pre><b>In a Jupyter environment, please rerun this cell to show the HTML representation or trust the notebook. <br />On GitHub, the HTML representation is unable to render, please try loading this page with nbviewer.org.</b></div><div class=\"sk-container\" hidden><div class=\"sk-item\"><div class=\"sk-estimator fitted sk-toggleable\"><input class=\"sk-toggleable__control sk-hidden--visually\" id=\"sk-estimator-id-2\" type=\"checkbox\" checked><label for=\"sk-estimator-id-2\" class=\"sk-toggleable__label fitted sk-toggleable__label-arrow\"><div><div>DirectMultihorizonForecaster</div></div><div><span class=\"sk-estimator-doc-link fitted\">i<span>Fitted</span></span></div></label><div class=\"sk-toggleable__content fitted\" data-param-prefix=\"\">\n",
       "        <div class=\"estimator-table\">\n",
       "            <details>\n",
       "                <summary>Parameters</summary>\n",
       "                <table class=\"parameters-table\">\n",
       "                  <tbody>\n",
       "                    \n",
       "        <tr class=\"user-set\">\n",
       "            <td><i class=\"copy-paste-icon\"\n",
       "                 onclick=\"copyToClipboard('horizons',\n",
       "                          this.parentElement.nextElementSibling)\"\n",
       "            ></i></td>\n",
       "            <td class=\"param\">horizons&nbsp;</td>\n",
       "            <td class=\"value\">7</td>\n",
       "        </tr>\n",
       "    \n",
       "\n",
       "        <tr class=\"user-set\">\n",
       "            <td><i class=\"copy-paste-icon\"\n",
       "                 onclick=\"copyToClipboard('params',\n",
       "                          this.parentElement.nextElementSibling)\"\n",
       "            ></i></td>\n",
       "            <td class=\"param\">params&nbsp;</td>\n",
       "            <td class=\"value\">{&#x27;learning_rate&#x27;: 0.02, &#x27;min_child_samples&#x27;: 10, &#x27;min_split_gain&#x27;: 0.01, &#x27;n_estimators&#x27;: 10000, ...}</td>\n",
       "        </tr>\n",
       "    \n",
       "                  </tbody>\n",
       "                </table>\n",
       "            </details>\n",
       "        </div>\n",
       "    </div></div></div></div></div><script>function copyToClipboard(text, element) {\n",
       "    // Get the parameter prefix from the closest toggleable content\n",
       "    const toggleableContent = element.closest('.sk-toggleable__content');\n",
       "    const paramPrefix = toggleableContent ? toggleableContent.dataset.paramPrefix : '';\n",
       "    const fullParamName = paramPrefix ? `${paramPrefix}${text}` : text;\n",
       "\n",
       "    const originalStyle = element.style;\n",
       "    const computedStyle = window.getComputedStyle(element);\n",
       "    const originalWidth = computedStyle.width;\n",
       "    const originalHTML = element.innerHTML.replace('Copied!', '');\n",
       "\n",
       "    navigator.clipboard.writeText(fullParamName)\n",
       "        .then(() => {\n",
       "            element.style.width = originalWidth;\n",
       "            element.style.color = 'green';\n",
       "            element.innerHTML = \"Copied!\";\n",
       "\n",
       "            setTimeout(() => {\n",
       "                element.innerHTML = originalHTML;\n",
       "                element.style = originalStyle;\n",
       "            }, 2000);\n",
       "        })\n",
       "        .catch(err => {\n",
       "            console.error('Failed to copy:', err);\n",
       "            element.style.color = 'red';\n",
       "            element.innerHTML = \"Failed!\";\n",
       "            setTimeout(() => {\n",
       "                element.innerHTML = originalHTML;\n",
       "                element.style = originalStyle;\n",
       "            }, 2000);\n",
       "        });\n",
       "    return false;\n",
       "}\n",
       "\n",
       "document.querySelectorAll('.fa-regular.fa-copy').forEach(function(element) {\n",
       "    const toggleableContent = element.closest('.sk-toggleable__content');\n",
       "    const paramPrefix = toggleableContent ? toggleableContent.dataset.paramPrefix : '';\n",
       "    const paramName = element.parentElement.nextElementSibling.textContent.trim();\n",
       "    const fullParamName = paramPrefix ? `${paramPrefix}${paramName}` : paramName;\n",
       "\n",
       "    element.setAttribute('title', fullParamName);\n",
       "});\n",
       "</script></body>"
      ],
      "text/plain": [
       "DirectMultihorizonForecaster(horizons=7,\n",
       "                             params={'learning_rate': 0.02,\n",
       "                                     'min_child_samples': 10,\n",
       "                                     'min_split_gain': 0.01,\n",
       "                                     'n_estimators': 10000, 'n_jobs': 16,\n",
       "                                     'num_leaves': 31,\n",
       "                                     'objective': 'regression',\n",
       "                                     'subsample': 0.4, 'subsample_freq': 10})"
      ]
     },
     "execution_count": 23,
     "metadata": {},
     "output_type": "execute_result"
    }
   ],
   "source": [
    "# x_train = lgb.Dataset(\n",
    "#     X.to_pandas(), label=y_train.get_column(\"log_units_sold\").to_numpy(),\n",
    "#     categorical_feature=categorical_cols,\n",
    "#     # weight=pd.concat([items[\"perishable\"]] * num_days) * 0.25 + 1\n",
    "# )\n",
    "\n",
    "# # Example usage:\n",
    "\n",
    "# bst = lgb.train(\n",
    "#     params, x_train, num_boost_round=MAX_ROUNDS,\n",
    "#     valid_sets=[x_train, dataset_valid],\n",
    "#     callbacks=[lgb.early_stopping(125), lgb.log_evaluation(25)],\n",
    "#     # force_col_wise=True\n",
    "# )\n",
    "\n",
    "model_params = {\n",
    "    # \"boosting_type\":\"dart\", # \"gdbt\"\n",
    "    \"num_leaves\": 31, #31\n",
    "    # \"max_depth\": 10, #-1,\n",
    "    \"learning_rate\": 0.02,\n",
    "    \"n_estimators\": 10000,\n",
    "    # \"subsample_for_bin\": 200000,\n",
    "    \"objective\": \"regression\",\n",
    "    # class_weight: Optional[Union[Dict, str]] = None,\n",
    "    \"min_split_gain\": 0.01, # 'feature_fraction': 0.1,#0.8,\n",
    "    # min_child_weight: float = 1e-3,\n",
    "    \"min_child_samples\": 10,\n",
    "    \"subsample\": 0.4, #'bagging_fraction': 0.7,\n",
    "    \"subsample_freq\": 10, # 'bagging_freq': 1,\n",
    "    # colsample_bytree: float = 1.0,\n",
    "    # reg_alpha: float = 0.0,\n",
    "    # reg_lambda: float = 0.0,\n",
    "    # random_state: Optional[Union[int, np.random.RandomState, np.random.Generator]] = None,\n",
    "    \"n_jobs\": 16, # 'num_threads': 16\n",
    "    # importance_type: str = \"split\",\n",
    "}\n",
    "\n",
    "# dataset_valid = lgb.Dataset(\n",
    "#     # x_valid.to_pandas(), label=y_valid.get_column(\"h1_log_units_sold\").to_numpy(),\n",
    "#     # reference=x_train,\n",
    "#     # weight=items[\"perishable\"] * 0.25 + 1,\n",
    "#     # categorical_feature=categorical_cols,\n",
    "# )\n",
    "\n",
    "fit_params = {\n",
    "    \"eval_metric\": \"l2\",\n",
    "    \"eval_set\": [\n",
    "        (x_train.to_pandas(), y_train.get_column(\"h1_log_units_sold\").to_numpy()),\n",
    "        # (x_valid.to_pandas(), y_valid.get_column(\"h1_log_units_sold\").to_numpy())\n",
    "    ],\n",
    "    \"callbacks\": [lgbm.early_stopping(125), lgbm.log_evaluation(25)],\n",
    "    \"categorical_feature\": categorical_cols,\n",
    "    # \"sample_weight\": weights,\n",
    "    # \"feature_name\": \"auto\",\n",
    "}\n",
    "\n",
    "forecaster = DirectMultihorizonForecaster(\n",
    "    horizons=7,\n",
    "    params=model_params\n",
    ")\n",
    "\n",
    "forecaster.fit(x_train, y_train, fit_params) #, target_cols=[\"h1_log_units_sold\", \"h2_log_units_sold\"])"
   ]
  },
  {
   "cell_type": "code",
   "execution_count": 7,
   "id": "aea34bb5",
   "metadata": {},
   "outputs": [
    {
     "data": {
      "text/html": [
       "<div><style>\n",
       ".dataframe > thead > tr,\n",
       ".dataframe > tbody > tr {\n",
       "  text-align: right;\n",
       "  white-space: pre-wrap;\n",
       "}\n",
       "</style>\n",
       "<small>shape: (71, 8)</small><table border=\"1\" class=\"dataframe\"><thead><tr><th>feature_name</th><th>h1_log_units_sold</th><th>h2_log_units_sold</th><th>h3_log_units_sold</th><th>h4_log_units_sold</th><th>h5_log_units_sold</th><th>h6_log_units_sold</th><th>h7_log_units_sold</th></tr><tr><td>str</td><td>i32</td><td>i32</td><td>i32</td><td>i32</td><td>i32</td><td>i32</td><td>i32</td></tr></thead><tbody><tr><td>&quot;product_id&quot;</td><td>3800</td><td>182</td><td>133</td><td>130</td><td>100</td><td>51</td><td>121</td></tr><tr><td>&quot;store_id&quot;</td><td>1505</td><td>37</td><td>20</td><td>15</td><td>11</td><td>3</td><td>12</td></tr><tr><td>&quot;log_units_sold&quot;</td><td>2693</td><td>18</td><td>9</td><td>7</td><td>1</td><td>1</td><td>69</td></tr><tr><td>&quot;product_group&quot;</td><td>462</td><td>61</td><td>67</td><td>56</td><td>58</td><td>18</td><td>32</td></tr><tr><td>&quot;next_1d_event_id&quot;</td><td>1159</td><td>2</td><td>0</td><td>0</td><td>0</td><td>0</td><td>0</td></tr><tr><td>&hellip;</td><td>&hellip;</td><td>&hellip;</td><td>&hellip;</td><td>&hellip;</td><td>&hellip;</td><td>&hellip;</td><td>&hellip;</td></tr><tr><td>&quot;h3_ewm_3y_log_units_sold&quot;</td><td>5650</td><td>296</td><td>49</td><td>1</td><td>0</td><td>5</td><td>4</td></tr><tr><td>&quot;h4_ewm_3y_log_units_sold&quot;</td><td>5491</td><td>32</td><td>262</td><td>52</td><td>5</td><td>1</td><td>0</td></tr><tr><td>&quot;h5_ewm_3y_log_units_sold&quot;</td><td>5472</td><td>7</td><td>26</td><td>250</td><td>44</td><td>6</td><td>4</td></tr><tr><td>&quot;h6_ewm_3y_log_units_sold&quot;</td><td>5518</td><td>10</td><td>4</td><td>16</td><td>253</td><td>31</td><td>5</td></tr><tr><td>&quot;h7_ewm_3y_log_units_sold&quot;</td><td>5400</td><td>9</td><td>4</td><td>1</td><td>5</td><td>315</td><td>76</td></tr></tbody></table></div>"
      ],
      "text/plain": [
       "shape: (71, 8)\n",
       "┌────────────┬────────────┬────────────┬───────────┬───────────┬───────────┬───────────┬───────────┐\n",
       "│ feature_na ┆ h1_log_uni ┆ h2_log_uni ┆ h3_log_un ┆ h4_log_un ┆ h5_log_un ┆ h6_log_un ┆ h7_log_un │\n",
       "│ me         ┆ ts_sold    ┆ ts_sold    ┆ its_sold  ┆ its_sold  ┆ its_sold  ┆ its_sold  ┆ its_sold  │\n",
       "│ ---        ┆ ---        ┆ ---        ┆ ---       ┆ ---       ┆ ---       ┆ ---       ┆ ---       │\n",
       "│ str        ┆ i32        ┆ i32        ┆ i32       ┆ i32       ┆ i32       ┆ i32       ┆ i32       │\n",
       "╞════════════╪════════════╪════════════╪═══════════╪═══════════╪═══════════╪═══════════╪═══════════╡\n",
       "│ product_id ┆ 3800       ┆ 182        ┆ 133       ┆ 130       ┆ 100       ┆ 51        ┆ 121       │\n",
       "│ store_id   ┆ 1505       ┆ 37         ┆ 20        ┆ 15        ┆ 11        ┆ 3         ┆ 12        │\n",
       "│ log_units_ ┆ 2693       ┆ 18         ┆ 9         ┆ 7         ┆ 1         ┆ 1         ┆ 69        │\n",
       "│ sold       ┆            ┆            ┆           ┆           ┆           ┆           ┆           │\n",
       "│ product_gr ┆ 462        ┆ 61         ┆ 67        ┆ 56        ┆ 58        ┆ 18        ┆ 32        │\n",
       "│ oup        ┆            ┆            ┆           ┆           ┆           ┆           ┆           │\n",
       "│ next_1d_ev ┆ 1159       ┆ 2          ┆ 0         ┆ 0         ┆ 0         ┆ 0         ┆ 0         │\n",
       "│ ent_id     ┆            ┆            ┆           ┆           ┆           ┆           ┆           │\n",
       "│ …          ┆ …          ┆ …          ┆ …         ┆ …         ┆ …         ┆ …         ┆ …         │\n",
       "│ h3_ewm_3y_ ┆ 5650       ┆ 296        ┆ 49        ┆ 1         ┆ 0         ┆ 5         ┆ 4         │\n",
       "│ log_units_ ┆            ┆            ┆           ┆           ┆           ┆           ┆           │\n",
       "│ sold       ┆            ┆            ┆           ┆           ┆           ┆           ┆           │\n",
       "│ h4_ewm_3y_ ┆ 5491       ┆ 32         ┆ 262       ┆ 52        ┆ 5         ┆ 1         ┆ 0         │\n",
       "│ log_units_ ┆            ┆            ┆           ┆           ┆           ┆           ┆           │\n",
       "│ sold       ┆            ┆            ┆           ┆           ┆           ┆           ┆           │\n",
       "│ h5_ewm_3y_ ┆ 5472       ┆ 7          ┆ 26        ┆ 250       ┆ 44        ┆ 6         ┆ 4         │\n",
       "│ log_units_ ┆            ┆            ┆           ┆           ┆           ┆           ┆           │\n",
       "│ sold       ┆            ┆            ┆           ┆           ┆           ┆           ┆           │\n",
       "│ h6_ewm_3y_ ┆ 5518       ┆ 10         ┆ 4         ┆ 16        ┆ 253       ┆ 31        ┆ 5         │\n",
       "│ log_units_ ┆            ┆            ┆           ┆           ┆           ┆           ┆           │\n",
       "│ sold       ┆            ┆            ┆           ┆           ┆           ┆           ┆           │\n",
       "│ h7_ewm_3y_ ┆ 5400       ┆ 9          ┆ 4         ┆ 1         ┆ 5         ┆ 315       ┆ 76        │\n",
       "│ log_units_ ┆            ┆            ┆           ┆           ┆           ┆           ┆           │\n",
       "│ sold       ┆            ┆            ┆           ┆           ┆           ┆           ┆           │\n",
       "└────────────┴────────────┴────────────┴───────────┴───────────┴───────────┴───────────┴───────────┘"
      ]
     },
     "execution_count": 7,
     "metadata": {},
     "output_type": "execute_result"
    }
   ],
   "source": [
    "importances_df = forecaster.feature_importances()\n",
    "importances_df"
   ]
  },
  {
   "cell_type": "code",
   "execution_count": 8,
   "id": "975b9bd2",
   "metadata": {},
   "outputs": [
    {
     "data": {
      "text/plain": [
       "polars.config.Config"
      ]
     },
     "execution_count": 8,
     "metadata": {},
     "output_type": "execute_result"
    }
   ],
   "source": [
    "# modify max limit of df display\n",
    "pl.Config.set_tbl_rows(60)"
   ]
  },
  {
   "cell_type": "code",
   "execution_count": null,
   "id": "811dc5ff",
   "metadata": {},
   "outputs": [
    {
     "data": {
      "text/html": [
       "<div><style>\n",
       ".dataframe > thead > tr,\n",
       ".dataframe > tbody > tr {\n",
       "  text-align: right;\n",
       "  white-space: pre-wrap;\n",
       "}\n",
       "</style>\n",
       "<small>shape: (71, 2)</small><table border=\"1\" class=\"dataframe\"><thead><tr><th>feature_name</th><th>importance</th></tr><tr><td>str</td><td>f64</td></tr></thead><tbody><tr><td>&quot;dayofyear&quot;</td><td>11670.142857</td></tr><tr><td>&quot;weekofyear&quot;</td><td>2133.714286</td></tr><tr><td>&quot;diff_mean_14d_log_units_sold&quot;</td><td>1024.428571</td></tr><tr><td>&quot;diff_mean_7d_log_units_sold&quot;</td><td>1023.428571</td></tr><tr><td>&quot;diff_mean_28d_log_units_sold&quot;</td><td>985.428571</td></tr><tr><td>&quot;diff_mean_21d_log_units_sold&quot;</td><td>967.285714</td></tr><tr><td>&quot;std_7d_log_units_sold&quot;</td><td>913.428571</td></tr><tr><td>&quot;std_28d_log_units_sold&quot;</td><td>885.428571</td></tr><tr><td>&quot;h2_ewm_3y_log_units_sold&quot;</td><td>879.0</td></tr><tr><td>&quot;max_mean_ratio_7d_log_units_so…</td><td>869.428571</td></tr><tr><td>&quot;h3_ewm_3y_log_units_sold&quot;</td><td>857.857143</td></tr><tr><td>&quot;max_mean_ratio_14d_log_units_s…</td><td>854.857143</td></tr><tr><td>&quot;diff_mean_3d_log_units_sold&quot;</td><td>849.142857</td></tr><tr><td>&quot;max_mean_ratio_3d_log_units_so…</td><td>844.0</td></tr><tr><td>&quot;h4_ewm_3y_log_units_sold&quot;</td><td>834.714286</td></tr><tr><td>&quot;std_14d_log_units_sold&quot;</td><td>834.285714</td></tr><tr><td>&quot;h6_ewm_3y_log_units_sold&quot;</td><td>833.857143</td></tr><tr><td>&quot;h7_ewm_3y_log_units_sold&quot;</td><td>830.0</td></tr><tr><td>&quot;h5_ewm_3y_log_units_sold&quot;</td><td>829.857143</td></tr><tr><td>&quot;h1_ewm_3y_log_units_sold&quot;</td><td>826.571429</td></tr><tr><td>&quot;max_mean_ratio_28d_log_units_s…</td><td>824.285714</td></tr><tr><td>&quot;std_3d_log_units_sold&quot;</td><td>811.285714</td></tr><tr><td>&quot;dayofweek&quot;</td><td>802.285714</td></tr><tr><td>&quot;max_mean_ratio_21d_log_units_s…</td><td>754.714286</td></tr><tr><td>&quot;std_21d_log_units_sold&quot;</td><td>746.428571</td></tr><tr><td>&quot;dayofmonth&quot;</td><td>699.714286</td></tr><tr><td>&quot;product_id&quot;</td><td>645.285714</td></tr><tr><td>&quot;mean_28d_log_units_sold&quot;</td><td>593.571429</td></tr><tr><td>&quot;mean_3d_log_units_sold&quot;</td><td>574.285714</td></tr><tr><td>&quot;mean_14d_log_units_sold&quot;</td><td>541.285714</td></tr><tr><td>&hellip;</td><td>&hellip;</td></tr><tr><td>&quot;mean_21d_log_units_sold&quot;</td><td>370.714286</td></tr><tr><td>&quot;min_3d_log_units_sold&quot;</td><td>355.0</td></tr><tr><td>&quot;min_7d_log_units_sold&quot;</td><td>353.285714</td></tr><tr><td>&quot;median_7d_log_units_sold&quot;</td><td>351.571429</td></tr><tr><td>&quot;min_28d_log_units_sold&quot;</td><td>296.0</td></tr><tr><td>&quot;min_14d_log_units_sold&quot;</td><td>294.428571</td></tr><tr><td>&quot;min_21d_log_units_sold&quot;</td><td>259.0</td></tr><tr><td>&quot;store_id&quot;</td><td>229.0</td></tr><tr><td>&quot;median_21d_log_units_sold&quot;</td><td>195.428571</td></tr><tr><td>&quot;next_2d_event_id&quot;</td><td>175.571429</td></tr><tr><td>&quot;next_1d_event_id&quot;</td><td>165.857143</td></tr><tr><td>&quot;ewm_7d_log_units_sold&quot;</td><td>162.571429</td></tr><tr><td>&quot;next_3d_event_id&quot;</td><td>143.285714</td></tr><tr><td>&quot;product_group&quot;</td><td>107.714286</td></tr><tr><td>&quot;next_5d_event_id&quot;</td><td>77.571429</td></tr><tr><td>&quot;next_6d_event_id&quot;</td><td>73.142857</td></tr><tr><td>&quot;next_7d_event_id&quot;</td><td>54.428571</td></tr><tr><td>&quot;next_4d_event_id&quot;</td><td>42.857143</td></tr><tr><td>&quot;next_2d_is_on_promo&quot;</td><td>19.142857</td></tr><tr><td>&quot;next_4d_is_on_promo&quot;</td><td>18.857143</td></tr><tr><td>&quot;year&quot;</td><td>17.428571</td></tr><tr><td>&quot;next_1d_is_on_promo&quot;</td><td>16.571429</td></tr><tr><td>&quot;next_5d_is_on_promo&quot;</td><td>13.714286</td></tr><tr><td>&quot;next_6d_is_on_promo&quot;</td><td>11.571429</td></tr><tr><td>&quot;next_7d_is_on_promo&quot;</td><td>10.857143</td></tr><tr><td>&quot;month&quot;</td><td>9.142857</td></tr><tr><td>&quot;next_3d_is_on_promo&quot;</td><td>7.571429</td></tr><tr><td>&quot;ewm_14d_log_units_sold&quot;</td><td>0.714286</td></tr><tr><td>&quot;ewm_21d_log_units_sold&quot;</td><td>0.0</td></tr><tr><td>&quot;ewm_28d_log_units_sold&quot;</td><td>0.0</td></tr></tbody></table></div>"
      ],
      "text/plain": [
       "shape: (71, 2)\n",
       "┌─────────────────────────────────┬──────────────┐\n",
       "│ feature_name                    ┆ importance   │\n",
       "│ ---                             ┆ ---          │\n",
       "│ str                             ┆ f64          │\n",
       "╞═════════════════════════════════╪══════════════╡\n",
       "│ dayofyear                       ┆ 11670.142857 │\n",
       "│ weekofyear                      ┆ 2133.714286  │\n",
       "│ diff_mean_14d_log_units_sold    ┆ 1024.428571  │\n",
       "│ diff_mean_7d_log_units_sold     ┆ 1023.428571  │\n",
       "│ diff_mean_28d_log_units_sold    ┆ 985.428571   │\n",
       "│ diff_mean_21d_log_units_sold    ┆ 967.285714   │\n",
       "│ std_7d_log_units_sold           ┆ 913.428571   │\n",
       "│ std_28d_log_units_sold          ┆ 885.428571   │\n",
       "│ h2_ewm_3y_log_units_sold        ┆ 879.0        │\n",
       "│ max_mean_ratio_7d_log_units_so… ┆ 869.428571   │\n",
       "│ h3_ewm_3y_log_units_sold        ┆ 857.857143   │\n",
       "│ max_mean_ratio_14d_log_units_s… ┆ 854.857143   │\n",
       "│ diff_mean_3d_log_units_sold     ┆ 849.142857   │\n",
       "│ max_mean_ratio_3d_log_units_so… ┆ 844.0        │\n",
       "│ h4_ewm_3y_log_units_sold        ┆ 834.714286   │\n",
       "│ std_14d_log_units_sold          ┆ 834.285714   │\n",
       "│ h6_ewm_3y_log_units_sold        ┆ 833.857143   │\n",
       "│ h7_ewm_3y_log_units_sold        ┆ 830.0        │\n",
       "│ h5_ewm_3y_log_units_sold        ┆ 829.857143   │\n",
       "│ h1_ewm_3y_log_units_sold        ┆ 826.571429   │\n",
       "│ max_mean_ratio_28d_log_units_s… ┆ 824.285714   │\n",
       "│ std_3d_log_units_sold           ┆ 811.285714   │\n",
       "│ dayofweek                       ┆ 802.285714   │\n",
       "│ max_mean_ratio_21d_log_units_s… ┆ 754.714286   │\n",
       "│ std_21d_log_units_sold          ┆ 746.428571   │\n",
       "│ dayofmonth                      ┆ 699.714286   │\n",
       "│ product_id                      ┆ 645.285714   │\n",
       "│ mean_28d_log_units_sold         ┆ 593.571429   │\n",
       "│ mean_3d_log_units_sold          ┆ 574.285714   │\n",
       "│ mean_14d_log_units_sold         ┆ 541.285714   │\n",
       "│ …                               ┆ …            │\n",
       "│ mean_21d_log_units_sold         ┆ 370.714286   │\n",
       "│ min_3d_log_units_sold           ┆ 355.0        │\n",
       "│ min_7d_log_units_sold           ┆ 353.285714   │\n",
       "│ median_7d_log_units_sold        ┆ 351.571429   │\n",
       "│ min_28d_log_units_sold          ┆ 296.0        │\n",
       "│ min_14d_log_units_sold          ┆ 294.428571   │\n",
       "│ min_21d_log_units_sold          ┆ 259.0        │\n",
       "│ store_id                        ┆ 229.0        │\n",
       "│ median_21d_log_units_sold       ┆ 195.428571   │\n",
       "│ next_2d_event_id                ┆ 175.571429   │\n",
       "│ next_1d_event_id                ┆ 165.857143   │\n",
       "│ ewm_7d_log_units_sold           ┆ 162.571429   │\n",
       "│ next_3d_event_id                ┆ 143.285714   │\n",
       "│ product_group                   ┆ 107.714286   │\n",
       "│ next_5d_event_id                ┆ 77.571429    │\n",
       "│ next_6d_event_id                ┆ 73.142857    │\n",
       "│ next_7d_event_id                ┆ 54.428571    │\n",
       "│ next_4d_event_id                ┆ 42.857143    │\n",
       "│ next_2d_is_on_promo             ┆ 19.142857    │\n",
       "│ next_4d_is_on_promo             ┆ 18.857143    │\n",
       "│ year                            ┆ 17.428571    │\n",
       "│ next_1d_is_on_promo             ┆ 16.571429    │\n",
       "│ next_5d_is_on_promo             ┆ 13.714286    │\n",
       "│ next_6d_is_on_promo             ┆ 11.571429    │\n",
       "│ next_7d_is_on_promo             ┆ 10.857143    │\n",
       "│ month                           ┆ 9.142857     │\n",
       "│ next_3d_is_on_promo             ┆ 7.571429     │\n",
       "│ ewm_14d_log_units_sold          ┆ 0.714286     │\n",
       "│ ewm_21d_log_units_sold          ┆ 0.0          │\n",
       "│ ewm_28d_log_units_sold          ┆ 0.0          │\n",
       "└─────────────────────────────────┴──────────────┘"
      ]
     },
     "execution_count": 9,
     "metadata": {},
     "output_type": "execute_result"
    }
   ],
   "source": [
    "importances_df.select(\n",
    "    pl.col(\"feature_name\"),\n",
    "    pl.concat_list(cs.starts_with(\"h\")).list.mean().alias(\"importance\")\n",
    ").sort(\"importance\", descending=True)"
   ]
  },
  {
   "cell_type": "code",
   "execution_count": 13,
   "id": "b57f0445",
   "metadata": {},
   "outputs": [],
   "source": [
    "import plotly.express as px\n",
    "\n",
    "\n",
    "def foo(x_valid, y_valid, c_valid, target_col, pid, sid):\n",
    "\n",
    "    x_subset = x_valid.with_columns(\n",
    "        (y_valid.get_column(target_col).exp() + 1).round(),\n",
    "        (forecaster.predict(x_valid).get_column(f'pred_{target_col}').exp() + 1).round(),\n",
    "        c_valid.get_column(\"c_date\"),\n",
    "    ).filter(store_id=sid, product_id=pid)\n",
    "    \n",
    "    y_true = x_subset.drop_in_place(target_col)\n",
    "    y_preds = x_subset.drop_in_place(f\"pred_{target_col}\")\n",
    "    x_dates_subset = x_subset.drop_in_place(\"c_date\")\n",
    "\n",
    "    # apply inverse of logp1 transformation to actuals and round to nearest integer\n",
    "    # actuals = y_subset.get_column(\"log_units_sold\")\n",
    "    # actuals = (pl.Series(actuals).exp() - 1).round()\n",
    "\n",
    "    # apply inverse of logp1 transformation to predictions and round to nearest integer\n",
    "    # predictions = bst.predict(x_subset.to_pandas())\n",
    "    # predictions = (pl.Series(predictions).exp() - 1).round()\n",
    "\n",
    "    # plot time series: y_valid vs prediction\n",
    "    fig = px.line(\n",
    "        x=x_dates_subset,\n",
    "        # y=[y_subset, predictions],\n",
    "        y=y_preds,\n",
    "        labels={\"x\": \"date\", \"y\": \"units\"},\n",
    "        title=\"Actual vs Predicted Sales\",\n",
    "        template=\"plotly_white\"\n",
    "    )\n",
    "\n",
    "    fig.add_scatter(\n",
    "        x=x_dates_subset,\n",
    "        y=y_true,\n",
    "        name=\"sales\",\n",
    "        line=dict(color=\"green\", width=2)\n",
    "    )\n",
    "\n",
    "    # limit y-axis to 0-5\n",
    "    # fig.update_yaxes(range=[0, 100])\n",
    "                            \n",
    "    fig.show()"
   ]
  },
  {
   "cell_type": "code",
   "execution_count": null,
   "id": "a50f0bf1",
   "metadata": {},
   "outputs": [],
   "source": [
    "# f = x_train.filter(\n",
    "#     (pl.col(\"store_id\") == 1) \n",
    "#     & (pl.col(\"product_id\") == 1)\n",
    "# )"
   ]
  },
  {
   "cell_type": "code",
   "execution_count": 10,
   "id": "67069217",
   "metadata": {},
   "outputs": [],
   "source": [
    "import plotly.express as px\n",
    "\n",
    "def plot_sales_forecast(x_train, y_train, c_train, p_train, product_id, store_id, target_col, step):\n",
    "    # target_col = \"h7_log_units_sold\"\n",
    "    true_col = f'h{step}_{target_col}'\n",
    "    pred_col = f'pred_h{step}_{target_col}'\n",
    "\n",
    "    x = x_train.with_columns(\n",
    "        c_train.get_column(\"c_date\"),\n",
    "        y_train.get_column(true_col).exp() - 1,\n",
    "        p_train.get_column(pred_col).exp() - 1,\n",
    "    ).filter(product_id=product_id, store_id=store_id)\n",
    "\n",
    "    # plot with series named \"actual\" and \"predicted\"\n",
    "    px.line(\n",
    "        x=x.get_column(\"c_date\"),\n",
    "        y=[x.get_column(true_col), x.get_column(pred_col)],\n",
    "        labels={\"x\": \"date\", \"value\": \"units sold\"},\n",
    "        title=f\"{product_id=} | {store_id=}\",\n",
    "        template=\"plotly_white\"\n",
    "    ).show()"
   ]
  },
  {
   "cell_type": "code",
   "execution_count": 25,
   "id": "c4c47c26",
   "metadata": {},
   "outputs": [],
   "source": [
    "p_train = forecaster.predict(x_train)"
   ]
  },
  {
   "cell_type": "code",
   "execution_count": 26,
   "id": "88f34277",
   "metadata": {},
   "outputs": [
    {
     "data": {
      "text/html": [
       "<div><style>\n",
       ".dataframe > thead > tr,\n",
       ".dataframe > tbody > tr {\n",
       "  text-align: right;\n",
       "  white-space: pre-wrap;\n",
       "}\n",
       "</style>\n",
       "<small>shape: (46_039, 7)</small><table border=\"1\" class=\"dataframe\"><thead><tr><th>h1_log_units_sold</th><th>h2_log_units_sold</th><th>h3_log_units_sold</th><th>h4_log_units_sold</th><th>h5_log_units_sold</th><th>h6_log_units_sold</th><th>h7_log_units_sold</th></tr><tr><td>f64</td><td>f64</td><td>f64</td><td>f64</td><td>f64</td><td>f64</td><td>f64</td></tr></thead><tbody><tr><td>0.436216</td><td>-0.123037</td><td>-0.122787</td><td>-0.207052</td><td>-0.045426</td><td>-0.301117</td><td>0.289787</td></tr><tr><td>0.181881</td><td>-0.282704</td><td>-0.491609</td><td>-0.269593</td><td>-0.495712</td><td>0.00756</td><td>-0.029678</td></tr><tr><td>-0.112953</td><td>-0.297852</td><td>-0.112157</td><td>-0.329798</td><td>0.140091</td><td>0.132045</td><td>-0.630921</td></tr><tr><td>-0.134164</td><td>-0.039607</td><td>-0.302315</td><td>0.173057</td><td>0.183324</td><td>-0.702462</td><td>-0.373942</td></tr><tr><td>0.003399</td><td>-0.216908</td><td>0.212212</td><td>0.225412</td><td>-0.659903</td><td>-0.341107</td><td>-0.431738</td></tr><tr><td>-0.053694</td><td>0.29916</td><td>0.286597</td><td>-0.692641</td><td>-0.510921</td><td>-0.524354</td><td>0.063615</td></tr><tr><td>0.136983</td><td>0.389337</td><td>-0.681674</td><td>-0.496475</td><td>-0.543042</td><td>0.104447</td><td>0.100844</td></tr><tr><td>0.168987</td><td>-0.658118</td><td>-0.465173</td><td>-0.643194</td><td>-0.04131</td><td>0.028537</td><td>-0.287489</td></tr><tr><td>-0.295559</td><td>-0.397665</td><td>-0.572081</td><td>-0.001995</td><td>-0.045227</td><td>-0.314467</td><td>0.132671</td></tr><tr><td>-0.023684</td><td>-0.500302</td><td>0.070106</td><td>0.056417</td><td>-0.257502</td><td>0.156355</td><td>-0.280469</td></tr><tr><td>-0.162483</td><td>0.098761</td><td>0.073222</td><td>-0.221382</td><td>0.214964</td><td>-0.276388</td><td>0.196646</td></tr><tr><td>0.240006</td><td>0.123551</td><td>-0.15481</td><td>0.226295</td><td>-0.293664</td><td>0.166089</td><td>0.186615</td></tr><tr><td>0.003853</td><td>-0.129575</td><td>0.245799</td><td>-0.332171</td><td>0.024837</td><td>0.125121</td><td>-0.286406</td></tr><tr><td>-0.065356</td><td>0.275618</td><td>-0.322023</td><td>-0.026718</td><td>-0.010893</td><td>-0.297647</td><td>-0.602769</td></tr><tr><td>0.145154</td><td>-0.212776</td><td>-0.013762</td><td>-0.036958</td><td>-0.370665</td><td>-0.650073</td><td>0.267422</td></tr><tr><td>-0.013501</td><td>0.031397</td><td>-0.007157</td><td>-0.286374</td><td>-0.684213</td><td>0.185125</td><td>0.537057</td></tr><tr><td>0.132457</td><td>-0.008962</td><td>-0.22769</td><td>-0.607445</td><td>0.20482</td><td>0.564421</td><td>-0.158621</td></tr><tr><td>0.08201</td><td>-0.196833</td><td>-0.582596</td><td>0.298406</td><td>0.532812</td><td>-0.258623</td><td>0.033957</td></tr><tr><td>-0.120218</td><td>-0.530365</td><td>0.263924</td><td>0.575387</td><td>-0.264196</td><td>-0.011463</td><td>-0.980673</td></tr><tr><td>-0.096023</td><td>0.333114</td><td>0.625243</td><td>-0.224238</td><td>-0.058851</td><td>-1.014004</td><td>0.00084</td></tr><tr><td>0.013455</td><td>0.733695</td><td>-0.197456</td><td>0.003824</td><td>-1.008776</td><td>-0.1038</td><td>-0.072194</td></tr><tr><td>0.293646</td><td>-0.162322</td><td>-0.001142</td><td>-1.077183</td><td>-0.122277</td><td>-0.152353</td><td>0.011895</td></tr><tr><td>-0.013487</td><td>0.046038</td><td>-1.014622</td><td>-0.110772</td><td>-0.287391</td><td>-0.109966</td><td>-0.069336</td></tr><tr><td>0.10378</td><td>-1.00468</td><td>-0.101486</td><td>-0.204826</td><td>-0.053483</td><td>-0.0462</td><td>-0.362821</td></tr><tr><td>-0.304238</td><td>-0.049182</td><td>-0.214505</td><td>0.050635</td><td>-0.009497</td><td>-0.485869</td><td>-0.511842</td></tr><tr><td>-0.074071</td><td>-0.050459</td><td>0.064307</td><td>0.123048</td><td>-0.357174</td><td>-0.358164</td><td>-0.466391</td></tr><tr><td>-0.05738</td><td>0.10294</td><td>0.147817</td><td>-0.314568</td><td>-0.486465</td><td>-0.482197</td><td>-0.211632</td></tr><tr><td>0.038502</td><td>0.121078</td><td>-0.318599</td><td>-0.471916</td><td>-0.568264</td><td>-0.187064</td><td>-0.051734</td></tr><tr><td>0.007779</td><td>-0.378649</td><td>-0.519725</td><td>-0.594178</td><td>-0.29928</td><td>-0.085628</td><td>0.648207</td></tr><tr><td>-0.125244</td><td>-0.453043</td><td>-0.59053</td><td>-0.254542</td><td>-0.14683</td><td>0.631529</td><td>0.524795</td></tr><tr><td>&hellip;</td><td>&hellip;</td><td>&hellip;</td><td>&hellip;</td><td>&hellip;</td><td>&hellip;</td><td>&hellip;</td></tr><tr><td>0.051884</td><td>0.11667</td><td>-0.002594</td><td>0.122221</td><td>0.478762</td><td>-0.105651</td><td>0.134183</td></tr><tr><td>0.085165</td><td>0.065433</td><td>0.1438</td><td>0.467619</td><td>-0.157818</td><td>0.014841</td><td>0.069643</td></tr><tr><td>0.118663</td><td>0.162044</td><td>0.46661</td><td>-0.181203</td><td>-0.030045</td><td>-0.008398</td><td>-0.255221</td></tr><tr><td>0.039257</td><td>0.470611</td><td>-0.14861</td><td>-0.107184</td><td>-0.020084</td><td>-0.30112</td><td>-0.179685</td></tr><tr><td>0.086997</td><td>-0.085576</td><td>-0.005751</td><td>-0.01082</td><td>-0.314172</td><td>-0.252312</td><td>-0.026467</td></tr><tr><td>-0.049742</td><td>-0.032772</td><td>-0.007344</td><td>-0.283956</td><td>-0.263418</td><td>-0.21536</td><td>-0.078408</td></tr><tr><td>0.085546</td><td>0.049362</td><td>-0.248687</td><td>-0.248827</td><td>-0.143062</td><td>-0.036612</td><td>0.32764</td></tr><tr><td>0.01665</td><td>-0.190365</td><td>-0.214366</td><td>-0.102669</td><td>0.011105</td><td>0.295401</td><td>-0.214669</td></tr><tr><td>-0.016587</td><td>-0.18538</td><td>-0.092266</td><td>0.015511</td><td>0.297079</td><td>-0.225854</td><td>-0.594388</td></tr><tr><td>-0.03539</td><td>0.002046</td><td>0.049678</td><td>0.317544</td><td>-0.268831</td><td>-0.606023</td><td>0.244474</td></tr><tr><td>0.037393</td><td>0.101925</td><td>0.312664</td><td>-0.278889</td><td>-0.640961</td><td>0.246987</td><td>-0.755859</td></tr><tr><td>-0.068377</td><td>0.35382</td><td>-0.278023</td><td>-0.632148</td><td>0.148991</td><td>-0.808695</td><td>-0.372383</td></tr><tr><td>0.200724</td><td>-0.251287</td><td>-0.637661</td><td>0.227774</td><td>-0.846869</td><td>-0.397766</td><td>0.07095</td></tr><tr><td>-0.066011</td><td>-0.629272</td><td>0.216292</td><td>-0.806659</td><td>-0.473857</td><td>-0.030863</td><td>0.198508</td></tr><tr><td>-0.256011</td><td>0.279769</td><td>-0.833733</td><td>-0.442971</td><td>-0.02696</td><td>0.114162</td><td>0.385028</td></tr><tr><td>0.153136</td><td>-0.743337</td><td>-0.359045</td><td>0.009</td><td>0.169335</td><td>0.329733</td><td>0.357031</td></tr><tr><td>-0.205261</td><td>-0.350781</td><td>0.034798</td><td>0.137335</td><td>0.274047</td><td>0.284046</td><td>-0.640482</td></tr><tr><td>-0.082295</td><td>0.156535</td><td>0.232947</td><td>0.324564</td><td>0.263844</td><td>-0.659644</td><td>-0.031627</td></tr><tr><td>0.126921</td><td>0.291798</td><td>0.337674</td><td>0.350002</td><td>-0.659048</td><td>-0.135601</td><td>0.392571</td></tr><tr><td>0.081697</td><td>0.389367</td><td>0.380789</td><td>-0.610701</td><td>-0.11179</td><td>0.292396</td><td>0.089974</td></tr><tr><td>0.148803</td><td>0.453842</td><td>-0.576631</td><td>-0.110542</td><td>0.239773</td><td>0.064451</td><td>-0.269785</td></tr><tr><td>0.09653</td><td>-0.505329</td><td>-0.088896</td><td>0.258407</td><td>-0.027708</td><td>-0.352441</td><td>-0.030925</td></tr><tr><td>-0.097474</td><td>-0.087984</td><td>0.302234</td><td>0.012221</td><td>-0.388642</td><td>-0.115857</td><td>-0.119889</td></tr><tr><td>-0.000589</td><td>0.417244</td><td>0.047556</td><td>-0.254053</td><td>-0.075721</td><td>-0.114</td><td>0.073565</td></tr><tr><td>0.11888</td><td>0.056847</td><td>-0.323034</td><td>-0.076752</td><td>-0.09047</td><td>0.037254</td><td>-0.00728</td></tr><tr><td>-0.044602</td><td>-0.245506</td><td>-0.064122</td><td>-0.058091</td><td>-0.040775</td><td>-0.083866</td><td>0.146973</td></tr><tr><td>-0.002063</td><td>0.003176</td><td>-0.035366</td><td>0.022084</td><td>-0.08112</td><td>0.079146</td><td>-0.027777</td></tr><tr><td>0.100481</td><td>-0.00852</td><td>0.053316</td><td>0.0081</td><td>0.048861</td><td>-0.04075</td><td>-0.10623</td></tr><tr><td>-0.030344</td><td>0.032226</td><td>-0.015006</td><td>0.089571</td><td>-0.053146</td><td>-0.137602</td><td>-0.084914</td></tr><tr><td>-0.026855</td><td>0.007583</td><td>0.147717</td><td>-0.050724</td><td>-0.156741</td><td>-0.088209</td><td>0.025572</td></tr></tbody></table></div>"
      ],
      "text/plain": [
       "shape: (46_039, 7)\n",
       "┌──────────────┬─────────────┬─────────────┬─────────────┬─────────────┬─────────────┬─────────────┐\n",
       "│ h1_log_units ┆ h2_log_unit ┆ h3_log_unit ┆ h4_log_unit ┆ h5_log_unit ┆ h6_log_unit ┆ h7_log_unit │\n",
       "│ _sold        ┆ s_sold      ┆ s_sold      ┆ s_sold      ┆ s_sold      ┆ s_sold      ┆ s_sold      │\n",
       "│ ---          ┆ ---         ┆ ---         ┆ ---         ┆ ---         ┆ ---         ┆ ---         │\n",
       "│ f64          ┆ f64         ┆ f64         ┆ f64         ┆ f64         ┆ f64         ┆ f64         │\n",
       "╞══════════════╪═════════════╪═════════════╪═════════════╪═════════════╪═════════════╪═════════════╡\n",
       "│ 0.436216     ┆ -0.123037   ┆ -0.122787   ┆ -0.207052   ┆ -0.045426   ┆ -0.301117   ┆ 0.289787    │\n",
       "│ 0.181881     ┆ -0.282704   ┆ -0.491609   ┆ -0.269593   ┆ -0.495712   ┆ 0.00756     ┆ -0.029678   │\n",
       "│ -0.112953    ┆ -0.297852   ┆ -0.112157   ┆ -0.329798   ┆ 0.140091    ┆ 0.132045    ┆ -0.630921   │\n",
       "│ -0.134164    ┆ -0.039607   ┆ -0.302315   ┆ 0.173057    ┆ 0.183324    ┆ -0.702462   ┆ -0.373942   │\n",
       "│ 0.003399     ┆ -0.216908   ┆ 0.212212    ┆ 0.225412    ┆ -0.659903   ┆ -0.341107   ┆ -0.431738   │\n",
       "│ -0.053694    ┆ 0.29916     ┆ 0.286597    ┆ -0.692641   ┆ -0.510921   ┆ -0.524354   ┆ 0.063615    │\n",
       "│ 0.136983     ┆ 0.389337    ┆ -0.681674   ┆ -0.496475   ┆ -0.543042   ┆ 0.104447    ┆ 0.100844    │\n",
       "│ 0.168987     ┆ -0.658118   ┆ -0.465173   ┆ -0.643194   ┆ -0.04131    ┆ 0.028537    ┆ -0.287489   │\n",
       "│ -0.295559    ┆ -0.397665   ┆ -0.572081   ┆ -0.001995   ┆ -0.045227   ┆ -0.314467   ┆ 0.132671    │\n",
       "│ -0.023684    ┆ -0.500302   ┆ 0.070106    ┆ 0.056417    ┆ -0.257502   ┆ 0.156355    ┆ -0.280469   │\n",
       "│ -0.162483    ┆ 0.098761    ┆ 0.073222    ┆ -0.221382   ┆ 0.214964    ┆ -0.276388   ┆ 0.196646    │\n",
       "│ 0.240006     ┆ 0.123551    ┆ -0.15481    ┆ 0.226295    ┆ -0.293664   ┆ 0.166089    ┆ 0.186615    │\n",
       "│ 0.003853     ┆ -0.129575   ┆ 0.245799    ┆ -0.332171   ┆ 0.024837    ┆ 0.125121    ┆ -0.286406   │\n",
       "│ -0.065356    ┆ 0.275618    ┆ -0.322023   ┆ -0.026718   ┆ -0.010893   ┆ -0.297647   ┆ -0.602769   │\n",
       "│ 0.145154     ┆ -0.212776   ┆ -0.013762   ┆ -0.036958   ┆ -0.370665   ┆ -0.650073   ┆ 0.267422    │\n",
       "│ -0.013501    ┆ 0.031397    ┆ -0.007157   ┆ -0.286374   ┆ -0.684213   ┆ 0.185125    ┆ 0.537057    │\n",
       "│ 0.132457     ┆ -0.008962   ┆ -0.22769    ┆ -0.607445   ┆ 0.20482     ┆ 0.564421    ┆ -0.158621   │\n",
       "│ 0.08201      ┆ -0.196833   ┆ -0.582596   ┆ 0.298406    ┆ 0.532812    ┆ -0.258623   ┆ 0.033957    │\n",
       "│ -0.120218    ┆ -0.530365   ┆ 0.263924    ┆ 0.575387    ┆ -0.264196   ┆ -0.011463   ┆ -0.980673   │\n",
       "│ -0.096023    ┆ 0.333114    ┆ 0.625243    ┆ -0.224238   ┆ -0.058851   ┆ -1.014004   ┆ 0.00084     │\n",
       "│ 0.013455     ┆ 0.733695    ┆ -0.197456   ┆ 0.003824    ┆ -1.008776   ┆ -0.1038     ┆ -0.072194   │\n",
       "│ 0.293646     ┆ -0.162322   ┆ -0.001142   ┆ -1.077183   ┆ -0.122277   ┆ -0.152353   ┆ 0.011895    │\n",
       "│ -0.013487    ┆ 0.046038    ┆ -1.014622   ┆ -0.110772   ┆ -0.287391   ┆ -0.109966   ┆ -0.069336   │\n",
       "│ 0.10378      ┆ -1.00468    ┆ -0.101486   ┆ -0.204826   ┆ -0.053483   ┆ -0.0462     ┆ -0.362821   │\n",
       "│ -0.304238    ┆ -0.049182   ┆ -0.214505   ┆ 0.050635    ┆ -0.009497   ┆ -0.485869   ┆ -0.511842   │\n",
       "│ -0.074071    ┆ -0.050459   ┆ 0.064307    ┆ 0.123048    ┆ -0.357174   ┆ -0.358164   ┆ -0.466391   │\n",
       "│ -0.05738     ┆ 0.10294     ┆ 0.147817    ┆ -0.314568   ┆ -0.486465   ┆ -0.482197   ┆ -0.211632   │\n",
       "│ 0.038502     ┆ 0.121078    ┆ -0.318599   ┆ -0.471916   ┆ -0.568264   ┆ -0.187064   ┆ -0.051734   │\n",
       "│ 0.007779     ┆ -0.378649   ┆ -0.519725   ┆ -0.594178   ┆ -0.29928    ┆ -0.085628   ┆ 0.648207    │\n",
       "│ -0.125244    ┆ -0.453043   ┆ -0.59053    ┆ -0.254542   ┆ -0.14683    ┆ 0.631529    ┆ 0.524795    │\n",
       "│ …            ┆ …           ┆ …           ┆ …           ┆ …           ┆ …           ┆ …           │\n",
       "│ 0.051884     ┆ 0.11667     ┆ -0.002594   ┆ 0.122221    ┆ 0.478762    ┆ -0.105651   ┆ 0.134183    │\n",
       "│ 0.085165     ┆ 0.065433    ┆ 0.1438      ┆ 0.467619    ┆ -0.157818   ┆ 0.014841    ┆ 0.069643    │\n",
       "│ 0.118663     ┆ 0.162044    ┆ 0.46661     ┆ -0.181203   ┆ -0.030045   ┆ -0.008398   ┆ -0.255221   │\n",
       "│ 0.039257     ┆ 0.470611    ┆ -0.14861    ┆ -0.107184   ┆ -0.020084   ┆ -0.30112    ┆ -0.179685   │\n",
       "│ 0.086997     ┆ -0.085576   ┆ -0.005751   ┆ -0.01082    ┆ -0.314172   ┆ -0.252312   ┆ -0.026467   │\n",
       "│ -0.049742    ┆ -0.032772   ┆ -0.007344   ┆ -0.283956   ┆ -0.263418   ┆ -0.21536    ┆ -0.078408   │\n",
       "│ 0.085546     ┆ 0.049362    ┆ -0.248687   ┆ -0.248827   ┆ -0.143062   ┆ -0.036612   ┆ 0.32764     │\n",
       "│ 0.01665      ┆ -0.190365   ┆ -0.214366   ┆ -0.102669   ┆ 0.011105    ┆ 0.295401    ┆ -0.214669   │\n",
       "│ -0.016587    ┆ -0.18538    ┆ -0.092266   ┆ 0.015511    ┆ 0.297079    ┆ -0.225854   ┆ -0.594388   │\n",
       "│ -0.03539     ┆ 0.002046    ┆ 0.049678    ┆ 0.317544    ┆ -0.268831   ┆ -0.606023   ┆ 0.244474    │\n",
       "│ 0.037393     ┆ 0.101925    ┆ 0.312664    ┆ -0.278889   ┆ -0.640961   ┆ 0.246987    ┆ -0.755859   │\n",
       "│ -0.068377    ┆ 0.35382     ┆ -0.278023   ┆ -0.632148   ┆ 0.148991    ┆ -0.808695   ┆ -0.372383   │\n",
       "│ 0.200724     ┆ -0.251287   ┆ -0.637661   ┆ 0.227774    ┆ -0.846869   ┆ -0.397766   ┆ 0.07095     │\n",
       "│ -0.066011    ┆ -0.629272   ┆ 0.216292    ┆ -0.806659   ┆ -0.473857   ┆ -0.030863   ┆ 0.198508    │\n",
       "│ -0.256011    ┆ 0.279769    ┆ -0.833733   ┆ -0.442971   ┆ -0.02696    ┆ 0.114162    ┆ 0.385028    │\n",
       "│ 0.153136     ┆ -0.743337   ┆ -0.359045   ┆ 0.009       ┆ 0.169335    ┆ 0.329733    ┆ 0.357031    │\n",
       "│ -0.205261    ┆ -0.350781   ┆ 0.034798    ┆ 0.137335    ┆ 0.274047    ┆ 0.284046    ┆ -0.640482   │\n",
       "│ -0.082295    ┆ 0.156535    ┆ 0.232947    ┆ 0.324564    ┆ 0.263844    ┆ -0.659644   ┆ -0.031627   │\n",
       "│ 0.126921     ┆ 0.291798    ┆ 0.337674    ┆ 0.350002    ┆ -0.659048   ┆ -0.135601   ┆ 0.392571    │\n",
       "│ 0.081697     ┆ 0.389367    ┆ 0.380789    ┆ -0.610701   ┆ -0.11179    ┆ 0.292396    ┆ 0.089974    │\n",
       "│ 0.148803     ┆ 0.453842    ┆ -0.576631   ┆ -0.110542   ┆ 0.239773    ┆ 0.064451    ┆ -0.269785   │\n",
       "│ 0.09653      ┆ -0.505329   ┆ -0.088896   ┆ 0.258407    ┆ -0.027708   ┆ -0.352441   ┆ -0.030925   │\n",
       "│ -0.097474    ┆ -0.087984   ┆ 0.302234    ┆ 0.012221    ┆ -0.388642   ┆ -0.115857   ┆ -0.119889   │\n",
       "│ -0.000589    ┆ 0.417244    ┆ 0.047556    ┆ -0.254053   ┆ -0.075721   ┆ -0.114      ┆ 0.073565    │\n",
       "│ 0.11888      ┆ 0.056847    ┆ -0.323034   ┆ -0.076752   ┆ -0.09047    ┆ 0.037254    ┆ -0.00728    │\n",
       "│ -0.044602    ┆ -0.245506   ┆ -0.064122   ┆ -0.058091   ┆ -0.040775   ┆ -0.083866   ┆ 0.146973    │\n",
       "│ -0.002063    ┆ 0.003176    ┆ -0.035366   ┆ 0.022084    ┆ -0.08112    ┆ 0.079146    ┆ -0.027777   │\n",
       "│ 0.100481     ┆ -0.00852    ┆ 0.053316    ┆ 0.0081      ┆ 0.048861    ┆ -0.04075    ┆ -0.10623    │\n",
       "│ -0.030344    ┆ 0.032226    ┆ -0.015006   ┆ 0.089571    ┆ -0.053146   ┆ -0.137602   ┆ -0.084914   │\n",
       "│ -0.026855    ┆ 0.007583    ┆ 0.147717    ┆ -0.050724   ┆ -0.156741   ┆ -0.088209   ┆ 0.025572    │\n",
       "└──────────────┴─────────────┴─────────────┴─────────────┴─────────────┴─────────────┴─────────────┘"
      ]
     },
     "execution_count": 26,
     "metadata": {},
     "output_type": "execute_result"
    }
   ],
   "source": [
    "y_train - p_train"
   ]
  },
  {
   "cell_type": "code",
   "execution_count": 27,
   "id": "06269284",
   "metadata": {},
   "outputs": [
    {
     "data": {
      "application/vnd.plotly.v1+json": {
       "config": {
        "plotlyServerURL": "https://plot.ly"
       },
       "data": [
        {
         "hovertemplate": "variable=wide_variable_0<br>date=%{x}<br>units sold=%{y}<extra></extra>",
         "legendgroup": "wide_variable_0",
         "line": {
          "color": "#636efa",
          "dash": "solid"
         },
         "marker": {
          "symbol": "circle"
         },
         "mode": "lines",
         "name": "wide_variable_0",
         "showlegend": true,
         "type": "scattergl",
         "x": [
          "2013-01-02",
          "2013-01-03",
          "2013-01-04",
          "2013-01-05",
          "2013-01-06",
          "2013-01-07",
          "2013-01-08",
          "2013-01-09",
          "2013-01-10",
          "2013-01-11",
          "2013-01-12",
          "2013-01-13",
          "2013-01-14",
          "2013-01-15",
          "2013-01-16",
          "2013-01-17",
          "2013-01-18",
          "2013-01-19",
          "2013-01-20",
          "2013-01-21",
          "2013-01-22",
          "2013-01-23",
          "2013-01-24",
          "2013-01-25",
          "2013-01-26",
          "2013-01-27",
          "2013-01-28",
          "2013-01-29",
          "2013-01-30",
          "2013-01-31",
          "2013-02-01",
          "2013-02-02",
          "2013-02-03",
          "2013-02-04",
          "2013-02-05",
          "2013-02-06",
          "2013-02-07",
          "2013-02-08",
          "2013-02-09",
          "2013-02-10",
          "2013-02-11",
          "2013-02-12",
          "2013-02-13",
          "2013-02-14",
          "2013-02-15",
          "2013-02-16",
          "2013-02-17",
          "2013-02-18",
          "2013-02-19",
          "2013-02-20",
          "2013-02-21",
          "2013-02-22",
          "2013-02-23",
          "2013-02-24",
          "2013-02-25",
          "2013-02-26",
          "2013-02-27",
          "2013-02-28",
          "2013-03-01",
          "2013-03-02",
          "2013-03-03",
          "2013-03-04",
          "2013-03-05",
          "2013-03-06",
          "2013-03-07",
          "2013-03-08",
          "2013-03-09",
          "2013-03-10",
          "2013-03-11",
          "2013-03-12",
          "2013-03-13",
          "2013-03-14",
          "2013-03-15",
          "2013-03-16",
          "2013-03-17",
          "2013-03-18",
          "2013-03-19",
          "2013-03-20",
          "2013-03-21",
          "2013-03-22",
          "2013-03-23",
          "2013-03-24",
          "2013-03-25",
          "2013-03-26",
          "2013-03-27",
          "2013-03-28",
          "2013-03-29",
          "2013-03-30",
          "2013-03-31",
          "2013-04-01",
          "2013-04-02",
          "2013-04-03",
          "2013-04-04",
          "2013-04-05",
          "2013-04-06",
          "2013-04-07",
          "2013-04-08",
          "2013-04-09",
          "2013-04-10",
          "2013-04-11",
          "2013-04-12",
          "2013-04-13",
          "2013-04-14",
          "2013-04-15",
          "2013-04-16",
          "2013-04-17",
          "2013-04-18",
          "2013-04-19",
          "2013-04-20",
          "2013-04-21",
          "2013-04-22",
          "2013-04-23",
          "2013-04-24",
          "2013-04-25",
          "2013-04-26",
          "2013-04-27",
          "2013-04-28",
          "2013-04-29",
          "2013-04-30",
          "2013-05-01",
          "2013-05-02",
          "2013-05-03",
          "2013-05-04",
          "2013-05-05",
          "2013-05-06",
          "2013-05-07",
          "2013-05-08",
          "2013-05-09",
          "2013-05-10",
          "2013-05-11",
          "2013-05-12",
          "2013-05-13",
          "2013-05-14",
          "2013-05-15",
          "2013-05-16",
          "2013-05-17",
          "2013-05-18",
          "2013-05-19",
          "2013-05-20",
          "2013-05-21",
          "2013-05-22",
          "2013-05-23",
          "2013-05-24",
          "2013-05-25",
          "2013-05-26",
          "2013-05-27",
          "2013-05-28",
          "2013-05-29",
          "2013-05-30",
          "2013-05-31",
          "2013-06-01",
          "2013-06-02",
          "2013-06-03",
          "2013-06-04",
          "2013-06-05",
          "2013-06-06",
          "2013-06-07",
          "2013-06-08",
          "2013-06-09",
          "2013-06-10",
          "2013-06-11",
          "2013-06-12",
          "2013-06-13",
          "2013-06-14",
          "2013-06-15",
          "2013-06-16",
          "2013-06-17",
          "2013-06-18",
          "2013-06-19",
          "2013-06-20",
          "2013-06-21",
          "2013-06-22",
          "2013-06-23",
          "2013-06-24",
          "2013-06-25",
          "2013-06-26",
          "2013-06-27",
          "2013-06-28",
          "2013-06-29",
          "2013-06-30",
          "2013-07-01",
          "2013-07-02",
          "2013-07-03",
          "2013-07-04",
          "2013-07-05",
          "2013-07-06",
          "2013-07-07",
          "2013-07-08",
          "2013-07-09",
          "2013-07-10",
          "2013-07-11",
          "2013-07-12",
          "2013-07-13",
          "2013-07-14",
          "2013-07-15",
          "2013-07-16",
          "2013-07-17",
          "2013-07-18",
          "2013-07-19",
          "2013-07-20",
          "2013-07-21",
          "2013-07-22",
          "2013-07-23",
          "2013-07-24",
          "2013-07-25",
          "2013-07-26",
          "2013-07-27",
          "2013-07-28",
          "2013-07-29",
          "2013-07-30",
          "2013-07-31",
          "2013-08-01",
          "2013-08-02",
          "2013-08-03",
          "2013-08-04",
          "2013-08-05",
          "2013-08-06",
          "2013-08-07",
          "2013-08-08",
          "2013-08-09",
          "2013-08-10",
          "2013-08-11",
          "2013-08-12",
          "2013-08-13",
          "2013-08-14",
          "2013-08-15",
          "2013-08-16",
          "2013-08-17",
          "2013-08-18",
          "2013-08-19",
          "2013-08-20",
          "2013-08-21",
          "2013-08-22",
          "2013-08-23",
          "2013-08-24",
          "2013-08-25",
          "2013-08-26",
          "2013-08-27",
          "2013-08-28",
          "2013-08-29",
          "2013-08-30",
          "2013-08-31",
          "2013-09-01",
          "2013-09-02",
          "2013-09-03",
          "2013-09-04",
          "2013-09-05",
          "2013-09-06",
          "2013-09-07",
          "2013-09-08",
          "2013-09-09",
          "2013-09-10",
          "2013-09-11",
          "2013-09-12",
          "2013-09-13",
          "2013-09-14",
          "2013-09-15",
          "2013-09-16",
          "2013-09-17",
          "2013-09-18",
          "2013-09-19",
          "2013-09-20",
          "2013-09-21",
          "2013-09-22",
          "2013-09-23",
          "2013-09-24",
          "2013-09-25",
          "2013-09-26",
          "2013-09-27",
          "2013-09-28",
          "2013-09-29",
          "2013-09-30",
          "2013-10-01",
          "2013-10-02",
          "2013-10-03",
          "2013-10-04",
          "2013-10-05",
          "2013-10-06",
          "2013-10-07",
          "2013-10-08",
          "2013-10-09",
          "2013-10-10",
          "2013-10-11",
          "2013-10-12",
          "2013-10-13",
          "2013-10-14",
          "2013-10-15",
          "2013-10-16",
          "2013-10-17",
          "2013-10-18",
          "2013-10-19",
          "2013-10-20",
          "2013-10-21",
          "2013-10-22",
          "2013-10-23",
          "2013-10-24",
          "2013-10-25",
          "2013-10-26",
          "2013-10-27",
          "2013-10-28",
          "2013-10-29",
          "2013-10-30",
          "2013-10-31",
          "2013-11-01",
          "2013-11-02",
          "2013-11-03",
          "2013-11-04",
          "2013-11-05",
          "2013-11-06",
          "2013-11-07",
          "2013-11-08",
          "2013-11-09",
          "2013-11-10",
          "2013-11-11",
          "2013-11-12",
          "2013-11-13",
          "2013-11-14",
          "2013-11-15",
          "2013-11-16",
          "2013-11-17",
          "2013-11-18",
          "2013-11-19",
          "2013-11-20",
          "2013-11-21",
          "2013-11-22",
          "2013-11-23",
          "2013-11-24",
          "2013-11-25",
          "2013-11-26",
          "2013-11-27",
          "2013-11-28",
          "2013-11-29",
          "2013-11-30",
          "2013-12-01",
          "2013-12-02",
          "2013-12-03",
          "2013-12-04",
          "2013-12-05",
          "2013-12-06",
          "2013-12-07",
          "2013-12-08",
          "2013-12-09",
          "2013-12-10",
          "2013-12-11",
          "2013-12-12",
          "2013-12-13",
          "2013-12-14",
          "2013-12-15",
          "2013-12-16",
          "2013-12-17",
          "2013-12-18",
          "2013-12-19",
          "2013-12-20",
          "2013-12-21",
          "2013-12-22",
          "2013-12-23",
          "2013-12-24",
          "2013-12-26",
          "2013-12-27",
          "2013-12-28",
          "2013-12-29",
          "2013-12-30",
          "2013-12-31",
          "2014-01-02",
          "2014-01-03",
          "2014-01-04",
          "2014-01-05",
          "2014-01-06",
          "2014-01-07",
          "2014-01-08",
          "2014-01-09",
          "2014-01-10",
          "2014-01-11",
          "2014-01-12",
          "2014-01-13",
          "2014-01-14",
          "2014-01-15",
          "2014-01-16",
          "2014-01-17",
          "2014-01-18",
          "2014-01-19",
          "2014-01-20",
          "2014-01-21",
          "2014-01-22",
          "2014-01-23",
          "2014-01-24",
          "2014-01-25",
          "2014-01-26",
          "2014-01-27",
          "2014-01-28",
          "2014-01-29",
          "2014-01-30",
          "2014-01-31",
          "2014-02-01",
          "2014-02-02",
          "2014-02-03",
          "2014-02-04",
          "2014-02-05",
          "2014-02-06",
          "2014-02-07",
          "2014-02-08",
          "2014-02-09",
          "2014-02-10",
          "2014-02-11",
          "2014-02-12",
          "2014-02-13",
          "2014-02-14",
          "2014-02-15",
          "2014-02-16",
          "2014-02-17",
          "2014-02-18",
          "2014-02-19",
          "2014-02-20",
          "2014-02-21",
          "2014-02-22",
          "2014-02-23",
          "2014-02-24",
          "2014-02-25",
          "2014-02-26",
          "2014-02-27",
          "2014-02-28",
          "2014-03-01",
          "2014-03-02",
          "2014-03-03",
          "2014-03-04",
          "2014-03-05",
          "2014-03-06",
          "2014-03-07",
          "2014-03-08",
          "2014-03-09",
          "2014-03-10",
          "2014-03-11",
          "2014-03-12",
          "2014-03-13",
          "2014-03-14",
          "2014-03-15",
          "2014-03-16",
          "2014-03-17",
          "2014-03-18",
          "2014-03-19",
          "2014-03-20",
          "2014-03-21",
          "2014-03-22",
          "2014-03-23",
          "2014-03-24",
          "2014-03-25",
          "2014-03-26",
          "2014-03-27",
          "2014-03-28",
          "2014-03-29",
          "2014-03-30",
          "2014-03-31",
          "2014-04-01",
          "2014-04-02",
          "2014-04-03",
          "2014-04-04",
          "2014-04-05",
          "2014-04-06",
          "2014-04-07",
          "2014-04-08",
          "2014-04-09",
          "2014-04-10",
          "2014-04-11",
          "2014-04-12",
          "2014-04-13",
          "2014-04-14",
          "2014-04-15",
          "2014-04-16",
          "2014-04-17",
          "2014-04-18",
          "2014-04-19",
          "2014-04-20",
          "2014-04-21",
          "2014-04-22",
          "2014-04-23",
          "2014-04-24",
          "2014-04-25",
          "2014-04-26",
          "2014-04-27",
          "2014-04-28",
          "2014-04-29",
          "2014-04-30",
          "2014-05-01",
          "2014-05-02",
          "2014-05-03",
          "2014-05-04",
          "2014-05-05",
          "2014-05-06",
          "2014-05-07",
          "2014-05-08",
          "2014-05-09",
          "2014-05-10",
          "2014-05-11",
          "2014-05-12",
          "2014-05-13",
          "2014-05-14",
          "2014-05-15",
          "2014-05-16",
          "2014-05-17",
          "2014-05-18",
          "2014-05-19",
          "2014-05-20",
          "2014-05-21",
          "2014-05-22",
          "2014-05-23",
          "2014-05-24",
          "2014-05-25",
          "2014-05-26",
          "2014-05-27",
          "2014-05-28",
          "2014-05-29",
          "2014-05-30",
          "2014-05-31",
          "2014-06-01",
          "2014-06-02",
          "2014-06-03",
          "2014-06-04",
          "2014-06-05",
          "2014-06-06",
          "2014-06-07",
          "2014-06-08",
          "2014-06-09",
          "2014-06-10",
          "2014-06-11",
          "2014-06-12",
          "2014-06-13",
          "2014-06-14",
          "2014-06-15",
          "2014-06-16",
          "2014-06-17",
          "2014-06-18",
          "2014-06-19",
          "2014-06-20",
          "2014-06-21",
          "2014-06-22",
          "2014-06-23",
          "2014-06-24",
          "2014-06-25",
          "2014-06-26",
          "2014-06-27",
          "2014-06-28",
          "2014-06-29",
          "2014-06-30",
          "2014-07-01",
          "2014-07-02",
          "2014-07-03",
          "2014-07-04",
          "2014-07-05",
          "2014-07-06",
          "2014-07-07",
          "2014-07-08",
          "2014-07-09",
          "2014-07-10",
          "2014-07-11",
          "2014-07-12",
          "2014-07-13",
          "2014-07-14",
          "2014-07-15",
          "2014-07-16",
          "2014-07-17",
          "2014-07-18",
          "2014-07-19",
          "2014-07-20",
          "2014-07-21",
          "2014-07-22",
          "2014-07-23",
          "2014-07-24",
          "2014-07-25",
          "2014-07-26",
          "2014-07-27",
          "2014-07-28",
          "2014-07-29",
          "2014-07-30",
          "2014-07-31",
          "2014-08-01",
          "2014-08-02",
          "2014-08-03",
          "2014-08-04",
          "2014-08-05",
          "2014-08-06",
          "2014-08-07",
          "2014-08-08",
          "2014-08-09",
          "2014-08-10",
          "2014-08-11",
          "2014-08-12",
          "2014-08-13",
          "2014-08-14",
          "2014-08-15",
          "2014-08-16",
          "2014-08-17",
          "2014-08-18",
          "2014-08-19",
          "2014-08-20",
          "2014-08-21",
          "2014-08-22",
          "2014-08-23",
          "2014-08-24",
          "2014-08-25",
          "2014-08-26",
          "2014-08-27",
          "2014-08-28",
          "2014-08-29",
          "2014-08-30",
          "2014-08-31",
          "2014-09-01",
          "2014-09-02",
          "2014-09-03",
          "2014-09-04",
          "2014-09-05",
          "2014-09-06",
          "2014-09-07",
          "2014-09-08",
          "2014-09-09",
          "2014-09-10",
          "2014-09-11",
          "2014-09-12",
          "2014-09-13",
          "2014-09-14",
          "2014-09-15",
          "2014-09-16",
          "2014-09-17",
          "2014-09-18",
          "2014-09-19",
          "2014-09-20",
          "2014-09-21",
          "2014-09-22",
          "2014-09-23",
          "2014-09-24",
          "2014-09-25",
          "2014-09-26",
          "2014-09-27",
          "2014-09-28",
          "2014-09-29",
          "2014-09-30",
          "2014-10-01",
          "2014-10-02",
          "2014-10-03",
          "2014-10-04",
          "2014-10-05",
          "2014-10-06",
          "2014-10-07",
          "2014-10-08",
          "2014-10-09",
          "2014-10-10",
          "2014-10-11",
          "2014-10-12",
          "2014-10-13",
          "2014-10-14",
          "2014-10-15",
          "2014-10-16",
          "2014-10-17",
          "2014-10-18",
          "2014-10-19",
          "2014-10-20",
          "2014-10-21",
          "2014-10-22",
          "2014-10-23",
          "2014-10-24",
          "2014-10-25",
          "2014-10-26",
          "2014-10-27",
          "2014-10-28",
          "2014-10-29",
          "2014-10-30",
          "2014-10-31",
          "2014-11-01",
          "2014-11-02",
          "2014-11-03",
          "2014-11-04",
          "2014-11-05",
          "2014-11-06",
          "2014-11-07",
          "2014-11-08",
          "2014-11-09",
          "2014-11-10",
          "2014-11-11",
          "2014-11-12",
          "2014-11-13",
          "2014-11-14",
          "2014-11-15",
          "2014-11-16",
          "2014-11-17",
          "2014-11-18",
          "2014-11-19",
          "2014-11-20",
          "2014-11-21",
          "2014-11-22",
          "2014-11-23",
          "2014-11-24",
          "2014-11-25",
          "2014-11-26",
          "2014-11-27",
          "2014-11-28",
          "2014-11-29",
          "2014-11-30",
          "2014-12-01",
          "2014-12-02",
          "2014-12-03",
          "2014-12-04",
          "2014-12-05",
          "2014-12-06",
          "2014-12-07",
          "2014-12-08",
          "2014-12-09",
          "2014-12-10",
          "2014-12-11",
          "2014-12-12",
          "2014-12-13",
          "2014-12-14",
          "2014-12-15",
          "2014-12-16",
          "2014-12-17",
          "2014-12-18",
          "2014-12-19",
          "2014-12-20",
          "2014-12-21",
          "2014-12-22",
          "2014-12-23",
          "2014-12-24",
          "2014-12-26",
          "2014-12-27",
          "2014-12-28",
          "2014-12-29",
          "2014-12-30",
          "2014-12-31",
          "2015-01-02",
          "2015-01-03",
          "2015-01-04",
          "2015-01-05",
          "2015-01-06",
          "2015-01-07",
          "2015-01-08",
          "2015-01-09",
          "2015-01-10",
          "2015-01-11",
          "2015-01-12",
          "2015-01-13",
          "2015-01-14",
          "2015-01-15",
          "2015-01-16",
          "2015-01-17",
          "2015-01-18",
          "2015-01-19",
          "2015-01-20",
          "2015-01-21",
          "2015-01-22",
          "2015-01-23",
          "2015-01-24",
          "2015-01-25",
          "2015-01-26",
          "2015-01-27",
          "2015-01-28",
          "2015-01-29",
          "2015-01-30",
          "2015-01-31",
          "2015-02-01",
          "2015-02-02",
          "2015-02-03",
          "2015-02-04",
          "2015-02-05",
          "2015-02-06",
          "2015-02-07",
          "2015-02-08",
          "2015-02-09",
          "2015-02-10",
          "2015-02-11",
          "2015-02-12",
          "2015-02-13",
          "2015-02-14",
          "2015-02-15",
          "2015-02-16",
          "2015-02-17",
          "2015-02-18",
          "2015-02-19",
          "2015-02-20",
          "2015-02-21",
          "2015-02-22",
          "2015-02-23",
          "2015-02-24",
          "2015-02-25",
          "2015-02-26",
          "2015-02-27",
          "2015-02-28",
          "2015-03-01",
          "2015-03-02",
          "2015-03-03",
          "2015-03-04",
          "2015-03-05",
          "2015-03-06",
          "2015-03-07",
          "2015-03-08",
          "2015-03-09",
          "2015-03-10",
          "2015-03-11",
          "2015-03-12",
          "2015-03-13",
          "2015-03-14",
          "2015-03-15",
          "2015-03-16",
          "2015-03-17",
          "2015-03-18",
          "2015-03-19",
          "2015-03-20",
          "2015-03-21",
          "2015-03-22",
          "2015-03-23",
          "2015-03-24",
          "2015-03-25",
          "2015-03-26",
          "2015-03-27",
          "2015-03-28",
          "2015-03-29",
          "2015-03-30",
          "2015-03-31",
          "2015-04-01",
          "2015-04-02",
          "2015-04-03",
          "2015-04-04",
          "2015-04-05",
          "2015-04-06",
          "2015-04-07",
          "2015-04-08",
          "2015-04-09",
          "2015-04-10",
          "2015-04-11",
          "2015-04-12",
          "2015-04-13",
          "2015-04-14",
          "2015-04-15",
          "2015-04-16",
          "2015-04-17",
          "2015-04-18",
          "2015-04-19",
          "2015-04-20",
          "2015-04-21",
          "2015-04-22",
          "2015-04-23",
          "2015-04-24",
          "2015-04-25",
          "2015-04-26",
          "2015-04-27",
          "2015-04-28",
          "2015-04-29",
          "2015-04-30",
          "2015-05-01",
          "2015-05-02",
          "2015-05-03",
          "2015-05-04",
          "2015-05-05",
          "2015-05-06",
          "2015-05-07",
          "2015-05-08",
          "2015-05-09",
          "2015-05-10",
          "2015-05-11",
          "2015-05-12",
          "2015-05-13",
          "2015-05-14",
          "2015-05-15",
          "2015-05-16",
          "2015-05-17",
          "2015-05-18",
          "2015-05-19",
          "2015-05-20",
          "2015-05-21",
          "2015-05-22",
          "2015-05-23",
          "2015-05-24",
          "2015-05-25",
          "2015-05-26",
          "2015-05-27",
          "2015-05-28",
          "2015-05-29",
          "2015-05-30",
          "2015-05-31",
          "2015-06-01",
          "2015-06-02",
          "2015-06-03",
          "2015-06-04",
          "2015-06-05",
          "2015-06-06",
          "2015-06-07",
          "2015-06-08",
          "2015-06-09",
          "2015-06-10",
          "2015-06-11",
          "2015-06-12",
          "2015-06-13",
          "2015-06-14",
          "2015-06-15",
          "2015-06-16",
          "2015-06-17",
          "2015-06-18",
          "2015-06-19",
          "2015-06-20",
          "2015-06-21",
          "2015-06-22",
          "2015-06-23",
          "2015-06-24",
          "2015-06-25",
          "2015-06-26",
          "2015-06-27",
          "2015-06-28",
          "2015-06-29",
          "2015-06-30",
          "2015-07-01",
          "2015-07-02",
          "2015-07-03",
          "2015-07-04",
          "2015-07-05",
          "2015-07-06",
          "2015-07-07",
          "2015-07-08",
          "2015-07-09",
          "2015-07-10",
          "2015-07-11",
          "2015-07-12",
          "2015-07-13",
          "2015-07-14",
          "2015-07-15",
          "2015-07-16",
          "2015-07-17",
          "2015-07-18",
          "2015-07-19",
          "2015-07-20",
          "2015-07-21",
          "2015-07-22",
          "2015-07-23",
          "2015-07-24",
          "2015-07-25",
          "2015-07-26",
          "2015-07-27",
          "2015-07-28",
          "2015-07-29",
          "2015-07-30",
          "2015-07-31",
          "2015-08-01",
          "2015-08-02",
          "2015-08-03",
          "2015-08-04",
          "2015-08-05",
          "2015-08-06",
          "2015-08-07",
          "2015-08-08",
          "2015-08-09",
          "2015-08-10",
          "2015-08-11",
          "2015-08-12",
          "2015-08-13",
          "2015-08-14",
          "2015-08-15",
          "2015-08-16",
          "2015-08-17",
          "2015-08-18",
          "2015-08-19",
          "2015-08-20",
          "2015-08-21",
          "2015-08-22",
          "2015-08-23",
          "2015-08-24",
          "2015-08-25",
          "2015-08-26",
          "2015-08-27",
          "2015-08-28",
          "2015-08-29",
          "2015-08-30",
          "2015-08-31",
          "2015-09-01",
          "2015-09-02",
          "2015-09-03",
          "2015-09-04",
          "2015-09-05",
          "2015-09-06",
          "2015-09-07",
          "2015-09-08",
          "2015-09-09",
          "2015-09-10",
          "2015-09-11",
          "2015-09-12",
          "2015-09-13",
          "2015-09-14",
          "2015-09-15",
          "2015-09-16",
          "2015-09-17",
          "2015-09-18",
          "2015-09-19",
          "2015-09-20",
          "2015-09-21",
          "2015-09-22",
          "2015-09-23",
          "2015-09-24",
          "2015-09-25",
          "2015-09-26",
          "2015-09-27",
          "2015-09-28",
          "2015-09-29",
          "2015-09-30",
          "2015-10-01",
          "2015-10-02",
          "2015-10-03",
          "2015-10-04",
          "2015-10-05",
          "2015-10-06",
          "2015-10-07",
          "2015-10-08",
          "2015-10-09",
          "2015-10-10",
          "2015-10-11",
          "2015-10-12",
          "2015-10-13",
          "2015-10-14",
          "2015-10-15",
          "2015-10-16",
          "2015-10-17",
          "2015-10-18",
          "2015-10-19",
          "2015-10-20",
          "2015-10-21",
          "2015-10-22",
          "2015-10-23",
          "2015-10-24",
          "2015-10-25",
          "2015-10-26",
          "2015-10-27",
          "2015-10-28",
          "2015-10-29",
          "2015-10-30",
          "2015-10-31",
          "2015-11-01",
          "2015-11-02",
          "2015-11-03",
          "2015-11-04",
          "2015-11-05",
          "2015-11-06",
          "2015-11-07",
          "2015-11-08",
          "2015-11-09",
          "2015-11-10",
          "2015-11-11",
          "2015-11-12",
          "2015-11-13",
          "2015-11-14",
          "2015-11-15",
          "2015-11-16",
          "2015-11-17",
          "2015-11-18",
          "2015-11-19",
          "2015-11-20",
          "2015-11-21",
          "2015-11-22",
          "2015-11-23",
          "2015-11-24",
          "2015-11-25",
          "2015-11-26",
          "2015-11-27",
          "2015-11-28",
          "2015-11-29",
          "2015-11-30",
          "2015-12-01",
          "2015-12-02",
          "2015-12-03",
          "2015-12-04",
          "2015-12-05",
          "2015-12-06",
          "2015-12-07",
          "2015-12-08",
          "2015-12-09",
          "2015-12-10",
          "2015-12-11",
          "2015-12-12",
          "2015-12-13",
          "2015-12-14",
          "2015-12-15",
          "2015-12-16",
          "2015-12-17",
          "2015-12-18",
          "2015-12-19",
          "2015-12-20",
          "2015-12-21",
          "2015-12-22",
          "2015-12-23",
          "2015-12-24",
          "2015-12-26",
          "2015-12-27",
          "2015-12-28",
          "2015-12-29",
          "2015-12-30",
          "2015-12-31",
          "2016-01-02",
          "2016-01-03",
          "2016-01-04",
          "2016-01-05",
          "2016-01-06",
          "2016-01-07",
          "2016-01-08",
          "2016-01-09",
          "2016-01-10",
          "2016-01-11",
          "2016-01-12",
          "2016-01-13",
          "2016-01-14",
          "2016-01-15",
          "2016-01-16",
          "2016-01-17",
          "2016-01-18",
          "2016-01-19",
          "2016-01-20",
          "2016-01-21",
          "2016-01-22",
          "2016-01-23",
          "2016-01-24",
          "2016-01-25",
          "2016-01-26",
          "2016-01-27",
          "2016-01-28",
          "2016-01-29",
          "2016-01-30",
          "2016-01-31",
          "2016-02-01",
          "2016-02-02",
          "2016-02-03",
          "2016-02-04",
          "2016-02-05",
          "2016-02-06",
          "2016-02-07",
          "2016-02-08",
          "2016-02-09",
          "2016-02-10",
          "2016-02-11",
          "2016-02-12",
          "2016-02-13",
          "2016-02-14",
          "2016-02-15",
          "2016-02-16",
          "2016-02-17",
          "2016-02-18",
          "2016-02-19",
          "2016-02-20",
          "2016-02-21",
          "2016-02-22",
          "2016-02-23",
          "2016-02-24",
          "2016-02-25",
          "2016-02-26",
          "2016-02-27",
          "2016-02-28",
          "2016-02-29",
          "2016-03-01",
          "2016-03-02",
          "2016-03-03",
          "2016-03-04",
          "2016-03-05",
          "2016-03-06",
          "2016-03-07",
          "2016-03-08",
          "2016-03-09",
          "2016-03-10",
          "2016-03-11",
          "2016-03-12",
          "2016-03-13",
          "2016-03-14",
          "2016-03-15",
          "2016-03-16",
          "2016-03-17",
          "2016-03-18",
          "2016-03-19",
          "2016-03-20",
          "2016-03-21",
          "2016-03-22",
          "2016-03-23",
          "2016-03-24",
          "2016-03-25",
          "2016-03-26",
          "2016-03-27",
          "2016-03-28",
          "2016-03-29",
          "2016-03-30",
          "2016-03-31",
          "2016-04-01",
          "2016-04-02",
          "2016-04-03",
          "2016-04-04",
          "2016-04-05",
          "2016-04-06",
          "2016-04-07",
          "2016-04-08",
          "2016-04-09",
          "2016-04-10",
          "2016-04-11",
          "2016-04-12",
          "2016-04-13",
          "2016-04-14",
          "2016-04-15",
          "2016-04-16",
          "2016-04-17",
          "2016-04-18",
          "2016-04-19",
          "2016-04-20",
          "2016-04-21",
          "2016-04-22",
          "2016-04-23",
          "2016-04-24",
          "2016-04-25",
          "2016-04-26",
          "2016-04-27",
          "2016-04-28",
          "2016-04-29",
          "2016-04-30",
          "2016-05-01",
          "2016-05-02",
          "2016-05-03",
          "2016-05-04",
          "2016-05-05",
          "2016-05-06",
          "2016-05-07",
          "2016-05-08",
          "2016-05-09",
          "2016-05-10",
          "2016-05-11",
          "2016-05-12",
          "2016-05-13",
          "2016-05-14",
          "2016-05-15",
          "2016-05-16",
          "2016-05-17",
          "2016-05-18",
          "2016-05-19",
          "2016-05-20",
          "2016-05-21",
          "2016-05-22",
          "2016-05-23",
          "2016-05-24",
          "2016-05-25",
          "2016-05-26",
          "2016-05-27",
          "2016-05-28",
          "2016-05-29",
          "2016-05-30",
          "2016-05-31",
          "2016-06-01",
          "2016-06-02",
          "2016-06-03",
          "2016-06-04",
          "2016-06-05",
          "2016-06-06",
          "2016-06-07",
          "2016-06-08",
          "2016-06-09",
          "2016-06-10",
          "2016-06-11",
          "2016-06-12",
          "2016-06-13",
          "2016-06-14",
          "2016-06-15",
          "2016-06-16",
          "2016-06-17",
          "2016-06-18",
          "2016-06-19",
          "2016-06-20",
          "2016-06-21",
          "2016-06-22",
          "2016-06-23",
          "2016-06-24",
          "2016-06-25",
          "2016-06-26",
          "2016-06-27",
          "2016-06-28",
          "2016-06-29",
          "2016-06-30",
          "2016-07-01",
          "2016-07-02",
          "2016-07-03",
          "2016-07-04",
          "2016-07-05",
          "2016-07-06",
          "2016-07-07",
          "2016-07-08",
          "2016-07-09",
          "2016-07-10",
          "2016-07-11",
          "2016-07-12",
          "2016-07-13",
          "2016-07-14",
          "2016-07-15",
          "2016-07-16",
          "2016-07-17",
          "2016-07-18",
          "2016-07-19",
          "2016-07-20",
          "2016-07-21",
          "2016-07-22",
          "2016-07-23",
          "2016-07-24",
          "2016-07-25",
          "2016-07-26",
          "2016-07-27",
          "2016-07-28",
          "2016-07-29",
          "2016-07-30",
          "2016-07-31",
          "2016-08-01",
          "2016-08-02",
          "2016-08-03",
          "2016-08-04",
          "2016-08-05",
          "2016-08-06",
          "2016-08-07",
          "2016-08-08",
          "2016-08-09",
          "2016-08-10",
          "2016-08-11",
          "2016-08-12",
          "2016-08-13",
          "2016-08-14",
          "2016-08-15"
         ],
         "xaxis": "x",
         "y": {
          "bdata": "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",
          "dtype": "f8"
         },
         "yaxis": "y"
        },
        {
         "hovertemplate": "variable=wide_variable_1<br>date=%{x}<br>units sold=%{y}<extra></extra>",
         "legendgroup": "wide_variable_1",
         "line": {
          "color": "#EF553B",
          "dash": "solid"
         },
         "marker": {
          "symbol": "circle"
         },
         "mode": "lines",
         "name": "wide_variable_1",
         "showlegend": true,
         "type": "scattergl",
         "x": [
          "2013-01-02",
          "2013-01-03",
          "2013-01-04",
          "2013-01-05",
          "2013-01-06",
          "2013-01-07",
          "2013-01-08",
          "2013-01-09",
          "2013-01-10",
          "2013-01-11",
          "2013-01-12",
          "2013-01-13",
          "2013-01-14",
          "2013-01-15",
          "2013-01-16",
          "2013-01-17",
          "2013-01-18",
          "2013-01-19",
          "2013-01-20",
          "2013-01-21",
          "2013-01-22",
          "2013-01-23",
          "2013-01-24",
          "2013-01-25",
          "2013-01-26",
          "2013-01-27",
          "2013-01-28",
          "2013-01-29",
          "2013-01-30",
          "2013-01-31",
          "2013-02-01",
          "2013-02-02",
          "2013-02-03",
          "2013-02-04",
          "2013-02-05",
          "2013-02-06",
          "2013-02-07",
          "2013-02-08",
          "2013-02-09",
          "2013-02-10",
          "2013-02-11",
          "2013-02-12",
          "2013-02-13",
          "2013-02-14",
          "2013-02-15",
          "2013-02-16",
          "2013-02-17",
          "2013-02-18",
          "2013-02-19",
          "2013-02-20",
          "2013-02-21",
          "2013-02-22",
          "2013-02-23",
          "2013-02-24",
          "2013-02-25",
          "2013-02-26",
          "2013-02-27",
          "2013-02-28",
          "2013-03-01",
          "2013-03-02",
          "2013-03-03",
          "2013-03-04",
          "2013-03-05",
          "2013-03-06",
          "2013-03-07",
          "2013-03-08",
          "2013-03-09",
          "2013-03-10",
          "2013-03-11",
          "2013-03-12",
          "2013-03-13",
          "2013-03-14",
          "2013-03-15",
          "2013-03-16",
          "2013-03-17",
          "2013-03-18",
          "2013-03-19",
          "2013-03-20",
          "2013-03-21",
          "2013-03-22",
          "2013-03-23",
          "2013-03-24",
          "2013-03-25",
          "2013-03-26",
          "2013-03-27",
          "2013-03-28",
          "2013-03-29",
          "2013-03-30",
          "2013-03-31",
          "2013-04-01",
          "2013-04-02",
          "2013-04-03",
          "2013-04-04",
          "2013-04-05",
          "2013-04-06",
          "2013-04-07",
          "2013-04-08",
          "2013-04-09",
          "2013-04-10",
          "2013-04-11",
          "2013-04-12",
          "2013-04-13",
          "2013-04-14",
          "2013-04-15",
          "2013-04-16",
          "2013-04-17",
          "2013-04-18",
          "2013-04-19",
          "2013-04-20",
          "2013-04-21",
          "2013-04-22",
          "2013-04-23",
          "2013-04-24",
          "2013-04-25",
          "2013-04-26",
          "2013-04-27",
          "2013-04-28",
          "2013-04-29",
          "2013-04-30",
          "2013-05-01",
          "2013-05-02",
          "2013-05-03",
          "2013-05-04",
          "2013-05-05",
          "2013-05-06",
          "2013-05-07",
          "2013-05-08",
          "2013-05-09",
          "2013-05-10",
          "2013-05-11",
          "2013-05-12",
          "2013-05-13",
          "2013-05-14",
          "2013-05-15",
          "2013-05-16",
          "2013-05-17",
          "2013-05-18",
          "2013-05-19",
          "2013-05-20",
          "2013-05-21",
          "2013-05-22",
          "2013-05-23",
          "2013-05-24",
          "2013-05-25",
          "2013-05-26",
          "2013-05-27",
          "2013-05-28",
          "2013-05-29",
          "2013-05-30",
          "2013-05-31",
          "2013-06-01",
          "2013-06-02",
          "2013-06-03",
          "2013-06-04",
          "2013-06-05",
          "2013-06-06",
          "2013-06-07",
          "2013-06-08",
          "2013-06-09",
          "2013-06-10",
          "2013-06-11",
          "2013-06-12",
          "2013-06-13",
          "2013-06-14",
          "2013-06-15",
          "2013-06-16",
          "2013-06-17",
          "2013-06-18",
          "2013-06-19",
          "2013-06-20",
          "2013-06-21",
          "2013-06-22",
          "2013-06-23",
          "2013-06-24",
          "2013-06-25",
          "2013-06-26",
          "2013-06-27",
          "2013-06-28",
          "2013-06-29",
          "2013-06-30",
          "2013-07-01",
          "2013-07-02",
          "2013-07-03",
          "2013-07-04",
          "2013-07-05",
          "2013-07-06",
          "2013-07-07",
          "2013-07-08",
          "2013-07-09",
          "2013-07-10",
          "2013-07-11",
          "2013-07-12",
          "2013-07-13",
          "2013-07-14",
          "2013-07-15",
          "2013-07-16",
          "2013-07-17",
          "2013-07-18",
          "2013-07-19",
          "2013-07-20",
          "2013-07-21",
          "2013-07-22",
          "2013-07-23",
          "2013-07-24",
          "2013-07-25",
          "2013-07-26",
          "2013-07-27",
          "2013-07-28",
          "2013-07-29",
          "2013-07-30",
          "2013-07-31",
          "2013-08-01",
          "2013-08-02",
          "2013-08-03",
          "2013-08-04",
          "2013-08-05",
          "2013-08-06",
          "2013-08-07",
          "2013-08-08",
          "2013-08-09",
          "2013-08-10",
          "2013-08-11",
          "2013-08-12",
          "2013-08-13",
          "2013-08-14",
          "2013-08-15",
          "2013-08-16",
          "2013-08-17",
          "2013-08-18",
          "2013-08-19",
          "2013-08-20",
          "2013-08-21",
          "2013-08-22",
          "2013-08-23",
          "2013-08-24",
          "2013-08-25",
          "2013-08-26",
          "2013-08-27",
          "2013-08-28",
          "2013-08-29",
          "2013-08-30",
          "2013-08-31",
          "2013-09-01",
          "2013-09-02",
          "2013-09-03",
          "2013-09-04",
          "2013-09-05",
          "2013-09-06",
          "2013-09-07",
          "2013-09-08",
          "2013-09-09",
          "2013-09-10",
          "2013-09-11",
          "2013-09-12",
          "2013-09-13",
          "2013-09-14",
          "2013-09-15",
          "2013-09-16",
          "2013-09-17",
          "2013-09-18",
          "2013-09-19",
          "2013-09-20",
          "2013-09-21",
          "2013-09-22",
          "2013-09-23",
          "2013-09-24",
          "2013-09-25",
          "2013-09-26",
          "2013-09-27",
          "2013-09-28",
          "2013-09-29",
          "2013-09-30",
          "2013-10-01",
          "2013-10-02",
          "2013-10-03",
          "2013-10-04",
          "2013-10-05",
          "2013-10-06",
          "2013-10-07",
          "2013-10-08",
          "2013-10-09",
          "2013-10-10",
          "2013-10-11",
          "2013-10-12",
          "2013-10-13",
          "2013-10-14",
          "2013-10-15",
          "2013-10-16",
          "2013-10-17",
          "2013-10-18",
          "2013-10-19",
          "2013-10-20",
          "2013-10-21",
          "2013-10-22",
          "2013-10-23",
          "2013-10-24",
          "2013-10-25",
          "2013-10-26",
          "2013-10-27",
          "2013-10-28",
          "2013-10-29",
          "2013-10-30",
          "2013-10-31",
          "2013-11-01",
          "2013-11-02",
          "2013-11-03",
          "2013-11-04",
          "2013-11-05",
          "2013-11-06",
          "2013-11-07",
          "2013-11-08",
          "2013-11-09",
          "2013-11-10",
          "2013-11-11",
          "2013-11-12",
          "2013-11-13",
          "2013-11-14",
          "2013-11-15",
          "2013-11-16",
          "2013-11-17",
          "2013-11-18",
          "2013-11-19",
          "2013-11-20",
          "2013-11-21",
          "2013-11-22",
          "2013-11-23",
          "2013-11-24",
          "2013-11-25",
          "2013-11-26",
          "2013-11-27",
          "2013-11-28",
          "2013-11-29",
          "2013-11-30",
          "2013-12-01",
          "2013-12-02",
          "2013-12-03",
          "2013-12-04",
          "2013-12-05",
          "2013-12-06",
          "2013-12-07",
          "2013-12-08",
          "2013-12-09",
          "2013-12-10",
          "2013-12-11",
          "2013-12-12",
          "2013-12-13",
          "2013-12-14",
          "2013-12-15",
          "2013-12-16",
          "2013-12-17",
          "2013-12-18",
          "2013-12-19",
          "2013-12-20",
          "2013-12-21",
          "2013-12-22",
          "2013-12-23",
          "2013-12-24",
          "2013-12-26",
          "2013-12-27",
          "2013-12-28",
          "2013-12-29",
          "2013-12-30",
          "2013-12-31",
          "2014-01-02",
          "2014-01-03",
          "2014-01-04",
          "2014-01-05",
          "2014-01-06",
          "2014-01-07",
          "2014-01-08",
          "2014-01-09",
          "2014-01-10",
          "2014-01-11",
          "2014-01-12",
          "2014-01-13",
          "2014-01-14",
          "2014-01-15",
          "2014-01-16",
          "2014-01-17",
          "2014-01-18",
          "2014-01-19",
          "2014-01-20",
          "2014-01-21",
          "2014-01-22",
          "2014-01-23",
          "2014-01-24",
          "2014-01-25",
          "2014-01-26",
          "2014-01-27",
          "2014-01-28",
          "2014-01-29",
          "2014-01-30",
          "2014-01-31",
          "2014-02-01",
          "2014-02-02",
          "2014-02-03",
          "2014-02-04",
          "2014-02-05",
          "2014-02-06",
          "2014-02-07",
          "2014-02-08",
          "2014-02-09",
          "2014-02-10",
          "2014-02-11",
          "2014-02-12",
          "2014-02-13",
          "2014-02-14",
          "2014-02-15",
          "2014-02-16",
          "2014-02-17",
          "2014-02-18",
          "2014-02-19",
          "2014-02-20",
          "2014-02-21",
          "2014-02-22",
          "2014-02-23",
          "2014-02-24",
          "2014-02-25",
          "2014-02-26",
          "2014-02-27",
          "2014-02-28",
          "2014-03-01",
          "2014-03-02",
          "2014-03-03",
          "2014-03-04",
          "2014-03-05",
          "2014-03-06",
          "2014-03-07",
          "2014-03-08",
          "2014-03-09",
          "2014-03-10",
          "2014-03-11",
          "2014-03-12",
          "2014-03-13",
          "2014-03-14",
          "2014-03-15",
          "2014-03-16",
          "2014-03-17",
          "2014-03-18",
          "2014-03-19",
          "2014-03-20",
          "2014-03-21",
          "2014-03-22",
          "2014-03-23",
          "2014-03-24",
          "2014-03-25",
          "2014-03-26",
          "2014-03-27",
          "2014-03-28",
          "2014-03-29",
          "2014-03-30",
          "2014-03-31",
          "2014-04-01",
          "2014-04-02",
          "2014-04-03",
          "2014-04-04",
          "2014-04-05",
          "2014-04-06",
          "2014-04-07",
          "2014-04-08",
          "2014-04-09",
          "2014-04-10",
          "2014-04-11",
          "2014-04-12",
          "2014-04-13",
          "2014-04-14",
          "2014-04-15",
          "2014-04-16",
          "2014-04-17",
          "2014-04-18",
          "2014-04-19",
          "2014-04-20",
          "2014-04-21",
          "2014-04-22",
          "2014-04-23",
          "2014-04-24",
          "2014-04-25",
          "2014-04-26",
          "2014-04-27",
          "2014-04-28",
          "2014-04-29",
          "2014-04-30",
          "2014-05-01",
          "2014-05-02",
          "2014-05-03",
          "2014-05-04",
          "2014-05-05",
          "2014-05-06",
          "2014-05-07",
          "2014-05-08",
          "2014-05-09",
          "2014-05-10",
          "2014-05-11",
          "2014-05-12",
          "2014-05-13",
          "2014-05-14",
          "2014-05-15",
          "2014-05-16",
          "2014-05-17",
          "2014-05-18",
          "2014-05-19",
          "2014-05-20",
          "2014-05-21",
          "2014-05-22",
          "2014-05-23",
          "2014-05-24",
          "2014-05-25",
          "2014-05-26",
          "2014-05-27",
          "2014-05-28",
          "2014-05-29",
          "2014-05-30",
          "2014-05-31",
          "2014-06-01",
          "2014-06-02",
          "2014-06-03",
          "2014-06-04",
          "2014-06-05",
          "2014-06-06",
          "2014-06-07",
          "2014-06-08",
          "2014-06-09",
          "2014-06-10",
          "2014-06-11",
          "2014-06-12",
          "2014-06-13",
          "2014-06-14",
          "2014-06-15",
          "2014-06-16",
          "2014-06-17",
          "2014-06-18",
          "2014-06-19",
          "2014-06-20",
          "2014-06-21",
          "2014-06-22",
          "2014-06-23",
          "2014-06-24",
          "2014-06-25",
          "2014-06-26",
          "2014-06-27",
          "2014-06-28",
          "2014-06-29",
          "2014-06-30",
          "2014-07-01",
          "2014-07-02",
          "2014-07-03",
          "2014-07-04",
          "2014-07-05",
          "2014-07-06",
          "2014-07-07",
          "2014-07-08",
          "2014-07-09",
          "2014-07-10",
          "2014-07-11",
          "2014-07-12",
          "2014-07-13",
          "2014-07-14",
          "2014-07-15",
          "2014-07-16",
          "2014-07-17",
          "2014-07-18",
          "2014-07-19",
          "2014-07-20",
          "2014-07-21",
          "2014-07-22",
          "2014-07-23",
          "2014-07-24",
          "2014-07-25",
          "2014-07-26",
          "2014-07-27",
          "2014-07-28",
          "2014-07-29",
          "2014-07-30",
          "2014-07-31",
          "2014-08-01",
          "2014-08-02",
          "2014-08-03",
          "2014-08-04",
          "2014-08-05",
          "2014-08-06",
          "2014-08-07",
          "2014-08-08",
          "2014-08-09",
          "2014-08-10",
          "2014-08-11",
          "2014-08-12",
          "2014-08-13",
          "2014-08-14",
          "2014-08-15",
          "2014-08-16",
          "2014-08-17",
          "2014-08-18",
          "2014-08-19",
          "2014-08-20",
          "2014-08-21",
          "2014-08-22",
          "2014-08-23",
          "2014-08-24",
          "2014-08-25",
          "2014-08-26",
          "2014-08-27",
          "2014-08-28",
          "2014-08-29",
          "2014-08-30",
          "2014-08-31",
          "2014-09-01",
          "2014-09-02",
          "2014-09-03",
          "2014-09-04",
          "2014-09-05",
          "2014-09-06",
          "2014-09-07",
          "2014-09-08",
          "2014-09-09",
          "2014-09-10",
          "2014-09-11",
          "2014-09-12",
          "2014-09-13",
          "2014-09-14",
          "2014-09-15",
          "2014-09-16",
          "2014-09-17",
          "2014-09-18",
          "2014-09-19",
          "2014-09-20",
          "2014-09-21",
          "2014-09-22",
          "2014-09-23",
          "2014-09-24",
          "2014-09-25",
          "2014-09-26",
          "2014-09-27",
          "2014-09-28",
          "2014-09-29",
          "2014-09-30",
          "2014-10-01",
          "2014-10-02",
          "2014-10-03",
          "2014-10-04",
          "2014-10-05",
          "2014-10-06",
          "2014-10-07",
          "2014-10-08",
          "2014-10-09",
          "2014-10-10",
          "2014-10-11",
          "2014-10-12",
          "2014-10-13",
          "2014-10-14",
          "2014-10-15",
          "2014-10-16",
          "2014-10-17",
          "2014-10-18",
          "2014-10-19",
          "2014-10-20",
          "2014-10-21",
          "2014-10-22",
          "2014-10-23",
          "2014-10-24",
          "2014-10-25",
          "2014-10-26",
          "2014-10-27",
          "2014-10-28",
          "2014-10-29",
          "2014-10-30",
          "2014-10-31",
          "2014-11-01",
          "2014-11-02",
          "2014-11-03",
          "2014-11-04",
          "2014-11-05",
          "2014-11-06",
          "2014-11-07",
          "2014-11-08",
          "2014-11-09",
          "2014-11-10",
          "2014-11-11",
          "2014-11-12",
          "2014-11-13",
          "2014-11-14",
          "2014-11-15",
          "2014-11-16",
          "2014-11-17",
          "2014-11-18",
          "2014-11-19",
          "2014-11-20",
          "2014-11-21",
          "2014-11-22",
          "2014-11-23",
          "2014-11-24",
          "2014-11-25",
          "2014-11-26",
          "2014-11-27",
          "2014-11-28",
          "2014-11-29",
          "2014-11-30",
          "2014-12-01",
          "2014-12-02",
          "2014-12-03",
          "2014-12-04",
          "2014-12-05",
          "2014-12-06",
          "2014-12-07",
          "2014-12-08",
          "2014-12-09",
          "2014-12-10",
          "2014-12-11",
          "2014-12-12",
          "2014-12-13",
          "2014-12-14",
          "2014-12-15",
          "2014-12-16",
          "2014-12-17",
          "2014-12-18",
          "2014-12-19",
          "2014-12-20",
          "2014-12-21",
          "2014-12-22",
          "2014-12-23",
          "2014-12-24",
          "2014-12-26",
          "2014-12-27",
          "2014-12-28",
          "2014-12-29",
          "2014-12-30",
          "2014-12-31",
          "2015-01-02",
          "2015-01-03",
          "2015-01-04",
          "2015-01-05",
          "2015-01-06",
          "2015-01-07",
          "2015-01-08",
          "2015-01-09",
          "2015-01-10",
          "2015-01-11",
          "2015-01-12",
          "2015-01-13",
          "2015-01-14",
          "2015-01-15",
          "2015-01-16",
          "2015-01-17",
          "2015-01-18",
          "2015-01-19",
          "2015-01-20",
          "2015-01-21",
          "2015-01-22",
          "2015-01-23",
          "2015-01-24",
          "2015-01-25",
          "2015-01-26",
          "2015-01-27",
          "2015-01-28",
          "2015-01-29",
          "2015-01-30",
          "2015-01-31",
          "2015-02-01",
          "2015-02-02",
          "2015-02-03",
          "2015-02-04",
          "2015-02-05",
          "2015-02-06",
          "2015-02-07",
          "2015-02-08",
          "2015-02-09",
          "2015-02-10",
          "2015-02-11",
          "2015-02-12",
          "2015-02-13",
          "2015-02-14",
          "2015-02-15",
          "2015-02-16",
          "2015-02-17",
          "2015-02-18",
          "2015-02-19",
          "2015-02-20",
          "2015-02-21",
          "2015-02-22",
          "2015-02-23",
          "2015-02-24",
          "2015-02-25",
          "2015-02-26",
          "2015-02-27",
          "2015-02-28",
          "2015-03-01",
          "2015-03-02",
          "2015-03-03",
          "2015-03-04",
          "2015-03-05",
          "2015-03-06",
          "2015-03-07",
          "2015-03-08",
          "2015-03-09",
          "2015-03-10",
          "2015-03-11",
          "2015-03-12",
          "2015-03-13",
          "2015-03-14",
          "2015-03-15",
          "2015-03-16",
          "2015-03-17",
          "2015-03-18",
          "2015-03-19",
          "2015-03-20",
          "2015-03-21",
          "2015-03-22",
          "2015-03-23",
          "2015-03-24",
          "2015-03-25",
          "2015-03-26",
          "2015-03-27",
          "2015-03-28",
          "2015-03-29",
          "2015-03-30",
          "2015-03-31",
          "2015-04-01",
          "2015-04-02",
          "2015-04-03",
          "2015-04-04",
          "2015-04-05",
          "2015-04-06",
          "2015-04-07",
          "2015-04-08",
          "2015-04-09",
          "2015-04-10",
          "2015-04-11",
          "2015-04-12",
          "2015-04-13",
          "2015-04-14",
          "2015-04-15",
          "2015-04-16",
          "2015-04-17",
          "2015-04-18",
          "2015-04-19",
          "2015-04-20",
          "2015-04-21",
          "2015-04-22",
          "2015-04-23",
          "2015-04-24",
          "2015-04-25",
          "2015-04-26",
          "2015-04-27",
          "2015-04-28",
          "2015-04-29",
          "2015-04-30",
          "2015-05-01",
          "2015-05-02",
          "2015-05-03",
          "2015-05-04",
          "2015-05-05",
          "2015-05-06",
          "2015-05-07",
          "2015-05-08",
          "2015-05-09",
          "2015-05-10",
          "2015-05-11",
          "2015-05-12",
          "2015-05-13",
          "2015-05-14",
          "2015-05-15",
          "2015-05-16",
          "2015-05-17",
          "2015-05-18",
          "2015-05-19",
          "2015-05-20",
          "2015-05-21",
          "2015-05-22",
          "2015-05-23",
          "2015-05-24",
          "2015-05-25",
          "2015-05-26",
          "2015-05-27",
          "2015-05-28",
          "2015-05-29",
          "2015-05-30",
          "2015-05-31",
          "2015-06-01",
          "2015-06-02",
          "2015-06-03",
          "2015-06-04",
          "2015-06-05",
          "2015-06-06",
          "2015-06-07",
          "2015-06-08",
          "2015-06-09",
          "2015-06-10",
          "2015-06-11",
          "2015-06-12",
          "2015-06-13",
          "2015-06-14",
          "2015-06-15",
          "2015-06-16",
          "2015-06-17",
          "2015-06-18",
          "2015-06-19",
          "2015-06-20",
          "2015-06-21",
          "2015-06-22",
          "2015-06-23",
          "2015-06-24",
          "2015-06-25",
          "2015-06-26",
          "2015-06-27",
          "2015-06-28",
          "2015-06-29",
          "2015-06-30",
          "2015-07-01",
          "2015-07-02",
          "2015-07-03",
          "2015-07-04",
          "2015-07-05",
          "2015-07-06",
          "2015-07-07",
          "2015-07-08",
          "2015-07-09",
          "2015-07-10",
          "2015-07-11",
          "2015-07-12",
          "2015-07-13",
          "2015-07-14",
          "2015-07-15",
          "2015-07-16",
          "2015-07-17",
          "2015-07-18",
          "2015-07-19",
          "2015-07-20",
          "2015-07-21",
          "2015-07-22",
          "2015-07-23",
          "2015-07-24",
          "2015-07-25",
          "2015-07-26",
          "2015-07-27",
          "2015-07-28",
          "2015-07-29",
          "2015-07-30",
          "2015-07-31",
          "2015-08-01",
          "2015-08-02",
          "2015-08-03",
          "2015-08-04",
          "2015-08-05",
          "2015-08-06",
          "2015-08-07",
          "2015-08-08",
          "2015-08-09",
          "2015-08-10",
          "2015-08-11",
          "2015-08-12",
          "2015-08-13",
          "2015-08-14",
          "2015-08-15",
          "2015-08-16",
          "2015-08-17",
          "2015-08-18",
          "2015-08-19",
          "2015-08-20",
          "2015-08-21",
          "2015-08-22",
          "2015-08-23",
          "2015-08-24",
          "2015-08-25",
          "2015-08-26",
          "2015-08-27",
          "2015-08-28",
          "2015-08-29",
          "2015-08-30",
          "2015-08-31",
          "2015-09-01",
          "2015-09-02",
          "2015-09-03",
          "2015-09-04",
          "2015-09-05",
          "2015-09-06",
          "2015-09-07",
          "2015-09-08",
          "2015-09-09",
          "2015-09-10",
          "2015-09-11",
          "2015-09-12",
          "2015-09-13",
          "2015-09-14",
          "2015-09-15",
          "2015-09-16",
          "2015-09-17",
          "2015-09-18",
          "2015-09-19",
          "2015-09-20",
          "2015-09-21",
          "2015-09-22",
          "2015-09-23",
          "2015-09-24",
          "2015-09-25",
          "2015-09-26",
          "2015-09-27",
          "2015-09-28",
          "2015-09-29",
          "2015-09-30",
          "2015-10-01",
          "2015-10-02",
          "2015-10-03",
          "2015-10-04",
          "2015-10-05",
          "2015-10-06",
          "2015-10-07",
          "2015-10-08",
          "2015-10-09",
          "2015-10-10",
          "2015-10-11",
          "2015-10-12",
          "2015-10-13",
          "2015-10-14",
          "2015-10-15",
          "2015-10-16",
          "2015-10-17",
          "2015-10-18",
          "2015-10-19",
          "2015-10-20",
          "2015-10-21",
          "2015-10-22",
          "2015-10-23",
          "2015-10-24",
          "2015-10-25",
          "2015-10-26",
          "2015-10-27",
          "2015-10-28",
          "2015-10-29",
          "2015-10-30",
          "2015-10-31",
          "2015-11-01",
          "2015-11-02",
          "2015-11-03",
          "2015-11-04",
          "2015-11-05",
          "2015-11-06",
          "2015-11-07",
          "2015-11-08",
          "2015-11-09",
          "2015-11-10",
          "2015-11-11",
          "2015-11-12",
          "2015-11-13",
          "2015-11-14",
          "2015-11-15",
          "2015-11-16",
          "2015-11-17",
          "2015-11-18",
          "2015-11-19",
          "2015-11-20",
          "2015-11-21",
          "2015-11-22",
          "2015-11-23",
          "2015-11-24",
          "2015-11-25",
          "2015-11-26",
          "2015-11-27",
          "2015-11-28",
          "2015-11-29",
          "2015-11-30",
          "2015-12-01",
          "2015-12-02",
          "2015-12-03",
          "2015-12-04",
          "2015-12-05",
          "2015-12-06",
          "2015-12-07",
          "2015-12-08",
          "2015-12-09",
          "2015-12-10",
          "2015-12-11",
          "2015-12-12",
          "2015-12-13",
          "2015-12-14",
          "2015-12-15",
          "2015-12-16",
          "2015-12-17",
          "2015-12-18",
          "2015-12-19",
          "2015-12-20",
          "2015-12-21",
          "2015-12-22",
          "2015-12-23",
          "2015-12-24",
          "2015-12-26",
          "2015-12-27",
          "2015-12-28",
          "2015-12-29",
          "2015-12-30",
          "2015-12-31",
          "2016-01-02",
          "2016-01-03",
          "2016-01-04",
          "2016-01-05",
          "2016-01-06",
          "2016-01-07",
          "2016-01-08",
          "2016-01-09",
          "2016-01-10",
          "2016-01-11",
          "2016-01-12",
          "2016-01-13",
          "2016-01-14",
          "2016-01-15",
          "2016-01-16",
          "2016-01-17",
          "2016-01-18",
          "2016-01-19",
          "2016-01-20",
          "2016-01-21",
          "2016-01-22",
          "2016-01-23",
          "2016-01-24",
          "2016-01-25",
          "2016-01-26",
          "2016-01-27",
          "2016-01-28",
          "2016-01-29",
          "2016-01-30",
          "2016-01-31",
          "2016-02-01",
          "2016-02-02",
          "2016-02-03",
          "2016-02-04",
          "2016-02-05",
          "2016-02-06",
          "2016-02-07",
          "2016-02-08",
          "2016-02-09",
          "2016-02-10",
          "2016-02-11",
          "2016-02-12",
          "2016-02-13",
          "2016-02-14",
          "2016-02-15",
          "2016-02-16",
          "2016-02-17",
          "2016-02-18",
          "2016-02-19",
          "2016-02-20",
          "2016-02-21",
          "2016-02-22",
          "2016-02-23",
          "2016-02-24",
          "2016-02-25",
          "2016-02-26",
          "2016-02-27",
          "2016-02-28",
          "2016-02-29",
          "2016-03-01",
          "2016-03-02",
          "2016-03-03",
          "2016-03-04",
          "2016-03-05",
          "2016-03-06",
          "2016-03-07",
          "2016-03-08",
          "2016-03-09",
          "2016-03-10",
          "2016-03-11",
          "2016-03-12",
          "2016-03-13",
          "2016-03-14",
          "2016-03-15",
          "2016-03-16",
          "2016-03-17",
          "2016-03-18",
          "2016-03-19",
          "2016-03-20",
          "2016-03-21",
          "2016-03-22",
          "2016-03-23",
          "2016-03-24",
          "2016-03-25",
          "2016-03-26",
          "2016-03-27",
          "2016-03-28",
          "2016-03-29",
          "2016-03-30",
          "2016-03-31",
          "2016-04-01",
          "2016-04-02",
          "2016-04-03",
          "2016-04-04",
          "2016-04-05",
          "2016-04-06",
          "2016-04-07",
          "2016-04-08",
          "2016-04-09",
          "2016-04-10",
          "2016-04-11",
          "2016-04-12",
          "2016-04-13",
          "2016-04-14",
          "2016-04-15",
          "2016-04-16",
          "2016-04-17",
          "2016-04-18",
          "2016-04-19",
          "2016-04-20",
          "2016-04-21",
          "2016-04-22",
          "2016-04-23",
          "2016-04-24",
          "2016-04-25",
          "2016-04-26",
          "2016-04-27",
          "2016-04-28",
          "2016-04-29",
          "2016-04-30",
          "2016-05-01",
          "2016-05-02",
          "2016-05-03",
          "2016-05-04",
          "2016-05-05",
          "2016-05-06",
          "2016-05-07",
          "2016-05-08",
          "2016-05-09",
          "2016-05-10",
          "2016-05-11",
          "2016-05-12",
          "2016-05-13",
          "2016-05-14",
          "2016-05-15",
          "2016-05-16",
          "2016-05-17",
          "2016-05-18",
          "2016-05-19",
          "2016-05-20",
          "2016-05-21",
          "2016-05-22",
          "2016-05-23",
          "2016-05-24",
          "2016-05-25",
          "2016-05-26",
          "2016-05-27",
          "2016-05-28",
          "2016-05-29",
          "2016-05-30",
          "2016-05-31",
          "2016-06-01",
          "2016-06-02",
          "2016-06-03",
          "2016-06-04",
          "2016-06-05",
          "2016-06-06",
          "2016-06-07",
          "2016-06-08",
          "2016-06-09",
          "2016-06-10",
          "2016-06-11",
          "2016-06-12",
          "2016-06-13",
          "2016-06-14",
          "2016-06-15",
          "2016-06-16",
          "2016-06-17",
          "2016-06-18",
          "2016-06-19",
          "2016-06-20",
          "2016-06-21",
          "2016-06-22",
          "2016-06-23",
          "2016-06-24",
          "2016-06-25",
          "2016-06-26",
          "2016-06-27",
          "2016-06-28",
          "2016-06-29",
          "2016-06-30",
          "2016-07-01",
          "2016-07-02",
          "2016-07-03",
          "2016-07-04",
          "2016-07-05",
          "2016-07-06",
          "2016-07-07",
          "2016-07-08",
          "2016-07-09",
          "2016-07-10",
          "2016-07-11",
          "2016-07-12",
          "2016-07-13",
          "2016-07-14",
          "2016-07-15",
          "2016-07-16",
          "2016-07-17",
          "2016-07-18",
          "2016-07-19",
          "2016-07-20",
          "2016-07-21",
          "2016-07-22",
          "2016-07-23",
          "2016-07-24",
          "2016-07-25",
          "2016-07-26",
          "2016-07-27",
          "2016-07-28",
          "2016-07-29",
          "2016-07-30",
          "2016-07-31",
          "2016-08-01",
          "2016-08-02",
          "2016-08-03",
          "2016-08-04",
          "2016-08-05",
          "2016-08-06",
          "2016-08-07",
          "2016-08-08",
          "2016-08-09",
          "2016-08-10",
          "2016-08-11",
          "2016-08-12",
          "2016-08-13",
          "2016-08-14",
          "2016-08-15"
         ],
         "xaxis": "x",
         "y": {
          "bdata": "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",
          "dtype": "f8"
         },
         "yaxis": "y"
        }
       ],
       "layout": {
        "legend": {
         "title": {
          "text": "variable"
         },
         "tracegroupgap": 0
        },
        "template": {
         "data": {
          "bar": [
           {
            "error_x": {
             "color": "#2a3f5f"
            },
            "error_y": {
             "color": "#2a3f5f"
            },
            "marker": {
             "line": {
              "color": "white",
              "width": 0.5
             },
             "pattern": {
              "fillmode": "overlay",
              "size": 10,
              "solidity": 0.2
             }
            },
            "type": "bar"
           }
          ],
          "barpolar": [
           {
            "marker": {
             "line": {
              "color": "white",
              "width": 0.5
             },
             "pattern": {
              "fillmode": "overlay",
              "size": 10,
              "solidity": 0.2
             }
            },
            "type": "barpolar"
           }
          ],
          "carpet": [
           {
            "aaxis": {
             "endlinecolor": "#2a3f5f",
             "gridcolor": "#C8D4E3",
             "linecolor": "#C8D4E3",
             "minorgridcolor": "#C8D4E3",
             "startlinecolor": "#2a3f5f"
            },
            "baxis": {
             "endlinecolor": "#2a3f5f",
             "gridcolor": "#C8D4E3",
             "linecolor": "#C8D4E3",
             "minorgridcolor": "#C8D4E3",
             "startlinecolor": "#2a3f5f"
            },
            "type": "carpet"
           }
          ],
          "choropleth": [
           {
            "colorbar": {
             "outlinewidth": 0,
             "ticks": ""
            },
            "type": "choropleth"
           }
          ],
          "contour": [
           {
            "colorbar": {
             "outlinewidth": 0,
             "ticks": ""
            },
            "colorscale": [
             [
              0,
              "#0d0887"
             ],
             [
              0.1111111111111111,
              "#46039f"
             ],
             [
              0.2222222222222222,
              "#7201a8"
             ],
             [
              0.3333333333333333,
              "#9c179e"
             ],
             [
              0.4444444444444444,
              "#bd3786"
             ],
             [
              0.5555555555555556,
              "#d8576b"
             ],
             [
              0.6666666666666666,
              "#ed7953"
             ],
             [
              0.7777777777777778,
              "#fb9f3a"
             ],
             [
              0.8888888888888888,
              "#fdca26"
             ],
             [
              1,
              "#f0f921"
             ]
            ],
            "type": "contour"
           }
          ],
          "contourcarpet": [
           {
            "colorbar": {
             "outlinewidth": 0,
             "ticks": ""
            },
            "type": "contourcarpet"
           }
          ],
          "heatmap": [
           {
            "colorbar": {
             "outlinewidth": 0,
             "ticks": ""
            },
            "colorscale": [
             [
              0,
              "#0d0887"
             ],
             [
              0.1111111111111111,
              "#46039f"
             ],
             [
              0.2222222222222222,
              "#7201a8"
             ],
             [
              0.3333333333333333,
              "#9c179e"
             ],
             [
              0.4444444444444444,
              "#bd3786"
             ],
             [
              0.5555555555555556,
              "#d8576b"
             ],
             [
              0.6666666666666666,
              "#ed7953"
             ],
             [
              0.7777777777777778,
              "#fb9f3a"
             ],
             [
              0.8888888888888888,
              "#fdca26"
             ],
             [
              1,
              "#f0f921"
             ]
            ],
            "type": "heatmap"
           }
          ],
          "histogram": [
           {
            "marker": {
             "pattern": {
              "fillmode": "overlay",
              "size": 10,
              "solidity": 0.2
             }
            },
            "type": "histogram"
           }
          ],
          "histogram2d": [
           {
            "colorbar": {
             "outlinewidth": 0,
             "ticks": ""
            },
            "colorscale": [
             [
              0,
              "#0d0887"
             ],
             [
              0.1111111111111111,
              "#46039f"
             ],
             [
              0.2222222222222222,
              "#7201a8"
             ],
             [
              0.3333333333333333,
              "#9c179e"
             ],
             [
              0.4444444444444444,
              "#bd3786"
             ],
             [
              0.5555555555555556,
              "#d8576b"
             ],
             [
              0.6666666666666666,
              "#ed7953"
             ],
             [
              0.7777777777777778,
              "#fb9f3a"
             ],
             [
              0.8888888888888888,
              "#fdca26"
             ],
             [
              1,
              "#f0f921"
             ]
            ],
            "type": "histogram2d"
           }
          ],
          "histogram2dcontour": [
           {
            "colorbar": {
             "outlinewidth": 0,
             "ticks": ""
            },
            "colorscale": [
             [
              0,
              "#0d0887"
             ],
             [
              0.1111111111111111,
              "#46039f"
             ],
             [
              0.2222222222222222,
              "#7201a8"
             ],
             [
              0.3333333333333333,
              "#9c179e"
             ],
             [
              0.4444444444444444,
              "#bd3786"
             ],
             [
              0.5555555555555556,
              "#d8576b"
             ],
             [
              0.6666666666666666,
              "#ed7953"
             ],
             [
              0.7777777777777778,
              "#fb9f3a"
             ],
             [
              0.8888888888888888,
              "#fdca26"
             ],
             [
              1,
              "#f0f921"
             ]
            ],
            "type": "histogram2dcontour"
           }
          ],
          "mesh3d": [
           {
            "colorbar": {
             "outlinewidth": 0,
             "ticks": ""
            },
            "type": "mesh3d"
           }
          ],
          "parcoords": [
           {
            "line": {
             "colorbar": {
              "outlinewidth": 0,
              "ticks": ""
             }
            },
            "type": "parcoords"
           }
          ],
          "pie": [
           {
            "automargin": true,
            "type": "pie"
           }
          ],
          "scatter": [
           {
            "fillpattern": {
             "fillmode": "overlay",
             "size": 10,
             "solidity": 0.2
            },
            "type": "scatter"
           }
          ],
          "scatter3d": [
           {
            "line": {
             "colorbar": {
              "outlinewidth": 0,
              "ticks": ""
             }
            },
            "marker": {
             "colorbar": {
              "outlinewidth": 0,
              "ticks": ""
             }
            },
            "type": "scatter3d"
           }
          ],
          "scattercarpet": [
           {
            "marker": {
             "colorbar": {
              "outlinewidth": 0,
              "ticks": ""
             }
            },
            "type": "scattercarpet"
           }
          ],
          "scattergeo": [
           {
            "marker": {
             "colorbar": {
              "outlinewidth": 0,
              "ticks": ""
             }
            },
            "type": "scattergeo"
           }
          ],
          "scattergl": [
           {
            "marker": {
             "colorbar": {
              "outlinewidth": 0,
              "ticks": ""
             }
            },
            "type": "scattergl"
           }
          ],
          "scattermap": [
           {
            "marker": {
             "colorbar": {
              "outlinewidth": 0,
              "ticks": ""
             }
            },
            "type": "scattermap"
           }
          ],
          "scattermapbox": [
           {
            "marker": {
             "colorbar": {
              "outlinewidth": 0,
              "ticks": ""
             }
            },
            "type": "scattermapbox"
           }
          ],
          "scatterpolar": [
           {
            "marker": {
             "colorbar": {
              "outlinewidth": 0,
              "ticks": ""
             }
            },
            "type": "scatterpolar"
           }
          ],
          "scatterpolargl": [
           {
            "marker": {
             "colorbar": {
              "outlinewidth": 0,
              "ticks": ""
             }
            },
            "type": "scatterpolargl"
           }
          ],
          "scatterternary": [
           {
            "marker": {
             "colorbar": {
              "outlinewidth": 0,
              "ticks": ""
             }
            },
            "type": "scatterternary"
           }
          ],
          "surface": [
           {
            "colorbar": {
             "outlinewidth": 0,
             "ticks": ""
            },
            "colorscale": [
             [
              0,
              "#0d0887"
             ],
             [
              0.1111111111111111,
              "#46039f"
             ],
             [
              0.2222222222222222,
              "#7201a8"
             ],
             [
              0.3333333333333333,
              "#9c179e"
             ],
             [
              0.4444444444444444,
              "#bd3786"
             ],
             [
              0.5555555555555556,
              "#d8576b"
             ],
             [
              0.6666666666666666,
              "#ed7953"
             ],
             [
              0.7777777777777778,
              "#fb9f3a"
             ],
             [
              0.8888888888888888,
              "#fdca26"
             ],
             [
              1,
              "#f0f921"
             ]
            ],
            "type": "surface"
           }
          ],
          "table": [
           {
            "cells": {
             "fill": {
              "color": "#EBF0F8"
             },
             "line": {
              "color": "white"
             }
            },
            "header": {
             "fill": {
              "color": "#C8D4E3"
             },
             "line": {
              "color": "white"
             }
            },
            "type": "table"
           }
          ]
         },
         "layout": {
          "annotationdefaults": {
           "arrowcolor": "#2a3f5f",
           "arrowhead": 0,
           "arrowwidth": 1
          },
          "autotypenumbers": "strict",
          "coloraxis": {
           "colorbar": {
            "outlinewidth": 0,
            "ticks": ""
           }
          },
          "colorscale": {
           "diverging": [
            [
             0,
             "#8e0152"
            ],
            [
             0.1,
             "#c51b7d"
            ],
            [
             0.2,
             "#de77ae"
            ],
            [
             0.3,
             "#f1b6da"
            ],
            [
             0.4,
             "#fde0ef"
            ],
            [
             0.5,
             "#f7f7f7"
            ],
            [
             0.6,
             "#e6f5d0"
            ],
            [
             0.7,
             "#b8e186"
            ],
            [
             0.8,
             "#7fbc41"
            ],
            [
             0.9,
             "#4d9221"
            ],
            [
             1,
             "#276419"
            ]
           ],
           "sequential": [
            [
             0,
             "#0d0887"
            ],
            [
             0.1111111111111111,
             "#46039f"
            ],
            [
             0.2222222222222222,
             "#7201a8"
            ],
            [
             0.3333333333333333,
             "#9c179e"
            ],
            [
             0.4444444444444444,
             "#bd3786"
            ],
            [
             0.5555555555555556,
             "#d8576b"
            ],
            [
             0.6666666666666666,
             "#ed7953"
            ],
            [
             0.7777777777777778,
             "#fb9f3a"
            ],
            [
             0.8888888888888888,
             "#fdca26"
            ],
            [
             1,
             "#f0f921"
            ]
           ],
           "sequentialminus": [
            [
             0,
             "#0d0887"
            ],
            [
             0.1111111111111111,
             "#46039f"
            ],
            [
             0.2222222222222222,
             "#7201a8"
            ],
            [
             0.3333333333333333,
             "#9c179e"
            ],
            [
             0.4444444444444444,
             "#bd3786"
            ],
            [
             0.5555555555555556,
             "#d8576b"
            ],
            [
             0.6666666666666666,
             "#ed7953"
            ],
            [
             0.7777777777777778,
             "#fb9f3a"
            ],
            [
             0.8888888888888888,
             "#fdca26"
            ],
            [
             1,
             "#f0f921"
            ]
           ]
          },
          "colorway": [
           "#636efa",
           "#EF553B",
           "#00cc96",
           "#ab63fa",
           "#FFA15A",
           "#19d3f3",
           "#FF6692",
           "#B6E880",
           "#FF97FF",
           "#FECB52"
          ],
          "font": {
           "color": "#2a3f5f"
          },
          "geo": {
           "bgcolor": "white",
           "lakecolor": "white",
           "landcolor": "white",
           "showlakes": true,
           "showland": true,
           "subunitcolor": "#C8D4E3"
          },
          "hoverlabel": {
           "align": "left"
          },
          "hovermode": "closest",
          "mapbox": {
           "style": "light"
          },
          "paper_bgcolor": "white",
          "plot_bgcolor": "white",
          "polar": {
           "angularaxis": {
            "gridcolor": "#EBF0F8",
            "linecolor": "#EBF0F8",
            "ticks": ""
           },
           "bgcolor": "white",
           "radialaxis": {
            "gridcolor": "#EBF0F8",
            "linecolor": "#EBF0F8",
            "ticks": ""
           }
          },
          "scene": {
           "xaxis": {
            "backgroundcolor": "white",
            "gridcolor": "#DFE8F3",
            "gridwidth": 2,
            "linecolor": "#EBF0F8",
            "showbackground": true,
            "ticks": "",
            "zerolinecolor": "#EBF0F8"
           },
           "yaxis": {
            "backgroundcolor": "white",
            "gridcolor": "#DFE8F3",
            "gridwidth": 2,
            "linecolor": "#EBF0F8",
            "showbackground": true,
            "ticks": "",
            "zerolinecolor": "#EBF0F8"
           },
           "zaxis": {
            "backgroundcolor": "white",
            "gridcolor": "#DFE8F3",
            "gridwidth": 2,
            "linecolor": "#EBF0F8",
            "showbackground": true,
            "ticks": "",
            "zerolinecolor": "#EBF0F8"
           }
          },
          "shapedefaults": {
           "line": {
            "color": "#2a3f5f"
           }
          },
          "ternary": {
           "aaxis": {
            "gridcolor": "#DFE8F3",
            "linecolor": "#A2B1C6",
            "ticks": ""
           },
           "baxis": {
            "gridcolor": "#DFE8F3",
            "linecolor": "#A2B1C6",
            "ticks": ""
           },
           "bgcolor": "white",
           "caxis": {
            "gridcolor": "#DFE8F3",
            "linecolor": "#A2B1C6",
            "ticks": ""
           }
          },
          "title": {
           "x": 0.05
          },
          "xaxis": {
           "automargin": true,
           "gridcolor": "#EBF0F8",
           "linecolor": "#EBF0F8",
           "ticks": "",
           "title": {
            "standoff": 15
           },
           "zerolinecolor": "#EBF0F8",
           "zerolinewidth": 2
          },
          "yaxis": {
           "automargin": true,
           "gridcolor": "#EBF0F8",
           "linecolor": "#EBF0F8",
           "ticks": "",
           "title": {
            "standoff": 15
           },
           "zerolinecolor": "#EBF0F8",
           "zerolinewidth": 2
          }
         }
        },
        "title": {
         "text": "product_id=1 | store_id=2"
        },
        "xaxis": {
         "anchor": "y",
         "domain": [
          0,
          1
         ],
         "title": {
          "text": "date"
         }
        },
        "yaxis": {
         "anchor": "x",
         "domain": [
          0,
          1
         ],
         "title": {
          "text": "units sold"
         }
        }
       }
      }
     },
     "metadata": {},
     "output_type": "display_data"
    }
   ],
   "source": [
    "plot_sales_forecast(x_train, y_train, c_train, p_train, 1, 2, \"log_units_sold\", 1)"
   ]
  },
  {
   "cell_type": "code",
   "execution_count": 40,
   "id": "280b9dc6",
   "metadata": {},
   "outputs": [
    {
     "data": {
      "text/html": [
       "<div><style>\n",
       ".dataframe > thead > tr,\n",
       ".dataframe > tbody > tr {\n",
       "  text-align: right;\n",
       "  white-space: pre-wrap;\n",
       "}\n",
       "</style>\n",
       "<small>shape: (71, 2)</small><table border=\"1\" class=\"dataframe\"><thead><tr><th>feature_name</th><th>h1</th></tr><tr><td>str</td><td>i32</td></tr></thead><tbody><tr><td>&quot;dayofyear&quot;</td><td>538</td></tr><tr><td>&quot;dayofweek&quot;</td><td>509</td></tr><tr><td>&quot;weekofyear&quot;</td><td>358</td></tr><tr><td>&quot;mean_28d_log_units_sold&quot;</td><td>334</td></tr><tr><td>&quot;ewm_7d_log_units_sold&quot;</td><td>201</td></tr><tr><td>&quot;dayofmonth&quot;</td><td>181</td></tr><tr><td>&quot;ewm_3d_log_units_sold&quot;</td><td>151</td></tr><tr><td>&quot;median_28d_log_units_sold&quot;</td><td>149</td></tr><tr><td>&quot;mean_14d_log_units_sold&quot;</td><td>136</td></tr><tr><td>&quot;product_id&quot;</td><td>115</td></tr><tr><td>&quot;h1_ewm_3y_log_units_sold&quot;</td><td>86</td></tr><tr><td>&quot;h7_ewm_3y_log_units_sold&quot;</td><td>78</td></tr><tr><td>&quot;log_units_sold&quot;</td><td>69</td></tr><tr><td>&quot;max_28d_log_units_sold&quot;</td><td>55</td></tr><tr><td>&quot;median_14d_log_units_sold&quot;</td><td>47</td></tr><tr><td>&quot;mean_21d_log_units_sold&quot;</td><td>38</td></tr><tr><td>&quot;diff_mean_3d_log_units_sold&quot;</td><td>35</td></tr><tr><td>&quot;product_group&quot;</td><td>32</td></tr><tr><td>&quot;mean_3d_log_units_sold&quot;</td><td>30</td></tr><tr><td>&quot;mean_7d_log_units_sold&quot;</td><td>29</td></tr><tr><td>&quot;diff_mean_14d_log_units_sold&quot;</td><td>25</td></tr><tr><td>&quot;h2_ewm_3y_log_units_sold&quot;</td><td>25</td></tr><tr><td>&quot;diff_mean_21d_log_units_sold&quot;</td><td>23</td></tr><tr><td>&quot;std_28d_log_units_sold&quot;</td><td>22</td></tr><tr><td>&quot;diff_mean_7d_log_units_sold&quot;</td><td>17</td></tr><tr><td>&quot;store_id&quot;</td><td>13</td></tr><tr><td>&quot;min_21d_log_units_sold&quot;</td><td>13</td></tr><tr><td>&quot;max_21d_log_units_sold&quot;</td><td>12</td></tr><tr><td>&quot;min_28d_log_units_sold&quot;</td><td>12</td></tr><tr><td>&quot;diff_mean_28d_log_units_sold&quot;</td><td>11</td></tr><tr><td>&hellip;</td><td>&hellip;</td></tr><tr><td>&quot;std_21d_log_units_sold&quot;</td><td>5</td></tr><tr><td>&quot;max_mean_ratio_21d_log_units_s…</td><td>5</td></tr><tr><td>&quot;next_5d_is_on_promo&quot;</td><td>4</td></tr><tr><td>&quot;std_7d_log_units_sold&quot;</td><td>4</td></tr><tr><td>&quot;max_7d_log_units_sold&quot;</td><td>4</td></tr><tr><td>&quot;h3_ewm_3y_log_units_sold&quot;</td><td>4</td></tr><tr><td>&quot;h5_ewm_3y_log_units_sold&quot;</td><td>4</td></tr><tr><td>&quot;median_7d_log_units_sold&quot;</td><td>3</td></tr><tr><td>&quot;min_3d_log_units_sold&quot;</td><td>2</td></tr><tr><td>&quot;max_mean_ratio_3d_log_units_so…</td><td>2</td></tr><tr><td>&quot;max_mean_ratio_7d_log_units_so…</td><td>2</td></tr><tr><td>&quot;min_14d_log_units_sold&quot;</td><td>2</td></tr><tr><td>&quot;ewm_14d_log_units_sold&quot;</td><td>2</td></tr><tr><td>&quot;h4_ewm_3y_log_units_sold&quot;</td><td>2</td></tr><tr><td>&quot;next_6d_is_on_promo&quot;</td><td>1</td></tr><tr><td>&quot;next_1d_event_id&quot;</td><td>0</td></tr><tr><td>&quot;next_2d_event_id&quot;</td><td>0</td></tr><tr><td>&quot;next_3d_event_id&quot;</td><td>0</td></tr><tr><td>&quot;next_4d_event_id&quot;</td><td>0</td></tr><tr><td>&quot;next_5d_event_id&quot;</td><td>0</td></tr><tr><td>&quot;next_6d_event_id&quot;</td><td>0</td></tr><tr><td>&quot;next_2d_is_on_promo&quot;</td><td>0</td></tr><tr><td>&quot;next_3d_is_on_promo&quot;</td><td>0</td></tr><tr><td>&quot;next_4d_is_on_promo&quot;</td><td>0</td></tr><tr><td>&quot;next_7d_is_on_promo&quot;</td><td>0</td></tr><tr><td>&quot;month&quot;</td><td>0</td></tr><tr><td>&quot;year&quot;</td><td>0</td></tr><tr><td>&quot;std_3d_log_units_sold&quot;</td><td>0</td></tr><tr><td>&quot;ewm_21d_log_units_sold&quot;</td><td>0</td></tr><tr><td>&quot;ewm_28d_log_units_sold&quot;</td><td>0</td></tr></tbody></table></div>"
      ],
      "text/plain": [
       "shape: (71, 2)\n",
       "┌─────────────────────────────────┬─────┐\n",
       "│ feature_name                    ┆ h1  │\n",
       "│ ---                             ┆ --- │\n",
       "│ str                             ┆ i32 │\n",
       "╞═════════════════════════════════╪═════╡\n",
       "│ dayofyear                       ┆ 538 │\n",
       "│ dayofweek                       ┆ 509 │\n",
       "│ weekofyear                      ┆ 358 │\n",
       "│ mean_28d_log_units_sold         ┆ 334 │\n",
       "│ ewm_7d_log_units_sold           ┆ 201 │\n",
       "│ dayofmonth                      ┆ 181 │\n",
       "│ ewm_3d_log_units_sold           ┆ 151 │\n",
       "│ median_28d_log_units_sold       ┆ 149 │\n",
       "│ mean_14d_log_units_sold         ┆ 136 │\n",
       "│ product_id                      ┆ 115 │\n",
       "│ h1_ewm_3y_log_units_sold        ┆ 86  │\n",
       "│ h7_ewm_3y_log_units_sold        ┆ 78  │\n",
       "│ log_units_sold                  ┆ 69  │\n",
       "│ max_28d_log_units_sold          ┆ 55  │\n",
       "│ median_14d_log_units_sold       ┆ 47  │\n",
       "│ mean_21d_log_units_sold         ┆ 38  │\n",
       "│ diff_mean_3d_log_units_sold     ┆ 35  │\n",
       "│ product_group                   ┆ 32  │\n",
       "│ mean_3d_log_units_sold          ┆ 30  │\n",
       "│ mean_7d_log_units_sold          ┆ 29  │\n",
       "│ diff_mean_14d_log_units_sold    ┆ 25  │\n",
       "│ h2_ewm_3y_log_units_sold        ┆ 25  │\n",
       "│ diff_mean_21d_log_units_sold    ┆ 23  │\n",
       "│ std_28d_log_units_sold          ┆ 22  │\n",
       "│ diff_mean_7d_log_units_sold     ┆ 17  │\n",
       "│ store_id                        ┆ 13  │\n",
       "│ min_21d_log_units_sold          ┆ 13  │\n",
       "│ max_21d_log_units_sold          ┆ 12  │\n",
       "│ min_28d_log_units_sold          ┆ 12  │\n",
       "│ diff_mean_28d_log_units_sold    ┆ 11  │\n",
       "│ …                               ┆ …   │\n",
       "│ std_21d_log_units_sold          ┆ 5   │\n",
       "│ max_mean_ratio_21d_log_units_s… ┆ 5   │\n",
       "│ next_5d_is_on_promo             ┆ 4   │\n",
       "│ std_7d_log_units_sold           ┆ 4   │\n",
       "│ max_7d_log_units_sold           ┆ 4   │\n",
       "│ h3_ewm_3y_log_units_sold        ┆ 4   │\n",
       "│ h5_ewm_3y_log_units_sold        ┆ 4   │\n",
       "│ median_7d_log_units_sold        ┆ 3   │\n",
       "│ min_3d_log_units_sold           ┆ 2   │\n",
       "│ max_mean_ratio_3d_log_units_so… ┆ 2   │\n",
       "│ max_mean_ratio_7d_log_units_so… ┆ 2   │\n",
       "│ min_14d_log_units_sold          ┆ 2   │\n",
       "│ ewm_14d_log_units_sold          ┆ 2   │\n",
       "│ h4_ewm_3y_log_units_sold        ┆ 2   │\n",
       "│ next_6d_is_on_promo             ┆ 1   │\n",
       "│ next_1d_event_id                ┆ 0   │\n",
       "│ next_2d_event_id                ┆ 0   │\n",
       "│ next_3d_event_id                ┆ 0   │\n",
       "│ next_4d_event_id                ┆ 0   │\n",
       "│ next_5d_event_id                ┆ 0   │\n",
       "│ next_6d_event_id                ┆ 0   │\n",
       "│ next_2d_is_on_promo             ┆ 0   │\n",
       "│ next_3d_is_on_promo             ┆ 0   │\n",
       "│ next_4d_is_on_promo             ┆ 0   │\n",
       "│ next_7d_is_on_promo             ┆ 0   │\n",
       "│ month                           ┆ 0   │\n",
       "│ year                            ┆ 0   │\n",
       "│ std_3d_log_units_sold           ┆ 0   │\n",
       "│ ewm_21d_log_units_sold          ┆ 0   │\n",
       "│ ewm_28d_log_units_sold          ┆ 0   │\n",
       "└─────────────────────────────────┴─────┘"
      ]
     },
     "execution_count": 40,
     "metadata": {},
     "output_type": "execute_result"
    }
   ],
   "source": [
    "importances_df.select(\n",
    "    pl.col(\"feature_name\"),\n",
    "    pl.col.h7_log_units_sold.alias(\"h1\"),\n",
    ").sort(\"h1\", descending=True)"
   ]
  },
  {
   "cell_type": "code",
   "execution_count": 28,
   "id": "05be3f1f",
   "metadata": {},
   "outputs": [
    {
     "data": {
      "text/plain": [
       "['../demand_prediction/demand_forecaster_20250717.pkl']"
      ]
     },
     "execution_count": 28,
     "metadata": {},
     "output_type": "execute_result"
    }
   ],
   "source": [
    "# save model with todays date\n",
    "from datetime import datetime\n",
    "import joblib\n",
    "joblib.dump(forecaster, f\"../demand_prediction/demand_forecaster_{datetime.now().strftime('%Y%m%d')}.pkl\")"
   ]
  },
  {
   "cell_type": "code",
   "execution_count": 86,
   "id": "42e1b79e",
   "metadata": {},
   "outputs": [
    {
     "data": {
      "application/vnd.plotly.v1+json": {
       "config": {
        "plotlyServerURL": "https://plot.ly"
       },
       "data": [
        {
         "lat": [
          -0.18876285785586663,
          -0.27163083765277934,
          -0.30421205149991803,
          -0.2405121435369437,
          -0.2996537534864276,
          -0.3234604530111714,
          -0.27849168817274433,
          -0.08396566401722372,
          -0.13905359564145664,
          -0.20517916260301633,
          -0.22520129297668467
         ],
         "lon": [
          -78.51363094389696,
          -78.53891111061955,
          -78.54096621059904,
          -78.524529890494,
          -78.48578502608005,
          -78.49425052229458,
          -78.52270672581136,
          -78.50741401444287,
          -78.46905793453739,
          -78.43217662590378,
          -78.49007088786165
         ],
         "marker": {
          "size": 14,
          "symbol": [
           "commercial",
           "commercial",
           "commercial",
           "commercial",
           "commercial",
           "industry",
           "industry",
           "industry",
           "industry",
           "industry",
           "industry"
          ]
         },
         "mode": "markers+text",
         "text": [
          "Bus",
          "Harbor",
          "airport"
         ],
         "textfont": {
          "color": "black",
          "size": 8,
          "weight": 100
         },
         "textposition": "bottom right",
         "type": "scattermap"
        }
       ],
       "layout": {
        "autosize": true,
        "map": {
         "bearing": -80,
         "center": {
          "lat": -0.19079953512165104,
          "lon": -78.481357106267
         },
         "pitch": 0,
         "zoom": 10.5
        },
        "showlegend": false,
        "template": {
         "data": {
          "bar": [
           {
            "error_x": {
             "color": "#2a3f5f"
            },
            "error_y": {
             "color": "#2a3f5f"
            },
            "marker": {
             "line": {
              "color": "#E5ECF6",
              "width": 0.5
             },
             "pattern": {
              "fillmode": "overlay",
              "size": 10,
              "solidity": 0.2
             }
            },
            "type": "bar"
           }
          ],
          "barpolar": [
           {
            "marker": {
             "line": {
              "color": "#E5ECF6",
              "width": 0.5
             },
             "pattern": {
              "fillmode": "overlay",
              "size": 10,
              "solidity": 0.2
             }
            },
            "type": "barpolar"
           }
          ],
          "carpet": [
           {
            "aaxis": {
             "endlinecolor": "#2a3f5f",
             "gridcolor": "white",
             "linecolor": "white",
             "minorgridcolor": "white",
             "startlinecolor": "#2a3f5f"
            },
            "baxis": {
             "endlinecolor": "#2a3f5f",
             "gridcolor": "white",
             "linecolor": "white",
             "minorgridcolor": "white",
             "startlinecolor": "#2a3f5f"
            },
            "type": "carpet"
           }
          ],
          "choropleth": [
           {
            "colorbar": {
             "outlinewidth": 0,
             "ticks": ""
            },
            "type": "choropleth"
           }
          ],
          "contour": [
           {
            "colorbar": {
             "outlinewidth": 0,
             "ticks": ""
            },
            "colorscale": [
             [
              0,
              "#0d0887"
             ],
             [
              0.1111111111111111,
              "#46039f"
             ],
             [
              0.2222222222222222,
              "#7201a8"
             ],
             [
              0.3333333333333333,
              "#9c179e"
             ],
             [
              0.4444444444444444,
              "#bd3786"
             ],
             [
              0.5555555555555556,
              "#d8576b"
             ],
             [
              0.6666666666666666,
              "#ed7953"
             ],
             [
              0.7777777777777778,
              "#fb9f3a"
             ],
             [
              0.8888888888888888,
              "#fdca26"
             ],
             [
              1,
              "#f0f921"
             ]
            ],
            "type": "contour"
           }
          ],
          "contourcarpet": [
           {
            "colorbar": {
             "outlinewidth": 0,
             "ticks": ""
            },
            "type": "contourcarpet"
           }
          ],
          "heatmap": [
           {
            "colorbar": {
             "outlinewidth": 0,
             "ticks": ""
            },
            "colorscale": [
             [
              0,
              "#0d0887"
             ],
             [
              0.1111111111111111,
              "#46039f"
             ],
             [
              0.2222222222222222,
              "#7201a8"
             ],
             [
              0.3333333333333333,
              "#9c179e"
             ],
             [
              0.4444444444444444,
              "#bd3786"
             ],
             [
              0.5555555555555556,
              "#d8576b"
             ],
             [
              0.6666666666666666,
              "#ed7953"
             ],
             [
              0.7777777777777778,
              "#fb9f3a"
             ],
             [
              0.8888888888888888,
              "#fdca26"
             ],
             [
              1,
              "#f0f921"
             ]
            ],
            "type": "heatmap"
           }
          ],
          "histogram": [
           {
            "marker": {
             "pattern": {
              "fillmode": "overlay",
              "size": 10,
              "solidity": 0.2
             }
            },
            "type": "histogram"
           }
          ],
          "histogram2d": [
           {
            "colorbar": {
             "outlinewidth": 0,
             "ticks": ""
            },
            "colorscale": [
             [
              0,
              "#0d0887"
             ],
             [
              0.1111111111111111,
              "#46039f"
             ],
             [
              0.2222222222222222,
              "#7201a8"
             ],
             [
              0.3333333333333333,
              "#9c179e"
             ],
             [
              0.4444444444444444,
              "#bd3786"
             ],
             [
              0.5555555555555556,
              "#d8576b"
             ],
             [
              0.6666666666666666,
              "#ed7953"
             ],
             [
              0.7777777777777778,
              "#fb9f3a"
             ],
             [
              0.8888888888888888,
              "#fdca26"
             ],
             [
              1,
              "#f0f921"
             ]
            ],
            "type": "histogram2d"
           }
          ],
          "histogram2dcontour": [
           {
            "colorbar": {
             "outlinewidth": 0,
             "ticks": ""
            },
            "colorscale": [
             [
              0,
              "#0d0887"
             ],
             [
              0.1111111111111111,
              "#46039f"
             ],
             [
              0.2222222222222222,
              "#7201a8"
             ],
             [
              0.3333333333333333,
              "#9c179e"
             ],
             [
              0.4444444444444444,
              "#bd3786"
             ],
             [
              0.5555555555555556,
              "#d8576b"
             ],
             [
              0.6666666666666666,
              "#ed7953"
             ],
             [
              0.7777777777777778,
              "#fb9f3a"
             ],
             [
              0.8888888888888888,
              "#fdca26"
             ],
             [
              1,
              "#f0f921"
             ]
            ],
            "type": "histogram2dcontour"
           }
          ],
          "mesh3d": [
           {
            "colorbar": {
             "outlinewidth": 0,
             "ticks": ""
            },
            "type": "mesh3d"
           }
          ],
          "parcoords": [
           {
            "line": {
             "colorbar": {
              "outlinewidth": 0,
              "ticks": ""
             }
            },
            "type": "parcoords"
           }
          ],
          "pie": [
           {
            "automargin": true,
            "type": "pie"
           }
          ],
          "scatter": [
           {
            "fillpattern": {
             "fillmode": "overlay",
             "size": 10,
             "solidity": 0.2
            },
            "type": "scatter"
           }
          ],
          "scatter3d": [
           {
            "line": {
             "colorbar": {
              "outlinewidth": 0,
              "ticks": ""
             }
            },
            "marker": {
             "colorbar": {
              "outlinewidth": 0,
              "ticks": ""
             }
            },
            "type": "scatter3d"
           }
          ],
          "scattercarpet": [
           {
            "marker": {
             "colorbar": {
              "outlinewidth": 0,
              "ticks": ""
             }
            },
            "type": "scattercarpet"
           }
          ],
          "scattergeo": [
           {
            "marker": {
             "colorbar": {
              "outlinewidth": 0,
              "ticks": ""
             }
            },
            "type": "scattergeo"
           }
          ],
          "scattergl": [
           {
            "marker": {
             "colorbar": {
              "outlinewidth": 0,
              "ticks": ""
             }
            },
            "type": "scattergl"
           }
          ],
          "scattermap": [
           {
            "marker": {
             "colorbar": {
              "outlinewidth": 0,
              "ticks": ""
             }
            },
            "type": "scattermap"
           }
          ],
          "scattermapbox": [
           {
            "marker": {
             "colorbar": {
              "outlinewidth": 0,
              "ticks": ""
             }
            },
            "type": "scattermapbox"
           }
          ],
          "scatterpolar": [
           {
            "marker": {
             "colorbar": {
              "outlinewidth": 0,
              "ticks": ""
             }
            },
            "type": "scatterpolar"
           }
          ],
          "scatterpolargl": [
           {
            "marker": {
             "colorbar": {
              "outlinewidth": 0,
              "ticks": ""
             }
            },
            "type": "scatterpolargl"
           }
          ],
          "scatterternary": [
           {
            "marker": {
             "colorbar": {
              "outlinewidth": 0,
              "ticks": ""
             }
            },
            "type": "scatterternary"
           }
          ],
          "surface": [
           {
            "colorbar": {
             "outlinewidth": 0,
             "ticks": ""
            },
            "colorscale": [
             [
              0,
              "#0d0887"
             ],
             [
              0.1111111111111111,
              "#46039f"
             ],
             [
              0.2222222222222222,
              "#7201a8"
             ],
             [
              0.3333333333333333,
              "#9c179e"
             ],
             [
              0.4444444444444444,
              "#bd3786"
             ],
             [
              0.5555555555555556,
              "#d8576b"
             ],
             [
              0.6666666666666666,
              "#ed7953"
             ],
             [
              0.7777777777777778,
              "#fb9f3a"
             ],
             [
              0.8888888888888888,
              "#fdca26"
             ],
             [
              1,
              "#f0f921"
             ]
            ],
            "type": "surface"
           }
          ],
          "table": [
           {
            "cells": {
             "fill": {
              "color": "#EBF0F8"
             },
             "line": {
              "color": "white"
             }
            },
            "header": {
             "fill": {
              "color": "#C8D4E3"
             },
             "line": {
              "color": "white"
             }
            },
            "type": "table"
           }
          ]
         },
         "layout": {
          "annotationdefaults": {
           "arrowcolor": "#2a3f5f",
           "arrowhead": 0,
           "arrowwidth": 1
          },
          "autotypenumbers": "strict",
          "coloraxis": {
           "colorbar": {
            "outlinewidth": 0,
            "ticks": ""
           }
          },
          "colorscale": {
           "diverging": [
            [
             0,
             "#8e0152"
            ],
            [
             0.1,
             "#c51b7d"
            ],
            [
             0.2,
             "#de77ae"
            ],
            [
             0.3,
             "#f1b6da"
            ],
            [
             0.4,
             "#fde0ef"
            ],
            [
             0.5,
             "#f7f7f7"
            ],
            [
             0.6,
             "#e6f5d0"
            ],
            [
             0.7,
             "#b8e186"
            ],
            [
             0.8,
             "#7fbc41"
            ],
            [
             0.9,
             "#4d9221"
            ],
            [
             1,
             "#276419"
            ]
           ],
           "sequential": [
            [
             0,
             "#0d0887"
            ],
            [
             0.1111111111111111,
             "#46039f"
            ],
            [
             0.2222222222222222,
             "#7201a8"
            ],
            [
             0.3333333333333333,
             "#9c179e"
            ],
            [
             0.4444444444444444,
             "#bd3786"
            ],
            [
             0.5555555555555556,
             "#d8576b"
            ],
            [
             0.6666666666666666,
             "#ed7953"
            ],
            [
             0.7777777777777778,
             "#fb9f3a"
            ],
            [
             0.8888888888888888,
             "#fdca26"
            ],
            [
             1,
             "#f0f921"
            ]
           ],
           "sequentialminus": [
            [
             0,
             "#0d0887"
            ],
            [
             0.1111111111111111,
             "#46039f"
            ],
            [
             0.2222222222222222,
             "#7201a8"
            ],
            [
             0.3333333333333333,
             "#9c179e"
            ],
            [
             0.4444444444444444,
             "#bd3786"
            ],
            [
             0.5555555555555556,
             "#d8576b"
            ],
            [
             0.6666666666666666,
             "#ed7953"
            ],
            [
             0.7777777777777778,
             "#fb9f3a"
            ],
            [
             0.8888888888888888,
             "#fdca26"
            ],
            [
             1,
             "#f0f921"
            ]
           ]
          },
          "colorway": [
           "#636efa",
           "#EF553B",
           "#00cc96",
           "#ab63fa",
           "#FFA15A",
           "#19d3f3",
           "#FF6692",
           "#B6E880",
           "#FF97FF",
           "#FECB52"
          ],
          "font": {
           "color": "#2a3f5f"
          },
          "geo": {
           "bgcolor": "white",
           "lakecolor": "white",
           "landcolor": "#E5ECF6",
           "showlakes": true,
           "showland": true,
           "subunitcolor": "white"
          },
          "hoverlabel": {
           "align": "left"
          },
          "hovermode": "closest",
          "mapbox": {
           "style": "light"
          },
          "paper_bgcolor": "white",
          "plot_bgcolor": "#E5ECF6",
          "polar": {
           "angularaxis": {
            "gridcolor": "white",
            "linecolor": "white",
            "ticks": ""
           },
           "bgcolor": "#E5ECF6",
           "radialaxis": {
            "gridcolor": "white",
            "linecolor": "white",
            "ticks": ""
           }
          },
          "scene": {
           "xaxis": {
            "backgroundcolor": "#E5ECF6",
            "gridcolor": "white",
            "gridwidth": 2,
            "linecolor": "white",
            "showbackground": true,
            "ticks": "",
            "zerolinecolor": "white"
           },
           "yaxis": {
            "backgroundcolor": "#E5ECF6",
            "gridcolor": "white",
            "gridwidth": 2,
            "linecolor": "white",
            "showbackground": true,
            "ticks": "",
            "zerolinecolor": "white"
           },
           "zaxis": {
            "backgroundcolor": "#E5ECF6",
            "gridcolor": "white",
            "gridwidth": 2,
            "linecolor": "white",
            "showbackground": true,
            "ticks": "",
            "zerolinecolor": "white"
           }
          },
          "shapedefaults": {
           "line": {
            "color": "#2a3f5f"
           }
          },
          "ternary": {
           "aaxis": {
            "gridcolor": "white",
            "linecolor": "white",
            "ticks": ""
           },
           "baxis": {
            "gridcolor": "white",
            "linecolor": "white",
            "ticks": ""
           },
           "bgcolor": "#E5ECF6",
           "caxis": {
            "gridcolor": "white",
            "linecolor": "white",
            "ticks": ""
           }
          },
          "title": {
           "x": 0.05
          },
          "xaxis": {
           "automargin": true,
           "gridcolor": "white",
           "linecolor": "white",
           "ticks": "",
           "title": {
            "standoff": 15
           },
           "zerolinecolor": "white",
           "zerolinewidth": 2
          },
          "yaxis": {
           "automargin": true,
           "gridcolor": "white",
           "linecolor": "white",
           "ticks": "",
           "title": {
            "standoff": 15
           },
           "zerolinecolor": "white",
           "zerolinewidth": 2
          }
         }
        },
        "title": {
         "text": "Nuclear Waste Sites on Campus"
        }
       }
      }
     },
     "metadata": {},
     "output_type": "display_data"
    }
   ],
   "source": [
    "import plotly.graph_objects as go\n",
    "\n",
    "stores = [\n",
    "    (-0.18876285785586663, -78.51363094389696),\n",
    "    (-0.27163083765277934, -78.53891111061955),\n",
    "    (-0.30421205149991803, -78.54096621059904),\n",
    "    # (-0.3059071837532822, -78.551673589868),\n",
    "    (-0.2405121435369437, -78.524529890494),\n",
    "    (-0.2996537534864276, -78.48578502608005),\n",
    "]\n",
    "\n",
    "workshops = [\n",
    "    (-0.3234604530111714, -78.49425052229458),\n",
    "    # (-0.3045530623630387, -78.46982632206792),\n",
    "    (-0.27849168817274433, -78.52270672581136),\n",
    "    # (-0.29468642829993047, -78.48558770305867),\n",
    "    (-0.08396566401722372, -78.50741401444287),\n",
    "    (-0.13905359564145664, -78.46905793453739),\n",
    "    (-0.20517916260301633, -78.43217662590378),\n",
    "    (-0.22520129297668467, -78.49007088786165)\n",
    "]\n",
    "\n",
    "store_latitudes = [store[0] for store in stores]\n",
    "store_longitudes = [store[1] for store in stores]\n",
    "workshop_latitudes = [workshop[0] for workshop in workshops]\n",
    "workshop_longitudes = [workshop[1] for workshop in workshops]\n",
    "# 25.56168367447657, -103.49397899075461\n",
    "# 25.578001288335397, -103.39173110558576\n",
    "# 25.612244741529203, -103.39757596689567\n",
    "# 25.534546490556515, -103.4176698981004\n",
    "\n",
    "# 19.44663516973258, -99.20680859489939\n",
    "# 19.42904079345824, -99.1416591829526\n",
    "# 19.424714015472688, -99.15787006949334\n",
    "# 19.386921926074262, -99.13278907522275\n",
    "# 19.34825529138672, -99.16674017722318\n",
    "\n",
    "fig = go.Figure(go.Scattermap(\n",
    "    mode = \"markers+text\",\n",
    "    # 25.561781422559218, -103.43062899263603\n",
    "    lat = store_latitudes+workshop_latitudes, #[25.561781422559218, 25.534546490556515, 25.612244741529203, 25.578001288335397],\n",
    "    lon = store_longitudes+workshop_longitudes,#[-103.43062899263603, -103.4176698981004, -103.39757596689567, -103.39173110558576], \n",
    "    marker = dict(size=14, symbol=[\"commercial\"] * len(stores) + [\"industry\"] * len(workshops)),\n",
    "    text = [\"Bus\", \"Harbor\", \"airport\"], textposition = \"bottom right\",\n",
    "    textfont = dict(size=8, color=\"black\", weight=100)\n",
    "    ))\n",
    "\n",
    "# 25.560655745859822, -103.45157344672441\n",
    "# 19.395106657297603, -99.12075148945637\n",
    "-0.19079953512165104, -78.481357106267\n",
    "center = dict(\n",
    "    lat=-0.19079953512165104,\n",
    "    lon=-78.481357106267\n",
    ")\n",
    "fig.update_layout(\n",
    "    title=dict(text='Nuclear Waste Sites on Campus'),\n",
    "    autosize=True,\n",
    "    # hovermode='closest',\n",
    "    map = dict(\n",
    "        bearing=-80,\n",
    "        center=center,\n",
    "        pitch=0,\n",
    "        # zoom=10\n",
    "        # style=\"light\",\n",
    "        zoom=10.5\n",
    "        ),\n",
    "    showlegend = False,)\n",
    "\n",
    "fig.show()"
   ]
  },
  {
   "cell_type": "code",
   "execution_count": 1,
   "id": "1bab35f5",
   "metadata": {},
   "outputs": [
    {
     "name": "stderr",
     "output_type": "stream",
     "text": [
      "2025/07/26 13:01:42 WARNING mlflow.utils.environment: Failed to resolve installed pip version. ``pip`` will be added to conda.yaml environment spec without a version specifier.\n"
     ]
    },
    {
     "name": "stdout",
     "output_type": "stream",
     "text": [
      "🏃 View run defiant-cow-306 at: http://localhost:5000/#/experiments/1/runs/4b3cecc814e14708b46ed082deb88bda\n",
      "🧪 View experiment at: http://localhost:5000/#/experiments/1\n"
     ]
    }
   ],
   "source": [
    "import mlflow\n",
    "import numpy as np\n",
    "from sklearn.linear_model import LinearRegression\n",
    "\n",
    "import os\n",
    "os.environ[\"AWS_ACCESS_KEY_ID\"] = \"admin\"\n",
    "os.environ[\"AWS_SECRET_ACCESS_KEY\"] = \"password\"\n",
    "os.environ[\"MLFLOW_S3_ENDPOINT_URL\"] = \"http://localhost:10000\"\n",
    "os.environ[\"AWS_REGION\"] = \"us-east-1\"\n",
    "\n",
    "\n",
    "X = np.array([[1, 1], [1, 2], [2, 2], [2, 3]])\n",
    "# y = 1 * x_0 + 2 * x_1 + 3\n",
    "y = np.dot(X, np.array([1, 2])) + 3\n",
    "\n",
    "mlflow.set_tracking_uri(\"http://localhost:5000\")\n",
    "\n",
    "has_exp = mlflow.get_experiment_by_name(\"linear_regression\")\n",
    "# If the experiment does not exist, create it\n",
    "if has_exp is None:\n",
    "    experiment_id = mlflow.create_experiment(\"linear_regression\")\n",
    "else:\n",
    "    experiment_id = has_exp.experiment_id\n",
    "# experiment_id = mlflow.create_experiment(\"linear_regression_example\")\n",
    "\n",
    "# x_train, y_train = load_pickle(train_bundle_path)\n",
    "\n",
    "mlflow.sklearn.autolog(log_datasets=False, log_models=True)\n",
    "\n",
    "with mlflow.start_run(experiment_id=experiment_id) as run:\n",
    "    # X = pd.DataFrame(scaler.fit_transform(X), columns=X.columns)\n",
    "    # mlflow.sklearn.log_model(scaler, artifact_path=\"scaler\")\n",
    "    reg = LinearRegression().fit(X, y)\n",
    "    reg.score(X, y)\n",
    "    reg.predict(np.array([[3, 5]]))\n",
    "\n",
    "    # mlflow.log_metrics(\n",
    "    #     {\n",
    "    #         \"intercept_\": reg.intercept_,\n",
    "    #         \"model_size\": reg.__sizeof__(),\n",
    "    #     }\n",
    "    # )\n",
    "    # mlflow.sklearn.log_model(reg, name=\"h1\")"
   ]
  },
  {
   "cell_type": "code",
   "execution_count": null,
   "id": "59639c77",
   "metadata": {},
   "outputs": [],
   "source": []
  }
 ],
 "metadata": {
  "kernelspec": {
   "display_name": "model-fit",
   "language": "python",
   "name": "python3"
  },
  "language_info": {
   "codemirror_mode": {
    "name": "ipython",
    "version": 3
   },
   "file_extension": ".py",
   "mimetype": "text/x-python",
   "name": "python",
   "nbconvert_exporter": "python",
   "pygments_lexer": "ipython3",
   "version": "3.10.12"
  }
 },
 "nbformat": 4,
 "nbformat_minor": 5
}
