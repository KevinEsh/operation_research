{
 "cells": [
  {
   "cell_type": "code",
   "execution_count": 1,
   "id": "86c62df2",
   "metadata": {},
   "outputs": [],
   "source": [
    "# get the list of models\n",
    "from os import getcwd, listdir\n",
    "from os.path import isfile, join, abspath\n",
    "import sys\n",
    "\n",
    "import polars as pl\n",
    "\n",
    "sys.path.append(abspath(join(getcwd(), '..')))\n",
    "\n",
    "from shared.forecasters import DirectMultihorizonForecaster"
   ]
  },
  {
   "cell_type": "code",
   "execution_count": 2,
   "id": "d6c2c4d0",
   "metadata": {},
   "outputs": [],
   "source": [
    "MODELS_PATH = \"./models\"\n",
    "models = sorted(\n",
    "    [f for f in listdir(MODELS_PATH) if isfile(join(MODELS_PATH, f)) and f.endswith(\".pkl\")],\n",
    "    reverse=True\n",
    ")\n",
    "\n",
    "path_to_latest_model = models[0] if models else None"
   ]
  },
  {
   "cell_type": "code",
   "execution_count": 3,
   "id": "5a880b29",
   "metadata": {},
   "outputs": [
    {
     "data": {
      "text/plain": [
       "'demand_forecaster_20250717.pkl'"
      ]
     },
     "execution_count": 3,
     "metadata": {},
     "output_type": "execute_result"
    }
   ],
   "source": [
    "path_to_latest_model"
   ]
  },
  {
   "cell_type": "code",
   "execution_count": 4,
   "id": "d2d834a2",
   "metadata": {},
   "outputs": [],
   "source": [
    "# open the saved model\n",
    "\n",
    "import joblib\n",
    "forecaster: DirectMultihorizonForecaster = joblib.load(join(MODELS_PATH, path_to_latest_model))"
   ]
  },
  {
   "cell_type": "code",
   "execution_count": 5,
   "id": "77189059",
   "metadata": {},
   "outputs": [],
   "source": [
    "x_train = pl.read_parquet(\"../../data/favorita_dataset/output/train_input.parquet\")\n",
    "c_train = pl.read_parquet(\"../../data/favorita_dataset/output/train_dates.parquet\")\n",
    "y_train = pl.read_parquet(\"../../data/favorita_dataset/output/train_target.parquet\")"
   ]
  },
  {
   "cell_type": "code",
   "execution_count": 6,
   "id": "033d57a1",
   "metadata": {},
   "outputs": [],
   "source": [
    "x_train = x_train.with_columns(\n",
    "    pl.col.product_group.cast(pl.Categorical)\n",
    ")"
   ]
  },
  {
   "cell_type": "code",
   "execution_count": 7,
   "id": "4ae96490",
   "metadata": {},
   "outputs": [],
   "source": [
    "from datetime import date, timedelta as td\n",
    "today = '2016-08-15'\n",
    "today = date.fromisoformat(today)\n",
    "date_interval = (today, today)"
   ]
  },
  {
   "cell_type": "code",
   "execution_count": 8,
   "id": "43bae785",
   "metadata": {},
   "outputs": [],
   "source": [
    "def split_by_date(x_train, c_train, date_interval):\n",
    "    return x_train.with_columns(\n",
    "        c_train.get_column(\"c_date\")\n",
    "    ).filter(\n",
    "        pl.col.c_date.is_between(*date_interval)\n",
    "    ).drop(\"c_date\")"
   ]
  },
  {
   "cell_type": "code",
   "execution_count": 9,
   "id": "9d151f36",
   "metadata": {},
   "outputs": [],
   "source": [
    "x = split_by_date(x_train, c_train, date_interval)"
   ]
  },
  {
   "cell_type": "code",
   "execution_count": 10,
   "id": "b331bfbc",
   "metadata": {},
   "outputs": [],
   "source": [
    "predictions_df = forecaster.predict(x).with_columns((pl.all().exp()-1).round().cast(pl.Int32))"
   ]
  },
  {
   "cell_type": "code",
   "execution_count": 15,
   "id": "d9589544",
   "metadata": {},
   "outputs": [
    {
     "data": {
      "text/html": [
       "<div><style>\n",
       ".dataframe > thead > tr,\n",
       ".dataframe > tbody > tr {\n",
       "  text-align: right;\n",
       "  white-space: pre-wrap;\n",
       "}\n",
       "</style>\n",
       "<small>shape: (35, 7)</small><table border=\"1\" class=\"dataframe\"><thead><tr><th>pred_h1_log_units_sold</th><th>pred_h2_log_units_sold</th><th>pred_h3_log_units_sold</th><th>pred_h4_log_units_sold</th><th>pred_h5_log_units_sold</th><th>pred_h6_log_units_sold</th><th>pred_h7_log_units_sold</th></tr><tr><td>i32</td><td>i32</td><td>i32</td><td>i32</td><td>i32</td><td>i32</td><td>i32</td></tr></thead><tbody><tr><td>20</td><td>23</td><td>22</td><td>23</td><td>26</td><td>23</td><td>21</td></tr><tr><td>29</td><td>27</td><td>24</td><td>27</td><td>30</td><td>26</td><td>27</td></tr><tr><td>18</td><td>20</td><td>17</td><td>21</td><td>24</td><td>21</td><td>19</td></tr><tr><td>17</td><td>14</td><td>14</td><td>16</td><td>20</td><td>19</td><td>16</td></tr><tr><td>25</td><td>24</td><td>22</td><td>24</td><td>28</td><td>24</td><td>25</td></tr><tr><td>&hellip;</td><td>&hellip;</td><td>&hellip;</td><td>&hellip;</td><td>&hellip;</td><td>&hellip;</td><td>&hellip;</td></tr><tr><td>23</td><td>25</td><td>21</td><td>25</td><td>31</td><td>31</td><td>26</td></tr><tr><td>16</td><td>19</td><td>16</td><td>20</td><td>23</td><td>22</td><td>19</td></tr><tr><td>33</td><td>22</td><td>19</td><td>23</td><td>27</td><td>28</td><td>27</td></tr><tr><td>18</td><td>14</td><td>13</td><td>17</td><td>20</td><td>19</td><td>16</td></tr><tr><td>21</td><td>20</td><td>17</td><td>21</td><td>24</td><td>22</td><td>19</td></tr></tbody></table></div>"
      ],
      "text/plain": [
       "shape: (35, 7)\n",
       "┌──────────────┬─────────────┬─────────────┬─────────────┬─────────────┬─────────────┬─────────────┐\n",
       "│ pred_h1_log_ ┆ pred_h2_log ┆ pred_h3_log ┆ pred_h4_log ┆ pred_h5_log ┆ pred_h6_log ┆ pred_h7_log │\n",
       "│ units_sold   ┆ _units_sold ┆ _units_sold ┆ _units_sold ┆ _units_sold ┆ _units_sold ┆ _units_sold │\n",
       "│ ---          ┆ ---         ┆ ---         ┆ ---         ┆ ---         ┆ ---         ┆ ---         │\n",
       "│ i32          ┆ i32         ┆ i32         ┆ i32         ┆ i32         ┆ i32         ┆ i32         │\n",
       "╞══════════════╪═════════════╪═════════════╪═════════════╪═════════════╪═════════════╪═════════════╡\n",
       "│ 20           ┆ 23          ┆ 22          ┆ 23          ┆ 26          ┆ 23          ┆ 21          │\n",
       "│ 29           ┆ 27          ┆ 24          ┆ 27          ┆ 30          ┆ 26          ┆ 27          │\n",
       "│ 18           ┆ 20          ┆ 17          ┆ 21          ┆ 24          ┆ 21          ┆ 19          │\n",
       "│ 17           ┆ 14          ┆ 14          ┆ 16          ┆ 20          ┆ 19          ┆ 16          │\n",
       "│ 25           ┆ 24          ┆ 22          ┆ 24          ┆ 28          ┆ 24          ┆ 25          │\n",
       "│ …            ┆ …           ┆ …           ┆ …           ┆ …           ┆ …           ┆ …           │\n",
       "│ 23           ┆ 25          ┆ 21          ┆ 25          ┆ 31          ┆ 31          ┆ 26          │\n",
       "│ 16           ┆ 19          ┆ 16          ┆ 20          ┆ 23          ┆ 22          ┆ 19          │\n",
       "│ 33           ┆ 22          ┆ 19          ┆ 23          ┆ 27          ┆ 28          ┆ 27          │\n",
       "│ 18           ┆ 14          ┆ 13          ┆ 17          ┆ 20          ┆ 19          ┆ 16          │\n",
       "│ 21           ┆ 20          ┆ 17          ┆ 21          ┆ 24          ┆ 22          ┆ 19          │\n",
       "└──────────────┴─────────────┴─────────────┴─────────────┴─────────────┴─────────────┴─────────────┘"
      ]
     },
     "execution_count": 15,
     "metadata": {},
     "output_type": "execute_result"
    }
   ],
   "source": [
    "predictions_df"
   ]
  },
  {
   "cell_type": "code",
   "execution_count": 11,
   "id": "ef81d472",
   "metadata": {},
   "outputs": [],
   "source": [
    "f = forecaster.predict(x_train).with_columns((pl.all().exp()-1).round().cast(pl.Int32))"
   ]
  },
  {
   "cell_type": "code",
   "execution_count": 17,
   "id": "6547a12a",
   "metadata": {},
   "outputs": [
    {
     "data": {
      "text/html": [
       "<div><style>\n",
       ".dataframe > thead > tr,\n",
       ".dataframe > tbody > tr {\n",
       "  text-align: right;\n",
       "  white-space: pre-wrap;\n",
       "}\n",
       "</style>\n",
       "<small>shape: (9, 8)</small><table border=\"1\" class=\"dataframe\"><thead><tr><th>statistic</th><th>h1_log_units_sold</th><th>h2_log_units_sold</th><th>h3_log_units_sold</th><th>h4_log_units_sold</th><th>h5_log_units_sold</th><th>h6_log_units_sold</th><th>h7_log_units_sold</th></tr><tr><td>str</td><td>f64</td><td>f64</td><td>f64</td><td>f64</td><td>f64</td><td>f64</td><td>f64</td></tr></thead><tbody><tr><td>&quot;count&quot;</td><td>46039.0</td><td>46039.0</td><td>46039.0</td><td>46039.0</td><td>46039.0</td><td>46039.0</td><td>46039.0</td></tr><tr><td>&quot;null_count&quot;</td><td>0.0</td><td>0.0</td><td>0.0</td><td>0.0</td><td>0.0</td><td>0.0</td><td>0.0</td></tr><tr><td>&quot;mean&quot;</td><td>0.56072</td><td>2.76963</td><td>4.530919</td><td>5.229892</td><td>5.673581</td><td>5.342188</td><td>3.984926</td></tr><tr><td>&quot;std&quot;</td><td>6.297499</td><td>18.730769</td><td>20.657535</td><td>21.687886</td><td>22.353822</td><td>22.052324</td><td>20.209575</td></tr><tr><td>&quot;min&quot;</td><td>-41.0</td><td>-100.0</td><td>-82.0</td><td>-80.0</td><td>-81.0</td><td>-72.0</td><td>-96.0</td></tr><tr><td>&quot;25%&quot;</td><td>-2.0</td><td>-4.0</td><td>-4.0</td><td>-4.0</td><td>-5.0</td><td>-4.0</td><td>-4.0</td></tr><tr><td>&quot;50%&quot;</td><td>0.0</td><td>1.0</td><td>1.0</td><td>1.0</td><td>1.0</td><td>1.0</td><td>1.0</td></tr><tr><td>&quot;75%&quot;</td><td>2.0</td><td>7.0</td><td>8.0</td><td>9.0</td><td>10.0</td><td>9.0</td><td>8.0</td></tr><tr><td>&quot;max&quot;</td><td>516.0</td><td>2617.0</td><td>2614.0</td><td>2620.0</td><td>2608.0</td><td>2629.0</td><td>2628.0</td></tr></tbody></table></div>"
      ],
      "text/plain": [
       "shape: (9, 8)\n",
       "┌────────────┬────────────┬────────────┬───────────┬───────────┬───────────┬───────────┬───────────┐\n",
       "│ statistic  ┆ h1_log_uni ┆ h2_log_uni ┆ h3_log_un ┆ h4_log_un ┆ h5_log_un ┆ h6_log_un ┆ h7_log_un │\n",
       "│ ---        ┆ ts_sold    ┆ ts_sold    ┆ its_sold  ┆ its_sold  ┆ its_sold  ┆ its_sold  ┆ its_sold  │\n",
       "│ str        ┆ ---        ┆ ---        ┆ ---       ┆ ---       ┆ ---       ┆ ---       ┆ ---       │\n",
       "│            ┆ f64        ┆ f64        ┆ f64       ┆ f64       ┆ f64       ┆ f64       ┆ f64       │\n",
       "╞════════════╪════════════╪════════════╪═══════════╪═══════════╪═══════════╪═══════════╪═══════════╡\n",
       "│ count      ┆ 46039.0    ┆ 46039.0    ┆ 46039.0   ┆ 46039.0   ┆ 46039.0   ┆ 46039.0   ┆ 46039.0   │\n",
       "│ null_count ┆ 0.0        ┆ 0.0        ┆ 0.0       ┆ 0.0       ┆ 0.0       ┆ 0.0       ┆ 0.0       │\n",
       "│ mean       ┆ 0.56072    ┆ 2.76963    ┆ 4.530919  ┆ 5.229892  ┆ 5.673581  ┆ 5.342188  ┆ 3.984926  │\n",
       "│ std        ┆ 6.297499   ┆ 18.730769  ┆ 20.657535 ┆ 21.687886 ┆ 22.353822 ┆ 22.052324 ┆ 20.209575 │\n",
       "│ min        ┆ -41.0      ┆ -100.0     ┆ -82.0     ┆ -80.0     ┆ -81.0     ┆ -72.0     ┆ -96.0     │\n",
       "│ 25%        ┆ -2.0       ┆ -4.0       ┆ -4.0      ┆ -4.0      ┆ -5.0      ┆ -4.0      ┆ -4.0      │\n",
       "│ 50%        ┆ 0.0        ┆ 1.0        ┆ 1.0       ┆ 1.0       ┆ 1.0       ┆ 1.0       ┆ 1.0       │\n",
       "│ 75%        ┆ 2.0        ┆ 7.0        ┆ 8.0       ┆ 9.0       ┆ 10.0      ┆ 9.0       ┆ 8.0       │\n",
       "│ max        ┆ 516.0      ┆ 2617.0     ┆ 2614.0    ┆ 2620.0    ┆ 2608.0    ┆ 2629.0    ┆ 2628.0    │\n",
       "└────────────┴────────────┴────────────┴───────────┴───────────┴───────────┴───────────┴───────────┘"
      ]
     },
     "execution_count": 17,
     "metadata": {},
     "output_type": "execute_result"
    }
   ],
   "source": [
    "(y_train.with_columns((pl.all().exp()-1).round().cast(pl.Int32)) - f).describe()"
   ]
  },
  {
   "cell_type": "code",
   "execution_count": 18,
   "id": "6902e63e",
   "metadata": {},
   "outputs": [
    {
     "data": {
      "text/html": [
       "<div><style>\n",
       ".dataframe > thead > tr,\n",
       ".dataframe > tbody > tr {\n",
       "  text-align: right;\n",
       "  white-space: pre-wrap;\n",
       "}\n",
       "</style>\n",
       "<small>shape: (46_039, 7)</small><table border=\"1\" class=\"dataframe\"><thead><tr><th>pred_h1_log_units_sold</th><th>pred_h2_log_units_sold</th><th>pred_h3_log_units_sold</th><th>pred_h4_log_units_sold</th><th>pred_h5_log_units_sold</th><th>pred_h6_log_units_sold</th><th>pred_h7_log_units_sold</th></tr><tr><td>i32</td><td>i32</td><td>i32</td><td>i32</td><td>i32</td><td>i32</td><td>i32</td></tr></thead><tbody><tr><td>31</td><td>25</td><td>33</td><td>33</td><td>26</td><td>25</td><td>24</td></tr><tr><td>18</td><td>39</td><td>45</td><td>33</td><td>30</td><td>33</td><td>31</td></tr><tr><td>33</td><td>37</td><td>28</td><td>25</td><td>29</td><td>26</td><td>25</td></tr><tr><td>31</td><td>26</td><td>25</td><td>28</td><td>25</td><td>27</td><td>27</td></tr><tr><td>25</td><td>23</td><td>26</td><td>24</td><td>26</td><td>26</td><td>25</td></tr><tr><td>&hellip;</td><td>&hellip;</td><td>&hellip;</td><td>&hellip;</td><td>&hellip;</td><td>&hellip;</td><td>&hellip;</td></tr><tr><td>22</td><td>21</td><td>26</td><td>21</td><td>21</td><td>22</td><td>17</td></tr><tr><td>16</td><td>24</td><td>21</td><td>20</td><td>22</td><td>18</td><td>21</td></tr><tr><td>22</td><td>20</td><td>19</td><td>20</td><td>19</td><td>21</td><td>22</td></tr><tr><td>21</td><td>19</td><td>20</td><td>18</td><td>21</td><td>23</td><td>22</td></tr><tr><td>21</td><td>20</td><td>17</td><td>21</td><td>24</td><td>22</td><td>19</td></tr></tbody></table></div>"
      ],
      "text/plain": [
       "shape: (46_039, 7)\n",
       "┌──────────────┬─────────────┬─────────────┬─────────────┬─────────────┬─────────────┬─────────────┐\n",
       "│ pred_h1_log_ ┆ pred_h2_log ┆ pred_h3_log ┆ pred_h4_log ┆ pred_h5_log ┆ pred_h6_log ┆ pred_h7_log │\n",
       "│ units_sold   ┆ _units_sold ┆ _units_sold ┆ _units_sold ┆ _units_sold ┆ _units_sold ┆ _units_sold │\n",
       "│ ---          ┆ ---         ┆ ---         ┆ ---         ┆ ---         ┆ ---         ┆ ---         │\n",
       "│ i32          ┆ i32         ┆ i32         ┆ i32         ┆ i32         ┆ i32         ┆ i32         │\n",
       "╞══════════════╪═════════════╪═════════════╪═════════════╪═════════════╪═════════════╪═════════════╡\n",
       "│ 31           ┆ 25          ┆ 33          ┆ 33          ┆ 26          ┆ 25          ┆ 24          │\n",
       "│ 18           ┆ 39          ┆ 45          ┆ 33          ┆ 30          ┆ 33          ┆ 31          │\n",
       "│ 33           ┆ 37          ┆ 28          ┆ 25          ┆ 29          ┆ 26          ┆ 25          │\n",
       "│ 31           ┆ 26          ┆ 25          ┆ 28          ┆ 25          ┆ 27          ┆ 27          │\n",
       "│ 25           ┆ 23          ┆ 26          ┆ 24          ┆ 26          ┆ 26          ┆ 25          │\n",
       "│ …            ┆ …           ┆ …           ┆ …           ┆ …           ┆ …           ┆ …           │\n",
       "│ 22           ┆ 21          ┆ 26          ┆ 21          ┆ 21          ┆ 22          ┆ 17          │\n",
       "│ 16           ┆ 24          ┆ 21          ┆ 20          ┆ 22          ┆ 18          ┆ 21          │\n",
       "│ 22           ┆ 20          ┆ 19          ┆ 20          ┆ 19          ┆ 21          ┆ 22          │\n",
       "│ 21           ┆ 19          ┆ 20          ┆ 18          ┆ 21          ┆ 23          ┆ 22          │\n",
       "│ 21           ┆ 20          ┆ 17          ┆ 21          ┆ 24          ┆ 22          ┆ 19          │\n",
       "└──────────────┴─────────────┴─────────────┴─────────────┴─────────────┴─────────────┴─────────────┘"
      ]
     },
     "execution_count": 18,
     "metadata": {},
     "output_type": "execute_result"
    }
   ],
   "source": [
    "f"
   ]
  },
  {
   "cell_type": "code",
   "execution_count": 19,
   "id": "b30bfa44",
   "metadata": {},
   "outputs": [
    {
     "data": {
      "text/html": [
       "<div><style>\n",
       ".dataframe > thead > tr,\n",
       ".dataframe > tbody > tr {\n",
       "  text-align: right;\n",
       "  white-space: pre-wrap;\n",
       "}\n",
       "</style>\n",
       "<small>shape: (35, 7)</small><table border=\"1\" class=\"dataframe\"><thead><tr><th>pred_h1_log_units_sold</th><th>pred_h2_log_units_sold</th><th>pred_h3_log_units_sold</th><th>pred_h4_log_units_sold</th><th>pred_h5_log_units_sold</th><th>pred_h6_log_units_sold</th><th>pred_h7_log_units_sold</th></tr><tr><td>f64</td><td>f64</td><td>f64</td><td>f64</td><td>f64</td><td>f64</td><td>f64</td></tr></thead><tbody><tr><td>9.126813</td><td>7.200412</td><td>6.445803</td><td>6.444699</td><td>7.49126</td><td>7.779622</td><td>7.605497</td></tr><tr><td>9.305963</td><td>7.200412</td><td>6.445803</td><td>6.444699</td><td>7.49126</td><td>7.779622</td><td>7.580261</td></tr><tr><td>8.257113</td><td>7.200412</td><td>6.445803</td><td>6.444699</td><td>7.49126</td><td>7.779622</td><td>6.839527</td></tr><tr><td>9.176438</td><td>7.200412</td><td>6.445803</td><td>6.444699</td><td>7.49126</td><td>7.779622</td><td>7.307474</td></tr><tr><td>8.807521</td><td>7.200412</td><td>6.445803</td><td>6.444699</td><td>7.49126</td><td>7.779622</td><td>7.438648</td></tr><tr><td>&hellip;</td><td>&hellip;</td><td>&hellip;</td><td>&hellip;</td><td>&hellip;</td><td>&hellip;</td><td>&hellip;</td></tr><tr><td>7.946477</td><td>6.972132</td><td>6.380788</td><td>6.298425</td><td>7.49126</td><td>7.837717</td><td>6.727163</td></tr><tr><td>8.042556</td><td>6.972132</td><td>6.380788</td><td>6.298425</td><td>7.49126</td><td>7.837717</td><td>7.121872</td></tr><tr><td>8.51257</td><td>6.972132</td><td>6.380788</td><td>6.298425</td><td>7.49126</td><td>7.779622</td><td>6.906885</td></tr><tr><td>9.116579</td><td>6.972132</td><td>5.742553</td><td>5.651673</td><td>7.462812</td><td>7.779622</td><td>7.570501</td></tr><tr><td>8.5845</td><td>6.972132</td><td>6.380788</td><td>6.298425</td><td>7.49126</td><td>7.779622</td><td>6.906885</td></tr></tbody></table></div>"
      ],
      "text/plain": [
       "shape: (35, 7)\n",
       "┌──────────────┬─────────────┬─────────────┬─────────────┬─────────────┬─────────────┬─────────────┐\n",
       "│ pred_h1_log_ ┆ pred_h2_log ┆ pred_h3_log ┆ pred_h4_log ┆ pred_h5_log ┆ pred_h6_log ┆ pred_h7_log │\n",
       "│ units_sold   ┆ _units_sold ┆ _units_sold ┆ _units_sold ┆ _units_sold ┆ _units_sold ┆ _units_sold │\n",
       "│ ---          ┆ ---         ┆ ---         ┆ ---         ┆ ---         ┆ ---         ┆ ---         │\n",
       "│ f64          ┆ f64         ┆ f64         ┆ f64         ┆ f64         ┆ f64         ┆ f64         │\n",
       "╞══════════════╪═════════════╪═════════════╪═════════════╪═════════════╪═════════════╪═════════════╡\n",
       "│ 9.126813     ┆ 7.200412    ┆ 6.445803    ┆ 6.444699    ┆ 7.49126     ┆ 7.779622    ┆ 7.605497    │\n",
       "│ 9.305963     ┆ 7.200412    ┆ 6.445803    ┆ 6.444699    ┆ 7.49126     ┆ 7.779622    ┆ 7.580261    │\n",
       "│ 8.257113     ┆ 7.200412    ┆ 6.445803    ┆ 6.444699    ┆ 7.49126     ┆ 7.779622    ┆ 6.839527    │\n",
       "│ 9.176438     ┆ 7.200412    ┆ 6.445803    ┆ 6.444699    ┆ 7.49126     ┆ 7.779622    ┆ 7.307474    │\n",
       "│ 8.807521     ┆ 7.200412    ┆ 6.445803    ┆ 6.444699    ┆ 7.49126     ┆ 7.779622    ┆ 7.438648    │\n",
       "│ …            ┆ …           ┆ …           ┆ …           ┆ …           ┆ …           ┆ …           │\n",
       "│ 7.946477     ┆ 6.972132    ┆ 6.380788    ┆ 6.298425    ┆ 7.49126     ┆ 7.837717    ┆ 6.727163    │\n",
       "│ 8.042556     ┆ 6.972132    ┆ 6.380788    ┆ 6.298425    ┆ 7.49126     ┆ 7.837717    ┆ 7.121872    │\n",
       "│ 8.51257      ┆ 6.972132    ┆ 6.380788    ┆ 6.298425    ┆ 7.49126     ┆ 7.779622    ┆ 6.906885    │\n",
       "│ 9.116579     ┆ 6.972132    ┆ 5.742553    ┆ 5.651673    ┆ 7.462812    ┆ 7.779622    ┆ 7.570501    │\n",
       "│ 8.5845       ┆ 6.972132    ┆ 6.380788    ┆ 6.298425    ┆ 7.49126     ┆ 7.779622    ┆ 6.906885    │\n",
       "└──────────────┴─────────────┴─────────────┴─────────────┴─────────────┴─────────────┴─────────────┘"
      ]
     },
     "execution_count": 19,
     "metadata": {},
     "output_type": "execute_result"
    }
   ],
   "source": [
    "predictions_df"
   ]
  },
  {
   "cell_type": "code",
   "execution_count": null,
   "id": "258e1402",
   "metadata": {},
   "outputs": [],
   "source": [
    "prediction_range = [today + td(days=h) for h in range(forecaster.horizons)]\n",
    "\n",
    "predictions_df = x.select(\n",
    "    pl.col.product_id.alias(\"dp_p_id\"),\n",
    "    pl.col.store_id.alias(\"dp_s_id\"),\n",
    "    pl.lit(prediction_range).alias(\"dp_date\").cast(pl.String),\n",
    "    pl.concat_list(predictions_df).alias(\"dp_mean\")\n",
    ").explode(\"dp_date\", \"dp_mean\")"
   ]
  },
  {
   "cell_type": "code",
   "execution_count": 1,
   "id": "f19343ff",
   "metadata": {},
   "outputs": [],
   "source": [
    "from requests import post\n",
    "\n",
    "API_URI = \"http://localhost:8000\"\n",
    "\n",
    "def upload_json(data, endpoint):\n",
    "    url = f\"{API_URI}/{endpoint}\"    \n",
    "    headers = {\"Content-Type\": \"application/json\"}\n",
    "    post_response = post(url, json=data, headers=headers)\n",
    "    print(url, post_response.status_code)\n",
    "    if post_response.status_code != 200:\n",
    "        print(\"Error:\", post_response.text)\n",
    "        return {}\n",
    "    return post_response.json()"
   ]
  },
  {
   "cell_type": "code",
   "execution_count": null,
   "id": "1fa81f80",
   "metadata": {},
   "outputs": [
    {
     "name": "stdout",
     "output_type": "stream",
     "text": [
      "http://localhost:8000/demandpredictions 200\n"
     ]
    },
    {
     "data": {
      "text/plain": [
       "{'demandpredictions': [1,\n",
       "  2,\n",
       "  3,\n",
       "  4,\n",
       "  5,\n",
       "  6,\n",
       "  7,\n",
       "  8,\n",
       "  9,\n",
       "  10,\n",
       "  11,\n",
       "  12,\n",
       "  13,\n",
       "  14,\n",
       "  15,\n",
       "  16,\n",
       "  17,\n",
       "  18,\n",
       "  19,\n",
       "  20,\n",
       "  21,\n",
       "  22,\n",
       "  23,\n",
       "  24,\n",
       "  25,\n",
       "  26,\n",
       "  27,\n",
       "  28,\n",
       "  29,\n",
       "  30,\n",
       "  31,\n",
       "  32,\n",
       "  33,\n",
       "  34,\n",
       "  35,\n",
       "  36,\n",
       "  37,\n",
       "  38,\n",
       "  39,\n",
       "  40,\n",
       "  41,\n",
       "  42,\n",
       "  43,\n",
       "  44,\n",
       "  45,\n",
       "  46,\n",
       "  47,\n",
       "  48,\n",
       "  49,\n",
       "  50,\n",
       "  51,\n",
       "  52,\n",
       "  53,\n",
       "  54,\n",
       "  55,\n",
       "  56,\n",
       "  57,\n",
       "  58,\n",
       "  59,\n",
       "  60,\n",
       "  61,\n",
       "  62,\n",
       "  63,\n",
       "  64,\n",
       "  65,\n",
       "  66,\n",
       "  67,\n",
       "  68,\n",
       "  69,\n",
       "  70,\n",
       "  71,\n",
       "  72,\n",
       "  73,\n",
       "  74,\n",
       "  75,\n",
       "  76,\n",
       "  77,\n",
       "  78,\n",
       "  79,\n",
       "  80,\n",
       "  81,\n",
       "  82,\n",
       "  83,\n",
       "  84,\n",
       "  85,\n",
       "  86,\n",
       "  87,\n",
       "  88,\n",
       "  89,\n",
       "  90,\n",
       "  91,\n",
       "  92,\n",
       "  93,\n",
       "  94,\n",
       "  95,\n",
       "  96,\n",
       "  97,\n",
       "  98,\n",
       "  99,\n",
       "  100,\n",
       "  101,\n",
       "  102,\n",
       "  103,\n",
       "  104,\n",
       "  105,\n",
       "  106,\n",
       "  107,\n",
       "  108,\n",
       "  109,\n",
       "  110,\n",
       "  111,\n",
       "  112,\n",
       "  113,\n",
       "  114,\n",
       "  115,\n",
       "  116,\n",
       "  117,\n",
       "  118,\n",
       "  119,\n",
       "  120,\n",
       "  121,\n",
       "  122,\n",
       "  123,\n",
       "  124,\n",
       "  125,\n",
       "  126,\n",
       "  127,\n",
       "  128,\n",
       "  129,\n",
       "  130,\n",
       "  131,\n",
       "  132,\n",
       "  133,\n",
       "  134,\n",
       "  135,\n",
       "  136,\n",
       "  137,\n",
       "  138,\n",
       "  139,\n",
       "  140,\n",
       "  141,\n",
       "  142,\n",
       "  143,\n",
       "  144,\n",
       "  145,\n",
       "  146,\n",
       "  147,\n",
       "  148,\n",
       "  149,\n",
       "  150,\n",
       "  151,\n",
       "  152,\n",
       "  153,\n",
       "  154,\n",
       "  155,\n",
       "  156,\n",
       "  157,\n",
       "  158,\n",
       "  159,\n",
       "  160,\n",
       "  161,\n",
       "  162,\n",
       "  163,\n",
       "  164,\n",
       "  165,\n",
       "  166,\n",
       "  167,\n",
       "  168,\n",
       "  169,\n",
       "  170,\n",
       "  171,\n",
       "  172,\n",
       "  173,\n",
       "  174,\n",
       "  175,\n",
       "  176,\n",
       "  177,\n",
       "  178,\n",
       "  179,\n",
       "  180,\n",
       "  181,\n",
       "  182,\n",
       "  183,\n",
       "  184,\n",
       "  185,\n",
       "  186,\n",
       "  187,\n",
       "  188,\n",
       "  189,\n",
       "  190,\n",
       "  191,\n",
       "  192,\n",
       "  193,\n",
       "  194,\n",
       "  195,\n",
       "  196,\n",
       "  197,\n",
       "  198,\n",
       "  199,\n",
       "  200,\n",
       "  201,\n",
       "  202,\n",
       "  203,\n",
       "  204,\n",
       "  205,\n",
       "  206,\n",
       "  207,\n",
       "  208,\n",
       "  209,\n",
       "  210,\n",
       "  211,\n",
       "  212,\n",
       "  213,\n",
       "  214,\n",
       "  215,\n",
       "  216,\n",
       "  217,\n",
       "  218,\n",
       "  219,\n",
       "  220,\n",
       "  221,\n",
       "  222,\n",
       "  223,\n",
       "  224,\n",
       "  225,\n",
       "  226,\n",
       "  227,\n",
       "  228,\n",
       "  229,\n",
       "  230,\n",
       "  231,\n",
       "  232,\n",
       "  233,\n",
       "  234,\n",
       "  235,\n",
       "  236,\n",
       "  237,\n",
       "  238,\n",
       "  239,\n",
       "  240,\n",
       "  241,\n",
       "  242,\n",
       "  243,\n",
       "  244,\n",
       "  245]}"
      ]
     },
     "execution_count": 28,
     "metadata": {},
     "output_type": "execute_result"
    }
   ],
   "source": [
    "dp_ids = upload_json(predictions_df.to_dicts(), \"demandpredictions\")"
   ]
  },
  {
   "cell_type": "code",
   "execution_count": 2,
   "id": "c8dc37d8",
   "metadata": {},
   "outputs": [],
   "source": [
    "import sys\n",
    "from datetime import date, timedelta\n",
    "from pathlib import Path\n",
    "\n",
    "import click\n",
    "import polars as pl\n",
    "\n",
    "# Agregar el directorio padre (services) al path\n",
    "current_file = Path(\"predict.py\")\n",
    "services_dir = current_file.parent.parent\n",
    "sys.path.insert(0, \"..\")\n",
    "\n",
    "from shared.s3config import get_s3_params"
   ]
  },
  {
   "cell_type": "code",
   "execution_count": 3,
   "id": "99d5f793",
   "metadata": {},
   "outputs": [],
   "source": [
    "s3_path, s3_storage_options = get_s3_params(\"2016-08-15\")\n",
    "s3_demand_predictions_path = s3_path + \"/demand_predictions.parquet\"\n",
    "df_demand_predictions = pl.read_parquet(\n",
    "    s3_demand_predictions_path, storage_options=s3_storage_options\n",
    ")"
   ]
  },
  {
   "cell_type": "code",
   "execution_count": 7,
   "id": "a672dfb9",
   "metadata": {},
   "outputs": [],
   "source": [
    "predictions_df = df_demand_predictions.with_columns(\n",
    "    pl.col(\"dp_date\").cast(pl.String)\n",
    ")"
   ]
  },
  {
   "cell_type": "code",
   "execution_count": 8,
   "id": "e157784b",
   "metadata": {},
   "outputs": [
    {
     "name": "stdout",
     "output_type": "stream",
     "text": [
      "http://localhost:8000/demandpredictions 200\n"
     ]
    }
   ],
   "source": [
    "dp_ids = upload_json(predictions_df.to_dicts(), \"demandpredictions\")"
   ]
  }
 ],
 "metadata": {
  "kernelspec": {
   "display_name": "demand_prediction",
   "language": "python",
   "name": "demand_prediction"
  },
  "language_info": {
   "codemirror_mode": {
    "name": "ipython",
    "version": 3
   },
   "file_extension": ".py",
   "mimetype": "text/x-python",
   "name": "python",
   "nbconvert_exporter": "python",
   "pygments_lexer": "ipython3",
   "version": "3.10.12"
  }
 },
 "nbformat": 4,
 "nbformat_minor": 5
}
