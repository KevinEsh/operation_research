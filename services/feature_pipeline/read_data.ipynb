{
 "cells": [
  {
   "cell_type": "code",
   "execution_count": null,
   "id": "256c901c",
   "metadata": {},
   "outputs": [
    {
     "name": "stdout",
     "output_type": "stream",
     "text": [
      "shape: (5, 4)\n",
      "┌─────────┬─────────┬────────────┬──────┐\n",
      "│ p_name  ┆ l_name  ┆ period     ┆ mean │\n",
      "│ ---     ┆ ---     ┆ ---        ┆ ---  │\n",
      "│ str     ┆ str     ┆ date       ┆ u32  │\n",
      "╞═════════╪═════════╪════════════╪══════╡\n",
      "│ Biscuit ┆ Market2 ┆ 2024-01-01 ┆ 10   │\n",
      "│ Biscuit ┆ Market2 ┆ 2024-01-02 ┆ 10   │\n",
      "│ Biscuit ┆ Market2 ┆ 2024-01-03 ┆ 10   │\n",
      "│ Biscuit ┆ Market2 ┆ 2024-01-04 ┆ 5    │\n",
      "│ Biscuit ┆ Market2 ┆ 2024-01-05 ┆ 5    │\n",
      "└─────────┴─────────┴────────────┴──────┘\n"
     ]
    }
   ],
   "source": [
    "import re\n",
    "import polars as pl\n",
    "\n",
    "# --- Parsing functions ---\n",
    "def parse_items(block):\n",
    "    return [item.strip(\"' \") for item in block.strip().splitlines() if item.strip()]\n",
    "\n",
    "def parse_tuples(block):\n",
    "    return [tuple(re.findall(r\"'([^']+)'\", line)) for line in block.strip().splitlines()]\n",
    "\n",
    "def parse_param_triples(block):\n",
    "    return [(*re.findall(r\"'([^']+)'\", line), int(re.search(r\"\\] (\\d+)\", line).group(1)))\n",
    "            for line in block.strip().splitlines()]\n",
    "\n",
    "def parse_param_pairs(block):\n",
    "    return [(*re.findall(r\"'([^']+)'\", line), int(re.search(r\"\\] (\\d+)\", line).group(1)))\n",
    "            for line in block.strip().splitlines()]\n",
    "\n",
    "# --- Load data from file ---\n",
    "with open('../../data/prodopt.dat') as f:\n",
    "    raw = f.read()\n",
    "\n",
    "# --- Extract using regex ---\n",
    "products = re.search(r\"set PRODUCTS :=(.*?)\\s*;\", raw, re.S).group(1)\n",
    "stores = re.search(r\"set STORES :=(.*?)\\s*;\", raw, re.S).group(1)\n",
    "workshops = re.search(r\"set WORKSHOPS :=(.*?)\\s*;\", raw, re.S).group(1)\n",
    "procurements = re.search(r\"param PROCUREMENTS :=(.*?)\\s*;\", raw, re.S).group(1)\n",
    "transport_links = re.search(r\"param TRANSPORT_LINKS :=(.*?)\\s*;\", raw, re.S).group(1)\n",
    "periods = re.search(r\"set PERIODS :=(.*?)\\s*;\", raw, re.S).group(1)\n",
    "demand = re.search(r\"param Demand :=(.*?)\\s*;\", raw, re.S).group(1)\n",
    "inventory = re.search(r\"param InitialInventory :=(.*?)\\s*;\", raw, re.S).group(1)\n",
    "penalties = dict(re.findall(r\"param (\\w+) := (\\d+);\", raw))\n",
    "\n",
    "# --- Create DataFrames ---\n",
    "df_products = pl.DataFrame({\"p_name\": parse_items(products)})\n",
    "df_stores = pl.DataFrame({\"s_name\": parse_items(stores)})\n",
    "df_workshops = pl.DataFrame({\"w_name\": parse_items(workshops)})\n",
    "df_periods = pl.DataFrame({\"period\": parse_items(periods)})\n",
    "df_periods = df_periods.with_columns(\n",
    "    pl.col(\"period\").str.strptime(pl.Date, \"%Y-%d-%m\")\n",
    ")\n",
    "\n",
    "# Don't enforce types at creation, do it after\n",
    "df_demand_forecast = pl.DataFrame(parse_param_triples(demand), schema=[\"p_name\", \"l_name\", \"period\", \"mean\"])\n",
    "df_demand_forecast = df_demand_forecast.with_columns([\n",
    "    pl.col(\"period\").str.strptime(pl.Date, \"%Y-%d-%m\"),\n",
    "    pl.col(\"mean\").cast(pl.UInt32)\n",
    "])\n",
    "\n",
    "df_procurements = pl.DataFrame(parse_tuples(procurements), schema=[\"pc_p_name\", \"pc_s_name\", \"pc_active_from\", \"pc_active_upto\"])\n",
    "df_procurements = df_procurements.with_columns(\n",
    "    pl.col(\"pc_active_from\").str.strptime(pl.Date, \"%Y-%d-%m\"),\n",
    "    pl.col(\"pc_active_upto\").str.strptime(pl.Date, \"%Y-%d-%m\")\n",
    ")\n",
    "\n",
    "df_trankport_links = pl.DataFrame(parse_param_pairs(transport_links), schema=[\"tl_w_name\", \"tl_s_name\", \"tl_cost\"])\n",
    "\n",
    "df_inventory = pl.DataFrame(parse_param_pairs(inventory), schema=[\"p_name\", \"l_name\", \"initial_inventory\"])\n",
    "df_inventory = df_inventory.with_columns(\n",
    "    pl.col(\"initial_inventory\").cast(pl.UInt32),\n",
    "    ending_inventory=pl.col('initial_inventory').cast(pl.UInt32),\n",
    "    period=pl.lit(\"2023-12-31\").str.strptime(pl.Date, \"%Y-%m-%d\")\n",
    ")\n",
    "\n",
    "# --- Penalty values ---\n",
    "unmet_penalty = int(penalties.get(\"UnmetDemandPenalty\", 0))\n",
    "ending_penalty = int(penalties.get(\"EndingInventoryPenalty\", 0))\n",
    "\n",
    "# Optional: inspect one DataFrame\n",
    "print(df_demand_forecast.head())\n"
   ]
  },
  {
   "cell_type": "code",
   "execution_count": 4,
   "id": "ae4156fc",
   "metadata": {},
   "outputs": [
    {
     "data": {
      "text/html": [
       "<div><style>\n",
       ".dataframe > thead > tr,\n",
       ".dataframe > tbody > tr {\n",
       "  text-align: right;\n",
       "  white-space: pre-wrap;\n",
       "}\n",
       "</style>\n",
       "<small>shape: (3, 1)</small><table border=\"1\" class=\"dataframe\"><thead><tr><th>l_name</th></tr><tr><td>str</td></tr></thead><tbody><tr><td>&quot;Market1&quot;</td></tr><tr><td>&quot;Market2&quot;</td></tr><tr><td>&quot;Market3&quot;</td></tr></tbody></table></div>"
      ],
      "text/plain": [
       "shape: (3, 1)\n",
       "┌─────────┐\n",
       "│ l_name  │\n",
       "│ ---     │\n",
       "│ str     │\n",
       "╞═════════╡\n",
       "│ Market1 │\n",
       "│ Market2 │\n",
       "│ Market3 │\n",
       "└─────────┘"
      ]
     },
     "execution_count": 4,
     "metadata": {},
     "output_type": "execute_result"
    }
   ],
   "source": [
    "df_stores"
   ]
  },
  {
   "cell_type": "code",
   "execution_count": 23,
   "id": "7059453a",
   "metadata": {},
   "outputs": [
    {
     "data": {
      "text/html": [
       "<div><style>\n",
       ".dataframe > thead > tr,\n",
       ".dataframe > tbody > tr {\n",
       "  text-align: right;\n",
       "  white-space: pre-wrap;\n",
       "}\n",
       "</style>\n",
       "<small>shape: (5, 1)</small><table border=\"1\" class=\"dataframe\"><thead><tr><th>p_name</th></tr><tr><td>str</td></tr></thead><tbody><tr><td>&quot;Biscuit&quot;</td></tr><tr><td>&quot;Bread&quot;</td></tr><tr><td>&quot;Cookie&quot;</td></tr><tr><td>&quot;Croissant&quot;</td></tr><tr><td>&quot;Donut&quot;</td></tr></tbody></table></div>"
      ],
      "text/plain": [
       "shape: (5, 1)\n",
       "┌───────────┐\n",
       "│ p_name    │\n",
       "│ ---       │\n",
       "│ str       │\n",
       "╞═══════════╡\n",
       "│ Biscuit   │\n",
       "│ Bread     │\n",
       "│ Cookie    │\n",
       "│ Croissant │\n",
       "│ Donut     │\n",
       "└───────────┘"
      ]
     },
     "execution_count": 23,
     "metadata": {},
     "output_type": "execute_result"
    }
   ],
   "source": [
    "df_products"
   ]
  },
  {
   "cell_type": "code",
   "execution_count": 24,
   "id": "6c622f27",
   "metadata": {},
   "outputs": [
    {
     "data": {
      "text/html": [
       "<div><style>\n",
       ".dataframe > thead > tr,\n",
       ".dataframe > tbody > tr {\n",
       "  text-align: right;\n",
       "  white-space: pre-wrap;\n",
       "}\n",
       "</style>\n",
       "<small>shape: (2, 1)</small><table border=\"1\" class=\"dataframe\"><thead><tr><th>w_name</th></tr><tr><td>str</td></tr></thead><tbody><tr><td>&quot;Bakery1&quot;</td></tr><tr><td>&quot;Bakery2&quot;</td></tr></tbody></table></div>"
      ],
      "text/plain": [
       "shape: (2, 1)\n",
       "┌─────────┐\n",
       "│ w_name  │\n",
       "│ ---     │\n",
       "│ str     │\n",
       "╞═════════╡\n",
       "│ Bakery1 │\n",
       "│ Bakery2 │\n",
       "└─────────┘"
      ]
     },
     "execution_count": 24,
     "metadata": {},
     "output_type": "execute_result"
    }
   ],
   "source": [
    "df_workshops"
   ]
  },
  {
   "cell_type": "code",
   "execution_count": 25,
   "id": "737a575e",
   "metadata": {},
   "outputs": [
    {
     "data": {
      "text/html": [
       "<div><style>\n",
       ".dataframe > thead > tr,\n",
       ".dataframe > tbody > tr {\n",
       "  text-align: right;\n",
       "  white-space: pre-wrap;\n",
       "}\n",
       "</style>\n",
       "<small>shape: (12, 4)</small><table border=\"1\" class=\"dataframe\"><thead><tr><th>pc_p_name</th><th>pc_s_name</th><th>pc_active_from</th><th>pc_active_upto</th></tr><tr><td>str</td><td>str</td><td>date</td><td>date</td></tr></thead><tbody><tr><td>&quot;Biscuit&quot;</td><td>&quot;Market2&quot;</td><td>2024-01-01</td><td>2024-07-01</td></tr><tr><td>&quot;Biscuit&quot;</td><td>&quot;Market3&quot;</td><td>2024-01-01</td><td>2024-07-01</td></tr><tr><td>&quot;Bread&quot;</td><td>&quot;Market1&quot;</td><td>2024-01-01</td><td>2024-07-01</td></tr><tr><td>&quot;Bread&quot;</td><td>&quot;Market2&quot;</td><td>2024-01-01</td><td>2024-07-01</td></tr><tr><td>&quot;Bread&quot;</td><td>&quot;Market3&quot;</td><td>2024-01-01</td><td>2024-07-01</td></tr><tr><td>&hellip;</td><td>&hellip;</td><td>&hellip;</td><td>&hellip;</td></tr><tr><td>&quot;Croissant&quot;</td><td>&quot;Market1&quot;</td><td>2024-01-01</td><td>2024-07-01</td></tr><tr><td>&quot;Croissant&quot;</td><td>&quot;Market2&quot;</td><td>2024-01-01</td><td>2024-07-01</td></tr><tr><td>&quot;Croissant&quot;</td><td>&quot;Market3&quot;</td><td>2024-01-01</td><td>2024-07-01</td></tr><tr><td>&quot;Donut&quot;</td><td>&quot;Market2&quot;</td><td>2024-01-01</td><td>2024-07-01</td></tr><tr><td>&quot;Donut&quot;</td><td>&quot;Market3&quot;</td><td>2024-01-01</td><td>2024-07-01</td></tr></tbody></table></div>"
      ],
      "text/plain": [
       "shape: (12, 4)\n",
       "┌───────────┬───────────┬────────────────┬────────────────┐\n",
       "│ pc_p_name ┆ pc_s_name ┆ pc_active_from ┆ pc_active_upto │\n",
       "│ ---       ┆ ---       ┆ ---            ┆ ---            │\n",
       "│ str       ┆ str       ┆ date           ┆ date           │\n",
       "╞═══════════╪═══════════╪════════════════╪════════════════╡\n",
       "│ Biscuit   ┆ Market2   ┆ 2024-01-01     ┆ 2024-07-01     │\n",
       "│ Biscuit   ┆ Market3   ┆ 2024-01-01     ┆ 2024-07-01     │\n",
       "│ Bread     ┆ Market1   ┆ 2024-01-01     ┆ 2024-07-01     │\n",
       "│ Bread     ┆ Market2   ┆ 2024-01-01     ┆ 2024-07-01     │\n",
       "│ Bread     ┆ Market3   ┆ 2024-01-01     ┆ 2024-07-01     │\n",
       "│ …         ┆ …         ┆ …              ┆ …              │\n",
       "│ Croissant ┆ Market1   ┆ 2024-01-01     ┆ 2024-07-01     │\n",
       "│ Croissant ┆ Market2   ┆ 2024-01-01     ┆ 2024-07-01     │\n",
       "│ Croissant ┆ Market3   ┆ 2024-01-01     ┆ 2024-07-01     │\n",
       "│ Donut     ┆ Market2   ┆ 2024-01-01     ┆ 2024-07-01     │\n",
       "│ Donut     ┆ Market3   ┆ 2024-01-01     ┆ 2024-07-01     │\n",
       "└───────────┴───────────┴────────────────┴────────────────┘"
      ]
     },
     "execution_count": 25,
     "metadata": {},
     "output_type": "execute_result"
    }
   ],
   "source": [
    "df_procurements"
   ]
  },
  {
   "cell_type": "code",
   "execution_count": 7,
   "id": "9baa93e9",
   "metadata": {},
   "outputs": [],
   "source": [
    "import duckdb"
   ]
  },
  {
   "cell_type": "code",
   "execution_count": 45,
   "id": "257a62bd",
   "metadata": {},
   "outputs": [],
   "source": [
    "with duckdb.connect(database=\"./data/duckdb.db\", read_only=False) as con:\n",
    "    con.execute(\n",
    "    \"\"\"\n",
    "        CREATE SEQUENCE IF NOT EXISTS products_id_seq START 1;\n",
    "        CREATE SEQUENCE IF NOT EXISTS stores_id_seq START 1;\n",
    "        CREATE SEQUENCE IF NOT EXISTS workshops_id_seq START 1;\n",
    "        CREATE SEQUENCE IF NOT EXISTS transport_links_id_seq START 1;\n",
    "        CREATE SEQUENCE IF NOT EXISTS procurements_id_seq START 1;\n",
    "        CREATE SEQUENCE IF NOT EXISTS demand_predictions_id_seq START 1;\n",
    "        CREATE SEQUENCE IF NOT EXISTS stocks_id_seq START 1;\n",
    "\n",
    "        CREATE TABLE IF NOT EXISTS products (\n",
    "            p_id INTEGER PRIMARY KEY DEFAULT nextval('products_id_seq'),\n",
    "            p_name VARCHAR\n",
    "        );\n",
    "    \n",
    "        CREATE TABLE IF NOT EXISTS stores (\n",
    "            s_id INTEGER PRIMARY KEY DEFAULT nextval('stores_id_seq'),\n",
    "            s_name VARCHAR\n",
    "        );\n",
    "\n",
    "        CREATE TABLE IF NOT EXISTS workshops (\n",
    "            w_id INTEGER PRIMARY KEY DEFAULT nextval('workshops_id_seq'),\n",
    "            w_name VARCHAR\n",
    "        );\n",
    "\n",
    "        CREATE TABLE IF NOT EXISTS transport_links (\n",
    "            tl_id INTEGER PRIMARY KEY DEFAULT nextval('transport_links_id_seq'),\n",
    "            tl_w_id INTEGER,\n",
    "            tl_s_id INTEGER,\n",
    "            tl_cost DOUBLE DEFAULT 0.0 CHECK (tl_cost >= 0),\n",
    "            UNIQUE (tl_w_id, tl_s_id),\n",
    "            FOREIGN KEY (tl_w_id) REFERENCES workshops(w_id),\n",
    "            FOREIGN KEY (tl_s_id) REFERENCES stores(s_id)\n",
    "        );\n",
    "                \n",
    "        CREATE TABLE IF NOT EXISTS procurements (\n",
    "            pc_id INTEGER PRIMARY KEY DEFAULT nextval('procurements_id_seq'),\n",
    "            pc_p_id INTEGER,\n",
    "            pc_s_id INTEGER,\n",
    "            pc_active_from DATE,\n",
    "            pc_active_upto DATE CHECK (pc_active_from < pc_active_upto),\n",
    "            UNIQUE (pc_p_id, pc_s_id, pc_active_from, pc_active_upto),\n",
    "            FOREIGN KEY (pc_p_id) REFERENCES products(p_id),\n",
    "            FOREIGN KEY (pc_s_id) REFERENCES stores(s_id) \n",
    "        );\n",
    "\n",
    "        CREATE TABLE IF NOT EXISTS demand_predictions (\n",
    "            dp_id INTEGER PRIMARY KEY DEFAULT nextval('demand_predictions_id_seq'),\n",
    "            dp_p_id INTEGER,\n",
    "            dp_s_id INTEGER,\n",
    "            dp_period DATE,\n",
    "            dp_mean INTEGER CHECK (dp_mean >= 0),\n",
    "            UNIQUE (dp_p_id, dp_s_id, dp_period),\n",
    "            FOREIGN KEY (dp_p_id) REFERENCES products(p_id),\n",
    "            FOREIGN KEY (dp_s_id) REFERENCES stores(s_id) \n",
    "        );\n",
    "\n",
    "        CREATE TABLE IF NOT EXISTS stocks (\n",
    "            sk_id INTEGER PRIMARY KEY DEFAULT nextval('stocks_id_seq'),\n",
    "            sk_p_id INTEGER,\n",
    "            sk_s_id INTEGER,\n",
    "            sk_period DATE,\n",
    "            sk_starting_inventory INTEGER CHECK (sk_starting_inventory >= 0),\n",
    "            sk_ending_inventory INTEGER CHECK (sk_ending_inventory >= 0),\n",
    "            UNIQUE (sk_p_id, sk_s_id, sk_period),\n",
    "            FOREIGN KEY (sk_p_id) REFERENCES products(p_id),\n",
    "            FOREIGN KEY (sk_s_id) REFERENCES stores(s_id) \n",
    "        );\n",
    "\"\"\")\n",
    "# con.execute(f\"\"\"\n",
    "#     CREATE TABLE IF NOT EXISTS 'products' AS SELECT * FROM df_products;\n",
    "# \"\"\")"
   ]
  },
  {
   "cell_type": "code",
   "execution_count": 10,
   "id": "753b08ec",
   "metadata": {},
   "outputs": [],
   "source": [
    "with duckdb.connect(database=\"./data/duckdb.db\", read_only=False) as con:\n",
    "    # Insert data into products table\n",
    "    con.execute(\"INSERT INTO products (p_name) (SELECT * FROM df_products)\").pl()\n",
    "    con.execute(\"INSERT INTO stores (s_name) (SELECT * FROM df_stores)\").pl()\n",
    "    con.execute(\"INSERT INTO workshops (w_name) (SELECT * FROM df_workshops)\").pl()"
   ]
  },
  {
   "cell_type": "code",
   "execution_count": 26,
   "id": "075aef68",
   "metadata": {},
   "outputs": [],
   "source": [
    "with duckdb.connect(database=\"./data/duckdb.db\", read_only=False) as con:\n",
    "    df_products = con.execute(\"\"\"SELECT * FROM products\"\"\").pl()\n",
    "    df_stores = con.execute(\"\"\"SELECT * FROM stores\"\"\").pl()\n",
    "    df_workshops = con.execute(\"\"\"SELECT * FROM workshops\"\"\").pl()"
   ]
  },
  {
   "cell_type": "code",
   "execution_count": 17,
   "id": "175a1f3e",
   "metadata": {},
   "outputs": [],
   "source": [
    "df_procurements = df_procurements.join(\n",
    "    df_products, left_on=\"pc_p_name\", right_on=\"p_name\"\n",
    ").join(\n",
    "    df_stores, left_on=\"pc_s_name\", right_on=\"s_name\"\n",
    ").select(\n",
    "    pl.col(\"p_id\").alias(\"pc_p_id\"),\n",
    "    pl.col(\"s_id\").alias(\"pc_s_id\"),\n",
    "    pl.col(\"pc_active_from\"),\n",
    "    pl.col(\"pc_active_upto\")\n",
    ")"
   ]
  },
  {
   "cell_type": "code",
   "execution_count": 18,
   "id": "40f5a60f",
   "metadata": {},
   "outputs": [],
   "source": [
    "with duckdb.connect(database=\"./data/duckdb.db\", read_only=False) as con:\n",
    "    con.execute(\"INSERT INTO procurements (pc_p_id, pc_s_id, pc_active_from, pc_active_upto) (SELECT * FROM df_procurements)\")"
   ]
  },
  {
   "cell_type": "code",
   "execution_count": 27,
   "id": "2c95db4d",
   "metadata": {},
   "outputs": [
    {
     "data": {
      "text/html": [
       "<div><style>\n",
       ".dataframe > thead > tr,\n",
       ".dataframe > tbody > tr {\n",
       "  text-align: right;\n",
       "  white-space: pre-wrap;\n",
       "}\n",
       "</style>\n",
       "<small>shape: (12, 5)</small><table border=\"1\" class=\"dataframe\"><thead><tr><th>pc_id</th><th>pc_p_id</th><th>pc_s_id</th><th>pc_active_from</th><th>pc_active_upto</th></tr><tr><td>i32</td><td>i32</td><td>i32</td><td>date</td><td>date</td></tr></thead><tbody><tr><td>1</td><td>1</td><td>2</td><td>2024-01-01</td><td>2024-07-01</td></tr><tr><td>2</td><td>1</td><td>3</td><td>2024-01-01</td><td>2024-07-01</td></tr><tr><td>3</td><td>2</td><td>1</td><td>2024-01-01</td><td>2024-07-01</td></tr><tr><td>4</td><td>2</td><td>2</td><td>2024-01-01</td><td>2024-07-01</td></tr><tr><td>5</td><td>2</td><td>3</td><td>2024-01-01</td><td>2024-07-01</td></tr><tr><td>&hellip;</td><td>&hellip;</td><td>&hellip;</td><td>&hellip;</td><td>&hellip;</td></tr><tr><td>8</td><td>4</td><td>1</td><td>2024-01-01</td><td>2024-07-01</td></tr><tr><td>9</td><td>4</td><td>2</td><td>2024-01-01</td><td>2024-07-01</td></tr><tr><td>10</td><td>4</td><td>3</td><td>2024-01-01</td><td>2024-07-01</td></tr><tr><td>11</td><td>5</td><td>2</td><td>2024-01-01</td><td>2024-07-01</td></tr><tr><td>12</td><td>5</td><td>3</td><td>2024-01-01</td><td>2024-07-01</td></tr></tbody></table></div>"
      ],
      "text/plain": [
       "shape: (12, 5)\n",
       "┌───────┬─────────┬─────────┬────────────────┬────────────────┐\n",
       "│ pc_id ┆ pc_p_id ┆ pc_s_id ┆ pc_active_from ┆ pc_active_upto │\n",
       "│ ---   ┆ ---     ┆ ---     ┆ ---            ┆ ---            │\n",
       "│ i32   ┆ i32     ┆ i32     ┆ date           ┆ date           │\n",
       "╞═══════╪═════════╪═════════╪════════════════╪════════════════╡\n",
       "│ 1     ┆ 1       ┆ 2       ┆ 2024-01-01     ┆ 2024-07-01     │\n",
       "│ 2     ┆ 1       ┆ 3       ┆ 2024-01-01     ┆ 2024-07-01     │\n",
       "│ 3     ┆ 2       ┆ 1       ┆ 2024-01-01     ┆ 2024-07-01     │\n",
       "│ 4     ┆ 2       ┆ 2       ┆ 2024-01-01     ┆ 2024-07-01     │\n",
       "│ 5     ┆ 2       ┆ 3       ┆ 2024-01-01     ┆ 2024-07-01     │\n",
       "│ …     ┆ …       ┆ …       ┆ …              ┆ …              │\n",
       "│ 8     ┆ 4       ┆ 1       ┆ 2024-01-01     ┆ 2024-07-01     │\n",
       "│ 9     ┆ 4       ┆ 2       ┆ 2024-01-01     ┆ 2024-07-01     │\n",
       "│ 10    ┆ 4       ┆ 3       ┆ 2024-01-01     ┆ 2024-07-01     │\n",
       "│ 11    ┆ 5       ┆ 2       ┆ 2024-01-01     ┆ 2024-07-01     │\n",
       "│ 12    ┆ 5       ┆ 3       ┆ 2024-01-01     ┆ 2024-07-01     │\n",
       "└───────┴─────────┴─────────┴────────────────┴────────────────┘"
      ]
     },
     "execution_count": 27,
     "metadata": {},
     "output_type": "execute_result"
    }
   ],
   "source": [
    "# read procurements table to verify in duckdb\n",
    "with duckdb.connect(database=\"./data/duckdb.db\", read_only=False) as con:\n",
    "    df_procurements = con.execute(\"\"\"SELECT * FROM procurements\"\"\").pl()\n",
    "df_procurements"
   ]
  },
  {
   "cell_type": "code",
   "execution_count": 32,
   "id": "980e3e82",
   "metadata": {},
   "outputs": [
    {
     "data": {
      "text/html": [
       "<div><style>\n",
       ".dataframe > thead > tr,\n",
       ".dataframe > tbody > tr {\n",
       "  text-align: right;\n",
       "  white-space: pre-wrap;\n",
       "}\n",
       "</style>\n",
       "<small>shape: (2, 2)</small><table border=\"1\" class=\"dataframe\"><thead><tr><th>w_id</th><th>w_name</th></tr><tr><td>i32</td><td>str</td></tr></thead><tbody><tr><td>1</td><td>&quot;Bakery1&quot;</td></tr><tr><td>2</td><td>&quot;Bakery2&quot;</td></tr></tbody></table></div>"
      ],
      "text/plain": [
       "shape: (2, 2)\n",
       "┌──────┬─────────┐\n",
       "│ w_id ┆ w_name  │\n",
       "│ ---  ┆ ---     │\n",
       "│ i32  ┆ str     │\n",
       "╞══════╪═════════╡\n",
       "│ 1    ┆ Bakery1 │\n",
       "│ 2    ┆ Bakery2 │\n",
       "└──────┴─────────┘"
      ]
     },
     "execution_count": 32,
     "metadata": {},
     "output_type": "execute_result"
    }
   ],
   "source": [
    "df_workshops"
   ]
  },
  {
   "cell_type": "code",
   "execution_count": 34,
   "id": "329c2198",
   "metadata": {},
   "outputs": [],
   "source": [
    "df_trankport_links = df_trankport_links.join(\n",
    "    df_workshops, left_on=\"tl_w_name\", right_on=\"w_name\"\n",
    ").join(\n",
    "    df_stores, left_on=\"tl_s_name\", right_on=\"s_name\"\n",
    ").select(\n",
    "    pl.col(\"w_id\").alias(\"tl_w_id\"),\n",
    "    pl.col(\"s_id\").alias(\"tl_s_id\"),\n",
    "    pl.col(\"tl_cost\")\n",
    ")\n",
    "# df_trankport_links"
   ]
  },
  {
   "cell_type": "code",
   "execution_count": null,
   "id": "3e38539d",
   "metadata": {},
   "outputs": [
    {
     "data": {
      "text/html": [
       "<div><style>\n",
       ".dataframe > thead > tr,\n",
       ".dataframe > tbody > tr {\n",
       "  text-align: right;\n",
       "  white-space: pre-wrap;\n",
       "}\n",
       "</style>\n",
       "<small>shape: (6, 4)</small><table border=\"1\" class=\"dataframe\"><thead><tr><th>tl_id</th><th>tl_w_id</th><th>tl_s_id</th><th>tl_cost</th></tr><tr><td>i32</td><td>i32</td><td>i32</td><td>f64</td></tr></thead><tbody><tr><td>1</td><td>1</td><td>1</td><td>1.0</td></tr><tr><td>2</td><td>1</td><td>2</td><td>3.0</td></tr><tr><td>3</td><td>1</td><td>3</td><td>9.0</td></tr><tr><td>4</td><td>2</td><td>1</td><td>3.0</td></tr><tr><td>5</td><td>2</td><td>2</td><td>9.0</td></tr><tr><td>6</td><td>2</td><td>3</td><td>1.0</td></tr></tbody></table></div>"
      ],
      "text/plain": [
       "shape: (6, 4)\n",
       "┌───────┬─────────┬─────────┬─────────┐\n",
       "│ tl_id ┆ tl_w_id ┆ tl_s_id ┆ tl_cost │\n",
       "│ ---   ┆ ---     ┆ ---     ┆ ---     │\n",
       "│ i32   ┆ i32     ┆ i32     ┆ f64     │\n",
       "╞═══════╪═════════╪═════════╪═════════╡\n",
       "│ 1     ┆ 1       ┆ 1       ┆ 1.0     │\n",
       "│ 2     ┆ 1       ┆ 2       ┆ 3.0     │\n",
       "│ 3     ┆ 1       ┆ 3       ┆ 9.0     │\n",
       "│ 4     ┆ 2       ┆ 1       ┆ 3.0     │\n",
       "│ 5     ┆ 2       ┆ 2       ┆ 9.0     │\n",
       "│ 6     ┆ 2       ┆ 3       ┆ 1.0     │\n",
       "└───────┴─────────┴─────────┴─────────┘"
      ]
     },
     "execution_count": 35,
     "metadata": {},
     "output_type": "execute_result"
    }
   ],
   "source": [
    "with duckdb.connect(database=\"./data/duckdb.db\", read_only=False) as con:\n",
    "    con.execute(\"INSERT INTO transport_links (tl_w_id, tl_s_id, tl_cost) (SELECT * FROM df_trankport_links)\")\n",
    "    # read transport_links table to verify in duckdb \n",
    "    df_trankport_links = con.execute(\"\"\"SELECT * FROM transport_links\"\"\").pl()\n",
    "df_trankport_links"
   ]
  },
  {
   "cell_type": "code",
   "execution_count": 39,
   "id": "307b0363",
   "metadata": {},
   "outputs": [],
   "source": [
    "df_demand_forecast = df_demand_forecast.join(\n",
    "        df_products, left_on=\"p_name\", right_on=\"p_name\"\n",
    "    ).join(\n",
    "        df_stores, left_on=\"l_name\", right_on=\"s_name\"\n",
    "    ).select(\n",
    "        pl.col(\"p_id\").alias(\"dp_p_id\"),\n",
    "        pl.col(\"s_id\").alias(\"dp_s_id\"),\n",
    "        pl.col(\"period\").alias(\"dp_period\"),\n",
    "        pl.col(\"mean\").alias(\"dp_mean\")\n",
    "    )"
   ]
  },
  {
   "cell_type": "code",
   "execution_count": 40,
   "id": "16b1d04a",
   "metadata": {},
   "outputs": [
    {
     "data": {
      "text/html": [
       "<div><style>\n",
       ".dataframe > thead > tr,\n",
       ".dataframe > tbody > tr {\n",
       "  text-align: right;\n",
       "  white-space: pre-wrap;\n",
       "}\n",
       "</style>\n",
       "<small>shape: (72, 5)</small><table border=\"1\" class=\"dataframe\"><thead><tr><th>dp_id</th><th>dp_p_id</th><th>dp_s_id</th><th>dp_period</th><th>dp_mean</th></tr><tr><td>i32</td><td>i32</td><td>i32</td><td>date</td><td>i32</td></tr></thead><tbody><tr><td>1</td><td>1</td><td>2</td><td>2024-01-01</td><td>10</td></tr><tr><td>2</td><td>1</td><td>2</td><td>2024-01-02</td><td>10</td></tr><tr><td>3</td><td>1</td><td>2</td><td>2024-01-03</td><td>10</td></tr><tr><td>4</td><td>1</td><td>2</td><td>2024-01-04</td><td>5</td></tr><tr><td>5</td><td>1</td><td>2</td><td>2024-01-05</td><td>5</td></tr><tr><td>&hellip;</td><td>&hellip;</td><td>&hellip;</td><td>&hellip;</td><td>&hellip;</td></tr><tr><td>68</td><td>5</td><td>3</td><td>2024-01-02</td><td>10</td></tr><tr><td>69</td><td>5</td><td>3</td><td>2024-01-03</td><td>7</td></tr><tr><td>70</td><td>5</td><td>3</td><td>2024-01-04</td><td>10</td></tr><tr><td>71</td><td>5</td><td>3</td><td>2024-01-05</td><td>7</td></tr><tr><td>72</td><td>5</td><td>3</td><td>2024-01-06</td><td>7</td></tr></tbody></table></div>"
      ],
      "text/plain": [
       "shape: (72, 5)\n",
       "┌───────┬─────────┬─────────┬────────────┬─────────┐\n",
       "│ dp_id ┆ dp_p_id ┆ dp_s_id ┆ dp_period  ┆ dp_mean │\n",
       "│ ---   ┆ ---     ┆ ---     ┆ ---        ┆ ---     │\n",
       "│ i32   ┆ i32     ┆ i32     ┆ date       ┆ i32     │\n",
       "╞═══════╪═════════╪═════════╪════════════╪═════════╡\n",
       "│ 1     ┆ 1       ┆ 2       ┆ 2024-01-01 ┆ 10      │\n",
       "│ 2     ┆ 1       ┆ 2       ┆ 2024-01-02 ┆ 10      │\n",
       "│ 3     ┆ 1       ┆ 2       ┆ 2024-01-03 ┆ 10      │\n",
       "│ 4     ┆ 1       ┆ 2       ┆ 2024-01-04 ┆ 5       │\n",
       "│ 5     ┆ 1       ┆ 2       ┆ 2024-01-05 ┆ 5       │\n",
       "│ …     ┆ …       ┆ …       ┆ …          ┆ …       │\n",
       "│ 68    ┆ 5       ┆ 3       ┆ 2024-01-02 ┆ 10      │\n",
       "│ 69    ┆ 5       ┆ 3       ┆ 2024-01-03 ┆ 7       │\n",
       "│ 70    ┆ 5       ┆ 3       ┆ 2024-01-04 ┆ 10      │\n",
       "│ 71    ┆ 5       ┆ 3       ┆ 2024-01-05 ┆ 7       │\n",
       "│ 72    ┆ 5       ┆ 3       ┆ 2024-01-06 ┆ 7       │\n",
       "└───────┴─────────┴─────────┴────────────┴─────────┘"
      ]
     },
     "execution_count": 40,
     "metadata": {},
     "output_type": "execute_result"
    }
   ],
   "source": [
    "with duckdb.connect(database=\"./data/duckdb.db\", read_only=False) as con:\n",
    "    #insert demand predictions\n",
    "    con.execute(\"INSERT INTO demand_predictions (dp_p_id, dp_s_id, dp_period, dp_mean) (SELECT * FROM df_demand_forecast)\")\n",
    "    # read demand_predictions table to verify in duckdb\n",
    "    df_demand_forecast = con.execute(\"\"\"SELECT * FROM demand_predictions\"\"\").pl()\n",
    "df_demand_forecast"
   ]
  },
  {
   "cell_type": "code",
   "execution_count": 49,
   "id": "5322af5e",
   "metadata": {},
   "outputs": [],
   "source": [
    "df_inventory = df_inventory.join(\n",
    "    df_products, left_on=\"p_name\", right_on=\"p_name\"\n",
    ").join(\n",
    "    df_stores, left_on=\"l_name\", right_on=\"s_name\"\n",
    ").select(\n",
    "    pl.col(\"p_id\").alias(\"sk_p_id\"),\n",
    "    pl.col(\"s_id\").alias(\"sk_s_id\"),\n",
    "    pl.col(\"period\").alias(\"sk_period\"),\n",
    "    pl.col(\"initial_inventory\").alias(\"sk_starting_inventory\"),\n",
    "    pl.col(\"ending_inventory\").alias(\"sk_ending_inventory\")\n",
    ")"
   ]
  },
  {
   "cell_type": "code",
   "execution_count": 50,
   "id": "0809c29e",
   "metadata": {},
   "outputs": [
    {
     "data": {
      "text/html": [
       "<div><style>\n",
       ".dataframe > thead > tr,\n",
       ".dataframe > tbody > tr {\n",
       "  text-align: right;\n",
       "  white-space: pre-wrap;\n",
       "}\n",
       "</style>\n",
       "<small>shape: (12, 6)</small><table border=\"1\" class=\"dataframe\"><thead><tr><th>sk_id</th><th>sk_p_id</th><th>sk_s_id</th><th>sk_period</th><th>sk_starting_inventory</th><th>sk_ending_inventory</th></tr><tr><td>i32</td><td>i32</td><td>i32</td><td>date</td><td>i32</td><td>i32</td></tr></thead><tbody><tr><td>1</td><td>3</td><td>1</td><td>2023-12-31</td><td>5</td><td>5</td></tr><tr><td>2</td><td>3</td><td>3</td><td>2023-12-31</td><td>5</td><td>5</td></tr><tr><td>3</td><td>2</td><td>1</td><td>2023-12-31</td><td>10</td><td>10</td></tr><tr><td>4</td><td>2</td><td>2</td><td>2023-12-31</td><td>10</td><td>10</td></tr><tr><td>5</td><td>2</td><td>3</td><td>2023-12-31</td><td>5</td><td>5</td></tr><tr><td>&hellip;</td><td>&hellip;</td><td>&hellip;</td><td>&hellip;</td><td>&hellip;</td><td>&hellip;</td></tr><tr><td>8</td><td>4</td><td>1</td><td>2023-12-31</td><td>5</td><td>5</td></tr><tr><td>9</td><td>4</td><td>2</td><td>2023-12-31</td><td>5</td><td>5</td></tr><tr><td>10</td><td>4</td><td>3</td><td>2023-12-31</td><td>0</td><td>0</td></tr><tr><td>11</td><td>1</td><td>2</td><td>2023-12-31</td><td>5</td><td>5</td></tr><tr><td>12</td><td>1</td><td>3</td><td>2023-12-31</td><td>3</td><td>3</td></tr></tbody></table></div>"
      ],
      "text/plain": [
       "shape: (12, 6)\n",
       "┌───────┬─────────┬─────────┬────────────┬───────────────────────┬─────────────────────┐\n",
       "│ sk_id ┆ sk_p_id ┆ sk_s_id ┆ sk_period  ┆ sk_starting_inventory ┆ sk_ending_inventory │\n",
       "│ ---   ┆ ---     ┆ ---     ┆ ---        ┆ ---                   ┆ ---                 │\n",
       "│ i32   ┆ i32     ┆ i32     ┆ date       ┆ i32                   ┆ i32                 │\n",
       "╞═══════╪═════════╪═════════╪════════════╪═══════════════════════╪═════════════════════╡\n",
       "│ 1     ┆ 3       ┆ 1       ┆ 2023-12-31 ┆ 5                     ┆ 5                   │\n",
       "│ 2     ┆ 3       ┆ 3       ┆ 2023-12-31 ┆ 5                     ┆ 5                   │\n",
       "│ 3     ┆ 2       ┆ 1       ┆ 2023-12-31 ┆ 10                    ┆ 10                  │\n",
       "│ 4     ┆ 2       ┆ 2       ┆ 2023-12-31 ┆ 10                    ┆ 10                  │\n",
       "│ 5     ┆ 2       ┆ 3       ┆ 2023-12-31 ┆ 5                     ┆ 5                   │\n",
       "│ …     ┆ …       ┆ …       ┆ …          ┆ …                     ┆ …                   │\n",
       "│ 8     ┆ 4       ┆ 1       ┆ 2023-12-31 ┆ 5                     ┆ 5                   │\n",
       "│ 9     ┆ 4       ┆ 2       ┆ 2023-12-31 ┆ 5                     ┆ 5                   │\n",
       "│ 10    ┆ 4       ┆ 3       ┆ 2023-12-31 ┆ 0                     ┆ 0                   │\n",
       "│ 11    ┆ 1       ┆ 2       ┆ 2023-12-31 ┆ 5                     ┆ 5                   │\n",
       "│ 12    ┆ 1       ┆ 3       ┆ 2023-12-31 ┆ 3                     ┆ 3                   │\n",
       "└───────┴─────────┴─────────┴────────────┴───────────────────────┴─────────────────────┘"
      ]
     },
     "execution_count": 50,
     "metadata": {},
     "output_type": "execute_result"
    }
   ],
   "source": [
    "with duckdb.connect(database=\"./data/duckdb.db\", read_only=False) as con:\n",
    "    con.execute(\"INSERT INTO stocks (sk_p_id, sk_s_id, sk_period, sk_starting_inventory, sk_ending_inventory) (SELECT * FROM df_inventory)\")\n",
    "    # read stocks table to verify in duckdb\n",
    "    df_inventory = con.execute(\"\"\"SELECT * FROM stocks\"\"\").pl()\n",
    "df_inventory"
   ]
  }
 ],
 "metadata": {
  "kernelspec": {
   "display_name": "operation-research",
   "language": "python",
   "name": "python3"
  },
  "language_info": {
   "codemirror_mode": {
    "name": "ipython",
    "version": 3
   },
   "file_extension": ".py",
   "mimetype": "text/x-python",
   "name": "python",
   "nbconvert_exporter": "python",
   "pygments_lexer": "ipython3",
   "version": "3.10.16"
  }
 },
 "nbformat": 4,
 "nbformat_minor": 5
}
