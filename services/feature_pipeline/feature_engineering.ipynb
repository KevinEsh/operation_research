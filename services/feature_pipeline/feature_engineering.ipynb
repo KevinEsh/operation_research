{
 "cells": [
  {
   "cell_type": "code",
   "execution_count": 8,
   "id": "7ff4abf7",
   "metadata": {},
   "outputs": [],
   "source": [
    "import polars as pl\n",
    "import polars.selectors as cs\n",
    "\n",
    "from typing import Tuple, List\n",
    "from datetime import date\n",
    "\n",
    "# def ewm(arr: pl.Series, alpha=0.9):\n",
    "#     if arr.len() == 0:\n",
    "#         return None\n",
    "#     weights = (1 - alpha) ** np.arange(arr.len()-1, -1, -1)\n",
    "#     return (arr * weights).sum() / weights.sum()\n",
    "\n",
    "def feature_engineering(snapshot_path: str, between: Tuple[date, date], target:str, agg_level: List[str], fill_nulls: bool=False) -> pl.LazyFrame:\n",
    "    \"\"\"\n",
    "    Feature engineering for sales data.\n",
    "    \n",
    "    Args:\n",
    "        sales_lzdf (pl.LazyFrame): LazyFrame containing sales data.\n",
    "        \n",
    "    Returns:\n",
    "        pl.LazyFrame: LazyFrame with engineered features.\n",
    "    \"\"\"\n",
    "    \n",
    "    # 1. Load\n",
    "    sales_lzdf = pl.scan_parquet(\n",
    "        snapshot_path,\n",
    "    ).sort(agg_level + [\"date\"]).with_columns([\n",
    "        pl.col(\"units_sold\").log1p(),\n",
    "        cs.boolean().cast(pl.Int8),  # Convert boolean to int for compatibility with LightGBM\n",
    "        cs.string().cast(pl.Categorical), # Convert string categories to categorical type\n",
    "    ]).rename({\"units_sold\": \"log_units_sold\"})  # Drop original units_sold column to avoid confusion\n",
    "\n",
    "    # 2. Add calendar features\n",
    "    sales_lzdf = sales_lzdf.with_columns([\n",
    "        pl.col(\"date\").dt.weekday().alias(\"weekday\"),\n",
    "        pl.col(\"date\").dt.month().alias(\"month\"),\n",
    "        pl.col(\"date\").dt.week().alias(\"weekofyear\"),\n",
    "        pl.col(\"date\").dt.ordinal_day().alias(\"dayofyear\"),\n",
    "    ]).with_columns(\n",
    "        cs.boolean().cast(pl.Int8)  # Convert boolean to int for compatibility with LightGBM\n",
    "    )\n",
    "\n",
    "    # # 3. Add lagged features for the previous 1, 3, 7, and 14 days\n",
    "    # for lag in [1, 3, 7, 14]:\n",
    "    #     # 3.1 This is a workaround for considering no registered sales on the lag day\n",
    "    #     # by shifting the date by the lag and joining on the shifted date\n",
    "    #     tmp = sales_lzdf.select(\n",
    "    #         *agg_level,\n",
    "    #         pl.col(\"date\") + pl.duration(days=lag),\n",
    "    #         pl.col(\"log_units_sold\").alias(f\"lag_{lag}d_log_units_sold\"),\n",
    "    #         # pl.col(\"is_on_promotion\").alias(f\"lag_{lag}d_is_on_promotion\"),\n",
    "    #     )\n",
    "        \n",
    "    #     sales_lzdf = sales_lzdf.join(tmp, on=agg_level+[\"date\"], how=\"left\")\n",
    "\n",
    "        # 3.2 This is the original way to add lags, but it will not consider no registered sales on the lag day\n",
    "        # sales_lzdf = sales_lzdf.with_columns(\n",
    "        #     pl.col(\"log_units_sold\")\n",
    "        #         .shift_by(lag, fill_value=0)  # Fill with 0 to avoid NaN\n",
    "        #         .over([\"product_id\", \"store_id\"], order_by=\"date\")\n",
    "        #         .alias(f\"lag_{lag}d_log_units_sold\")\n",
    "        # )\n",
    "\n",
    "    # 4. Add rolling features over the previous 3, 7, 14, and 28 days\n",
    "    for window in [3, 7, 14, 28]:\n",
    "        # Only consider window before current date to avoid data leakage. This is done by using closed='left'\n",
    "        tmp = sales_lzdf.rolling('date', period=f'{window}d', closed='right', group_by=agg_level).agg(\n",
    "            # 4.1 Calculate rolling mean, median, std, min, max, and ewm_mean to log_units_sold\n",
    "            pl.col(\"log_units_sold\").mean().alias(f\"mean_{window}d_log_units_sold\"),\n",
    "            pl.col(\"log_units_sold\").median().alias(f\"median_{window}d_log_units_sold\"),\n",
    "            pl.col(\"log_units_sold\").std().alias(f\"std_{window}d_log_units_sold\"),\n",
    "            pl.col(\"log_units_sold\").min().alias(f\"min_{window}d_log_units_sold\"),\n",
    "            pl.col(\"log_units_sold\").max().alias(f\"max_{window}d_log_units_sold\"),\n",
    "            pl.col(\"log_units_sold\").ewm_mean(alpha=0.9, adjust=True).last().alias(f\"ewm_{window}d_log_units_sold\"),\n",
    "            pl.col(\"log_units_sold\").diff().mean().alias(f\"diff_mean_{window}d_log_units_sold\"),\n",
    "        ).with_columns(\n",
    "            # 4.3 Calculate ratio of max to mean. Useful to identify outliers\n",
    "            (pl.col(f\"max_{window}d_log_units_sold\") / pl.col(f\"mean_{window}d_log_units_sold\"))\n",
    "                .alias(f\"max_mean_ratio_{window}d_log_units_sold\")\n",
    "        )\n",
    "        # sales_lzdf = pl.concat([sales_lzdf, tmp], how=\"horizontal\", parallel=True)\n",
    "        sales_lzdf = sales_lzdf.join(tmp, on=agg_level + [\"date\"], how=\"left\")\n",
    "\n",
    "        # sales_lzdf = sales_lzdf.with_columns(\n",
    "        #     # Calculate rolling mean\n",
    "        #     pl.col('log_units_sold') # Only consider window before current date to avoid data leakage\n",
    "        #         .rolling_mean_by('date', window_size=f\"{window}d\", closed=\"left\")\n",
    "        #         .over([\"product_id\", \"store_id\"])\n",
    "        #         .alias(f\"mean_{window}d_log_units_sold\"),\n",
    "        #     # Calculate rolling median\n",
    "        #     pl.col('log_units_sold') # Only consider window before current date to avoid data leakage\n",
    "        #         .rolling_median_by('date', window_size=f\"{window}d\", closed=\"left\")\n",
    "        #         .over([\"product_id\", \"store_id\"])\n",
    "        #         .alias(f\"median_{window}d_log_units_sold\"),\n",
    "        #     # Calculate rolling standard deviation\n",
    "        #     pl.col('log_units_sold') # Only consider window before current date to avoid data leakage\n",
    "        #         .rolling_std_by('date', window_size=f\"{window}d\", closed=\"left\")\n",
    "        #         .over([\"product_id\", \"store_id\"])\n",
    "        #         .alias(f\"std_{window}d_log_units_sold\"),\n",
    "        #     # Calculate rolling min\n",
    "        #     pl.col('log_units_sold') # Only consider window before current date to avoid data leakage\n",
    "        #         .rolling_min_by('date', window_size=f\"{window}d\", closed=\"left\")\n",
    "        #         .over([\"product_id\", \"store_id\"])\n",
    "        #         .alias(f\"min_{window}d_log_units_sold\"),\n",
    "        #     # Calculate rolling max\n",
    "        #     pl.col('log_units_sold') # Only consider window before current date to avoid data leakage\n",
    "        #         .rolling_max_by('date', window_size=f\"{window}d\", closed=\"left\")\n",
    "        #         .over([\"product_id\", \"store_id\"])\n",
    "        #         .alias(f\"max_{window}d_log_units_sold\"),\n",
    "        #     # # calculate rolling exponential weighted mean\n",
    "        #     # pl.col('log_units_sold') # Only consider window before current date to avoid data leakage\n",
    "        #     # .rolling_map(ewm, window_size=f\"{window}d\", closed=\"left\"),\n",
    "                # pl.col(\"is_on_promotion\")\n",
    "                #         .rolling_sum_by('date', window_size=f\"{window}d\", closed=\"left\")\n",
    "                #         .over(agg_level)\n",
    "                #         .alias(f\"sum_{window}d_is_on_promotion\")\n",
    "        # )\n",
    "\n",
    "    # 5. Add weekday rolling mean. e.i. mean of the same weekday in the past 4 weeks\n",
    "    for weeks in [1, 2, 3, 4]:\n",
    "        sales_lzdf = sales_lzdf.with_columns(\n",
    "            pl.col(\"log_units_sold\")\n",
    "                .rolling_mean_by('date', window_size=f\"{weeks}w\", closed=\"left\")\n",
    "                .over(agg_level)\n",
    "                .alias(f\"mean_{weeks}w_log_units_sold\")\n",
    "        )\n",
    "\n",
    "    # 5. Add yearly rolling mean. e.i. mean of the same day in the past 4 years\n",
    "    for years in [1, 2, 3, 4]:\n",
    "        sales_lzdf = sales_lzdf.with_columns(\n",
    "            pl.col(\"log_units_sold\")\n",
    "                .rolling_mean_by('date', window_size=f\"{years}w\", closed=\"left\")\n",
    "                .over(agg_level)\n",
    "                .alias(f\"mean_{years}y_log_units_sold\")\n",
    "        )\n",
    "\n",
    "    # 6. Add is_on_promotion column rolling sum after 16 days\n",
    "    for window in [3, 7, 14]:\n",
    "        tmp = sales_lzdf.rolling('date', period=f'{window}d', offset=\"0d\", closed='right', group_by=agg_level).agg(\n",
    "            pl.col(\"is_on_promotion\").sum().alias(f\"sum_next_{window}d_is_on_promotion\")\n",
    "        )\n",
    "        sales_lzdf = sales_lzdf.join(tmp, on=agg_level + [\"date\"], how=\"left\")\n",
    "\n",
    "    # 7. Join item features\n",
    "    # TODO: Esta concatenacion no deberia de estar aqui, deberia de ser otro paso del pipeline\n",
    "    products_lzdf = pl.scan_parquet(\n",
    "        \"../../data/favorita_dataset/subset/products.parquet\"\n",
    "    ).with_columns(\n",
    "        cs.boolean().cast(pl.Int8),  # Convert boolean to int for compatibility with LightGBM\n",
    "        cs.string().cast(pl.Categorical), # Convert string categories to categorical type\n",
    "    )\n",
    "\n",
    "    sales_lzdf = sales_lzdf.join(\n",
    "        products_lzdf,\n",
    "        on=\"product_id\",\n",
    "        how=\"left\"\n",
    "    )\n",
    "\n",
    "    # 8. Finally fills null values with 0\n",
    "    if fill_nulls:\n",
    "        sales_lzdf = sales_lzdf.fill_null(0)\n",
    "    \n",
    "    # 9. Filter by date range\n",
    "    return sales_lzdf.filter(pl.col(\"date\").is_between(*between))\n",
    "    \n",
    "\n",
    "# Get columns for horizons\n",
    "def apply_horizon_shifting(train_dataset: pl.DataFrame, horizons: int, agg_level: List[str]):\n",
    "    # Add predictions columns for horizons\n",
    "    for horizon in range(1, horizons + 1):\n",
    "        tmp = train_dataset.select(\n",
    "            *agg_level,\n",
    "            pl.col(\"date\") - pl.duration(days=horizon),\n",
    "            pl.col(\"log_units_sold\").alias(f\"h{horizon}_log_units_sold\"),\n",
    "        )\n",
    "\n",
    "        train_dataset = train_dataset.join(tmp, on=agg_level+[\"date\"], how=\"left\")\n",
    "    return train_dataset\n",
    "\n",
    "    # # 7. Flatten for single model\n",
    "    # # let's expand for horizon 1–7\n",
    "    # horizons = []\n",
    "    # for h in range(1,2):\n",
    "    #     tmp = sales_lzdf.filter(\n",
    "    #         pl.col(\"date\") <= pl.date(\"2017-08-15\")\n",
    "    #     ).with_columns([\n",
    "    #         pl.lit(h).alias(\"horizon\")\n",
    "    #     ])\n",
    "    #     # align y label\n",
    "    #     tmp = tmp.with_columns(\n",
    "    #         pl.col(\"units_sold\")\n",
    "    #         .shift(-h, by=[\"store_nbr\", \"item_nbr\"])\n",
    "    #         .alias(\"target\")\n",
    "    #     )\n",
    "    #     horizons.append(tmp)\n",
    "\n",
    "    # train = pl.concat(horizons)"
   ]
  },
  {
   "cell_type": "code",
   "execution_count": 18,
   "id": "5cf45f88",
   "metadata": {},
   "outputs": [],
   "source": [
    "dataset = feature_engineering(\n",
    "    snapshot_path=\"../../data/favorita_dataset/subset/sales_train.parquet\",\n",
    "    between=(date(2013, 1, 1), date(2017, 8, 15)),\n",
    "    target=\"log_units_sold\",\n",
    "    agg_level=[\"product_id\", \"store_id\"],\n",
    ").collect().lazy()\n",
    "\n",
    "dataset = apply_horizon_shifting(dataset, horizons=7, agg_level=[\"product_id\", \"store_id\"])"
   ]
  },
  {
   "cell_type": "code",
   "execution_count": 20,
   "id": "1a47a977",
   "metadata": {},
   "outputs": [
    {
     "data": {
      "text/html": [
       "<div><style>\n",
       ".dataframe > thead > tr,\n",
       ".dataframe > tbody > tr {\n",
       "  text-align: right;\n",
       "  white-space: pre-wrap;\n",
       "}\n",
       "</style>\n",
       "<small>shape: (33_579, 62)</small><table border=\"1\" class=\"dataframe\"><thead><tr><th>date</th><th>store_id</th><th>product_id</th><th>log_units_sold</th><th>is_on_promotion</th><th>weekday</th><th>month</th><th>weekofyear</th><th>dayofyear</th><th>mean_3d_log_units_sold</th><th>median_3d_log_units_sold</th><th>std_3d_log_units_sold</th><th>min_3d_log_units_sold</th><th>max_3d_log_units_sold</th><th>ewm_3d_log_units_sold</th><th>diff_mean_3d_log_units_sold</th><th>max_mean_ratio_3d_log_units_sold</th><th>mean_7d_log_units_sold</th><th>median_7d_log_units_sold</th><th>std_7d_log_units_sold</th><th>min_7d_log_units_sold</th><th>max_7d_log_units_sold</th><th>ewm_7d_log_units_sold</th><th>diff_mean_7d_log_units_sold</th><th>max_mean_ratio_7d_log_units_sold</th><th>mean_14d_log_units_sold</th><th>median_14d_log_units_sold</th><th>std_14d_log_units_sold</th><th>min_14d_log_units_sold</th><th>max_14d_log_units_sold</th><th>ewm_14d_log_units_sold</th><th>diff_mean_14d_log_units_sold</th><th>max_mean_ratio_14d_log_units_sold</th><th>mean_28d_log_units_sold</th><th>median_28d_log_units_sold</th><th>std_28d_log_units_sold</th><th>min_28d_log_units_sold</th><th>max_28d_log_units_sold</th><th>ewm_28d_log_units_sold</th><th>diff_mean_28d_log_units_sold</th><th>max_mean_ratio_28d_log_units_sold</th><th>mean_1w_log_units_sold</th><th>mean_2w_log_units_sold</th><th>mean_3w_log_units_sold</th><th>mean_4w_log_units_sold</th><th>mean_1y_log_units_sold</th><th>mean_2y_log_units_sold</th><th>mean_3y_log_units_sold</th><th>mean_4y_log_units_sold</th><th>sum_next_3d_is_on_promotion</th><th>sum_next_7d_is_on_promotion</th><th>sum_next_14d_is_on_promotion</th><th>family</th><th>class</th><th>perishable</th><th>h1_log_units_sold</th><th>h2_log_units_sold</th><th>h3_log_units_sold</th><th>h4_log_units_sold</th><th>h5_log_units_sold</th><th>h6_log_units_sold</th><th>h7_log_units_sold</th></tr><tr><td>date</td><td>i64</td><td>i64</td><td>f64</td><td>i8</td><td>i8</td><td>i8</td><td>i8</td><td>i16</td><td>f64</td><td>f64</td><td>f64</td><td>f64</td><td>f64</td><td>f64</td><td>f64</td><td>f64</td><td>f64</td><td>f64</td><td>f64</td><td>f64</td><td>f64</td><td>f64</td><td>f64</td><td>f64</td><td>f64</td><td>f64</td><td>f64</td><td>f64</td><td>f64</td><td>f64</td><td>f64</td><td>f64</td><td>f64</td><td>f64</td><td>f64</td><td>f64</td><td>f64</td><td>f64</td><td>f64</td><td>f64</td><td>f64</td><td>f64</td><td>f64</td><td>f64</td><td>f64</td><td>f64</td><td>f64</td><td>f64</td><td>i64</td><td>i64</td><td>i64</td><td>cat</td><td>cat</td><td>i8</td><td>f64</td><td>f64</td><td>f64</td><td>f64</td><td>f64</td><td>f64</td><td>f64</td></tr></thead><tbody><tr><td>2013-01-02</td><td>3</td><td>213652</td><td>3.555348</td><td>0</td><td>3</td><td>1</td><td>1</td><td>2</td><td>3.555348</td><td>3.555348</td><td>null</td><td>3.555348</td><td>3.555348</td><td>3.555348</td><td>null</td><td>1.0</td><td>3.555348</td><td>3.555348</td><td>null</td><td>3.555348</td><td>3.555348</td><td>3.555348</td><td>null</td><td>1.0</td><td>3.555348</td><td>3.555348</td><td>null</td><td>3.555348</td><td>3.555348</td><td>3.555348</td><td>null</td><td>1.0</td><td>3.555348</td><td>3.555348</td><td>null</td><td>3.555348</td><td>3.555348</td><td>3.555348</td><td>null</td><td>1.0</td><td>null</td><td>null</td><td>null</td><td>null</td><td>null</td><td>null</td><td>null</td><td>null</td><td>0</td><td>0</td><td>0</td><td>&quot;GROCERY I&quot;</td><td>&quot;1048&quot;</td><td>0</td><td>3.912023</td><td>3.135494</td><td>3.401197</td><td>3.332205</td><td>3.258097</td><td>2.944439</td><td>3.526361</td></tr><tr><td>2013-01-03</td><td>3</td><td>213652</td><td>3.912023</td><td>0</td><td>4</td><td>1</td><td>1</td><td>3</td><td>3.733686</td><td>3.733686</td><td>0.252207</td><td>3.555348</td><td>3.912023</td><td>3.879598</td><td>0.356675</td><td>1.047764</td><td>3.733686</td><td>3.733686</td><td>0.252207</td><td>3.555348</td><td>3.912023</td><td>3.879598</td><td>0.356675</td><td>1.047764</td><td>3.733686</td><td>3.733686</td><td>0.252207</td><td>3.555348</td><td>3.912023</td><td>3.879598</td><td>0.356675</td><td>1.047764</td><td>3.733686</td><td>3.733686</td><td>0.252207</td><td>3.555348</td><td>3.912023</td><td>3.879598</td><td>0.356675</td><td>1.047764</td><td>3.555348</td><td>3.555348</td><td>3.555348</td><td>3.555348</td><td>3.555348</td><td>3.555348</td><td>3.555348</td><td>3.555348</td><td>0</td><td>0</td><td>0</td><td>&quot;GROCERY I&quot;</td><td>&quot;1048&quot;</td><td>0</td><td>3.135494</td><td>3.401197</td><td>3.332205</td><td>3.258097</td><td>2.944439</td><td>3.526361</td><td>3.433987</td></tr><tr><td>2013-01-04</td><td>3</td><td>213652</td><td>3.135494</td><td>0</td><td>5</td><td>1</td><td>1</td><td>4</td><td>3.534288</td><td>3.555348</td><td>0.388693</td><td>3.135494</td><td>3.912023</td><td>3.209234</td><td>-0.209927</td><td>1.106877</td><td>3.534288</td><td>3.555348</td><td>0.388693</td><td>3.135494</td><td>3.912023</td><td>3.209234</td><td>-0.209927</td><td>1.106877</td><td>3.534288</td><td>3.555348</td><td>0.388693</td><td>3.135494</td><td>3.912023</td><td>3.209234</td><td>-0.209927</td><td>1.106877</td><td>3.534288</td><td>3.555348</td><td>0.388693</td><td>3.135494</td><td>3.912023</td><td>3.209234</td><td>-0.209927</td><td>1.106877</td><td>3.733686</td><td>3.733686</td><td>3.733686</td><td>3.733686</td><td>3.733686</td><td>3.733686</td><td>3.733686</td><td>3.733686</td><td>0</td><td>0</td><td>0</td><td>&quot;GROCERY I&quot;</td><td>&quot;1048&quot;</td><td>0</td><td>3.401197</td><td>3.332205</td><td>3.258097</td><td>2.944439</td><td>3.526361</td><td>3.433987</td><td>2.639057</td></tr><tr><td>2013-01-05</td><td>3</td><td>213652</td><td>3.401197</td><td>0</td><td>6</td><td>1</td><td>1</td><td>5</td><td>3.482905</td><td>3.401197</td><td>0.39466</td><td>3.135494</td><td>3.912023</td><td>3.381862</td><td>-0.255413</td><td>1.123207</td><td>3.501016</td><td>3.478273</td><td>0.324268</td><td>3.135494</td><td>3.912023</td><td>3.382018</td><td>-0.051384</td><td>1.117397</td><td>3.501016</td><td>3.478273</td><td>0.324268</td><td>3.135494</td><td>3.912023</td><td>3.382018</td><td>-0.051384</td><td>1.117397</td><td>3.501016</td><td>3.478273</td><td>0.324268</td><td>3.135494</td><td>3.912023</td><td>3.382018</td><td>-0.051384</td><td>1.117397</td><td>3.534288</td><td>3.534288</td><td>3.534288</td><td>3.534288</td><td>3.534288</td><td>3.534288</td><td>3.534288</td><td>3.534288</td><td>0</td><td>0</td><td>0</td><td>&quot;GROCERY I&quot;</td><td>&quot;1048&quot;</td><td>0</td><td>3.332205</td><td>3.258097</td><td>2.944439</td><td>3.526361</td><td>3.433987</td><td>2.639057</td><td>2.944439</td></tr><tr><td>2013-01-06</td><td>3</td><td>213652</td><td>3.332205</td><td>0</td><td>7</td><td>1</td><td>1</td><td>6</td><td>3.289632</td><td>3.332205</td><td>0.137873</td><td>3.135494</td><td>3.401197</td><td>3.336648</td><td>0.098355</td><td>1.033914</td><td>3.467253</td><td>3.401197</td><td>0.290795</td><td>3.135494</td><td>3.912023</td><td>3.337185</td><td>-0.055786</td><td>1.128277</td><td>3.467253</td><td>3.401197</td><td>0.290795</td><td>3.135494</td><td>3.912023</td><td>3.337185</td><td>-0.055786</td><td>1.128277</td><td>3.467253</td><td>3.401197</td><td>0.290795</td><td>3.135494</td><td>3.912023</td><td>3.337185</td><td>-0.055786</td><td>1.128277</td><td>3.501016</td><td>3.501016</td><td>3.501016</td><td>3.501016</td><td>3.501016</td><td>3.501016</td><td>3.501016</td><td>3.501016</td><td>0</td><td>0</td><td>0</td><td>&quot;GROCERY I&quot;</td><td>&quot;1048&quot;</td><td>0</td><td>3.258097</td><td>2.944439</td><td>3.526361</td><td>3.433987</td><td>2.639057</td><td>2.944439</td><td>2.833213</td></tr><tr><td>&hellip;</td><td>&hellip;</td><td>&hellip;</td><td>&hellip;</td><td>&hellip;</td><td>&hellip;</td><td>&hellip;</td><td>&hellip;</td><td>&hellip;</td><td>&hellip;</td><td>&hellip;</td><td>&hellip;</td><td>&hellip;</td><td>&hellip;</td><td>&hellip;</td><td>&hellip;</td><td>&hellip;</td><td>&hellip;</td><td>&hellip;</td><td>&hellip;</td><td>&hellip;</td><td>&hellip;</td><td>&hellip;</td><td>&hellip;</td><td>&hellip;</td><td>&hellip;</td><td>&hellip;</td><td>&hellip;</td><td>&hellip;</td><td>&hellip;</td><td>&hellip;</td><td>&hellip;</td><td>&hellip;</td><td>&hellip;</td><td>&hellip;</td><td>&hellip;</td><td>&hellip;</td><td>&hellip;</td><td>&hellip;</td><td>&hellip;</td><td>&hellip;</td><td>&hellip;</td><td>&hellip;</td><td>&hellip;</td><td>&hellip;</td><td>&hellip;</td><td>&hellip;</td><td>&hellip;</td><td>&hellip;</td><td>&hellip;</td><td>&hellip;</td><td>&hellip;</td><td>&hellip;</td><td>&hellip;</td><td>&hellip;</td><td>&hellip;</td><td>&hellip;</td><td>&hellip;</td><td>&hellip;</td><td>&hellip;</td><td>&hellip;</td><td>&hellip;</td></tr><tr><td>2017-08-11</td><td>47</td><td>507478</td><td>3.332205</td><td>1</td><td>5</td><td>8</td><td>32</td><td>223</td><td>3.112031</td><td>3.295837</td><td>0.350329</td><td>2.70805</td><td>3.332205</td><td>3.275647</td><td>0.018184</td><td>1.070749</td><td>3.202917</td><td>3.295837</td><td>0.311544</td><td>2.70805</td><td>3.496508</td><td>3.275268</td><td>-0.027384</td><td>1.091664</td><td>3.223743</td><td>3.276967</td><td>0.296953</td><td>2.70805</td><td>3.713572</td><td>3.275268</td><td>-0.012639</td><td>1.151944</td><td>3.168747</td><td>3.238486</td><td>0.340994</td><td>2.397895</td><td>3.713572</td><td>3.275268</td><td>-0.0013</td><td>1.171937</td><td>3.139798</td><td>3.215648</td><td>3.218316</td><td>3.152967</td><td>3.139798</td><td>3.215648</td><td>3.218316</td><td>3.152967</td><td>0</td><td>0</td><td>0</td><td>&quot;EGGS&quot;</td><td>&quot;2502&quot;</td><td>1</td><td>2.833213</td><td>3.332205</td><td>3.496508</td><td>3.091042</td><td>null</td><td>null</td><td>null</td></tr><tr><td>2017-08-12</td><td>47</td><td>507478</td><td>2.833213</td><td>0</td><td>6</td><td>8</td><td>32</td><td>224</td><td>2.957823</td><td>2.833213</td><td>0.330209</td><td>2.70805</td><td>3.332205</td><td>2.87704</td><td>0.062582</td><td>1.126573</td><td>3.10816</td><td>3.258097</td><td>0.308219</td><td>2.70805</td><td>3.496508</td><td>2.877419</td><td>-0.070814</td><td>1.124944</td><td>3.176365</td><td>3.238486</td><td>0.30294</td><td>2.70805</td><td>3.713572</td><td>2.877419</td><td>-0.06772</td><td>1.169126</td><td>3.149672</td><td>3.218876</td><td>0.344397</td><td>2.397895</td><td>3.713572</td><td>2.877419</td><td>-0.024566</td><td>1.179034</td><td>3.202917</td><td>3.223743</td><td>3.244964</td><td>3.168747</td><td>3.202917</td><td>3.223743</td><td>3.244964</td><td>3.168747</td><td>0</td><td>0</td><td>0</td><td>&quot;EGGS&quot;</td><td>&quot;2502&quot;</td><td>1</td><td>3.332205</td><td>3.496508</td><td>3.091042</td><td>null</td><td>null</td><td>null</td><td>null</td></tr><tr><td>2017-08-13</td><td>47</td><td>507478</td><td>3.332205</td><td>0</td><td>7</td><td>8</td><td>32</td><td>225</td><td>3.165874</td><td>3.332205</td><td>0.288093</td><td>2.833213</td><td>3.332205</td><td>3.28725</td><td>0.0</td><td>1.052539</td><td>3.118747</td><td>3.295837</td><td>0.315416</td><td>2.70805</td><td>3.496508</td><td>3.286726</td><td>-0.027384</td><td>1.121126</td><td>3.149125</td><td>3.238486</td><td>0.265786</td><td>2.70805</td><td>3.496508</td><td>3.286726</td><td>0.025882</td><td>1.110311</td><td>3.143804</td><td>3.218876</td><td>0.339635</td><td>2.397895</td><td>3.713572</td><td>3.286726</td><td>0.008932</td><td>1.181235</td><td>3.10816</td><td>3.176365</td><td>3.219532</td><td>3.149672</td><td>3.10816</td><td>3.176365</td><td>3.219532</td><td>3.149672</td><td>0</td><td>0</td><td>0</td><td>&quot;EGGS&quot;</td><td>&quot;2502&quot;</td><td>1</td><td>3.496508</td><td>3.091042</td><td>null</td><td>null</td><td>null</td><td>null</td><td>null</td></tr><tr><td>2017-08-14</td><td>47</td><td>507478</td><td>3.496508</td><td>0</td><td>1</td><td>8</td><td>33</td><td>226</td><td>3.220642</td><td>3.332205</td><td>0.345434</td><td>2.833213</td><td>3.496508</td><td>3.47573</td><td>0.331647</td><td>1.085656</td><td>3.118747</td><td>3.295837</td><td>0.315416</td><td>2.70805</td><td>3.496508</td><td>3.475529</td><td>0.110549</td><td>1.121126</td><td>3.184894</td><td>3.276967</td><td>0.277015</td><td>2.70805</td><td>3.496508</td><td>3.475529</td><td>0.007332</td><td>1.097841</td><td>3.158285</td><td>3.238486</td><td>0.345888</td><td>2.397895</td><td>3.713572</td><td>3.475529</td><td>0.034502</td><td>1.175819</td><td>3.118747</td><td>3.149125</td><td>3.202547</td><td>3.143804</td><td>3.118747</td><td>3.149125</td><td>3.202547</td><td>3.143804</td><td>0</td><td>0</td><td>0</td><td>&quot;EGGS&quot;</td><td>&quot;2502&quot;</td><td>1</td><td>3.091042</td><td>null</td><td>null</td><td>null</td><td>null</td><td>null</td><td>null</td></tr><tr><td>2017-08-15</td><td>47</td><td>507478</td><td>3.091042</td><td>0</td><td>2</td><td>8</td><td>33</td><td>227</td><td>3.306585</td><td>3.332205</td><td>0.203943</td><td>3.091042</td><td>3.496508</td><td>3.129743</td><td>-0.120581</td><td>1.057438</td><td>3.15558</td><td>3.295837</td><td>0.290593</td><td>2.70805</td><td>3.496508</td><td>3.129491</td><td>-0.034132</td><td>1.10804</td><td>3.16274</td><td>3.238486</td><td>0.270716</td><td>2.70805</td><td>3.496508</td><td>3.129491</td><td>-0.009833</td><td>1.105531</td><td>3.177074</td><td>3.238486</td><td>0.326192</td><td>2.397895</td><td>3.713572</td><td>3.129491</td><td>0.007432</td><td>1.168865</td><td>3.118747</td><td>3.184894</td><td>3.210371</td><td>3.158285</td><td>3.118747</td><td>3.184894</td><td>3.210371</td><td>3.158285</td><td>null</td><td>null</td><td>null</td><td>&quot;EGGS&quot;</td><td>&quot;2502&quot;</td><td>1</td><td>null</td><td>null</td><td>null</td><td>null</td><td>null</td><td>null</td><td>null</td></tr></tbody></table></div>"
      ],
      "text/plain": [
       "shape: (33_579, 62)\n",
       "┌───────────┬──────────┬───────────┬───────────┬───┬───────────┬───────────┬───────────┬───────────┐\n",
       "│ date      ┆ store_id ┆ product_i ┆ log_units ┆ … ┆ h4_log_un ┆ h5_log_un ┆ h6_log_un ┆ h7_log_un │\n",
       "│ ---       ┆ ---      ┆ d         ┆ _sold     ┆   ┆ its_sold  ┆ its_sold  ┆ its_sold  ┆ its_sold  │\n",
       "│ date      ┆ i64      ┆ ---       ┆ ---       ┆   ┆ ---       ┆ ---       ┆ ---       ┆ ---       │\n",
       "│           ┆          ┆ i64       ┆ f64       ┆   ┆ f64       ┆ f64       ┆ f64       ┆ f64       │\n",
       "╞═══════════╪══════════╪═══════════╪═══════════╪═══╪═══════════╪═══════════╪═══════════╪═══════════╡\n",
       "│ 2013-01-0 ┆ 3        ┆ 213652    ┆ 3.555348  ┆ … ┆ 3.332205  ┆ 3.258097  ┆ 2.944439  ┆ 3.526361  │\n",
       "│ 2         ┆          ┆           ┆           ┆   ┆           ┆           ┆           ┆           │\n",
       "│ 2013-01-0 ┆ 3        ┆ 213652    ┆ 3.912023  ┆ … ┆ 3.258097  ┆ 2.944439  ┆ 3.526361  ┆ 3.433987  │\n",
       "│ 3         ┆          ┆           ┆           ┆   ┆           ┆           ┆           ┆           │\n",
       "│ 2013-01-0 ┆ 3        ┆ 213652    ┆ 3.135494  ┆ … ┆ 2.944439  ┆ 3.526361  ┆ 3.433987  ┆ 2.639057  │\n",
       "│ 4         ┆          ┆           ┆           ┆   ┆           ┆           ┆           ┆           │\n",
       "│ 2013-01-0 ┆ 3        ┆ 213652    ┆ 3.401197  ┆ … ┆ 3.526361  ┆ 3.433987  ┆ 2.639057  ┆ 2.944439  │\n",
       "│ 5         ┆          ┆           ┆           ┆   ┆           ┆           ┆           ┆           │\n",
       "│ 2013-01-0 ┆ 3        ┆ 213652    ┆ 3.332205  ┆ … ┆ 3.433987  ┆ 2.639057  ┆ 2.944439  ┆ 2.833213  │\n",
       "│ 6         ┆          ┆           ┆           ┆   ┆           ┆           ┆           ┆           │\n",
       "│ …         ┆ …        ┆ …         ┆ …         ┆ … ┆ …         ┆ …         ┆ …         ┆ …         │\n",
       "│ 2017-08-1 ┆ 47       ┆ 507478    ┆ 3.332205  ┆ … ┆ 3.091042  ┆ null      ┆ null      ┆ null      │\n",
       "│ 1         ┆          ┆           ┆           ┆   ┆           ┆           ┆           ┆           │\n",
       "│ 2017-08-1 ┆ 47       ┆ 507478    ┆ 2.833213  ┆ … ┆ null      ┆ null      ┆ null      ┆ null      │\n",
       "│ 2         ┆          ┆           ┆           ┆   ┆           ┆           ┆           ┆           │\n",
       "│ 2017-08-1 ┆ 47       ┆ 507478    ┆ 3.332205  ┆ … ┆ null      ┆ null      ┆ null      ┆ null      │\n",
       "│ 3         ┆          ┆           ┆           ┆   ┆           ┆           ┆           ┆           │\n",
       "│ 2017-08-1 ┆ 47       ┆ 507478    ┆ 3.496508  ┆ … ┆ null      ┆ null      ┆ null      ┆ null      │\n",
       "│ 4         ┆          ┆           ┆           ┆   ┆           ┆           ┆           ┆           │\n",
       "│ 2017-08-1 ┆ 47       ┆ 507478    ┆ 3.091042  ┆ … ┆ null      ┆ null      ┆ null      ┆ null      │\n",
       "│ 5         ┆          ┆           ┆           ┆   ┆           ┆           ┆           ┆           │\n",
       "└───────────┴──────────┴───────────┴───────────┴───┴───────────┴───────────┴───────────┴───────────┘"
      ]
     },
     "execution_count": 20,
     "metadata": {},
     "output_type": "execute_result"
    }
   ],
   "source": [
    "dataset.collect()"
   ]
  },
  {
   "cell_type": "code",
   "execution_count": 17,
   "id": "8eefabde",
   "metadata": {},
   "outputs": [
    {
     "data": {
      "text/html": [
       "<div><style>\n",
       ".dataframe > thead > tr,\n",
       ".dataframe > tbody > tr {\n",
       "  text-align: right;\n",
       "  white-space: pre-wrap;\n",
       "}\n",
       "</style>\n",
       "<small>shape: (1_679, 2)</small><table border=\"1\" class=\"dataframe\"><thead><tr><th>date</th><th>count</th></tr><tr><td>date</td><td>u32</td></tr></thead><tbody><tr><td>2017-08-15</td><td>20</td></tr><tr><td>2017-08-14</td><td>20</td></tr><tr><td>2017-08-13</td><td>20</td></tr><tr><td>2017-08-12</td><td>20</td></tr><tr><td>2017-08-11</td><td>20</td></tr><tr><td>&hellip;</td><td>&hellip;</td></tr><tr><td>2013-01-06</td><td>20</td></tr><tr><td>2013-01-05</td><td>20</td></tr><tr><td>2013-01-04</td><td>20</td></tr><tr><td>2013-01-03</td><td>20</td></tr><tr><td>2013-01-02</td><td>20</td></tr></tbody></table></div>"
      ],
      "text/plain": [
       "shape: (1_679, 2)\n",
       "┌────────────┬───────┐\n",
       "│ date       ┆ count │\n",
       "│ ---        ┆ ---   │\n",
       "│ date       ┆ u32   │\n",
       "╞════════════╪═══════╡\n",
       "│ 2017-08-15 ┆ 20    │\n",
       "│ 2017-08-14 ┆ 20    │\n",
       "│ 2017-08-13 ┆ 20    │\n",
       "│ 2017-08-12 ┆ 20    │\n",
       "│ 2017-08-11 ┆ 20    │\n",
       "│ …          ┆ …     │\n",
       "│ 2013-01-06 ┆ 20    │\n",
       "│ 2013-01-05 ┆ 20    │\n",
       "│ 2013-01-04 ┆ 20    │\n",
       "│ 2013-01-03 ┆ 20    │\n",
       "│ 2013-01-02 ┆ 20    │\n",
       "└────────────┴───────┘"
      ]
     },
     "execution_count": 17,
     "metadata": {},
     "output_type": "execute_result"
    }
   ],
   "source": [
    "train_dataset[\"date\"].value_counts().sort(\"date\", descending=True)"
   ]
  },
  {
   "cell_type": "code",
   "execution_count": 36,
   "id": "71a32ff7",
   "metadata": {},
   "outputs": [
    {
     "name": "stdout",
     "output_type": "stream",
     "text": [
      "2147483647\n"
     ]
    }
   ],
   "source": [
    "#transform bit string to integer\n",
    "def bitstring_to_int(bitstring: str) -> int:\n",
    "    \"\"\"Convert a bit string to an integer.\"\"\"\n",
    "    return int(bitstring, 2)\n",
    "# Example usage\n",
    "bitstring = \"1\" * 31\n",
    "print(bitstring_to_int(bitstring))  # Output: 13"
   ]
  },
  {
   "cell_type": "code",
   "execution_count": 66,
   "id": "2efb3e59",
   "metadata": {},
   "outputs": [
    {
     "data": {
      "text/html": [
       "<div><style>\n",
       ".dataframe > thead > tr,\n",
       ".dataframe > tbody > tr {\n",
       "  text-align: right;\n",
       "  white-space: pre-wrap;\n",
       "}\n",
       "</style>\n",
       "<small>shape: (10, 5)</small><table border=\"1\" class=\"dataframe\"><thead><tr><th>date</th><th>type</th><th>locale</th><th>locale_name</th><th>description</th></tr><tr><td>date</td><td>cat</td><td>cat</td><td>cat</td><td>str</td></tr></thead><tbody><tr><td>2012-08-10</td><td>&quot;Holiday&quot;</td><td>&quot;National&quot;</td><td>&quot;Ecuador&quot;</td><td>&quot;Primer Grito de Independencia&quot;</td></tr><tr><td>2012-10-12</td><td>&quot;Transfer&quot;</td><td>&quot;National&quot;</td><td>&quot;Ecuador&quot;</td><td>&quot;Independencia de Guayaquil&quot;</td></tr><tr><td>2012-11-02</td><td>&quot;Holiday&quot;</td><td>&quot;National&quot;</td><td>&quot;Ecuador&quot;</td><td>&quot;Dia de Difuntos&quot;</td></tr><tr><td>2012-11-03</td><td>&quot;Holiday&quot;</td><td>&quot;National&quot;</td><td>&quot;Ecuador&quot;</td><td>&quot;Independencia de Cuenca&quot;</td></tr><tr><td>2012-12-05</td><td>&quot;Additional&quot;</td><td>&quot;Local&quot;</td><td>&quot;Quito&quot;</td><td>&quot;Fundacion de Quito-1&quot;</td></tr><tr><td>2012-12-06</td><td>&quot;Holiday&quot;</td><td>&quot;Local&quot;</td><td>&quot;Quito&quot;</td><td>&quot;Fundacion de Quito&quot;</td></tr><tr><td>2012-12-21</td><td>&quot;Additional&quot;</td><td>&quot;National&quot;</td><td>&quot;Ecuador&quot;</td><td>&quot;Navidad-4&quot;</td></tr><tr><td>2012-12-22</td><td>&quot;Additional&quot;</td><td>&quot;National&quot;</td><td>&quot;Ecuador&quot;</td><td>&quot;Navidad-3&quot;</td></tr><tr><td>2012-12-23</td><td>&quot;Additional&quot;</td><td>&quot;National&quot;</td><td>&quot;Ecuador&quot;</td><td>&quot;Navidad-2&quot;</td></tr><tr><td>2012-12-24</td><td>&quot;Bridge&quot;</td><td>&quot;National&quot;</td><td>&quot;Ecuador&quot;</td><td>&quot;Puente Navidad&quot;</td></tr></tbody></table></div>"
      ],
      "text/plain": [
       "shape: (10, 5)\n",
       "┌────────────┬────────────┬──────────┬─────────────┬───────────────────────────────┐\n",
       "│ date       ┆ type       ┆ locale   ┆ locale_name ┆ description                   │\n",
       "│ ---        ┆ ---        ┆ ---      ┆ ---         ┆ ---                           │\n",
       "│ date       ┆ cat        ┆ cat      ┆ cat         ┆ str                           │\n",
       "╞════════════╪════════════╪══════════╪═════════════╪═══════════════════════════════╡\n",
       "│ 2012-08-10 ┆ Holiday    ┆ National ┆ Ecuador     ┆ Primer Grito de Independencia │\n",
       "│ 2012-10-12 ┆ Transfer   ┆ National ┆ Ecuador     ┆ Independencia de Guayaquil    │\n",
       "│ 2012-11-02 ┆ Holiday    ┆ National ┆ Ecuador     ┆ Dia de Difuntos               │\n",
       "│ 2012-11-03 ┆ Holiday    ┆ National ┆ Ecuador     ┆ Independencia de Cuenca       │\n",
       "│ 2012-12-05 ┆ Additional ┆ Local    ┆ Quito       ┆ Fundacion de Quito-1          │\n",
       "│ 2012-12-06 ┆ Holiday    ┆ Local    ┆ Quito       ┆ Fundacion de Quito            │\n",
       "│ 2012-12-21 ┆ Additional ┆ National ┆ Ecuador     ┆ Navidad-4                     │\n",
       "│ 2012-12-22 ┆ Additional ┆ National ┆ Ecuador     ┆ Navidad-3                     │\n",
       "│ 2012-12-23 ┆ Additional ┆ National ┆ Ecuador     ┆ Navidad-2                     │\n",
       "│ 2012-12-24 ┆ Bridge     ┆ National ┆ Ecuador     ┆ Puente Navidad                │\n",
       "└────────────┴────────────┴──────────┴─────────────┴───────────────────────────────┘"
      ]
     },
     "execution_count": 66,
     "metadata": {},
     "output_type": "execute_result"
    }
   ],
   "source": [
    "events_lzdf = pl.scan_parquet(\n",
    "    \"./data/favorita_dataset/subset/events.parquet\")\n",
    "\n",
    "stores_lzdf = pl.scan_parquet(\n",
    "    \"./data/favorita_dataset/subset/stores.parquet\"\n",
    ").with_columns(\n",
    "    cs.boolean().cast(pl.Int8),  # Convert boolean to int for compatibility with LightGBM\n",
    "    cs.string().cast(pl.Categorical), # Convert string categories to categorical type\n",
    ")\n",
    "\n",
    "events_lzdf.collect().head(10)"
   ]
  },
  {
   "cell_type": "code",
   "execution_count": 67,
   "id": "1695a0a1",
   "metadata": {},
   "outputs": [
    {
     "data": {
      "text/html": [
       "<div><style>\n",
       ".dataframe > thead > tr,\n",
       ".dataframe > tbody > tr {\n",
       "  text-align: right;\n",
       "  white-space: pre-wrap;\n",
       "}\n",
       "</style>\n",
       "<small>shape: (4, 6)</small><table border=\"1\" class=\"dataframe\"><thead><tr><th>store_id</th><th>city</th><th>state</th><th>type</th><th>cluster</th><th>country</th></tr><tr><td>i32</td><td>cat</td><td>cat</td><td>cat</td><td>cat</td><td>cat</td></tr></thead><tbody><tr><td>3</td><td>&quot;Quito&quot;</td><td>&quot;Pichincha&quot;</td><td>&quot;D&quot;</td><td>&quot;8&quot;</td><td>&quot;Ecuador&quot;</td></tr><tr><td>44</td><td>&quot;Quito&quot;</td><td>&quot;Pichincha&quot;</td><td>&quot;A&quot;</td><td>&quot;5&quot;</td><td>&quot;Ecuador&quot;</td></tr><tr><td>45</td><td>&quot;Quito&quot;</td><td>&quot;Pichincha&quot;</td><td>&quot;A&quot;</td><td>&quot;11&quot;</td><td>&quot;Ecuador&quot;</td></tr><tr><td>47</td><td>&quot;Quito&quot;</td><td>&quot;Pichincha&quot;</td><td>&quot;A&quot;</td><td>&quot;14&quot;</td><td>&quot;Ecuador&quot;</td></tr></tbody></table></div>"
      ],
      "text/plain": [
       "shape: (4, 6)\n",
       "┌──────────┬───────┬───────────┬──────┬─────────┬─────────┐\n",
       "│ store_id ┆ city  ┆ state     ┆ type ┆ cluster ┆ country │\n",
       "│ ---      ┆ ---   ┆ ---       ┆ ---  ┆ ---     ┆ ---     │\n",
       "│ i32      ┆ cat   ┆ cat       ┆ cat  ┆ cat     ┆ cat     │\n",
       "╞══════════╪═══════╪═══════════╪══════╪═════════╪═════════╡\n",
       "│ 3        ┆ Quito ┆ Pichincha ┆ D    ┆ 8       ┆ Ecuador │\n",
       "│ 44       ┆ Quito ┆ Pichincha ┆ A    ┆ 5       ┆ Ecuador │\n",
       "│ 45       ┆ Quito ┆ Pichincha ┆ A    ┆ 11      ┆ Ecuador │\n",
       "│ 47       ┆ Quito ┆ Pichincha ┆ A    ┆ 14      ┆ Ecuador │\n",
       "└──────────┴───────┴───────────┴──────┴─────────┴─────────┘"
      ]
     },
     "execution_count": 67,
     "metadata": {},
     "output_type": "execute_result"
    }
   ],
   "source": [
    "stores_lzdf.collect().head(10)"
   ]
  },
  {
   "cell_type": "code",
   "execution_count": 77,
   "id": "875cae07",
   "metadata": {},
   "outputs": [
    {
     "name": "stderr",
     "output_type": "stream",
     "text": [
      "sys:1: CategoricalRemappingWarning: Local categoricals have different encodings, expensive re-encoding is done to perform this merge operation. Consider using a StringCache or an Enum type if the categories are known in advance\n",
      "C:\\Users\\godsp\\AppData\\Local\\Temp\\ipykernel_10892\\1231450032.py:12: CategoricalRemappingWarning: Local categoricals have different encodings, expensive re-encoding is done to perform this merge operation. Consider using a StringCache or an Enum type if the categories are known in advance\n",
      "  ).collect().head(10)\n"
     ]
    },
    {
     "data": {
      "text/html": [
       "<div><style>\n",
       ".dataframe > thead > tr,\n",
       ".dataframe > tbody > tr {\n",
       "  text-align: right;\n",
       "  white-space: pre-wrap;\n",
       "}\n",
       "</style>\n",
       "<small>shape: (10, 7)</small><table border=\"1\" class=\"dataframe\"><thead><tr><th>date</th><th>type</th><th>locale</th><th>locale_name</th><th>description</th><th>store_id</th><th>store_id_right</th></tr><tr><td>date</td><td>cat</td><td>cat</td><td>cat</td><td>str</td><td>i32</td><td>i32</td></tr></thead><tbody><tr><td>2012-08-10</td><td>&quot;Holiday&quot;</td><td>&quot;National&quot;</td><td>&quot;Ecuador&quot;</td><td>&quot;Primer Grito de Independencia&quot;</td><td>null</td><td>3</td></tr><tr><td>2012-08-10</td><td>&quot;Holiday&quot;</td><td>&quot;National&quot;</td><td>&quot;Ecuador&quot;</td><td>&quot;Primer Grito de Independencia&quot;</td><td>null</td><td>44</td></tr><tr><td>2012-08-10</td><td>&quot;Holiday&quot;</td><td>&quot;National&quot;</td><td>&quot;Ecuador&quot;</td><td>&quot;Primer Grito de Independencia&quot;</td><td>null</td><td>45</td></tr><tr><td>2012-08-10</td><td>&quot;Holiday&quot;</td><td>&quot;National&quot;</td><td>&quot;Ecuador&quot;</td><td>&quot;Primer Grito de Independencia&quot;</td><td>null</td><td>47</td></tr><tr><td>2012-10-12</td><td>&quot;Transfer&quot;</td><td>&quot;National&quot;</td><td>&quot;Ecuador&quot;</td><td>&quot;Independencia de Guayaquil&quot;</td><td>null</td><td>3</td></tr><tr><td>2012-10-12</td><td>&quot;Transfer&quot;</td><td>&quot;National&quot;</td><td>&quot;Ecuador&quot;</td><td>&quot;Independencia de Guayaquil&quot;</td><td>null</td><td>44</td></tr><tr><td>2012-10-12</td><td>&quot;Transfer&quot;</td><td>&quot;National&quot;</td><td>&quot;Ecuador&quot;</td><td>&quot;Independencia de Guayaquil&quot;</td><td>null</td><td>45</td></tr><tr><td>2012-10-12</td><td>&quot;Transfer&quot;</td><td>&quot;National&quot;</td><td>&quot;Ecuador&quot;</td><td>&quot;Independencia de Guayaquil&quot;</td><td>null</td><td>47</td></tr><tr><td>2012-11-02</td><td>&quot;Holiday&quot;</td><td>&quot;National&quot;</td><td>&quot;Ecuador&quot;</td><td>&quot;Dia de Difuntos&quot;</td><td>null</td><td>3</td></tr><tr><td>2012-11-02</td><td>&quot;Holiday&quot;</td><td>&quot;National&quot;</td><td>&quot;Ecuador&quot;</td><td>&quot;Dia de Difuntos&quot;</td><td>null</td><td>44</td></tr></tbody></table></div>"
      ],
      "text/plain": [
       "shape: (10, 7)\n",
       "┌────────────┬──────────┬──────────┬─────────────┬──────────────────┬──────────┬────────────────┐\n",
       "│ date       ┆ type     ┆ locale   ┆ locale_name ┆ description      ┆ store_id ┆ store_id_right │\n",
       "│ ---        ┆ ---      ┆ ---      ┆ ---         ┆ ---              ┆ ---      ┆ ---            │\n",
       "│ date       ┆ cat      ┆ cat      ┆ cat         ┆ str              ┆ i32      ┆ i32            │\n",
       "╞════════════╪══════════╪══════════╪═════════════╪══════════════════╪══════════╪════════════════╡\n",
       "│ 2012-08-10 ┆ Holiday  ┆ National ┆ Ecuador     ┆ Primer Grito de  ┆ null     ┆ 3              │\n",
       "│            ┆          ┆          ┆             ┆ Independencia    ┆          ┆                │\n",
       "│ 2012-08-10 ┆ Holiday  ┆ National ┆ Ecuador     ┆ Primer Grito de  ┆ null     ┆ 44             │\n",
       "│            ┆          ┆          ┆             ┆ Independencia    ┆          ┆                │\n",
       "│ 2012-08-10 ┆ Holiday  ┆ National ┆ Ecuador     ┆ Primer Grito de  ┆ null     ┆ 45             │\n",
       "│            ┆          ┆          ┆             ┆ Independencia    ┆          ┆                │\n",
       "│ 2012-08-10 ┆ Holiday  ┆ National ┆ Ecuador     ┆ Primer Grito de  ┆ null     ┆ 47             │\n",
       "│            ┆          ┆          ┆             ┆ Independencia    ┆          ┆                │\n",
       "│ 2012-10-12 ┆ Transfer ┆ National ┆ Ecuador     ┆ Independencia de ┆ null     ┆ 3              │\n",
       "│            ┆          ┆          ┆             ┆ Guayaquil        ┆          ┆                │\n",
       "│ 2012-10-12 ┆ Transfer ┆ National ┆ Ecuador     ┆ Independencia de ┆ null     ┆ 44             │\n",
       "│            ┆          ┆          ┆             ┆ Guayaquil        ┆          ┆                │\n",
       "│ 2012-10-12 ┆ Transfer ┆ National ┆ Ecuador     ┆ Independencia de ┆ null     ┆ 45             │\n",
       "│            ┆          ┆          ┆             ┆ Guayaquil        ┆          ┆                │\n",
       "│ 2012-10-12 ┆ Transfer ┆ National ┆ Ecuador     ┆ Independencia de ┆ null     ┆ 47             │\n",
       "│            ┆          ┆          ┆             ┆ Guayaquil        ┆          ┆                │\n",
       "│ 2012-11-02 ┆ Holiday  ┆ National ┆ Ecuador     ┆ Dia de Difuntos  ┆ null     ┆ 3              │\n",
       "│ 2012-11-02 ┆ Holiday  ┆ National ┆ Ecuador     ┆ Dia de Difuntos  ┆ null     ┆ 44             │\n",
       "└────────────┴──────────┴──────────┴─────────────┴──────────────────┴──────────┴────────────────┘"
      ]
     },
     "execution_count": 77,
     "metadata": {},
     "output_type": "execute_result"
    }
   ],
   "source": [
    "events_lzdf.join(\n",
    "    stores_lzdf.select(\"store_id\", \"city\"),\n",
    "    left_on=\"locale_name\",\n",
    "    right_on=\"city\",\n",
    "    how=\"left\",\n",
    ").join(\n",
    "    stores_lzdf.select(\"store_id\", \"country\"),\n",
    "    left_on=\"locale_name\",\n",
    "    right_on=\"country\",\n",
    "    how=\"left\",\n",
    "    # coalesce=\"store_id\"\n",
    ").collect().head(10)"
   ]
  },
  {
   "cell_type": "code",
   "execution_count": 2,
   "id": "c05e595e",
   "metadata": {},
   "outputs": [
    {
     "data": {
      "text/html": [
       "<div><style>\n",
       ".dataframe > thead > tr,\n",
       ".dataframe > tbody > tr {\n",
       "  text-align: right;\n",
       "  white-space: pre-wrap;\n",
       "}\n",
       "</style>\n",
       "<small>shape: (10, 6)</small><table border=\"1\" class=\"dataframe\"><thead><tr><th>date</th><th>lag_1d_log_units_sold</th><th>log_units_sold</th><th>perishable</th><th>is_on_promotion</th><th>pct_next_14d_is_on_promotion</th></tr><tr><td>date</td><td>f64</td><td>f64</td><td>i8</td><td>i8</td><td>f64</td></tr></thead><tbody><tr><td>2016-11-10</td><td>3.091042</td><td>3.135494</td><td>0</td><td>0</td><td>0.642857</td></tr><tr><td>2016-11-11</td><td>3.135494</td><td>3.663562</td><td>0</td><td>0</td><td>0.714286</td></tr><tr><td>2016-11-12</td><td>3.663562</td><td>2.833213</td><td>0</td><td>0</td><td>0.785714</td></tr><tr><td>2016-11-13</td><td>2.833213</td><td>3.332205</td><td>0</td><td>0</td><td>0.857143</td></tr><tr><td>2016-11-14</td><td>3.332205</td><td>3.135494</td><td>0</td><td>0</td><td>0.928571</td></tr><tr><td>2016-11-15</td><td>3.135494</td><td>3.218876</td><td>0</td><td>0</td><td>1.0</td></tr><tr><td>2016-11-16</td><td>3.218876</td><td>3.951244</td><td>0</td><td>1</td><td>1.0</td></tr><tr><td>2016-11-17</td><td>3.951244</td><td>3.258097</td><td>0</td><td>1</td><td>1.0</td></tr><tr><td>2016-11-18</td><td>3.258097</td><td>3.465736</td><td>0</td><td>1</td><td>1.0</td></tr><tr><td>2016-11-19</td><td>3.465736</td><td>3.526361</td><td>0</td><td>1</td><td>1.0</td></tr></tbody></table></div>"
      ],
      "text/plain": [
       "shape: (10, 6)\n",
       "┌────────────┬──────────────────┬────────────────┬────────────┬─────────────────┬──────────────────┐\n",
       "│ date       ┆ lag_1d_log_units ┆ log_units_sold ┆ perishable ┆ is_on_promotion ┆ pct_next_14d_is_ │\n",
       "│ ---        ┆ _sold            ┆ ---            ┆ ---        ┆ ---             ┆ on_promotion     │\n",
       "│ date       ┆ ---              ┆ f64            ┆ i8         ┆ i8              ┆ ---              │\n",
       "│            ┆ f64              ┆                ┆            ┆                 ┆ f64              │\n",
       "╞════════════╪══════════════════╪════════════════╪════════════╪═════════════════╪══════════════════╡\n",
       "│ 2016-11-10 ┆ 3.091042         ┆ 3.135494       ┆ 0          ┆ 0               ┆ 0.642857         │\n",
       "│ 2016-11-11 ┆ 3.135494         ┆ 3.663562       ┆ 0          ┆ 0               ┆ 0.714286         │\n",
       "│ 2016-11-12 ┆ 3.663562         ┆ 2.833213       ┆ 0          ┆ 0               ┆ 0.785714         │\n",
       "│ 2016-11-13 ┆ 2.833213         ┆ 3.332205       ┆ 0          ┆ 0               ┆ 0.857143         │\n",
       "│ 2016-11-14 ┆ 3.332205         ┆ 3.135494       ┆ 0          ┆ 0               ┆ 0.928571         │\n",
       "│ 2016-11-15 ┆ 3.135494         ┆ 3.218876       ┆ 0          ┆ 0               ┆ 1.0              │\n",
       "│ 2016-11-16 ┆ 3.218876         ┆ 3.951244       ┆ 0          ┆ 1               ┆ 1.0              │\n",
       "│ 2016-11-17 ┆ 3.951244         ┆ 3.258097       ┆ 0          ┆ 1               ┆ 1.0              │\n",
       "│ 2016-11-18 ┆ 3.258097         ┆ 3.465736       ┆ 0          ┆ 1               ┆ 1.0              │\n",
       "│ 2016-11-19 ┆ 3.465736         ┆ 3.526361       ┆ 0          ┆ 1               ┆ 1.0              │\n",
       "└────────────┴──────────────────┴────────────────┴────────────┴─────────────────┴──────────────────┘"
      ]
     },
     "execution_count": 2,
     "metadata": {},
     "output_type": "execute_result"
    }
   ],
   "source": [
    "import polars.selectors as cs\n",
    "sales_lzdf.filter(\n",
    "    (pl.col(\"store_id\") == 3) \n",
    "    & (pl.col(\"product_id\") == 213652)\n",
    "    # & (pl.col(\"lag_1d_log_units_sold\").is_null())\n",
    "    # & (pl.col(\"date\").is_between(pl.date(2013,12,23), pl.date(2013,12,31)) )\n",
    ").select(\n",
    "    # pl.all()\n",
    "    'date', \"lag_1d_log_units_sold\", \"log_units_sold\", \"perishable\", \"is_on_promotion\", \"pct_next_14d_is_on_promotion\",\n",
    "    # \"date\", pl.col.log_units_sold, cs.contains(\"diff\"), #cs.contains(\"promo\")\n",
    ").filter(\n",
    "    pl.col(\"date\") >= pl.date(2016,11,10)\n",
    "    # pl.col(\"sum_3d_after_is_on_promotion\") > 0\n",
    ").collect().head(10)\n",
    "# sales_lzdf.collect()"
   ]
  },
  {
   "cell_type": "code",
   "execution_count": null,
   "id": "16ae2a57",
   "metadata": {},
   "outputs": [],
   "source": []
  },
  {
   "cell_type": "code",
   "execution_count": 28,
   "id": "64b91d56",
   "metadata": {},
   "outputs": [],
   "source": [
    "\n",
    "\n",
    "# get target set for train set and validation set\n",
    "def pop_columns(df: pl.DataFrame, col_names: List[str]) -> pl.DataFrame:\n",
    "    return pl.DataFrame(\n",
    "        [\n",
    "            df.drop_in_place(col_name)\n",
    "            for col_name in col_names\n",
    "        ]\n",
    "    )\n",
    "\n",
    "def split_stage(\n",
    "    dataset: pl.LazyFrame,\n",
    "    interval: Tuple[date, date],\n",
    "    target_cols: List[str],\n",
    ") -> Tuple[pl.DataFrame, pl.DataFrame]:\n",
    "\n",
    "    x_df = dataset.filter( pl.col(\"date\").is_between(*interval)).collect()\n",
    "    y_df = pop_columns(x_df, target_cols)\n",
    "    date_df =pop_columns(x_df, [\"date\"])\n",
    "\n",
    "    return x_df, y_df, date_df\n",
    "\n",
    "def save_df(df: pl.DataFrame, path: str):\n",
    "    df.write_parquet(\n",
    "        path,\n",
    "        compression=\"snappy\",\n",
    "        # row_group_size=1000000,\n",
    "        # partition_by=[\"store_id\", \"product_id\"],\n",
    "    )\n",
    "\n",
    "def save_split(\n",
    "    dataset: pl.LazyFrame,\n",
    "    interval: Tuple[date, date],\n",
    "    tag: str = \"train\",\n",
    "    horizon: int = 7\n",
    "):\n",
    "    target_cols = [f\"h{h}_log_units_sold\" for h in range(1, horizon+1)]\n",
    "\n",
    "    x_train_df, y_train_df, dates_train_df = split_stage(\n",
    "        dataset=dataset,\n",
    "        interval=interval,\n",
    "        target_cols=target_cols,\n",
    "    )\n",
    "\n",
    "    save_df(x_train_df, f\"../../data/favorita_dataset/subset/x_{tag}.parquet\")\n",
    "    save_df(y_train_df, f\"../../data/favorita_dataset/subset/y_{tag}.parquet\")\n",
    "    save_df(dates_train_df, f\"../../data/favorita_dataset/subset/dates_{tag}.parquet\")\n",
    "    "
   ]
  },
  {
   "cell_type": "code",
   "execution_count": 29,
   "id": "ce8bcd2e",
   "metadata": {},
   "outputs": [],
   "source": [
    "train_interval = (date(2013, 1, 1), date(2016, 12, 31))\n",
    "save_split(dataset, train_interval, tag=\"train\", horizon=7)\n",
    "\n",
    "valid_interval = (date(2016, 12, 1), date(2017, 8, 15))\n",
    "save_split(dataset, valid_interval, tag=\"valid\", horizon=7)"
   ]
  },
  {
   "cell_type": "code",
   "execution_count": null,
   "id": "3c35e0ee",
   "metadata": {},
   "outputs": [
    {
     "data": {
      "text/html": [
       "<div><style>\n",
       ".dataframe > thead > tr,\n",
       ".dataframe > tbody > tr {\n",
       "  text-align: right;\n",
       "  white-space: pre-wrap;\n",
       "}\n",
       "</style>\n",
       "<small>shape: (8, 6)</small><table border=\"1\" class=\"dataframe\"><thead><tr><th>store_id</th><th>product_id</th><th>date</th><th>b</th><th>c</th><th>new</th></tr><tr><td>i64</td><td>i64</td><td>date</td><td>i64</td><td>i64</td><td>i64</td></tr></thead><tbody><tr><td>3</td><td>10</td><td>2020-01-01</td><td>1</td><td>1</td><td>null</td></tr><tr><td>3</td><td>10</td><td>2020-01-02</td><td>2</td><td>1</td><td>1</td></tr><tr><td>3</td><td>10</td><td>2020-01-03</td><td>3</td><td>1</td><td>2</td></tr><tr><td>3</td><td>10</td><td>2020-01-04</td><td>4</td><td>1</td><td>3</td></tr><tr><td>3</td><td>10</td><td>2020-01-06</td><td>5</td><td>1</td><td>4</td></tr><tr><td>3</td><td>10</td><td>2020-01-07</td><td>6</td><td>1</td><td>5</td></tr><tr><td>2</td><td>10</td><td>2020-01-01</td><td>1</td><td>1</td><td>null</td></tr><tr><td>2</td><td>10</td><td>2020-01-02</td><td>2</td><td>1</td><td>1</td></tr></tbody></table></div>"
      ],
      "text/plain": [
       "shape: (8, 6)\n",
       "┌──────────┬────────────┬────────────┬─────┬─────┬──────┐\n",
       "│ store_id ┆ product_id ┆ date       ┆ b   ┆ c   ┆ new  │\n",
       "│ ---      ┆ ---        ┆ ---        ┆ --- ┆ --- ┆ ---  │\n",
       "│ i64      ┆ i64        ┆ date       ┆ i64 ┆ i64 ┆ i64  │\n",
       "╞══════════╪════════════╪════════════╪═════╪═════╪══════╡\n",
       "│ 3        ┆ 10         ┆ 2020-01-01 ┆ 1   ┆ 1   ┆ null │\n",
       "│ 3        ┆ 10         ┆ 2020-01-02 ┆ 2   ┆ 1   ┆ 1    │\n",
       "│ 3        ┆ 10         ┆ 2020-01-03 ┆ 3   ┆ 1   ┆ 2    │\n",
       "│ 3        ┆ 10         ┆ 2020-01-04 ┆ 4   ┆ 1   ┆ 3    │\n",
       "│ 3        ┆ 10         ┆ 2020-01-06 ┆ 5   ┆ 1   ┆ 4    │\n",
       "│ 3        ┆ 10         ┆ 2020-01-07 ┆ 6   ┆ 1   ┆ 5    │\n",
       "│ 2        ┆ 10         ┆ 2020-01-01 ┆ 1   ┆ 1   ┆ null │\n",
       "│ 2        ┆ 10         ┆ 2020-01-02 ┆ 2   ┆ 1   ┆ 1    │\n",
       "└──────────┴────────────┴────────────┴─────┴─────┴──────┘"
      ]
     },
     "execution_count": 7,
     "metadata": {},
     "output_type": "execute_result"
    }
   ],
   "source": [
    "import numpy as np\n",
    "import polars as pl\n",
    "\n",
    "alpha = 0.9\n",
    "window = 2\n",
    "\n",
    "dates = [\n",
    "    \"2020-01-01\",\n",
    "    \"2020-01-02\",\n",
    "    \"2020-01-03\",\n",
    "    \"2020-01-04\",\n",
    "    \"2020-01-06\",\n",
    "    \"2020-01-07\",\n",
    "    \"2020-01-01\",\n",
    "    \"2020-01-02\",\n",
    "]\n",
    "\n",
    "df = pl.DataFrame({\n",
    "    \"store_id\": [3,3,3,3,3,3,2,2],\n",
    "    \"product_id\": [10,10,10,10,10,10,10,10],\n",
    "    \"date\": dates,\n",
    "    \"b\": [1,2,3,4,5,6,1,2],\n",
    "}).with_columns(\n",
    "    pl.col(\"date\").str.strptime(pl.Date).set_sorted()\n",
    ")\n",
    "\n",
    "# [\n",
    "#     # pl.col(\"b\"). #.last()#.shift(-1).first().fill_null(0)\n",
    "# ]\n",
    "df.with_columns(\n",
    "    pl.col(\"b\")\n",
    "        # .rolling(\"date\", period=\"2d\", closed=\"left\", offset=\"0d\")\n",
    "        # .list.mean()\n",
    "        .rolling_min(2)\n",
    "        .over([\"product_id\", \"store_id\"], order_by=\"date\")\n",
    "        .alias(\"new\")\n",
    "        # .rolling(\"date\", period=\"2d\", closed=\"left\", offset=\"0d\")\n",
    "        # .mean()\n",
    "        #     pl.col(\"b\").shift(-1)  # Shift to get the next value in the group\n",
    "        # )\n",
    "        # .shift(-1)  # Shift to get the next value in the group\n",
    "        \n",
    "        # .over([\"product_id\", \"store_id\"])\n",
    "        # .ewm_mean(alpha=0.9, adjust=True)\n",
    "        # .alias(\"new\")\n",
    ")"
   ]
  },
  {
   "cell_type": "code",
   "execution_count": 11,
   "id": "0741bb52",
   "metadata": {},
   "outputs": [
    {
     "data": {
      "text/html": [
       "<div><style>\n",
       ".dataframe > thead > tr,\n",
       ".dataframe > tbody > tr {\n",
       "  text-align: right;\n",
       "  white-space: pre-wrap;\n",
       "}\n",
       "</style>\n",
       "<small>shape: (8, 6)</small><table border=\"1\" class=\"dataframe\"><thead><tr><th>product_id</th><th>store_id</th><th>date</th><th>b</th><th>c</th><th>b_rolling_window</th></tr><tr><td>i64</td><td>i64</td><td>date</td><td>list[i64]</td><td>list[i64]</td><td>f64</td></tr></thead><tbody><tr><td>10</td><td>2</td><td>2020-01-01</td><td>[1]</td><td>[1]</td><td>1.0</td></tr><tr><td>10</td><td>2</td><td>2020-01-02</td><td>[1, 2]</td><td>[1, 1]</td><td>1.5</td></tr><tr><td>10</td><td>3</td><td>2020-01-01</td><td>[1]</td><td>[1]</td><td>1.0</td></tr><tr><td>10</td><td>3</td><td>2020-01-02</td><td>[1, 2]</td><td>[1, 1]</td><td>1.5</td></tr><tr><td>10</td><td>3</td><td>2020-01-03</td><td>[2, 3]</td><td>[1, 1]</td><td>2.5</td></tr><tr><td>10</td><td>3</td><td>2020-01-04</td><td>[3, 4]</td><td>[1, 1]</td><td>3.5</td></tr><tr><td>10</td><td>3</td><td>2020-01-06</td><td>[5]</td><td>[1]</td><td>5.0</td></tr><tr><td>10</td><td>3</td><td>2020-01-07</td><td>[5, 6]</td><td>[1, 1]</td><td>5.5</td></tr></tbody></table></div>"
      ],
      "text/plain": [
       "shape: (8, 6)\n",
       "┌────────────┬──────────┬────────────┬───────────┬───────────┬──────────────────┐\n",
       "│ product_id ┆ store_id ┆ date       ┆ b         ┆ c         ┆ b_rolling_window │\n",
       "│ ---        ┆ ---      ┆ ---        ┆ ---       ┆ ---       ┆ ---              │\n",
       "│ i64        ┆ i64      ┆ date       ┆ list[i64] ┆ list[i64] ┆ f64              │\n",
       "╞════════════╪══════════╪════════════╪═══════════╪═══════════╪══════════════════╡\n",
       "│ 10         ┆ 2        ┆ 2020-01-01 ┆ [1]       ┆ [1]       ┆ 1.0              │\n",
       "│ 10         ┆ 2        ┆ 2020-01-02 ┆ [1, 2]    ┆ [1, 1]    ┆ 1.5              │\n",
       "│ 10         ┆ 3        ┆ 2020-01-01 ┆ [1]       ┆ [1]       ┆ 1.0              │\n",
       "│ 10         ┆ 3        ┆ 2020-01-02 ┆ [1, 2]    ┆ [1, 1]    ┆ 1.5              │\n",
       "│ 10         ┆ 3        ┆ 2020-01-03 ┆ [2, 3]    ┆ [1, 1]    ┆ 2.5              │\n",
       "│ 10         ┆ 3        ┆ 2020-01-04 ┆ [3, 4]    ┆ [1, 1]    ┆ 3.5              │\n",
       "│ 10         ┆ 3        ┆ 2020-01-06 ┆ [5]       ┆ [1]       ┆ 5.0              │\n",
       "│ 10         ┆ 3        ┆ 2020-01-07 ┆ [5, 6]    ┆ [1, 1]    ┆ 5.5              │\n",
       "└────────────┴──────────┴────────────┴───────────┴───────────┴──────────────────┘"
      ]
     },
     "execution_count": 11,
     "metadata": {},
     "output_type": "execute_result"
    }
   ],
   "source": [
    "df.rolling('date', period='2d', closed='right', group_by=[\"product_id\", \"store_id\"]).agg(\n",
    "    pl.exclude(\"date\"),\n",
    "    pl.col(\"b\").mean().alias(\"b_rolling_window\"),\n",
    ")"
   ]
  },
  {
   "cell_type": "code",
   "execution_count": 8,
   "id": "05744800",
   "metadata": {},
   "outputs": [
    {
     "data": {
      "text/html": [
       "<div><style>\n",
       ".dataframe > thead > tr,\n",
       ".dataframe > tbody > tr {\n",
       "  text-align: right;\n",
       "  white-space: pre-wrap;\n",
       "}\n",
       "</style>\n",
       "<small>shape: (8, 12)</small><table border=\"1\" class=\"dataframe\"><thead><tr><th>store_id</th><th>product_id</th><th>date</th><th>b</th><th>c</th><th>h1</th><th>h2</th><th>h3</th><th>h4</th><th>h5</th><th>h6</th><th>h7</th></tr><tr><td>i64</td><td>i64</td><td>date</td><td>i64</td><td>i64</td><td>i64</td><td>i64</td><td>i64</td><td>i64</td><td>i64</td><td>i64</td><td>i64</td></tr></thead><tbody><tr><td>3</td><td>10</td><td>2020-01-01</td><td>1</td><td>1</td><td>2</td><td>3</td><td>4</td><td>null</td><td>5</td><td>6</td><td>null</td></tr><tr><td>3</td><td>10</td><td>2020-01-02</td><td>2</td><td>1</td><td>3</td><td>4</td><td>null</td><td>5</td><td>6</td><td>null</td><td>null</td></tr><tr><td>3</td><td>10</td><td>2020-01-03</td><td>3</td><td>1</td><td>4</td><td>null</td><td>5</td><td>6</td><td>null</td><td>null</td><td>null</td></tr><tr><td>3</td><td>10</td><td>2020-01-04</td><td>4</td><td>1</td><td>null</td><td>5</td><td>6</td><td>null</td><td>null</td><td>null</td><td>null</td></tr><tr><td>3</td><td>10</td><td>2020-01-06</td><td>5</td><td>1</td><td>6</td><td>null</td><td>null</td><td>null</td><td>null</td><td>null</td><td>null</td></tr><tr><td>3</td><td>10</td><td>2020-01-07</td><td>6</td><td>1</td><td>null</td><td>null</td><td>null</td><td>null</td><td>null</td><td>null</td><td>null</td></tr><tr><td>2</td><td>10</td><td>2020-01-01</td><td>1</td><td>1</td><td>2</td><td>null</td><td>null</td><td>null</td><td>null</td><td>null</td><td>null</td></tr><tr><td>2</td><td>10</td><td>2020-01-02</td><td>2</td><td>1</td><td>null</td><td>null</td><td>null</td><td>null</td><td>null</td><td>null</td><td>null</td></tr></tbody></table></div>"
      ],
      "text/plain": [
       "shape: (8, 12)\n",
       "┌──────────┬────────────┬────────────┬─────┬───┬──────┬──────┬──────┬──────┐\n",
       "│ store_id ┆ product_id ┆ date       ┆ b   ┆ … ┆ h4   ┆ h5   ┆ h6   ┆ h7   │\n",
       "│ ---      ┆ ---        ┆ ---        ┆ --- ┆   ┆ ---  ┆ ---  ┆ ---  ┆ ---  │\n",
       "│ i64      ┆ i64        ┆ date       ┆ i64 ┆   ┆ i64  ┆ i64  ┆ i64  ┆ i64  │\n",
       "╞══════════╪════════════╪════════════╪═════╪═══╪══════╪══════╪══════╪══════╡\n",
       "│ 3        ┆ 10         ┆ 2020-01-01 ┆ 1   ┆ … ┆ null ┆ 5    ┆ 6    ┆ null │\n",
       "│ 3        ┆ 10         ┆ 2020-01-02 ┆ 2   ┆ … ┆ 5    ┆ 6    ┆ null ┆ null │\n",
       "│ 3        ┆ 10         ┆ 2020-01-03 ┆ 3   ┆ … ┆ 6    ┆ null ┆ null ┆ null │\n",
       "│ 3        ┆ 10         ┆ 2020-01-04 ┆ 4   ┆ … ┆ null ┆ null ┆ null ┆ null │\n",
       "│ 3        ┆ 10         ┆ 2020-01-06 ┆ 5   ┆ … ┆ null ┆ null ┆ null ┆ null │\n",
       "│ 3        ┆ 10         ┆ 2020-01-07 ┆ 6   ┆ … ┆ null ┆ null ┆ null ┆ null │\n",
       "│ 2        ┆ 10         ┆ 2020-01-01 ┆ 1   ┆ … ┆ null ┆ null ┆ null ┆ null │\n",
       "│ 2        ┆ 10         ┆ 2020-01-02 ┆ 2   ┆ … ┆ null ┆ null ┆ null ┆ null │\n",
       "└──────────┴────────────┴────────────┴─────┴───┴──────┴──────┴──────┴──────┘"
      ]
     },
     "execution_count": 8,
     "metadata": {},
     "output_type": "execute_result"
    }
   ],
   "source": [
    "df2 = df.__copy__()\n",
    "\n",
    "for horizon in range(1, 8):\n",
    "    tmp = df2.select(\n",
    "        *[\"product_id\", \"store_id\"],\n",
    "        pl.col(\"date\") - pl.duration(days=horizon),\n",
    "        pl.col(\"b\").alias(f\"h{horizon}\"),\n",
    "    )\n",
    "    df2 = df2.join(tmp, on=[\"product_id\", \"store_id\", \"date\"], how=\"left\")\n",
    "df2"
   ]
  },
  {
   "cell_type": "code",
   "execution_count": 6,
   "id": "8d59d115",
   "metadata": {},
   "outputs": [
    {
     "data": {
      "text/html": [
       "<div><style>\n",
       ".dataframe > thead > tr,\n",
       ".dataframe > tbody > tr {\n",
       "  text-align: right;\n",
       "  white-space: pre-wrap;\n",
       "}\n",
       "</style>\n",
       "<small>shape: (8, 12)</small><table border=\"1\" class=\"dataframe\"><thead><tr><th>store_id</th><th>product_id</th><th>date</th><th>b</th><th>c</th><th>h1_log_units_sold</th><th>h2_log_units_sold</th><th>h3_log_units_sold</th><th>h4_log_units_sold</th><th>h5_log_units_sold</th><th>h6_log_units_sold</th><th>h7_log_units_sold</th></tr><tr><td>i64</td><td>i64</td><td>date</td><td>i64</td><td>i64</td><td>i64</td><td>i64</td><td>i64</td><td>i64</td><td>i64</td><td>i64</td><td>i64</td></tr></thead><tbody><tr><td>3</td><td>10</td><td>2020-01-01</td><td>1</td><td>1</td><td>2</td><td>3</td><td>4</td><td>null</td><td>5</td><td>6</td><td>null</td></tr><tr><td>3</td><td>10</td><td>2020-01-02</td><td>2</td><td>1</td><td>3</td><td>4</td><td>null</td><td>5</td><td>6</td><td>null</td><td>null</td></tr><tr><td>3</td><td>10</td><td>2020-01-03</td><td>3</td><td>1</td><td>4</td><td>null</td><td>5</td><td>6</td><td>null</td><td>null</td><td>null</td></tr><tr><td>3</td><td>10</td><td>2020-01-04</td><td>4</td><td>1</td><td>null</td><td>5</td><td>6</td><td>null</td><td>null</td><td>null</td><td>null</td></tr><tr><td>3</td><td>10</td><td>2020-01-06</td><td>5</td><td>1</td><td>6</td><td>null</td><td>null</td><td>null</td><td>null</td><td>null</td><td>null</td></tr><tr><td>3</td><td>10</td><td>2020-01-07</td><td>6</td><td>1</td><td>null</td><td>null</td><td>null</td><td>null</td><td>null</td><td>null</td><td>null</td></tr><tr><td>2</td><td>10</td><td>2020-01-01</td><td>1</td><td>1</td><td>2</td><td>null</td><td>null</td><td>null</td><td>null</td><td>null</td><td>null</td></tr><tr><td>2</td><td>10</td><td>2020-01-02</td><td>2</td><td>1</td><td>null</td><td>null</td><td>null</td><td>null</td><td>null</td><td>null</td><td>null</td></tr></tbody></table></div>"
      ],
      "text/plain": [
       "shape: (8, 12)\n",
       "┌──────────┬────────────┬────────────┬─────┬───┬────────────┬────────────┬────────────┬────────────┐\n",
       "│ store_id ┆ product_id ┆ date       ┆ b   ┆ … ┆ h4_log_uni ┆ h5_log_uni ┆ h6_log_uni ┆ h7_log_uni │\n",
       "│ ---      ┆ ---        ┆ ---        ┆ --- ┆   ┆ ts_sold    ┆ ts_sold    ┆ ts_sold    ┆ ts_sold    │\n",
       "│ i64      ┆ i64        ┆ date       ┆ i64 ┆   ┆ ---        ┆ ---        ┆ ---        ┆ ---        │\n",
       "│          ┆            ┆            ┆     ┆   ┆ i64        ┆ i64        ┆ i64        ┆ i64        │\n",
       "╞══════════╪════════════╪════════════╪═════╪═══╪════════════╪════════════╪════════════╪════════════╡\n",
       "│ 3        ┆ 10         ┆ 2020-01-01 ┆ 1   ┆ … ┆ null       ┆ 5          ┆ 6          ┆ null       │\n",
       "│ 3        ┆ 10         ┆ 2020-01-02 ┆ 2   ┆ … ┆ 5          ┆ 6          ┆ null       ┆ null       │\n",
       "│ 3        ┆ 10         ┆ 2020-01-03 ┆ 3   ┆ … ┆ 6          ┆ null       ┆ null       ┆ null       │\n",
       "│ 3        ┆ 10         ┆ 2020-01-04 ┆ 4   ┆ … ┆ null       ┆ null       ┆ null       ┆ null       │\n",
       "│ 3        ┆ 10         ┆ 2020-01-06 ┆ 5   ┆ … ┆ null       ┆ null       ┆ null       ┆ null       │\n",
       "│ 3        ┆ 10         ┆ 2020-01-07 ┆ 6   ┆ … ┆ null       ┆ null       ┆ null       ┆ null       │\n",
       "│ 2        ┆ 10         ┆ 2020-01-01 ┆ 1   ┆ … ┆ null       ┆ null       ┆ null       ┆ null       │\n",
       "│ 2        ┆ 10         ┆ 2020-01-02 ┆ 2   ┆ … ┆ null       ┆ null       ┆ null       ┆ null       │\n",
       "└──────────┴────────────┴────────────┴─────┴───┴────────────┴────────────┴────────────┴────────────┘"
      ]
     },
     "execution_count": 6,
     "metadata": {},
     "output_type": "execute_result"
    }
   ],
   "source": [
    "df"
   ]
  },
  {
   "cell_type": "code",
   "execution_count": null,
   "id": "6c8e63cb",
   "metadata": {},
   "outputs": [],
   "source": [
    "df.with_columns(\n",
    "    pl.col(\"b\")\n",
    "        .rolling_mean_by('date', window_size=f\"{window}d\", closed=\"right\")\n",
    "        .over([\"product_id\", \"store_id\"])\n",
    "        .alias(\"b_rolling_mean\")\n",
    ").collect()"
   ]
  },
  {
   "cell_type": "code",
   "execution_count": 213,
   "id": "879d9430",
   "metadata": {},
   "outputs": [
    {
     "data": {
      "text/html": [
       "<div><style>\n",
       ".dataframe > thead > tr,\n",
       ".dataframe > tbody > tr {\n",
       "  text-align: right;\n",
       "  white-space: pre-wrap;\n",
       "}\n",
       "</style>\n",
       "<small>shape: (2, 5)</small><table border=\"1\" class=\"dataframe\"><thead><tr><th>product_id</th><th>store_id</th><th>b</th><th>date</th><th>diff_b</th></tr><tr><td>i64</td><td>i64</td><td>list[i64]</td><td>list[date]</td><td>f64</td></tr></thead><tbody><tr><td>10</td><td>3</td><td>[2, 3, … null]</td><td>[2020-01-01, 2020-01-02, … 2020-01-07]</td><td>1.0</td></tr><tr><td>10</td><td>2</td><td>[2, null]</td><td>[2020-01-01, 2020-01-02]</td><td>1.0</td></tr></tbody></table></div>"
      ],
      "text/plain": [
       "shape: (2, 5)\n",
       "┌────────────┬──────────┬────────────────┬─────────────────────────────────┬────────┐\n",
       "│ product_id ┆ store_id ┆ b              ┆ date                            ┆ diff_b │\n",
       "│ ---        ┆ ---      ┆ ---            ┆ ---                             ┆ ---    │\n",
       "│ i64        ┆ i64      ┆ list[i64]      ┆ list[date]                      ┆ f64    │\n",
       "╞════════════╪══════════╪════════════════╪═════════════════════════════════╪════════╡\n",
       "│ 10         ┆ 3        ┆ [2, 3, … null] ┆ [2020-01-01, 2020-01-02, … 202… ┆ 1.0    │\n",
       "│ 10         ┆ 2        ┆ [2, null]      ┆ [2020-01-01, 2020-01-02]        ┆ 1.0    │\n",
       "└────────────┴──────────┴────────────────┴─────────────────────────────────┴────────┘"
      ]
     },
     "execution_count": 213,
     "metadata": {},
     "output_type": "execute_result"
    }
   ],
   "source": [
    "# Example of using shift with group_by\n",
    "# This will shift the column 'b' by 1 within each group defined by 'product_id' and 'store_id'\n",
    "df.group_by([\"product_id\", \"store_id\"]).agg(\n",
    "    [\n",
    "        pl.col(\"b\").shift(-1),\n",
    "        pl.col(\"date\"),\n",
    "        pl.col(\"b\").diff().mean().alias(\"diff_b\"),\n",
    "        # pl.col(\"b\").ro(alpha=0.9).alias(\"ewm_mean_b\"),\n",
    "    ]\n",
    ")#.explode([\"date\", \"b\", \"diff_b\"])"
   ]
  },
  {
   "cell_type": "code",
   "execution_count": 285,
   "id": "30c4b8fb",
   "metadata": {},
   "outputs": [
    {
     "ename": "TypeError",
     "evalue": "Expr.rolling_sum_by() got an unexpected keyword argument 'offset'",
     "output_type": "error",
     "traceback": [
      "\u001b[1;31m---------------------------------------------------------------------------\u001b[0m",
      "\u001b[1;31mTypeError\u001b[0m                                 Traceback (most recent call last)",
      "Cell \u001b[1;32mIn[285], line 6\u001b[0m\n\u001b[0;32m      1\u001b[0m df\u001b[38;5;241m.\u001b[39mselect(\n\u001b[0;32m      2\u001b[0m     [\n\u001b[0;32m      3\u001b[0m         \u001b[38;5;124m\"\u001b[39m\u001b[38;5;124mproduct_id\u001b[39m\u001b[38;5;124m\"\u001b[39m,\n\u001b[0;32m      4\u001b[0m         \u001b[38;5;124m\"\u001b[39m\u001b[38;5;124mstore_id\u001b[39m\u001b[38;5;124m\"\u001b[39m,\n\u001b[0;32m      5\u001b[0m         \u001b[38;5;124m\"\u001b[39m\u001b[38;5;124mdate\u001b[39m\u001b[38;5;124m\"\u001b[39m,\n\u001b[1;32m----> 6\u001b[0m         \u001b[43mpl\u001b[49m\u001b[38;5;241;43m.\u001b[39;49m\u001b[43mcol\u001b[49m\u001b[43m(\u001b[49m\u001b[38;5;124;43m\"\u001b[39;49m\u001b[38;5;124;43mc\u001b[39;49m\u001b[38;5;124;43m\"\u001b[39;49m\u001b[43m)\u001b[49m\n\u001b[0;32m      7\u001b[0m \u001b[43m            \u001b[49m\u001b[38;5;241;43m.\u001b[39;49m\u001b[43mrolling_sum_by\u001b[49m\u001b[43m(\u001b[49m\u001b[38;5;124;43m'\u001b[39;49m\u001b[38;5;124;43mdate\u001b[39;49m\u001b[38;5;124;43m'\u001b[39;49m\u001b[43m,\u001b[49m\u001b[43m \u001b[49m\u001b[43mwindow_size\u001b[49m\u001b[38;5;241;43m=\u001b[39;49m\u001b[38;5;124;43m\"\u001b[39;49m\u001b[38;5;124;43m2d\u001b[39;49m\u001b[38;5;124;43m\"\u001b[39;49m\u001b[43m,\u001b[49m\u001b[43m \u001b[49m\u001b[43moffset\u001b[49m\u001b[38;5;241;43m=\u001b[39;49m\u001b[38;5;124;43m\"\u001b[39;49m\u001b[38;5;124;43m0d\u001b[39;49m\u001b[38;5;124;43m\"\u001b[39;49m\u001b[43m,\u001b[49m\u001b[43m \u001b[49m\u001b[43mclosed\u001b[49m\u001b[38;5;241;43m=\u001b[39;49m\u001b[38;5;124;43m\"\u001b[39;49m\u001b[38;5;124;43mleft\u001b[39;49m\u001b[38;5;124;43m\"\u001b[39;49m\u001b[43m)\u001b[49m\n\u001b[0;32m      8\u001b[0m     ]\n\u001b[0;32m      9\u001b[0m )\n",
      "File \u001b[1;32mc:\\Users\\godsp\\Documents\\repos\\operation_research\\.venv\\lib\\site-packages\\polars\\_utils\\unstable.py:58\u001b[0m, in \u001b[0;36munstable.<locals>.decorate.<locals>.wrapper\u001b[1;34m(*args, **kwargs)\u001b[0m\n\u001b[0;32m     55\u001b[0m \u001b[38;5;129m@wraps\u001b[39m(function)\n\u001b[0;32m     56\u001b[0m \u001b[38;5;28;01mdef\u001b[39;00m\u001b[38;5;250m \u001b[39m\u001b[38;5;21mwrapper\u001b[39m(\u001b[38;5;241m*\u001b[39margs: P\u001b[38;5;241m.\u001b[39margs, \u001b[38;5;241m*\u001b[39m\u001b[38;5;241m*\u001b[39mkwargs: P\u001b[38;5;241m.\u001b[39mkwargs) \u001b[38;5;241m-\u001b[39m\u001b[38;5;241m>\u001b[39m T:\n\u001b[0;32m     57\u001b[0m     issue_unstable_warning(\u001b[38;5;124mf\u001b[39m\u001b[38;5;124m\"\u001b[39m\u001b[38;5;124m`\u001b[39m\u001b[38;5;132;01m{\u001b[39;00mfunction\u001b[38;5;241m.\u001b[39m\u001b[38;5;18m__name__\u001b[39m\u001b[38;5;132;01m}\u001b[39;00m\u001b[38;5;124m` is considered unstable.\u001b[39m\u001b[38;5;124m\"\u001b[39m)\n\u001b[1;32m---> 58\u001b[0m     \u001b[38;5;28;01mreturn\u001b[39;00m function(\u001b[38;5;241m*\u001b[39margs, \u001b[38;5;241m*\u001b[39m\u001b[38;5;241m*\u001b[39mkwargs)\n",
      "File \u001b[1;32mc:\\Users\\godsp\\Documents\\repos\\operation_research\\.venv\\lib\\site-packages\\polars\\_utils\\deprecation.py:128\u001b[0m, in \u001b[0;36mdeprecate_renamed_parameter.<locals>.decorate.<locals>.wrapper\u001b[1;34m(*args, **kwargs)\u001b[0m\n\u001b[0;32m    123\u001b[0m \u001b[38;5;129m@wraps\u001b[39m(function)\n\u001b[0;32m    124\u001b[0m \u001b[38;5;28;01mdef\u001b[39;00m\u001b[38;5;250m \u001b[39m\u001b[38;5;21mwrapper\u001b[39m(\u001b[38;5;241m*\u001b[39margs: P\u001b[38;5;241m.\u001b[39margs, \u001b[38;5;241m*\u001b[39m\u001b[38;5;241m*\u001b[39mkwargs: P\u001b[38;5;241m.\u001b[39mkwargs) \u001b[38;5;241m-\u001b[39m\u001b[38;5;241m>\u001b[39m T:\n\u001b[0;32m    125\u001b[0m     _rename_keyword_argument(\n\u001b[0;32m    126\u001b[0m         old_name, new_name, kwargs, function\u001b[38;5;241m.\u001b[39m\u001b[38;5;18m__qualname__\u001b[39m, version\n\u001b[0;32m    127\u001b[0m     )\n\u001b[1;32m--> 128\u001b[0m     \u001b[38;5;28;01mreturn\u001b[39;00m function(\u001b[38;5;241m*\u001b[39margs, \u001b[38;5;241m*\u001b[39m\u001b[38;5;241m*\u001b[39mkwargs)\n",
      "\u001b[1;31mTypeError\u001b[0m: Expr.rolling_sum_by() got an unexpected keyword argument 'offset'"
     ]
    }
   ],
   "source": [
    "df.select(\n",
    "    [\n",
    "        \"product_id\",\n",
    "        \"store_id\",\n",
    "        \"date\",\n",
    "        pl.col(\"c\")\n",
    "            .rolling_sum_by('date', window_size=\"2d\", offset=\"0d\", closed=\"left\")\n",
    "    ]\n",
    ")"
   ]
  },
  {
   "cell_type": "code",
   "execution_count": 113,
   "id": "be71cddd",
   "metadata": {},
   "outputs": [
    {
     "data": {
      "text/plain": [
       "pyarrow.Table\n",
       "store_id: dictionary<values=large_string, indices=uint32, ordered=0>\n",
       "----\n",
       "store_id: [  -- dictionary:\n",
       "[\"3\",\"2\"]  -- indices:\n",
       "[0,0,0,0,1,1]]"
      ]
     },
     "execution_count": 113,
     "metadata": {},
     "output_type": "execute_result"
    }
   ],
   "source": [
    "dff.to_arrow()"
   ]
  },
  {
   "cell_type": "code",
   "execution_count": 53,
   "id": "aa42f316",
   "metadata": {},
   "outputs": [
    {
     "name": "stdout",
     "output_type": "stream",
     "text": [
      "[1, 1.909090909090909, 2.8918918918918917]\n"
     ]
    }
   ],
   "source": [
    "import numpy as np\n",
    "\n",
    "x = np.array([1, 2, 3])\n",
    "alpha = 0.9\n",
    "\n",
    "ewm = [\n",
    "    x[0],\n",
    "    (2*1 + 1*0.1) / (1 + 0.1),\n",
    "    (3*1 + 2*0.1 + 1*0.01) / (1 + 0.1 + 0.01)\n",
    "]\n",
    "print(ewm)\n",
    "# [1.0, 1.9090909090909092, 2.891891891891892]"
   ]
  },
  {
   "cell_type": "code",
   "execution_count": 95,
   "id": "564b04f3",
   "metadata": {},
   "outputs": [
    {
     "data": {
      "text/html": [
       "<div><style>\n",
       ".dataframe > thead > tr,\n",
       ".dataframe > tbody > tr {\n",
       "  text-align: right;\n",
       "  white-space: pre-wrap;\n",
       "}\n",
       "</style>\n",
       "<small>shape: (1_679, 9)</small><table border=\"1\" class=\"dataframe\"><thead><tr><th>product_id</th><th>store_id</th><th>date</th><th>sum_log_units_sold</th><th>median_log_units_sold</th><th>std_log_units_sold</th><th>mean_log_units_sold</th><th>min_log_units_sold</th><th>max_log_units_sold</th></tr><tr><td>i64</td><td>i64</td><td>date</td><td>f64</td><td>f64</td><td>f64</td><td>f64</td><td>f64</td><td>f64</td></tr></thead><tbody><tr><td>213652</td><td>3</td><td>2013-01-02</td><td>0.0</td><td>null</td><td>null</td><td>null</td><td>null</td><td>null</td></tr><tr><td>213652</td><td>3</td><td>2013-01-03</td><td>3.555348</td><td>3.555348</td><td>null</td><td>3.555348</td><td>3.555348</td><td>3.555348</td></tr><tr><td>213652</td><td>3</td><td>2013-01-04</td><td>7.467371</td><td>3.733686</td><td>0.252207</td><td>3.733686</td><td>3.555348</td><td>3.912023</td></tr><tr><td>213652</td><td>3</td><td>2013-01-05</td><td>10.602865</td><td>3.555348</td><td>0.388693</td><td>3.534288</td><td>3.135494</td><td>3.912023</td></tr><tr><td>213652</td><td>3</td><td>2013-01-06</td><td>10.448715</td><td>3.401197</td><td>0.39466</td><td>3.482905</td><td>3.135494</td><td>3.912023</td></tr><tr><td>&hellip;</td><td>&hellip;</td><td>&hellip;</td><td>&hellip;</td><td>&hellip;</td><td>&hellip;</td><td>&hellip;</td><td>&hellip;</td><td>&hellip;</td></tr><tr><td>213652</td><td>3</td><td>2017-08-11</td><td>9.465215</td><td>3.135494</td><td>0.33208</td><td>3.155072</td><td>2.833213</td><td>3.496508</td></tr><tr><td>213652</td><td>3</td><td>2017-08-12</td><td>9.587817</td><td>3.258097</td><td>0.335987</td><td>3.195939</td><td>2.833213</td><td>3.496508</td></tr><tr><td>213652</td><td>3</td><td>2017-08-13</td><td>9.035749</td><td>2.944439</td><td>0.220332</td><td>3.011916</td><td>2.833213</td><td>3.258097</td></tr><tr><td>213652</td><td>3</td><td>2017-08-14</td><td>9.092907</td><td>2.944439</td><td>0.198547</td><td>3.030969</td><td>2.890372</td><td>3.258097</td></tr><tr><td>213652</td><td>3</td><td>2017-08-15</td><td>8.970305</td><td>2.944439</td><td>0.128783</td><td>2.990102</td><td>2.890372</td><td>3.135494</td></tr></tbody></table></div>"
      ],
      "text/plain": [
       "shape: (1_679, 9)\n",
       "┌───────────┬──────────┬───────────┬───────────┬───┬───────────┬───────────┬───────────┬───────────┐\n",
       "│ product_i ┆ store_id ┆ date      ┆ sum_log_u ┆ … ┆ std_log_u ┆ mean_log_ ┆ min_log_u ┆ max_log_u │\n",
       "│ d         ┆ ---      ┆ ---       ┆ nits_sold ┆   ┆ nits_sold ┆ units_sol ┆ nits_sold ┆ nits_sold │\n",
       "│ ---       ┆ i64      ┆ date      ┆ ---       ┆   ┆ ---       ┆ d         ┆ ---       ┆ ---       │\n",
       "│ i64       ┆          ┆           ┆ f64       ┆   ┆ f64       ┆ ---       ┆ f64       ┆ f64       │\n",
       "│           ┆          ┆           ┆           ┆   ┆           ┆ f64       ┆           ┆           │\n",
       "╞═══════════╪══════════╪═══════════╪═══════════╪═══╪═══════════╪═══════════╪═══════════╪═══════════╡\n",
       "│ 213652    ┆ 3        ┆ 2013-01-0 ┆ 0.0       ┆ … ┆ null      ┆ null      ┆ null      ┆ null      │\n",
       "│           ┆          ┆ 2         ┆           ┆   ┆           ┆           ┆           ┆           │\n",
       "│ 213652    ┆ 3        ┆ 2013-01-0 ┆ 3.555348  ┆ … ┆ null      ┆ 3.555348  ┆ 3.555348  ┆ 3.555348  │\n",
       "│           ┆          ┆ 3         ┆           ┆   ┆           ┆           ┆           ┆           │\n",
       "│ 213652    ┆ 3        ┆ 2013-01-0 ┆ 7.467371  ┆ … ┆ 0.252207  ┆ 3.733686  ┆ 3.555348  ┆ 3.912023  │\n",
       "│           ┆          ┆ 4         ┆           ┆   ┆           ┆           ┆           ┆           │\n",
       "│ 213652    ┆ 3        ┆ 2013-01-0 ┆ 10.602865 ┆ … ┆ 0.388693  ┆ 3.534288  ┆ 3.135494  ┆ 3.912023  │\n",
       "│           ┆          ┆ 5         ┆           ┆   ┆           ┆           ┆           ┆           │\n",
       "│ 213652    ┆ 3        ┆ 2013-01-0 ┆ 10.448715 ┆ … ┆ 0.39466   ┆ 3.482905  ┆ 3.135494  ┆ 3.912023  │\n",
       "│           ┆          ┆ 6         ┆           ┆   ┆           ┆           ┆           ┆           │\n",
       "│ …         ┆ …        ┆ …         ┆ …         ┆ … ┆ …         ┆ …         ┆ …         ┆ …         │\n",
       "│ 213652    ┆ 3        ┆ 2017-08-1 ┆ 9.465215  ┆ … ┆ 0.33208   ┆ 3.155072  ┆ 2.833213  ┆ 3.496508  │\n",
       "│           ┆          ┆ 1         ┆           ┆   ┆           ┆           ┆           ┆           │\n",
       "│ 213652    ┆ 3        ┆ 2017-08-1 ┆ 9.587817  ┆ … ┆ 0.335987  ┆ 3.195939  ┆ 2.833213  ┆ 3.496508  │\n",
       "│           ┆          ┆ 2         ┆           ┆   ┆           ┆           ┆           ┆           │\n",
       "│ 213652    ┆ 3        ┆ 2017-08-1 ┆ 9.035749  ┆ … ┆ 0.220332  ┆ 3.011916  ┆ 2.833213  ┆ 3.258097  │\n",
       "│           ┆          ┆ 3         ┆           ┆   ┆           ┆           ┆           ┆           │\n",
       "│ 213652    ┆ 3        ┆ 2017-08-1 ┆ 9.092907  ┆ … ┆ 0.198547  ┆ 3.030969  ┆ 2.890372  ┆ 3.258097  │\n",
       "│           ┆          ┆ 4         ┆           ┆   ┆           ┆           ┆           ┆           │\n",
       "│ 213652    ┆ 3        ┆ 2017-08-1 ┆ 8.970305  ┆ … ┆ 0.128783  ┆ 2.990102  ┆ 2.890372  ┆ 3.135494  │\n",
       "│           ┆          ┆ 5         ┆           ┆   ┆           ┆           ┆           ┆           │\n",
       "└───────────┴──────────┴───────────┴───────────┴───┴───────────┴───────────┴───────────┴───────────┘"
      ]
     },
     "execution_count": 95,
     "metadata": {},
     "output_type": "execute_result"
    }
   ],
   "source": [
    "out = sales_lzdf.rolling('date', period='3d', closed='left', group_by=[\"product_id\", \"store_id\"]).agg(\n",
    "    [\n",
    "        pl.sum(\"log_units_sold\").alias(\"sum_log_units_sold\"),\n",
    "        pl.median(\"log_units_sold\").alias(\"median_log_units_sold\"),\n",
    "        pl.std(\"log_units_sold\").alias(\"std_log_units_sold\"),\n",
    "        pl.mean(\"log_units_sold\").alias(\"mean_log_units_sold\"),\n",
    "        pl.min(\"log_units_sold\").alias(\"min_log_units_sold\"),\n",
    "        pl.max(\"log_units_sold\").alias(\"max_log_units_sold\"),\n",
    "    ]\n",
    ").collect()\n",
    "out.filter(\n",
    "    (pl.col(\"store_id\") == 3) \n",
    "    & (pl.col(\"product_id\") == 213652)\n",
    ")\n",
    "# .select(\n",
    "#     pl.col(\"date\"),cs.contains(\"units_sold\")\n",
    "# )"
   ]
  },
  {
   "cell_type": "code",
   "execution_count": null,
   "id": "a39e1ed6",
   "metadata": {},
   "outputs": [],
   "source": [
    "# # 8. LightGBM train\n",
    "# # lgb_train = lgb.Dataset(\n",
    "# #     train.drop([\"date\",\"target\"]).to_pandas(),\n",
    "# #     label=train[\"target\"].to_numpy()\n",
    "# # )\n",
    "\n",
    "# # params = {\n",
    "# #     \"objective\": \"regression\",\n",
    "# #     \"metric\": \"rmse\",\n",
    "# #     \"learning_rate\": 0.05,\n",
    "# #     \"num_leaves\": 63,\n",
    "# #     \"feature_fraction\": 0.8\n",
    "# # }\n",
    "\n",
    "# # bst = lgb.train(\n",
    "# #     params,\n",
    "# #     lgb_train,\n",
    "# #     num_boost_round=1000,\n",
    "# #     valid_sets=[lgb_train],\n",
    "# #     early_stopping_rounds=50,\n",
    "# #     verbose_eval=100\n",
    "# # )"
   ]
  }
 ],
 "metadata": {
  "kernelspec": {
   "display_name": "fit-service",
   "language": "python",
   "name": "python3"
  },
  "language_info": {
   "codemirror_mode": {
    "name": "ipython",
    "version": 3
   },
   "file_extension": ".py",
   "mimetype": "text/x-python",
   "name": "python",
   "nbconvert_exporter": "python",
   "pygments_lexer": "ipython3",
   "version": "3.10.16"
  }
 },
 "nbformat": 4,
 "nbformat_minor": 5
}
