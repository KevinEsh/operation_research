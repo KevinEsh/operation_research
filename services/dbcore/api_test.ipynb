{
 "cells": [
  {
   "cell_type": "code",
   "execution_count": 7,
   "id": "06514ae7",
   "metadata": {},
   "outputs": [],
   "source": [
    "import requests\n",
    "import polars as pl\n",
    "import polars.selectors as cs"
   ]
  },
  {
   "cell_type": "code",
   "execution_count": 8,
   "id": "d9e23039",
   "metadata": {},
   "outputs": [
    {
     "name": "stdout",
     "output_type": "stream",
     "text": [
      "get 200\n"
     ]
    }
   ],
   "source": [
    "API_URI = \"http://localhost:5432\"\n",
    "DATA_DIR = \"../../data/favorita_dataset/subset\"\n",
    "\n",
    "def upload_json(data, endpoint):\n",
    "    url = f\"{API_URI}/{endpoint}\"    \n",
    "    post_response = requests.post(url, json=data)\n",
    "    print(url, post_response.status_code)\n",
    "    if post_response.status_code != 200:\n",
    "        print(\"Error:\", post_response.text)\n",
    "        return {}\n",
    "    return post_response.json()\n",
    "\n",
    "    # # Get all products\n",
    "    # response = requests.get(url)\n",
    "    # print(\"get\", response.status_code)\n",
    "    # print(response.json())\n",
    "\n",
    "\n",
    "    # # Update that product\n",
    "    # # p_id = post_response.json().get(\"productgroups\", [])[0]\n",
    "    # p_id = 2\n",
    "    # put_response = requests.patch(f\"{url}/{p_id}\", json={\"pg_name\": \"Updated\"})\n",
    "    # print(\"update\", put_response.status_code)\n",
    "    # print(put_response.json())\n",
    "\n",
    "    # response = requests.get(url)\n",
    "    # print(response.status_code)\n",
    "    # print(response.json())\n",
    "\n",
    "    # assert response.status_code == 200, f\"Expected status code 200, got {response.status_code}\"\n",
    "    \n",
    "    # data = response.json()\n",
    "    # assert isinstance(data, list), \"Expected a list of demand predictions\"\n",
    "    \n",
    "    # if data:\n",
    "    #     assert \"dp_id\" in data[0], \"Expected 'dp_id' in the first demand prediction\"\n",
    "    #     assert \"dp_p_id\" in data[0], \"Expected 'dp_p_id' in the first demand prediction\"\n",
    "    #     assert \"dp_s_id\" in data[0], \"Expected 'dp_s_id' in the first demand prediction\"\n",
    "\n",
    "def get_products():\n",
    "    API_URI = \"http://localhost:8000/products\"\n",
    "    response = requests.get(API_URI)\n",
    "    print(\"get\", response.status_code)\n",
    "    if response.status_code != 200:\n",
    "        print(\"Error:\", response.text)\n",
    "        return []\n",
    "    \n",
    "    # from response.json() get a dictionary with \"p_name\" as keys and \"p_id\" as values\n",
    "    products = response.json().get(\"products\", [])\n",
    "    products_map = {product[\"p_name\"]: product[\"p_id\"] for product in products}\n",
    "    return products_map\n",
    "\n",
    "def get_stores():\n",
    "    API_URI = \"http://localhost:8000/stores\"\n",
    "    response = requests.get(API_URI)\n",
    "    print(\"get\", response.status_code)\n",
    "    if response.status_code != 200:\n",
    "        print(\"Error:\", response.text)\n",
    "        return []\n",
    "    \n",
    "    stores = response.json().get(\"stores\", [])\n",
    "    stores_map = {store[\"s_name\"]: store[\"s_id\"] for store in stores}\n",
    "    return stores_map\n",
    "\n",
    "products_map = get_products()\n",
    "# stores_map = get_stores()"
   ]
  },
  {
   "cell_type": "code",
   "execution_count": 9,
   "id": "dfb18760",
   "metadata": {},
   "outputs": [
    {
     "data": {
      "text/plain": [
       "{'Pasta Vermicelli': 1,\n",
       " 'Pasta Macaroni': 2,\n",
       " 'Croissant': 3,\n",
       " 'Pasta Spaghetti': 4,\n",
       " 'Egg Pack 18': 5,\n",
       " 'Donut': 6,\n",
       " 'Egg Pack 30': 7}"
      ]
     },
     "execution_count": 9,
     "metadata": {},
     "output_type": "execute_result"
    }
   ],
   "source": [
    "products_map"
   ]
  },
  {
   "cell_type": "code",
   "execution_count": 2,
   "id": "50574bc7",
   "metadata": {},
   "outputs": [
    {
     "name": "stdout",
     "output_type": "stream",
     "text": [
      "end=\n"
     ]
    }
   ],
   "source": [
    "print(\"end=\")"
   ]
  },
  {
   "cell_type": "code",
   "execution_count": 3,
   "id": "dc71d2c8",
   "metadata": {},
   "outputs": [
    {
     "name": "stdout",
     "output_type": "stream",
     "text": [
      "http://localhost:8000/products 200\n"
     ]
    }
   ],
   "source": [
    "# 1. Upload products\n",
    "table = \"products\"\n",
    "products_df = pl.read_parquet(f\"{DATA_DIR}/{table}.parquet\")\n",
    "products_ids = upload_json(products_df.to_dicts(), table).get(table, [])"
   ]
  },
  {
   "cell_type": "code",
   "execution_count": 4,
   "id": "5aa14762",
   "metadata": {},
   "outputs": [],
   "source": [
    "products_map = dict(zip(products_df[\"p_name\"], products_ids))"
   ]
  },
  {
   "cell_type": "code",
   "execution_count": 5,
   "id": "e3237ab4",
   "metadata": {},
   "outputs": [
    {
     "name": "stdout",
     "output_type": "stream",
     "text": [
      "http://localhost:8000/stores 200\n"
     ]
    }
   ],
   "source": [
    "# 2. Upload stores\n",
    "table = \"stores\"\n",
    "stores_df = pl.read_parquet(f\"{DATA_DIR}/{table}.parquet\")\n",
    "stores_ids = upload_json(stores_df.to_dicts(), table).get(table, [])"
   ]
  },
  {
   "cell_type": "code",
   "execution_count": 6,
   "id": "1abff89d",
   "metadata": {},
   "outputs": [],
   "source": [
    "stores_map = dict(zip(stores_df[\"s_name\"], stores_ids))"
   ]
  },
  {
   "cell_type": "code",
   "execution_count": 7,
   "id": "881ed4e6",
   "metadata": {},
   "outputs": [
    {
     "name": "stdout",
     "output_type": "stream",
     "text": [
      "http://localhost:8000/workshops 200\n"
     ]
    }
   ],
   "source": [
    "# 3. Upload workshops\n",
    "table = \"workshops\"\n",
    "workshops_df = pl.read_parquet(f\"{DATA_DIR}/{table}.parquet\")\n",
    "workshops_ids = upload_json(workshops_df.to_dicts(), table).get(table, [])"
   ]
  },
  {
   "cell_type": "code",
   "execution_count": 9,
   "id": "91eef836",
   "metadata": {},
   "outputs": [],
   "source": [
    "workshops_map = dict(zip(workshops_df[\"w_name\"], workshops_ids))"
   ]
  },
  {
   "cell_type": "code",
   "execution_count": 10,
   "id": "728ce8c0",
   "metadata": {},
   "outputs": [
    {
     "name": "stdout",
     "output_type": "stream",
     "text": [
      "http://localhost:8000/transportlinks 200\n"
     ]
    }
   ],
   "source": [
    "# 3. Upload transportlinks\n",
    "table = \"transportlinks\"\n",
    "transportlinks_df = pl.read_parquet(f\"{DATA_DIR}/{table}.parquet\")\n",
    "transportlinks_df = transportlinks_df.with_columns(\n",
    "    pl.col(\"p_name\").replace_strict(products_map),\n",
    "    pl.col(\"s_name\").replace_strict(stores_map),\n",
    "    pl.col(\"w_name\").replace_strict(workshops_map)\n",
    ").rename(\n",
    "    {\n",
    "        \"p_name\": \"tl_p_id\",\n",
    "        \"s_name\": \"tl_s_id\",\n",
    "        \"w_name\": \"tl_w_id\"\n",
    "    }\n",
    ")\n",
    "\n",
    "transportlinks_ids = upload_json(transportlinks_df.to_dicts(), table).get(table, [])"
   ]
  },
  {
   "cell_type": "code",
   "execution_count": 12,
   "id": "1edd4d3c",
   "metadata": {},
   "outputs": [
    {
     "name": "stdout",
     "output_type": "stream",
     "text": [
      "http://localhost:8000/procurements 200\n"
     ]
    }
   ],
   "source": [
    "# 4. Upload procurements\n",
    "table = \"procurements\"\n",
    "procurements_df = pl.read_parquet(f\"{DATA_DIR}/{table}.parquet\")\n",
    "procurements_df = procurements_df.with_columns(\n",
    "    pl.col(\"p_name\").replace_strict(products_map),\n",
    "    pl.col(\"s_name\").replace_strict(stores_map),\n",
    "    cs.date().cast(pl.String)\n",
    ").rename(\n",
    "    {\n",
    "        \"p_name\": \"pc_p_id\",\n",
    "        \"s_name\": \"pc_s_id\"\n",
    "    }\n",
    ")\n",
    "\n",
    "procurements_ids = upload_json(procurements_df.to_dicts(), table).get(table, [])"
   ]
  },
  {
   "cell_type": "code",
   "execution_count": 13,
   "id": "832542d4",
   "metadata": {},
   "outputs": [
    {
     "name": "stdout",
     "output_type": "stream",
     "text": [
      "http://localhost:8000/promotions 200\n"
     ]
    }
   ],
   "source": [
    "# 5. Upload promotions\n",
    "table = \"promotions\"\n",
    "promotions_df = pl.read_parquet(f\"{DATA_DIR}/{table}.parquet\")\n",
    "promotions_df = promotions_df.with_columns(\n",
    "    pl.col(\"p_name\").replace_strict(products_map),\n",
    "    pl.col(\"s_name\").replace_strict(stores_map),\n",
    "    cs.date().cast(pl.String)\n",
    ").rename(\n",
    "    {\n",
    "        \"p_name\": \"pr_p_id\",\n",
    "        \"s_name\": \"pr_s_id\"\n",
    "    }\n",
    ")\n",
    "\n",
    "promotions_ids = upload_json(promotions_df.to_dicts(), table).get(table, [])"
   ]
  },
  {
   "cell_type": "code",
   "execution_count": 14,
   "id": "bc005678",
   "metadata": {},
   "outputs": [
    {
     "name": "stdout",
     "output_type": "stream",
     "text": [
      "http://localhost:8000/events 200\n"
     ]
    }
   ],
   "source": [
    "# 6. Upload events\n",
    "table = \"events\"\n",
    "events_df = pl.read_parquet(f\"{DATA_DIR}/{table}.parquet\")\n",
    "events_ids = upload_json(events_df.to_dicts(), table).get(table, [])\n"
   ]
  },
  {
   "cell_type": "code",
   "execution_count": 15,
   "id": "4d0d9ccb",
   "metadata": {},
   "outputs": [],
   "source": [
    "events_map = dict(zip(events_df[\"e_name\"], events_ids))"
   ]
  },
  {
   "cell_type": "code",
   "execution_count": 16,
   "id": "bdf32eee",
   "metadata": {},
   "outputs": [
    {
     "name": "stdout",
     "output_type": "stream",
     "text": [
      "http://localhost:8000/eventstores 200\n"
     ]
    }
   ],
   "source": [
    "# 7. Upload eventstores\n",
    "table = \"eventstores\"\n",
    "eventstores_df = pl.read_parquet(f\"{DATA_DIR}/{table}.parquet\")\n",
    "eventstores_df = eventstores_df.with_columns(\n",
    "    pl.col(\"e_name\").replace_strict(events_map),\n",
    "    pl.col(\"s_name\").replace_strict(stores_map),\n",
    "    cs.date().cast(pl.String)\n",
    ").rename(\n",
    "    {\n",
    "        \"e_name\": \"es_e_id\",\n",
    "        \"s_name\": \"es_s_id\"\n",
    "    }\n",
    ")\n",
    "\n",
    "eventstores_ids = upload_json(eventstores_df.to_dicts(), table).get(table, [])"
   ]
  },
  {
   "cell_type": "code",
   "execution_count": 17,
   "id": "31c58130",
   "metadata": {},
   "outputs": [
    {
     "name": "stdout",
     "output_type": "stream",
     "text": [
      "http://localhost:8000/sales 200\n"
     ]
    }
   ],
   "source": [
    "# 8. Upload sales\n",
    "table = \"sales\"\n",
    "sales_df = pl.read_parquet(f\"{DATA_DIR}/{table}_train.parquet\")\n",
    "sales_df = sales_df.with_columns(\n",
    "    pl.col(\"p_name\").replace_strict(products_map),\n",
    "    pl.col(\"s_name\").replace_strict(stores_map),\n",
    "    cs.date().cast(pl.String)\n",
    ").rename(\n",
    "    {\n",
    "        \"p_name\": \"sa_p_id\",\n",
    "        \"s_name\": \"sa_s_id\",\n",
    "    }\n",
    ")\n",
    "\n",
    "sales_ids = upload_json(sales_df.to_dicts(), table).get(table, [])"
   ]
  },
  {
   "cell_type": "code",
   "execution_count": 12,
   "id": "eac8bc85",
   "metadata": {},
   "outputs": [
    {
     "name": "stdout",
     "output_type": "stream",
     "text": [
      "http://localhost:8000/stocks 200\n"
     ]
    }
   ],
   "source": [
    "# 9. Upload stocks\n",
    "table = \"stocks\"\n",
    "stocks_df = pl.read_parquet(f\"{DATA_DIR}/{table}.parquet\")\n",
    "stocks_df = stocks_df.with_columns(\n",
    "    pl.col(\"p_name\").replace_strict(products_map),\n",
    "    pl.col(\"s_name\").replace_strict(stores_map),\n",
    "    cs.date().cast(pl.String)\n",
    ").rename(\n",
    "    {\n",
    "        \"p_name\": \"sk_p_id\",\n",
    "        \"s_name\": \"sk_s_id\"\n",
    "    }\n",
    ")\n",
    "\n",
    "stocks_ids = upload_json(stocks_df.to_dicts(), table).get(table, [])"
   ]
  }
 ],
 "metadata": {
  "kernelspec": {
   "display_name": "operation-research",
   "language": "python",
   "name": "python3"
  },
  "language_info": {
   "codemirror_mode": {
    "name": "ipython",
    "version": 3
   },
   "file_extension": ".py",
   "mimetype": "text/x-python",
   "name": "python",
   "nbconvert_exporter": "python",
   "pygments_lexer": "ipython3",
   "version": "3.10.12"
  }
 },
 "nbformat": 4,
 "nbformat_minor": 5
}
