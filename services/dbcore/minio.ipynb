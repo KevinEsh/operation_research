{
 "cells": [
  {
   "cell_type": "code",
   "execution_count": 1,
   "id": "e561ee70",
   "metadata": {},
   "outputs": [],
   "source": [
    "import os\n",
    "import polars as pl\n",
    "\n",
    "# Configurar variables de entorno\n",
    "os.environ[\"AWS_ACCESS_KEY_ID\"] = \"dummy_access_key\"\n",
    "os.environ[\"AWS_SECRET_ACCESS_KEY\"] = \"dummy_secret_key\" \n",
    "os.environ[\"AWS_ENDPOINT_URL\"] = \"http://localhost:10002\"\n",
    "os.environ[\"AWS_REGION\"] = \"us-east-1\"\n",
    "\n",
    "\n",
    "BUCKET_NAME = \"snapshots\"\n",
    "\n",
    "# Polars automáticamente usará las variables de entorno\n",
    "df = pl.scan_parquet(f\"s3://{BUCKET_NAME}/stocks.parquet\").collect()"
   ]
  },
  {
   "cell_type": "code",
   "execution_count": 3,
   "id": "25c7223e",
   "metadata": {},
   "outputs": [],
   "source": [
    "df.write_parquet(f\"s3://{BUCKET_NAME}/subset/stocks.parquet\")"
   ]
  }
 ],
 "metadata": {
  "kernelspec": {
   "display_name": "dbcore",
   "language": "python",
   "name": "dbcore"
  },
  "language_info": {
   "codemirror_mode": {
    "name": "ipython",
    "version": 3
   },
   "file_extension": ".py",
   "mimetype": "text/x-python",
   "name": "python",
   "nbconvert_exporter": "python",
   "pygments_lexer": "ipython3",
   "version": "3.10.12"
  }
 },
 "nbformat": 4,
 "nbformat_minor": 5
}
