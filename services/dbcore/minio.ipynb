{
 "cells": [
  {
   "cell_type": "code",
   "execution_count": 7,
   "id": "e561ee70",
   "metadata": {},
   "outputs": [],
   "source": [
    "from os import environ\n",
    "import polars as pl\n",
    "from dotenv import load_dotenv\n",
    "\n",
    "load_dotenv('../../.env')\n",
    "\n",
    "s3_bucket = f's3://{environ.get(\"S3_SNAPSHOT_BUCKET_NAME\")}'\n",
    "\n",
    "s3_storage_options = {\n",
    "    \"aws_access_key_id\": environ.get(\"MM_ACCESS_KEY\", \"dummy_access_key\"),\n",
    "    \"aws_secret_access_key\": environ.get(\"MM_SECRET_KEY\", \"dummy_secret_key\"),\n",
    "    \"aws_endpoint_url\": environ.get(\"MM_ENDPOINT_URL\", \"http://localhost:10000\"),\n",
    "    \"aws_region\": \"us-east-1\",\n",
    "}\n",
    "\n",
    "\n",
    "df.write_parquet(s3_bucket + \"/train_snapshot.parquet\", storage_options=s3_storage_options)\n"
   ]
  },
  {
   "cell_type": "code",
   "execution_count": 5,
   "id": "d7df52a7",
   "metadata": {},
   "outputs": [
    {
     "data": {
      "text/html": [
       "<div><style>\n",
       ".dataframe > thead > tr,\n",
       ".dataframe > tbody > tr {\n",
       "  text-align: right;\n",
       "  white-space: pre-wrap;\n",
       "}\n",
       "</style>\n",
       "<small>shape: (35, 4)</small><table border=\"1\" class=\"dataframe\"><thead><tr><th>s_name</th><th>p_name</th><th>sk_units</th><th>sk_date</th></tr><tr><td>str</td><td>str</td><td>i32</td><td>date</td></tr></thead><tbody><tr><td>&quot;Market 1&quot;</td><td>&quot;Donut&quot;</td><td>100</td><td>2016-08-15</td></tr><tr><td>&quot;Market 1&quot;</td><td>&quot;Pasta Spaghetti&quot;</td><td>100</td><td>2016-08-15</td></tr><tr><td>&quot;Market 1&quot;</td><td>&quot;Pasta Vermicelli&quot;</td><td>100</td><td>2016-08-15</td></tr><tr><td>&quot;Market 1&quot;</td><td>&quot;Egg Pack 30&quot;</td><td>100</td><td>2016-08-15</td></tr><tr><td>&quot;Market 1&quot;</td><td>&quot;Pasta Macaroni&quot;</td><td>100</td><td>2016-08-15</td></tr><tr><td>&hellip;</td><td>&hellip;</td><td>&hellip;</td><td>&hellip;</td></tr><tr><td>&quot;Market 5&quot;</td><td>&quot;Pasta Vermicelli&quot;</td><td>100</td><td>2016-08-15</td></tr><tr><td>&quot;Market 5&quot;</td><td>&quot;Egg Pack 30&quot;</td><td>100</td><td>2016-08-15</td></tr><tr><td>&quot;Market 5&quot;</td><td>&quot;Pasta Macaroni&quot;</td><td>100</td><td>2016-08-15</td></tr><tr><td>&quot;Market 5&quot;</td><td>&quot;Croissant&quot;</td><td>100</td><td>2016-08-15</td></tr><tr><td>&quot;Market 5&quot;</td><td>&quot;Egg Pack 18&quot;</td><td>100</td><td>2016-08-15</td></tr></tbody></table></div>"
      ],
      "text/plain": [
       "shape: (35, 4)\n",
       "┌──────────┬──────────────────┬──────────┬────────────┐\n",
       "│ s_name   ┆ p_name           ┆ sk_units ┆ sk_date    │\n",
       "│ ---      ┆ ---              ┆ ---      ┆ ---        │\n",
       "│ str      ┆ str              ┆ i32      ┆ date       │\n",
       "╞══════════╪══════════════════╪══════════╪════════════╡\n",
       "│ Market 1 ┆ Donut            ┆ 100      ┆ 2016-08-15 │\n",
       "│ Market 1 ┆ Pasta Spaghetti  ┆ 100      ┆ 2016-08-15 │\n",
       "│ Market 1 ┆ Pasta Vermicelli ┆ 100      ┆ 2016-08-15 │\n",
       "│ Market 1 ┆ Egg Pack 30      ┆ 100      ┆ 2016-08-15 │\n",
       "│ Market 1 ┆ Pasta Macaroni   ┆ 100      ┆ 2016-08-15 │\n",
       "│ …        ┆ …                ┆ …        ┆ …          │\n",
       "│ Market 5 ┆ Pasta Vermicelli ┆ 100      ┆ 2016-08-15 │\n",
       "│ Market 5 ┆ Egg Pack 30      ┆ 100      ┆ 2016-08-15 │\n",
       "│ Market 5 ┆ Pasta Macaroni   ┆ 100      ┆ 2016-08-15 │\n",
       "│ Market 5 ┆ Croissant        ┆ 100      ┆ 2016-08-15 │\n",
       "│ Market 5 ┆ Egg Pack 18      ┆ 100      ┆ 2016-08-15 │\n",
       "└──────────┴──────────────────┴──────────┴────────────┘"
      ]
     },
     "execution_count": 5,
     "metadata": {},
     "output_type": "execute_result"
    }
   ],
   "source": [
    "df"
   ]
  },
  {
   "cell_type": "code",
   "execution_count": 2,
   "id": "25c7223e",
   "metadata": {},
   "outputs": [
    {
     "ename": "NameError",
     "evalue": "name 'df' is not defined",
     "output_type": "error",
     "traceback": [
      "\u001b[0;31m---------------------------------------------------------------------------\u001b[0m",
      "\u001b[0;31mNameError\u001b[0m                                 Traceback (most recent call last)",
      "Cell \u001b[0;32mIn[2], line 1\u001b[0m\n\u001b[0;32m----> 1\u001b[0m \u001b[43mdf\u001b[49m\u001b[38;5;241m.\u001b[39mwrite_parquet(\u001b[38;5;124mf\u001b[39m\u001b[38;5;124m\"\u001b[39m\u001b[38;5;124ms3://\u001b[39m\u001b[38;5;132;01m{\u001b[39;00mBUCKET_NAME\u001b[38;5;132;01m}\u001b[39;00m\u001b[38;5;124m/subset/stocks.parquet\u001b[39m\u001b[38;5;124m\"\u001b[39m)\n",
      "\u001b[0;31mNameError\u001b[0m: name 'df' is not defined"
     ]
    }
   ],
   "source": [
    "df.write_parquet(f\"s3://{BUCKET_NAME}/subset/stocks.parquet\")"
   ]
  }
 ],
 "metadata": {
  "kernelspec": {
   "display_name": "operation-research",
   "language": "python",
   "name": "python3"
  },
  "language_info": {
   "codemirror_mode": {
    "name": "ipython",
    "version": 3
   },
   "file_extension": ".py",
   "mimetype": "text/x-python",
   "name": "python",
   "nbconvert_exporter": "python",
   "pygments_lexer": "ipython3",
   "version": "3.10.12"
  }
 },
 "nbformat": 4,
 "nbformat_minor": 5
}
