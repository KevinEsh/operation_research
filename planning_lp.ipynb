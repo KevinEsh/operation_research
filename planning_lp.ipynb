{
 "cells": [
  {
   "cell_type": "markdown",
   "id": "82e64a55-fc8d-4599-aa02-325f81af7156",
   "metadata": {},
   "source": [
    "## Fleet and workforce planning with Linear Programming\n",
    "#### A preview of Linear Programming's capabilities to solve some business problems\n",
    "###### Author: Kevin Esh"
   ]
  },
  {
   "cell_type": "markdown",
   "id": "aa71b49e",
   "metadata": {},
   "source": [
    "**Problem:** finding the optimal (less costly) way of transporting product boxes from warehouses to stores employing different vans and workers while fulfilling the constraints of demand, stock, vans and workers assignment."
   ]
  },
  {
   "cell_type": "markdown",
   "id": "93c1adc0-fd25-491c-aff6-efc1ea6f35f9",
   "metadata": {},
   "source": [
    "**Context Variables**:\n",
    "- \"P\" products = 5\n",
    "- \"W\" warehouses = 3\n",
    "- \"S\" stores = 3\n",
    "- \"V\" vans = 4\n",
    "- \"E\" employees = 8\n",
    "- \"J\" conflicting pairs of employees = 23\n",
    "\n",
    "**Assumptions**:\n",
    "- We know the demand in boxes of each of our products, by store;\n",
    "- We know how many boxes of our products are available in each of our warehouses;\n",
    "- All the boxes have the same size (to simplify the problem);\n",
    "- We know how many boxes fit in each of the vehicles;\n",
    "- The cost of sending a box varies depending on the combination of product-warehouse-store-van;\n",
    "- The use of each van has a fixed cost;\n",
    "- The vans can't go from a warehouse to a store without transporting at least 1 box;\n",
    "- The vans can't do more than 5 trips. We can assume that they all occur on the same day;\n",
    "- There's a limit to how many boxes can be transported by each van;\n",
    "- None of the vans can repeat the same trip;\n",
    "- We need 2 employees assigned per van to be able to make a trip;\n",
    "- If we assign an employee we have to pay him for this task 🙂;\n",
    "- Each employee can only be assigned to a single van;\n",
    "- It is desirable to avoid assigning conflicting employees to the same vehicle."
   ]
  },
  {
   "cell_type": "markdown",
   "id": "81b8b714",
   "metadata": {},
   "source": [
    "### Variables, Objective and Constraints"
   ]
  },
  {
   "cell_type": "markdown",
   "id": "6feed5bc",
   "metadata": {},
   "source": [
    "- $c_{pwsv}$: Unit cost of sending a box of product $p$ from warehouse $w$ to store $s$ using vehicle $v$, where $\\space $   $c_{pwsv} \\in (0,+\\infty)$;\n",
    "\n",
    "- $x_{pwsv}$: Number of boxes of product $p$ sent from warehouse $w$ to store $s$ using van $v$, where $\\space  $ $x_{pwsv} \\in [0,+\\infty)$;\n",
    "\n",
    "- $T_v$: Boolean variable created to verifiy that the vehicle $v$ is used, where $\\space $ $T_v \\in \\{0,1\\}$;\n",
    "\n",
    "- $F_v$: Integer fixed cost for using the vehicle $v$, where $\\space $ $F_v \\in (0,+\\infty)$;\n",
    "\n",
    "- $A_{ve}$: Boolean variable created to verify if an employee $e$ is assigned to a van $v$, where $\\space $ $A_{ve} \\in \\{0,1\\}$;\n",
    "\n",
    "- $Z_{wsv}$: Boolean auxiliary variable used to check if a trip from warehouse $w$ to store $s$ was made using van $v$ , where $\\space $ $Z_{wsv} \\in \\{0,1\\}$;\n",
    "\n",
    "- $H_{vj}$: Boolean auxiliary variable to check if just one employee of a conflicting pair $j$ is assigned to a van $v$, where $\\space $ $H_{vj} \\in \\{0,1\\}$\n",
    "\n",
    "- $G_{vj}$: Boolean variable to check if the conflicting pair $j$ is assigned to the same van $v$, where $\\space $ $G_{vj} \\in \\{0,1\\}$"
   ]
  },
  {
   "cell_type": "markdown",
   "id": "5f0b7064-e739-439c-8511-15177e8d07a8",
   "metadata": {},
   "source": [
    "$Min \\sum\\limits_{\\substack{p\\in P \\\\ w \\in W \\\\ s \\in S\\\\ v \\in V}}c_{pwsv}x_{pwsv}+ \\sum\\limits_{\\substack{v\\in V}} T_{v}F_{v}+ \\sum\\limits_{\\substack{v\\in V\\\\ e \\in E}} 1500A_{ve}+ \\sum\\limits_{\\substack{v\\in V\\\\ j \\in J}}500G_{vj}$ $\\ \\$ (1)\n",
    "\n",
    "$\\ \\ subject \\ \\ to$\n",
    " \n",
    "- $\\sum\\limits_{\\substack{w \\in W \\\\ v \\in V}} x_{pwsv} = demand_{ps}$ $\\ \\ \\forall \\ \\ p \\in P, \\ \\ s \\in S$ $\\ \\$ (2)\n",
    "\n",
    "\n",
    "- $\\sum\\limits_{\\substack{s \\in S \\\\ v \\in V}}x_{pwsv} \\le stock_{pw}$ $\\ \\ \\forall \\ \\ p \\in P, \\ \\ w \\in W$ $\\ \\$ (3)\n",
    "\n",
    "\n",
    "- $\\sum\\limits_{\\substack{p\\in P}} x_{pwsv} \\le capacity_{v}Z_{wsv}$  $\\ \\ \\forall \\ \\ w \\in W, \\ \\ s \\in S, \\ \\ v \\in V$ $\\ \\$ (4)\n",
    "\n",
    "\n",
    "- $\\sum\\limits_{\\substack{w \\in W \\\\ s \\in S}}Z_{wsv} \\le 5T_v$  $\\ \\ \\forall \\ \\ v \\in V$ $\\ \\$ (5)\n",
    "\n",
    "\n",
    "- $\\sum\\limits_{\\substack{e \\in E}}A_{ve} = 2T_v$  $\\ \\ \\forall \\ \\ v \\in V$ $\\ \\$ (6)\n",
    "\n",
    "\n",
    "- $\\sum\\limits_{\\substack{v \\in V}}A_{ve} \\le 1$  $\\ \\ \\forall \\ \\ e \\in E$ $\\ \\$ (7)\n",
    "\n",
    "\n",
    "- $\\sum\\limits_{\\substack{v \\in V}}A_{ve_1}+A_{ve_2}-H_{vj}-2G_{vj} = 0$ $\\ \\ \\forall \\ \\ e \\in E, \\ \\ j \\in J \\ \\ $ \n",
    "with $ J =\\{(e_a,e_b) \\in E :(a,b) \\ \\ pairs \\ \\ with \\ \\ conflicts\\}$ $\\ \\ \\ \\ \\ \\ \\ \\ \\ \\ \\ \\ \\ \\ \\ \\ \\ \\ \\ \\ \\ \\ \\ \\ \\ \\ \\ \\  \\ \\ \\ \\ \\ \\ \\ \\ \\ \\ \\ \\ \\ \\ \\ \\ \\ \\ \\ \\ \\ \\ \\ \\ \\ \\ \\ \\ \\ \\ \\ \\ \\ \\ \\ \\ \\ \\ \\ \\ \\ \\ \\ \\ \\  \\ \\ \\ \\ \\ \\ \\ \\ \\ \\ \\ \\ \\ \\  \\  \\ \\ and \\ \\ j = \\{e_a \\ne e_b : (e_a,e_b) \\in J\\} \\\\ (8)$\n",
    "\n",
    "\n",
    "-  $x_{pwsv} \\in [0,+\\infty)$ $\\  \\  T_{v},\\ \\ Z_{wsv},\\ \\ A_{ve},\\ \\ H_{vj},\\ \\ G_{vj} \\in \\{0,1\\}$ $\\ \\$ (9)\n",
    "\n",
    "\n",
    "with $p=1,...,P, \\space\\space w=1,...,W,\\space\\space s=1,...,S \\space\\space v=1,...,V \\space\\space e=1,...,E \\space\\space j=1,...,J$"
   ]
  },
  {
   "cell_type": "markdown",
   "id": "4d72742f",
   "metadata": {},
   "source": [
    "#### Imports"
   ]
  },
  {
   "cell_type": "code",
   "execution_count": 22,
   "id": "4ff10014-8785-4668-b238-abdf8cff377b",
   "metadata": {},
   "outputs": [],
   "source": [
    "import numpy as np\n",
    "import pandas as pd\n",
    "from itertools import product\n",
    "from ortools.sat.python import cp_model"
   ]
  },
  {
   "cell_type": "markdown",
   "id": "adbae635",
   "metadata": {},
   "source": [
    "#### Full solution"
   ]
  },
  {
   "cell_type": "code",
   "execution_count": 176,
   "id": "ef2047d5",
   "metadata": {},
   "outputs": [],
   "source": [
    "#1) Specify a seed to be able to replicate the experiment\n",
    "np.random.seed(2)\n",
    "\n",
    "#2) Declare the context variables\n",
    "number_warehouses = 10\n",
    "number_stores = 4\n",
    "number_products = 2\n",
    "number_vehicles = 4\n",
    "number_employees = 8\n",
    "trip_limit = 10\n",
    "\n",
    "#3) Set some thresholds for the simulated data\n",
    "min_stock, max_stock = 40, 50\n",
    "min_demand, max_demand = 50, 100\n",
    "min_capacity, max_capacity = 15, 20\n",
    "\n",
    "\n",
    "min_cost, max_cost = 1, 6\n",
    "min_van_fixed_cost, max_van_fixed_cost = 100, 200\n",
    "fixed_salary = 150\n",
    "conflict_penalty = 50\n",
    "\n",
    "#4) GENERATE DATA\n",
    " # 1 Cost matrix per product (of size number_warehouses x number_stores x number_vehicles)\n",
    " # 1 Stock vector per product (of size number_warehouses)\n",
    " # 1 Demand vector per product (of size number_stores)\n",
    " # 1 Capacity list per van (i.e. how many boxes each can transport)\n",
    " # 1 List of pairs of conflicting employees\n",
    "\n",
    "capacities = [15, 20, 20, 15]\n",
    "conflicted_employees = [\n",
    "    (0, 1), (0, 2), (0, 3), (0, 4), (0, 5), (0, 6), (0, 7),\n",
    "    (1,2),(1,3),(1,4),(1,5),(1,6),(1,7),\n",
    "    (2,3),(2,4),(2,5),(2,6),(2,7),\n",
    "    (3,4),(3,5),(3,6),(3,7),\n",
    "    (4,5)\n",
    "    ]\n",
    "\n",
    "\n",
    "# For each product we'll generate random costs, stocks and demands, given by the intervals [low,high]\n",
    "costs_shipping = np.random.randint(min_cost, max_cost, size=(number_warehouses, number_stores))\n",
    "stocks = np.random.randint(min_stock, max_stock, size=(number_products, number_warehouses))\n",
    "demands = np.random.randint(min_demand, max_demand, size=(number_products, number_stores))\n",
    "# We create a vector of fixed costs for using each of the vans\n",
    "van_fees = np.random.randint(min_van_fixed_cost, max_van_fixed_cost, size=number_vehicles)\n"
   ]
  },
  {
   "cell_type": "code",
   "execution_count": 177,
   "id": "33d06175",
   "metadata": {},
   "outputs": [
    {
     "data": {
      "text/plain": [
       "array([197, 118, 184, 190])"
      ]
     },
     "execution_count": 177,
     "metadata": {},
     "output_type": "execute_result"
    }
   ],
   "source": [
    "fees_van"
   ]
  },
  {
   "cell_type": "code",
   "execution_count": 178,
   "id": "dd817f43",
   "metadata": {},
   "outputs": [],
   "source": [
    "# 5) CALL AN INSTANCE OF A SOLVER FOR MIXED INTEGER PROGRAMMING PROBLEMS\n",
    "model = cp_model.CpModel()\n",
    "solver = cp_model.CpSolver()\n",
    "\n",
    "# 6) CREATE THE VARIABLES\n",
    "\n",
    "# Variable X reflects the number of boxes shipped from a warehouse to a store using a specific van\n",
    "box = {}\n",
    "for p in range(number_products):\n",
    "    for w in range(number_warehouses):\n",
    "        for s in range(number_stores):\n",
    "            for v in range(number_vehicles):\n",
    "                # Write the variables following the previous mathematical notation x[Product,Warehouse,Store, Van]\n",
    "                # Here we also specify that each quantity must be positive (from 0 to infinity)\n",
    "                box[p, w, s, v] = model.NewIntVar(0, max(capacities), f\"x_{p}_{w}_{s}_{v}\")\n",
    "\n",
    "# Variable reflects the use of a van \n",
    "is_vehicle_used = {}\n",
    "for v in range(number_vehicles):\n",
    "    is_vehicle_used[v] = model.NewBoolVar(f\"is_used_{v}\")\n",
    "\n",
    "# Variable signals if employee e is assigned to van v\n",
    "is_employee_assigned = {}\n",
    "for v in range(number_vehicles):\n",
    "    for e in range(number_employees):\n",
    "        is_employee_assigned[v, e] = model.NewBoolVar(f\"is_assigned_{v}_{e}\")\n",
    "\n",
    "# Thi is an auxiliary variable used to count the number of trips a van makes\n",
    "trip = {}\n",
    "for v in range(number_vehicles):\n",
    "    for w in range(number_warehouses):\n",
    "        for s in range(number_stores):\n",
    "            trip[w, s, v] = model.NewBoolVar(f\"trip_{w}_{s}_{v}\")\n",
    "\n",
    "is_vehicle_conflicted = {}\n",
    "for v in range(number_vehicles):\n",
    "    for _, (e1, e2) in enumerate(conflicted_employees):\n",
    "        is_vehicle_conflicted[v, _] = model.NewBoolVar(f\"is_conflicted_{v}_{e1}_{e2}\")\n"
   ]
  },
  {
   "cell_type": "code",
   "execution_count": 179,
   "id": "f58d56f8",
   "metadata": {},
   "outputs": [],
   "source": [
    "# 7) DEFINE THE CONSTRAINTS\n",
    "\n",
    "# The sum of the columns (stock received at each store) must equal the store's demand\n",
    "for (p, s) in product(range(number_products), range(number_stores)):\n",
    "    pairs = product(range(number_warehouses), range(number_vehicles))\n",
    "    boxes_shipped_to_store = sum(box[p, _w, s, _v] for (_w, _v) in pairs)\n",
    "    model.Add(boxes_shipped_to_store == demands[p, s]) # product_demand_in_store\n",
    "\n",
    "# The sum of stock of product p received at each store must be lower or equal to the available stock of p at each warehouse w\n",
    "for (p, w) in product(range(number_products), range(number_warehouses)):\n",
    "    pairs = product(range(number_stores), range(number_vehicles))\n",
    "    boxes_shipped_from_warehouse = sum(box[p, w, _s, _v] for (_s, _v) in pairs)\n",
    "    model.Add(boxes_shipped_from_warehouse <= stocks[p, w])  # product stock in warehouse\n",
    "\n",
    "# None of the vans can make more than 5 trips\n",
    "# a) Register the possibility of making a trip from warehouse w to store s using van v\n",
    "for v in range(number_vehicles):\n",
    "    for s in range(number_stores):\n",
    "        for w in range(number_warehouses):\n",
    "            boxes_shipped_on_vehicle = sum(box[_p, w, s, v] for _p in range(number_products))\n",
    "            model.Add(boxes_shipped_on_vehicle <= capacities[v]).OnlyEnforceIf(trip[w, s, v])\n",
    "            model.Add(boxes_shipped_on_vehicle == 0).OnlyEnforceIf(trip[w, s, v].Not())\n",
    "\n",
    "# b) Limit the number of trips each van can make and check that a van was used\n",
    "for v in range(number_vehicles):\n",
    "    trips_per_vehicle = sum(trip[_w, _s, v] for (_w, _s) in product(range(number_warehouses), range(number_stores)))\n",
    "    model.Add(trips_per_vehicle <= trip_limit).OnlyEnforceIf(is_vehicle_used[v])\n",
    "    model.Add(trips_per_vehicle == 0).OnlyEnforceIf(is_vehicle_used[v].Not())\n",
    "\n",
    "    # The number of employees assigned to a van needs to 2, 1 or 0\n",
    "    employees_in_vehicle = sum(is_employee_assigned[v, _e] for _e in range(number_employees))\n",
    "    model.Add(employees_in_vehicle <= 2).OnlyEnforceIf(is_vehicle_used[v])\n",
    "    model.Add(employees_in_vehicle == 0).OnlyEnforceIf(is_vehicle_used[v].Not())\n",
    "\n",
    "    #Check which pair of employees are conflicted in order to pay the penalty\n",
    "    #for _, (e1, e2) in enumerate(conflicted_employees):\n",
    "    #    partners = [is_employee_assigned[v, e1], is_employee_assigned[v, e2]]\n",
    "    #    model.AddBoolAnd(partners).OnlyEnforceIf(is_vehicle_conflicted[v, _])\n",
    "\n",
    "# An employee assigned to a van can't be assigned to another van\n",
    "for e in range(number_employees):\n",
    "    vehicle_options_for_employee = sum(is_employee_assigned[_v, e] for _v in range(number_vehicles))\n",
    "    model.Add(vehicle_options_for_employee <= 1)"
   ]
  },
  {
   "cell_type": "code",
   "execution_count": 180,
   "id": "2c7931fe",
   "metadata": {},
   "outputs": [],
   "source": [
    "# Define the objective function previously mentioned:\n",
    "objective_function = []\n",
    "\n",
    "# First term -> sum of variable costs of transportation\n",
    "for p in range(number_products):\n",
    "    for w in range(number_warehouses):\n",
    "        for s in range(number_stores):\n",
    "            for v in range(number_vehicles):\n",
    "                objective_function.append(costs_shipping[w, s] * box[p, w, s, v])\n",
    "\n",
    "# Second term -> sum of fixed costs of using a specific van\n",
    "for v in range(number_vehicles):\n",
    "    objective_function.append(van_fees[v] * is_vehicle_used[v])\n",
    "\n",
    "# Third term -> sum of salary payments per employee assigned to a task\n",
    "for v in range(number_vehicles):\n",
    "    for e in range(number_employees):\n",
    "        objective_function.append(fixed_salary * is_employee_assigned[v, e])\n",
    "\n",
    "# Fourth term -> sum of penalties for not avoiding the joint assignment of conflicting employees\n",
    "for v in range(number_vehicles):\n",
    "    for _ in range(len(conflicted_employees)):\n",
    "        objective_function.append(conflict_penalty * is_vehicle_conflicted[v, _])\n",
    "\n",
    "# Specify the type of problem. In this case, we want to minimize the objective function\n",
    "solver.parameters.num_search_workers = 6\n",
    "solver.parameters.max_time_in_seconds = 2*60\n",
    "model.Minimize(sum(objective_function))"
   ]
  },
  {
   "cell_type": "markdown",
   "id": "2e6c4bf2",
   "metadata": {},
   "source": [
    "### Results"
   ]
  },
  {
   "cell_type": "code",
   "execution_count": 182,
   "id": "8ac34e14-763a-464b-9d9a-86b05a973905",
   "metadata": {},
   "outputs": [
    {
     "name": "stdout",
     "output_type": "stream",
     "text": [
      "Solution 0, time = 0.07 s, objective = 1459\n",
      "Solution 1, time = 0.07 s, objective = 1429\n",
      "Solution 2, time = 0.12 s, objective = 1427\n",
      "Solution 3, time = 0.13 s, objective = 1419\n",
      "Solution 4, time = 5.61 s, objective = 1289\n",
      "Solution 5, time = 6.13 s, objective = 1283\n",
      "Solution 6, time = 6.72 s, objective = 1282\n",
      "Solution: Total cost = $1282.0 dollars\n"
     ]
    }
   ],
   "source": [
    "# Call the solver method to find the optimal solution\n",
    "callback = cp_model.ObjectiveSolutionPrinter()\n",
    "or_status = solver.SolveWithSolutionCallback(model, callback)\n",
    "status = solver.StatusName(or_status)\n",
    "\n",
    "if status == \"OPTIMAL\":\n",
    "    print(f'Solution: Total cost = ${solver.ObjectiveValue()} dollars')\n",
    "else:\n",
    "    print('A solution could not be found, check the problem specification')"
   ]
  },
  {
   "cell_type": "markdown",
   "id": "33aff1e3",
   "metadata": {},
   "source": [
    "#### Results extraction"
   ]
  },
  {
   "cell_type": "code",
   "execution_count": 183,
   "id": "14d41542-8d23-481e-8e00-56ee10112c7f",
   "metadata": {
    "tags": []
   },
   "outputs": [],
   "source": [
    "data = []\n",
    "for (p, w, s, v), or_var in box.items():\n",
    "    n = or_var.Name()\n",
    "    x = solver.Value(or_var)\n",
    "    data.append([\"box\", n, x, p, w, s, v])\n",
    "\n",
    "names = [\n",
    "    \"type\",\n",
    "    \"name\",\n",
    "    \"value\",\n",
    "    \"prod\",\n",
    "    \"ware\",\n",
    "    \"store\",\n",
    "    \"vehi\",\n",
    "]\n",
    "\n",
    "df = pd.DataFrame(data, columns=names)"
   ]
  },
  {
   "cell_type": "code",
   "execution_count": 184,
   "id": "2bd294c8",
   "metadata": {},
   "outputs": [
    {
     "data": {
      "text/plain": [
       "value    244\n",
       "prod       0\n",
       "ware     720\n",
       "store    240\n",
       "vehi     240\n",
       "dtype: int64"
      ]
     },
     "execution_count": 184,
     "metadata": {},
     "output_type": "execute_result"
    }
   ],
   "source": [
    "df[df[\"prod\"]==0].sum(numeric_only=True)"
   ]
  },
  {
   "cell_type": "code",
   "execution_count": 185,
   "id": "e3b812f0",
   "metadata": {},
   "outputs": [],
   "source": [
    "for (p, s) in product(range(number_products), range(number_stores)):\n",
    "    total = df[(df['value'] > 0) & (df[\"store\"] == s) & (df[\"prod\"] == p)]\n",
    "    assert demands[p][s] == total.sum(numeric_only=True).value, \"Error\"\n"
   ]
  },
  {
   "cell_type": "code",
   "execution_count": 186,
   "id": "89dc915b",
   "metadata": {},
   "outputs": [
    {
     "data": {
      "text/html": [
       "<div>\n",
       "<style scoped>\n",
       "    .dataframe tbody tr th:only-of-type {\n",
       "        vertical-align: middle;\n",
       "    }\n",
       "\n",
       "    .dataframe tbody tr th {\n",
       "        vertical-align: top;\n",
       "    }\n",
       "\n",
       "    .dataframe thead th {\n",
       "        text-align: right;\n",
       "    }\n",
       "</style>\n",
       "<table border=\"1\" class=\"dataframe\">\n",
       "  <thead>\n",
       "    <tr style=\"text-align: right;\">\n",
       "      <th></th>\n",
       "      <th>type</th>\n",
       "      <th>name</th>\n",
       "      <th>value</th>\n",
       "      <th>prod</th>\n",
       "      <th>ware</th>\n",
       "      <th>store</th>\n",
       "      <th>vehi</th>\n",
       "    </tr>\n",
       "  </thead>\n",
       "  <tbody>\n",
       "    <tr>\n",
       "      <th>1</th>\n",
       "      <td>box</td>\n",
       "      <td>x_0_0_0_1</td>\n",
       "      <td>20</td>\n",
       "      <td>0</td>\n",
       "      <td>0</td>\n",
       "      <td>0</td>\n",
       "      <td>1</td>\n",
       "    </tr>\n",
       "    <tr>\n",
       "      <th>3</th>\n",
       "      <td>box</td>\n",
       "      <td>x_0_0_0_3</td>\n",
       "      <td>8</td>\n",
       "      <td>0</td>\n",
       "      <td>0</td>\n",
       "      <td>0</td>\n",
       "      <td>3</td>\n",
       "    </tr>\n",
       "    <tr>\n",
       "      <th>82</th>\n",
       "      <td>box</td>\n",
       "      <td>x_0_5_0_2</td>\n",
       "      <td>7</td>\n",
       "      <td>0</td>\n",
       "      <td>5</td>\n",
       "      <td>0</td>\n",
       "      <td>2</td>\n",
       "    </tr>\n",
       "    <tr>\n",
       "      <th>114</th>\n",
       "      <td>box</td>\n",
       "      <td>x_0_7_0_2</td>\n",
       "      <td>6</td>\n",
       "      <td>0</td>\n",
       "      <td>7</td>\n",
       "      <td>0</td>\n",
       "      <td>2</td>\n",
       "    </tr>\n",
       "    <tr>\n",
       "      <th>115</th>\n",
       "      <td>box</td>\n",
       "      <td>x_0_7_0_3</td>\n",
       "      <td>15</td>\n",
       "      <td>0</td>\n",
       "      <td>7</td>\n",
       "      <td>0</td>\n",
       "      <td>3</td>\n",
       "    </tr>\n",
       "  </tbody>\n",
       "</table>\n",
       "</div>"
      ],
      "text/plain": [
       "    type       name  value  prod  ware  store  vehi\n",
       "1    box  x_0_0_0_1     20     0     0      0     1\n",
       "3    box  x_0_0_0_3      8     0     0      0     3\n",
       "82   box  x_0_5_0_2      7     0     5      0     2\n",
       "114  box  x_0_7_0_2      6     0     7      0     2\n",
       "115  box  x_0_7_0_3     15     0     7      0     3"
      ]
     },
     "execution_count": 186,
     "metadata": {},
     "output_type": "execute_result"
    }
   ],
   "source": [
    "df[(df['value'] > 0) & (df[\"store\"] == 0) & (df[\"prod\"] == 0)]"
   ]
  },
  {
   "cell_type": "code",
   "execution_count": 7,
   "id": "3187df4a-48c3-4176-b56d-0c588b20c520",
   "metadata": {},
   "outputs": [
    {
     "data": {
      "text/plain": [
       "['T_1', 'T_2', 'T_3']"
      ]
     },
     "execution_count": 7,
     "metadata": {},
     "output_type": "execute_result"
    }
   ],
   "source": [
    "# Trucks to be used\n",
    "for \n",
    "list(results[(results['Variable']=='T')&(results['Value']==1)].Name)"
   ]
  },
  {
   "cell_type": "code",
   "execution_count": 8,
   "id": "fcfb51a2",
   "metadata": {},
   "outputs": [
    {
     "data": {
      "text/html": [
       "<div>\n",
       "<style scoped>\n",
       "    .dataframe tbody tr th:only-of-type {\n",
       "        vertical-align: middle;\n",
       "    }\n",
       "\n",
       "    .dataframe tbody tr th {\n",
       "        vertical-align: top;\n",
       "    }\n",
       "\n",
       "    .dataframe thead th {\n",
       "        text-align: right;\n",
       "    }\n",
       "</style>\n",
       "<table border=\"1\" class=\"dataframe\">\n",
       "  <thead>\n",
       "    <tr style=\"text-align: right;\">\n",
       "      <th></th>\n",
       "      <th>Variable</th>\n",
       "      <th>Indices</th>\n",
       "      <th>Name</th>\n",
       "      <th>Value</th>\n",
       "    </tr>\n",
       "  </thead>\n",
       "  <tbody>\n",
       "    <tr>\n",
       "      <th>180</th>\n",
       "      <td>Z</td>\n",
       "      <td>Z_warehouse_store_van</td>\n",
       "      <td>Z_1_1_1</td>\n",
       "      <td>1</td>\n",
       "    </tr>\n",
       "    <tr>\n",
       "      <th>182</th>\n",
       "      <td>Z</td>\n",
       "      <td>Z_warehouse_store_van</td>\n",
       "      <td>Z_1_3_1</td>\n",
       "      <td>1</td>\n",
       "    </tr>\n",
       "    <tr>\n",
       "      <th>184</th>\n",
       "      <td>Z</td>\n",
       "      <td>Z_warehouse_store_van</td>\n",
       "      <td>Z_2_2_1</td>\n",
       "      <td>1</td>\n",
       "    </tr>\n",
       "    <tr>\n",
       "      <th>187</th>\n",
       "      <td>Z</td>\n",
       "      <td>Z_warehouse_store_van</td>\n",
       "      <td>Z_3_2_1</td>\n",
       "      <td>1</td>\n",
       "    </tr>\n",
       "    <tr>\n",
       "      <th>188</th>\n",
       "      <td>Z</td>\n",
       "      <td>Z_warehouse_store_van</td>\n",
       "      <td>Z_3_3_1</td>\n",
       "      <td>1</td>\n",
       "    </tr>\n",
       "  </tbody>\n",
       "</table>\n",
       "</div>"
      ],
      "text/plain": [
       "    Variable                Indices     Name  Value\n",
       "180        Z  Z_warehouse_store_van  Z_1_1_1      1\n",
       "182        Z  Z_warehouse_store_van  Z_1_3_1      1\n",
       "184        Z  Z_warehouse_store_van  Z_2_2_1      1\n",
       "187        Z  Z_warehouse_store_van  Z_3_2_1      1\n",
       "188        Z  Z_warehouse_store_van  Z_3_3_1      1"
      ]
     },
     "metadata": {},
     "output_type": "display_data"
    }
   ],
   "source": [
    "# Trips of van 1\n",
    "\n",
    "trips_df=results[(results['Variable']=='Z')&(results['Value']>0)]\n",
    "\n",
    "trips_van_1=[]\n",
    "for w in range(number_warehouses):\n",
    "    for s in range(number_stores):\n",
    "        for v in range(number_vehicles):\n",
    "            if v==0:\n",
    "                trips_van_1.append(str(Z[w,s,v]))\n",
    "\n",
    "\n",
    "display(trips_df[trips_df['Name'].isin(trips_van_1)])"
   ]
  },
  {
   "cell_type": "code",
   "execution_count": 9,
   "id": "44bba149",
   "metadata": {},
   "outputs": [
    {
     "data": {
      "text/html": [
       "<div>\n",
       "<style scoped>\n",
       "    .dataframe tbody tr th:only-of-type {\n",
       "        vertical-align: middle;\n",
       "    }\n",
       "\n",
       "    .dataframe tbody tr th {\n",
       "        vertical-align: top;\n",
       "    }\n",
       "\n",
       "    .dataframe thead th {\n",
       "        text-align: right;\n",
       "    }\n",
       "</style>\n",
       "<table border=\"1\" class=\"dataframe\">\n",
       "  <thead>\n",
       "    <tr style=\"text-align: right;\">\n",
       "      <th></th>\n",
       "      <th>Variable</th>\n",
       "      <th>Indices</th>\n",
       "      <th>Name</th>\n",
       "      <th>Value</th>\n",
       "    </tr>\n",
       "  </thead>\n",
       "  <tbody>\n",
       "    <tr>\n",
       "      <th>52</th>\n",
       "      <td>X</td>\n",
       "      <td>X_product_warehouse_store_van</td>\n",
       "      <td>x_2_2_2_1</td>\n",
       "      <td>4</td>\n",
       "    </tr>\n",
       "    <tr>\n",
       "      <th>88</th>\n",
       "      <td>X</td>\n",
       "      <td>X_product_warehouse_store_van</td>\n",
       "      <td>x_3_2_2_1</td>\n",
       "      <td>1</td>\n",
       "    </tr>\n",
       "  </tbody>\n",
       "</table>\n",
       "</div>"
      ],
      "text/plain": [
       "   Variable                        Indices       Name  Value\n",
       "52        X  X_product_warehouse_store_van  x_2_2_2_1      4\n",
       "88        X  X_product_warehouse_store_van  x_3_2_2_1      1"
      ]
     },
     "metadata": {},
     "output_type": "display_data"
    }
   ],
   "source": [
    "# Boxes transported by van 1 during the trip from warehouse 2 to store 2\n",
    "transport_df = results[(results['Variable']=='X')&(results['Value']>0)]\n",
    "\n",
    "transport_trip_2_2 = []\n",
    "\n",
    "for p in range(number_products):\n",
    "    for w in range(number_warehouses):\n",
    "        for s in range(number_stores):\n",
    "            for v in range(number_vehicles):\n",
    "                if w==1 and s==1 and v==0:\n",
    "                    transport_trip_2_2.append(str(x[p,w,s,v]))\n",
    "\n",
    "display(transport_df[transport_df['Name'].isin(transport_trip_2_2)])"
   ]
  },
  {
   "cell_type": "code",
   "execution_count": 10,
   "id": "4370f1a0",
   "metadata": {},
   "outputs": [
    {
     "data": {
      "text/html": [
       "<div>\n",
       "<style scoped>\n",
       "    .dataframe tbody tr th:only-of-type {\n",
       "        vertical-align: middle;\n",
       "    }\n",
       "\n",
       "    .dataframe tbody tr th {\n",
       "        vertical-align: top;\n",
       "    }\n",
       "\n",
       "    .dataframe thead th {\n",
       "        text-align: right;\n",
       "    }\n",
       "</style>\n",
       "<table border=\"1\" class=\"dataframe\">\n",
       "  <thead>\n",
       "    <tr style=\"text-align: right;\">\n",
       "      <th></th>\n",
       "      <th>Variable</th>\n",
       "      <th>Indices</th>\n",
       "      <th>Name</th>\n",
       "      <th>Value</th>\n",
       "    </tr>\n",
       "  </thead>\n",
       "  <tbody>\n",
       "    <tr>\n",
       "      <th>224</th>\n",
       "      <td>A</td>\n",
       "      <td>A_van_employee</td>\n",
       "      <td>A_1_5</td>\n",
       "      <td>1</td>\n",
       "    </tr>\n",
       "    <tr>\n",
       "      <th>225</th>\n",
       "      <td>A</td>\n",
       "      <td>A_van_employee</td>\n",
       "      <td>A_1_6</td>\n",
       "      <td>1</td>\n",
       "    </tr>\n",
       "  </tbody>\n",
       "</table>\n",
       "</div>"
      ],
      "text/plain": [
       "    Variable         Indices   Name  Value\n",
       "224        A  A_van_employee  A_1_5      1\n",
       "225        A  A_van_employee  A_1_6      1"
      ]
     },
     "metadata": {},
     "output_type": "display_data"
    }
   ],
   "source": [
    "employees_van_1=[]\n",
    "for v in range(number_vehicles):\n",
    "    for e in range(number_employees):\n",
    "        if v==0:\n",
    "            employees_van_1.append(str(A[v,e]))\n",
    "            \n",
    "employees_df=results[(results['Variable']=='A')&(results['Value']>0)]\n",
    "\n",
    "display(employees_df[employees_df['Name'].isin(employees_van_1)])"
   ]
  },
  {
   "cell_type": "code",
   "execution_count": 11,
   "id": "acde01ab",
   "metadata": {},
   "outputs": [
    {
     "data": {
      "text/html": [
       "<div>\n",
       "<style scoped>\n",
       "    .dataframe tbody tr th:only-of-type {\n",
       "        vertical-align: middle;\n",
       "    }\n",
       "\n",
       "    .dataframe tbody tr th {\n",
       "        vertical-align: top;\n",
       "    }\n",
       "\n",
       "    .dataframe thead th {\n",
       "        text-align: right;\n",
       "    }\n",
       "</style>\n",
       "<table border=\"1\" class=\"dataframe\">\n",
       "  <thead>\n",
       "    <tr style=\"text-align: right;\">\n",
       "      <th></th>\n",
       "      <th>Variable</th>\n",
       "      <th>Indices</th>\n",
       "      <th>Name</th>\n",
       "      <th>Value</th>\n",
       "    </tr>\n",
       "  </thead>\n",
       "  <tbody>\n",
       "    <tr>\n",
       "      <th>380</th>\n",
       "      <td>G</td>\n",
       "      <td>G_van_pair</td>\n",
       "      <td>G_2_14</td>\n",
       "      <td>1</td>\n",
       "    </tr>\n",
       "  </tbody>\n",
       "</table>\n",
       "</div>"
      ],
      "text/plain": [
       "    Variable     Indices    Name  Value\n",
       "380        G  G_van_pair  G_2_14      1"
      ]
     },
     "execution_count": 11,
     "metadata": {},
     "output_type": "execute_result"
    }
   ],
   "source": [
    "# Conflicts\n",
    "results[(results['Variable']=='G')&(results['Value']>0)]"
   ]
  },
  {
   "cell_type": "code",
   "execution_count": 12,
   "id": "bcf8012d",
   "metadata": {},
   "outputs": [
    {
     "data": {
      "text/plain": [
       "(3, 4)"
      ]
     },
     "execution_count": 12,
     "metadata": {},
     "output_type": "execute_result"
    }
   ],
   "source": [
    "# Conflicting employees assigned together to van 2\n",
    "J_employees_conflicts[13]"
   ]
  },
  {
   "cell_type": "code",
   "execution_count": 13,
   "id": "d6123b7d",
   "metadata": {},
   "outputs": [
    {
     "data": {
      "text/html": [
       "<div>\n",
       "<style scoped>\n",
       "    .dataframe tbody tr th:only-of-type {\n",
       "        vertical-align: middle;\n",
       "    }\n",
       "\n",
       "    .dataframe tbody tr th {\n",
       "        vertical-align: top;\n",
       "    }\n",
       "\n",
       "    .dataframe thead th {\n",
       "        text-align: right;\n",
       "    }\n",
       "</style>\n",
       "<table border=\"1\" class=\"dataframe\">\n",
       "  <thead>\n",
       "    <tr style=\"text-align: right;\">\n",
       "      <th></th>\n",
       "      <th>Variable</th>\n",
       "      <th>Indices</th>\n",
       "      <th>Name</th>\n",
       "      <th>Value</th>\n",
       "    </tr>\n",
       "  </thead>\n",
       "  <tbody>\n",
       "    <tr>\n",
       "      <th>224</th>\n",
       "      <td>A</td>\n",
       "      <td>A_van_employee</td>\n",
       "      <td>A_1_5</td>\n",
       "      <td>1</td>\n",
       "    </tr>\n",
       "    <tr>\n",
       "      <th>225</th>\n",
       "      <td>A</td>\n",
       "      <td>A_van_employee</td>\n",
       "      <td>A_1_6</td>\n",
       "      <td>1</td>\n",
       "    </tr>\n",
       "    <tr>\n",
       "      <th>230</th>\n",
       "      <td>A</td>\n",
       "      <td>A_van_employee</td>\n",
       "      <td>A_2_3</td>\n",
       "      <td>1</td>\n",
       "    </tr>\n",
       "    <tr>\n",
       "      <th>231</th>\n",
       "      <td>A</td>\n",
       "      <td>A_van_employee</td>\n",
       "      <td>A_2_4</td>\n",
       "      <td>1</td>\n",
       "    </tr>\n",
       "    <tr>\n",
       "      <th>242</th>\n",
       "      <td>A</td>\n",
       "      <td>A_van_employee</td>\n",
       "      <td>A_3_7</td>\n",
       "      <td>1</td>\n",
       "    </tr>\n",
       "    <tr>\n",
       "      <th>243</th>\n",
       "      <td>A</td>\n",
       "      <td>A_van_employee</td>\n",
       "      <td>A_3_8</td>\n",
       "      <td>1</td>\n",
       "    </tr>\n",
       "  </tbody>\n",
       "</table>\n",
       "</div>"
      ],
      "text/plain": [
       "    Variable         Indices   Name  Value\n",
       "224        A  A_van_employee  A_1_5      1\n",
       "225        A  A_van_employee  A_1_6      1\n",
       "230        A  A_van_employee  A_2_3      1\n",
       "231        A  A_van_employee  A_2_4      1\n",
       "242        A  A_van_employee  A_3_7      1\n",
       "243        A  A_van_employee  A_3_8      1"
      ]
     },
     "execution_count": 13,
     "metadata": {},
     "output_type": "execute_result"
    }
   ],
   "source": [
    "# We should be able to see that A_2_3 and A_2_4 both are equal to 1\n",
    "results[(results['Variable']=='A')&(results['Value']!=0)]"
   ]
  }
 ],
 "metadata": {
  "kernelspec": {
   "display_name": "Python 3",
   "language": "python",
   "name": "python3"
  },
  "language_info": {
   "codemirror_mode": {
    "name": "ipython",
    "version": 3
   },
   "file_extension": ".py",
   "mimetype": "text/x-python",
   "name": "python",
   "nbconvert_exporter": "python",
   "pygments_lexer": "ipython3",
   "version": "3.9.12"
  },
  "widgets": {
   "application/vnd.jupyter.widget-state+json": {
    "state": {},
    "version_major": 2,
    "version_minor": 0
   }
  }
 },
 "nbformat": 4,
 "nbformat_minor": 5
}
