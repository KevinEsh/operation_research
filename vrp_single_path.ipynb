{
 "cells": [
  {
   "cell_type": "markdown",
   "metadata": {},
   "source": [
    "My friend VictORia and I are planning a road trip.\n",
    "\n",
    "We want to drive from Madrid to Copenhagen and we've seen there are a lot of ways to do it.\n",
    "\n",
    "Most probably, even if we wanted to go through Budapest, we cannot go that path. We have a limited budget for fuel of 73€, and we want to get the shortest possible way.\n",
    "\n",
    "Can you help me solve this problem?"
   ]
  },
  {
   "cell_type": "markdown",
   "metadata": {},
   "source": [
    "## Solution modeled with binary variables\n",
    "\n",
    "**Goal**\n",
    "\n",
    "Shortest route given a budget for fuel\n",
    "\n",
    "$$\\min \\sum_{u,v \\in P} d_{uv} x_{uv}$$\n",
    "\n",
    "**Decisions**:\n",
    "\n",
    "$$x_{uv} \\in \\{0,1\\} \\text{ to use road } (u,v) \\text{connecting city u and v}$$\n",
    "\n",
    "\n",
    "**Data:**\n",
    "\n",
    "Set of cities $C$\n",
    "\n",
    "Roads from city to city (network) $R=\\{(u,v)|u,v \\in C\\}$\n",
    "\n",
    "Distance from city to city $d_{uv}$\n",
    "\n",
    "Cost of traversing a road $c_{uv}$\n",
    "\n",
    "Start node $\\{s\\}$\n",
    "\n",
    "Target node $\\{t\\}$\n",
    "\n",
    "Budget $B$ \n",
    "\n",
    "\n",
    "\n",
    "**Constraints**\n",
    "\n",
    "| Description    | Expression |\n",
    "| -------- | ------- |\n",
    "| Choose exactly one road that flows out at start node $s$  | $\\sum_v x_{sv} = 1$    |\n",
    "| Choose exactly one road that flows in at target node $t$ | $\\sum_u x_{ut} = 1$ |\n",
    "| Don’t end at initial node | $\\forall u,s \\in R: x_{us} = 0$ |\n",
    "| Don’t start at target node | $\\forall t,v \\in R: x_{tv} = 0$ |\n",
    "| The net flow of the rest of the nodes must be zero | $\\forall w \\in C - \\{s, t\\}: \\sum_u x_{uw} - \\sum_v x_{wv} = 0 $ |\n",
    "| Subtour elimination ? | |\n",
    "| Stay within the budget| $\\sum_{u,v} c_{uv} x_{uv} \\leq B$ |"
   ]
  },
  {
   "cell_type": "code",
   "execution_count": 1,
   "metadata": {},
   "outputs": [],
   "source": [
    "def get_instance(input_filename):\n",
    "    with open(input_filename, \"r\") as file:\n",
    "        data = file.read()\n",
    "\n",
    "    # Split the data into lines\n",
    "    lines = data.strip().split('\\n')\n",
    "    l = 0\n",
    "\n",
    "    # Skip comment lines\n",
    "    while lines[l].startswith('#') or lines[l] == '':\n",
    "        l += 1\n",
    "    \n",
    "    # get metadata parameters (always first line)\n",
    "    metadata = map(int, lines[l].split())\n",
    "    data = []\n",
    "    l += 1\n",
    "\n",
    "    # Process each line\n",
    "    while l < len(lines):\n",
    "        data.append(list(map(int, lines[l].split())))\n",
    "        l += 1\n",
    "\n",
    "    return *metadata, data\n",
    "\n",
    "def parse_to_zero_index(data, indexes):\n",
    "    for i in range(len(data)):\n",
    "        for idx in indexes:\n",
    "            data[i][idx] -= 1\n",
    "    return"
   ]
  },
  {
   "cell_type": "code",
   "execution_count": 2,
   "metadata": {},
   "outputs": [
    {
     "name": "stdout",
     "output_type": "stream",
     "text": [
      "Number of cities: 100\n",
      "Number of roads: 955\n",
      "Max budget: 73\n",
      "Madrid at 0, Copenhagen at 99\n"
     ]
    }
   ],
   "source": [
    "num_cities, num_roads, max_budget, roads = get_instance(\"data/euro_trip.txt\")\n",
    "s, t = 0, num_cities - 1\n",
    "\n",
    "parse_to_zero_index(roads, (0, 1))\n",
    "#num_rooms = num_events # worst-case scenario\n",
    "# num_rooms = 15\n",
    "# Print the extracted data\n",
    "print(f\"Number of cities: {num_cities}\")\n",
    "print(f\"Number of roads: {num_roads}\")\n",
    "print(f\"Max budget: {max_budget}\")\n",
    "print(f\"Madrid at {s}, Copenhagen at {t}\")\n",
    "# print(\"Conflicts:\")\n",
    "# for conflict in conflicts:\n",
    "#     print(conflict)"
   ]
  },
  {
   "cell_type": "code",
   "execution_count": 3,
   "metadata": {},
   "outputs": [],
   "source": [
    "from ortools.sat.python import cp_model\n",
    "\n",
    "model = cp_model.CpModel()\n",
    "solver = cp_model.CpSolver()"
   ]
  },
  {
   "cell_type": "code",
   "execution_count": 4,
   "metadata": {},
   "outputs": [],
   "source": [
    "x = [[None] * num_cities for _ in range(num_cities)]\n",
    "c = [[None] * num_cities for _ in range(num_cities)]\n",
    "d = [[None] * num_cities for _ in range(num_cities)]\n",
    "\n",
    "for u, v, dist, cost in roads:\n",
    "    x[u][v] = model.NewBoolVar(name=f'path_{u}_{v}_chosen')\n",
    "    d[u][v] = dist\n",
    "    c[u][v] = cost"
   ]
  },
  {
   "cell_type": "code",
   "execution_count": 5,
   "metadata": {},
   "outputs": [
    {
     "data": {
      "text/plain": [
       "<ortools.sat.python.cp_model.Constraint at 0x1e8d686ae20>"
      ]
     },
     "execution_count": 5,
     "metadata": {},
     "output_type": "execute_result"
    }
   ],
   "source": [
    "model.Add(sum(x[s][v] for v in range(num_cities) if x[s][v] is not None) == 1)"
   ]
  },
  {
   "cell_type": "code",
   "execution_count": 6,
   "metadata": {},
   "outputs": [
    {
     "data": {
      "text/plain": [
       "<ortools.sat.python.cp_model.Constraint at 0x1e8d68df700>"
      ]
     },
     "execution_count": 6,
     "metadata": {},
     "output_type": "execute_result"
    }
   ],
   "source": [
    "model.Add(sum(x[u][t] for u in range(num_cities) if x[u][t] is not None) == 1)"
   ]
  },
  {
   "cell_type": "code",
   "execution_count": 7,
   "metadata": {},
   "outputs": [
    {
     "name": "stdout",
     "output_type": "stream",
     "text": [
      "path_10_0_chosen\n",
      "path_23_0_chosen\n",
      "path_78_0_chosen\n",
      "path_79_0_chosen\n"
     ]
    }
   ],
   "source": [
    "for u in range(num_cities):\n",
    "    if x[u][s] is not None:\n",
    "        print(x[u][s])\n",
    "        model.Add(x[u][s] == 0)"
   ]
  },
  {
   "cell_type": "code",
   "execution_count": 8,
   "metadata": {},
   "outputs": [
    {
     "name": "stdout",
     "output_type": "stream",
     "text": [
      "path_99_2_chosen\n",
      "path_99_8_chosen\n",
      "path_99_60_chosen\n",
      "path_99_63_chosen\n",
      "path_99_76_chosen\n",
      "path_99_78_chosen\n",
      "path_99_82_chosen\n",
      "path_99_87_chosen\n",
      "path_99_90_chosen\n",
      "path_99_98_chosen\n"
     ]
    }
   ],
   "source": [
    "for v in range(num_cities):\n",
    "    if x[t][v] is not None:\n",
    "        print(x[t][v])\n",
    "        model.Add(x[t][v] == 0)"
   ]
  },
  {
   "cell_type": "code",
   "execution_count": 9,
   "metadata": {},
   "outputs": [],
   "source": [
    "for w in range(num_cities):\n",
    "    if w in (s, t):\n",
    "        continue\n",
    "    model.Add(\n",
    "        sum(x[w][v] for v in range(num_cities) if x[w][v] is not None) - \\\n",
    "        sum(x[u][w] for u in range(num_cities) if x[u][w] is not None) == 0\n",
    "    )"
   ]
  },
  {
   "cell_type": "code",
   "execution_count": 10,
   "metadata": {},
   "outputs": [
    {
     "data": {
      "text/plain": [
       "<ortools.sat.python.cp_model.Constraint at 0x1e8d694d6a0>"
      ]
     },
     "execution_count": 10,
     "metadata": {},
     "output_type": "execute_result"
    }
   ],
   "source": [
    "model.Add(\n",
    "    sum(c[u][v] * x[u][v] \n",
    "        for u in range(num_cities) \n",
    "        for v in range(num_cities) \n",
    "        if x[u][v] is not None\n",
    "        ) <= max_budget\n",
    "    )"
   ]
  },
  {
   "cell_type": "code",
   "execution_count": 11,
   "metadata": {},
   "outputs": [],
   "source": [
    "# Specify the type of problem. In this case, we want to minimize the objective function\n",
    "solver.parameters.num_search_workers = 8\n",
    "solver.parameters.max_time_in_seconds = 120\n",
    "model.Minimize(\n",
    "    sum(d[u][v] * x[u][v] \n",
    "        for u in range(num_cities) \n",
    "        for v in range(num_cities) \n",
    "        if x[u][v] is not None\n",
    "    )\n",
    ")"
   ]
  },
  {
   "cell_type": "code",
   "execution_count": 13,
   "metadata": {},
   "outputs": [
    {
     "name": "stdout",
     "output_type": "stream",
     "text": [
      "Solution 0, time = 0.07 s, objective = 311\n",
      "Solution 1, time = 0.08 s, objective = 272\n",
      "Solution 2, time = 0.08 s, objective = 247\n",
      "Solution 3, time = 0.08 s, objective = 189\n",
      "Solution 4, time = 0.08 s, objective = 175\n",
      "Solution 5, time = 0.09 s, objective = 167\n",
      "Solution 6, time = 0.09 s, objective = 131\n",
      "Solution: Total distance traveled = 131.0\n"
     ]
    }
   ],
   "source": [
    "# Call the solver method to find the optimal solution\n",
    "callback = cp_model.ObjectiveSolutionPrinter()\n",
    "or_status = solver.SolveWithSolutionCallback(model, callback)\n",
    "status = solver.StatusName(or_status)\n",
    "\n",
    "if status in [\"OPTIMAL\", \"FEASIBLE\"]:\n",
    "    print(f'Solution: Total distance traveled = {solver.ObjectiveValue()}')\n",
    "else:\n",
    "    print('A solution could not be found, check the problem specification')"
   ]
  },
  {
   "cell_type": "code",
   "execution_count": 19,
   "metadata": {},
   "outputs": [
    {
     "name": "stdout",
     "output_type": "stream",
     "text": [
      "(0, 36) 1\n",
      "(1, 99) 1\n",
      "(36, 40) 1\n",
      "(40, 1) 1\n"
     ]
    }
   ],
   "source": [
    "solution = [[None] * num_cities for _ in range(num_cities)]\n",
    "for u in range(num_cities):\n",
    "    for v in range(num_cities):\n",
    "        if x[u][v] is not None and solver.Value(x[u][v]) == 1:\n",
    "            print((u,v), solver.Value(x[u][v]))\n",
    "# [solver.Value(x[s][v]) for v in range(num_cities) if x[s][v] is not None]"
   ]
  }
 ],
 "metadata": {
  "kernelspec": {
   "display_name": "operation_research-bYGrJpWX",
   "language": "python",
   "name": "python3"
  },
  "language_info": {
   "codemirror_mode": {
    "name": "ipython",
    "version": 3
   },
   "file_extension": ".py",
   "mimetype": "text/x-python",
   "name": "python",
   "nbconvert_exporter": "python",
   "pygments_lexer": "ipython3",
   "version": "3.9.13"
  }
 },
 "nbformat": 4,
 "nbformat_minor": 2
}
