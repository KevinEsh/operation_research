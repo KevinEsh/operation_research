{
 "cells": [
  {
   "cell_type": "markdown",
   "metadata": {},
   "source": [
    "Hi, I'm SalvadOR, responsible for creating a school timetable to organize classes, teachers, and rooms for an upcoming semester.\n",
    "\n",
    "We have some strict requirements to meet. This is a very hard problem we face every year, and I need your help to design an optimal timetable.\n",
    "\n",
    "Here's the situation:\n",
    "\n",
    "There are 4 classes, each requiring specific teaching sessions.\n",
    "There are 4 teachers, and each teacher has assigned subjects to teach.\n",
    "There are 4 rooms, and only one class can occupy a room during any given period.\n",
    "The timetable spans 30 periods, and we must ensure that all requirements are met without any conflicts or overlaps.\n",
    "I desperately need a timetable that satisfies all requirements (each class meets with the right teacher in the right room the required number of times), avoiding any type of clashes such as double-booking a teacher, room, or class during the same period.\n",
    "\n",
    "We say a timetable is optimized when it minimizes idle periods and maximizes resource utilization (teachers and rooms).\n",
    "\n",
    "Can you help me solve this problem?"
   ]
  },
  {
   "cell_type": "markdown",
   "metadata": {},
   "source": [
    "## Solution modeled with binary variables\n",
    "\n",
    "**Goal**\n",
    "\n",
    "Minimizes idle periods and maximize resource utilization. However, this approach may yield scattered solutions.\n",
    "\n",
    "$$ \\max \\sum_{c,t,r,p} a_{ctrp} $$\n",
    "\n",
    "**Decisions**:\n",
    "\n",
    "$$a_{ctrp}\\in\\{0,1\\} \\text{ assigns room r with teacher t and class c at period }p$$\n",
    "\n",
    "\n",
    "**Data:**\n",
    "\n",
    "\n",
    "Qualified combinations required for scheduling $Q = \\{(c,t,r)\\} \\subset C\\times T\\times R$\n",
    "\n",
    "Demand of sessions each class $c$ with each teacher $t$ needs, given for each room $r$ by $d_{ctr}$\n",
    "\n",
    "Set of classes $C=\\{1..4\\}$\n",
    "\n",
    "Set of teachers $T=\\{1..4\\}$\n",
    "\n",
    "Set of rooms $R=\\{1..4\\}$\n",
    "\n",
    "Set of periods  $P=\\{1..30\\}$\n",
    "\n",
    "Set of subjects $S=\\{1..20\\}$\n",
    "\n",
    "**Constraints**\n",
    "\n",
    "| **Description** | **Expression** |\n",
    "| --- | --- |\n",
    "| Meet the session demand  | $\\forall (c, t, r) \\in Q: \\sum_p x_{ctrp} = d_{ctr}$ |\n",
    "| No class clash | $\\forall c, p: \\sum_{t,r} x_{ctrp}\\leq1$ |\n",
    "| No teacher clash | $\\forall t, p: \\sum_{r,c}a_{ctrp}\\leq1$ |\n",
    "| No room clash | $\\forall r, p: \\sum_{t,c}a_{ctrp}\\leq1$ |"
   ]
  },
  {
   "cell_type": "code",
   "execution_count": 15,
   "metadata": {},
   "outputs": [],
   "source": [
    "def get_instance(input_filename):\n",
    "    with open(input_filename, \"r\") as file:\n",
    "        data = file.read()\n",
    "\n",
    "    # Split the data into lines\n",
    "    lines = data.strip().split('\\n')\n",
    "    l = 0\n",
    "\n",
    "    # Skip comment lines\n",
    "    while lines[l].startswith('#') or lines[l] == '':\n",
    "        l += 1\n",
    "    \n",
    "    # get metadata parameters (always first line)\n",
    "    metadata = map(int, lines[l].split())\n",
    "    data = []\n",
    "    l += 1\n",
    "\n",
    "    # Process each line\n",
    "    while l < len(lines):\n",
    "        data.append(list(map(int, lines[l].split())))\n",
    "        l += 1\n",
    "\n",
    "    return *metadata, data\n",
    "\n",
    "def parse_to_zero_index(data, indexes):\n",
    "    for i in range(len(data)):\n",
    "        for idx in indexes:\n",
    "            data[i][idx] -= 1\n",
    "    return"
   ]
  },
  {
   "cell_type": "code",
   "execution_count": 16,
   "metadata": {},
   "outputs": [],
   "source": [
    "def correct_format(data):\n",
    "    for i in range(100):\n",
    "        for _ in range(7):\n",
    "            data[i].extend(data[i+1])\n",
    "            data.pop(i+1)\n",
    "    return"
   ]
  },
  {
   "cell_type": "code",
   "execution_count": 17,
   "metadata": {},
   "outputs": [
    {
     "name": "stdout",
     "output_type": "stream",
     "text": [
      "Number of classes: 4\n",
      "Number of subjects: 20\n",
      "Number of teachers: 4\n",
      "Number of rooms: 4\n",
      "Max of periods: 16\n",
      "Requirements matrix: 120\n"
     ]
    }
   ],
   "source": [
    "num_classes, num_subjects, num_teachers, num_rooms, max_periods, num_req, requirements = get_instance(\"data/classroom.txt\")\n",
    "parse_to_zero_index(requirements, [0, 1, 2, 3])\n",
    "\n",
    "# Print the extracted data\n",
    "print(f\"Number of classes: {num_classes}\")\n",
    "print(f\"Number of subjects: {num_subjects}\")\n",
    "print(f\"Number of teachers: {num_teachers}\")\n",
    "print(f\"Number of rooms: {num_rooms}\")\n",
    "print(f\"Max of periods: {max_periods}\")\n",
    "print(f\"Requirements matrix: {len(requirements)}\")"
   ]
  },
  {
   "cell_type": "code",
   "execution_count": 18,
   "metadata": {},
   "outputs": [],
   "source": [
    "from ortools.sat.python import cp_model\n",
    "\n",
    "model = cp_model.CpModel()\n",
    "solver = cp_model.CpSolver()"
   ]
  },
  {
   "cell_type": "code",
   "execution_count": 19,
   "metadata": {},
   "outputs": [],
   "source": [
    "x = {}\n",
    "\n",
    "for c in range(num_classes):\n",
    "    for t in range(num_teachers):\n",
    "        for r in range(num_rooms):\n",
    "            for p in range(max_periods):\n",
    "                x[c,t,r,p] = model.NewBoolVar(f'schedule_class_{c}_by_{t}_in_{r}_at_{p}')"
   ]
  },
  {
   "cell_type": "code",
   "execution_count": 20,
   "metadata": {},
   "outputs": [],
   "source": [
    "# 1. Each requirement must be satisfied the exact number of times.\n",
    "for c, _, t, r, d in requirements:\n",
    "    model.Add(sum(x[c,t,r,p] for p in range(max_periods)) == d )"
   ]
  },
  {
   "cell_type": "code",
   "execution_count": 21,
   "metadata": {},
   "outputs": [],
   "source": [
    "# 2. A class can only be assigned to one teacher-room-period at a time.\n",
    "for c in range(num_classes):\n",
    "    for p in range(max_periods):\n",
    "        model.Add(sum(x[c,t,r,p] for t in range(num_teachers) for r in range(num_rooms)) <= 1)"
   ]
  },
  {
   "cell_type": "code",
   "execution_count": 22,
   "metadata": {},
   "outputs": [],
   "source": [
    "# 3. A teacher can only teach one class in one room at a time.\n",
    "for t in range(num_teachers):\n",
    "    for p in range(max_periods):\n",
    "        model.Add(sum(x[c,t,r,p] for c in range(num_classes) for r in range(num_rooms)) <= 1)"
   ]
  },
  {
   "cell_type": "code",
   "execution_count": 23,
   "metadata": {},
   "outputs": [],
   "source": [
    "# 4. A room can only host one class at a time.\n",
    "for r in range(num_rooms):\n",
    "    for p in range(max_periods):\n",
    "        model.Add(sum(x[c,t,r,p] for c in range(num_classes) for t in range(num_teachers)) <= 1)"
   ]
  },
  {
   "cell_type": "code",
   "execution_count": 24,
   "metadata": {},
   "outputs": [],
   "source": [
    "# Specify the type of problem. In this case, we want to minimize the objective function\n",
    "solver.parameters.num_search_workers = 8\n",
    "solver.parameters.max_time_in_seconds = 120\n",
    "model.Minimize(\n",
    "    sum(x[c,t,r,p] \n",
    "        for c in range(num_classes) \n",
    "        for t in range(num_teachers)\n",
    "        for r in range(num_rooms)\n",
    "        for p in range(max_periods)\n",
    "    )\n",
    ")"
   ]
  },
  {
   "cell_type": "code",
   "execution_count": 25,
   "metadata": {},
   "outputs": [
    {
     "name": "stdout",
     "output_type": "stream",
     "text": [
      "Solution 0, time = 0.03 s, objective = 59\n",
      "Solution: Total cost of worker's payment = 59.0\n"
     ]
    }
   ],
   "source": [
    "# Call the solver method to find the optimal solution\n",
    "callback = cp_model.ObjectiveSolutionPrinter()\n",
    "or_status = solver.SolveWithSolutionCallback(model, callback)\n",
    "status = solver.StatusName(or_status)\n",
    "\n",
    "if status in [\"OPTIMAL\", \"FEASIBLE\"]:\n",
    "    print(f'Solution: Total cost of worker\\'s payment = {solver.ObjectiveValue()}')\n",
    "else:\n",
    "    print('A solution could not be found, check the problem specification')"
   ]
  },
  {
   "cell_type": "code",
   "execution_count": 26,
   "metadata": {},
   "outputs": [],
   "source": [
    "from datetime import datetime as dt, timedelta as delta\n",
    "\n",
    "base = dt.strptime('2024-12-01', '%Y-%m-%d')\n",
    "\n",
    "def add_days(n_days):\n",
    "    shifted = base + delta(days=n_days)\n",
    "    return shifted.strftime('%Y-%m-%d')\n",
    "    "
   ]
  },
  {
   "cell_type": "code",
   "execution_count": 27,
   "metadata": {},
   "outputs": [],
   "source": [
    "solution = []\n",
    "for c in range(num_classes):\n",
    "    for t in range(num_teachers):\n",
    "        for r in range(num_rooms):\n",
    "            for p in range(max_periods):\n",
    "                if solver.Value(x[c,t,r,p]) == 1:\n",
    "                    solution.append((c, t, r, add_days(p), add_days(p+1)))\n",
    "# [solver.Value(x[s][v]) for v in range(num_cities) if x[s][v] is not None]"
   ]
  },
  {
   "cell_type": "code",
   "execution_count": 30,
   "metadata": {},
   "outputs": [
    {
     "data": {
      "application/vnd.plotly.v1+json": {
       "config": {
        "plotlyServerURL": "https://plot.ly"
       },
       "data": [
        {
         "alignmentgroup": "True",
         "base": [
          "2024-12-03",
          "2024-12-04",
          "2024-12-05",
          "2024-12-16",
          "2024-12-12",
          "2024-12-14",
          "2024-12-10",
          "2024-12-07",
          "2024-12-09",
          "2024-12-01",
          "2024-12-02",
          "2024-12-06",
          "2024-12-15",
          "2024-12-11",
          "2024-12-13",
          "2024-12-08",
          "2024-12-07",
          "2024-12-12",
          "2024-12-06",
          "2024-12-09",
          "2024-12-11",
          "2024-12-10",
          "2024-12-13",
          "2024-12-16",
          "2024-12-15",
          "2024-12-01",
          "2024-12-03",
          "2024-12-04",
          "2024-12-14",
          "2024-12-14",
          "2024-12-02",
          "2024-12-11",
          "2024-12-09",
          "2024-12-04",
          "2024-12-15",
          "2024-12-01",
          "2024-12-13",
          "2024-12-05",
          "2024-12-08",
          "2024-12-12",
          "2024-12-03",
          "2024-12-16",
          "2024-12-06",
          "2024-12-10",
          "2024-12-13",
          "2024-12-06",
          "2024-12-15",
          "2024-12-01",
          "2024-12-08",
          "2024-12-16",
          "2024-12-03",
          "2024-12-11",
          "2024-12-07",
          "2024-12-14",
          "2024-12-04",
          "2024-12-02",
          "2024-12-12",
          "2024-12-09",
          "2024-12-05"
         ],
         "hovertemplate": "start=%{base}<br>end=%{x}<br>room=%{y}<br>class=%{marker.color}<extra></extra>",
         "legendgroup": "",
         "marker": {
          "color": [
           0,
           0,
           0,
           0,
           0,
           0,
           0,
           0,
           0,
           0,
           0,
           0,
           0,
           0,
           0,
           0,
           1,
           1,
           1,
           1,
           1,
           1,
           1,
           1,
           1,
           1,
           1,
           1,
           1,
           2,
           2,
           2,
           2,
           2,
           2,
           2,
           2,
           2,
           2,
           2,
           2,
           2,
           2,
           2,
           3,
           3,
           3,
           3,
           3,
           3,
           3,
           3,
           3,
           3,
           3,
           3,
           3,
           3,
           3
          ],
          "coloraxis": "coloraxis",
          "pattern": {
           "shape": ""
          }
         },
         "name": "",
         "offsetgroup": "",
         "orientation": "h",
         "showlegend": false,
         "textposition": "auto",
         "type": "bar",
         "x": [
          86400000,
          86400000,
          86400000,
          86400000,
          86400000,
          86400000,
          86400000,
          86400000,
          86400000,
          86400000,
          86400000,
          86400000,
          86400000,
          86400000,
          86400000,
          86400000,
          86400000,
          86400000,
          86400000,
          86400000,
          86400000,
          86400000,
          86400000,
          86400000,
          86400000,
          86400000,
          86400000,
          86400000,
          86400000,
          86400000,
          86400000,
          86400000,
          86400000,
          86400000,
          86400000,
          86400000,
          86400000,
          86400000,
          86400000,
          86400000,
          86400000,
          86400000,
          86400000,
          86400000,
          86400000,
          86400000,
          86400000,
          86400000,
          86400000,
          86400000,
          86400000,
          86400000,
          86400000,
          86400000,
          86400000,
          86400000,
          86400000,
          86400000,
          86400000
         ],
         "xaxis": "x",
         "y": [
          0,
          1,
          2,
          3,
          0,
          1,
          2,
          3,
          0,
          1,
          2,
          3,
          0,
          1,
          2,
          3,
          0,
          3,
          0,
          1,
          3,
          0,
          1,
          2,
          3,
          0,
          1,
          2,
          3,
          0,
          1,
          2,
          3,
          0,
          1,
          2,
          3,
          0,
          1,
          2,
          3,
          0,
          2,
          3,
          0,
          1,
          2,
          3,
          0,
          1,
          2,
          0,
          1,
          2,
          3,
          0,
          1,
          2,
          3
         ],
         "yaxis": "y"
        }
       ],
       "layout": {
        "barmode": "overlay",
        "coloraxis": {
         "colorbar": {
          "title": {
           "text": "class"
          }
         },
         "colorscale": [
          [
           0,
           "#0d0887"
          ],
          [
           0.1111111111111111,
           "#46039f"
          ],
          [
           0.2222222222222222,
           "#7201a8"
          ],
          [
           0.3333333333333333,
           "#9c179e"
          ],
          [
           0.4444444444444444,
           "#bd3786"
          ],
          [
           0.5555555555555556,
           "#d8576b"
          ],
          [
           0.6666666666666666,
           "#ed7953"
          ],
          [
           0.7777777777777778,
           "#fb9f3a"
          ],
          [
           0.8888888888888888,
           "#fdca26"
          ],
          [
           1,
           "#f0f921"
          ]
         ]
        },
        "legend": {
         "tracegroupgap": 0
        },
        "margin": {
         "t": 60
        },
        "template": {
         "data": {
          "bar": [
           {
            "error_x": {
             "color": "#2a3f5f"
            },
            "error_y": {
             "color": "#2a3f5f"
            },
            "marker": {
             "line": {
              "color": "#E5ECF6",
              "width": 0.5
             },
             "pattern": {
              "fillmode": "overlay",
              "size": 10,
              "solidity": 0.2
             }
            },
            "type": "bar"
           }
          ],
          "barpolar": [
           {
            "marker": {
             "line": {
              "color": "#E5ECF6",
              "width": 0.5
             },
             "pattern": {
              "fillmode": "overlay",
              "size": 10,
              "solidity": 0.2
             }
            },
            "type": "barpolar"
           }
          ],
          "carpet": [
           {
            "aaxis": {
             "endlinecolor": "#2a3f5f",
             "gridcolor": "white",
             "linecolor": "white",
             "minorgridcolor": "white",
             "startlinecolor": "#2a3f5f"
            },
            "baxis": {
             "endlinecolor": "#2a3f5f",
             "gridcolor": "white",
             "linecolor": "white",
             "minorgridcolor": "white",
             "startlinecolor": "#2a3f5f"
            },
            "type": "carpet"
           }
          ],
          "choropleth": [
           {
            "colorbar": {
             "outlinewidth": 0,
             "ticks": ""
            },
            "type": "choropleth"
           }
          ],
          "contour": [
           {
            "colorbar": {
             "outlinewidth": 0,
             "ticks": ""
            },
            "colorscale": [
             [
              0,
              "#0d0887"
             ],
             [
              0.1111111111111111,
              "#46039f"
             ],
             [
              0.2222222222222222,
              "#7201a8"
             ],
             [
              0.3333333333333333,
              "#9c179e"
             ],
             [
              0.4444444444444444,
              "#bd3786"
             ],
             [
              0.5555555555555556,
              "#d8576b"
             ],
             [
              0.6666666666666666,
              "#ed7953"
             ],
             [
              0.7777777777777778,
              "#fb9f3a"
             ],
             [
              0.8888888888888888,
              "#fdca26"
             ],
             [
              1,
              "#f0f921"
             ]
            ],
            "type": "contour"
           }
          ],
          "contourcarpet": [
           {
            "colorbar": {
             "outlinewidth": 0,
             "ticks": ""
            },
            "type": "contourcarpet"
           }
          ],
          "heatmap": [
           {
            "colorbar": {
             "outlinewidth": 0,
             "ticks": ""
            },
            "colorscale": [
             [
              0,
              "#0d0887"
             ],
             [
              0.1111111111111111,
              "#46039f"
             ],
             [
              0.2222222222222222,
              "#7201a8"
             ],
             [
              0.3333333333333333,
              "#9c179e"
             ],
             [
              0.4444444444444444,
              "#bd3786"
             ],
             [
              0.5555555555555556,
              "#d8576b"
             ],
             [
              0.6666666666666666,
              "#ed7953"
             ],
             [
              0.7777777777777778,
              "#fb9f3a"
             ],
             [
              0.8888888888888888,
              "#fdca26"
             ],
             [
              1,
              "#f0f921"
             ]
            ],
            "type": "heatmap"
           }
          ],
          "heatmapgl": [
           {
            "colorbar": {
             "outlinewidth": 0,
             "ticks": ""
            },
            "colorscale": [
             [
              0,
              "#0d0887"
             ],
             [
              0.1111111111111111,
              "#46039f"
             ],
             [
              0.2222222222222222,
              "#7201a8"
             ],
             [
              0.3333333333333333,
              "#9c179e"
             ],
             [
              0.4444444444444444,
              "#bd3786"
             ],
             [
              0.5555555555555556,
              "#d8576b"
             ],
             [
              0.6666666666666666,
              "#ed7953"
             ],
             [
              0.7777777777777778,
              "#fb9f3a"
             ],
             [
              0.8888888888888888,
              "#fdca26"
             ],
             [
              1,
              "#f0f921"
             ]
            ],
            "type": "heatmapgl"
           }
          ],
          "histogram": [
           {
            "marker": {
             "pattern": {
              "fillmode": "overlay",
              "size": 10,
              "solidity": 0.2
             }
            },
            "type": "histogram"
           }
          ],
          "histogram2d": [
           {
            "colorbar": {
             "outlinewidth": 0,
             "ticks": ""
            },
            "colorscale": [
             [
              0,
              "#0d0887"
             ],
             [
              0.1111111111111111,
              "#46039f"
             ],
             [
              0.2222222222222222,
              "#7201a8"
             ],
             [
              0.3333333333333333,
              "#9c179e"
             ],
             [
              0.4444444444444444,
              "#bd3786"
             ],
             [
              0.5555555555555556,
              "#d8576b"
             ],
             [
              0.6666666666666666,
              "#ed7953"
             ],
             [
              0.7777777777777778,
              "#fb9f3a"
             ],
             [
              0.8888888888888888,
              "#fdca26"
             ],
             [
              1,
              "#f0f921"
             ]
            ],
            "type": "histogram2d"
           }
          ],
          "histogram2dcontour": [
           {
            "colorbar": {
             "outlinewidth": 0,
             "ticks": ""
            },
            "colorscale": [
             [
              0,
              "#0d0887"
             ],
             [
              0.1111111111111111,
              "#46039f"
             ],
             [
              0.2222222222222222,
              "#7201a8"
             ],
             [
              0.3333333333333333,
              "#9c179e"
             ],
             [
              0.4444444444444444,
              "#bd3786"
             ],
             [
              0.5555555555555556,
              "#d8576b"
             ],
             [
              0.6666666666666666,
              "#ed7953"
             ],
             [
              0.7777777777777778,
              "#fb9f3a"
             ],
             [
              0.8888888888888888,
              "#fdca26"
             ],
             [
              1,
              "#f0f921"
             ]
            ],
            "type": "histogram2dcontour"
           }
          ],
          "mesh3d": [
           {
            "colorbar": {
             "outlinewidth": 0,
             "ticks": ""
            },
            "type": "mesh3d"
           }
          ],
          "parcoords": [
           {
            "line": {
             "colorbar": {
              "outlinewidth": 0,
              "ticks": ""
             }
            },
            "type": "parcoords"
           }
          ],
          "pie": [
           {
            "automargin": true,
            "type": "pie"
           }
          ],
          "scatter": [
           {
            "fillpattern": {
             "fillmode": "overlay",
             "size": 10,
             "solidity": 0.2
            },
            "type": "scatter"
           }
          ],
          "scatter3d": [
           {
            "line": {
             "colorbar": {
              "outlinewidth": 0,
              "ticks": ""
             }
            },
            "marker": {
             "colorbar": {
              "outlinewidth": 0,
              "ticks": ""
             }
            },
            "type": "scatter3d"
           }
          ],
          "scattercarpet": [
           {
            "marker": {
             "colorbar": {
              "outlinewidth": 0,
              "ticks": ""
             }
            },
            "type": "scattercarpet"
           }
          ],
          "scattergeo": [
           {
            "marker": {
             "colorbar": {
              "outlinewidth": 0,
              "ticks": ""
             }
            },
            "type": "scattergeo"
           }
          ],
          "scattergl": [
           {
            "marker": {
             "colorbar": {
              "outlinewidth": 0,
              "ticks": ""
             }
            },
            "type": "scattergl"
           }
          ],
          "scattermapbox": [
           {
            "marker": {
             "colorbar": {
              "outlinewidth": 0,
              "ticks": ""
             }
            },
            "type": "scattermapbox"
           }
          ],
          "scatterpolar": [
           {
            "marker": {
             "colorbar": {
              "outlinewidth": 0,
              "ticks": ""
             }
            },
            "type": "scatterpolar"
           }
          ],
          "scatterpolargl": [
           {
            "marker": {
             "colorbar": {
              "outlinewidth": 0,
              "ticks": ""
             }
            },
            "type": "scatterpolargl"
           }
          ],
          "scatterternary": [
           {
            "marker": {
             "colorbar": {
              "outlinewidth": 0,
              "ticks": ""
             }
            },
            "type": "scatterternary"
           }
          ],
          "surface": [
           {
            "colorbar": {
             "outlinewidth": 0,
             "ticks": ""
            },
            "colorscale": [
             [
              0,
              "#0d0887"
             ],
             [
              0.1111111111111111,
              "#46039f"
             ],
             [
              0.2222222222222222,
              "#7201a8"
             ],
             [
              0.3333333333333333,
              "#9c179e"
             ],
             [
              0.4444444444444444,
              "#bd3786"
             ],
             [
              0.5555555555555556,
              "#d8576b"
             ],
             [
              0.6666666666666666,
              "#ed7953"
             ],
             [
              0.7777777777777778,
              "#fb9f3a"
             ],
             [
              0.8888888888888888,
              "#fdca26"
             ],
             [
              1,
              "#f0f921"
             ]
            ],
            "type": "surface"
           }
          ],
          "table": [
           {
            "cells": {
             "fill": {
              "color": "#EBF0F8"
             },
             "line": {
              "color": "white"
             }
            },
            "header": {
             "fill": {
              "color": "#C8D4E3"
             },
             "line": {
              "color": "white"
             }
            },
            "type": "table"
           }
          ]
         },
         "layout": {
          "annotationdefaults": {
           "arrowcolor": "#2a3f5f",
           "arrowhead": 0,
           "arrowwidth": 1
          },
          "autotypenumbers": "strict",
          "coloraxis": {
           "colorbar": {
            "outlinewidth": 0,
            "ticks": ""
           }
          },
          "colorscale": {
           "diverging": [
            [
             0,
             "#8e0152"
            ],
            [
             0.1,
             "#c51b7d"
            ],
            [
             0.2,
             "#de77ae"
            ],
            [
             0.3,
             "#f1b6da"
            ],
            [
             0.4,
             "#fde0ef"
            ],
            [
             0.5,
             "#f7f7f7"
            ],
            [
             0.6,
             "#e6f5d0"
            ],
            [
             0.7,
             "#b8e186"
            ],
            [
             0.8,
             "#7fbc41"
            ],
            [
             0.9,
             "#4d9221"
            ],
            [
             1,
             "#276419"
            ]
           ],
           "sequential": [
            [
             0,
             "#0d0887"
            ],
            [
             0.1111111111111111,
             "#46039f"
            ],
            [
             0.2222222222222222,
             "#7201a8"
            ],
            [
             0.3333333333333333,
             "#9c179e"
            ],
            [
             0.4444444444444444,
             "#bd3786"
            ],
            [
             0.5555555555555556,
             "#d8576b"
            ],
            [
             0.6666666666666666,
             "#ed7953"
            ],
            [
             0.7777777777777778,
             "#fb9f3a"
            ],
            [
             0.8888888888888888,
             "#fdca26"
            ],
            [
             1,
             "#f0f921"
            ]
           ],
           "sequentialminus": [
            [
             0,
             "#0d0887"
            ],
            [
             0.1111111111111111,
             "#46039f"
            ],
            [
             0.2222222222222222,
             "#7201a8"
            ],
            [
             0.3333333333333333,
             "#9c179e"
            ],
            [
             0.4444444444444444,
             "#bd3786"
            ],
            [
             0.5555555555555556,
             "#d8576b"
            ],
            [
             0.6666666666666666,
             "#ed7953"
            ],
            [
             0.7777777777777778,
             "#fb9f3a"
            ],
            [
             0.8888888888888888,
             "#fdca26"
            ],
            [
             1,
             "#f0f921"
            ]
           ]
          },
          "colorway": [
           "#636efa",
           "#EF553B",
           "#00cc96",
           "#ab63fa",
           "#FFA15A",
           "#19d3f3",
           "#FF6692",
           "#B6E880",
           "#FF97FF",
           "#FECB52"
          ],
          "font": {
           "color": "#2a3f5f"
          },
          "geo": {
           "bgcolor": "white",
           "lakecolor": "white",
           "landcolor": "#E5ECF6",
           "showlakes": true,
           "showland": true,
           "subunitcolor": "white"
          },
          "hoverlabel": {
           "align": "left"
          },
          "hovermode": "closest",
          "mapbox": {
           "style": "light"
          },
          "paper_bgcolor": "white",
          "plot_bgcolor": "#E5ECF6",
          "polar": {
           "angularaxis": {
            "gridcolor": "white",
            "linecolor": "white",
            "ticks": ""
           },
           "bgcolor": "#E5ECF6",
           "radialaxis": {
            "gridcolor": "white",
            "linecolor": "white",
            "ticks": ""
           }
          },
          "scene": {
           "xaxis": {
            "backgroundcolor": "#E5ECF6",
            "gridcolor": "white",
            "gridwidth": 2,
            "linecolor": "white",
            "showbackground": true,
            "ticks": "",
            "zerolinecolor": "white"
           },
           "yaxis": {
            "backgroundcolor": "#E5ECF6",
            "gridcolor": "white",
            "gridwidth": 2,
            "linecolor": "white",
            "showbackground": true,
            "ticks": "",
            "zerolinecolor": "white"
           },
           "zaxis": {
            "backgroundcolor": "#E5ECF6",
            "gridcolor": "white",
            "gridwidth": 2,
            "linecolor": "white",
            "showbackground": true,
            "ticks": "",
            "zerolinecolor": "white"
           }
          },
          "shapedefaults": {
           "line": {
            "color": "#2a3f5f"
           }
          },
          "ternary": {
           "aaxis": {
            "gridcolor": "white",
            "linecolor": "white",
            "ticks": ""
           },
           "baxis": {
            "gridcolor": "white",
            "linecolor": "white",
            "ticks": ""
           },
           "bgcolor": "#E5ECF6",
           "caxis": {
            "gridcolor": "white",
            "linecolor": "white",
            "ticks": ""
           }
          },
          "title": {
           "x": 0.05
          },
          "xaxis": {
           "automargin": true,
           "gridcolor": "white",
           "linecolor": "white",
           "ticks": "",
           "title": {
            "standoff": 15
           },
           "zerolinecolor": "white",
           "zerolinewidth": 2
          },
          "yaxis": {
           "automargin": true,
           "gridcolor": "white",
           "linecolor": "white",
           "ticks": "",
           "title": {
            "standoff": 15
           },
           "zerolinecolor": "white",
           "zerolinewidth": 2
          }
         }
        },
        "xaxis": {
         "anchor": "y",
         "domain": [
          0,
          1
         ],
         "type": "date"
        },
        "yaxis": {
         "anchor": "x",
         "domain": [
          0,
          1
         ],
         "title": {
          "text": "room"
         }
        }
       }
      }
     },
     "metadata": {},
     "output_type": "display_data"
    }
   ],
   "source": [
    "import plotly.express as px\n",
    "import pandas as pd\n",
    "\n",
    "df = pd.DataFrame(solution, columns=['class', 'teacher', 'room', 'start', 'end'])\n",
    "\n",
    "fig = px.timeline(df, x_start=\"start\", x_end=\"end\", y=\"room\", color=\"class\")\n",
    "# fig.update_yaxes(autorange=\"reversed\")\n",
    "fig.show()"
   ]
  },
  {
   "cell_type": "code",
   "execution_count": 53,
   "metadata": {},
   "outputs": [],
   "source": [
    "for c, _, t, r, d in requirements:\n",
    "    a = df[(df['class'] == c) & (df['teacher'] == t) & (df.room == r)]\n",
    "    if a.empty:\n",
    "        print((c, t, r))"
   ]
  },
  {
   "cell_type": "code",
   "execution_count": 52,
   "metadata": {},
   "outputs": [
    {
     "data": {
      "text/plain": [
       "True"
      ]
     },
     "execution_count": 52,
     "metadata": {},
     "output_type": "execute_result"
    }
   ],
   "source": [
    "a = df[(df['class'] == c) & (df['teacher'] == t) & (df.room == 2342)]\n",
    "a.empty"
   ]
  },
  {
   "cell_type": "code",
   "execution_count": 54,
   "metadata": {},
   "outputs": [
    {
     "data": {
      "text/plain": [
       "Counter({(2, 3, 0): 6,\n",
       "         (3, 0, 2): 6,\n",
       "         (1, 2, 2): 5,\n",
       "         (0, 1, 1): 5,\n",
       "         (1, 1, 3): 4,\n",
       "         (2, 2, 2): 4,\n",
       "         (1, 1, 1): 4,\n",
       "         (1, 3, 3): 4,\n",
       "         (2, 1, 3): 3,\n",
       "         (1, 2, 1): 3,\n",
       "         (3, 2, 0): 3,\n",
       "         (2, 0, 3): 3,\n",
       "         (0, 0, 3): 3,\n",
       "         (0, 0, 1): 2,\n",
       "         (3, 2, 2): 2,\n",
       "         (0, 0, 2): 2,\n",
       "         (2, 2, 3): 2,\n",
       "         (3, 1, 0): 2,\n",
       "         (1, 3, 1): 2,\n",
       "         (0, 0, 0): 2,\n",
       "         (1, 3, 0): 2,\n",
       "         (0, 2, 3): 2,\n",
       "         (0, 3, 0): 2,\n",
       "         (3, 0, 1): 2,\n",
       "         (3, 3, 0): 2,\n",
       "         (2, 0, 2): 2,\n",
       "         (0, 1, 0): 2,\n",
       "         (3, 0, 0): 2,\n",
       "         (3, 1, 1): 2,\n",
       "         (3, 0, 3): 2,\n",
       "         (0, 3, 2): 2,\n",
       "         (2, 1, 1): 2,\n",
       "         (3, 3, 1): 2,\n",
       "         (0, 3, 1): 2,\n",
       "         (3, 3, 3): 1,\n",
       "         (2, 0, 1): 1,\n",
       "         (3, 1, 2): 1,\n",
       "         (0, 3, 3): 1,\n",
       "         (2, 1, 0): 1,\n",
       "         (0, 2, 1): 1,\n",
       "         (3, 3, 2): 1,\n",
       "         (0, 1, 3): 1,\n",
       "         (2, 3, 2): 1,\n",
       "         (3, 2, 1): 1,\n",
       "         (2, 3, 3): 1,\n",
       "         (1, 3, 2): 1,\n",
       "         (2, 0, 0): 1,\n",
       "         (2, 2, 0): 1,\n",
       "         (0, 1, 2): 1,\n",
       "         (2, 2, 1): 1,\n",
       "         (1, 2, 0): 1,\n",
       "         (1, 1, 0): 1,\n",
       "         (1, 2, 3): 1,\n",
       "         (1, 0, 3): 1,\n",
       "         (0, 2, 2): 1,\n",
       "         (3, 2, 3): 1,\n",
       "         (1, 0, 0): 1,\n",
       "         (2, 1, 2): 1,\n",
       "         (0, 2, 0): 1})"
      ]
     },
     "execution_count": 54,
     "metadata": {},
     "output_type": "execute_result"
    }
   ],
   "source": [
    "from collections import Counter\n",
    "\n",
    "Counter((c,t,r) for c, _, t, r, d in requirements)"
   ]
  }
 ],
 "metadata": {
  "kernelspec": {
   "display_name": "operation_research-bYGrJpWX",
   "language": "python",
   "name": "python3"
  },
  "language_info": {
   "codemirror_mode": {
    "name": "ipython",
    "version": 3
   },
   "file_extension": ".py",
   "mimetype": "text/x-python",
   "name": "python",
   "nbconvert_exporter": "python",
   "pygments_lexer": "ipython3",
   "version": "3.9.13"
  }
 },
 "nbformat": 4,
 "nbformat_minor": 2
}
