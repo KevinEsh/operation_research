{
 "cells": [
  {
   "cell_type": "markdown",
   "metadata": {},
   "source": [
    "Hi, I'm SalvadOR, responsible for creating a school timetable to organize classes, teachers, and rooms for an upcoming semester.\n",
    "\n",
    "We have some strict requirements to meet. This is a very hard problem we face every year, and I need your help to design an optimal timetable.\n",
    "\n",
    "Here's the situation:\n",
    "\n",
    "There are 4 classes, each requiring specific teaching sessions.\n",
    "There are 4 teachers, and each teacher has assigned subjects to teach.\n",
    "There are 4 rooms, and only one class can occupy a room during any given period.\n",
    "The timetable spans 30 periods, and we must ensure that all requirements are met without any conflicts or overlaps.\n",
    "I desperately need a timetable that satisfies all requirements (each class meets with the right teacher in the right room the required number of times), avoiding any type of clashes such as double-booking a teacher, room, or class during the same period.\n",
    "\n",
    "We say a timetable is optimized when it minimizes idle periods and maximizes resource utilization (teachers and rooms).\n",
    "\n",
    "Can you help me solve this problem?"
   ]
  },
  {
   "cell_type": "markdown",
   "metadata": {},
   "source": [
    "## Solution modeled with binary variables\n",
    "\n",
    "**Goal**\n",
    "\n",
    "Minimizes idle periods and maximize resource utilization. However, this approach may yield scattered solutions.\n",
    "\n",
    "$$ \\max \\sum_{c,t,r,p} a_{ctrp} $$\n",
    "\n",
    "**Decisions**:\n",
    "\n",
    "$$a_{ctrp}\\in\\{0,1\\} \\text{ assigns room r with teacher t and class c at period }p$$\n",
    "\n",
    "\n",
    "**Data:**\n",
    "\n",
    "\n",
    "Qualified combinations required for scheduling $Q = \\{(c,t,r)\\} \\subset C\\times T\\times R$\n",
    "\n",
    "Demand of sessions each class $c$ with each teacher $t$ needs, given for each room $r$ by $d_{ctr}$\n",
    "\n",
    "Set of classes $C=\\{1..4\\}$\n",
    "\n",
    "Set of teachers $T=\\{1..4\\}$\n",
    "\n",
    "Set of rooms $R=\\{1..4\\}$\n",
    "\n",
    "Set of periods  $P=\\{1..30\\}$\n",
    "\n",
    "Set of subjects $S=\\{1..20\\}$\n",
    "\n",
    "**Constraints**\n",
    "\n",
    "| **Description** | **Expression** |\n",
    "| --- | --- |\n",
    "| Meet the session demand  | $\\forall (c, t, r) \\in Q: \\sum_p x_{ctrp} = d_{ctr}$ |\n",
    "| No class clash | $\\forall c, p: \\sum_{t,r} x_{ctrp}\\leq1$ |\n",
    "| No teacher clash | $\\forall t, p: \\sum_{r,c}a_{ctrp}\\leq1$ |\n",
    "| No room clash | $\\forall r, p: \\sum_{t,c}a_{ctrp}\\leq1$ |"
   ]
  },
  {
   "cell_type": "code",
   "execution_count": 13,
   "metadata": {},
   "outputs": [],
   "source": [
    "def get_instance(input_filename):\n",
    "    with open(input_filename, \"r\") as file:\n",
    "        data = file.read()\n",
    "\n",
    "    # Split the data into lines\n",
    "    lines = data.strip().split('\\n')\n",
    "    l = 0\n",
    "\n",
    "    # Skip comment lines\n",
    "    while lines[l].startswith('#') or lines[l] == '':\n",
    "        l += 1\n",
    "    \n",
    "    # get metadata parameters (always first line)\n",
    "    metadata = map(int, lines[l].split())\n",
    "    data = []\n",
    "    l += 1\n",
    "\n",
    "    # Process each line\n",
    "    while l < len(lines):\n",
    "        data.append(list(map(int, lines[l].split())))\n",
    "        l += 1\n",
    "\n",
    "    return *metadata, data\n",
    "\n",
    "def parse_to_zero_index(data, indexes):\n",
    "    for i in range(len(data)):\n",
    "        for idx in indexes:\n",
    "            data[i][idx] -= 1\n",
    "    return"
   ]
  },
  {
   "cell_type": "code",
   "execution_count": 14,
   "metadata": {},
   "outputs": [],
   "source": [
    "def correct_format(data):\n",
    "    for i in range(100):\n",
    "        for _ in range(7):\n",
    "            data[i].extend(data[i+1])\n",
    "            data.pop(i+1)\n",
    "    return"
   ]
  },
  {
   "cell_type": "code",
   "execution_count": 16,
   "metadata": {},
   "outputs": [
    {
     "name": "stdout",
     "output_type": "stream",
     "text": [
      "Number of classes: 4\n",
      "Number of subjects: 20\n",
      "Number of teachers: 4\n",
      "Number of rooms: 4\n",
      "Max of periods: 35\n",
      "Requirements matrix: 120\n"
     ]
    }
   ],
   "source": [
    "num_classes, num_subjects, num_teachers, num_rooms, max_periods, num_req, requirements = get_instance(\"data/classroom.txt\")\n",
    "parse_to_zero_index(requirements, [0, 1, 2, 3])\n",
    "\n",
    "# Print the extracted data\n",
    "print(f\"Number of classes: {num_classes}\")\n",
    "print(f\"Number of subjects: {num_subjects}\")\n",
    "print(f\"Number of teachers: {num_teachers}\")\n",
    "print(f\"Number of rooms: {num_rooms}\")\n",
    "print(f\"Max of periods: {max_periods}\")\n",
    "print(f\"Requirements matrix: {len(requirements)}\")"
   ]
  },
  {
   "cell_type": "code",
   "execution_count": 17,
   "metadata": {},
   "outputs": [],
   "source": [
    "from ortools.sat.python import cp_model\n",
    "\n",
    "model = cp_model.CpModel()\n",
    "solver = cp_model.CpSolver()"
   ]
  },
  {
   "cell_type": "code",
   "execution_count": 18,
   "metadata": {},
   "outputs": [],
   "source": [
    "x = {}\n",
    "\n",
    "for c in range(num_classes):\n",
    "    for t in range(num_teachers):\n",
    "        for r in range(num_rooms):\n",
    "            for p in range(max_periods):\n",
    "                x[c,t,r,p] = model.NewBoolVar(f'schedule_class_{c}_by_{t}_in_{r}_at_{p}')"
   ]
  },
  {
   "cell_type": "code",
   "execution_count": 19,
   "metadata": {},
   "outputs": [],
   "source": [
    "# 1. Each requirement must be satisfied the exact number of times.\n",
    "for c, _, t, r, d in requirements:\n",
    "    model.Add(sum(x[c,t,r,p] for p in range(max_periods)) == d )"
   ]
  },
  {
   "cell_type": "code",
   "execution_count": 20,
   "metadata": {},
   "outputs": [],
   "source": [
    "# 2. A class can only be assigned to one teacher-room-period at a time.\n",
    "for c in range(num_classes):\n",
    "    for p in range(max_periods):\n",
    "        model.Add(sum(x[c,t,r,p] for t in range(num_teachers) for r in range(num_rooms)) <= 1)"
   ]
  },
  {
   "cell_type": "code",
   "execution_count": 21,
   "metadata": {},
   "outputs": [],
   "source": [
    "# 3. A teacher can only teach one class in one room at a time.\n",
    "for t in range(num_teachers):\n",
    "    for p in range(max_periods):\n",
    "        model.Add(sum(x[c,t,r,p] for c in range(num_classes) for r in range(num_rooms)) <= 1)"
   ]
  },
  {
   "cell_type": "code",
   "execution_count": 22,
   "metadata": {},
   "outputs": [],
   "source": [
    "# 4. A room can only host one class at a time.\n",
    "for r in range(num_rooms):\n",
    "    for p in range(max_periods):\n",
    "        model.Add(sum(x[c,t,r,p] for c in range(num_classes) for t in range(num_teachers)) <= 1)"
   ]
  },
  {
   "cell_type": "code",
   "execution_count": 23,
   "metadata": {},
   "outputs": [],
   "source": [
    "# Specify the type of problem. In this case, we want to minimize the objective function\n",
    "solver.parameters.num_search_workers = 8\n",
    "solver.parameters.max_time_in_seconds = 120\n",
    "model.Minimize(\n",
    "    sum(x[c,t,r,p] \n",
    "        for c in range(num_classes) \n",
    "        for t in range(num_teachers)\n",
    "        for r in range(num_rooms)\n",
    "        for p in range(max_periods)\n",
    "    )\n",
    ")"
   ]
  },
  {
   "cell_type": "code",
   "execution_count": 24,
   "metadata": {},
   "outputs": [
    {
     "name": "stdout",
     "output_type": "stream",
     "text": [
      "Solution 0, time = 0.05 s, objective = 59\n",
      "Solution: Total cost of worker's payment = 59.0\n"
     ]
    }
   ],
   "source": [
    "# Call the solver method to find the optimal solution\n",
    "callback = cp_model.ObjectiveSolutionPrinter()\n",
    "or_status = solver.SolveWithSolutionCallback(model, callback)\n",
    "status = solver.StatusName(or_status)\n",
    "\n",
    "if status in [\"OPTIMAL\", \"FEASIBLE\"]:\n",
    "    print(f'Solution: Total cost of worker\\'s payment = {solver.ObjectiveValue()}')\n",
    "else:\n",
    "    print('A solution could not be found, check the problem specification')"
   ]
  },
  {
   "cell_type": "code",
   "execution_count": 87,
   "metadata": {},
   "outputs": [],
   "source": [
    "solution1 = set()\n",
    "for t in range(num_tasks):\n",
    "    for w in range(num_workers):\n",
    "        if solver.Value(x[t][w]) == 1:\n",
    "            solution1.add((t, w))\n",
    "# [solver.Value(x[s][v]) for v in range(num_cities) if x[s][v] is not None]"
   ]
  },
  {
   "cell_type": "code",
   "execution_count": 88,
   "metadata": {},
   "outputs": [
    {
     "data": {
      "text/plain": [
       "305"
      ]
     },
     "execution_count": 88,
     "metadata": {},
     "output_type": "execute_result"
    }
   ],
   "source": [
    "sum(assigment_costs[t][w] for t, w in solution1)"
   ]
  },
  {
   "cell_type": "markdown",
   "metadata": {},
   "source": [
    "Greedy Approach"
   ]
  },
  {
   "cell_type": "code",
   "execution_count": 101,
   "metadata": {},
   "outputs": [],
   "source": [
    "from collections import deque\n",
    "\n",
    "pq = deque(\n",
    "    sorted((assigment_costs[t][w], t, w) \n",
    "           for t in range(num_tasks) \n",
    "           for w in range(num_workers)\n",
    "        )\n",
    "    )\n",
    "\n",
    "solution2 = set()\n",
    "chosen_tasks = set()\n",
    "chosen_workers = set()\n",
    "total_cost = 0\n",
    "\n",
    "while len(solution2) < 100:\n",
    "    cost, t, w = pq.popleft()\n",
    "    if t in chosen_tasks or w in chosen_workers:\n",
    "        continue\n",
    "    \n",
    "    solution2.add((t, w))\n",
    "    chosen_tasks.add(t)\n",
    "    chosen_workers.add(w)\n",
    "    total_cost += cost\n",
    "    "
   ]
  },
  {
   "cell_type": "code",
   "execution_count": null,
   "metadata": {},
   "outputs": [
    {
     "data": {
      "text/plain": [
       "522"
      ]
     },
     "execution_count": 102,
     "metadata": {},
     "output_type": "execute_result"
    },
    {
     "ename": "",
     "evalue": "",
     "output_type": "error",
     "traceback": [
      "\u001b[1;31mEl kernel se bloqueó al ejecutar código en la celda actual o en una celda anterior. \n",
      "\u001b[1;31mRevise el código de las celdas para identificar una posible causa del error. \n",
      "\u001b[1;31mHaga clic <a href='https://aka.ms/vscodeJupyterKernelCrash'>aquí</a> para obtener más información. \n",
      "\u001b[1;31mVea Jupyter <a href='command:jupyter.viewOutput'>log</a> para obtener más detalles."
     ]
    }
   ],
   "source": [
    "sum(assigment_costs[t][w] for t, w in solution2)"
   ]
  },
  {
   "cell_type": "markdown",
   "metadata": {},
   "source": [
    "Greedy doesn't work. Example\n",
    "\n",
    "| | W1 | W2 |\n",
    "|--|---|---|\n",
    "|T1 | 1 | 2 |\n",
    "|T2 | 3 | 100|"
   ]
  }
 ],
 "metadata": {
  "kernelspec": {
   "display_name": "operation_research-bYGrJpWX",
   "language": "python",
   "name": "python3"
  },
  "language_info": {
   "codemirror_mode": {
    "name": "ipython",
    "version": 3
   },
   "file_extension": ".py",
   "mimetype": "text/x-python",
   "name": "python",
   "nbconvert_exporter": "python",
   "pygments_lexer": "ipython3",
   "version": "3.9.13"
  }
 },
 "nbformat": 4,
 "nbformat_minor": 2
}
