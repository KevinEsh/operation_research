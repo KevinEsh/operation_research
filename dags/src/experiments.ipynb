{
 "cells": [
  {
   "cell_type": "code",
   "execution_count": 3,
   "id": "1a628ce6",
   "metadata": {},
   "outputs": [],
   "source": [
    "import sys\n",
    "import polars as pl\n",
    "import plotly.graph_objects as go\n",
    "sys.path.append(\"..\")\n",
    "\n",
    "from src.queries import query_demand_evolution, query_workshops_locations, query_stores_locations, query_sales_stocks\n",
    "from src.dataloaders import get_postgres_uri"
   ]
  },
  {
   "cell_type": "code",
   "execution_count": 2,
   "id": "fed9dd80",
   "metadata": {},
   "outputs": [],
   "source": [
    "def plot_map(df_store: pl.DataFrame, df_workshop: pl.DataFrame):\n",
    "    \"\"\"\n",
    "    Plot a visually stunning map with stores and workshops locations.\n",
    "    \"\"\"\n",
    "    fig = go.Figure()\n",
    "\n",
    "    # --- STORES TRACE ---\n",
    "    fig.add_trace(go.Scattermap(\n",
    "        name=\"Stores\",\n",
    "        mode=\"markers+text\",\n",
    "        lat=df_store.get_column(\"s_latitude\").to_list(),\n",
    "        lon=df_store.get_column(\"s_longitude\").to_list(),\n",
    "        text=df_store.get_column(\"s_name\").to_list(),\n",
    "        marker=dict(\n",
    "            symbol=['commercial'] * df_store.height,\n",
    "            size=16,\n",
    "            color='rgb(91, 192, 222)', # A calm, professional blue\n",
    "        ),\n",
    "        textfont=dict(\n",
    "            # family='Arial, sans-serif',\n",
    "            size=10,\n",
    "            color='rgb(0, 0, 0)'\n",
    "        ),\n",
    "        textposition=\"top center\",\n",
    "        hovertemplate='<b>Store</b>: %{text}<extra></extra>'\n",
    "    ))\n",
    "\n",
    "    # --- WORKSHOPS TRACE ---\n",
    "    fig.add_trace(go.Scattermap(\n",
    "        name=\"Workshops\",\n",
    "        mode=\"markers+text\",\n",
    "        lat=df_workshop.get_column(\"w_latitude\"),\n",
    "        lon=df_workshop.get_column(\"w_longitude\"),\n",
    "        text=df_workshop.get_column(\"w_name\"),\n",
    "        customdata=df_workshop.get_column(\"w_capacity\"),\n",
    "        marker=dict(\n",
    "            symbol=['industry'] * df_workshop.height,\n",
    "            size=18,\n",
    "            color='rgb(240, 173, 78)', # A warm, industrial orange\n",
    "        ),\n",
    "        textfont=dict(\n",
    "            # family='Arial, sans-serif',\n",
    "            size=10,\n",
    "            color='rgb(0, 0, 0)'\n",
    "        ),\n",
    "        textposition=\"top center\",\n",
    "        hovertemplate='<b>Workshop</b>: %{text}<br><b>Capacity</b>: %{customdata} units<extra></extra>'\n",
    "    ))\n",
    "\n",
    "    # --- LAYOUT ENHANCEMENTS ---\n",
    "    fig.update_layout(\n",
    "        # title=dict(\n",
    "        #     text='<b>Operational Footprint: Stores & Workshops</b>',\n",
    "        #     y=0.95,\n",
    "        #     x=0.5,\n",
    "        #     xanchor='center',\n",
    "        #     yanchor='top',\n",
    "        #     font=dict(size=20, family='Arial, sans-serif', color='rgb(60,60,60)')\n",
    "        # ),\n",
    "        margin=dict(l=10, r=10, t=10, b=10),\n",
    "        height=600,\n",
    "        width=1000,\n",
    "        autosize=True,\n",
    "        showlegend=True,\n",
    "        legend=dict(\n",
    "            orientation=\"h\",\n",
    "            yanchor=\"bottom\",\n",
    "            y=1.01,\n",
    "            xanchor=\"center\",\n",
    "            x=0.5,\n",
    "            font=dict(family='Arial, sans-serif', size=12)\n",
    "        ),\n",
    "        map=dict(\n",
    "            style=\"carto-positron\", # A clean, modern map style\n",
    "            center=dict(lat=-0.210799, lon=-78.481357),\n",
    "            pitch=0,\n",
    "            bearing=-80, # Standard north-up orientation\n",
    "            zoom=11\n",
    "        ),\n",
    "        paper_bgcolor='rgb(255, 255, 255)',\n",
    "        plot_bgcolor='rgb(255, 255, 255)'\n",
    "    )\n",
    "\n",
    "    fig.show()"
   ]
  },
  {
   "cell_type": "code",
   "execution_count": 3,
   "id": "4faf0e22",
   "metadata": {},
   "outputs": [
    {
     "data": {
      "application/vnd.plotly.v1+json": {
       "config": {
        "plotlyServerURL": "https://plot.ly"
       },
       "data": [
        {
         "hovertemplate": "<b>Store</b>: %{text}<extra></extra>",
         "lat": [
          -0.18876285785586663,
          -0.27163083765277934,
          -0.30421205149991803,
          -0.2405121435369437,
          -0.2996537534864276
         ],
         "lon": [
          -78.51363094389696,
          -78.53891111061955,
          -78.54096621059904,
          -78.524529890494,
          -78.48578502608005
         ],
         "marker": {
          "color": "rgb(91, 192, 222)",
          "size": 16,
          "symbol": [
           "commercial",
           "commercial",
           "commercial",
           "commercial",
           "commercial"
          ]
         },
         "mode": "markers+text",
         "name": "Stores",
         "text": [
          "Market 2",
          "Market 1",
          "Market 3",
          "Market 4",
          "Market 5"
         ],
         "textfont": {
          "color": "rgb(0, 0, 0)",
          "size": 10
         },
         "textposition": "top center",
         "type": "scattermap"
        },
        {
         "customdata": [
          150,
          120,
          120,
          180,
          144,
          308
         ],
         "hovertemplate": "<b>Workshop</b>: %{text}<br><b>Capacity</b>: %{customdata} units<extra></extra>",
         "lat": [
          -0.3234604530111714,
          -0.27849168817274433,
          -0.08396566401722372,
          -0.13905359564145664,
          -0.20517916260301633,
          -0.22520129297668467
         ],
         "lon": [
          -78.49425052229458,
          -78.52270672581136,
          -78.50741401444287,
          -78.46905793453739,
          -78.43217662590378,
          -78.49007088786165
         ],
         "marker": {
          "color": "rgb(240, 173, 78)",
          "size": 18,
          "symbol": [
           "industry",
           "industry",
           "industry",
           "industry",
           "industry",
           "industry"
          ]
         },
         "mode": "markers+text",
         "name": "Workshops",
         "text": [
          "Bakery 1",
          "Bakery 2",
          "Bakery 3",
          "Pasta Factory 1",
          "Pasta Factory 2",
          "Egg Factory 1"
         ],
         "textfont": {
          "color": "rgb(0, 0, 0)",
          "size": 10
         },
         "textposition": "top center",
         "type": "scattermap"
        }
       ],
       "layout": {
        "autosize": true,
        "height": 600,
        "legend": {
         "font": {
          "family": "Arial, sans-serif",
          "size": 12
         },
         "orientation": "h",
         "x": 0.5,
         "xanchor": "center",
         "y": 1.01,
         "yanchor": "bottom"
        },
        "map": {
         "bearing": -80,
         "center": {
          "lat": -0.210799,
          "lon": -78.481357
         },
         "pitch": 0,
         "style": "carto-positron",
         "zoom": 11
        },
        "margin": {
         "b": 10,
         "l": 10,
         "r": 10,
         "t": 10
        },
        "paper_bgcolor": "rgb(255, 255, 255)",
        "plot_bgcolor": "rgb(255, 255, 255)",
        "showlegend": true,
        "template": {
         "data": {
          "bar": [
           {
            "error_x": {
             "color": "#2a3f5f"
            },
            "error_y": {
             "color": "#2a3f5f"
            },
            "marker": {
             "line": {
              "color": "#E5ECF6",
              "width": 0.5
             },
             "pattern": {
              "fillmode": "overlay",
              "size": 10,
              "solidity": 0.2
             }
            },
            "type": "bar"
           }
          ],
          "barpolar": [
           {
            "marker": {
             "line": {
              "color": "#E5ECF6",
              "width": 0.5
             },
             "pattern": {
              "fillmode": "overlay",
              "size": 10,
              "solidity": 0.2
             }
            },
            "type": "barpolar"
           }
          ],
          "carpet": [
           {
            "aaxis": {
             "endlinecolor": "#2a3f5f",
             "gridcolor": "white",
             "linecolor": "white",
             "minorgridcolor": "white",
             "startlinecolor": "#2a3f5f"
            },
            "baxis": {
             "endlinecolor": "#2a3f5f",
             "gridcolor": "white",
             "linecolor": "white",
             "minorgridcolor": "white",
             "startlinecolor": "#2a3f5f"
            },
            "type": "carpet"
           }
          ],
          "choropleth": [
           {
            "colorbar": {
             "outlinewidth": 0,
             "ticks": ""
            },
            "type": "choropleth"
           }
          ],
          "contour": [
           {
            "colorbar": {
             "outlinewidth": 0,
             "ticks": ""
            },
            "colorscale": [
             [
              0,
              "#0d0887"
             ],
             [
              0.1111111111111111,
              "#46039f"
             ],
             [
              0.2222222222222222,
              "#7201a8"
             ],
             [
              0.3333333333333333,
              "#9c179e"
             ],
             [
              0.4444444444444444,
              "#bd3786"
             ],
             [
              0.5555555555555556,
              "#d8576b"
             ],
             [
              0.6666666666666666,
              "#ed7953"
             ],
             [
              0.7777777777777778,
              "#fb9f3a"
             ],
             [
              0.8888888888888888,
              "#fdca26"
             ],
             [
              1,
              "#f0f921"
             ]
            ],
            "type": "contour"
           }
          ],
          "contourcarpet": [
           {
            "colorbar": {
             "outlinewidth": 0,
             "ticks": ""
            },
            "type": "contourcarpet"
           }
          ],
          "heatmap": [
           {
            "colorbar": {
             "outlinewidth": 0,
             "ticks": ""
            },
            "colorscale": [
             [
              0,
              "#0d0887"
             ],
             [
              0.1111111111111111,
              "#46039f"
             ],
             [
              0.2222222222222222,
              "#7201a8"
             ],
             [
              0.3333333333333333,
              "#9c179e"
             ],
             [
              0.4444444444444444,
              "#bd3786"
             ],
             [
              0.5555555555555556,
              "#d8576b"
             ],
             [
              0.6666666666666666,
              "#ed7953"
             ],
             [
              0.7777777777777778,
              "#fb9f3a"
             ],
             [
              0.8888888888888888,
              "#fdca26"
             ],
             [
              1,
              "#f0f921"
             ]
            ],
            "type": "heatmap"
           }
          ],
          "heatmapgl": [
           {
            "colorbar": {
             "outlinewidth": 0,
             "ticks": ""
            },
            "colorscale": [
             [
              0,
              "#0d0887"
             ],
             [
              0.1111111111111111,
              "#46039f"
             ],
             [
              0.2222222222222222,
              "#7201a8"
             ],
             [
              0.3333333333333333,
              "#9c179e"
             ],
             [
              0.4444444444444444,
              "#bd3786"
             ],
             [
              0.5555555555555556,
              "#d8576b"
             ],
             [
              0.6666666666666666,
              "#ed7953"
             ],
             [
              0.7777777777777778,
              "#fb9f3a"
             ],
             [
              0.8888888888888888,
              "#fdca26"
             ],
             [
              1,
              "#f0f921"
             ]
            ],
            "type": "heatmapgl"
           }
          ],
          "histogram": [
           {
            "marker": {
             "pattern": {
              "fillmode": "overlay",
              "size": 10,
              "solidity": 0.2
             }
            },
            "type": "histogram"
           }
          ],
          "histogram2d": [
           {
            "colorbar": {
             "outlinewidth": 0,
             "ticks": ""
            },
            "colorscale": [
             [
              0,
              "#0d0887"
             ],
             [
              0.1111111111111111,
              "#46039f"
             ],
             [
              0.2222222222222222,
              "#7201a8"
             ],
             [
              0.3333333333333333,
              "#9c179e"
             ],
             [
              0.4444444444444444,
              "#bd3786"
             ],
             [
              0.5555555555555556,
              "#d8576b"
             ],
             [
              0.6666666666666666,
              "#ed7953"
             ],
             [
              0.7777777777777778,
              "#fb9f3a"
             ],
             [
              0.8888888888888888,
              "#fdca26"
             ],
             [
              1,
              "#f0f921"
             ]
            ],
            "type": "histogram2d"
           }
          ],
          "histogram2dcontour": [
           {
            "colorbar": {
             "outlinewidth": 0,
             "ticks": ""
            },
            "colorscale": [
             [
              0,
              "#0d0887"
             ],
             [
              0.1111111111111111,
              "#46039f"
             ],
             [
              0.2222222222222222,
              "#7201a8"
             ],
             [
              0.3333333333333333,
              "#9c179e"
             ],
             [
              0.4444444444444444,
              "#bd3786"
             ],
             [
              0.5555555555555556,
              "#d8576b"
             ],
             [
              0.6666666666666666,
              "#ed7953"
             ],
             [
              0.7777777777777778,
              "#fb9f3a"
             ],
             [
              0.8888888888888888,
              "#fdca26"
             ],
             [
              1,
              "#f0f921"
             ]
            ],
            "type": "histogram2dcontour"
           }
          ],
          "mesh3d": [
           {
            "colorbar": {
             "outlinewidth": 0,
             "ticks": ""
            },
            "type": "mesh3d"
           }
          ],
          "parcoords": [
           {
            "line": {
             "colorbar": {
              "outlinewidth": 0,
              "ticks": ""
             }
            },
            "type": "parcoords"
           }
          ],
          "pie": [
           {
            "automargin": true,
            "type": "pie"
           }
          ],
          "scatter": [
           {
            "fillpattern": {
             "fillmode": "overlay",
             "size": 10,
             "solidity": 0.2
            },
            "type": "scatter"
           }
          ],
          "scatter3d": [
           {
            "line": {
             "colorbar": {
              "outlinewidth": 0,
              "ticks": ""
             }
            },
            "marker": {
             "colorbar": {
              "outlinewidth": 0,
              "ticks": ""
             }
            },
            "type": "scatter3d"
           }
          ],
          "scattercarpet": [
           {
            "marker": {
             "colorbar": {
              "outlinewidth": 0,
              "ticks": ""
             }
            },
            "type": "scattercarpet"
           }
          ],
          "scattergeo": [
           {
            "marker": {
             "colorbar": {
              "outlinewidth": 0,
              "ticks": ""
             }
            },
            "type": "scattergeo"
           }
          ],
          "scattergl": [
           {
            "marker": {
             "colorbar": {
              "outlinewidth": 0,
              "ticks": ""
             }
            },
            "type": "scattergl"
           }
          ],
          "scattermapbox": [
           {
            "marker": {
             "colorbar": {
              "outlinewidth": 0,
              "ticks": ""
             }
            },
            "type": "scattermapbox"
           }
          ],
          "scatterpolar": [
           {
            "marker": {
             "colorbar": {
              "outlinewidth": 0,
              "ticks": ""
             }
            },
            "type": "scatterpolar"
           }
          ],
          "scatterpolargl": [
           {
            "marker": {
             "colorbar": {
              "outlinewidth": 0,
              "ticks": ""
             }
            },
            "type": "scatterpolargl"
           }
          ],
          "scatterternary": [
           {
            "marker": {
             "colorbar": {
              "outlinewidth": 0,
              "ticks": ""
             }
            },
            "type": "scatterternary"
           }
          ],
          "surface": [
           {
            "colorbar": {
             "outlinewidth": 0,
             "ticks": ""
            },
            "colorscale": [
             [
              0,
              "#0d0887"
             ],
             [
              0.1111111111111111,
              "#46039f"
             ],
             [
              0.2222222222222222,
              "#7201a8"
             ],
             [
              0.3333333333333333,
              "#9c179e"
             ],
             [
              0.4444444444444444,
              "#bd3786"
             ],
             [
              0.5555555555555556,
              "#d8576b"
             ],
             [
              0.6666666666666666,
              "#ed7953"
             ],
             [
              0.7777777777777778,
              "#fb9f3a"
             ],
             [
              0.8888888888888888,
              "#fdca26"
             ],
             [
              1,
              "#f0f921"
             ]
            ],
            "type": "surface"
           }
          ],
          "table": [
           {
            "cells": {
             "fill": {
              "color": "#EBF0F8"
             },
             "line": {
              "color": "white"
             }
            },
            "header": {
             "fill": {
              "color": "#C8D4E3"
             },
             "line": {
              "color": "white"
             }
            },
            "type": "table"
           }
          ]
         },
         "layout": {
          "annotationdefaults": {
           "arrowcolor": "#2a3f5f",
           "arrowhead": 0,
           "arrowwidth": 1
          },
          "autotypenumbers": "strict",
          "coloraxis": {
           "colorbar": {
            "outlinewidth": 0,
            "ticks": ""
           }
          },
          "colorscale": {
           "diverging": [
            [
             0,
             "#8e0152"
            ],
            [
             0.1,
             "#c51b7d"
            ],
            [
             0.2,
             "#de77ae"
            ],
            [
             0.3,
             "#f1b6da"
            ],
            [
             0.4,
             "#fde0ef"
            ],
            [
             0.5,
             "#f7f7f7"
            ],
            [
             0.6,
             "#e6f5d0"
            ],
            [
             0.7,
             "#b8e186"
            ],
            [
             0.8,
             "#7fbc41"
            ],
            [
             0.9,
             "#4d9221"
            ],
            [
             1,
             "#276419"
            ]
           ],
           "sequential": [
            [
             0,
             "#0d0887"
            ],
            [
             0.1111111111111111,
             "#46039f"
            ],
            [
             0.2222222222222222,
             "#7201a8"
            ],
            [
             0.3333333333333333,
             "#9c179e"
            ],
            [
             0.4444444444444444,
             "#bd3786"
            ],
            [
             0.5555555555555556,
             "#d8576b"
            ],
            [
             0.6666666666666666,
             "#ed7953"
            ],
            [
             0.7777777777777778,
             "#fb9f3a"
            ],
            [
             0.8888888888888888,
             "#fdca26"
            ],
            [
             1,
             "#f0f921"
            ]
           ],
           "sequentialminus": [
            [
             0,
             "#0d0887"
            ],
            [
             0.1111111111111111,
             "#46039f"
            ],
            [
             0.2222222222222222,
             "#7201a8"
            ],
            [
             0.3333333333333333,
             "#9c179e"
            ],
            [
             0.4444444444444444,
             "#bd3786"
            ],
            [
             0.5555555555555556,
             "#d8576b"
            ],
            [
             0.6666666666666666,
             "#ed7953"
            ],
            [
             0.7777777777777778,
             "#fb9f3a"
            ],
            [
             0.8888888888888888,
             "#fdca26"
            ],
            [
             1,
             "#f0f921"
            ]
           ]
          },
          "colorway": [
           "#636efa",
           "#EF553B",
           "#00cc96",
           "#ab63fa",
           "#FFA15A",
           "#19d3f3",
           "#FF6692",
           "#B6E880",
           "#FF97FF",
           "#FECB52"
          ],
          "font": {
           "color": "#2a3f5f"
          },
          "geo": {
           "bgcolor": "white",
           "lakecolor": "white",
           "landcolor": "#E5ECF6",
           "showlakes": true,
           "showland": true,
           "subunitcolor": "white"
          },
          "hoverlabel": {
           "align": "left"
          },
          "hovermode": "closest",
          "mapbox": {
           "style": "light"
          },
          "paper_bgcolor": "white",
          "plot_bgcolor": "#E5ECF6",
          "polar": {
           "angularaxis": {
            "gridcolor": "white",
            "linecolor": "white",
            "ticks": ""
           },
           "bgcolor": "#E5ECF6",
           "radialaxis": {
            "gridcolor": "white",
            "linecolor": "white",
            "ticks": ""
           }
          },
          "scene": {
           "xaxis": {
            "backgroundcolor": "#E5ECF6",
            "gridcolor": "white",
            "gridwidth": 2,
            "linecolor": "white",
            "showbackground": true,
            "ticks": "",
            "zerolinecolor": "white"
           },
           "yaxis": {
            "backgroundcolor": "#E5ECF6",
            "gridcolor": "white",
            "gridwidth": 2,
            "linecolor": "white",
            "showbackground": true,
            "ticks": "",
            "zerolinecolor": "white"
           },
           "zaxis": {
            "backgroundcolor": "#E5ECF6",
            "gridcolor": "white",
            "gridwidth": 2,
            "linecolor": "white",
            "showbackground": true,
            "ticks": "",
            "zerolinecolor": "white"
           }
          },
          "shapedefaults": {
           "line": {
            "color": "#2a3f5f"
           }
          },
          "ternary": {
           "aaxis": {
            "gridcolor": "white",
            "linecolor": "white",
            "ticks": ""
           },
           "baxis": {
            "gridcolor": "white",
            "linecolor": "white",
            "ticks": ""
           },
           "bgcolor": "#E5ECF6",
           "caxis": {
            "gridcolor": "white",
            "linecolor": "white",
            "ticks": ""
           }
          },
          "title": {
           "x": 0.05
          },
          "xaxis": {
           "automargin": true,
           "gridcolor": "white",
           "linecolor": "white",
           "ticks": "",
           "title": {
            "standoff": 15
           },
           "zerolinecolor": "white",
           "zerolinewidth": 2
          },
          "yaxis": {
           "automargin": true,
           "gridcolor": "white",
           "linecolor": "white",
           "ticks": "",
           "title": {
            "standoff": 15
           },
           "zerolinecolor": "white",
           "zerolinewidth": 2
          }
         }
        },
        "width": 1000
       }
      }
     },
     "metadata": {},
     "output_type": "display_data"
    }
   ],
   "source": [
    "\n",
    "df_stores = pl.read_database_uri(query=query_stores_locations, uri=get_postgres_uri())\n",
    "df_workshops = pl.read_database_uri(query=query_workshops_locations, uri=get_postgres_uri())\n",
    "plot_map(df_stores, df_workshops)"
   ]
  },
  {
   "cell_type": "code",
   "execution_count": null,
   "id": "5f3f1067",
   "metadata": {},
   "outputs": [],
   "source": [
    "def plot_inventory_balance(df_demand_evol: pl.DataFrame, df_sales_stocks: pl.DataFrame):\n",
    "    \"\"\"Plot the inventory balance for each product in each store over time.\n",
    "    The balance is calculated as the difference between expected initial inventory, expected deliveries,\n",
    "    expected demand fulfilled, and expected demand unfulfilled.\n",
    "\n",
    "    Args:\n",
    "        df_demand_evol (pl.DataFrame): DataFrame containing the demand evolution data with the following columns:\n",
    "            - c_date: date of the demand evolution\n",
    "            - p_name: name of the product\n",
    "            - s_name: name of the store\n",
    "            - init_stocks: expected initial inventory\n",
    "            - units_sent: expected deliveries\n",
    "            - met_demand: expected demand fulfilled\n",
    "            - unmet_demand: expected demand unfulfilled\n",
    "    \"\"\"\n",
    "\n",
    "    products_stores = df_demand_evol.unique(subset=[\"p_name\", \"s_name\"]).select(\"p_name\", \"s_name\").sort([\"s_name\",\"p_name\"]).rows()\n",
    "\n",
    "    for product, store in products_stores:\n",
    "        df_subset = df_demand_evol.filter(p_name=product, s_name=store)\n",
    "        df_subset_ss = df_sales_stocks.filter(p_name=product, s_name=store)\n",
    "\n",
    "        fig = go.Figure()\n",
    "\n",
    "        # --- DATA TRACES with new color palette ---\n",
    "\n",
    "        # Inventory (Historical)\n",
    "        fig.add_trace(go.Bar(\n",
    "            x=df_subset_ss[\"c_date\"], y=df_subset_ss[\"units\"],\n",
    "            name='Inventory', marker_color='rgb(252, 186, 3)', opacity=1,\n",
    "            hovertemplate='<b>Date</b>: %{x}<br><b>Inventory</b>: %{y} units<extra></extra>'\n",
    "        ))\n",
    "\n",
    "        # Initial Inventory (Projected)\n",
    "        fig.add_trace(go.Bar(\n",
    "            x=df_subset[\"c_date\"], y=df_subset[\"initial_stocks\"],\n",
    "            name='Projected Initial Inventory', marker_color='rgb(252, 186, 3)', opacity=0.6,\n",
    "            hovertemplate='<b>Date</b>: %{x}<br><b>Projected Initial Inv.</b>: %{y} units<extra></extra>'\n",
    "        ))\n",
    "\n",
    "        # Deliveries (Projected)\n",
    "        fig.add_trace(go.Bar(\n",
    "            x=df_subset[\"c_date\"], y=df_subset[\"expected_units\"],\n",
    "            name='Projected Deliveries', marker_color='rgb(3, 148, 252)', opacity=0.7,\n",
    "            hovertemplate='<b>Date</b>: %{x}<br><b>Projected Deliveries</b>: %{y} units<extra></extra>'\n",
    "            # name='Projected Deliveries', marker_color='rgb(52, 73, 94)', opacity=0.7,\n",
    "            # hovertemplate='<b>Date</b>: %{x}<br><b>Projected Deliveries</b>: %{y} units<extra></extra>'\n",
    "        ))\n",
    "\n",
    "        # Sales (Historical)\n",
    "        fig.add_trace(go.Bar(\n",
    "            x=df_subset_ss[\"c_date\"], y=-df_subset_ss[\"units_sold\"],\n",
    "            name='Sales', marker_color='rgb(23, 191, 99)', opacity=1,\n",
    "            hovertemplate='<b>Date</b>: %{x}<br><b>Sales</b>: %{customdata} units<extra></extra>',\n",
    "            customdata=df_subset_ss[\"units_sold\"]\n",
    "        ))\n",
    "\n",
    "        # Met Demand (Projected)\n",
    "        fig.add_trace(go.Bar(\n",
    "            x=df_subset[\"c_date\"], y=-df_subset[\"met_demand\"],\n",
    "            name='Projected Fulfilled Sales', marker_color='rgb(23, 191, 99)', opacity=0.6,\n",
    "            hovertemplate='<b>Date</b>: %{x}<br><b>Projected Fulfilled</b>: %{customdata} units<extra></extra>',\n",
    "            customdata=df_subset[\"met_demand\"]\n",
    "        ))\n",
    "\n",
    "        # Unmet Demand (Projected)\n",
    "        fig.add_trace(go.Bar(\n",
    "            x=df_subset[\"c_date\"], y=-df_subset[\"unmet_demand\"],\n",
    "            name='Projected Unfulfilled Sales', marker_color='rgb(52, 73, 94)', opacity=0.6,\n",
    "            hovertemplate='<b>Date</b>: %{x}<br><b>Projected Unfulfilled</b>: %{customdata} units<extra></extra>',\n",
    "            customdata=df_subset[\"unmet_demand\"]\n",
    "        ))\n",
    "\n",
    "        # --- LAYOUT ENHANCEMENTS ---\n",
    "        fig.update_traces(marker_line_width=0)\n",
    "\n",
    "        fig.update_layout(\n",
    "            # title=f'<b>Inventory & Sales Projection: {product} at {store}</b>',\n",
    "            barmode='relative',\n",
    "            paper_bgcolor='rgb(248, 248, 255)',\n",
    "            plot_bgcolor='rgb(248, 248, 255)',\n",
    "            xaxis=dict(\n",
    "                title='Date',\n",
    "                showgrid=False,\n",
    "                tickfont=dict(family='Arial, sans-serif', size=12, color='rgb(100,100,100)')\n",
    "            ),\n",
    "            yaxis=dict(\n",
    "                title='Units',\n",
    "                showgrid=True,\n",
    "                gridcolor='rgb(220,220,220)',\n",
    "                tickfont=dict(family='Arial, sans-serif', size=12, color='rgb(100,100,100)')\n",
    "            ),\n",
    "            legend=dict(\n",
    "                orientation=\"h\",\n",
    "                yanchor=\"bottom\",\n",
    "                y=1.02,\n",
    "                xanchor=\"right\",\n",
    "                x=1,\n",
    "                font=dict(family='Arial, sans-serif', size=10)\n",
    "            ),\n",
    "            font=dict(family='Arial, sans-serif', color='rgb(60,60,60)'),\n",
    "            margin=dict(l=60, r=30, t=80, b=60)\n",
    "        )\n",
    "        # save to HTML file to export it later to streamlit\n",
    "        fig.write_html(f\"inventory_balance_{product}_{store}.html\")\n",
    "        fig.show()"
   ]
  },
  {
   "cell_type": "code",
   "execution_count": 10,
   "id": "16631423",
   "metadata": {},
   "outputs": [
    {
     "data": {
      "application/vnd.plotly.v1+json": {
       "config": {
        "plotlyServerURL": "https://plot.ly"
       },
       "data": [
        {
         "hovertemplate": "<b>Date</b>: %{x}<br><b>Inventory</b>: %{y} units<extra></extra>",
         "marker": {
          "color": "rgb(252, 186, 3)",
          "line": {
           "width": 0
          }
         },
         "name": "Inventory",
         "opacity": 1,
         "type": "bar",
         "x": [
          "2016-08-01",
          "2016-08-02",
          "2016-08-03",
          "2016-08-04",
          "2016-08-05",
          "2016-08-06",
          "2016-08-07",
          "2016-08-08",
          "2016-08-09",
          "2016-08-10",
          "2016-08-11",
          "2016-08-12",
          "2016-08-13",
          "2016-08-14",
          "2016-08-15"
         ],
         "y": [
          43,
          44,
          50,
          43,
          65,
          89,
          78,
          41,
          42,
          55,
          58,
          91,
          88,
          57,
          48
         ]
        },
        {
         "hovertemplate": "<b>Date</b>: %{x}<br><b>Projected Initial Inv.</b>: %{y} units<extra></extra>",
         "marker": {
          "color": "rgb(252, 186, 3)",
          "line": {
           "width": 0
          }
         },
         "name": "Projected Initial Inventory",
         "opacity": 0.6,
         "type": "bar",
         "x": [
          "2016-08-16",
          "2016-08-17",
          "2016-08-18",
          "2016-08-19",
          "2016-08-20",
          "2016-08-21",
          "2016-08-22"
         ],
         "y": [
          30,
          31,
          27,
          38,
          24,
          22,
          20
         ]
        },
        {
         "hovertemplate": "<b>Date</b>: %{x}<br><b>Projected Deliveries</b>: %{y} units<extra></extra>",
         "marker": {
          "color": "rgb(3, 148, 252)",
          "line": {
           "width": 0
          }
         },
         "name": "Projected Deliveries",
         "opacity": 0.7,
         "type": "bar",
         "x": [
          "2016-08-16",
          "2016-08-17",
          "2016-08-18",
          "2016-08-19",
          "2016-08-20",
          "2016-08-21",
          "2016-08-22"
         ],
         "y": [
          36,
          36,
          52,
          42,
          54,
          48,
          44
         ]
        },
        {
         "customdata": [
          33,
          34,
          40,
          33,
          55,
          79,
          68,
          31,
          32,
          45,
          48,
          81,
          78,
          47,
          38
         ],
         "hovertemplate": "<b>Date</b>: %{x}<br><b>Sales</b>: %{customdata} units<extra></extra>",
         "marker": {
          "color": "rgb(23, 191, 99)",
          "line": {
           "width": 0
          }
         },
         "name": "Sales",
         "opacity": 1,
         "type": "bar",
         "x": [
          "2016-08-01",
          "2016-08-02",
          "2016-08-03",
          "2016-08-04",
          "2016-08-05",
          "2016-08-06",
          "2016-08-07",
          "2016-08-08",
          "2016-08-09",
          "2016-08-10",
          "2016-08-11",
          "2016-08-12",
          "2016-08-13",
          "2016-08-14",
          "2016-08-15"
         ],
         "y": [
          -33,
          -34,
          -40,
          -33,
          -55,
          -79,
          -68,
          -31,
          -32,
          -45,
          -48,
          -81,
          -78,
          -47,
          -38
         ]
        },
        {
         "customdata": [
          35,
          40,
          41,
          56,
          56,
          50,
          38
         ],
         "hovertemplate": "<b>Date</b>: %{x}<br><b>Projected Fulfilled</b>: %{customdata} units<extra></extra>",
         "marker": {
          "color": "rgb(23, 191, 99)",
          "line": {
           "width": 0
          }
         },
         "name": "Projected Fulfilled Sales",
         "opacity": 0.6,
         "type": "bar",
         "x": [
          "2016-08-16",
          "2016-08-17",
          "2016-08-18",
          "2016-08-19",
          "2016-08-20",
          "2016-08-21",
          "2016-08-22"
         ],
         "y": [
          -35,
          -40,
          -41,
          -56,
          -56,
          -50,
          -38
         ]
        },
        {
         "customdata": [
          0,
          0,
          0,
          0,
          0,
          0,
          0
         ],
         "hovertemplate": "<b>Date</b>: %{x}<br><b>Projected Unfulfilled</b>: %{customdata} units<extra></extra>",
         "marker": {
          "color": "rgb(52, 73, 94)",
          "line": {
           "width": 0
          }
         },
         "name": "Projected Unfulfilled Sales",
         "opacity": 0.7,
         "type": "bar",
         "x": [
          "2016-08-16",
          "2016-08-17",
          "2016-08-18",
          "2016-08-19",
          "2016-08-20",
          "2016-08-21",
          "2016-08-22"
         ],
         "y": [
          0,
          0,
          0,
          0,
          0,
          0,
          0
         ]
        }
       ],
       "layout": {
        "barmode": "relative",
        "font": {
         "color": "rgb(60,60,60)",
         "family": "Arial, sans-serif"
        },
        "legend": {
         "font": {
          "family": "Arial, sans-serif",
          "size": 10
         },
         "orientation": "h",
         "x": 1,
         "xanchor": "right",
         "y": 1.02,
         "yanchor": "bottom"
        },
        "margin": {
         "b": 60,
         "l": 60,
         "r": 30,
         "t": 80
        },
        "paper_bgcolor": "rgb(248, 248, 255)",
        "plot_bgcolor": "rgb(248, 248, 255)",
        "template": {
         "data": {
          "candlestick": [
           {
            "decreasing": {
             "line": {
              "color": "#000033"
             }
            },
            "increasing": {
             "line": {
              "color": "#000032"
             }
            },
            "type": "candlestick"
           }
          ],
          "contour": [
           {
            "colorscale": [
             [
              0,
              "#000011"
             ],
             [
              0.1111111111111111,
              "#000012"
             ],
             [
              0.2222222222222222,
              "#000013"
             ],
             [
              0.3333333333333333,
              "#000014"
             ],
             [
              0.4444444444444444,
              "#000015"
             ],
             [
              0.5555555555555556,
              "#000016"
             ],
             [
              0.6666666666666666,
              "#000017"
             ],
             [
              0.7777777777777778,
              "#000018"
             ],
             [
              0.8888888888888888,
              "#000019"
             ],
             [
              1,
              "#000020"
             ]
            ],
            "type": "contour"
           }
          ],
          "contourcarpet": [
           {
            "colorscale": [
             [
              0,
              "#000011"
             ],
             [
              0.1111111111111111,
              "#000012"
             ],
             [
              0.2222222222222222,
              "#000013"
             ],
             [
              0.3333333333333333,
              "#000014"
             ],
             [
              0.4444444444444444,
              "#000015"
             ],
             [
              0.5555555555555556,
              "#000016"
             ],
             [
              0.6666666666666666,
              "#000017"
             ],
             [
              0.7777777777777778,
              "#000018"
             ],
             [
              0.8888888888888888,
              "#000019"
             ],
             [
              1,
              "#000020"
             ]
            ],
            "type": "contourcarpet"
           }
          ],
          "heatmap": [
           {
            "colorscale": [
             [
              0,
              "#000011"
             ],
             [
              0.1111111111111111,
              "#000012"
             ],
             [
              0.2222222222222222,
              "#000013"
             ],
             [
              0.3333333333333333,
              "#000014"
             ],
             [
              0.4444444444444444,
              "#000015"
             ],
             [
              0.5555555555555556,
              "#000016"
             ],
             [
              0.6666666666666666,
              "#000017"
             ],
             [
              0.7777777777777778,
              "#000018"
             ],
             [
              0.8888888888888888,
              "#000019"
             ],
             [
              1,
              "#000020"
             ]
            ],
            "type": "heatmap"
           }
          ],
          "histogram2d": [
           {
            "colorscale": [
             [
              0,
              "#000011"
             ],
             [
              0.1111111111111111,
              "#000012"
             ],
             [
              0.2222222222222222,
              "#000013"
             ],
             [
              0.3333333333333333,
              "#000014"
             ],
             [
              0.4444444444444444,
              "#000015"
             ],
             [
              0.5555555555555556,
              "#000016"
             ],
             [
              0.6666666666666666,
              "#000017"
             ],
             [
              0.7777777777777778,
              "#000018"
             ],
             [
              0.8888888888888888,
              "#000019"
             ],
             [
              1,
              "#000020"
             ]
            ],
            "type": "histogram2d"
           }
          ],
          "icicle": [
           {
            "textfont": {
             "color": "white"
            },
            "type": "icicle"
           }
          ],
          "sankey": [
           {
            "textfont": {
             "color": "#000036"
            },
            "type": "sankey"
           }
          ],
          "scatter": [
           {
            "marker": {
             "line": {
              "width": 0
             }
            },
            "type": "scatter"
           }
          ],
          "table": [
           {
            "cells": {
             "fill": {
              "color": "#000038"
             },
             "font": {
              "color": "#000037"
             },
             "line": {
              "color": "#000039"
             }
            },
            "header": {
             "fill": {
              "color": "#000040"
             },
             "font": {
              "color": "#000036"
             },
             "line": {
              "color": "#000039"
             }
            },
            "type": "table"
           }
          ],
          "waterfall": [
           {
            "connector": {
             "line": {
              "color": "#000036",
              "width": 2
             }
            },
            "decreasing": {
             "marker": {
              "color": "#000033"
             }
            },
            "increasing": {
             "marker": {
              "color": "#000032"
             }
            },
            "totals": {
             "marker": {
              "color": "#000034"
             }
            },
            "type": "waterfall"
           }
          ]
         },
         "layout": {
          "coloraxis": {
           "colorscale": [
            [
             0,
             "#000011"
            ],
            [
             0.1111111111111111,
             "#000012"
            ],
            [
             0.2222222222222222,
             "#000013"
            ],
            [
             0.3333333333333333,
             "#000014"
            ],
            [
             0.4444444444444444,
             "#000015"
            ],
            [
             0.5555555555555556,
             "#000016"
            ],
            [
             0.6666666666666666,
             "#000017"
            ],
            [
             0.7777777777777778,
             "#000018"
            ],
            [
             0.8888888888888888,
             "#000019"
            ],
            [
             1,
             "#000020"
            ]
           ]
          },
          "colorscale": {
           "diverging": [
            [
             0,
             "#000021"
            ],
            [
             0.1,
             "#000022"
            ],
            [
             0.2,
             "#000023"
            ],
            [
             0.3,
             "#000024"
            ],
            [
             0.4,
             "#000025"
            ],
            [
             0.5,
             "#000026"
            ],
            [
             0.6,
             "#000027"
            ],
            [
             0.7,
             "#000028"
            ],
            [
             0.8,
             "#000029"
            ],
            [
             0.9,
             "#000030"
            ],
            [
             1,
             "#000031"
            ]
           ],
           "sequential": [
            [
             0,
             "#000011"
            ],
            [
             0.1111111111111111,
             "#000012"
            ],
            [
             0.2222222222222222,
             "#000013"
            ],
            [
             0.3333333333333333,
             "#000014"
            ],
            [
             0.4444444444444444,
             "#000015"
            ],
            [
             0.5555555555555556,
             "#000016"
            ],
            [
             0.6666666666666666,
             "#000017"
            ],
            [
             0.7777777777777778,
             "#000018"
            ],
            [
             0.8888888888888888,
             "#000019"
            ],
            [
             1,
             "#000020"
            ]
           ],
           "sequentialminus": [
            [
             0,
             "#000011"
            ],
            [
             0.1111111111111111,
             "#000012"
            ],
            [
             0.2222222222222222,
             "#000013"
            ],
            [
             0.3333333333333333,
             "#000014"
            ],
            [
             0.4444444444444444,
             "#000015"
            ],
            [
             0.5555555555555556,
             "#000016"
            ],
            [
             0.6666666666666666,
             "#000017"
            ],
            [
             0.7777777777777778,
             "#000018"
            ],
            [
             0.8888888888888888,
             "#000019"
            ],
            [
             1,
             "#000020"
            ]
           ]
          },
          "colorway": [
           "#000001",
           "#000002",
           "#000003",
           "#000004",
           "#000005",
           "#000006",
           "#000007",
           "#000008",
           "#000009",
           "#000010"
          ]
         }
        },
        "xaxis": {
         "showgrid": false,
         "tickfont": {
          "color": "rgb(100,100,100)",
          "family": "Arial, sans-serif",
          "size": 12
         },
         "title": {
          "text": "Date"
         }
        },
        "yaxis": {
         "gridcolor": "rgb(220,220,220)",
         "showgrid": true,
         "tickfont": {
          "color": "rgb(100,100,100)",
          "family": "Arial, sans-serif",
          "size": 12
         },
         "title": {
          "text": "Units"
         }
        }
       }
      }
     },
     "metadata": {},
     "output_type": "display_data"
    },
    {
     "data": {
      "application/vnd.plotly.v1+json": {
       "config": {
        "plotlyServerURL": "https://plot.ly"
       },
       "data": [
        {
         "hovertemplate": "<b>Date</b>: %{x}<br><b>Inventory</b>: %{y} units<extra></extra>",
         "marker": {
          "color": "rgb(252, 186, 3)",
          "line": {
           "width": 0
          }
         },
         "name": "Inventory",
         "opacity": 1,
         "type": "bar",
         "x": [
          "2016-08-01",
          "2016-08-02",
          "2016-08-03",
          "2016-08-04",
          "2016-08-05",
          "2016-08-06",
          "2016-08-07",
          "2016-08-08",
          "2016-08-09",
          "2016-08-10",
          "2016-08-11",
          "2016-08-12",
          "2016-08-13",
          "2016-08-14",
          "2016-08-15"
         ],
         "y": [
          97,
          63,
          82,
          70,
          64,
          106,
          103,
          76,
          59,
          68,
          44,
          84,
          73,
          96,
          92
         ]
        },
        {
         "hovertemplate": "<b>Date</b>: %{x}<br><b>Projected Initial Inv.</b>: %{y} units<extra></extra>",
         "marker": {
          "color": "rgb(252, 186, 3)",
          "line": {
           "width": 0
          }
         },
         "name": "Projected Initial Inventory",
         "opacity": 0.6,
         "type": "bar",
         "x": [
          "2016-08-16",
          "2016-08-17",
          "2016-08-18",
          "2016-08-19",
          "2016-08-20",
          "2016-08-21",
          "2016-08-22"
         ],
         "y": [
          30,
          21,
          21,
          22,
          21,
          20,
          20
         ]
        },
        {
         "hovertemplate": "<b>Date</b>: %{x}<br><b>Projected Deliveries</b>: %{y} units<extra></extra>",
         "marker": {
          "color": "rgb(3, 148, 252)",
          "line": {
           "width": 0
          }
         },
         "name": "Projected Deliveries",
         "opacity": 0.7,
         "type": "bar",
         "x": [
          "2016-08-16",
          "2016-08-17",
          "2016-08-18",
          "2016-08-19",
          "2016-08-20",
          "2016-08-21",
          "2016-08-22"
         ],
         "y": [
          52,
          62,
          58,
          62,
          68,
          70,
          70
         ]
        },
        {
         "customdata": [
          87,
          53,
          72,
          60,
          54,
          96,
          93,
          66,
          49,
          58,
          34,
          74,
          63,
          86,
          82
         ],
         "hovertemplate": "<b>Date</b>: %{x}<br><b>Sales</b>: %{customdata} units<extra></extra>",
         "marker": {
          "color": "rgb(23, 191, 99)",
          "line": {
           "width": 0
          }
         },
         "name": "Sales",
         "opacity": 1,
         "type": "bar",
         "x": [
          "2016-08-01",
          "2016-08-02",
          "2016-08-03",
          "2016-08-04",
          "2016-08-05",
          "2016-08-06",
          "2016-08-07",
          "2016-08-08",
          "2016-08-09",
          "2016-08-10",
          "2016-08-11",
          "2016-08-12",
          "2016-08-13",
          "2016-08-14",
          "2016-08-15"
         ],
         "y": [
          -87,
          -53,
          -72,
          -60,
          -54,
          -96,
          -93,
          -66,
          -49,
          -58,
          -34,
          -74,
          -63,
          -86,
          -82
         ]
        },
        {
         "customdata": [
          61,
          62,
          57,
          63,
          69,
          70,
          70
         ],
         "hovertemplate": "<b>Date</b>: %{x}<br><b>Projected Fulfilled</b>: %{customdata} units<extra></extra>",
         "marker": {
          "color": "rgb(23, 191, 99)",
          "line": {
           "width": 0
          }
         },
         "name": "Projected Fulfilled Sales",
         "opacity": 0.6,
         "type": "bar",
         "x": [
          "2016-08-16",
          "2016-08-17",
          "2016-08-18",
          "2016-08-19",
          "2016-08-20",
          "2016-08-21",
          "2016-08-22"
         ],
         "y": [
          -61,
          -62,
          -57,
          -63,
          -69,
          -70,
          -70
         ]
        },
        {
         "customdata": [
          0,
          0,
          0,
          0,
          0,
          0,
          0
         ],
         "hovertemplate": "<b>Date</b>: %{x}<br><b>Projected Unfulfilled</b>: %{customdata} units<extra></extra>",
         "marker": {
          "color": "rgb(52, 73, 94)",
          "line": {
           "width": 0
          }
         },
         "name": "Projected Unfulfilled Sales",
         "opacity": 0.7,
         "type": "bar",
         "x": [
          "2016-08-16",
          "2016-08-17",
          "2016-08-18",
          "2016-08-19",
          "2016-08-20",
          "2016-08-21",
          "2016-08-22"
         ],
         "y": [
          0,
          0,
          0,
          0,
          0,
          0,
          0
         ]
        }
       ],
       "layout": {
        "barmode": "relative",
        "font": {
         "color": "rgb(60,60,60)",
         "family": "Arial, sans-serif"
        },
        "legend": {
         "font": {
          "family": "Arial, sans-serif",
          "size": 10
         },
         "orientation": "h",
         "x": 1,
         "xanchor": "right",
         "y": 1.02,
         "yanchor": "bottom"
        },
        "margin": {
         "b": 60,
         "l": 60,
         "r": 30,
         "t": 80
        },
        "paper_bgcolor": "rgb(248, 248, 255)",
        "plot_bgcolor": "rgb(248, 248, 255)",
        "template": {
         "data": {
          "candlestick": [
           {
            "decreasing": {
             "line": {
              "color": "#000033"
             }
            },
            "increasing": {
             "line": {
              "color": "#000032"
             }
            },
            "type": "candlestick"
           }
          ],
          "contour": [
           {
            "colorscale": [
             [
              0,
              "#000011"
             ],
             [
              0.1111111111111111,
              "#000012"
             ],
             [
              0.2222222222222222,
              "#000013"
             ],
             [
              0.3333333333333333,
              "#000014"
             ],
             [
              0.4444444444444444,
              "#000015"
             ],
             [
              0.5555555555555556,
              "#000016"
             ],
             [
              0.6666666666666666,
              "#000017"
             ],
             [
              0.7777777777777778,
              "#000018"
             ],
             [
              0.8888888888888888,
              "#000019"
             ],
             [
              1,
              "#000020"
             ]
            ],
            "type": "contour"
           }
          ],
          "contourcarpet": [
           {
            "colorscale": [
             [
              0,
              "#000011"
             ],
             [
              0.1111111111111111,
              "#000012"
             ],
             [
              0.2222222222222222,
              "#000013"
             ],
             [
              0.3333333333333333,
              "#000014"
             ],
             [
              0.4444444444444444,
              "#000015"
             ],
             [
              0.5555555555555556,
              "#000016"
             ],
             [
              0.6666666666666666,
              "#000017"
             ],
             [
              0.7777777777777778,
              "#000018"
             ],
             [
              0.8888888888888888,
              "#000019"
             ],
             [
              1,
              "#000020"
             ]
            ],
            "type": "contourcarpet"
           }
          ],
          "heatmap": [
           {
            "colorscale": [
             [
              0,
              "#000011"
             ],
             [
              0.1111111111111111,
              "#000012"
             ],
             [
              0.2222222222222222,
              "#000013"
             ],
             [
              0.3333333333333333,
              "#000014"
             ],
             [
              0.4444444444444444,
              "#000015"
             ],
             [
              0.5555555555555556,
              "#000016"
             ],
             [
              0.6666666666666666,
              "#000017"
             ],
             [
              0.7777777777777778,
              "#000018"
             ],
             [
              0.8888888888888888,
              "#000019"
             ],
             [
              1,
              "#000020"
             ]
            ],
            "type": "heatmap"
           }
          ],
          "histogram2d": [
           {
            "colorscale": [
             [
              0,
              "#000011"
             ],
             [
              0.1111111111111111,
              "#000012"
             ],
             [
              0.2222222222222222,
              "#000013"
             ],
             [
              0.3333333333333333,
              "#000014"
             ],
             [
              0.4444444444444444,
              "#000015"
             ],
             [
              0.5555555555555556,
              "#000016"
             ],
             [
              0.6666666666666666,
              "#000017"
             ],
             [
              0.7777777777777778,
              "#000018"
             ],
             [
              0.8888888888888888,
              "#000019"
             ],
             [
              1,
              "#000020"
             ]
            ],
            "type": "histogram2d"
           }
          ],
          "icicle": [
           {
            "textfont": {
             "color": "white"
            },
            "type": "icicle"
           }
          ],
          "sankey": [
           {
            "textfont": {
             "color": "#000036"
            },
            "type": "sankey"
           }
          ],
          "scatter": [
           {
            "marker": {
             "line": {
              "width": 0
             }
            },
            "type": "scatter"
           }
          ],
          "table": [
           {
            "cells": {
             "fill": {
              "color": "#000038"
             },
             "font": {
              "color": "#000037"
             },
             "line": {
              "color": "#000039"
             }
            },
            "header": {
             "fill": {
              "color": "#000040"
             },
             "font": {
              "color": "#000036"
             },
             "line": {
              "color": "#000039"
             }
            },
            "type": "table"
           }
          ],
          "waterfall": [
           {
            "connector": {
             "line": {
              "color": "#000036",
              "width": 2
             }
            },
            "decreasing": {
             "marker": {
              "color": "#000033"
             }
            },
            "increasing": {
             "marker": {
              "color": "#000032"
             }
            },
            "totals": {
             "marker": {
              "color": "#000034"
             }
            },
            "type": "waterfall"
           }
          ]
         },
         "layout": {
          "coloraxis": {
           "colorscale": [
            [
             0,
             "#000011"
            ],
            [
             0.1111111111111111,
             "#000012"
            ],
            [
             0.2222222222222222,
             "#000013"
            ],
            [
             0.3333333333333333,
             "#000014"
            ],
            [
             0.4444444444444444,
             "#000015"
            ],
            [
             0.5555555555555556,
             "#000016"
            ],
            [
             0.6666666666666666,
             "#000017"
            ],
            [
             0.7777777777777778,
             "#000018"
            ],
            [
             0.8888888888888888,
             "#000019"
            ],
            [
             1,
             "#000020"
            ]
           ]
          },
          "colorscale": {
           "diverging": [
            [
             0,
             "#000021"
            ],
            [
             0.1,
             "#000022"
            ],
            [
             0.2,
             "#000023"
            ],
            [
             0.3,
             "#000024"
            ],
            [
             0.4,
             "#000025"
            ],
            [
             0.5,
             "#000026"
            ],
            [
             0.6,
             "#000027"
            ],
            [
             0.7,
             "#000028"
            ],
            [
             0.8,
             "#000029"
            ],
            [
             0.9,
             "#000030"
            ],
            [
             1,
             "#000031"
            ]
           ],
           "sequential": [
            [
             0,
             "#000011"
            ],
            [
             0.1111111111111111,
             "#000012"
            ],
            [
             0.2222222222222222,
             "#000013"
            ],
            [
             0.3333333333333333,
             "#000014"
            ],
            [
             0.4444444444444444,
             "#000015"
            ],
            [
             0.5555555555555556,
             "#000016"
            ],
            [
             0.6666666666666666,
             "#000017"
            ],
            [
             0.7777777777777778,
             "#000018"
            ],
            [
             0.8888888888888888,
             "#000019"
            ],
            [
             1,
             "#000020"
            ]
           ],
           "sequentialminus": [
            [
             0,
             "#000011"
            ],
            [
             0.1111111111111111,
             "#000012"
            ],
            [
             0.2222222222222222,
             "#000013"
            ],
            [
             0.3333333333333333,
             "#000014"
            ],
            [
             0.4444444444444444,
             "#000015"
            ],
            [
             0.5555555555555556,
             "#000016"
            ],
            [
             0.6666666666666666,
             "#000017"
            ],
            [
             0.7777777777777778,
             "#000018"
            ],
            [
             0.8888888888888888,
             "#000019"
            ],
            [
             1,
             "#000020"
            ]
           ]
          },
          "colorway": [
           "#000001",
           "#000002",
           "#000003",
           "#000004",
           "#000005",
           "#000006",
           "#000007",
           "#000008",
           "#000009",
           "#000010"
          ]
         }
        },
        "xaxis": {
         "showgrid": false,
         "tickfont": {
          "color": "rgb(100,100,100)",
          "family": "Arial, sans-serif",
          "size": 12
         },
         "title": {
          "text": "Date"
         }
        },
        "yaxis": {
         "gridcolor": "rgb(220,220,220)",
         "showgrid": true,
         "tickfont": {
          "color": "rgb(100,100,100)",
          "family": "Arial, sans-serif",
          "size": 12
         },
         "title": {
          "text": "Units"
         }
        }
       }
      }
     },
     "metadata": {},
     "output_type": "display_data"
    },
    {
     "data": {
      "application/vnd.plotly.v1+json": {
       "config": {
        "plotlyServerURL": "https://plot.ly"
       },
       "data": [
        {
         "hovertemplate": "<b>Date</b>: %{x}<br><b>Inventory</b>: %{y} units<extra></extra>",
         "marker": {
          "color": "rgb(252, 186, 3)",
          "line": {
           "width": 0
          }
         },
         "name": "Inventory",
         "opacity": 1,
         "type": "bar",
         "x": [
          "2016-08-01",
          "2016-08-02",
          "2016-08-03",
          "2016-08-04",
          "2016-08-05",
          "2016-08-06",
          "2016-08-07",
          "2016-08-08",
          "2016-08-09",
          "2016-08-10",
          "2016-08-11",
          "2016-08-12",
          "2016-08-13",
          "2016-08-14",
          "2016-08-15"
         ],
         "y": [
          44,
          27,
          41,
          25,
          36,
          41,
          42,
          32,
          25,
          37,
          25,
          39,
          33,
          39,
          32
         ]
        },
        {
         "hovertemplate": "<b>Date</b>: %{x}<br><b>Projected Initial Inv.</b>: %{y} units<extra></extra>",
         "marker": {
          "color": "rgb(252, 186, 3)",
          "line": {
           "width": 0
          }
         },
         "name": "Projected Initial Inventory",
         "opacity": 0.6,
         "type": "bar",
         "x": [
          "2016-08-16",
          "2016-08-17",
          "2016-08-18",
          "2016-08-19",
          "2016-08-20",
          "2016-08-21",
          "2016-08-22"
         ],
         "y": [
          30,
          23,
          29,
          23,
          28,
          29,
          20
         ]
        },
        {
         "hovertemplate": "<b>Date</b>: %{x}<br><b>Projected Deliveries</b>: %{y} units<extra></extra>",
         "marker": {
          "color": "rgb(3, 148, 252)",
          "line": {
           "width": 0
          }
         },
         "name": "Projected Deliveries",
         "opacity": 0.7,
         "type": "bar",
         "x": [
          "2016-08-16",
          "2016-08-17",
          "2016-08-18",
          "2016-08-19",
          "2016-08-20",
          "2016-08-21",
          "2016-08-22"
         ],
         "y": [
          14,
          28,
          14,
          28,
          28,
          14,
          28
         ]
        },
        {
         "customdata": [
          34,
          17,
          31,
          15,
          26,
          31,
          32,
          22,
          15,
          27,
          15,
          29,
          23,
          29,
          22
         ],
         "hovertemplate": "<b>Date</b>: %{x}<br><b>Sales</b>: %{customdata} units<extra></extra>",
         "marker": {
          "color": "rgb(23, 191, 99)",
          "line": {
           "width": 0
          }
         },
         "name": "Sales",
         "opacity": 1,
         "type": "bar",
         "x": [
          "2016-08-01",
          "2016-08-02",
          "2016-08-03",
          "2016-08-04",
          "2016-08-05",
          "2016-08-06",
          "2016-08-07",
          "2016-08-08",
          "2016-08-09",
          "2016-08-10",
          "2016-08-11",
          "2016-08-12",
          "2016-08-13",
          "2016-08-14",
          "2016-08-15"
         ],
         "y": [
          -34,
          -17,
          -31,
          -15,
          -26,
          -31,
          -32,
          -22,
          -15,
          -27,
          -15,
          -29,
          -23,
          -29,
          -22
         ]
        },
        {
         "customdata": [
          21,
          22,
          20,
          23,
          27,
          23,
          23
         ],
         "hovertemplate": "<b>Date</b>: %{x}<br><b>Projected Fulfilled</b>: %{customdata} units<extra></extra>",
         "marker": {
          "color": "rgb(23, 191, 99)",
          "line": {
           "width": 0
          }
         },
         "name": "Projected Fulfilled Sales",
         "opacity": 0.6,
         "type": "bar",
         "x": [
          "2016-08-16",
          "2016-08-17",
          "2016-08-18",
          "2016-08-19",
          "2016-08-20",
          "2016-08-21",
          "2016-08-22"
         ],
         "y": [
          -21,
          -22,
          -20,
          -23,
          -27,
          -23,
          -23
         ]
        },
        {
         "customdata": [
          0,
          0,
          0,
          0,
          0,
          0,
          0
         ],
         "hovertemplate": "<b>Date</b>: %{x}<br><b>Projected Unfulfilled</b>: %{customdata} units<extra></extra>",
         "marker": {
          "color": "rgb(52, 73, 94)",
          "line": {
           "width": 0
          }
         },
         "name": "Projected Unfulfilled Sales",
         "opacity": 0.7,
         "type": "bar",
         "x": [
          "2016-08-16",
          "2016-08-17",
          "2016-08-18",
          "2016-08-19",
          "2016-08-20",
          "2016-08-21",
          "2016-08-22"
         ],
         "y": [
          0,
          0,
          0,
          0,
          0,
          0,
          0
         ]
        }
       ],
       "layout": {
        "barmode": "relative",
        "font": {
         "color": "rgb(60,60,60)",
         "family": "Arial, sans-serif"
        },
        "legend": {
         "font": {
          "family": "Arial, sans-serif",
          "size": 10
         },
         "orientation": "h",
         "x": 1,
         "xanchor": "right",
         "y": 1.02,
         "yanchor": "bottom"
        },
        "margin": {
         "b": 60,
         "l": 60,
         "r": 30,
         "t": 80
        },
        "paper_bgcolor": "rgb(248, 248, 255)",
        "plot_bgcolor": "rgb(248, 248, 255)",
        "template": {
         "data": {
          "candlestick": [
           {
            "decreasing": {
             "line": {
              "color": "#000033"
             }
            },
            "increasing": {
             "line": {
              "color": "#000032"
             }
            },
            "type": "candlestick"
           }
          ],
          "contour": [
           {
            "colorscale": [
             [
              0,
              "#000011"
             ],
             [
              0.1111111111111111,
              "#000012"
             ],
             [
              0.2222222222222222,
              "#000013"
             ],
             [
              0.3333333333333333,
              "#000014"
             ],
             [
              0.4444444444444444,
              "#000015"
             ],
             [
              0.5555555555555556,
              "#000016"
             ],
             [
              0.6666666666666666,
              "#000017"
             ],
             [
              0.7777777777777778,
              "#000018"
             ],
             [
              0.8888888888888888,
              "#000019"
             ],
             [
              1,
              "#000020"
             ]
            ],
            "type": "contour"
           }
          ],
          "contourcarpet": [
           {
            "colorscale": [
             [
              0,
              "#000011"
             ],
             [
              0.1111111111111111,
              "#000012"
             ],
             [
              0.2222222222222222,
              "#000013"
             ],
             [
              0.3333333333333333,
              "#000014"
             ],
             [
              0.4444444444444444,
              "#000015"
             ],
             [
              0.5555555555555556,
              "#000016"
             ],
             [
              0.6666666666666666,
              "#000017"
             ],
             [
              0.7777777777777778,
              "#000018"
             ],
             [
              0.8888888888888888,
              "#000019"
             ],
             [
              1,
              "#000020"
             ]
            ],
            "type": "contourcarpet"
           }
          ],
          "heatmap": [
           {
            "colorscale": [
             [
              0,
              "#000011"
             ],
             [
              0.1111111111111111,
              "#000012"
             ],
             [
              0.2222222222222222,
              "#000013"
             ],
             [
              0.3333333333333333,
              "#000014"
             ],
             [
              0.4444444444444444,
              "#000015"
             ],
             [
              0.5555555555555556,
              "#000016"
             ],
             [
              0.6666666666666666,
              "#000017"
             ],
             [
              0.7777777777777778,
              "#000018"
             ],
             [
              0.8888888888888888,
              "#000019"
             ],
             [
              1,
              "#000020"
             ]
            ],
            "type": "heatmap"
           }
          ],
          "histogram2d": [
           {
            "colorscale": [
             [
              0,
              "#000011"
             ],
             [
              0.1111111111111111,
              "#000012"
             ],
             [
              0.2222222222222222,
              "#000013"
             ],
             [
              0.3333333333333333,
              "#000014"
             ],
             [
              0.4444444444444444,
              "#000015"
             ],
             [
              0.5555555555555556,
              "#000016"
             ],
             [
              0.6666666666666666,
              "#000017"
             ],
             [
              0.7777777777777778,
              "#000018"
             ],
             [
              0.8888888888888888,
              "#000019"
             ],
             [
              1,
              "#000020"
             ]
            ],
            "type": "histogram2d"
           }
          ],
          "icicle": [
           {
            "textfont": {
             "color": "white"
            },
            "type": "icicle"
           }
          ],
          "sankey": [
           {
            "textfont": {
             "color": "#000036"
            },
            "type": "sankey"
           }
          ],
          "scatter": [
           {
            "marker": {
             "line": {
              "width": 0
             }
            },
            "type": "scatter"
           }
          ],
          "table": [
           {
            "cells": {
             "fill": {
              "color": "#000038"
             },
             "font": {
              "color": "#000037"
             },
             "line": {
              "color": "#000039"
             }
            },
            "header": {
             "fill": {
              "color": "#000040"
             },
             "font": {
              "color": "#000036"
             },
             "line": {
              "color": "#000039"
             }
            },
            "type": "table"
           }
          ],
          "waterfall": [
           {
            "connector": {
             "line": {
              "color": "#000036",
              "width": 2
             }
            },
            "decreasing": {
             "marker": {
              "color": "#000033"
             }
            },
            "increasing": {
             "marker": {
              "color": "#000032"
             }
            },
            "totals": {
             "marker": {
              "color": "#000034"
             }
            },
            "type": "waterfall"
           }
          ]
         },
         "layout": {
          "coloraxis": {
           "colorscale": [
            [
             0,
             "#000011"
            ],
            [
             0.1111111111111111,
             "#000012"
            ],
            [
             0.2222222222222222,
             "#000013"
            ],
            [
             0.3333333333333333,
             "#000014"
            ],
            [
             0.4444444444444444,
             "#000015"
            ],
            [
             0.5555555555555556,
             "#000016"
            ],
            [
             0.6666666666666666,
             "#000017"
            ],
            [
             0.7777777777777778,
             "#000018"
            ],
            [
             0.8888888888888888,
             "#000019"
            ],
            [
             1,
             "#000020"
            ]
           ]
          },
          "colorscale": {
           "diverging": [
            [
             0,
             "#000021"
            ],
            [
             0.1,
             "#000022"
            ],
            [
             0.2,
             "#000023"
            ],
            [
             0.3,
             "#000024"
            ],
            [
             0.4,
             "#000025"
            ],
            [
             0.5,
             "#000026"
            ],
            [
             0.6,
             "#000027"
            ],
            [
             0.7,
             "#000028"
            ],
            [
             0.8,
             "#000029"
            ],
            [
             0.9,
             "#000030"
            ],
            [
             1,
             "#000031"
            ]
           ],
           "sequential": [
            [
             0,
             "#000011"
            ],
            [
             0.1111111111111111,
             "#000012"
            ],
            [
             0.2222222222222222,
             "#000013"
            ],
            [
             0.3333333333333333,
             "#000014"
            ],
            [
             0.4444444444444444,
             "#000015"
            ],
            [
             0.5555555555555556,
             "#000016"
            ],
            [
             0.6666666666666666,
             "#000017"
            ],
            [
             0.7777777777777778,
             "#000018"
            ],
            [
             0.8888888888888888,
             "#000019"
            ],
            [
             1,
             "#000020"
            ]
           ],
           "sequentialminus": [
            [
             0,
             "#000011"
            ],
            [
             0.1111111111111111,
             "#000012"
            ],
            [
             0.2222222222222222,
             "#000013"
            ],
            [
             0.3333333333333333,
             "#000014"
            ],
            [
             0.4444444444444444,
             "#000015"
            ],
            [
             0.5555555555555556,
             "#000016"
            ],
            [
             0.6666666666666666,
             "#000017"
            ],
            [
             0.7777777777777778,
             "#000018"
            ],
            [
             0.8888888888888888,
             "#000019"
            ],
            [
             1,
             "#000020"
            ]
           ]
          },
          "colorway": [
           "#000001",
           "#000002",
           "#000003",
           "#000004",
           "#000005",
           "#000006",
           "#000007",
           "#000008",
           "#000009",
           "#000010"
          ]
         }
        },
        "xaxis": {
         "showgrid": false,
         "tickfont": {
          "color": "rgb(100,100,100)",
          "family": "Arial, sans-serif",
          "size": 12
         },
         "title": {
          "text": "Date"
         }
        },
        "yaxis": {
         "gridcolor": "rgb(220,220,220)",
         "showgrid": true,
         "tickfont": {
          "color": "rgb(100,100,100)",
          "family": "Arial, sans-serif",
          "size": 12
         },
         "title": {
          "text": "Units"
         }
        }
       }
      }
     },
     "metadata": {},
     "output_type": "display_data"
    },
    {
     "data": {
      "application/vnd.plotly.v1+json": {
       "config": {
        "plotlyServerURL": "https://plot.ly"
       },
       "data": [
        {
         "hovertemplate": "<b>Date</b>: %{x}<br><b>Inventory</b>: %{y} units<extra></extra>",
         "marker": {
          "color": "rgb(252, 186, 3)",
          "line": {
           "width": 0
          }
         },
         "name": "Inventory",
         "opacity": 1,
         "type": "bar",
         "x": [
          "2016-08-01",
          "2016-08-02",
          "2016-08-03",
          "2016-08-04",
          "2016-08-05",
          "2016-08-06",
          "2016-08-07",
          "2016-08-08",
          "2016-08-09",
          "2016-08-10",
          "2016-08-11",
          "2016-08-12",
          "2016-08-13",
          "2016-08-14",
          "2016-08-15"
         ],
         "y": [
          26,
          32,
          31,
          23,
          38,
          38,
          37,
          31,
          21,
          22,
          22,
          26,
          27,
          31,
          26
         ]
        },
        {
         "hovertemplate": "<b>Date</b>: %{x}<br><b>Projected Initial Inv.</b>: %{y} units<extra></extra>",
         "marker": {
          "color": "rgb(252, 186, 3)",
          "line": {
           "width": 0
          }
         },
         "name": "Projected Initial Inventory",
         "opacity": 0.6,
         "type": "bar",
         "x": [
          "2016-08-16",
          "2016-08-17",
          "2016-08-18",
          "2016-08-19",
          "2016-08-20",
          "2016-08-21",
          "2016-08-22"
         ],
         "y": [
          30,
          26,
          22,
          33,
          28,
          24,
          33
         ]
        },
        {
         "hovertemplate": "<b>Date</b>: %{x}<br><b>Projected Deliveries</b>: %{y} units<extra></extra>",
         "marker": {
          "color": "rgb(3, 148, 252)",
          "line": {
           "width": 0
          }
         },
         "name": "Projected Deliveries",
         "opacity": 0.7,
         "type": "bar",
         "x": [
          "2016-08-16",
          "2016-08-17",
          "2016-08-18",
          "2016-08-19",
          "2016-08-20",
          "2016-08-21",
          "2016-08-22"
         ],
         "y": [
          14,
          14,
          28,
          14,
          14,
          28,
          14
         ]
        },
        {
         "customdata": [
          16,
          22,
          21,
          13,
          28,
          28,
          27,
          21,
          11,
          12,
          12,
          16,
          17,
          21,
          16
         ],
         "hovertemplate": "<b>Date</b>: %{x}<br><b>Sales</b>: %{customdata} units<extra></extra>",
         "marker": {
          "color": "rgb(23, 191, 99)",
          "line": {
           "width": 0
          }
         },
         "name": "Sales",
         "opacity": 1,
         "type": "bar",
         "x": [
          "2016-08-01",
          "2016-08-02",
          "2016-08-03",
          "2016-08-04",
          "2016-08-05",
          "2016-08-06",
          "2016-08-07",
          "2016-08-08",
          "2016-08-09",
          "2016-08-10",
          "2016-08-11",
          "2016-08-12",
          "2016-08-13",
          "2016-08-14",
          "2016-08-15"
         ],
         "y": [
          -16,
          -22,
          -21,
          -13,
          -28,
          -28,
          -27,
          -21,
          -11,
          -12,
          -12,
          -16,
          -17,
          -21,
          -16
         ]
        },
        {
         "customdata": [
          18,
          18,
          17,
          19,
          18,
          19,
          18
         ],
         "hovertemplate": "<b>Date</b>: %{x}<br><b>Projected Fulfilled</b>: %{customdata} units<extra></extra>",
         "marker": {
          "color": "rgb(23, 191, 99)",
          "line": {
           "width": 0
          }
         },
         "name": "Projected Fulfilled Sales",
         "opacity": 0.6,
         "type": "bar",
         "x": [
          "2016-08-16",
          "2016-08-17",
          "2016-08-18",
          "2016-08-19",
          "2016-08-20",
          "2016-08-21",
          "2016-08-22"
         ],
         "y": [
          -18,
          -18,
          -17,
          -19,
          -18,
          -19,
          -18
         ]
        },
        {
         "customdata": [
          0,
          0,
          0,
          0,
          0,
          0,
          0
         ],
         "hovertemplate": "<b>Date</b>: %{x}<br><b>Projected Unfulfilled</b>: %{customdata} units<extra></extra>",
         "marker": {
          "color": "rgb(52, 73, 94)",
          "line": {
           "width": 0
          }
         },
         "name": "Projected Unfulfilled Sales",
         "opacity": 0.7,
         "type": "bar",
         "x": [
          "2016-08-16",
          "2016-08-17",
          "2016-08-18",
          "2016-08-19",
          "2016-08-20",
          "2016-08-21",
          "2016-08-22"
         ],
         "y": [
          0,
          0,
          0,
          0,
          0,
          0,
          0
         ]
        }
       ],
       "layout": {
        "barmode": "relative",
        "font": {
         "color": "rgb(60,60,60)",
         "family": "Arial, sans-serif"
        },
        "legend": {
         "font": {
          "family": "Arial, sans-serif",
          "size": 10
         },
         "orientation": "h",
         "x": 1,
         "xanchor": "right",
         "y": 1.02,
         "yanchor": "bottom"
        },
        "margin": {
         "b": 60,
         "l": 60,
         "r": 30,
         "t": 80
        },
        "paper_bgcolor": "rgb(248, 248, 255)",
        "plot_bgcolor": "rgb(248, 248, 255)",
        "template": {
         "data": {
          "candlestick": [
           {
            "decreasing": {
             "line": {
              "color": "#000033"
             }
            },
            "increasing": {
             "line": {
              "color": "#000032"
             }
            },
            "type": "candlestick"
           }
          ],
          "contour": [
           {
            "colorscale": [
             [
              0,
              "#000011"
             ],
             [
              0.1111111111111111,
              "#000012"
             ],
             [
              0.2222222222222222,
              "#000013"
             ],
             [
              0.3333333333333333,
              "#000014"
             ],
             [
              0.4444444444444444,
              "#000015"
             ],
             [
              0.5555555555555556,
              "#000016"
             ],
             [
              0.6666666666666666,
              "#000017"
             ],
             [
              0.7777777777777778,
              "#000018"
             ],
             [
              0.8888888888888888,
              "#000019"
             ],
             [
              1,
              "#000020"
             ]
            ],
            "type": "contour"
           }
          ],
          "contourcarpet": [
           {
            "colorscale": [
             [
              0,
              "#000011"
             ],
             [
              0.1111111111111111,
              "#000012"
             ],
             [
              0.2222222222222222,
              "#000013"
             ],
             [
              0.3333333333333333,
              "#000014"
             ],
             [
              0.4444444444444444,
              "#000015"
             ],
             [
              0.5555555555555556,
              "#000016"
             ],
             [
              0.6666666666666666,
              "#000017"
             ],
             [
              0.7777777777777778,
              "#000018"
             ],
             [
              0.8888888888888888,
              "#000019"
             ],
             [
              1,
              "#000020"
             ]
            ],
            "type": "contourcarpet"
           }
          ],
          "heatmap": [
           {
            "colorscale": [
             [
              0,
              "#000011"
             ],
             [
              0.1111111111111111,
              "#000012"
             ],
             [
              0.2222222222222222,
              "#000013"
             ],
             [
              0.3333333333333333,
              "#000014"
             ],
             [
              0.4444444444444444,
              "#000015"
             ],
             [
              0.5555555555555556,
              "#000016"
             ],
             [
              0.6666666666666666,
              "#000017"
             ],
             [
              0.7777777777777778,
              "#000018"
             ],
             [
              0.8888888888888888,
              "#000019"
             ],
             [
              1,
              "#000020"
             ]
            ],
            "type": "heatmap"
           }
          ],
          "histogram2d": [
           {
            "colorscale": [
             [
              0,
              "#000011"
             ],
             [
              0.1111111111111111,
              "#000012"
             ],
             [
              0.2222222222222222,
              "#000013"
             ],
             [
              0.3333333333333333,
              "#000014"
             ],
             [
              0.4444444444444444,
              "#000015"
             ],
             [
              0.5555555555555556,
              "#000016"
             ],
             [
              0.6666666666666666,
              "#000017"
             ],
             [
              0.7777777777777778,
              "#000018"
             ],
             [
              0.8888888888888888,
              "#000019"
             ],
             [
              1,
              "#000020"
             ]
            ],
            "type": "histogram2d"
           }
          ],
          "icicle": [
           {
            "textfont": {
             "color": "white"
            },
            "type": "icicle"
           }
          ],
          "sankey": [
           {
            "textfont": {
             "color": "#000036"
            },
            "type": "sankey"
           }
          ],
          "scatter": [
           {
            "marker": {
             "line": {
              "width": 0
             }
            },
            "type": "scatter"
           }
          ],
          "table": [
           {
            "cells": {
             "fill": {
              "color": "#000038"
             },
             "font": {
              "color": "#000037"
             },
             "line": {
              "color": "#000039"
             }
            },
            "header": {
             "fill": {
              "color": "#000040"
             },
             "font": {
              "color": "#000036"
             },
             "line": {
              "color": "#000039"
             }
            },
            "type": "table"
           }
          ],
          "waterfall": [
           {
            "connector": {
             "line": {
              "color": "#000036",
              "width": 2
             }
            },
            "decreasing": {
             "marker": {
              "color": "#000033"
             }
            },
            "increasing": {
             "marker": {
              "color": "#000032"
             }
            },
            "totals": {
             "marker": {
              "color": "#000034"
             }
            },
            "type": "waterfall"
           }
          ]
         },
         "layout": {
          "coloraxis": {
           "colorscale": [
            [
             0,
             "#000011"
            ],
            [
             0.1111111111111111,
             "#000012"
            ],
            [
             0.2222222222222222,
             "#000013"
            ],
            [
             0.3333333333333333,
             "#000014"
            ],
            [
             0.4444444444444444,
             "#000015"
            ],
            [
             0.5555555555555556,
             "#000016"
            ],
            [
             0.6666666666666666,
             "#000017"
            ],
            [
             0.7777777777777778,
             "#000018"
            ],
            [
             0.8888888888888888,
             "#000019"
            ],
            [
             1,
             "#000020"
            ]
           ]
          },
          "colorscale": {
           "diverging": [
            [
             0,
             "#000021"
            ],
            [
             0.1,
             "#000022"
            ],
            [
             0.2,
             "#000023"
            ],
            [
             0.3,
             "#000024"
            ],
            [
             0.4,
             "#000025"
            ],
            [
             0.5,
             "#000026"
            ],
            [
             0.6,
             "#000027"
            ],
            [
             0.7,
             "#000028"
            ],
            [
             0.8,
             "#000029"
            ],
            [
             0.9,
             "#000030"
            ],
            [
             1,
             "#000031"
            ]
           ],
           "sequential": [
            [
             0,
             "#000011"
            ],
            [
             0.1111111111111111,
             "#000012"
            ],
            [
             0.2222222222222222,
             "#000013"
            ],
            [
             0.3333333333333333,
             "#000014"
            ],
            [
             0.4444444444444444,
             "#000015"
            ],
            [
             0.5555555555555556,
             "#000016"
            ],
            [
             0.6666666666666666,
             "#000017"
            ],
            [
             0.7777777777777778,
             "#000018"
            ],
            [
             0.8888888888888888,
             "#000019"
            ],
            [
             1,
             "#000020"
            ]
           ],
           "sequentialminus": [
            [
             0,
             "#000011"
            ],
            [
             0.1111111111111111,
             "#000012"
            ],
            [
             0.2222222222222222,
             "#000013"
            ],
            [
             0.3333333333333333,
             "#000014"
            ],
            [
             0.4444444444444444,
             "#000015"
            ],
            [
             0.5555555555555556,
             "#000016"
            ],
            [
             0.6666666666666666,
             "#000017"
            ],
            [
             0.7777777777777778,
             "#000018"
            ],
            [
             0.8888888888888888,
             "#000019"
            ],
            [
             1,
             "#000020"
            ]
           ]
          },
          "colorway": [
           "#000001",
           "#000002",
           "#000003",
           "#000004",
           "#000005",
           "#000006",
           "#000007",
           "#000008",
           "#000009",
           "#000010"
          ]
         }
        },
        "xaxis": {
         "showgrid": false,
         "tickfont": {
          "color": "rgb(100,100,100)",
          "family": "Arial, sans-serif",
          "size": 12
         },
         "title": {
          "text": "Date"
         }
        },
        "yaxis": {
         "gridcolor": "rgb(220,220,220)",
         "showgrid": true,
         "tickfont": {
          "color": "rgb(100,100,100)",
          "family": "Arial, sans-serif",
          "size": 12
         },
         "title": {
          "text": "Units"
         }
        }
       }
      }
     },
     "metadata": {},
     "output_type": "display_data"
    },
    {
     "data": {
      "application/vnd.plotly.v1+json": {
       "config": {
        "plotlyServerURL": "https://plot.ly"
       },
       "data": [
        {
         "hovertemplate": "<b>Date</b>: %{x}<br><b>Inventory</b>: %{y} units<extra></extra>",
         "marker": {
          "color": "rgb(252, 186, 3)",
          "line": {
           "width": 0
          }
         },
         "name": "Inventory",
         "opacity": 1,
         "type": "bar",
         "x": [
          "2016-08-01",
          "2016-08-02",
          "2016-08-03",
          "2016-08-04",
          "2016-08-05",
          "2016-08-06",
          "2016-08-07",
          "2016-08-08",
          "2016-08-09",
          "2016-08-10",
          "2016-08-11",
          "2016-08-12",
          "2016-08-13",
          "2016-08-14",
          "2016-08-15"
         ],
         "y": [
          40,
          27,
          37,
          28,
          21,
          30,
          31,
          27,
          24,
          32,
          24,
          30,
          23,
          26,
          32
         ]
        },
        {
         "hovertemplate": "<b>Date</b>: %{x}<br><b>Projected Initial Inv.</b>: %{y} units<extra></extra>",
         "marker": {
          "color": "rgb(252, 186, 3)",
          "line": {
           "width": 0
          }
         },
         "name": "Projected Initial Inventory",
         "opacity": 0.6,
         "type": "bar",
         "x": [
          "2016-08-16",
          "2016-08-17",
          "2016-08-18",
          "2016-08-19",
          "2016-08-20",
          "2016-08-21",
          "2016-08-22"
         ],
         "y": [
          30,
          41,
          31,
          31,
          21,
          22,
          23
         ]
        },
        {
         "hovertemplate": "<b>Date</b>: %{x}<br><b>Projected Deliveries</b>: %{y} units<extra></extra>",
         "marker": {
          "color": "rgb(3, 148, 252)",
          "line": {
           "width": 0
          }
         },
         "name": "Projected Deliveries",
         "opacity": 0.7,
         "type": "bar",
         "x": [
          "2016-08-16",
          "2016-08-17",
          "2016-08-18",
          "2016-08-19",
          "2016-08-20",
          "2016-08-21",
          "2016-08-22"
         ],
         "y": [
          30,
          10,
          16,
          10,
          20,
          20,
          16
         ]
        },
        {
         "customdata": [
          30,
          17,
          27,
          18,
          11,
          20,
          21,
          17,
          14,
          22,
          14,
          20,
          13,
          16,
          22
         ],
         "hovertemplate": "<b>Date</b>: %{x}<br><b>Sales</b>: %{customdata} units<extra></extra>",
         "marker": {
          "color": "rgb(23, 191, 99)",
          "line": {
           "width": 0
          }
         },
         "name": "Sales",
         "opacity": 1,
         "type": "bar",
         "x": [
          "2016-08-01",
          "2016-08-02",
          "2016-08-03",
          "2016-08-04",
          "2016-08-05",
          "2016-08-06",
          "2016-08-07",
          "2016-08-08",
          "2016-08-09",
          "2016-08-10",
          "2016-08-11",
          "2016-08-12",
          "2016-08-13",
          "2016-08-14",
          "2016-08-15"
         ],
         "y": [
          -30,
          -17,
          -27,
          -18,
          -11,
          -20,
          -21,
          -17,
          -14,
          -22,
          -14,
          -20,
          -13,
          -16,
          -22
         ]
        },
        {
         "customdata": [
          19,
          20,
          16,
          20,
          19,
          19,
          19
         ],
         "hovertemplate": "<b>Date</b>: %{x}<br><b>Projected Fulfilled</b>: %{customdata} units<extra></extra>",
         "marker": {
          "color": "rgb(23, 191, 99)",
          "line": {
           "width": 0
          }
         },
         "name": "Projected Fulfilled Sales",
         "opacity": 0.6,
         "type": "bar",
         "x": [
          "2016-08-16",
          "2016-08-17",
          "2016-08-18",
          "2016-08-19",
          "2016-08-20",
          "2016-08-21",
          "2016-08-22"
         ],
         "y": [
          -19,
          -20,
          -16,
          -20,
          -19,
          -19,
          -19
         ]
        },
        {
         "customdata": [
          0,
          0,
          1,
          0,
          0,
          0,
          0
         ],
         "hovertemplate": "<b>Date</b>: %{x}<br><b>Projected Unfulfilled</b>: %{customdata} units<extra></extra>",
         "marker": {
          "color": "rgb(52, 73, 94)",
          "line": {
           "width": 0
          }
         },
         "name": "Projected Unfulfilled Sales",
         "opacity": 0.7,
         "type": "bar",
         "x": [
          "2016-08-16",
          "2016-08-17",
          "2016-08-18",
          "2016-08-19",
          "2016-08-20",
          "2016-08-21",
          "2016-08-22"
         ],
         "y": [
          0,
          0,
          -1,
          0,
          0,
          0,
          0
         ]
        }
       ],
       "layout": {
        "barmode": "relative",
        "font": {
         "color": "rgb(60,60,60)",
         "family": "Arial, sans-serif"
        },
        "legend": {
         "font": {
          "family": "Arial, sans-serif",
          "size": 10
         },
         "orientation": "h",
         "x": 1,
         "xanchor": "right",
         "y": 1.02,
         "yanchor": "bottom"
        },
        "margin": {
         "b": 60,
         "l": 60,
         "r": 30,
         "t": 80
        },
        "paper_bgcolor": "rgb(248, 248, 255)",
        "plot_bgcolor": "rgb(248, 248, 255)",
        "template": {
         "data": {
          "candlestick": [
           {
            "decreasing": {
             "line": {
              "color": "#000033"
             }
            },
            "increasing": {
             "line": {
              "color": "#000032"
             }
            },
            "type": "candlestick"
           }
          ],
          "contour": [
           {
            "colorscale": [
             [
              0,
              "#000011"
             ],
             [
              0.1111111111111111,
              "#000012"
             ],
             [
              0.2222222222222222,
              "#000013"
             ],
             [
              0.3333333333333333,
              "#000014"
             ],
             [
              0.4444444444444444,
              "#000015"
             ],
             [
              0.5555555555555556,
              "#000016"
             ],
             [
              0.6666666666666666,
              "#000017"
             ],
             [
              0.7777777777777778,
              "#000018"
             ],
             [
              0.8888888888888888,
              "#000019"
             ],
             [
              1,
              "#000020"
             ]
            ],
            "type": "contour"
           }
          ],
          "contourcarpet": [
           {
            "colorscale": [
             [
              0,
              "#000011"
             ],
             [
              0.1111111111111111,
              "#000012"
             ],
             [
              0.2222222222222222,
              "#000013"
             ],
             [
              0.3333333333333333,
              "#000014"
             ],
             [
              0.4444444444444444,
              "#000015"
             ],
             [
              0.5555555555555556,
              "#000016"
             ],
             [
              0.6666666666666666,
              "#000017"
             ],
             [
              0.7777777777777778,
              "#000018"
             ],
             [
              0.8888888888888888,
              "#000019"
             ],
             [
              1,
              "#000020"
             ]
            ],
            "type": "contourcarpet"
           }
          ],
          "heatmap": [
           {
            "colorscale": [
             [
              0,
              "#000011"
             ],
             [
              0.1111111111111111,
              "#000012"
             ],
             [
              0.2222222222222222,
              "#000013"
             ],
             [
              0.3333333333333333,
              "#000014"
             ],
             [
              0.4444444444444444,
              "#000015"
             ],
             [
              0.5555555555555556,
              "#000016"
             ],
             [
              0.6666666666666666,
              "#000017"
             ],
             [
              0.7777777777777778,
              "#000018"
             ],
             [
              0.8888888888888888,
              "#000019"
             ],
             [
              1,
              "#000020"
             ]
            ],
            "type": "heatmap"
           }
          ],
          "histogram2d": [
           {
            "colorscale": [
             [
              0,
              "#000011"
             ],
             [
              0.1111111111111111,
              "#000012"
             ],
             [
              0.2222222222222222,
              "#000013"
             ],
             [
              0.3333333333333333,
              "#000014"
             ],
             [
              0.4444444444444444,
              "#000015"
             ],
             [
              0.5555555555555556,
              "#000016"
             ],
             [
              0.6666666666666666,
              "#000017"
             ],
             [
              0.7777777777777778,
              "#000018"
             ],
             [
              0.8888888888888888,
              "#000019"
             ],
             [
              1,
              "#000020"
             ]
            ],
            "type": "histogram2d"
           }
          ],
          "icicle": [
           {
            "textfont": {
             "color": "white"
            },
            "type": "icicle"
           }
          ],
          "sankey": [
           {
            "textfont": {
             "color": "#000036"
            },
            "type": "sankey"
           }
          ],
          "scatter": [
           {
            "marker": {
             "line": {
              "width": 0
             }
            },
            "type": "scatter"
           }
          ],
          "table": [
           {
            "cells": {
             "fill": {
              "color": "#000038"
             },
             "font": {
              "color": "#000037"
             },
             "line": {
              "color": "#000039"
             }
            },
            "header": {
             "fill": {
              "color": "#000040"
             },
             "font": {
              "color": "#000036"
             },
             "line": {
              "color": "#000039"
             }
            },
            "type": "table"
           }
          ],
          "waterfall": [
           {
            "connector": {
             "line": {
              "color": "#000036",
              "width": 2
             }
            },
            "decreasing": {
             "marker": {
              "color": "#000033"
             }
            },
            "increasing": {
             "marker": {
              "color": "#000032"
             }
            },
            "totals": {
             "marker": {
              "color": "#000034"
             }
            },
            "type": "waterfall"
           }
          ]
         },
         "layout": {
          "coloraxis": {
           "colorscale": [
            [
             0,
             "#000011"
            ],
            [
             0.1111111111111111,
             "#000012"
            ],
            [
             0.2222222222222222,
             "#000013"
            ],
            [
             0.3333333333333333,
             "#000014"
            ],
            [
             0.4444444444444444,
             "#000015"
            ],
            [
             0.5555555555555556,
             "#000016"
            ],
            [
             0.6666666666666666,
             "#000017"
            ],
            [
             0.7777777777777778,
             "#000018"
            ],
            [
             0.8888888888888888,
             "#000019"
            ],
            [
             1,
             "#000020"
            ]
           ]
          },
          "colorscale": {
           "diverging": [
            [
             0,
             "#000021"
            ],
            [
             0.1,
             "#000022"
            ],
            [
             0.2,
             "#000023"
            ],
            [
             0.3,
             "#000024"
            ],
            [
             0.4,
             "#000025"
            ],
            [
             0.5,
             "#000026"
            ],
            [
             0.6,
             "#000027"
            ],
            [
             0.7,
             "#000028"
            ],
            [
             0.8,
             "#000029"
            ],
            [
             0.9,
             "#000030"
            ],
            [
             1,
             "#000031"
            ]
           ],
           "sequential": [
            [
             0,
             "#000011"
            ],
            [
             0.1111111111111111,
             "#000012"
            ],
            [
             0.2222222222222222,
             "#000013"
            ],
            [
             0.3333333333333333,
             "#000014"
            ],
            [
             0.4444444444444444,
             "#000015"
            ],
            [
             0.5555555555555556,
             "#000016"
            ],
            [
             0.6666666666666666,
             "#000017"
            ],
            [
             0.7777777777777778,
             "#000018"
            ],
            [
             0.8888888888888888,
             "#000019"
            ],
            [
             1,
             "#000020"
            ]
           ],
           "sequentialminus": [
            [
             0,
             "#000011"
            ],
            [
             0.1111111111111111,
             "#000012"
            ],
            [
             0.2222222222222222,
             "#000013"
            ],
            [
             0.3333333333333333,
             "#000014"
            ],
            [
             0.4444444444444444,
             "#000015"
            ],
            [
             0.5555555555555556,
             "#000016"
            ],
            [
             0.6666666666666666,
             "#000017"
            ],
            [
             0.7777777777777778,
             "#000018"
            ],
            [
             0.8888888888888888,
             "#000019"
            ],
            [
             1,
             "#000020"
            ]
           ]
          },
          "colorway": [
           "#000001",
           "#000002",
           "#000003",
           "#000004",
           "#000005",
           "#000006",
           "#000007",
           "#000008",
           "#000009",
           "#000010"
          ]
         }
        },
        "xaxis": {
         "showgrid": false,
         "tickfont": {
          "color": "rgb(100,100,100)",
          "family": "Arial, sans-serif",
          "size": 12
         },
         "title": {
          "text": "Date"
         }
        },
        "yaxis": {
         "gridcolor": "rgb(220,220,220)",
         "showgrid": true,
         "tickfont": {
          "color": "rgb(100,100,100)",
          "family": "Arial, sans-serif",
          "size": 12
         },
         "title": {
          "text": "Units"
         }
        }
       }
      }
     },
     "metadata": {},
     "output_type": "display_data"
    },
    {
     "data": {
      "application/vnd.plotly.v1+json": {
       "config": {
        "plotlyServerURL": "https://plot.ly"
       },
       "data": [
        {
         "hovertemplate": "<b>Date</b>: %{x}<br><b>Inventory</b>: %{y} units<extra></extra>",
         "marker": {
          "color": "rgb(252, 186, 3)",
          "line": {
           "width": 0
          }
         },
         "name": "Inventory",
         "opacity": 1,
         "type": "bar",
         "x": [
          "2016-08-01",
          "2016-08-02",
          "2016-08-03",
          "2016-08-04",
          "2016-08-05",
          "2016-08-06",
          "2016-08-07",
          "2016-08-08",
          "2016-08-09",
          "2016-08-10",
          "2016-08-11",
          "2016-08-12",
          "2016-08-13",
          "2016-08-14",
          "2016-08-15"
         ],
         "y": [
          123,
          80,
          106,
          69,
          99,
          131,
          139,
          81,
          80,
          86,
          65,
          117,
          103,
          119,
          78
         ]
        },
        {
         "hovertemplate": "<b>Date</b>: %{x}<br><b>Projected Initial Inv.</b>: %{y} units<extra></extra>",
         "marker": {
          "color": "rgb(252, 186, 3)",
          "line": {
           "width": 0
          }
         },
         "name": "Projected Initial Inventory",
         "opacity": 0.6,
         "type": "bar",
         "x": [
          "2016-08-16",
          "2016-08-17",
          "2016-08-18",
          "2016-08-19",
          "2016-08-20",
          "2016-08-21",
          "2016-08-22"
         ],
         "y": [
          30,
          20,
          20,
          20,
          20,
          20,
          20
         ]
        },
        {
         "hovertemplate": "<b>Date</b>: %{x}<br><b>Projected Deliveries</b>: %{y} units<extra></extra>",
         "marker": {
          "color": "rgb(3, 148, 252)",
          "line": {
           "width": 0
          }
         },
         "name": "Projected Deliveries",
         "opacity": 0.7,
         "type": "bar",
         "x": [
          "2016-08-16",
          "2016-08-17",
          "2016-08-18",
          "2016-08-19",
          "2016-08-20",
          "2016-08-21",
          "2016-08-22"
         ],
         "y": [
          52,
          80,
          68,
          78,
          84,
          82,
          74
         ]
        },
        {
         "customdata": [
          113,
          70,
          96,
          59,
          89,
          121,
          129,
          71,
          70,
          76,
          55,
          107,
          93,
          109,
          68
         ],
         "hovertemplate": "<b>Date</b>: %{x}<br><b>Sales</b>: %{customdata} units<extra></extra>",
         "marker": {
          "color": "rgb(23, 191, 99)",
          "line": {
           "width": 0
          }
         },
         "name": "Sales",
         "opacity": 1,
         "type": "bar",
         "x": [
          "2016-08-01",
          "2016-08-02",
          "2016-08-03",
          "2016-08-04",
          "2016-08-05",
          "2016-08-06",
          "2016-08-07",
          "2016-08-08",
          "2016-08-09",
          "2016-08-10",
          "2016-08-11",
          "2016-08-12",
          "2016-08-13",
          "2016-08-14",
          "2016-08-15"
         ],
         "y": [
          -113,
          -70,
          -96,
          -59,
          -89,
          -121,
          -129,
          -71,
          -70,
          -76,
          -55,
          -107,
          -93,
          -109,
          -68
         ]
        },
        {
         "customdata": [
          62,
          80,
          68,
          78,
          84,
          82,
          74
         ],
         "hovertemplate": "<b>Date</b>: %{x}<br><b>Projected Fulfilled</b>: %{customdata} units<extra></extra>",
         "marker": {
          "color": "rgb(23, 191, 99)",
          "line": {
           "width": 0
          }
         },
         "name": "Projected Fulfilled Sales",
         "opacity": 0.6,
         "type": "bar",
         "x": [
          "2016-08-16",
          "2016-08-17",
          "2016-08-18",
          "2016-08-19",
          "2016-08-20",
          "2016-08-21",
          "2016-08-22"
         ],
         "y": [
          -62,
          -80,
          -68,
          -78,
          -84,
          -82,
          -74
         ]
        },
        {
         "customdata": [
          12,
          5,
          3,
          0,
          1,
          0,
          2
         ],
         "hovertemplate": "<b>Date</b>: %{x}<br><b>Projected Unfulfilled</b>: %{customdata} units<extra></extra>",
         "marker": {
          "color": "rgb(52, 73, 94)",
          "line": {
           "width": 0
          }
         },
         "name": "Projected Unfulfilled Sales",
         "opacity": 0.7,
         "type": "bar",
         "x": [
          "2016-08-16",
          "2016-08-17",
          "2016-08-18",
          "2016-08-19",
          "2016-08-20",
          "2016-08-21",
          "2016-08-22"
         ],
         "y": [
          -12,
          -5,
          -3,
          0,
          -1,
          0,
          -2
         ]
        }
       ],
       "layout": {
        "barmode": "relative",
        "font": {
         "color": "rgb(60,60,60)",
         "family": "Arial, sans-serif"
        },
        "legend": {
         "font": {
          "family": "Arial, sans-serif",
          "size": 10
         },
         "orientation": "h",
         "x": 1,
         "xanchor": "right",
         "y": 1.02,
         "yanchor": "bottom"
        },
        "margin": {
         "b": 60,
         "l": 60,
         "r": 30,
         "t": 80
        },
        "paper_bgcolor": "rgb(248, 248, 255)",
        "plot_bgcolor": "rgb(248, 248, 255)",
        "template": {
         "data": {
          "candlestick": [
           {
            "decreasing": {
             "line": {
              "color": "#000033"
             }
            },
            "increasing": {
             "line": {
              "color": "#000032"
             }
            },
            "type": "candlestick"
           }
          ],
          "contour": [
           {
            "colorscale": [
             [
              0,
              "#000011"
             ],
             [
              0.1111111111111111,
              "#000012"
             ],
             [
              0.2222222222222222,
              "#000013"
             ],
             [
              0.3333333333333333,
              "#000014"
             ],
             [
              0.4444444444444444,
              "#000015"
             ],
             [
              0.5555555555555556,
              "#000016"
             ],
             [
              0.6666666666666666,
              "#000017"
             ],
             [
              0.7777777777777778,
              "#000018"
             ],
             [
              0.8888888888888888,
              "#000019"
             ],
             [
              1,
              "#000020"
             ]
            ],
            "type": "contour"
           }
          ],
          "contourcarpet": [
           {
            "colorscale": [
             [
              0,
              "#000011"
             ],
             [
              0.1111111111111111,
              "#000012"
             ],
             [
              0.2222222222222222,
              "#000013"
             ],
             [
              0.3333333333333333,
              "#000014"
             ],
             [
              0.4444444444444444,
              "#000015"
             ],
             [
              0.5555555555555556,
              "#000016"
             ],
             [
              0.6666666666666666,
              "#000017"
             ],
             [
              0.7777777777777778,
              "#000018"
             ],
             [
              0.8888888888888888,
              "#000019"
             ],
             [
              1,
              "#000020"
             ]
            ],
            "type": "contourcarpet"
           }
          ],
          "heatmap": [
           {
            "colorscale": [
             [
              0,
              "#000011"
             ],
             [
              0.1111111111111111,
              "#000012"
             ],
             [
              0.2222222222222222,
              "#000013"
             ],
             [
              0.3333333333333333,
              "#000014"
             ],
             [
              0.4444444444444444,
              "#000015"
             ],
             [
              0.5555555555555556,
              "#000016"
             ],
             [
              0.6666666666666666,
              "#000017"
             ],
             [
              0.7777777777777778,
              "#000018"
             ],
             [
              0.8888888888888888,
              "#000019"
             ],
             [
              1,
              "#000020"
             ]
            ],
            "type": "heatmap"
           }
          ],
          "histogram2d": [
           {
            "colorscale": [
             [
              0,
              "#000011"
             ],
             [
              0.1111111111111111,
              "#000012"
             ],
             [
              0.2222222222222222,
              "#000013"
             ],
             [
              0.3333333333333333,
              "#000014"
             ],
             [
              0.4444444444444444,
              "#000015"
             ],
             [
              0.5555555555555556,
              "#000016"
             ],
             [
              0.6666666666666666,
              "#000017"
             ],
             [
              0.7777777777777778,
              "#000018"
             ],
             [
              0.8888888888888888,
              "#000019"
             ],
             [
              1,
              "#000020"
             ]
            ],
            "type": "histogram2d"
           }
          ],
          "icicle": [
           {
            "textfont": {
             "color": "white"
            },
            "type": "icicle"
           }
          ],
          "sankey": [
           {
            "textfont": {
             "color": "#000036"
            },
            "type": "sankey"
           }
          ],
          "scatter": [
           {
            "marker": {
             "line": {
              "width": 0
             }
            },
            "type": "scatter"
           }
          ],
          "table": [
           {
            "cells": {
             "fill": {
              "color": "#000038"
             },
             "font": {
              "color": "#000037"
             },
             "line": {
              "color": "#000039"
             }
            },
            "header": {
             "fill": {
              "color": "#000040"
             },
             "font": {
              "color": "#000036"
             },
             "line": {
              "color": "#000039"
             }
            },
            "type": "table"
           }
          ],
          "waterfall": [
           {
            "connector": {
             "line": {
              "color": "#000036",
              "width": 2
             }
            },
            "decreasing": {
             "marker": {
              "color": "#000033"
             }
            },
            "increasing": {
             "marker": {
              "color": "#000032"
             }
            },
            "totals": {
             "marker": {
              "color": "#000034"
             }
            },
            "type": "waterfall"
           }
          ]
         },
         "layout": {
          "coloraxis": {
           "colorscale": [
            [
             0,
             "#000011"
            ],
            [
             0.1111111111111111,
             "#000012"
            ],
            [
             0.2222222222222222,
             "#000013"
            ],
            [
             0.3333333333333333,
             "#000014"
            ],
            [
             0.4444444444444444,
             "#000015"
            ],
            [
             0.5555555555555556,
             "#000016"
            ],
            [
             0.6666666666666666,
             "#000017"
            ],
            [
             0.7777777777777778,
             "#000018"
            ],
            [
             0.8888888888888888,
             "#000019"
            ],
            [
             1,
             "#000020"
            ]
           ]
          },
          "colorscale": {
           "diverging": [
            [
             0,
             "#000021"
            ],
            [
             0.1,
             "#000022"
            ],
            [
             0.2,
             "#000023"
            ],
            [
             0.3,
             "#000024"
            ],
            [
             0.4,
             "#000025"
            ],
            [
             0.5,
             "#000026"
            ],
            [
             0.6,
             "#000027"
            ],
            [
             0.7,
             "#000028"
            ],
            [
             0.8,
             "#000029"
            ],
            [
             0.9,
             "#000030"
            ],
            [
             1,
             "#000031"
            ]
           ],
           "sequential": [
            [
             0,
             "#000011"
            ],
            [
             0.1111111111111111,
             "#000012"
            ],
            [
             0.2222222222222222,
             "#000013"
            ],
            [
             0.3333333333333333,
             "#000014"
            ],
            [
             0.4444444444444444,
             "#000015"
            ],
            [
             0.5555555555555556,
             "#000016"
            ],
            [
             0.6666666666666666,
             "#000017"
            ],
            [
             0.7777777777777778,
             "#000018"
            ],
            [
             0.8888888888888888,
             "#000019"
            ],
            [
             1,
             "#000020"
            ]
           ],
           "sequentialminus": [
            [
             0,
             "#000011"
            ],
            [
             0.1111111111111111,
             "#000012"
            ],
            [
             0.2222222222222222,
             "#000013"
            ],
            [
             0.3333333333333333,
             "#000014"
            ],
            [
             0.4444444444444444,
             "#000015"
            ],
            [
             0.5555555555555556,
             "#000016"
            ],
            [
             0.6666666666666666,
             "#000017"
            ],
            [
             0.7777777777777778,
             "#000018"
            ],
            [
             0.8888888888888888,
             "#000019"
            ],
            [
             1,
             "#000020"
            ]
           ]
          },
          "colorway": [
           "#000001",
           "#000002",
           "#000003",
           "#000004",
           "#000005",
           "#000006",
           "#000007",
           "#000008",
           "#000009",
           "#000010"
          ]
         }
        },
        "xaxis": {
         "showgrid": false,
         "tickfont": {
          "color": "rgb(100,100,100)",
          "family": "Arial, sans-serif",
          "size": 12
         },
         "title": {
          "text": "Date"
         }
        },
        "yaxis": {
         "gridcolor": "rgb(220,220,220)",
         "showgrid": true,
         "tickfont": {
          "color": "rgb(100,100,100)",
          "family": "Arial, sans-serif",
          "size": 12
         },
         "title": {
          "text": "Units"
         }
        }
       }
      }
     },
     "metadata": {},
     "output_type": "display_data"
    },
    {
     "data": {
      "application/vnd.plotly.v1+json": {
       "config": {
        "plotlyServerURL": "https://plot.ly"
       },
       "data": [
        {
         "hovertemplate": "<b>Date</b>: %{x}<br><b>Inventory</b>: %{y} units<extra></extra>",
         "marker": {
          "color": "rgb(252, 186, 3)",
          "line": {
           "width": 0
          }
         },
         "name": "Inventory",
         "opacity": 1,
         "type": "bar",
         "x": [
          "2016-08-01",
          "2016-08-02",
          "2016-08-03",
          "2016-08-04",
          "2016-08-05",
          "2016-08-06",
          "2016-08-07",
          "2016-08-08",
          "2016-08-09",
          "2016-08-10",
          "2016-08-11",
          "2016-08-12",
          "2016-08-13",
          "2016-08-14",
          "2016-08-15"
         ],
         "y": [
          36,
          40,
          46,
          33,
          40,
          34,
          40,
          31,
          28,
          30,
          38,
          44,
          33,
          43,
          38
         ]
        },
        {
         "hovertemplate": "<b>Date</b>: %{x}<br><b>Projected Initial Inv.</b>: %{y} units<extra></extra>",
         "marker": {
          "color": "rgb(252, 186, 3)",
          "line": {
           "width": 0
          }
         },
         "name": "Projected Initial Inventory",
         "opacity": 0.6,
         "type": "bar",
         "x": [
          "2016-08-16",
          "2016-08-17",
          "2016-08-18",
          "2016-08-19",
          "2016-08-20",
          "2016-08-21",
          "2016-08-22"
         ],
         "y": [
          30,
          24,
          26,
          50,
          23,
          25,
          20
         ]
        },
        {
         "hovertemplate": "<b>Date</b>: %{x}<br><b>Projected Deliveries</b>: %{y} units<extra></extra>",
         "marker": {
          "color": "rgb(3, 148, 252)",
          "line": {
           "width": 0
          }
         },
         "name": "Projected Deliveries",
         "opacity": 0.7,
         "type": "bar",
         "x": [
          "2016-08-16",
          "2016-08-17",
          "2016-08-18",
          "2016-08-19",
          "2016-08-20",
          "2016-08-21",
          "2016-08-22"
         ],
         "y": [
          20,
          30,
          50,
          0,
          32,
          20,
          26
         ]
        },
        {
         "customdata": [
          26,
          30,
          36,
          23,
          30,
          24,
          30,
          21,
          18,
          20,
          28,
          34,
          23,
          33,
          28
         ],
         "hovertemplate": "<b>Date</b>: %{x}<br><b>Sales</b>: %{customdata} units<extra></extra>",
         "marker": {
          "color": "rgb(23, 191, 99)",
          "line": {
           "width": 0
          }
         },
         "name": "Sales",
         "opacity": 1,
         "type": "bar",
         "x": [
          "2016-08-01",
          "2016-08-02",
          "2016-08-03",
          "2016-08-04",
          "2016-08-05",
          "2016-08-06",
          "2016-08-07",
          "2016-08-08",
          "2016-08-09",
          "2016-08-10",
          "2016-08-11",
          "2016-08-12",
          "2016-08-13",
          "2016-08-14",
          "2016-08-15"
         ],
         "y": [
          -26,
          -30,
          -36,
          -23,
          -30,
          -24,
          -30,
          -21,
          -18,
          -20,
          -28,
          -34,
          -23,
          -33,
          -28
         ]
        },
        {
         "customdata": [
          26,
          28,
          26,
          27,
          30,
          25,
          26
         ],
         "hovertemplate": "<b>Date</b>: %{x}<br><b>Projected Fulfilled</b>: %{customdata} units<extra></extra>",
         "marker": {
          "color": "rgb(23, 191, 99)",
          "line": {
           "width": 0
          }
         },
         "name": "Projected Fulfilled Sales",
         "opacity": 0.6,
         "type": "bar",
         "x": [
          "2016-08-16",
          "2016-08-17",
          "2016-08-18",
          "2016-08-19",
          "2016-08-20",
          "2016-08-21",
          "2016-08-22"
         ],
         "y": [
          -26,
          -28,
          -26,
          -27,
          -30,
          -25,
          -26
         ]
        },
        {
         "customdata": [
          0,
          0,
          0,
          0,
          0,
          0,
          0
         ],
         "hovertemplate": "<b>Date</b>: %{x}<br><b>Projected Unfulfilled</b>: %{customdata} units<extra></extra>",
         "marker": {
          "color": "rgb(52, 73, 94)",
          "line": {
           "width": 0
          }
         },
         "name": "Projected Unfulfilled Sales",
         "opacity": 0.7,
         "type": "bar",
         "x": [
          "2016-08-16",
          "2016-08-17",
          "2016-08-18",
          "2016-08-19",
          "2016-08-20",
          "2016-08-21",
          "2016-08-22"
         ],
         "y": [
          0,
          0,
          0,
          0,
          0,
          0,
          0
         ]
        }
       ],
       "layout": {
        "barmode": "relative",
        "font": {
         "color": "rgb(60,60,60)",
         "family": "Arial, sans-serif"
        },
        "legend": {
         "font": {
          "family": "Arial, sans-serif",
          "size": 10
         },
         "orientation": "h",
         "x": 1,
         "xanchor": "right",
         "y": 1.02,
         "yanchor": "bottom"
        },
        "margin": {
         "b": 60,
         "l": 60,
         "r": 30,
         "t": 80
        },
        "paper_bgcolor": "rgb(248, 248, 255)",
        "plot_bgcolor": "rgb(248, 248, 255)",
        "template": {
         "data": {
          "candlestick": [
           {
            "decreasing": {
             "line": {
              "color": "#000033"
             }
            },
            "increasing": {
             "line": {
              "color": "#000032"
             }
            },
            "type": "candlestick"
           }
          ],
          "contour": [
           {
            "colorscale": [
             [
              0,
              "#000011"
             ],
             [
              0.1111111111111111,
              "#000012"
             ],
             [
              0.2222222222222222,
              "#000013"
             ],
             [
              0.3333333333333333,
              "#000014"
             ],
             [
              0.4444444444444444,
              "#000015"
             ],
             [
              0.5555555555555556,
              "#000016"
             ],
             [
              0.6666666666666666,
              "#000017"
             ],
             [
              0.7777777777777778,
              "#000018"
             ],
             [
              0.8888888888888888,
              "#000019"
             ],
             [
              1,
              "#000020"
             ]
            ],
            "type": "contour"
           }
          ],
          "contourcarpet": [
           {
            "colorscale": [
             [
              0,
              "#000011"
             ],
             [
              0.1111111111111111,
              "#000012"
             ],
             [
              0.2222222222222222,
              "#000013"
             ],
             [
              0.3333333333333333,
              "#000014"
             ],
             [
              0.4444444444444444,
              "#000015"
             ],
             [
              0.5555555555555556,
              "#000016"
             ],
             [
              0.6666666666666666,
              "#000017"
             ],
             [
              0.7777777777777778,
              "#000018"
             ],
             [
              0.8888888888888888,
              "#000019"
             ],
             [
              1,
              "#000020"
             ]
            ],
            "type": "contourcarpet"
           }
          ],
          "heatmap": [
           {
            "colorscale": [
             [
              0,
              "#000011"
             ],
             [
              0.1111111111111111,
              "#000012"
             ],
             [
              0.2222222222222222,
              "#000013"
             ],
             [
              0.3333333333333333,
              "#000014"
             ],
             [
              0.4444444444444444,
              "#000015"
             ],
             [
              0.5555555555555556,
              "#000016"
             ],
             [
              0.6666666666666666,
              "#000017"
             ],
             [
              0.7777777777777778,
              "#000018"
             ],
             [
              0.8888888888888888,
              "#000019"
             ],
             [
              1,
              "#000020"
             ]
            ],
            "type": "heatmap"
           }
          ],
          "histogram2d": [
           {
            "colorscale": [
             [
              0,
              "#000011"
             ],
             [
              0.1111111111111111,
              "#000012"
             ],
             [
              0.2222222222222222,
              "#000013"
             ],
             [
              0.3333333333333333,
              "#000014"
             ],
             [
              0.4444444444444444,
              "#000015"
             ],
             [
              0.5555555555555556,
              "#000016"
             ],
             [
              0.6666666666666666,
              "#000017"
             ],
             [
              0.7777777777777778,
              "#000018"
             ],
             [
              0.8888888888888888,
              "#000019"
             ],
             [
              1,
              "#000020"
             ]
            ],
            "type": "histogram2d"
           }
          ],
          "icicle": [
           {
            "textfont": {
             "color": "white"
            },
            "type": "icicle"
           }
          ],
          "sankey": [
           {
            "textfont": {
             "color": "#000036"
            },
            "type": "sankey"
           }
          ],
          "scatter": [
           {
            "marker": {
             "line": {
              "width": 0
             }
            },
            "type": "scatter"
           }
          ],
          "table": [
           {
            "cells": {
             "fill": {
              "color": "#000038"
             },
             "font": {
              "color": "#000037"
             },
             "line": {
              "color": "#000039"
             }
            },
            "header": {
             "fill": {
              "color": "#000040"
             },
             "font": {
              "color": "#000036"
             },
             "line": {
              "color": "#000039"
             }
            },
            "type": "table"
           }
          ],
          "waterfall": [
           {
            "connector": {
             "line": {
              "color": "#000036",
              "width": 2
             }
            },
            "decreasing": {
             "marker": {
              "color": "#000033"
             }
            },
            "increasing": {
             "marker": {
              "color": "#000032"
             }
            },
            "totals": {
             "marker": {
              "color": "#000034"
             }
            },
            "type": "waterfall"
           }
          ]
         },
         "layout": {
          "coloraxis": {
           "colorscale": [
            [
             0,
             "#000011"
            ],
            [
             0.1111111111111111,
             "#000012"
            ],
            [
             0.2222222222222222,
             "#000013"
            ],
            [
             0.3333333333333333,
             "#000014"
            ],
            [
             0.4444444444444444,
             "#000015"
            ],
            [
             0.5555555555555556,
             "#000016"
            ],
            [
             0.6666666666666666,
             "#000017"
            ],
            [
             0.7777777777777778,
             "#000018"
            ],
            [
             0.8888888888888888,
             "#000019"
            ],
            [
             1,
             "#000020"
            ]
           ]
          },
          "colorscale": {
           "diverging": [
            [
             0,
             "#000021"
            ],
            [
             0.1,
             "#000022"
            ],
            [
             0.2,
             "#000023"
            ],
            [
             0.3,
             "#000024"
            ],
            [
             0.4,
             "#000025"
            ],
            [
             0.5,
             "#000026"
            ],
            [
             0.6,
             "#000027"
            ],
            [
             0.7,
             "#000028"
            ],
            [
             0.8,
             "#000029"
            ],
            [
             0.9,
             "#000030"
            ],
            [
             1,
             "#000031"
            ]
           ],
           "sequential": [
            [
             0,
             "#000011"
            ],
            [
             0.1111111111111111,
             "#000012"
            ],
            [
             0.2222222222222222,
             "#000013"
            ],
            [
             0.3333333333333333,
             "#000014"
            ],
            [
             0.4444444444444444,
             "#000015"
            ],
            [
             0.5555555555555556,
             "#000016"
            ],
            [
             0.6666666666666666,
             "#000017"
            ],
            [
             0.7777777777777778,
             "#000018"
            ],
            [
             0.8888888888888888,
             "#000019"
            ],
            [
             1,
             "#000020"
            ]
           ],
           "sequentialminus": [
            [
             0,
             "#000011"
            ],
            [
             0.1111111111111111,
             "#000012"
            ],
            [
             0.2222222222222222,
             "#000013"
            ],
            [
             0.3333333333333333,
             "#000014"
            ],
            [
             0.4444444444444444,
             "#000015"
            ],
            [
             0.5555555555555556,
             "#000016"
            ],
            [
             0.6666666666666666,
             "#000017"
            ],
            [
             0.7777777777777778,
             "#000018"
            ],
            [
             0.8888888888888888,
             "#000019"
            ],
            [
             1,
             "#000020"
            ]
           ]
          },
          "colorway": [
           "#000001",
           "#000002",
           "#000003",
           "#000004",
           "#000005",
           "#000006",
           "#000007",
           "#000008",
           "#000009",
           "#000010"
          ]
         }
        },
        "xaxis": {
         "showgrid": false,
         "tickfont": {
          "color": "rgb(100,100,100)",
          "family": "Arial, sans-serif",
          "size": 12
         },
         "title": {
          "text": "Date"
         }
        },
        "yaxis": {
         "gridcolor": "rgb(220,220,220)",
         "showgrid": true,
         "tickfont": {
          "color": "rgb(100,100,100)",
          "family": "Arial, sans-serif",
          "size": 12
         },
         "title": {
          "text": "Units"
         }
        }
       }
      }
     },
     "metadata": {},
     "output_type": "display_data"
    },
    {
     "data": {
      "application/vnd.plotly.v1+json": {
       "config": {
        "plotlyServerURL": "https://plot.ly"
       },
       "data": [
        {
         "hovertemplate": "<b>Date</b>: %{x}<br><b>Inventory</b>: %{y} units<extra></extra>",
         "marker": {
          "color": "rgb(252, 186, 3)",
          "line": {
           "width": 0
          }
         },
         "name": "Inventory",
         "opacity": 1,
         "type": "bar",
         "x": [
          "2016-08-01",
          "2016-08-02",
          "2016-08-03",
          "2016-08-04",
          "2016-08-05",
          "2016-08-06",
          "2016-08-07",
          "2016-08-08",
          "2016-08-09",
          "2016-08-10",
          "2016-08-11",
          "2016-08-12",
          "2016-08-13",
          "2016-08-14",
          "2016-08-15"
         ],
         "y": [
          55,
          44,
          55,
          46,
          70,
          75,
          73,
          36,
          44,
          52,
          50,
          88,
          79,
          65,
          49
         ]
        },
        {
         "hovertemplate": "<b>Date</b>: %{x}<br><b>Projected Initial Inv.</b>: %{y} units<extra></extra>",
         "marker": {
          "color": "rgb(252, 186, 3)",
          "line": {
           "width": 0
          }
         },
         "name": "Projected Initial Inventory",
         "opacity": 0.6,
         "type": "bar",
         "x": [
          "2016-08-16",
          "2016-08-17",
          "2016-08-18",
          "2016-08-19",
          "2016-08-20",
          "2016-08-21",
          "2016-08-22"
         ],
         "y": [
          30,
          26,
          37,
          39,
          21,
          21,
          20
         ]
        },
        {
         "hovertemplate": "<b>Date</b>: %{x}<br><b>Projected Deliveries</b>: %{y} units<extra></extra>",
         "marker": {
          "color": "rgb(3, 148, 252)",
          "line": {
           "width": 0
          }
         },
         "name": "Projected Deliveries",
         "opacity": 0.7,
         "type": "bar",
         "x": [
          "2016-08-16",
          "2016-08-17",
          "2016-08-18",
          "2016-08-19",
          "2016-08-20",
          "2016-08-21",
          "2016-08-22"
         ],
         "y": [
          32,
          54,
          42,
          36,
          52,
          52,
          48
         ]
        },
        {
         "customdata": [
          45,
          34,
          45,
          36,
          60,
          65,
          63,
          26,
          34,
          42,
          40,
          78,
          69,
          55,
          39
         ],
         "hovertemplate": "<b>Date</b>: %{x}<br><b>Sales</b>: %{customdata} units<extra></extra>",
         "marker": {
          "color": "rgb(23, 191, 99)",
          "line": {
           "width": 0
          }
         },
         "name": "Sales",
         "opacity": 1,
         "type": "bar",
         "x": [
          "2016-08-01",
          "2016-08-02",
          "2016-08-03",
          "2016-08-04",
          "2016-08-05",
          "2016-08-06",
          "2016-08-07",
          "2016-08-08",
          "2016-08-09",
          "2016-08-10",
          "2016-08-11",
          "2016-08-12",
          "2016-08-13",
          "2016-08-14",
          "2016-08-15"
         ],
         "y": [
          -45,
          -34,
          -45,
          -36,
          -60,
          -65,
          -63,
          -26,
          -34,
          -42,
          -40,
          -78,
          -69,
          -55,
          -39
         ]
        },
        {
         "customdata": [
          36,
          43,
          40,
          54,
          52,
          53,
          40
         ],
         "hovertemplate": "<b>Date</b>: %{x}<br><b>Projected Fulfilled</b>: %{customdata} units<extra></extra>",
         "marker": {
          "color": "rgb(23, 191, 99)",
          "line": {
           "width": 0
          }
         },
         "name": "Projected Fulfilled Sales",
         "opacity": 0.6,
         "type": "bar",
         "x": [
          "2016-08-16",
          "2016-08-17",
          "2016-08-18",
          "2016-08-19",
          "2016-08-20",
          "2016-08-21",
          "2016-08-22"
         ],
         "y": [
          -36,
          -43,
          -40,
          -54,
          -52,
          -53,
          -40
         ]
        },
        {
         "customdata": [
          0,
          0,
          0,
          0,
          0,
          0,
          0
         ],
         "hovertemplate": "<b>Date</b>: %{x}<br><b>Projected Unfulfilled</b>: %{customdata} units<extra></extra>",
         "marker": {
          "color": "rgb(52, 73, 94)",
          "line": {
           "width": 0
          }
         },
         "name": "Projected Unfulfilled Sales",
         "opacity": 0.7,
         "type": "bar",
         "x": [
          "2016-08-16",
          "2016-08-17",
          "2016-08-18",
          "2016-08-19",
          "2016-08-20",
          "2016-08-21",
          "2016-08-22"
         ],
         "y": [
          0,
          0,
          0,
          0,
          0,
          0,
          0
         ]
        }
       ],
       "layout": {
        "barmode": "relative",
        "font": {
         "color": "rgb(60,60,60)",
         "family": "Arial, sans-serif"
        },
        "legend": {
         "font": {
          "family": "Arial, sans-serif",
          "size": 10
         },
         "orientation": "h",
         "x": 1,
         "xanchor": "right",
         "y": 1.02,
         "yanchor": "bottom"
        },
        "margin": {
         "b": 60,
         "l": 60,
         "r": 30,
         "t": 80
        },
        "paper_bgcolor": "rgb(248, 248, 255)",
        "plot_bgcolor": "rgb(248, 248, 255)",
        "template": {
         "data": {
          "candlestick": [
           {
            "decreasing": {
             "line": {
              "color": "#000033"
             }
            },
            "increasing": {
             "line": {
              "color": "#000032"
             }
            },
            "type": "candlestick"
           }
          ],
          "contour": [
           {
            "colorscale": [
             [
              0,
              "#000011"
             ],
             [
              0.1111111111111111,
              "#000012"
             ],
             [
              0.2222222222222222,
              "#000013"
             ],
             [
              0.3333333333333333,
              "#000014"
             ],
             [
              0.4444444444444444,
              "#000015"
             ],
             [
              0.5555555555555556,
              "#000016"
             ],
             [
              0.6666666666666666,
              "#000017"
             ],
             [
              0.7777777777777778,
              "#000018"
             ],
             [
              0.8888888888888888,
              "#000019"
             ],
             [
              1,
              "#000020"
             ]
            ],
            "type": "contour"
           }
          ],
          "contourcarpet": [
           {
            "colorscale": [
             [
              0,
              "#000011"
             ],
             [
              0.1111111111111111,
              "#000012"
             ],
             [
              0.2222222222222222,
              "#000013"
             ],
             [
              0.3333333333333333,
              "#000014"
             ],
             [
              0.4444444444444444,
              "#000015"
             ],
             [
              0.5555555555555556,
              "#000016"
             ],
             [
              0.6666666666666666,
              "#000017"
             ],
             [
              0.7777777777777778,
              "#000018"
             ],
             [
              0.8888888888888888,
              "#000019"
             ],
             [
              1,
              "#000020"
             ]
            ],
            "type": "contourcarpet"
           }
          ],
          "heatmap": [
           {
            "colorscale": [
             [
              0,
              "#000011"
             ],
             [
              0.1111111111111111,
              "#000012"
             ],
             [
              0.2222222222222222,
              "#000013"
             ],
             [
              0.3333333333333333,
              "#000014"
             ],
             [
              0.4444444444444444,
              "#000015"
             ],
             [
              0.5555555555555556,
              "#000016"
             ],
             [
              0.6666666666666666,
              "#000017"
             ],
             [
              0.7777777777777778,
              "#000018"
             ],
             [
              0.8888888888888888,
              "#000019"
             ],
             [
              1,
              "#000020"
             ]
            ],
            "type": "heatmap"
           }
          ],
          "histogram2d": [
           {
            "colorscale": [
             [
              0,
              "#000011"
             ],
             [
              0.1111111111111111,
              "#000012"
             ],
             [
              0.2222222222222222,
              "#000013"
             ],
             [
              0.3333333333333333,
              "#000014"
             ],
             [
              0.4444444444444444,
              "#000015"
             ],
             [
              0.5555555555555556,
              "#000016"
             ],
             [
              0.6666666666666666,
              "#000017"
             ],
             [
              0.7777777777777778,
              "#000018"
             ],
             [
              0.8888888888888888,
              "#000019"
             ],
             [
              1,
              "#000020"
             ]
            ],
            "type": "histogram2d"
           }
          ],
          "icicle": [
           {
            "textfont": {
             "color": "white"
            },
            "type": "icicle"
           }
          ],
          "sankey": [
           {
            "textfont": {
             "color": "#000036"
            },
            "type": "sankey"
           }
          ],
          "scatter": [
           {
            "marker": {
             "line": {
              "width": 0
             }
            },
            "type": "scatter"
           }
          ],
          "table": [
           {
            "cells": {
             "fill": {
              "color": "#000038"
             },
             "font": {
              "color": "#000037"
             },
             "line": {
              "color": "#000039"
             }
            },
            "header": {
             "fill": {
              "color": "#000040"
             },
             "font": {
              "color": "#000036"
             },
             "line": {
              "color": "#000039"
             }
            },
            "type": "table"
           }
          ],
          "waterfall": [
           {
            "connector": {
             "line": {
              "color": "#000036",
              "width": 2
             }
            },
            "decreasing": {
             "marker": {
              "color": "#000033"
             }
            },
            "increasing": {
             "marker": {
              "color": "#000032"
             }
            },
            "totals": {
             "marker": {
              "color": "#000034"
             }
            },
            "type": "waterfall"
           }
          ]
         },
         "layout": {
          "coloraxis": {
           "colorscale": [
            [
             0,
             "#000011"
            ],
            [
             0.1111111111111111,
             "#000012"
            ],
            [
             0.2222222222222222,
             "#000013"
            ],
            [
             0.3333333333333333,
             "#000014"
            ],
            [
             0.4444444444444444,
             "#000015"
            ],
            [
             0.5555555555555556,
             "#000016"
            ],
            [
             0.6666666666666666,
             "#000017"
            ],
            [
             0.7777777777777778,
             "#000018"
            ],
            [
             0.8888888888888888,
             "#000019"
            ],
            [
             1,
             "#000020"
            ]
           ]
          },
          "colorscale": {
           "diverging": [
            [
             0,
             "#000021"
            ],
            [
             0.1,
             "#000022"
            ],
            [
             0.2,
             "#000023"
            ],
            [
             0.3,
             "#000024"
            ],
            [
             0.4,
             "#000025"
            ],
            [
             0.5,
             "#000026"
            ],
            [
             0.6,
             "#000027"
            ],
            [
             0.7,
             "#000028"
            ],
            [
             0.8,
             "#000029"
            ],
            [
             0.9,
             "#000030"
            ],
            [
             1,
             "#000031"
            ]
           ],
           "sequential": [
            [
             0,
             "#000011"
            ],
            [
             0.1111111111111111,
             "#000012"
            ],
            [
             0.2222222222222222,
             "#000013"
            ],
            [
             0.3333333333333333,
             "#000014"
            ],
            [
             0.4444444444444444,
             "#000015"
            ],
            [
             0.5555555555555556,
             "#000016"
            ],
            [
             0.6666666666666666,
             "#000017"
            ],
            [
             0.7777777777777778,
             "#000018"
            ],
            [
             0.8888888888888888,
             "#000019"
            ],
            [
             1,
             "#000020"
            ]
           ],
           "sequentialminus": [
            [
             0,
             "#000011"
            ],
            [
             0.1111111111111111,
             "#000012"
            ],
            [
             0.2222222222222222,
             "#000013"
            ],
            [
             0.3333333333333333,
             "#000014"
            ],
            [
             0.4444444444444444,
             "#000015"
            ],
            [
             0.5555555555555556,
             "#000016"
            ],
            [
             0.6666666666666666,
             "#000017"
            ],
            [
             0.7777777777777778,
             "#000018"
            ],
            [
             0.8888888888888888,
             "#000019"
            ],
            [
             1,
             "#000020"
            ]
           ]
          },
          "colorway": [
           "#000001",
           "#000002",
           "#000003",
           "#000004",
           "#000005",
           "#000006",
           "#000007",
           "#000008",
           "#000009",
           "#000010"
          ]
         }
        },
        "xaxis": {
         "showgrid": false,
         "tickfont": {
          "color": "rgb(100,100,100)",
          "family": "Arial, sans-serif",
          "size": 12
         },
         "title": {
          "text": "Date"
         }
        },
        "yaxis": {
         "gridcolor": "rgb(220,220,220)",
         "showgrid": true,
         "tickfont": {
          "color": "rgb(100,100,100)",
          "family": "Arial, sans-serif",
          "size": 12
         },
         "title": {
          "text": "Units"
         }
        }
       }
      }
     },
     "metadata": {},
     "output_type": "display_data"
    },
    {
     "data": {
      "application/vnd.plotly.v1+json": {
       "config": {
        "plotlyServerURL": "https://plot.ly"
       },
       "data": [
        {
         "hovertemplate": "<b>Date</b>: %{x}<br><b>Inventory</b>: %{y} units<extra></extra>",
         "marker": {
          "color": "rgb(252, 186, 3)",
          "line": {
           "width": 0
          }
         },
         "name": "Inventory",
         "opacity": 1,
         "type": "bar",
         "x": [
          "2016-08-01",
          "2016-08-02",
          "2016-08-03",
          "2016-08-04",
          "2016-08-05",
          "2016-08-06",
          "2016-08-07",
          "2016-08-08",
          "2016-08-09",
          "2016-08-10",
          "2016-08-11",
          "2016-08-12",
          "2016-08-13",
          "2016-08-14",
          "2016-08-15"
         ],
         "y": [
          86,
          62,
          66,
          51,
          73,
          68,
          83,
          71,
          53,
          68,
          62,
          58,
          58,
          65,
          72
         ]
        },
        {
         "hovertemplate": "<b>Date</b>: %{x}<br><b>Projected Initial Inv.</b>: %{y} units<extra></extra>",
         "marker": {
          "color": "rgb(252, 186, 3)",
          "line": {
           "width": 0
          }
         },
         "name": "Projected Initial Inventory",
         "opacity": 0.6,
         "type": "bar",
         "x": [
          "2016-08-16",
          "2016-08-17",
          "2016-08-18",
          "2016-08-19",
          "2016-08-20",
          "2016-08-21",
          "2016-08-22"
         ],
         "y": [
          30,
          26,
          21,
          20,
          26,
          26,
          21
         ]
        },
        {
         "hovertemplate": "<b>Date</b>: %{x}<br><b>Projected Deliveries</b>: %{y} units<extra></extra>",
         "marker": {
          "color": "rgb(3, 148, 252)",
          "line": {
           "width": 0
          }
         },
         "name": "Projected Deliveries",
         "opacity": 0.7,
         "type": "bar",
         "x": [
          "2016-08-16",
          "2016-08-17",
          "2016-08-18",
          "2016-08-19",
          "2016-08-20",
          "2016-08-21",
          "2016-08-22"
         ],
         "y": [
          50,
          52,
          52,
          60,
          54,
          48,
          56
         ]
        },
        {
         "customdata": [
          76,
          52,
          56,
          41,
          63,
          58,
          73,
          61,
          43,
          58,
          52,
          48,
          48,
          55,
          62
         ],
         "hovertemplate": "<b>Date</b>: %{x}<br><b>Sales</b>: %{customdata} units<extra></extra>",
         "marker": {
          "color": "rgb(23, 191, 99)",
          "line": {
           "width": 0
          }
         },
         "name": "Sales",
         "opacity": 1,
         "type": "bar",
         "x": [
          "2016-08-01",
          "2016-08-02",
          "2016-08-03",
          "2016-08-04",
          "2016-08-05",
          "2016-08-06",
          "2016-08-07",
          "2016-08-08",
          "2016-08-09",
          "2016-08-10",
          "2016-08-11",
          "2016-08-12",
          "2016-08-13",
          "2016-08-14",
          "2016-08-15"
         ],
         "y": [
          -76,
          -52,
          -56,
          -41,
          -63,
          -58,
          -73,
          -61,
          -43,
          -58,
          -52,
          -48,
          -48,
          -55,
          -62
         ]
        },
        {
         "customdata": [
          54,
          57,
          53,
          54,
          54,
          53,
          57
         ],
         "hovertemplate": "<b>Date</b>: %{x}<br><b>Projected Fulfilled</b>: %{customdata} units<extra></extra>",
         "marker": {
          "color": "rgb(23, 191, 99)",
          "line": {
           "width": 0
          }
         },
         "name": "Projected Fulfilled Sales",
         "opacity": 0.6,
         "type": "bar",
         "x": [
          "2016-08-16",
          "2016-08-17",
          "2016-08-18",
          "2016-08-19",
          "2016-08-20",
          "2016-08-21",
          "2016-08-22"
         ],
         "y": [
          -54,
          -57,
          -53,
          -54,
          -54,
          -53,
          -57
         ]
        },
        {
         "customdata": [
          0,
          0,
          0,
          0,
          0,
          0,
          0
         ],
         "hovertemplate": "<b>Date</b>: %{x}<br><b>Projected Unfulfilled</b>: %{customdata} units<extra></extra>",
         "marker": {
          "color": "rgb(52, 73, 94)",
          "line": {
           "width": 0
          }
         },
         "name": "Projected Unfulfilled Sales",
         "opacity": 0.7,
         "type": "bar",
         "x": [
          "2016-08-16",
          "2016-08-17",
          "2016-08-18",
          "2016-08-19",
          "2016-08-20",
          "2016-08-21",
          "2016-08-22"
         ],
         "y": [
          0,
          0,
          0,
          0,
          0,
          0,
          0
         ]
        }
       ],
       "layout": {
        "barmode": "relative",
        "font": {
         "color": "rgb(60,60,60)",
         "family": "Arial, sans-serif"
        },
        "legend": {
         "font": {
          "family": "Arial, sans-serif",
          "size": 10
         },
         "orientation": "h",
         "x": 1,
         "xanchor": "right",
         "y": 1.02,
         "yanchor": "bottom"
        },
        "margin": {
         "b": 60,
         "l": 60,
         "r": 30,
         "t": 80
        },
        "paper_bgcolor": "rgb(248, 248, 255)",
        "plot_bgcolor": "rgb(248, 248, 255)",
        "template": {
         "data": {
          "candlestick": [
           {
            "decreasing": {
             "line": {
              "color": "#000033"
             }
            },
            "increasing": {
             "line": {
              "color": "#000032"
             }
            },
            "type": "candlestick"
           }
          ],
          "contour": [
           {
            "colorscale": [
             [
              0,
              "#000011"
             ],
             [
              0.1111111111111111,
              "#000012"
             ],
             [
              0.2222222222222222,
              "#000013"
             ],
             [
              0.3333333333333333,
              "#000014"
             ],
             [
              0.4444444444444444,
              "#000015"
             ],
             [
              0.5555555555555556,
              "#000016"
             ],
             [
              0.6666666666666666,
              "#000017"
             ],
             [
              0.7777777777777778,
              "#000018"
             ],
             [
              0.8888888888888888,
              "#000019"
             ],
             [
              1,
              "#000020"
             ]
            ],
            "type": "contour"
           }
          ],
          "contourcarpet": [
           {
            "colorscale": [
             [
              0,
              "#000011"
             ],
             [
              0.1111111111111111,
              "#000012"
             ],
             [
              0.2222222222222222,
              "#000013"
             ],
             [
              0.3333333333333333,
              "#000014"
             ],
             [
              0.4444444444444444,
              "#000015"
             ],
             [
              0.5555555555555556,
              "#000016"
             ],
             [
              0.6666666666666666,
              "#000017"
             ],
             [
              0.7777777777777778,
              "#000018"
             ],
             [
              0.8888888888888888,
              "#000019"
             ],
             [
              1,
              "#000020"
             ]
            ],
            "type": "contourcarpet"
           }
          ],
          "heatmap": [
           {
            "colorscale": [
             [
              0,
              "#000011"
             ],
             [
              0.1111111111111111,
              "#000012"
             ],
             [
              0.2222222222222222,
              "#000013"
             ],
             [
              0.3333333333333333,
              "#000014"
             ],
             [
              0.4444444444444444,
              "#000015"
             ],
             [
              0.5555555555555556,
              "#000016"
             ],
             [
              0.6666666666666666,
              "#000017"
             ],
             [
              0.7777777777777778,
              "#000018"
             ],
             [
              0.8888888888888888,
              "#000019"
             ],
             [
              1,
              "#000020"
             ]
            ],
            "type": "heatmap"
           }
          ],
          "histogram2d": [
           {
            "colorscale": [
             [
              0,
              "#000011"
             ],
             [
              0.1111111111111111,
              "#000012"
             ],
             [
              0.2222222222222222,
              "#000013"
             ],
             [
              0.3333333333333333,
              "#000014"
             ],
             [
              0.4444444444444444,
              "#000015"
             ],
             [
              0.5555555555555556,
              "#000016"
             ],
             [
              0.6666666666666666,
              "#000017"
             ],
             [
              0.7777777777777778,
              "#000018"
             ],
             [
              0.8888888888888888,
              "#000019"
             ],
             [
              1,
              "#000020"
             ]
            ],
            "type": "histogram2d"
           }
          ],
          "icicle": [
           {
            "textfont": {
             "color": "white"
            },
            "type": "icicle"
           }
          ],
          "sankey": [
           {
            "textfont": {
             "color": "#000036"
            },
            "type": "sankey"
           }
          ],
          "scatter": [
           {
            "marker": {
             "line": {
              "width": 0
             }
            },
            "type": "scatter"
           }
          ],
          "table": [
           {
            "cells": {
             "fill": {
              "color": "#000038"
             },
             "font": {
              "color": "#000037"
             },
             "line": {
              "color": "#000039"
             }
            },
            "header": {
             "fill": {
              "color": "#000040"
             },
             "font": {
              "color": "#000036"
             },
             "line": {
              "color": "#000039"
             }
            },
            "type": "table"
           }
          ],
          "waterfall": [
           {
            "connector": {
             "line": {
              "color": "#000036",
              "width": 2
             }
            },
            "decreasing": {
             "marker": {
              "color": "#000033"
             }
            },
            "increasing": {
             "marker": {
              "color": "#000032"
             }
            },
            "totals": {
             "marker": {
              "color": "#000034"
             }
            },
            "type": "waterfall"
           }
          ]
         },
         "layout": {
          "coloraxis": {
           "colorscale": [
            [
             0,
             "#000011"
            ],
            [
             0.1111111111111111,
             "#000012"
            ],
            [
             0.2222222222222222,
             "#000013"
            ],
            [
             0.3333333333333333,
             "#000014"
            ],
            [
             0.4444444444444444,
             "#000015"
            ],
            [
             0.5555555555555556,
             "#000016"
            ],
            [
             0.6666666666666666,
             "#000017"
            ],
            [
             0.7777777777777778,
             "#000018"
            ],
            [
             0.8888888888888888,
             "#000019"
            ],
            [
             1,
             "#000020"
            ]
           ]
          },
          "colorscale": {
           "diverging": [
            [
             0,
             "#000021"
            ],
            [
             0.1,
             "#000022"
            ],
            [
             0.2,
             "#000023"
            ],
            [
             0.3,
             "#000024"
            ],
            [
             0.4,
             "#000025"
            ],
            [
             0.5,
             "#000026"
            ],
            [
             0.6,
             "#000027"
            ],
            [
             0.7,
             "#000028"
            ],
            [
             0.8,
             "#000029"
            ],
            [
             0.9,
             "#000030"
            ],
            [
             1,
             "#000031"
            ]
           ],
           "sequential": [
            [
             0,
             "#000011"
            ],
            [
             0.1111111111111111,
             "#000012"
            ],
            [
             0.2222222222222222,
             "#000013"
            ],
            [
             0.3333333333333333,
             "#000014"
            ],
            [
             0.4444444444444444,
             "#000015"
            ],
            [
             0.5555555555555556,
             "#000016"
            ],
            [
             0.6666666666666666,
             "#000017"
            ],
            [
             0.7777777777777778,
             "#000018"
            ],
            [
             0.8888888888888888,
             "#000019"
            ],
            [
             1,
             "#000020"
            ]
           ],
           "sequentialminus": [
            [
             0,
             "#000011"
            ],
            [
             0.1111111111111111,
             "#000012"
            ],
            [
             0.2222222222222222,
             "#000013"
            ],
            [
             0.3333333333333333,
             "#000014"
            ],
            [
             0.4444444444444444,
             "#000015"
            ],
            [
             0.5555555555555556,
             "#000016"
            ],
            [
             0.6666666666666666,
             "#000017"
            ],
            [
             0.7777777777777778,
             "#000018"
            ],
            [
             0.8888888888888888,
             "#000019"
            ],
            [
             1,
             "#000020"
            ]
           ]
          },
          "colorway": [
           "#000001",
           "#000002",
           "#000003",
           "#000004",
           "#000005",
           "#000006",
           "#000007",
           "#000008",
           "#000009",
           "#000010"
          ]
         }
        },
        "xaxis": {
         "showgrid": false,
         "tickfont": {
          "color": "rgb(100,100,100)",
          "family": "Arial, sans-serif",
          "size": 12
         },
         "title": {
          "text": "Date"
         }
        },
        "yaxis": {
         "gridcolor": "rgb(220,220,220)",
         "showgrid": true,
         "tickfont": {
          "color": "rgb(100,100,100)",
          "family": "Arial, sans-serif",
          "size": 12
         },
         "title": {
          "text": "Units"
         }
        }
       }
      }
     },
     "metadata": {},
     "output_type": "display_data"
    },
    {
     "data": {
      "application/vnd.plotly.v1+json": {
       "config": {
        "plotlyServerURL": "https://plot.ly"
       },
       "data": [
        {
         "hovertemplate": "<b>Date</b>: %{x}<br><b>Inventory</b>: %{y} units<extra></extra>",
         "marker": {
          "color": "rgb(252, 186, 3)",
          "line": {
           "width": 0
          }
         },
         "name": "Inventory",
         "opacity": 1,
         "type": "bar",
         "x": [
          "2016-08-01",
          "2016-08-02",
          "2016-08-03",
          "2016-08-04",
          "2016-08-05",
          "2016-08-06",
          "2016-08-07",
          "2016-08-08",
          "2016-08-09",
          "2016-08-10",
          "2016-08-11",
          "2016-08-12",
          "2016-08-13",
          "2016-08-14",
          "2016-08-15"
         ],
         "y": [
          23,
          21,
          26,
          20,
          17,
          21,
          26,
          19,
          27,
          22,
          17,
          28,
          14,
          31,
          31
         ]
        },
        {
         "hovertemplate": "<b>Date</b>: %{x}<br><b>Projected Initial Inv.</b>: %{y} units<extra></extra>",
         "marker": {
          "color": "rgb(252, 186, 3)",
          "line": {
           "width": 0
          }
         },
         "name": "Projected Initial Inventory",
         "opacity": 0.6,
         "type": "bar",
         "x": [
          "2016-08-16",
          "2016-08-17",
          "2016-08-18",
          "2016-08-19",
          "2016-08-20",
          "2016-08-21",
          "2016-08-22"
         ],
         "y": [
          30,
          29,
          27,
          27,
          27,
          25,
          36
         ]
        },
        {
         "hovertemplate": "<b>Date</b>: %{x}<br><b>Projected Deliveries</b>: %{y} units<extra></extra>",
         "marker": {
          "color": "rgb(3, 148, 252)",
          "line": {
           "width": 0
          }
         },
         "name": "Projected Deliveries",
         "opacity": 0.7,
         "type": "bar",
         "x": [
          "2016-08-16",
          "2016-08-17",
          "2016-08-18",
          "2016-08-19",
          "2016-08-20",
          "2016-08-21",
          "2016-08-22"
         ],
         "y": [
          14,
          14,
          14,
          14,
          14,
          28,
          14
         ]
        },
        {
         "customdata": [
          13,
          11,
          16,
          10,
          7,
          11,
          16,
          9,
          17,
          12,
          7,
          18,
          4,
          21,
          21
         ],
         "hovertemplate": "<b>Date</b>: %{x}<br><b>Sales</b>: %{customdata} units<extra></extra>",
         "marker": {
          "color": "rgb(23, 191, 99)",
          "line": {
           "width": 0
          }
         },
         "name": "Sales",
         "opacity": 1,
         "type": "bar",
         "x": [
          "2016-08-01",
          "2016-08-02",
          "2016-08-03",
          "2016-08-04",
          "2016-08-05",
          "2016-08-06",
          "2016-08-07",
          "2016-08-08",
          "2016-08-09",
          "2016-08-10",
          "2016-08-11",
          "2016-08-12",
          "2016-08-13",
          "2016-08-14",
          "2016-08-15"
         ],
         "y": [
          -13,
          -11,
          -16,
          -10,
          -7,
          -11,
          -16,
          -9,
          -17,
          -12,
          -7,
          -18,
          -4,
          -21,
          -21
         ]
        },
        {
         "customdata": [
          15,
          16,
          14,
          14,
          16,
          17,
          16
         ],
         "hovertemplate": "<b>Date</b>: %{x}<br><b>Projected Fulfilled</b>: %{customdata} units<extra></extra>",
         "marker": {
          "color": "rgb(23, 191, 99)",
          "line": {
           "width": 0
          }
         },
         "name": "Projected Fulfilled Sales",
         "opacity": 0.6,
         "type": "bar",
         "x": [
          "2016-08-16",
          "2016-08-17",
          "2016-08-18",
          "2016-08-19",
          "2016-08-20",
          "2016-08-21",
          "2016-08-22"
         ],
         "y": [
          -15,
          -16,
          -14,
          -14,
          -16,
          -17,
          -16
         ]
        },
        {
         "customdata": [
          0,
          0,
          0,
          0,
          0,
          0,
          0
         ],
         "hovertemplate": "<b>Date</b>: %{x}<br><b>Projected Unfulfilled</b>: %{customdata} units<extra></extra>",
         "marker": {
          "color": "rgb(52, 73, 94)",
          "line": {
           "width": 0
          }
         },
         "name": "Projected Unfulfilled Sales",
         "opacity": 0.7,
         "type": "bar",
         "x": [
          "2016-08-16",
          "2016-08-17",
          "2016-08-18",
          "2016-08-19",
          "2016-08-20",
          "2016-08-21",
          "2016-08-22"
         ],
         "y": [
          0,
          0,
          0,
          0,
          0,
          0,
          0
         ]
        }
       ],
       "layout": {
        "barmode": "relative",
        "font": {
         "color": "rgb(60,60,60)",
         "family": "Arial, sans-serif"
        },
        "legend": {
         "font": {
          "family": "Arial, sans-serif",
          "size": 10
         },
         "orientation": "h",
         "x": 1,
         "xanchor": "right",
         "y": 1.02,
         "yanchor": "bottom"
        },
        "margin": {
         "b": 60,
         "l": 60,
         "r": 30,
         "t": 80
        },
        "paper_bgcolor": "rgb(248, 248, 255)",
        "plot_bgcolor": "rgb(248, 248, 255)",
        "template": {
         "data": {
          "candlestick": [
           {
            "decreasing": {
             "line": {
              "color": "#000033"
             }
            },
            "increasing": {
             "line": {
              "color": "#000032"
             }
            },
            "type": "candlestick"
           }
          ],
          "contour": [
           {
            "colorscale": [
             [
              0,
              "#000011"
             ],
             [
              0.1111111111111111,
              "#000012"
             ],
             [
              0.2222222222222222,
              "#000013"
             ],
             [
              0.3333333333333333,
              "#000014"
             ],
             [
              0.4444444444444444,
              "#000015"
             ],
             [
              0.5555555555555556,
              "#000016"
             ],
             [
              0.6666666666666666,
              "#000017"
             ],
             [
              0.7777777777777778,
              "#000018"
             ],
             [
              0.8888888888888888,
              "#000019"
             ],
             [
              1,
              "#000020"
             ]
            ],
            "type": "contour"
           }
          ],
          "contourcarpet": [
           {
            "colorscale": [
             [
              0,
              "#000011"
             ],
             [
              0.1111111111111111,
              "#000012"
             ],
             [
              0.2222222222222222,
              "#000013"
             ],
             [
              0.3333333333333333,
              "#000014"
             ],
             [
              0.4444444444444444,
              "#000015"
             ],
             [
              0.5555555555555556,
              "#000016"
             ],
             [
              0.6666666666666666,
              "#000017"
             ],
             [
              0.7777777777777778,
              "#000018"
             ],
             [
              0.8888888888888888,
              "#000019"
             ],
             [
              1,
              "#000020"
             ]
            ],
            "type": "contourcarpet"
           }
          ],
          "heatmap": [
           {
            "colorscale": [
             [
              0,
              "#000011"
             ],
             [
              0.1111111111111111,
              "#000012"
             ],
             [
              0.2222222222222222,
              "#000013"
             ],
             [
              0.3333333333333333,
              "#000014"
             ],
             [
              0.4444444444444444,
              "#000015"
             ],
             [
              0.5555555555555556,
              "#000016"
             ],
             [
              0.6666666666666666,
              "#000017"
             ],
             [
              0.7777777777777778,
              "#000018"
             ],
             [
              0.8888888888888888,
              "#000019"
             ],
             [
              1,
              "#000020"
             ]
            ],
            "type": "heatmap"
           }
          ],
          "histogram2d": [
           {
            "colorscale": [
             [
              0,
              "#000011"
             ],
             [
              0.1111111111111111,
              "#000012"
             ],
             [
              0.2222222222222222,
              "#000013"
             ],
             [
              0.3333333333333333,
              "#000014"
             ],
             [
              0.4444444444444444,
              "#000015"
             ],
             [
              0.5555555555555556,
              "#000016"
             ],
             [
              0.6666666666666666,
              "#000017"
             ],
             [
              0.7777777777777778,
              "#000018"
             ],
             [
              0.8888888888888888,
              "#000019"
             ],
             [
              1,
              "#000020"
             ]
            ],
            "type": "histogram2d"
           }
          ],
          "icicle": [
           {
            "textfont": {
             "color": "white"
            },
            "type": "icicle"
           }
          ],
          "sankey": [
           {
            "textfont": {
             "color": "#000036"
            },
            "type": "sankey"
           }
          ],
          "scatter": [
           {
            "marker": {
             "line": {
              "width": 0
             }
            },
            "type": "scatter"
           }
          ],
          "table": [
           {
            "cells": {
             "fill": {
              "color": "#000038"
             },
             "font": {
              "color": "#000037"
             },
             "line": {
              "color": "#000039"
             }
            },
            "header": {
             "fill": {
              "color": "#000040"
             },
             "font": {
              "color": "#000036"
             },
             "line": {
              "color": "#000039"
             }
            },
            "type": "table"
           }
          ],
          "waterfall": [
           {
            "connector": {
             "line": {
              "color": "#000036",
              "width": 2
             }
            },
            "decreasing": {
             "marker": {
              "color": "#000033"
             }
            },
            "increasing": {
             "marker": {
              "color": "#000032"
             }
            },
            "totals": {
             "marker": {
              "color": "#000034"
             }
            },
            "type": "waterfall"
           }
          ]
         },
         "layout": {
          "coloraxis": {
           "colorscale": [
            [
             0,
             "#000011"
            ],
            [
             0.1111111111111111,
             "#000012"
            ],
            [
             0.2222222222222222,
             "#000013"
            ],
            [
             0.3333333333333333,
             "#000014"
            ],
            [
             0.4444444444444444,
             "#000015"
            ],
            [
             0.5555555555555556,
             "#000016"
            ],
            [
             0.6666666666666666,
             "#000017"
            ],
            [
             0.7777777777777778,
             "#000018"
            ],
            [
             0.8888888888888888,
             "#000019"
            ],
            [
             1,
             "#000020"
            ]
           ]
          },
          "colorscale": {
           "diverging": [
            [
             0,
             "#000021"
            ],
            [
             0.1,
             "#000022"
            ],
            [
             0.2,
             "#000023"
            ],
            [
             0.3,
             "#000024"
            ],
            [
             0.4,
             "#000025"
            ],
            [
             0.5,
             "#000026"
            ],
            [
             0.6,
             "#000027"
            ],
            [
             0.7,
             "#000028"
            ],
            [
             0.8,
             "#000029"
            ],
            [
             0.9,
             "#000030"
            ],
            [
             1,
             "#000031"
            ]
           ],
           "sequential": [
            [
             0,
             "#000011"
            ],
            [
             0.1111111111111111,
             "#000012"
            ],
            [
             0.2222222222222222,
             "#000013"
            ],
            [
             0.3333333333333333,
             "#000014"
            ],
            [
             0.4444444444444444,
             "#000015"
            ],
            [
             0.5555555555555556,
             "#000016"
            ],
            [
             0.6666666666666666,
             "#000017"
            ],
            [
             0.7777777777777778,
             "#000018"
            ],
            [
             0.8888888888888888,
             "#000019"
            ],
            [
             1,
             "#000020"
            ]
           ],
           "sequentialminus": [
            [
             0,
             "#000011"
            ],
            [
             0.1111111111111111,
             "#000012"
            ],
            [
             0.2222222222222222,
             "#000013"
            ],
            [
             0.3333333333333333,
             "#000014"
            ],
            [
             0.4444444444444444,
             "#000015"
            ],
            [
             0.5555555555555556,
             "#000016"
            ],
            [
             0.6666666666666666,
             "#000017"
            ],
            [
             0.7777777777777778,
             "#000018"
            ],
            [
             0.8888888888888888,
             "#000019"
            ],
            [
             1,
             "#000020"
            ]
           ]
          },
          "colorway": [
           "#000001",
           "#000002",
           "#000003",
           "#000004",
           "#000005",
           "#000006",
           "#000007",
           "#000008",
           "#000009",
           "#000010"
          ]
         }
        },
        "xaxis": {
         "showgrid": false,
         "tickfont": {
          "color": "rgb(100,100,100)",
          "family": "Arial, sans-serif",
          "size": 12
         },
         "title": {
          "text": "Date"
         }
        },
        "yaxis": {
         "gridcolor": "rgb(220,220,220)",
         "showgrid": true,
         "tickfont": {
          "color": "rgb(100,100,100)",
          "family": "Arial, sans-serif",
          "size": 12
         },
         "title": {
          "text": "Units"
         }
        }
       }
      }
     },
     "metadata": {},
     "output_type": "display_data"
    },
    {
     "data": {
      "application/vnd.plotly.v1+json": {
       "config": {
        "plotlyServerURL": "https://plot.ly"
       },
       "data": [
        {
         "hovertemplate": "<b>Date</b>: %{x}<br><b>Inventory</b>: %{y} units<extra></extra>",
         "marker": {
          "color": "rgb(252, 186, 3)",
          "line": {
           "width": 0
          }
         },
         "name": "Inventory",
         "opacity": 1,
         "type": "bar",
         "x": [
          "2016-08-01",
          "2016-08-02",
          "2016-08-03",
          "2016-08-04",
          "2016-08-05",
          "2016-08-06",
          "2016-08-07",
          "2016-08-08",
          "2016-08-09",
          "2016-08-10",
          "2016-08-11",
          "2016-08-12",
          "2016-08-13",
          "2016-08-14",
          "2016-08-15"
         ],
         "y": [
          51,
          39,
          39,
          34,
          32,
          48,
          32,
          33,
          18,
          35,
          34,
          45,
          34,
          50,
          32
         ]
        },
        {
         "hovertemplate": "<b>Date</b>: %{x}<br><b>Projected Initial Inv.</b>: %{y} units<extra></extra>",
         "marker": {
          "color": "rgb(252, 186, 3)",
          "line": {
           "width": 0
          }
         },
         "name": "Projected Initial Inventory",
         "opacity": 0.6,
         "type": "bar",
         "x": [
          "2016-08-16",
          "2016-08-17",
          "2016-08-18",
          "2016-08-19",
          "2016-08-20",
          "2016-08-21",
          "2016-08-22"
         ],
         "y": [
          30,
          21,
          25,
          31,
          21,
          33,
          22
         ]
        },
        {
         "hovertemplate": "<b>Date</b>: %{x}<br><b>Projected Deliveries</b>: %{y} units<extra></extra>",
         "marker": {
          "color": "rgb(3, 148, 252)",
          "line": {
           "width": 0
          }
         },
         "name": "Projected Deliveries",
         "opacity": 0.7,
         "type": "bar",
         "x": [
          "2016-08-16",
          "2016-08-17",
          "2016-08-18",
          "2016-08-19",
          "2016-08-20",
          "2016-08-21",
          "2016-08-22"
         ],
         "y": [
          14,
          28,
          28,
          14,
          42,
          14,
          28
         ]
        },
        {
         "customdata": [
          41,
          29,
          29,
          24,
          22,
          38,
          22,
          23,
          8,
          25,
          24,
          35,
          24,
          40,
          22
         ],
         "hovertemplate": "<b>Date</b>: %{x}<br><b>Sales</b>: %{customdata} units<extra></extra>",
         "marker": {
          "color": "rgb(23, 191, 99)",
          "line": {
           "width": 0
          }
         },
         "name": "Sales",
         "opacity": 1,
         "type": "bar",
         "x": [
          "2016-08-01",
          "2016-08-02",
          "2016-08-03",
          "2016-08-04",
          "2016-08-05",
          "2016-08-06",
          "2016-08-07",
          "2016-08-08",
          "2016-08-09",
          "2016-08-10",
          "2016-08-11",
          "2016-08-12",
          "2016-08-13",
          "2016-08-14",
          "2016-08-15"
         ],
         "y": [
          -41,
          -29,
          -29,
          -24,
          -22,
          -38,
          -22,
          -23,
          -8,
          -25,
          -24,
          -35,
          -24,
          -40,
          -22
         ]
        },
        {
         "customdata": [
          23,
          24,
          22,
          24,
          30,
          25,
          24
         ],
         "hovertemplate": "<b>Date</b>: %{x}<br><b>Projected Fulfilled</b>: %{customdata} units<extra></extra>",
         "marker": {
          "color": "rgb(23, 191, 99)",
          "line": {
           "width": 0
          }
         },
         "name": "Projected Fulfilled Sales",
         "opacity": 0.6,
         "type": "bar",
         "x": [
          "2016-08-16",
          "2016-08-17",
          "2016-08-18",
          "2016-08-19",
          "2016-08-20",
          "2016-08-21",
          "2016-08-22"
         ],
         "y": [
          -23,
          -24,
          -22,
          -24,
          -30,
          -25,
          -24
         ]
        },
        {
         "customdata": [
          0,
          0,
          0,
          0,
          0,
          0,
          0
         ],
         "hovertemplate": "<b>Date</b>: %{x}<br><b>Projected Unfulfilled</b>: %{customdata} units<extra></extra>",
         "marker": {
          "color": "rgb(52, 73, 94)",
          "line": {
           "width": 0
          }
         },
         "name": "Projected Unfulfilled Sales",
         "opacity": 0.7,
         "type": "bar",
         "x": [
          "2016-08-16",
          "2016-08-17",
          "2016-08-18",
          "2016-08-19",
          "2016-08-20",
          "2016-08-21",
          "2016-08-22"
         ],
         "y": [
          0,
          0,
          0,
          0,
          0,
          0,
          0
         ]
        }
       ],
       "layout": {
        "barmode": "relative",
        "font": {
         "color": "rgb(60,60,60)",
         "family": "Arial, sans-serif"
        },
        "legend": {
         "font": {
          "family": "Arial, sans-serif",
          "size": 10
         },
         "orientation": "h",
         "x": 1,
         "xanchor": "right",
         "y": 1.02,
         "yanchor": "bottom"
        },
        "margin": {
         "b": 60,
         "l": 60,
         "r": 30,
         "t": 80
        },
        "paper_bgcolor": "rgb(248, 248, 255)",
        "plot_bgcolor": "rgb(248, 248, 255)",
        "template": {
         "data": {
          "candlestick": [
           {
            "decreasing": {
             "line": {
              "color": "#000033"
             }
            },
            "increasing": {
             "line": {
              "color": "#000032"
             }
            },
            "type": "candlestick"
           }
          ],
          "contour": [
           {
            "colorscale": [
             [
              0,
              "#000011"
             ],
             [
              0.1111111111111111,
              "#000012"
             ],
             [
              0.2222222222222222,
              "#000013"
             ],
             [
              0.3333333333333333,
              "#000014"
             ],
             [
              0.4444444444444444,
              "#000015"
             ],
             [
              0.5555555555555556,
              "#000016"
             ],
             [
              0.6666666666666666,
              "#000017"
             ],
             [
              0.7777777777777778,
              "#000018"
             ],
             [
              0.8888888888888888,
              "#000019"
             ],
             [
              1,
              "#000020"
             ]
            ],
            "type": "contour"
           }
          ],
          "contourcarpet": [
           {
            "colorscale": [
             [
              0,
              "#000011"
             ],
             [
              0.1111111111111111,
              "#000012"
             ],
             [
              0.2222222222222222,
              "#000013"
             ],
             [
              0.3333333333333333,
              "#000014"
             ],
             [
              0.4444444444444444,
              "#000015"
             ],
             [
              0.5555555555555556,
              "#000016"
             ],
             [
              0.6666666666666666,
              "#000017"
             ],
             [
              0.7777777777777778,
              "#000018"
             ],
             [
              0.8888888888888888,
              "#000019"
             ],
             [
              1,
              "#000020"
             ]
            ],
            "type": "contourcarpet"
           }
          ],
          "heatmap": [
           {
            "colorscale": [
             [
              0,
              "#000011"
             ],
             [
              0.1111111111111111,
              "#000012"
             ],
             [
              0.2222222222222222,
              "#000013"
             ],
             [
              0.3333333333333333,
              "#000014"
             ],
             [
              0.4444444444444444,
              "#000015"
             ],
             [
              0.5555555555555556,
              "#000016"
             ],
             [
              0.6666666666666666,
              "#000017"
             ],
             [
              0.7777777777777778,
              "#000018"
             ],
             [
              0.8888888888888888,
              "#000019"
             ],
             [
              1,
              "#000020"
             ]
            ],
            "type": "heatmap"
           }
          ],
          "histogram2d": [
           {
            "colorscale": [
             [
              0,
              "#000011"
             ],
             [
              0.1111111111111111,
              "#000012"
             ],
             [
              0.2222222222222222,
              "#000013"
             ],
             [
              0.3333333333333333,
              "#000014"
             ],
             [
              0.4444444444444444,
              "#000015"
             ],
             [
              0.5555555555555556,
              "#000016"
             ],
             [
              0.6666666666666666,
              "#000017"
             ],
             [
              0.7777777777777778,
              "#000018"
             ],
             [
              0.8888888888888888,
              "#000019"
             ],
             [
              1,
              "#000020"
             ]
            ],
            "type": "histogram2d"
           }
          ],
          "icicle": [
           {
            "textfont": {
             "color": "white"
            },
            "type": "icicle"
           }
          ],
          "sankey": [
           {
            "textfont": {
             "color": "#000036"
            },
            "type": "sankey"
           }
          ],
          "scatter": [
           {
            "marker": {
             "line": {
              "width": 0
             }
            },
            "type": "scatter"
           }
          ],
          "table": [
           {
            "cells": {
             "fill": {
              "color": "#000038"
             },
             "font": {
              "color": "#000037"
             },
             "line": {
              "color": "#000039"
             }
            },
            "header": {
             "fill": {
              "color": "#000040"
             },
             "font": {
              "color": "#000036"
             },
             "line": {
              "color": "#000039"
             }
            },
            "type": "table"
           }
          ],
          "waterfall": [
           {
            "connector": {
             "line": {
              "color": "#000036",
              "width": 2
             }
            },
            "decreasing": {
             "marker": {
              "color": "#000033"
             }
            },
            "increasing": {
             "marker": {
              "color": "#000032"
             }
            },
            "totals": {
             "marker": {
              "color": "#000034"
             }
            },
            "type": "waterfall"
           }
          ]
         },
         "layout": {
          "coloraxis": {
           "colorscale": [
            [
             0,
             "#000011"
            ],
            [
             0.1111111111111111,
             "#000012"
            ],
            [
             0.2222222222222222,
             "#000013"
            ],
            [
             0.3333333333333333,
             "#000014"
            ],
            [
             0.4444444444444444,
             "#000015"
            ],
            [
             0.5555555555555556,
             "#000016"
            ],
            [
             0.6666666666666666,
             "#000017"
            ],
            [
             0.7777777777777778,
             "#000018"
            ],
            [
             0.8888888888888888,
             "#000019"
            ],
            [
             1,
             "#000020"
            ]
           ]
          },
          "colorscale": {
           "diverging": [
            [
             0,
             "#000021"
            ],
            [
             0.1,
             "#000022"
            ],
            [
             0.2,
             "#000023"
            ],
            [
             0.3,
             "#000024"
            ],
            [
             0.4,
             "#000025"
            ],
            [
             0.5,
             "#000026"
            ],
            [
             0.6,
             "#000027"
            ],
            [
             0.7,
             "#000028"
            ],
            [
             0.8,
             "#000029"
            ],
            [
             0.9,
             "#000030"
            ],
            [
             1,
             "#000031"
            ]
           ],
           "sequential": [
            [
             0,
             "#000011"
            ],
            [
             0.1111111111111111,
             "#000012"
            ],
            [
             0.2222222222222222,
             "#000013"
            ],
            [
             0.3333333333333333,
             "#000014"
            ],
            [
             0.4444444444444444,
             "#000015"
            ],
            [
             0.5555555555555556,
             "#000016"
            ],
            [
             0.6666666666666666,
             "#000017"
            ],
            [
             0.7777777777777778,
             "#000018"
            ],
            [
             0.8888888888888888,
             "#000019"
            ],
            [
             1,
             "#000020"
            ]
           ],
           "sequentialminus": [
            [
             0,
             "#000011"
            ],
            [
             0.1111111111111111,
             "#000012"
            ],
            [
             0.2222222222222222,
             "#000013"
            ],
            [
             0.3333333333333333,
             "#000014"
            ],
            [
             0.4444444444444444,
             "#000015"
            ],
            [
             0.5555555555555556,
             "#000016"
            ],
            [
             0.6666666666666666,
             "#000017"
            ],
            [
             0.7777777777777778,
             "#000018"
            ],
            [
             0.8888888888888888,
             "#000019"
            ],
            [
             1,
             "#000020"
            ]
           ]
          },
          "colorway": [
           "#000001",
           "#000002",
           "#000003",
           "#000004",
           "#000005",
           "#000006",
           "#000007",
           "#000008",
           "#000009",
           "#000010"
          ]
         }
        },
        "xaxis": {
         "showgrid": false,
         "tickfont": {
          "color": "rgb(100,100,100)",
          "family": "Arial, sans-serif",
          "size": 12
         },
         "title": {
          "text": "Date"
         }
        },
        "yaxis": {
         "gridcolor": "rgb(220,220,220)",
         "showgrid": true,
         "tickfont": {
          "color": "rgb(100,100,100)",
          "family": "Arial, sans-serif",
          "size": 12
         },
         "title": {
          "text": "Units"
         }
        }
       }
      }
     },
     "metadata": {},
     "output_type": "display_data"
    },
    {
     "data": {
      "application/vnd.plotly.v1+json": {
       "config": {
        "plotlyServerURL": "https://plot.ly"
       },
       "data": [
        {
         "hovertemplate": "<b>Date</b>: %{x}<br><b>Inventory</b>: %{y} units<extra></extra>",
         "marker": {
          "color": "rgb(252, 186, 3)",
          "line": {
           "width": 0
          }
         },
         "name": "Inventory",
         "opacity": 1,
         "type": "bar",
         "x": [
          "2016-08-01",
          "2016-08-02",
          "2016-08-03",
          "2016-08-04",
          "2016-08-05",
          "2016-08-06",
          "2016-08-07",
          "2016-08-08",
          "2016-08-09",
          "2016-08-10",
          "2016-08-11",
          "2016-08-12",
          "2016-08-13",
          "2016-08-14",
          "2016-08-15"
         ],
         "y": [
          32,
          33,
          36,
          24,
          33,
          38,
          36,
          26,
          20,
          30,
          19,
          26,
          26,
          35,
          27
         ]
        },
        {
         "hovertemplate": "<b>Date</b>: %{x}<br><b>Projected Initial Inv.</b>: %{y} units<extra></extra>",
         "marker": {
          "color": "rgb(252, 186, 3)",
          "line": {
           "width": 0
          }
         },
         "name": "Projected Initial Inventory",
         "opacity": 0.6,
         "type": "bar",
         "x": [
          "2016-08-16",
          "2016-08-17",
          "2016-08-18",
          "2016-08-19",
          "2016-08-20",
          "2016-08-21",
          "2016-08-22"
         ],
         "y": [
          30,
          22,
          29,
          60,
          40,
          22,
          22
         ]
        },
        {
         "hovertemplate": "<b>Date</b>: %{x}<br><b>Projected Deliveries</b>: %{y} units<extra></extra>",
         "marker": {
          "color": "rgb(3, 148, 252)",
          "line": {
           "width": 0
          }
         },
         "name": "Projected Deliveries",
         "opacity": 0.7,
         "type": "bar",
         "x": [
          "2016-08-16",
          "2016-08-17",
          "2016-08-18",
          "2016-08-19",
          "2016-08-20",
          "2016-08-21",
          "2016-08-22"
         ],
         "y": [
          10,
          26,
          48,
          0,
          0,
          20,
          16
         ]
        },
        {
         "customdata": [
          22,
          23,
          26,
          14,
          23,
          28,
          26,
          16,
          10,
          20,
          9,
          16,
          16,
          25,
          17
         ],
         "hovertemplate": "<b>Date</b>: %{x}<br><b>Sales</b>: %{customdata} units<extra></extra>",
         "marker": {
          "color": "rgb(23, 191, 99)",
          "line": {
           "width": 0
          }
         },
         "name": "Sales",
         "opacity": 1,
         "type": "bar",
         "x": [
          "2016-08-01",
          "2016-08-02",
          "2016-08-03",
          "2016-08-04",
          "2016-08-05",
          "2016-08-06",
          "2016-08-07",
          "2016-08-08",
          "2016-08-09",
          "2016-08-10",
          "2016-08-11",
          "2016-08-12",
          "2016-08-13",
          "2016-08-14",
          "2016-08-15"
         ],
         "y": [
          -22,
          -23,
          -26,
          -14,
          -23,
          -28,
          -26,
          -16,
          -10,
          -20,
          -9,
          -16,
          -16,
          -25,
          -17
         ]
        },
        {
         "customdata": [
          18,
          19,
          17,
          20,
          18,
          20,
          18
         ],
         "hovertemplate": "<b>Date</b>: %{x}<br><b>Projected Fulfilled</b>: %{customdata} units<extra></extra>",
         "marker": {
          "color": "rgb(23, 191, 99)",
          "line": {
           "width": 0
          }
         },
         "name": "Projected Fulfilled Sales",
         "opacity": 0.6,
         "type": "bar",
         "x": [
          "2016-08-16",
          "2016-08-17",
          "2016-08-18",
          "2016-08-19",
          "2016-08-20",
          "2016-08-21",
          "2016-08-22"
         ],
         "y": [
          -18,
          -19,
          -17,
          -20,
          -18,
          -20,
          -18
         ]
        },
        {
         "customdata": [
          0,
          0,
          0,
          0,
          0,
          0,
          0
         ],
         "hovertemplate": "<b>Date</b>: %{x}<br><b>Projected Unfulfilled</b>: %{customdata} units<extra></extra>",
         "marker": {
          "color": "rgb(52, 73, 94)",
          "line": {
           "width": 0
          }
         },
         "name": "Projected Unfulfilled Sales",
         "opacity": 0.7,
         "type": "bar",
         "x": [
          "2016-08-16",
          "2016-08-17",
          "2016-08-18",
          "2016-08-19",
          "2016-08-20",
          "2016-08-21",
          "2016-08-22"
         ],
         "y": [
          0,
          0,
          0,
          0,
          0,
          0,
          0
         ]
        }
       ],
       "layout": {
        "barmode": "relative",
        "font": {
         "color": "rgb(60,60,60)",
         "family": "Arial, sans-serif"
        },
        "legend": {
         "font": {
          "family": "Arial, sans-serif",
          "size": 10
         },
         "orientation": "h",
         "x": 1,
         "xanchor": "right",
         "y": 1.02,
         "yanchor": "bottom"
        },
        "margin": {
         "b": 60,
         "l": 60,
         "r": 30,
         "t": 80
        },
        "paper_bgcolor": "rgb(248, 248, 255)",
        "plot_bgcolor": "rgb(248, 248, 255)",
        "template": {
         "data": {
          "candlestick": [
           {
            "decreasing": {
             "line": {
              "color": "#000033"
             }
            },
            "increasing": {
             "line": {
              "color": "#000032"
             }
            },
            "type": "candlestick"
           }
          ],
          "contour": [
           {
            "colorscale": [
             [
              0,
              "#000011"
             ],
             [
              0.1111111111111111,
              "#000012"
             ],
             [
              0.2222222222222222,
              "#000013"
             ],
             [
              0.3333333333333333,
              "#000014"
             ],
             [
              0.4444444444444444,
              "#000015"
             ],
             [
              0.5555555555555556,
              "#000016"
             ],
             [
              0.6666666666666666,
              "#000017"
             ],
             [
              0.7777777777777778,
              "#000018"
             ],
             [
              0.8888888888888888,
              "#000019"
             ],
             [
              1,
              "#000020"
             ]
            ],
            "type": "contour"
           }
          ],
          "contourcarpet": [
           {
            "colorscale": [
             [
              0,
              "#000011"
             ],
             [
              0.1111111111111111,
              "#000012"
             ],
             [
              0.2222222222222222,
              "#000013"
             ],
             [
              0.3333333333333333,
              "#000014"
             ],
             [
              0.4444444444444444,
              "#000015"
             ],
             [
              0.5555555555555556,
              "#000016"
             ],
             [
              0.6666666666666666,
              "#000017"
             ],
             [
              0.7777777777777778,
              "#000018"
             ],
             [
              0.8888888888888888,
              "#000019"
             ],
             [
              1,
              "#000020"
             ]
            ],
            "type": "contourcarpet"
           }
          ],
          "heatmap": [
           {
            "colorscale": [
             [
              0,
              "#000011"
             ],
             [
              0.1111111111111111,
              "#000012"
             ],
             [
              0.2222222222222222,
              "#000013"
             ],
             [
              0.3333333333333333,
              "#000014"
             ],
             [
              0.4444444444444444,
              "#000015"
             ],
             [
              0.5555555555555556,
              "#000016"
             ],
             [
              0.6666666666666666,
              "#000017"
             ],
             [
              0.7777777777777778,
              "#000018"
             ],
             [
              0.8888888888888888,
              "#000019"
             ],
             [
              1,
              "#000020"
             ]
            ],
            "type": "heatmap"
           }
          ],
          "histogram2d": [
           {
            "colorscale": [
             [
              0,
              "#000011"
             ],
             [
              0.1111111111111111,
              "#000012"
             ],
             [
              0.2222222222222222,
              "#000013"
             ],
             [
              0.3333333333333333,
              "#000014"
             ],
             [
              0.4444444444444444,
              "#000015"
             ],
             [
              0.5555555555555556,
              "#000016"
             ],
             [
              0.6666666666666666,
              "#000017"
             ],
             [
              0.7777777777777778,
              "#000018"
             ],
             [
              0.8888888888888888,
              "#000019"
             ],
             [
              1,
              "#000020"
             ]
            ],
            "type": "histogram2d"
           }
          ],
          "icicle": [
           {
            "textfont": {
             "color": "white"
            },
            "type": "icicle"
           }
          ],
          "sankey": [
           {
            "textfont": {
             "color": "#000036"
            },
            "type": "sankey"
           }
          ],
          "scatter": [
           {
            "marker": {
             "line": {
              "width": 0
             }
            },
            "type": "scatter"
           }
          ],
          "table": [
           {
            "cells": {
             "fill": {
              "color": "#000038"
             },
             "font": {
              "color": "#000037"
             },
             "line": {
              "color": "#000039"
             }
            },
            "header": {
             "fill": {
              "color": "#000040"
             },
             "font": {
              "color": "#000036"
             },
             "line": {
              "color": "#000039"
             }
            },
            "type": "table"
           }
          ],
          "waterfall": [
           {
            "connector": {
             "line": {
              "color": "#000036",
              "width": 2
             }
            },
            "decreasing": {
             "marker": {
              "color": "#000033"
             }
            },
            "increasing": {
             "marker": {
              "color": "#000032"
             }
            },
            "totals": {
             "marker": {
              "color": "#000034"
             }
            },
            "type": "waterfall"
           }
          ]
         },
         "layout": {
          "coloraxis": {
           "colorscale": [
            [
             0,
             "#000011"
            ],
            [
             0.1111111111111111,
             "#000012"
            ],
            [
             0.2222222222222222,
             "#000013"
            ],
            [
             0.3333333333333333,
             "#000014"
            ],
            [
             0.4444444444444444,
             "#000015"
            ],
            [
             0.5555555555555556,
             "#000016"
            ],
            [
             0.6666666666666666,
             "#000017"
            ],
            [
             0.7777777777777778,
             "#000018"
            ],
            [
             0.8888888888888888,
             "#000019"
            ],
            [
             1,
             "#000020"
            ]
           ]
          },
          "colorscale": {
           "diverging": [
            [
             0,
             "#000021"
            ],
            [
             0.1,
             "#000022"
            ],
            [
             0.2,
             "#000023"
            ],
            [
             0.3,
             "#000024"
            ],
            [
             0.4,
             "#000025"
            ],
            [
             0.5,
             "#000026"
            ],
            [
             0.6,
             "#000027"
            ],
            [
             0.7,
             "#000028"
            ],
            [
             0.8,
             "#000029"
            ],
            [
             0.9,
             "#000030"
            ],
            [
             1,
             "#000031"
            ]
           ],
           "sequential": [
            [
             0,
             "#000011"
            ],
            [
             0.1111111111111111,
             "#000012"
            ],
            [
             0.2222222222222222,
             "#000013"
            ],
            [
             0.3333333333333333,
             "#000014"
            ],
            [
             0.4444444444444444,
             "#000015"
            ],
            [
             0.5555555555555556,
             "#000016"
            ],
            [
             0.6666666666666666,
             "#000017"
            ],
            [
             0.7777777777777778,
             "#000018"
            ],
            [
             0.8888888888888888,
             "#000019"
            ],
            [
             1,
             "#000020"
            ]
           ],
           "sequentialminus": [
            [
             0,
             "#000011"
            ],
            [
             0.1111111111111111,
             "#000012"
            ],
            [
             0.2222222222222222,
             "#000013"
            ],
            [
             0.3333333333333333,
             "#000014"
            ],
            [
             0.4444444444444444,
             "#000015"
            ],
            [
             0.5555555555555556,
             "#000016"
            ],
            [
             0.6666666666666666,
             "#000017"
            ],
            [
             0.7777777777777778,
             "#000018"
            ],
            [
             0.8888888888888888,
             "#000019"
            ],
            [
             1,
             "#000020"
            ]
           ]
          },
          "colorway": [
           "#000001",
           "#000002",
           "#000003",
           "#000004",
           "#000005",
           "#000006",
           "#000007",
           "#000008",
           "#000009",
           "#000010"
          ]
         }
        },
        "xaxis": {
         "showgrid": false,
         "tickfont": {
          "color": "rgb(100,100,100)",
          "family": "Arial, sans-serif",
          "size": 12
         },
         "title": {
          "text": "Date"
         }
        },
        "yaxis": {
         "gridcolor": "rgb(220,220,220)",
         "showgrid": true,
         "tickfont": {
          "color": "rgb(100,100,100)",
          "family": "Arial, sans-serif",
          "size": 12
         },
         "title": {
          "text": "Units"
         }
        }
       }
      }
     },
     "metadata": {},
     "output_type": "display_data"
    },
    {
     "data": {
      "application/vnd.plotly.v1+json": {
       "config": {
        "plotlyServerURL": "https://plot.ly"
       },
       "data": [
        {
         "hovertemplate": "<b>Date</b>: %{x}<br><b>Inventory</b>: %{y} units<extra></extra>",
         "marker": {
          "color": "rgb(252, 186, 3)",
          "line": {
           "width": 0
          }
         },
         "name": "Inventory",
         "opacity": 1,
         "type": "bar",
         "x": [
          "2016-08-01",
          "2016-08-02",
          "2016-08-03",
          "2016-08-04",
          "2016-08-05",
          "2016-08-06",
          "2016-08-07",
          "2016-08-08",
          "2016-08-09",
          "2016-08-10",
          "2016-08-11",
          "2016-08-12",
          "2016-08-13",
          "2016-08-14",
          "2016-08-15"
         ],
         "y": [
          103,
          97,
          124,
          93,
          99,
          117,
          126,
          102,
          87,
          91,
          60,
          88,
          91,
          99,
          68
         ]
        },
        {
         "hovertemplate": "<b>Date</b>: %{x}<br><b>Projected Initial Inv.</b>: %{y} units<extra></extra>",
         "marker": {
          "color": "rgb(252, 186, 3)",
          "line": {
           "width": 0
          }
         },
         "name": "Projected Initial Inventory",
         "opacity": 0.6,
         "type": "bar",
         "x": [
          "2016-08-16",
          "2016-08-17",
          "2016-08-18",
          "2016-08-19",
          "2016-08-20",
          "2016-08-21",
          "2016-08-22"
         ],
         "y": [
          30,
          20,
          20,
          20,
          20,
          20,
          20
         ]
        },
        {
         "hovertemplate": "<b>Date</b>: %{x}<br><b>Projected Deliveries</b>: %{y} units<extra></extra>",
         "marker": {
          "color": "rgb(3, 148, 252)",
          "line": {
           "width": 0
          }
         },
         "name": "Projected Deliveries",
         "opacity": 0.7,
         "type": "bar",
         "x": [
          "2016-08-16",
          "2016-08-17",
          "2016-08-18",
          "2016-08-19",
          "2016-08-20",
          "2016-08-21",
          "2016-08-22"
         ],
         "y": [
          60,
          74,
          64,
          74,
          82,
          74,
          72
         ]
        },
        {
         "customdata": [
          93,
          87,
          114,
          83,
          89,
          107,
          116,
          92,
          77,
          81,
          50,
          78,
          81,
          89,
          58
         ],
         "hovertemplate": "<b>Date</b>: %{x}<br><b>Sales</b>: %{customdata} units<extra></extra>",
         "marker": {
          "color": "rgb(23, 191, 99)",
          "line": {
           "width": 0
          }
         },
         "name": "Sales",
         "opacity": 1,
         "type": "bar",
         "x": [
          "2016-08-01",
          "2016-08-02",
          "2016-08-03",
          "2016-08-04",
          "2016-08-05",
          "2016-08-06",
          "2016-08-07",
          "2016-08-08",
          "2016-08-09",
          "2016-08-10",
          "2016-08-11",
          "2016-08-12",
          "2016-08-13",
          "2016-08-14",
          "2016-08-15"
         ],
         "y": [
          -93,
          -87,
          -114,
          -83,
          -89,
          -107,
          -116,
          -92,
          -77,
          -81,
          -50,
          -78,
          -81,
          -89,
          -58
         ]
        },
        {
         "customdata": [
          70,
          74,
          64,
          74,
          82,
          74,
          72
         ],
         "hovertemplate": "<b>Date</b>: %{x}<br><b>Projected Fulfilled</b>: %{customdata} units<extra></extra>",
         "marker": {
          "color": "rgb(23, 191, 99)",
          "line": {
           "width": 0
          }
         },
         "name": "Projected Fulfilled Sales",
         "opacity": 0.6,
         "type": "bar",
         "x": [
          "2016-08-16",
          "2016-08-17",
          "2016-08-18",
          "2016-08-19",
          "2016-08-20",
          "2016-08-21",
          "2016-08-22"
         ],
         "y": [
          -70,
          -74,
          -64,
          -74,
          -82,
          -74,
          -72
         ]
        },
        {
         "customdata": [
          0,
          4,
          6,
          4,
          0,
          0,
          0
         ],
         "hovertemplate": "<b>Date</b>: %{x}<br><b>Projected Unfulfilled</b>: %{customdata} units<extra></extra>",
         "marker": {
          "color": "rgb(52, 73, 94)",
          "line": {
           "width": 0
          }
         },
         "name": "Projected Unfulfilled Sales",
         "opacity": 0.7,
         "type": "bar",
         "x": [
          "2016-08-16",
          "2016-08-17",
          "2016-08-18",
          "2016-08-19",
          "2016-08-20",
          "2016-08-21",
          "2016-08-22"
         ],
         "y": [
          0,
          -4,
          -6,
          -4,
          0,
          0,
          0
         ]
        }
       ],
       "layout": {
        "barmode": "relative",
        "font": {
         "color": "rgb(60,60,60)",
         "family": "Arial, sans-serif"
        },
        "legend": {
         "font": {
          "family": "Arial, sans-serif",
          "size": 10
         },
         "orientation": "h",
         "x": 1,
         "xanchor": "right",
         "y": 1.02,
         "yanchor": "bottom"
        },
        "margin": {
         "b": 60,
         "l": 60,
         "r": 30,
         "t": 80
        },
        "paper_bgcolor": "rgb(248, 248, 255)",
        "plot_bgcolor": "rgb(248, 248, 255)",
        "template": {
         "data": {
          "candlestick": [
           {
            "decreasing": {
             "line": {
              "color": "#000033"
             }
            },
            "increasing": {
             "line": {
              "color": "#000032"
             }
            },
            "type": "candlestick"
           }
          ],
          "contour": [
           {
            "colorscale": [
             [
              0,
              "#000011"
             ],
             [
              0.1111111111111111,
              "#000012"
             ],
             [
              0.2222222222222222,
              "#000013"
             ],
             [
              0.3333333333333333,
              "#000014"
             ],
             [
              0.4444444444444444,
              "#000015"
             ],
             [
              0.5555555555555556,
              "#000016"
             ],
             [
              0.6666666666666666,
              "#000017"
             ],
             [
              0.7777777777777778,
              "#000018"
             ],
             [
              0.8888888888888888,
              "#000019"
             ],
             [
              1,
              "#000020"
             ]
            ],
            "type": "contour"
           }
          ],
          "contourcarpet": [
           {
            "colorscale": [
             [
              0,
              "#000011"
             ],
             [
              0.1111111111111111,
              "#000012"
             ],
             [
              0.2222222222222222,
              "#000013"
             ],
             [
              0.3333333333333333,
              "#000014"
             ],
             [
              0.4444444444444444,
              "#000015"
             ],
             [
              0.5555555555555556,
              "#000016"
             ],
             [
              0.6666666666666666,
              "#000017"
             ],
             [
              0.7777777777777778,
              "#000018"
             ],
             [
              0.8888888888888888,
              "#000019"
             ],
             [
              1,
              "#000020"
             ]
            ],
            "type": "contourcarpet"
           }
          ],
          "heatmap": [
           {
            "colorscale": [
             [
              0,
              "#000011"
             ],
             [
              0.1111111111111111,
              "#000012"
             ],
             [
              0.2222222222222222,
              "#000013"
             ],
             [
              0.3333333333333333,
              "#000014"
             ],
             [
              0.4444444444444444,
              "#000015"
             ],
             [
              0.5555555555555556,
              "#000016"
             ],
             [
              0.6666666666666666,
              "#000017"
             ],
             [
              0.7777777777777778,
              "#000018"
             ],
             [
              0.8888888888888888,
              "#000019"
             ],
             [
              1,
              "#000020"
             ]
            ],
            "type": "heatmap"
           }
          ],
          "histogram2d": [
           {
            "colorscale": [
             [
              0,
              "#000011"
             ],
             [
              0.1111111111111111,
              "#000012"
             ],
             [
              0.2222222222222222,
              "#000013"
             ],
             [
              0.3333333333333333,
              "#000014"
             ],
             [
              0.4444444444444444,
              "#000015"
             ],
             [
              0.5555555555555556,
              "#000016"
             ],
             [
              0.6666666666666666,
              "#000017"
             ],
             [
              0.7777777777777778,
              "#000018"
             ],
             [
              0.8888888888888888,
              "#000019"
             ],
             [
              1,
              "#000020"
             ]
            ],
            "type": "histogram2d"
           }
          ],
          "icicle": [
           {
            "textfont": {
             "color": "white"
            },
            "type": "icicle"
           }
          ],
          "sankey": [
           {
            "textfont": {
             "color": "#000036"
            },
            "type": "sankey"
           }
          ],
          "scatter": [
           {
            "marker": {
             "line": {
              "width": 0
             }
            },
            "type": "scatter"
           }
          ],
          "table": [
           {
            "cells": {
             "fill": {
              "color": "#000038"
             },
             "font": {
              "color": "#000037"
             },
             "line": {
              "color": "#000039"
             }
            },
            "header": {
             "fill": {
              "color": "#000040"
             },
             "font": {
              "color": "#000036"
             },
             "line": {
              "color": "#000039"
             }
            },
            "type": "table"
           }
          ],
          "waterfall": [
           {
            "connector": {
             "line": {
              "color": "#000036",
              "width": 2
             }
            },
            "decreasing": {
             "marker": {
              "color": "#000033"
             }
            },
            "increasing": {
             "marker": {
              "color": "#000032"
             }
            },
            "totals": {
             "marker": {
              "color": "#000034"
             }
            },
            "type": "waterfall"
           }
          ]
         },
         "layout": {
          "coloraxis": {
           "colorscale": [
            [
             0,
             "#000011"
            ],
            [
             0.1111111111111111,
             "#000012"
            ],
            [
             0.2222222222222222,
             "#000013"
            ],
            [
             0.3333333333333333,
             "#000014"
            ],
            [
             0.4444444444444444,
             "#000015"
            ],
            [
             0.5555555555555556,
             "#000016"
            ],
            [
             0.6666666666666666,
             "#000017"
            ],
            [
             0.7777777777777778,
             "#000018"
            ],
            [
             0.8888888888888888,
             "#000019"
            ],
            [
             1,
             "#000020"
            ]
           ]
          },
          "colorscale": {
           "diverging": [
            [
             0,
             "#000021"
            ],
            [
             0.1,
             "#000022"
            ],
            [
             0.2,
             "#000023"
            ],
            [
             0.3,
             "#000024"
            ],
            [
             0.4,
             "#000025"
            ],
            [
             0.5,
             "#000026"
            ],
            [
             0.6,
             "#000027"
            ],
            [
             0.7,
             "#000028"
            ],
            [
             0.8,
             "#000029"
            ],
            [
             0.9,
             "#000030"
            ],
            [
             1,
             "#000031"
            ]
           ],
           "sequential": [
            [
             0,
             "#000011"
            ],
            [
             0.1111111111111111,
             "#000012"
            ],
            [
             0.2222222222222222,
             "#000013"
            ],
            [
             0.3333333333333333,
             "#000014"
            ],
            [
             0.4444444444444444,
             "#000015"
            ],
            [
             0.5555555555555556,
             "#000016"
            ],
            [
             0.6666666666666666,
             "#000017"
            ],
            [
             0.7777777777777778,
             "#000018"
            ],
            [
             0.8888888888888888,
             "#000019"
            ],
            [
             1,
             "#000020"
            ]
           ],
           "sequentialminus": [
            [
             0,
             "#000011"
            ],
            [
             0.1111111111111111,
             "#000012"
            ],
            [
             0.2222222222222222,
             "#000013"
            ],
            [
             0.3333333333333333,
             "#000014"
            ],
            [
             0.4444444444444444,
             "#000015"
            ],
            [
             0.5555555555555556,
             "#000016"
            ],
            [
             0.6666666666666666,
             "#000017"
            ],
            [
             0.7777777777777778,
             "#000018"
            ],
            [
             0.8888888888888888,
             "#000019"
            ],
            [
             1,
             "#000020"
            ]
           ]
          },
          "colorway": [
           "#000001",
           "#000002",
           "#000003",
           "#000004",
           "#000005",
           "#000006",
           "#000007",
           "#000008",
           "#000009",
           "#000010"
          ]
         }
        },
        "xaxis": {
         "showgrid": false,
         "tickfont": {
          "color": "rgb(100,100,100)",
          "family": "Arial, sans-serif",
          "size": 12
         },
         "title": {
          "text": "Date"
         }
        },
        "yaxis": {
         "gridcolor": "rgb(220,220,220)",
         "showgrid": true,
         "tickfont": {
          "color": "rgb(100,100,100)",
          "family": "Arial, sans-serif",
          "size": 12
         },
         "title": {
          "text": "Units"
         }
        }
       }
      }
     },
     "metadata": {},
     "output_type": "display_data"
    },
    {
     "data": {
      "application/vnd.plotly.v1+json": {
       "config": {
        "plotlyServerURL": "https://plot.ly"
       },
       "data": [
        {
         "hovertemplate": "<b>Date</b>: %{x}<br><b>Inventory</b>: %{y} units<extra></extra>",
         "marker": {
          "color": "rgb(252, 186, 3)",
          "line": {
           "width": 0
          }
         },
         "name": "Inventory",
         "opacity": 1,
         "type": "bar",
         "x": [
          "2016-08-01",
          "2016-08-02",
          "2016-08-03",
          "2016-08-04",
          "2016-08-05",
          "2016-08-06",
          "2016-08-07",
          "2016-08-08",
          "2016-08-09",
          "2016-08-10",
          "2016-08-11",
          "2016-08-12",
          "2016-08-13",
          "2016-08-14",
          "2016-08-15"
         ],
         "y": [
          44,
          30,
          43,
          27,
          30,
          27,
          29,
          34,
          33,
          38,
          32,
          38,
          24,
          29,
          29
         ]
        },
        {
         "hovertemplate": "<b>Date</b>: %{x}<br><b>Projected Initial Inv.</b>: %{y} units<extra></extra>",
         "marker": {
          "color": "rgb(252, 186, 3)",
          "line": {
           "width": 0
          }
         },
         "name": "Projected Initial Inventory",
         "opacity": 0.6,
         "type": "bar",
         "x": [
          "2016-08-16",
          "2016-08-17",
          "2016-08-18",
          "2016-08-19",
          "2016-08-20",
          "2016-08-21",
          "2016-08-22"
         ],
         "y": [
          30,
          56,
          32,
          29,
          21,
          32,
          21
         ]
        },
        {
         "hovertemplate": "<b>Date</b>: %{x}<br><b>Projected Deliveries</b>: %{y} units<extra></extra>",
         "marker": {
          "color": "rgb(3, 148, 252)",
          "line": {
           "width": 0
          }
         },
         "name": "Projected Deliveries",
         "opacity": 0.7,
         "type": "bar",
         "x": [
          "2016-08-16",
          "2016-08-17",
          "2016-08-18",
          "2016-08-19",
          "2016-08-20",
          "2016-08-21",
          "2016-08-22"
         ],
         "y": [
          48,
          0,
          20,
          16,
          32,
          10,
          20
         ]
        },
        {
         "customdata": [
          34,
          20,
          33,
          17,
          20,
          17,
          19,
          24,
          23,
          28,
          22,
          28,
          14,
          19,
          19
         ],
         "hovertemplate": "<b>Date</b>: %{x}<br><b>Sales</b>: %{customdata} units<extra></extra>",
         "marker": {
          "color": "rgb(23, 191, 99)",
          "line": {
           "width": 0
          }
         },
         "name": "Sales",
         "opacity": 1,
         "type": "bar",
         "x": [
          "2016-08-01",
          "2016-08-02",
          "2016-08-03",
          "2016-08-04",
          "2016-08-05",
          "2016-08-06",
          "2016-08-07",
          "2016-08-08",
          "2016-08-09",
          "2016-08-10",
          "2016-08-11",
          "2016-08-12",
          "2016-08-13",
          "2016-08-14",
          "2016-08-15"
         ],
         "y": [
          -34,
          -20,
          -33,
          -17,
          -20,
          -17,
          -19,
          -24,
          -23,
          -28,
          -22,
          -28,
          -14,
          -19,
          -19
         ]
        },
        {
         "customdata": [
          22,
          24,
          23,
          24,
          21,
          21,
          21
         ],
         "hovertemplate": "<b>Date</b>: %{x}<br><b>Projected Fulfilled</b>: %{customdata} units<extra></extra>",
         "marker": {
          "color": "rgb(23, 191, 99)",
          "line": {
           "width": 0
          }
         },
         "name": "Projected Fulfilled Sales",
         "opacity": 0.6,
         "type": "bar",
         "x": [
          "2016-08-16",
          "2016-08-17",
          "2016-08-18",
          "2016-08-19",
          "2016-08-20",
          "2016-08-21",
          "2016-08-22"
         ],
         "y": [
          -22,
          -24,
          -23,
          -24,
          -21,
          -21,
          -21
         ]
        },
        {
         "customdata": [
          0,
          0,
          0,
          0,
          0,
          0,
          0
         ],
         "hovertemplate": "<b>Date</b>: %{x}<br><b>Projected Unfulfilled</b>: %{customdata} units<extra></extra>",
         "marker": {
          "color": "rgb(52, 73, 94)",
          "line": {
           "width": 0
          }
         },
         "name": "Projected Unfulfilled Sales",
         "opacity": 0.7,
         "type": "bar",
         "x": [
          "2016-08-16",
          "2016-08-17",
          "2016-08-18",
          "2016-08-19",
          "2016-08-20",
          "2016-08-21",
          "2016-08-22"
         ],
         "y": [
          0,
          0,
          0,
          0,
          0,
          0,
          0
         ]
        }
       ],
       "layout": {
        "barmode": "relative",
        "font": {
         "color": "rgb(60,60,60)",
         "family": "Arial, sans-serif"
        },
        "legend": {
         "font": {
          "family": "Arial, sans-serif",
          "size": 10
         },
         "orientation": "h",
         "x": 1,
         "xanchor": "right",
         "y": 1.02,
         "yanchor": "bottom"
        },
        "margin": {
         "b": 60,
         "l": 60,
         "r": 30,
         "t": 80
        },
        "paper_bgcolor": "rgb(248, 248, 255)",
        "plot_bgcolor": "rgb(248, 248, 255)",
        "template": {
         "data": {
          "candlestick": [
           {
            "decreasing": {
             "line": {
              "color": "#000033"
             }
            },
            "increasing": {
             "line": {
              "color": "#000032"
             }
            },
            "type": "candlestick"
           }
          ],
          "contour": [
           {
            "colorscale": [
             [
              0,
              "#000011"
             ],
             [
              0.1111111111111111,
              "#000012"
             ],
             [
              0.2222222222222222,
              "#000013"
             ],
             [
              0.3333333333333333,
              "#000014"
             ],
             [
              0.4444444444444444,
              "#000015"
             ],
             [
              0.5555555555555556,
              "#000016"
             ],
             [
              0.6666666666666666,
              "#000017"
             ],
             [
              0.7777777777777778,
              "#000018"
             ],
             [
              0.8888888888888888,
              "#000019"
             ],
             [
              1,
              "#000020"
             ]
            ],
            "type": "contour"
           }
          ],
          "contourcarpet": [
           {
            "colorscale": [
             [
              0,
              "#000011"
             ],
             [
              0.1111111111111111,
              "#000012"
             ],
             [
              0.2222222222222222,
              "#000013"
             ],
             [
              0.3333333333333333,
              "#000014"
             ],
             [
              0.4444444444444444,
              "#000015"
             ],
             [
              0.5555555555555556,
              "#000016"
             ],
             [
              0.6666666666666666,
              "#000017"
             ],
             [
              0.7777777777777778,
              "#000018"
             ],
             [
              0.8888888888888888,
              "#000019"
             ],
             [
              1,
              "#000020"
             ]
            ],
            "type": "contourcarpet"
           }
          ],
          "heatmap": [
           {
            "colorscale": [
             [
              0,
              "#000011"
             ],
             [
              0.1111111111111111,
              "#000012"
             ],
             [
              0.2222222222222222,
              "#000013"
             ],
             [
              0.3333333333333333,
              "#000014"
             ],
             [
              0.4444444444444444,
              "#000015"
             ],
             [
              0.5555555555555556,
              "#000016"
             ],
             [
              0.6666666666666666,
              "#000017"
             ],
             [
              0.7777777777777778,
              "#000018"
             ],
             [
              0.8888888888888888,
              "#000019"
             ],
             [
              1,
              "#000020"
             ]
            ],
            "type": "heatmap"
           }
          ],
          "histogram2d": [
           {
            "colorscale": [
             [
              0,
              "#000011"
             ],
             [
              0.1111111111111111,
              "#000012"
             ],
             [
              0.2222222222222222,
              "#000013"
             ],
             [
              0.3333333333333333,
              "#000014"
             ],
             [
              0.4444444444444444,
              "#000015"
             ],
             [
              0.5555555555555556,
              "#000016"
             ],
             [
              0.6666666666666666,
              "#000017"
             ],
             [
              0.7777777777777778,
              "#000018"
             ],
             [
              0.8888888888888888,
              "#000019"
             ],
             [
              1,
              "#000020"
             ]
            ],
            "type": "histogram2d"
           }
          ],
          "icicle": [
           {
            "textfont": {
             "color": "white"
            },
            "type": "icicle"
           }
          ],
          "sankey": [
           {
            "textfont": {
             "color": "#000036"
            },
            "type": "sankey"
           }
          ],
          "scatter": [
           {
            "marker": {
             "line": {
              "width": 0
             }
            },
            "type": "scatter"
           }
          ],
          "table": [
           {
            "cells": {
             "fill": {
              "color": "#000038"
             },
             "font": {
              "color": "#000037"
             },
             "line": {
              "color": "#000039"
             }
            },
            "header": {
             "fill": {
              "color": "#000040"
             },
             "font": {
              "color": "#000036"
             },
             "line": {
              "color": "#000039"
             }
            },
            "type": "table"
           }
          ],
          "waterfall": [
           {
            "connector": {
             "line": {
              "color": "#000036",
              "width": 2
             }
            },
            "decreasing": {
             "marker": {
              "color": "#000033"
             }
            },
            "increasing": {
             "marker": {
              "color": "#000032"
             }
            },
            "totals": {
             "marker": {
              "color": "#000034"
             }
            },
            "type": "waterfall"
           }
          ]
         },
         "layout": {
          "coloraxis": {
           "colorscale": [
            [
             0,
             "#000011"
            ],
            [
             0.1111111111111111,
             "#000012"
            ],
            [
             0.2222222222222222,
             "#000013"
            ],
            [
             0.3333333333333333,
             "#000014"
            ],
            [
             0.4444444444444444,
             "#000015"
            ],
            [
             0.5555555555555556,
             "#000016"
            ],
            [
             0.6666666666666666,
             "#000017"
            ],
            [
             0.7777777777777778,
             "#000018"
            ],
            [
             0.8888888888888888,
             "#000019"
            ],
            [
             1,
             "#000020"
            ]
           ]
          },
          "colorscale": {
           "diverging": [
            [
             0,
             "#000021"
            ],
            [
             0.1,
             "#000022"
            ],
            [
             0.2,
             "#000023"
            ],
            [
             0.3,
             "#000024"
            ],
            [
             0.4,
             "#000025"
            ],
            [
             0.5,
             "#000026"
            ],
            [
             0.6,
             "#000027"
            ],
            [
             0.7,
             "#000028"
            ],
            [
             0.8,
             "#000029"
            ],
            [
             0.9,
             "#000030"
            ],
            [
             1,
             "#000031"
            ]
           ],
           "sequential": [
            [
             0,
             "#000011"
            ],
            [
             0.1111111111111111,
             "#000012"
            ],
            [
             0.2222222222222222,
             "#000013"
            ],
            [
             0.3333333333333333,
             "#000014"
            ],
            [
             0.4444444444444444,
             "#000015"
            ],
            [
             0.5555555555555556,
             "#000016"
            ],
            [
             0.6666666666666666,
             "#000017"
            ],
            [
             0.7777777777777778,
             "#000018"
            ],
            [
             0.8888888888888888,
             "#000019"
            ],
            [
             1,
             "#000020"
            ]
           ],
           "sequentialminus": [
            [
             0,
             "#000011"
            ],
            [
             0.1111111111111111,
             "#000012"
            ],
            [
             0.2222222222222222,
             "#000013"
            ],
            [
             0.3333333333333333,
             "#000014"
            ],
            [
             0.4444444444444444,
             "#000015"
            ],
            [
             0.5555555555555556,
             "#000016"
            ],
            [
             0.6666666666666666,
             "#000017"
            ],
            [
             0.7777777777777778,
             "#000018"
            ],
            [
             0.8888888888888888,
             "#000019"
            ],
            [
             1,
             "#000020"
            ]
           ]
          },
          "colorway": [
           "#000001",
           "#000002",
           "#000003",
           "#000004",
           "#000005",
           "#000006",
           "#000007",
           "#000008",
           "#000009",
           "#000010"
          ]
         }
        },
        "xaxis": {
         "showgrid": false,
         "tickfont": {
          "color": "rgb(100,100,100)",
          "family": "Arial, sans-serif",
          "size": 12
         },
         "title": {
          "text": "Date"
         }
        },
        "yaxis": {
         "gridcolor": "rgb(220,220,220)",
         "showgrid": true,
         "tickfont": {
          "color": "rgb(100,100,100)",
          "family": "Arial, sans-serif",
          "size": 12
         },
         "title": {
          "text": "Units"
         }
        }
       }
      }
     },
     "metadata": {},
     "output_type": "display_data"
    },
    {
     "data": {
      "application/vnd.plotly.v1+json": {
       "config": {
        "plotlyServerURL": "https://plot.ly"
       },
       "data": [
        {
         "hovertemplate": "<b>Date</b>: %{x}<br><b>Inventory</b>: %{y} units<extra></extra>",
         "marker": {
          "color": "rgb(252, 186, 3)",
          "line": {
           "width": 0
          }
         },
         "name": "Inventory",
         "opacity": 1,
         "type": "bar",
         "x": [
          "2016-08-01",
          "2016-08-02",
          "2016-08-03",
          "2016-08-04",
          "2016-08-05",
          "2016-08-06",
          "2016-08-07",
          "2016-08-08",
          "2016-08-09",
          "2016-08-10",
          "2016-08-11",
          "2016-08-12",
          "2016-08-13",
          "2016-08-14",
          "2016-08-15"
         ],
         "y": [
          76,
          58,
          60,
          44,
          75,
          97,
          82,
          64,
          53,
          53,
          68,
          91,
          105,
          82,
          59
         ]
        },
        {
         "hovertemplate": "<b>Date</b>: %{x}<br><b>Projected Initial Inv.</b>: %{y} units<extra></extra>",
         "marker": {
          "color": "rgb(252, 186, 3)",
          "line": {
           "width": 0
          }
         },
         "name": "Projected Initial Inventory",
         "opacity": 0.6,
         "type": "bar",
         "x": [
          "2016-08-16",
          "2016-08-17",
          "2016-08-18",
          "2016-08-19",
          "2016-08-20",
          "2016-08-21",
          "2016-08-22"
         ],
         "y": [
          30,
          20,
          28,
          23,
          21,
          21,
          20
         ]
        },
        {
         "hovertemplate": "<b>Date</b>: %{x}<br><b>Projected Deliveries</b>: %{y} units<extra></extra>",
         "marker": {
          "color": "rgb(3, 148, 252)",
          "line": {
           "width": 0
          }
         },
         "name": "Projected Deliveries",
         "opacity": 0.7,
         "type": "bar",
         "x": [
          "2016-08-16",
          "2016-08-17",
          "2016-08-18",
          "2016-08-19",
          "2016-08-20",
          "2016-08-21",
          "2016-08-22"
         ],
         "y": [
          36,
          60,
          44,
          56,
          70,
          64,
          54
         ]
        },
        {
         "customdata": [
          66,
          48,
          50,
          34,
          65,
          87,
          72,
          54,
          43,
          43,
          58,
          81,
          95,
          72,
          49
         ],
         "hovertemplate": "<b>Date</b>: %{x}<br><b>Sales</b>: %{customdata} units<extra></extra>",
         "marker": {
          "color": "rgb(23, 191, 99)",
          "line": {
           "width": 0
          }
         },
         "name": "Sales",
         "opacity": 1,
         "type": "bar",
         "x": [
          "2016-08-01",
          "2016-08-02",
          "2016-08-03",
          "2016-08-04",
          "2016-08-05",
          "2016-08-06",
          "2016-08-07",
          "2016-08-08",
          "2016-08-09",
          "2016-08-10",
          "2016-08-11",
          "2016-08-12",
          "2016-08-13",
          "2016-08-14",
          "2016-08-15"
         ],
         "y": [
          -66,
          -48,
          -50,
          -34,
          -65,
          -87,
          -72,
          -54,
          -43,
          -43,
          -58,
          -81,
          -95,
          -72,
          -49
         ]
        },
        {
         "customdata": [
          46,
          52,
          49,
          58,
          70,
          65,
          49
         ],
         "hovertemplate": "<b>Date</b>: %{x}<br><b>Projected Fulfilled</b>: %{customdata} units<extra></extra>",
         "marker": {
          "color": "rgb(23, 191, 99)",
          "line": {
           "width": 0
          }
         },
         "name": "Projected Fulfilled Sales",
         "opacity": 0.6,
         "type": "bar",
         "x": [
          "2016-08-16",
          "2016-08-17",
          "2016-08-18",
          "2016-08-19",
          "2016-08-20",
          "2016-08-21",
          "2016-08-22"
         ],
         "y": [
          -46,
          -52,
          -49,
          -58,
          -70,
          -65,
          -49
         ]
        },
        {
         "customdata": [
          0,
          0,
          0,
          0,
          0,
          0,
          0
         ],
         "hovertemplate": "<b>Date</b>: %{x}<br><b>Projected Unfulfilled</b>: %{customdata} units<extra></extra>",
         "marker": {
          "color": "rgb(52, 73, 94)",
          "line": {
           "width": 0
          }
         },
         "name": "Projected Unfulfilled Sales",
         "opacity": 0.7,
         "type": "bar",
         "x": [
          "2016-08-16",
          "2016-08-17",
          "2016-08-18",
          "2016-08-19",
          "2016-08-20",
          "2016-08-21",
          "2016-08-22"
         ],
         "y": [
          0,
          0,
          0,
          0,
          0,
          0,
          0
         ]
        }
       ],
       "layout": {
        "barmode": "relative",
        "font": {
         "color": "rgb(60,60,60)",
         "family": "Arial, sans-serif"
        },
        "legend": {
         "font": {
          "family": "Arial, sans-serif",
          "size": 10
         },
         "orientation": "h",
         "x": 1,
         "xanchor": "right",
         "y": 1.02,
         "yanchor": "bottom"
        },
        "margin": {
         "b": 60,
         "l": 60,
         "r": 30,
         "t": 80
        },
        "paper_bgcolor": "rgb(248, 248, 255)",
        "plot_bgcolor": "rgb(248, 248, 255)",
        "template": {
         "data": {
          "candlestick": [
           {
            "decreasing": {
             "line": {
              "color": "#000033"
             }
            },
            "increasing": {
             "line": {
              "color": "#000032"
             }
            },
            "type": "candlestick"
           }
          ],
          "contour": [
           {
            "colorscale": [
             [
              0,
              "#000011"
             ],
             [
              0.1111111111111111,
              "#000012"
             ],
             [
              0.2222222222222222,
              "#000013"
             ],
             [
              0.3333333333333333,
              "#000014"
             ],
             [
              0.4444444444444444,
              "#000015"
             ],
             [
              0.5555555555555556,
              "#000016"
             ],
             [
              0.6666666666666666,
              "#000017"
             ],
             [
              0.7777777777777778,
              "#000018"
             ],
             [
              0.8888888888888888,
              "#000019"
             ],
             [
              1,
              "#000020"
             ]
            ],
            "type": "contour"
           }
          ],
          "contourcarpet": [
           {
            "colorscale": [
             [
              0,
              "#000011"
             ],
             [
              0.1111111111111111,
              "#000012"
             ],
             [
              0.2222222222222222,
              "#000013"
             ],
             [
              0.3333333333333333,
              "#000014"
             ],
             [
              0.4444444444444444,
              "#000015"
             ],
             [
              0.5555555555555556,
              "#000016"
             ],
             [
              0.6666666666666666,
              "#000017"
             ],
             [
              0.7777777777777778,
              "#000018"
             ],
             [
              0.8888888888888888,
              "#000019"
             ],
             [
              1,
              "#000020"
             ]
            ],
            "type": "contourcarpet"
           }
          ],
          "heatmap": [
           {
            "colorscale": [
             [
              0,
              "#000011"
             ],
             [
              0.1111111111111111,
              "#000012"
             ],
             [
              0.2222222222222222,
              "#000013"
             ],
             [
              0.3333333333333333,
              "#000014"
             ],
             [
              0.4444444444444444,
              "#000015"
             ],
             [
              0.5555555555555556,
              "#000016"
             ],
             [
              0.6666666666666666,
              "#000017"
             ],
             [
              0.7777777777777778,
              "#000018"
             ],
             [
              0.8888888888888888,
              "#000019"
             ],
             [
              1,
              "#000020"
             ]
            ],
            "type": "heatmap"
           }
          ],
          "histogram2d": [
           {
            "colorscale": [
             [
              0,
              "#000011"
             ],
             [
              0.1111111111111111,
              "#000012"
             ],
             [
              0.2222222222222222,
              "#000013"
             ],
             [
              0.3333333333333333,
              "#000014"
             ],
             [
              0.4444444444444444,
              "#000015"
             ],
             [
              0.5555555555555556,
              "#000016"
             ],
             [
              0.6666666666666666,
              "#000017"
             ],
             [
              0.7777777777777778,
              "#000018"
             ],
             [
              0.8888888888888888,
              "#000019"
             ],
             [
              1,
              "#000020"
             ]
            ],
            "type": "histogram2d"
           }
          ],
          "icicle": [
           {
            "textfont": {
             "color": "white"
            },
            "type": "icicle"
           }
          ],
          "sankey": [
           {
            "textfont": {
             "color": "#000036"
            },
            "type": "sankey"
           }
          ],
          "scatter": [
           {
            "marker": {
             "line": {
              "width": 0
             }
            },
            "type": "scatter"
           }
          ],
          "table": [
           {
            "cells": {
             "fill": {
              "color": "#000038"
             },
             "font": {
              "color": "#000037"
             },
             "line": {
              "color": "#000039"
             }
            },
            "header": {
             "fill": {
              "color": "#000040"
             },
             "font": {
              "color": "#000036"
             },
             "line": {
              "color": "#000039"
             }
            },
            "type": "table"
           }
          ],
          "waterfall": [
           {
            "connector": {
             "line": {
              "color": "#000036",
              "width": 2
             }
            },
            "decreasing": {
             "marker": {
              "color": "#000033"
             }
            },
            "increasing": {
             "marker": {
              "color": "#000032"
             }
            },
            "totals": {
             "marker": {
              "color": "#000034"
             }
            },
            "type": "waterfall"
           }
          ]
         },
         "layout": {
          "coloraxis": {
           "colorscale": [
            [
             0,
             "#000011"
            ],
            [
             0.1111111111111111,
             "#000012"
            ],
            [
             0.2222222222222222,
             "#000013"
            ],
            [
             0.3333333333333333,
             "#000014"
            ],
            [
             0.4444444444444444,
             "#000015"
            ],
            [
             0.5555555555555556,
             "#000016"
            ],
            [
             0.6666666666666666,
             "#000017"
            ],
            [
             0.7777777777777778,
             "#000018"
            ],
            [
             0.8888888888888888,
             "#000019"
            ],
            [
             1,
             "#000020"
            ]
           ]
          },
          "colorscale": {
           "diverging": [
            [
             0,
             "#000021"
            ],
            [
             0.1,
             "#000022"
            ],
            [
             0.2,
             "#000023"
            ],
            [
             0.3,
             "#000024"
            ],
            [
             0.4,
             "#000025"
            ],
            [
             0.5,
             "#000026"
            ],
            [
             0.6,
             "#000027"
            ],
            [
             0.7,
             "#000028"
            ],
            [
             0.8,
             "#000029"
            ],
            [
             0.9,
             "#000030"
            ],
            [
             1,
             "#000031"
            ]
           ],
           "sequential": [
            [
             0,
             "#000011"
            ],
            [
             0.1111111111111111,
             "#000012"
            ],
            [
             0.2222222222222222,
             "#000013"
            ],
            [
             0.3333333333333333,
             "#000014"
            ],
            [
             0.4444444444444444,
             "#000015"
            ],
            [
             0.5555555555555556,
             "#000016"
            ],
            [
             0.6666666666666666,
             "#000017"
            ],
            [
             0.7777777777777778,
             "#000018"
            ],
            [
             0.8888888888888888,
             "#000019"
            ],
            [
             1,
             "#000020"
            ]
           ],
           "sequentialminus": [
            [
             0,
             "#000011"
            ],
            [
             0.1111111111111111,
             "#000012"
            ],
            [
             0.2222222222222222,
             "#000013"
            ],
            [
             0.3333333333333333,
             "#000014"
            ],
            [
             0.4444444444444444,
             "#000015"
            ],
            [
             0.5555555555555556,
             "#000016"
            ],
            [
             0.6666666666666666,
             "#000017"
            ],
            [
             0.7777777777777778,
             "#000018"
            ],
            [
             0.8888888888888888,
             "#000019"
            ],
            [
             1,
             "#000020"
            ]
           ]
          },
          "colorway": [
           "#000001",
           "#000002",
           "#000003",
           "#000004",
           "#000005",
           "#000006",
           "#000007",
           "#000008",
           "#000009",
           "#000010"
          ]
         }
        },
        "xaxis": {
         "showgrid": false,
         "tickfont": {
          "color": "rgb(100,100,100)",
          "family": "Arial, sans-serif",
          "size": 12
         },
         "title": {
          "text": "Date"
         }
        },
        "yaxis": {
         "gridcolor": "rgb(220,220,220)",
         "showgrid": true,
         "tickfont": {
          "color": "rgb(100,100,100)",
          "family": "Arial, sans-serif",
          "size": 12
         },
         "title": {
          "text": "Units"
         }
        }
       }
      }
     },
     "metadata": {},
     "output_type": "display_data"
    },
    {
     "data": {
      "application/vnd.plotly.v1+json": {
       "config": {
        "plotlyServerURL": "https://plot.ly"
       },
       "data": [
        {
         "hovertemplate": "<b>Date</b>: %{x}<br><b>Inventory</b>: %{y} units<extra></extra>",
         "marker": {
          "color": "rgb(252, 186, 3)",
          "line": {
           "width": 0
          }
         },
         "name": "Inventory",
         "opacity": 1,
         "type": "bar",
         "x": [
          "2016-08-01",
          "2016-08-02",
          "2016-08-03",
          "2016-08-04",
          "2016-08-05",
          "2016-08-06",
          "2016-08-07",
          "2016-08-08",
          "2016-08-09",
          "2016-08-10",
          "2016-08-11",
          "2016-08-12",
          "2016-08-13",
          "2016-08-14",
          "2016-08-15"
         ],
         "y": [
          89,
          67,
          63,
          41,
          74,
          65,
          82,
          48,
          51,
          60,
          57,
          66,
          68,
          79,
          67
         ]
        },
        {
         "hovertemplate": "<b>Date</b>: %{x}<br><b>Projected Initial Inv.</b>: %{y} units<extra></extra>",
         "marker": {
          "color": "rgb(252, 186, 3)",
          "line": {
           "width": 0
          }
         },
         "name": "Projected Initial Inventory",
         "opacity": 0.6,
         "type": "bar",
         "x": [
          "2016-08-16",
          "2016-08-17",
          "2016-08-18",
          "2016-08-19",
          "2016-08-20",
          "2016-08-21",
          "2016-08-22"
         ],
         "y": [
          30,
          20,
          21,
          22,
          21,
          21,
          21
         ]
        },
        {
         "hovertemplate": "<b>Date</b>: %{x}<br><b>Projected Deliveries</b>: %{y} units<extra></extra>",
         "marker": {
          "color": "rgb(3, 148, 252)",
          "line": {
           "width": 0
          }
         },
         "name": "Projected Deliveries",
         "opacity": 0.7,
         "type": "bar",
         "x": [
          "2016-08-16",
          "2016-08-17",
          "2016-08-18",
          "2016-08-19",
          "2016-08-20",
          "2016-08-21",
          "2016-08-22"
         ],
         "y": [
          42,
          56,
          54,
          54,
          58,
          58,
          56
         ]
        },
        {
         "customdata": [
          79,
          57,
          53,
          31,
          64,
          55,
          72,
          38,
          41,
          50,
          47,
          56,
          58,
          69,
          57
         ],
         "hovertemplate": "<b>Date</b>: %{x}<br><b>Sales</b>: %{customdata} units<extra></extra>",
         "marker": {
          "color": "rgb(23, 191, 99)",
          "line": {
           "width": 0
          }
         },
         "name": "Sales",
         "opacity": 1,
         "type": "bar",
         "x": [
          "2016-08-01",
          "2016-08-02",
          "2016-08-03",
          "2016-08-04",
          "2016-08-05",
          "2016-08-06",
          "2016-08-07",
          "2016-08-08",
          "2016-08-09",
          "2016-08-10",
          "2016-08-11",
          "2016-08-12",
          "2016-08-13",
          "2016-08-14",
          "2016-08-15"
         ],
         "y": [
          -79,
          -57,
          -53,
          -31,
          -64,
          -55,
          -72,
          -38,
          -41,
          -50,
          -47,
          -56,
          -58,
          -69,
          -57
         ]
        },
        {
         "customdata": [
          52,
          55,
          53,
          55,
          58,
          58,
          55
         ],
         "hovertemplate": "<b>Date</b>: %{x}<br><b>Projected Fulfilled</b>: %{customdata} units<extra></extra>",
         "marker": {
          "color": "rgb(23, 191, 99)",
          "line": {
           "width": 0
          }
         },
         "name": "Projected Fulfilled Sales",
         "opacity": 0.6,
         "type": "bar",
         "x": [
          "2016-08-16",
          "2016-08-17",
          "2016-08-18",
          "2016-08-19",
          "2016-08-20",
          "2016-08-21",
          "2016-08-22"
         ],
         "y": [
          -52,
          -55,
          -53,
          -55,
          -58,
          -58,
          -55
         ]
        },
        {
         "customdata": [
          0,
          0,
          0,
          0,
          0,
          0,
          0
         ],
         "hovertemplate": "<b>Date</b>: %{x}<br><b>Projected Unfulfilled</b>: %{customdata} units<extra></extra>",
         "marker": {
          "color": "rgb(52, 73, 94)",
          "line": {
           "width": 0
          }
         },
         "name": "Projected Unfulfilled Sales",
         "opacity": 0.7,
         "type": "bar",
         "x": [
          "2016-08-16",
          "2016-08-17",
          "2016-08-18",
          "2016-08-19",
          "2016-08-20",
          "2016-08-21",
          "2016-08-22"
         ],
         "y": [
          0,
          0,
          0,
          0,
          0,
          0,
          0
         ]
        }
       ],
       "layout": {
        "barmode": "relative",
        "font": {
         "color": "rgb(60,60,60)",
         "family": "Arial, sans-serif"
        },
        "legend": {
         "font": {
          "family": "Arial, sans-serif",
          "size": 10
         },
         "orientation": "h",
         "x": 1,
         "xanchor": "right",
         "y": 1.02,
         "yanchor": "bottom"
        },
        "margin": {
         "b": 60,
         "l": 60,
         "r": 30,
         "t": 80
        },
        "paper_bgcolor": "rgb(248, 248, 255)",
        "plot_bgcolor": "rgb(248, 248, 255)",
        "template": {
         "data": {
          "candlestick": [
           {
            "decreasing": {
             "line": {
              "color": "#000033"
             }
            },
            "increasing": {
             "line": {
              "color": "#000032"
             }
            },
            "type": "candlestick"
           }
          ],
          "contour": [
           {
            "colorscale": [
             [
              0,
              "#000011"
             ],
             [
              0.1111111111111111,
              "#000012"
             ],
             [
              0.2222222222222222,
              "#000013"
             ],
             [
              0.3333333333333333,
              "#000014"
             ],
             [
              0.4444444444444444,
              "#000015"
             ],
             [
              0.5555555555555556,
              "#000016"
             ],
             [
              0.6666666666666666,
              "#000017"
             ],
             [
              0.7777777777777778,
              "#000018"
             ],
             [
              0.8888888888888888,
              "#000019"
             ],
             [
              1,
              "#000020"
             ]
            ],
            "type": "contour"
           }
          ],
          "contourcarpet": [
           {
            "colorscale": [
             [
              0,
              "#000011"
             ],
             [
              0.1111111111111111,
              "#000012"
             ],
             [
              0.2222222222222222,
              "#000013"
             ],
             [
              0.3333333333333333,
              "#000014"
             ],
             [
              0.4444444444444444,
              "#000015"
             ],
             [
              0.5555555555555556,
              "#000016"
             ],
             [
              0.6666666666666666,
              "#000017"
             ],
             [
              0.7777777777777778,
              "#000018"
             ],
             [
              0.8888888888888888,
              "#000019"
             ],
             [
              1,
              "#000020"
             ]
            ],
            "type": "contourcarpet"
           }
          ],
          "heatmap": [
           {
            "colorscale": [
             [
              0,
              "#000011"
             ],
             [
              0.1111111111111111,
              "#000012"
             ],
             [
              0.2222222222222222,
              "#000013"
             ],
             [
              0.3333333333333333,
              "#000014"
             ],
             [
              0.4444444444444444,
              "#000015"
             ],
             [
              0.5555555555555556,
              "#000016"
             ],
             [
              0.6666666666666666,
              "#000017"
             ],
             [
              0.7777777777777778,
              "#000018"
             ],
             [
              0.8888888888888888,
              "#000019"
             ],
             [
              1,
              "#000020"
             ]
            ],
            "type": "heatmap"
           }
          ],
          "histogram2d": [
           {
            "colorscale": [
             [
              0,
              "#000011"
             ],
             [
              0.1111111111111111,
              "#000012"
             ],
             [
              0.2222222222222222,
              "#000013"
             ],
             [
              0.3333333333333333,
              "#000014"
             ],
             [
              0.4444444444444444,
              "#000015"
             ],
             [
              0.5555555555555556,
              "#000016"
             ],
             [
              0.6666666666666666,
              "#000017"
             ],
             [
              0.7777777777777778,
              "#000018"
             ],
             [
              0.8888888888888888,
              "#000019"
             ],
             [
              1,
              "#000020"
             ]
            ],
            "type": "histogram2d"
           }
          ],
          "icicle": [
           {
            "textfont": {
             "color": "white"
            },
            "type": "icicle"
           }
          ],
          "sankey": [
           {
            "textfont": {
             "color": "#000036"
            },
            "type": "sankey"
           }
          ],
          "scatter": [
           {
            "marker": {
             "line": {
              "width": 0
             }
            },
            "type": "scatter"
           }
          ],
          "table": [
           {
            "cells": {
             "fill": {
              "color": "#000038"
             },
             "font": {
              "color": "#000037"
             },
             "line": {
              "color": "#000039"
             }
            },
            "header": {
             "fill": {
              "color": "#000040"
             },
             "font": {
              "color": "#000036"
             },
             "line": {
              "color": "#000039"
             }
            },
            "type": "table"
           }
          ],
          "waterfall": [
           {
            "connector": {
             "line": {
              "color": "#000036",
              "width": 2
             }
            },
            "decreasing": {
             "marker": {
              "color": "#000033"
             }
            },
            "increasing": {
             "marker": {
              "color": "#000032"
             }
            },
            "totals": {
             "marker": {
              "color": "#000034"
             }
            },
            "type": "waterfall"
           }
          ]
         },
         "layout": {
          "coloraxis": {
           "colorscale": [
            [
             0,
             "#000011"
            ],
            [
             0.1111111111111111,
             "#000012"
            ],
            [
             0.2222222222222222,
             "#000013"
            ],
            [
             0.3333333333333333,
             "#000014"
            ],
            [
             0.4444444444444444,
             "#000015"
            ],
            [
             0.5555555555555556,
             "#000016"
            ],
            [
             0.6666666666666666,
             "#000017"
            ],
            [
             0.7777777777777778,
             "#000018"
            ],
            [
             0.8888888888888888,
             "#000019"
            ],
            [
             1,
             "#000020"
            ]
           ]
          },
          "colorscale": {
           "diverging": [
            [
             0,
             "#000021"
            ],
            [
             0.1,
             "#000022"
            ],
            [
             0.2,
             "#000023"
            ],
            [
             0.3,
             "#000024"
            ],
            [
             0.4,
             "#000025"
            ],
            [
             0.5,
             "#000026"
            ],
            [
             0.6,
             "#000027"
            ],
            [
             0.7,
             "#000028"
            ],
            [
             0.8,
             "#000029"
            ],
            [
             0.9,
             "#000030"
            ],
            [
             1,
             "#000031"
            ]
           ],
           "sequential": [
            [
             0,
             "#000011"
            ],
            [
             0.1111111111111111,
             "#000012"
            ],
            [
             0.2222222222222222,
             "#000013"
            ],
            [
             0.3333333333333333,
             "#000014"
            ],
            [
             0.4444444444444444,
             "#000015"
            ],
            [
             0.5555555555555556,
             "#000016"
            ],
            [
             0.6666666666666666,
             "#000017"
            ],
            [
             0.7777777777777778,
             "#000018"
            ],
            [
             0.8888888888888888,
             "#000019"
            ],
            [
             1,
             "#000020"
            ]
           ],
           "sequentialminus": [
            [
             0,
             "#000011"
            ],
            [
             0.1111111111111111,
             "#000012"
            ],
            [
             0.2222222222222222,
             "#000013"
            ],
            [
             0.3333333333333333,
             "#000014"
            ],
            [
             0.4444444444444444,
             "#000015"
            ],
            [
             0.5555555555555556,
             "#000016"
            ],
            [
             0.6666666666666666,
             "#000017"
            ],
            [
             0.7777777777777778,
             "#000018"
            ],
            [
             0.8888888888888888,
             "#000019"
            ],
            [
             1,
             "#000020"
            ]
           ]
          },
          "colorway": [
           "#000001",
           "#000002",
           "#000003",
           "#000004",
           "#000005",
           "#000006",
           "#000007",
           "#000008",
           "#000009",
           "#000010"
          ]
         }
        },
        "xaxis": {
         "showgrid": false,
         "tickfont": {
          "color": "rgb(100,100,100)",
          "family": "Arial, sans-serif",
          "size": 12
         },
         "title": {
          "text": "Date"
         }
        },
        "yaxis": {
         "gridcolor": "rgb(220,220,220)",
         "showgrid": true,
         "tickfont": {
          "color": "rgb(100,100,100)",
          "family": "Arial, sans-serif",
          "size": 12
         },
         "title": {
          "text": "Units"
         }
        }
       }
      }
     },
     "metadata": {},
     "output_type": "display_data"
    },
    {
     "data": {
      "application/vnd.plotly.v1+json": {
       "config": {
        "plotlyServerURL": "https://plot.ly"
       },
       "data": [
        {
         "hovertemplate": "<b>Date</b>: %{x}<br><b>Inventory</b>: %{y} units<extra></extra>",
         "marker": {
          "color": "rgb(252, 186, 3)",
          "line": {
           "width": 0
          }
         },
         "name": "Inventory",
         "opacity": 1,
         "type": "bar",
         "x": [
          "2016-08-01",
          "2016-08-02",
          "2016-08-03",
          "2016-08-04",
          "2016-08-05",
          "2016-08-06",
          "2016-08-07",
          "2016-08-08",
          "2016-08-09",
          "2016-08-10",
          "2016-08-11",
          "2016-08-12",
          "2016-08-13",
          "2016-08-14",
          "2016-08-15"
         ],
         "y": [
          54,
          39,
          45,
          30,
          43,
          47,
          46,
          27,
          27,
          44,
          26,
          58,
          34,
          45,
          27
         ]
        },
        {
         "hovertemplate": "<b>Date</b>: %{x}<br><b>Projected Initial Inv.</b>: %{y} units<extra></extra>",
         "marker": {
          "color": "rgb(252, 186, 3)",
          "line": {
           "width": 0
          }
         },
         "name": "Projected Initial Inventory",
         "opacity": 0.6,
         "type": "bar",
         "x": [
          "2016-08-16",
          "2016-08-17",
          "2016-08-18",
          "2016-08-19",
          "2016-08-20",
          "2016-08-21",
          "2016-08-22"
         ],
         "y": [
          30,
          23,
          25,
          32,
          22,
          21,
          24
         ]
        },
        {
         "hovertemplate": "<b>Date</b>: %{x}<br><b>Projected Deliveries</b>: %{y} units<extra></extra>",
         "marker": {
          "color": "rgb(3, 148, 252)",
          "line": {
           "width": 0
          }
         },
         "name": "Projected Deliveries",
         "opacity": 0.7,
         "type": "bar",
         "x": [
          "2016-08-16",
          "2016-08-17",
          "2016-08-18",
          "2016-08-19",
          "2016-08-20",
          "2016-08-21",
          "2016-08-22"
         ],
         "y": [
          14,
          28,
          28,
          14,
          28,
          28,
          28
         ]
        },
        {
         "customdata": [
          44,
          29,
          35,
          20,
          33,
          37,
          36,
          17,
          17,
          34,
          16,
          48,
          24,
          35,
          17
         ],
         "hovertemplate": "<b>Date</b>: %{x}<br><b>Sales</b>: %{customdata} units<extra></extra>",
         "marker": {
          "color": "rgb(23, 191, 99)",
          "line": {
           "width": 0
          }
         },
         "name": "Sales",
         "opacity": 1,
         "type": "bar",
         "x": [
          "2016-08-01",
          "2016-08-02",
          "2016-08-03",
          "2016-08-04",
          "2016-08-05",
          "2016-08-06",
          "2016-08-07",
          "2016-08-08",
          "2016-08-09",
          "2016-08-10",
          "2016-08-11",
          "2016-08-12",
          "2016-08-13",
          "2016-08-14",
          "2016-08-15"
         ],
         "y": [
          -44,
          -29,
          -35,
          -20,
          -33,
          -37,
          -36,
          -17,
          -17,
          -34,
          -16,
          -48,
          -24,
          -35,
          -17
         ]
        },
        {
         "customdata": [
          21,
          26,
          21,
          24,
          29,
          25,
          23
         ],
         "hovertemplate": "<b>Date</b>: %{x}<br><b>Projected Fulfilled</b>: %{customdata} units<extra></extra>",
         "marker": {
          "color": "rgb(23, 191, 99)",
          "line": {
           "width": 0
          }
         },
         "name": "Projected Fulfilled Sales",
         "opacity": 0.6,
         "type": "bar",
         "x": [
          "2016-08-16",
          "2016-08-17",
          "2016-08-18",
          "2016-08-19",
          "2016-08-20",
          "2016-08-21",
          "2016-08-22"
         ],
         "y": [
          -21,
          -26,
          -21,
          -24,
          -29,
          -25,
          -23
         ]
        },
        {
         "customdata": [
          0,
          0,
          0,
          0,
          0,
          0,
          0
         ],
         "hovertemplate": "<b>Date</b>: %{x}<br><b>Projected Unfulfilled</b>: %{customdata} units<extra></extra>",
         "marker": {
          "color": "rgb(52, 73, 94)",
          "line": {
           "width": 0
          }
         },
         "name": "Projected Unfulfilled Sales",
         "opacity": 0.7,
         "type": "bar",
         "x": [
          "2016-08-16",
          "2016-08-17",
          "2016-08-18",
          "2016-08-19",
          "2016-08-20",
          "2016-08-21",
          "2016-08-22"
         ],
         "y": [
          0,
          0,
          0,
          0,
          0,
          0,
          0
         ]
        }
       ],
       "layout": {
        "barmode": "relative",
        "font": {
         "color": "rgb(60,60,60)",
         "family": "Arial, sans-serif"
        },
        "legend": {
         "font": {
          "family": "Arial, sans-serif",
          "size": 10
         },
         "orientation": "h",
         "x": 1,
         "xanchor": "right",
         "y": 1.02,
         "yanchor": "bottom"
        },
        "margin": {
         "b": 60,
         "l": 60,
         "r": 30,
         "t": 80
        },
        "paper_bgcolor": "rgb(248, 248, 255)",
        "plot_bgcolor": "rgb(248, 248, 255)",
        "template": {
         "data": {
          "candlestick": [
           {
            "decreasing": {
             "line": {
              "color": "#000033"
             }
            },
            "increasing": {
             "line": {
              "color": "#000032"
             }
            },
            "type": "candlestick"
           }
          ],
          "contour": [
           {
            "colorscale": [
             [
              0,
              "#000011"
             ],
             [
              0.1111111111111111,
              "#000012"
             ],
             [
              0.2222222222222222,
              "#000013"
             ],
             [
              0.3333333333333333,
              "#000014"
             ],
             [
              0.4444444444444444,
              "#000015"
             ],
             [
              0.5555555555555556,
              "#000016"
             ],
             [
              0.6666666666666666,
              "#000017"
             ],
             [
              0.7777777777777778,
              "#000018"
             ],
             [
              0.8888888888888888,
              "#000019"
             ],
             [
              1,
              "#000020"
             ]
            ],
            "type": "contour"
           }
          ],
          "contourcarpet": [
           {
            "colorscale": [
             [
              0,
              "#000011"
             ],
             [
              0.1111111111111111,
              "#000012"
             ],
             [
              0.2222222222222222,
              "#000013"
             ],
             [
              0.3333333333333333,
              "#000014"
             ],
             [
              0.4444444444444444,
              "#000015"
             ],
             [
              0.5555555555555556,
              "#000016"
             ],
             [
              0.6666666666666666,
              "#000017"
             ],
             [
              0.7777777777777778,
              "#000018"
             ],
             [
              0.8888888888888888,
              "#000019"
             ],
             [
              1,
              "#000020"
             ]
            ],
            "type": "contourcarpet"
           }
          ],
          "heatmap": [
           {
            "colorscale": [
             [
              0,
              "#000011"
             ],
             [
              0.1111111111111111,
              "#000012"
             ],
             [
              0.2222222222222222,
              "#000013"
             ],
             [
              0.3333333333333333,
              "#000014"
             ],
             [
              0.4444444444444444,
              "#000015"
             ],
             [
              0.5555555555555556,
              "#000016"
             ],
             [
              0.6666666666666666,
              "#000017"
             ],
             [
              0.7777777777777778,
              "#000018"
             ],
             [
              0.8888888888888888,
              "#000019"
             ],
             [
              1,
              "#000020"
             ]
            ],
            "type": "heatmap"
           }
          ],
          "histogram2d": [
           {
            "colorscale": [
             [
              0,
              "#000011"
             ],
             [
              0.1111111111111111,
              "#000012"
             ],
             [
              0.2222222222222222,
              "#000013"
             ],
             [
              0.3333333333333333,
              "#000014"
             ],
             [
              0.4444444444444444,
              "#000015"
             ],
             [
              0.5555555555555556,
              "#000016"
             ],
             [
              0.6666666666666666,
              "#000017"
             ],
             [
              0.7777777777777778,
              "#000018"
             ],
             [
              0.8888888888888888,
              "#000019"
             ],
             [
              1,
              "#000020"
             ]
            ],
            "type": "histogram2d"
           }
          ],
          "icicle": [
           {
            "textfont": {
             "color": "white"
            },
            "type": "icicle"
           }
          ],
          "sankey": [
           {
            "textfont": {
             "color": "#000036"
            },
            "type": "sankey"
           }
          ],
          "scatter": [
           {
            "marker": {
             "line": {
              "width": 0
             }
            },
            "type": "scatter"
           }
          ],
          "table": [
           {
            "cells": {
             "fill": {
              "color": "#000038"
             },
             "font": {
              "color": "#000037"
             },
             "line": {
              "color": "#000039"
             }
            },
            "header": {
             "fill": {
              "color": "#000040"
             },
             "font": {
              "color": "#000036"
             },
             "line": {
              "color": "#000039"
             }
            },
            "type": "table"
           }
          ],
          "waterfall": [
           {
            "connector": {
             "line": {
              "color": "#000036",
              "width": 2
             }
            },
            "decreasing": {
             "marker": {
              "color": "#000033"
             }
            },
            "increasing": {
             "marker": {
              "color": "#000032"
             }
            },
            "totals": {
             "marker": {
              "color": "#000034"
             }
            },
            "type": "waterfall"
           }
          ]
         },
         "layout": {
          "coloraxis": {
           "colorscale": [
            [
             0,
             "#000011"
            ],
            [
             0.1111111111111111,
             "#000012"
            ],
            [
             0.2222222222222222,
             "#000013"
            ],
            [
             0.3333333333333333,
             "#000014"
            ],
            [
             0.4444444444444444,
             "#000015"
            ],
            [
             0.5555555555555556,
             "#000016"
            ],
            [
             0.6666666666666666,
             "#000017"
            ],
            [
             0.7777777777777778,
             "#000018"
            ],
            [
             0.8888888888888888,
             "#000019"
            ],
            [
             1,
             "#000020"
            ]
           ]
          },
          "colorscale": {
           "diverging": [
            [
             0,
             "#000021"
            ],
            [
             0.1,
             "#000022"
            ],
            [
             0.2,
             "#000023"
            ],
            [
             0.3,
             "#000024"
            ],
            [
             0.4,
             "#000025"
            ],
            [
             0.5,
             "#000026"
            ],
            [
             0.6,
             "#000027"
            ],
            [
             0.7,
             "#000028"
            ],
            [
             0.8,
             "#000029"
            ],
            [
             0.9,
             "#000030"
            ],
            [
             1,
             "#000031"
            ]
           ],
           "sequential": [
            [
             0,
             "#000011"
            ],
            [
             0.1111111111111111,
             "#000012"
            ],
            [
             0.2222222222222222,
             "#000013"
            ],
            [
             0.3333333333333333,
             "#000014"
            ],
            [
             0.4444444444444444,
             "#000015"
            ],
            [
             0.5555555555555556,
             "#000016"
            ],
            [
             0.6666666666666666,
             "#000017"
            ],
            [
             0.7777777777777778,
             "#000018"
            ],
            [
             0.8888888888888888,
             "#000019"
            ],
            [
             1,
             "#000020"
            ]
           ],
           "sequentialminus": [
            [
             0,
             "#000011"
            ],
            [
             0.1111111111111111,
             "#000012"
            ],
            [
             0.2222222222222222,
             "#000013"
            ],
            [
             0.3333333333333333,
             "#000014"
            ],
            [
             0.4444444444444444,
             "#000015"
            ],
            [
             0.5555555555555556,
             "#000016"
            ],
            [
             0.6666666666666666,
             "#000017"
            ],
            [
             0.7777777777777778,
             "#000018"
            ],
            [
             0.8888888888888888,
             "#000019"
            ],
            [
             1,
             "#000020"
            ]
           ]
          },
          "colorway": [
           "#000001",
           "#000002",
           "#000003",
           "#000004",
           "#000005",
           "#000006",
           "#000007",
           "#000008",
           "#000009",
           "#000010"
          ]
         }
        },
        "xaxis": {
         "showgrid": false,
         "tickfont": {
          "color": "rgb(100,100,100)",
          "family": "Arial, sans-serif",
          "size": 12
         },
         "title": {
          "text": "Date"
         }
        },
        "yaxis": {
         "gridcolor": "rgb(220,220,220)",
         "showgrid": true,
         "tickfont": {
          "color": "rgb(100,100,100)",
          "family": "Arial, sans-serif",
          "size": 12
         },
         "title": {
          "text": "Units"
         }
        }
       }
      }
     },
     "metadata": {},
     "output_type": "display_data"
    },
    {
     "data": {
      "application/vnd.plotly.v1+json": {
       "config": {
        "plotlyServerURL": "https://plot.ly"
       },
       "data": [
        {
         "hovertemplate": "<b>Date</b>: %{x}<br><b>Inventory</b>: %{y} units<extra></extra>",
         "marker": {
          "color": "rgb(252, 186, 3)",
          "line": {
           "width": 0
          }
         },
         "name": "Inventory",
         "opacity": 1,
         "type": "bar",
         "x": [
          "2016-08-01",
          "2016-08-02",
          "2016-08-03",
          "2016-08-04",
          "2016-08-05",
          "2016-08-06",
          "2016-08-07",
          "2016-08-08",
          "2016-08-09",
          "2016-08-10",
          "2016-08-11",
          "2016-08-12",
          "2016-08-13",
          "2016-08-14",
          "2016-08-15"
         ],
         "y": [
          42,
          36,
          39,
          23,
          30,
          35,
          45,
          21,
          21,
          27,
          29,
          39,
          27,
          33,
          48
         ]
        },
        {
         "hovertemplate": "<b>Date</b>: %{x}<br><b>Projected Initial Inv.</b>: %{y} units<extra></extra>",
         "marker": {
          "color": "rgb(252, 186, 3)",
          "line": {
           "width": 0
          }
         },
         "name": "Projected Initial Inventory",
         "opacity": 0.6,
         "type": "bar",
         "x": [
          "2016-08-16",
          "2016-08-17",
          "2016-08-18",
          "2016-08-19",
          "2016-08-20",
          "2016-08-21",
          "2016-08-22"
         ],
         "y": [
          30,
          21,
          27,
          20,
          25,
          28,
          33
         ]
        },
        {
         "hovertemplate": "<b>Date</b>: %{x}<br><b>Projected Deliveries</b>: %{y} units<extra></extra>",
         "marker": {
          "color": "rgb(3, 148, 252)",
          "line": {
           "width": 0
          }
         },
         "name": "Projected Deliveries",
         "opacity": 0.7,
         "type": "bar",
         "x": [
          "2016-08-16",
          "2016-08-17",
          "2016-08-18",
          "2016-08-19",
          "2016-08-20",
          "2016-08-21",
          "2016-08-22"
         ],
         "y": [
          14,
          28,
          14,
          28,
          28,
          28,
          14
         ]
        },
        {
         "customdata": [
          32,
          26,
          29,
          13,
          20,
          25,
          35,
          11,
          11,
          17,
          19,
          29,
          17,
          23,
          38
         ],
         "hovertemplate": "<b>Date</b>: %{x}<br><b>Sales</b>: %{customdata} units<extra></extra>",
         "marker": {
          "color": "rgb(23, 191, 99)",
          "line": {
           "width": 0
          }
         },
         "name": "Sales",
         "opacity": 1,
         "type": "bar",
         "x": [
          "2016-08-01",
          "2016-08-02",
          "2016-08-03",
          "2016-08-04",
          "2016-08-05",
          "2016-08-06",
          "2016-08-07",
          "2016-08-08",
          "2016-08-09",
          "2016-08-10",
          "2016-08-11",
          "2016-08-12",
          "2016-08-13",
          "2016-08-14",
          "2016-08-15"
         ],
         "y": [
          -32,
          -26,
          -29,
          -13,
          -20,
          -25,
          -35,
          -11,
          -11,
          -17,
          -19,
          -29,
          -17,
          -23,
          -38
         ]
        },
        {
         "customdata": [
          23,
          22,
          21,
          23,
          25,
          23,
          24
         ],
         "hovertemplate": "<b>Date</b>: %{x}<br><b>Projected Fulfilled</b>: %{customdata} units<extra></extra>",
         "marker": {
          "color": "rgb(23, 191, 99)",
          "line": {
           "width": 0
          }
         },
         "name": "Projected Fulfilled Sales",
         "opacity": 0.6,
         "type": "bar",
         "x": [
          "2016-08-16",
          "2016-08-17",
          "2016-08-18",
          "2016-08-19",
          "2016-08-20",
          "2016-08-21",
          "2016-08-22"
         ],
         "y": [
          -23,
          -22,
          -21,
          -23,
          -25,
          -23,
          -24
         ]
        },
        {
         "customdata": [
          0,
          0,
          0,
          0,
          0,
          0,
          0
         ],
         "hovertemplate": "<b>Date</b>: %{x}<br><b>Projected Unfulfilled</b>: %{customdata} units<extra></extra>",
         "marker": {
          "color": "rgb(52, 73, 94)",
          "line": {
           "width": 0
          }
         },
         "name": "Projected Unfulfilled Sales",
         "opacity": 0.7,
         "type": "bar",
         "x": [
          "2016-08-16",
          "2016-08-17",
          "2016-08-18",
          "2016-08-19",
          "2016-08-20",
          "2016-08-21",
          "2016-08-22"
         ],
         "y": [
          0,
          0,
          0,
          0,
          0,
          0,
          0
         ]
        }
       ],
       "layout": {
        "barmode": "relative",
        "font": {
         "color": "rgb(60,60,60)",
         "family": "Arial, sans-serif"
        },
        "legend": {
         "font": {
          "family": "Arial, sans-serif",
          "size": 10
         },
         "orientation": "h",
         "x": 1,
         "xanchor": "right",
         "y": 1.02,
         "yanchor": "bottom"
        },
        "margin": {
         "b": 60,
         "l": 60,
         "r": 30,
         "t": 80
        },
        "paper_bgcolor": "rgb(248, 248, 255)",
        "plot_bgcolor": "rgb(248, 248, 255)",
        "template": {
         "data": {
          "candlestick": [
           {
            "decreasing": {
             "line": {
              "color": "#000033"
             }
            },
            "increasing": {
             "line": {
              "color": "#000032"
             }
            },
            "type": "candlestick"
           }
          ],
          "contour": [
           {
            "colorscale": [
             [
              0,
              "#000011"
             ],
             [
              0.1111111111111111,
              "#000012"
             ],
             [
              0.2222222222222222,
              "#000013"
             ],
             [
              0.3333333333333333,
              "#000014"
             ],
             [
              0.4444444444444444,
              "#000015"
             ],
             [
              0.5555555555555556,
              "#000016"
             ],
             [
              0.6666666666666666,
              "#000017"
             ],
             [
              0.7777777777777778,
              "#000018"
             ],
             [
              0.8888888888888888,
              "#000019"
             ],
             [
              1,
              "#000020"
             ]
            ],
            "type": "contour"
           }
          ],
          "contourcarpet": [
           {
            "colorscale": [
             [
              0,
              "#000011"
             ],
             [
              0.1111111111111111,
              "#000012"
             ],
             [
              0.2222222222222222,
              "#000013"
             ],
             [
              0.3333333333333333,
              "#000014"
             ],
             [
              0.4444444444444444,
              "#000015"
             ],
             [
              0.5555555555555556,
              "#000016"
             ],
             [
              0.6666666666666666,
              "#000017"
             ],
             [
              0.7777777777777778,
              "#000018"
             ],
             [
              0.8888888888888888,
              "#000019"
             ],
             [
              1,
              "#000020"
             ]
            ],
            "type": "contourcarpet"
           }
          ],
          "heatmap": [
           {
            "colorscale": [
             [
              0,
              "#000011"
             ],
             [
              0.1111111111111111,
              "#000012"
             ],
             [
              0.2222222222222222,
              "#000013"
             ],
             [
              0.3333333333333333,
              "#000014"
             ],
             [
              0.4444444444444444,
              "#000015"
             ],
             [
              0.5555555555555556,
              "#000016"
             ],
             [
              0.6666666666666666,
              "#000017"
             ],
             [
              0.7777777777777778,
              "#000018"
             ],
             [
              0.8888888888888888,
              "#000019"
             ],
             [
              1,
              "#000020"
             ]
            ],
            "type": "heatmap"
           }
          ],
          "histogram2d": [
           {
            "colorscale": [
             [
              0,
              "#000011"
             ],
             [
              0.1111111111111111,
              "#000012"
             ],
             [
              0.2222222222222222,
              "#000013"
             ],
             [
              0.3333333333333333,
              "#000014"
             ],
             [
              0.4444444444444444,
              "#000015"
             ],
             [
              0.5555555555555556,
              "#000016"
             ],
             [
              0.6666666666666666,
              "#000017"
             ],
             [
              0.7777777777777778,
              "#000018"
             ],
             [
              0.8888888888888888,
              "#000019"
             ],
             [
              1,
              "#000020"
             ]
            ],
            "type": "histogram2d"
           }
          ],
          "icicle": [
           {
            "textfont": {
             "color": "white"
            },
            "type": "icicle"
           }
          ],
          "sankey": [
           {
            "textfont": {
             "color": "#000036"
            },
            "type": "sankey"
           }
          ],
          "scatter": [
           {
            "marker": {
             "line": {
              "width": 0
             }
            },
            "type": "scatter"
           }
          ],
          "table": [
           {
            "cells": {
             "fill": {
              "color": "#000038"
             },
             "font": {
              "color": "#000037"
             },
             "line": {
              "color": "#000039"
             }
            },
            "header": {
             "fill": {
              "color": "#000040"
             },
             "font": {
              "color": "#000036"
             },
             "line": {
              "color": "#000039"
             }
            },
            "type": "table"
           }
          ],
          "waterfall": [
           {
            "connector": {
             "line": {
              "color": "#000036",
              "width": 2
             }
            },
            "decreasing": {
             "marker": {
              "color": "#000033"
             }
            },
            "increasing": {
             "marker": {
              "color": "#000032"
             }
            },
            "totals": {
             "marker": {
              "color": "#000034"
             }
            },
            "type": "waterfall"
           }
          ]
         },
         "layout": {
          "coloraxis": {
           "colorscale": [
            [
             0,
             "#000011"
            ],
            [
             0.1111111111111111,
             "#000012"
            ],
            [
             0.2222222222222222,
             "#000013"
            ],
            [
             0.3333333333333333,
             "#000014"
            ],
            [
             0.4444444444444444,
             "#000015"
            ],
            [
             0.5555555555555556,
             "#000016"
            ],
            [
             0.6666666666666666,
             "#000017"
            ],
            [
             0.7777777777777778,
             "#000018"
            ],
            [
             0.8888888888888888,
             "#000019"
            ],
            [
             1,
             "#000020"
            ]
           ]
          },
          "colorscale": {
           "diverging": [
            [
             0,
             "#000021"
            ],
            [
             0.1,
             "#000022"
            ],
            [
             0.2,
             "#000023"
            ],
            [
             0.3,
             "#000024"
            ],
            [
             0.4,
             "#000025"
            ],
            [
             0.5,
             "#000026"
            ],
            [
             0.6,
             "#000027"
            ],
            [
             0.7,
             "#000028"
            ],
            [
             0.8,
             "#000029"
            ],
            [
             0.9,
             "#000030"
            ],
            [
             1,
             "#000031"
            ]
           ],
           "sequential": [
            [
             0,
             "#000011"
            ],
            [
             0.1111111111111111,
             "#000012"
            ],
            [
             0.2222222222222222,
             "#000013"
            ],
            [
             0.3333333333333333,
             "#000014"
            ],
            [
             0.4444444444444444,
             "#000015"
            ],
            [
             0.5555555555555556,
             "#000016"
            ],
            [
             0.6666666666666666,
             "#000017"
            ],
            [
             0.7777777777777778,
             "#000018"
            ],
            [
             0.8888888888888888,
             "#000019"
            ],
            [
             1,
             "#000020"
            ]
           ],
           "sequentialminus": [
            [
             0,
             "#000011"
            ],
            [
             0.1111111111111111,
             "#000012"
            ],
            [
             0.2222222222222222,
             "#000013"
            ],
            [
             0.3333333333333333,
             "#000014"
            ],
            [
             0.4444444444444444,
             "#000015"
            ],
            [
             0.5555555555555556,
             "#000016"
            ],
            [
             0.6666666666666666,
             "#000017"
            ],
            [
             0.7777777777777778,
             "#000018"
            ],
            [
             0.8888888888888888,
             "#000019"
            ],
            [
             1,
             "#000020"
            ]
           ]
          },
          "colorway": [
           "#000001",
           "#000002",
           "#000003",
           "#000004",
           "#000005",
           "#000006",
           "#000007",
           "#000008",
           "#000009",
           "#000010"
          ]
         }
        },
        "xaxis": {
         "showgrid": false,
         "tickfont": {
          "color": "rgb(100,100,100)",
          "family": "Arial, sans-serif",
          "size": 12
         },
         "title": {
          "text": "Date"
         }
        },
        "yaxis": {
         "gridcolor": "rgb(220,220,220)",
         "showgrid": true,
         "tickfont": {
          "color": "rgb(100,100,100)",
          "family": "Arial, sans-serif",
          "size": 12
         },
         "title": {
          "text": "Units"
         }
        }
       }
      }
     },
     "metadata": {},
     "output_type": "display_data"
    },
    {
     "data": {
      "application/vnd.plotly.v1+json": {
       "config": {
        "plotlyServerURL": "https://plot.ly"
       },
       "data": [
        {
         "hovertemplate": "<b>Date</b>: %{x}<br><b>Inventory</b>: %{y} units<extra></extra>",
         "marker": {
          "color": "rgb(252, 186, 3)",
          "line": {
           "width": 0
          }
         },
         "name": "Inventory",
         "opacity": 1,
         "type": "bar",
         "x": [
          "2016-08-01",
          "2016-08-02",
          "2016-08-03",
          "2016-08-04",
          "2016-08-05",
          "2016-08-06",
          "2016-08-07",
          "2016-08-08",
          "2016-08-09",
          "2016-08-10",
          "2016-08-11",
          "2016-08-12",
          "2016-08-13",
          "2016-08-14",
          "2016-08-15"
         ],
         "y": [
          42,
          35,
          29,
          21,
          18,
          30,
          28,
          24,
          27,
          26,
          21,
          36,
          32,
          32,
          28
         ]
        },
        {
         "hovertemplate": "<b>Date</b>: %{x}<br><b>Projected Initial Inv.</b>: %{y} units<extra></extra>",
         "marker": {
          "color": "rgb(252, 186, 3)",
          "line": {
           "width": 0
          }
         },
         "name": "Projected Initial Inventory",
         "opacity": 0.6,
         "type": "bar",
         "x": [
          "2016-08-16",
          "2016-08-17",
          "2016-08-18",
          "2016-08-19",
          "2016-08-20",
          "2016-08-21",
          "2016-08-22"
         ],
         "y": [
          30,
          28,
          30,
          23,
          49,
          31,
          22
         ]
        },
        {
         "hovertemplate": "<b>Date</b>: %{x}<br><b>Projected Deliveries</b>: %{y} units<extra></extra>",
         "marker": {
          "color": "rgb(3, 148, 252)",
          "line": {
           "width": 0
          }
         },
         "name": "Projected Deliveries",
         "opacity": 0.7,
         "type": "bar",
         "x": [
          "2016-08-16",
          "2016-08-17",
          "2016-08-18",
          "2016-08-19",
          "2016-08-20",
          "2016-08-21",
          "2016-08-22"
         ],
         "y": [
          16,
          20,
          10,
          46,
          0,
          10,
          16
         ]
        },
        {
         "customdata": [
          32,
          25,
          19,
          11,
          8,
          20,
          18,
          14,
          17,
          16,
          11,
          26,
          22,
          22,
          18
         ],
         "hovertemplate": "<b>Date</b>: %{x}<br><b>Sales</b>: %{customdata} units<extra></extra>",
         "marker": {
          "color": "rgb(23, 191, 99)",
          "line": {
           "width": 0
          }
         },
         "name": "Sales",
         "opacity": 1,
         "type": "bar",
         "x": [
          "2016-08-01",
          "2016-08-02",
          "2016-08-03",
          "2016-08-04",
          "2016-08-05",
          "2016-08-06",
          "2016-08-07",
          "2016-08-08",
          "2016-08-09",
          "2016-08-10",
          "2016-08-11",
          "2016-08-12",
          "2016-08-13",
          "2016-08-14",
          "2016-08-15"
         ],
         "y": [
          -32,
          -25,
          -19,
          -11,
          -8,
          -20,
          -18,
          -14,
          -17,
          -16,
          -11,
          -26,
          -22,
          -22,
          -18
         ]
        },
        {
         "customdata": [
          18,
          18,
          17,
          20,
          18,
          19,
          18
         ],
         "hovertemplate": "<b>Date</b>: %{x}<br><b>Projected Fulfilled</b>: %{customdata} units<extra></extra>",
         "marker": {
          "color": "rgb(23, 191, 99)",
          "line": {
           "width": 0
          }
         },
         "name": "Projected Fulfilled Sales",
         "opacity": 0.6,
         "type": "bar",
         "x": [
          "2016-08-16",
          "2016-08-17",
          "2016-08-18",
          "2016-08-19",
          "2016-08-20",
          "2016-08-21",
          "2016-08-22"
         ],
         "y": [
          -18,
          -18,
          -17,
          -20,
          -18,
          -19,
          -18
         ]
        },
        {
         "customdata": [
          0,
          0,
          0,
          0,
          0,
          0,
          0
         ],
         "hovertemplate": "<b>Date</b>: %{x}<br><b>Projected Unfulfilled</b>: %{customdata} units<extra></extra>",
         "marker": {
          "color": "rgb(52, 73, 94)",
          "line": {
           "width": 0
          }
         },
         "name": "Projected Unfulfilled Sales",
         "opacity": 0.7,
         "type": "bar",
         "x": [
          "2016-08-16",
          "2016-08-17",
          "2016-08-18",
          "2016-08-19",
          "2016-08-20",
          "2016-08-21",
          "2016-08-22"
         ],
         "y": [
          0,
          0,
          0,
          0,
          0,
          0,
          0
         ]
        }
       ],
       "layout": {
        "barmode": "relative",
        "font": {
         "color": "rgb(60,60,60)",
         "family": "Arial, sans-serif"
        },
        "legend": {
         "font": {
          "family": "Arial, sans-serif",
          "size": 10
         },
         "orientation": "h",
         "x": 1,
         "xanchor": "right",
         "y": 1.02,
         "yanchor": "bottom"
        },
        "margin": {
         "b": 60,
         "l": 60,
         "r": 30,
         "t": 80
        },
        "paper_bgcolor": "rgb(248, 248, 255)",
        "plot_bgcolor": "rgb(248, 248, 255)",
        "template": {
         "data": {
          "candlestick": [
           {
            "decreasing": {
             "line": {
              "color": "#000033"
             }
            },
            "increasing": {
             "line": {
              "color": "#000032"
             }
            },
            "type": "candlestick"
           }
          ],
          "contour": [
           {
            "colorscale": [
             [
              0,
              "#000011"
             ],
             [
              0.1111111111111111,
              "#000012"
             ],
             [
              0.2222222222222222,
              "#000013"
             ],
             [
              0.3333333333333333,
              "#000014"
             ],
             [
              0.4444444444444444,
              "#000015"
             ],
             [
              0.5555555555555556,
              "#000016"
             ],
             [
              0.6666666666666666,
              "#000017"
             ],
             [
              0.7777777777777778,
              "#000018"
             ],
             [
              0.8888888888888888,
              "#000019"
             ],
             [
              1,
              "#000020"
             ]
            ],
            "type": "contour"
           }
          ],
          "contourcarpet": [
           {
            "colorscale": [
             [
              0,
              "#000011"
             ],
             [
              0.1111111111111111,
              "#000012"
             ],
             [
              0.2222222222222222,
              "#000013"
             ],
             [
              0.3333333333333333,
              "#000014"
             ],
             [
              0.4444444444444444,
              "#000015"
             ],
             [
              0.5555555555555556,
              "#000016"
             ],
             [
              0.6666666666666666,
              "#000017"
             ],
             [
              0.7777777777777778,
              "#000018"
             ],
             [
              0.8888888888888888,
              "#000019"
             ],
             [
              1,
              "#000020"
             ]
            ],
            "type": "contourcarpet"
           }
          ],
          "heatmap": [
           {
            "colorscale": [
             [
              0,
              "#000011"
             ],
             [
              0.1111111111111111,
              "#000012"
             ],
             [
              0.2222222222222222,
              "#000013"
             ],
             [
              0.3333333333333333,
              "#000014"
             ],
             [
              0.4444444444444444,
              "#000015"
             ],
             [
              0.5555555555555556,
              "#000016"
             ],
             [
              0.6666666666666666,
              "#000017"
             ],
             [
              0.7777777777777778,
              "#000018"
             ],
             [
              0.8888888888888888,
              "#000019"
             ],
             [
              1,
              "#000020"
             ]
            ],
            "type": "heatmap"
           }
          ],
          "histogram2d": [
           {
            "colorscale": [
             [
              0,
              "#000011"
             ],
             [
              0.1111111111111111,
              "#000012"
             ],
             [
              0.2222222222222222,
              "#000013"
             ],
             [
              0.3333333333333333,
              "#000014"
             ],
             [
              0.4444444444444444,
              "#000015"
             ],
             [
              0.5555555555555556,
              "#000016"
             ],
             [
              0.6666666666666666,
              "#000017"
             ],
             [
              0.7777777777777778,
              "#000018"
             ],
             [
              0.8888888888888888,
              "#000019"
             ],
             [
              1,
              "#000020"
             ]
            ],
            "type": "histogram2d"
           }
          ],
          "icicle": [
           {
            "textfont": {
             "color": "white"
            },
            "type": "icicle"
           }
          ],
          "sankey": [
           {
            "textfont": {
             "color": "#000036"
            },
            "type": "sankey"
           }
          ],
          "scatter": [
           {
            "marker": {
             "line": {
              "width": 0
             }
            },
            "type": "scatter"
           }
          ],
          "table": [
           {
            "cells": {
             "fill": {
              "color": "#000038"
             },
             "font": {
              "color": "#000037"
             },
             "line": {
              "color": "#000039"
             }
            },
            "header": {
             "fill": {
              "color": "#000040"
             },
             "font": {
              "color": "#000036"
             },
             "line": {
              "color": "#000039"
             }
            },
            "type": "table"
           }
          ],
          "waterfall": [
           {
            "connector": {
             "line": {
              "color": "#000036",
              "width": 2
             }
            },
            "decreasing": {
             "marker": {
              "color": "#000033"
             }
            },
            "increasing": {
             "marker": {
              "color": "#000032"
             }
            },
            "totals": {
             "marker": {
              "color": "#000034"
             }
            },
            "type": "waterfall"
           }
          ]
         },
         "layout": {
          "coloraxis": {
           "colorscale": [
            [
             0,
             "#000011"
            ],
            [
             0.1111111111111111,
             "#000012"
            ],
            [
             0.2222222222222222,
             "#000013"
            ],
            [
             0.3333333333333333,
             "#000014"
            ],
            [
             0.4444444444444444,
             "#000015"
            ],
            [
             0.5555555555555556,
             "#000016"
            ],
            [
             0.6666666666666666,
             "#000017"
            ],
            [
             0.7777777777777778,
             "#000018"
            ],
            [
             0.8888888888888888,
             "#000019"
            ],
            [
             1,
             "#000020"
            ]
           ]
          },
          "colorscale": {
           "diverging": [
            [
             0,
             "#000021"
            ],
            [
             0.1,
             "#000022"
            ],
            [
             0.2,
             "#000023"
            ],
            [
             0.3,
             "#000024"
            ],
            [
             0.4,
             "#000025"
            ],
            [
             0.5,
             "#000026"
            ],
            [
             0.6,
             "#000027"
            ],
            [
             0.7,
             "#000028"
            ],
            [
             0.8,
             "#000029"
            ],
            [
             0.9,
             "#000030"
            ],
            [
             1,
             "#000031"
            ]
           ],
           "sequential": [
            [
             0,
             "#000011"
            ],
            [
             0.1111111111111111,
             "#000012"
            ],
            [
             0.2222222222222222,
             "#000013"
            ],
            [
             0.3333333333333333,
             "#000014"
            ],
            [
             0.4444444444444444,
             "#000015"
            ],
            [
             0.5555555555555556,
             "#000016"
            ],
            [
             0.6666666666666666,
             "#000017"
            ],
            [
             0.7777777777777778,
             "#000018"
            ],
            [
             0.8888888888888888,
             "#000019"
            ],
            [
             1,
             "#000020"
            ]
           ],
           "sequentialminus": [
            [
             0,
             "#000011"
            ],
            [
             0.1111111111111111,
             "#000012"
            ],
            [
             0.2222222222222222,
             "#000013"
            ],
            [
             0.3333333333333333,
             "#000014"
            ],
            [
             0.4444444444444444,
             "#000015"
            ],
            [
             0.5555555555555556,
             "#000016"
            ],
            [
             0.6666666666666666,
             "#000017"
            ],
            [
             0.7777777777777778,
             "#000018"
            ],
            [
             0.8888888888888888,
             "#000019"
            ],
            [
             1,
             "#000020"
            ]
           ]
          },
          "colorway": [
           "#000001",
           "#000002",
           "#000003",
           "#000004",
           "#000005",
           "#000006",
           "#000007",
           "#000008",
           "#000009",
           "#000010"
          ]
         }
        },
        "xaxis": {
         "showgrid": false,
         "tickfont": {
          "color": "rgb(100,100,100)",
          "family": "Arial, sans-serif",
          "size": 12
         },
         "title": {
          "text": "Date"
         }
        },
        "yaxis": {
         "gridcolor": "rgb(220,220,220)",
         "showgrid": true,
         "tickfont": {
          "color": "rgb(100,100,100)",
          "family": "Arial, sans-serif",
          "size": 12
         },
         "title": {
          "text": "Units"
         }
        }
       }
      }
     },
     "metadata": {},
     "output_type": "display_data"
    },
    {
     "data": {
      "application/vnd.plotly.v1+json": {
       "config": {
        "plotlyServerURL": "https://plot.ly"
       },
       "data": [
        {
         "hovertemplate": "<b>Date</b>: %{x}<br><b>Inventory</b>: %{y} units<extra></extra>",
         "marker": {
          "color": "rgb(252, 186, 3)",
          "line": {
           "width": 0
          }
         },
         "name": "Inventory",
         "opacity": 1,
         "type": "bar",
         "x": [
          "2016-08-01",
          "2016-08-02",
          "2016-08-03",
          "2016-08-04",
          "2016-08-05",
          "2016-08-06",
          "2016-08-07",
          "2016-08-08",
          "2016-08-09",
          "2016-08-10",
          "2016-08-11",
          "2016-08-12",
          "2016-08-13",
          "2016-08-14",
          "2016-08-15"
         ],
         "y": [
          205,
          134,
          125,
          95,
          139,
          168,
          178,
          163,
          114,
          103,
          75,
          127,
          154,
          151,
          134
         ]
        },
        {
         "hovertemplate": "<b>Date</b>: %{x}<br><b>Projected Initial Inv.</b>: %{y} units<extra></extra>",
         "marker": {
          "color": "rgb(252, 186, 3)",
          "line": {
           "width": 0
          }
         },
         "name": "Projected Initial Inventory",
         "opacity": 0.6,
         "type": "bar",
         "x": [
          "2016-08-16",
          "2016-08-17",
          "2016-08-18",
          "2016-08-19",
          "2016-08-20",
          "2016-08-21",
          "2016-08-22"
         ],
         "y": [
          30,
          20,
          20,
          20,
          20,
          20,
          20
         ]
        },
        {
         "hovertemplate": "<b>Date</b>: %{x}<br><b>Projected Deliveries</b>: %{y} units<extra></extra>",
         "marker": {
          "color": "rgb(3, 148, 252)",
          "line": {
           "width": 0
          }
         },
         "name": "Projected Deliveries",
         "opacity": 0.7,
         "type": "bar",
         "x": [
          "2016-08-16",
          "2016-08-17",
          "2016-08-18",
          "2016-08-19",
          "2016-08-20",
          "2016-08-21",
          "2016-08-22"
         ],
         "y": [
          90,
          100,
          90,
          100,
          94,
          100,
          100
         ]
        },
        {
         "customdata": [
          195,
          124,
          115,
          85,
          129,
          158,
          168,
          153,
          104,
          93,
          65,
          117,
          144,
          141,
          124
         ],
         "hovertemplate": "<b>Date</b>: %{x}<br><b>Sales</b>: %{customdata} units<extra></extra>",
         "marker": {
          "color": "rgb(23, 191, 99)",
          "line": {
           "width": 0
          }
         },
         "name": "Sales",
         "opacity": 1,
         "type": "bar",
         "x": [
          "2016-08-01",
          "2016-08-02",
          "2016-08-03",
          "2016-08-04",
          "2016-08-05",
          "2016-08-06",
          "2016-08-07",
          "2016-08-08",
          "2016-08-09",
          "2016-08-10",
          "2016-08-11",
          "2016-08-12",
          "2016-08-13",
          "2016-08-14",
          "2016-08-15"
         ],
         "y": [
          -195,
          -124,
          -115,
          -85,
          -129,
          -158,
          -168,
          -153,
          -104,
          -93,
          -65,
          -117,
          -144,
          -141,
          -124
         ]
        },
        {
         "customdata": [
          100,
          100,
          90,
          100,
          94,
          100,
          100
         ],
         "hovertemplate": "<b>Date</b>: %{x}<br><b>Projected Fulfilled</b>: %{customdata} units<extra></extra>",
         "marker": {
          "color": "rgb(23, 191, 99)",
          "line": {
           "width": 0
          }
         },
         "name": "Projected Fulfilled Sales",
         "opacity": 0.6,
         "type": "bar",
         "x": [
          "2016-08-16",
          "2016-08-17",
          "2016-08-18",
          "2016-08-19",
          "2016-08-20",
          "2016-08-21",
          "2016-08-22"
         ],
         "y": [
          -100,
          -100,
          -90,
          -100,
          -94,
          -100,
          -100
         ]
        },
        {
         "customdata": [
          5,
          9,
          1,
          10,
          38,
          31,
          8
         ],
         "hovertemplate": "<b>Date</b>: %{x}<br><b>Projected Unfulfilled</b>: %{customdata} units<extra></extra>",
         "marker": {
          "color": "rgb(52, 73, 94)",
          "line": {
           "width": 0
          }
         },
         "name": "Projected Unfulfilled Sales",
         "opacity": 0.7,
         "type": "bar",
         "x": [
          "2016-08-16",
          "2016-08-17",
          "2016-08-18",
          "2016-08-19",
          "2016-08-20",
          "2016-08-21",
          "2016-08-22"
         ],
         "y": [
          -5,
          -9,
          -1,
          -10,
          -38,
          -31,
          -8
         ]
        }
       ],
       "layout": {
        "barmode": "relative",
        "font": {
         "color": "rgb(60,60,60)",
         "family": "Arial, sans-serif"
        },
        "legend": {
         "font": {
          "family": "Arial, sans-serif",
          "size": 10
         },
         "orientation": "h",
         "x": 1,
         "xanchor": "right",
         "y": 1.02,
         "yanchor": "bottom"
        },
        "margin": {
         "b": 60,
         "l": 60,
         "r": 30,
         "t": 80
        },
        "paper_bgcolor": "rgb(248, 248, 255)",
        "plot_bgcolor": "rgb(248, 248, 255)",
        "template": {
         "data": {
          "candlestick": [
           {
            "decreasing": {
             "line": {
              "color": "#000033"
             }
            },
            "increasing": {
             "line": {
              "color": "#000032"
             }
            },
            "type": "candlestick"
           }
          ],
          "contour": [
           {
            "colorscale": [
             [
              0,
              "#000011"
             ],
             [
              0.1111111111111111,
              "#000012"
             ],
             [
              0.2222222222222222,
              "#000013"
             ],
             [
              0.3333333333333333,
              "#000014"
             ],
             [
              0.4444444444444444,
              "#000015"
             ],
             [
              0.5555555555555556,
              "#000016"
             ],
             [
              0.6666666666666666,
              "#000017"
             ],
             [
              0.7777777777777778,
              "#000018"
             ],
             [
              0.8888888888888888,
              "#000019"
             ],
             [
              1,
              "#000020"
             ]
            ],
            "type": "contour"
           }
          ],
          "contourcarpet": [
           {
            "colorscale": [
             [
              0,
              "#000011"
             ],
             [
              0.1111111111111111,
              "#000012"
             ],
             [
              0.2222222222222222,
              "#000013"
             ],
             [
              0.3333333333333333,
              "#000014"
             ],
             [
              0.4444444444444444,
              "#000015"
             ],
             [
              0.5555555555555556,
              "#000016"
             ],
             [
              0.6666666666666666,
              "#000017"
             ],
             [
              0.7777777777777778,
              "#000018"
             ],
             [
              0.8888888888888888,
              "#000019"
             ],
             [
              1,
              "#000020"
             ]
            ],
            "type": "contourcarpet"
           }
          ],
          "heatmap": [
           {
            "colorscale": [
             [
              0,
              "#000011"
             ],
             [
              0.1111111111111111,
              "#000012"
             ],
             [
              0.2222222222222222,
              "#000013"
             ],
             [
              0.3333333333333333,
              "#000014"
             ],
             [
              0.4444444444444444,
              "#000015"
             ],
             [
              0.5555555555555556,
              "#000016"
             ],
             [
              0.6666666666666666,
              "#000017"
             ],
             [
              0.7777777777777778,
              "#000018"
             ],
             [
              0.8888888888888888,
              "#000019"
             ],
             [
              1,
              "#000020"
             ]
            ],
            "type": "heatmap"
           }
          ],
          "histogram2d": [
           {
            "colorscale": [
             [
              0,
              "#000011"
             ],
             [
              0.1111111111111111,
              "#000012"
             ],
             [
              0.2222222222222222,
              "#000013"
             ],
             [
              0.3333333333333333,
              "#000014"
             ],
             [
              0.4444444444444444,
              "#000015"
             ],
             [
              0.5555555555555556,
              "#000016"
             ],
             [
              0.6666666666666666,
              "#000017"
             ],
             [
              0.7777777777777778,
              "#000018"
             ],
             [
              0.8888888888888888,
              "#000019"
             ],
             [
              1,
              "#000020"
             ]
            ],
            "type": "histogram2d"
           }
          ],
          "icicle": [
           {
            "textfont": {
             "color": "white"
            },
            "type": "icicle"
           }
          ],
          "sankey": [
           {
            "textfont": {
             "color": "#000036"
            },
            "type": "sankey"
           }
          ],
          "scatter": [
           {
            "marker": {
             "line": {
              "width": 0
             }
            },
            "type": "scatter"
           }
          ],
          "table": [
           {
            "cells": {
             "fill": {
              "color": "#000038"
             },
             "font": {
              "color": "#000037"
             },
             "line": {
              "color": "#000039"
             }
            },
            "header": {
             "fill": {
              "color": "#000040"
             },
             "font": {
              "color": "#000036"
             },
             "line": {
              "color": "#000039"
             }
            },
            "type": "table"
           }
          ],
          "waterfall": [
           {
            "connector": {
             "line": {
              "color": "#000036",
              "width": 2
             }
            },
            "decreasing": {
             "marker": {
              "color": "#000033"
             }
            },
            "increasing": {
             "marker": {
              "color": "#000032"
             }
            },
            "totals": {
             "marker": {
              "color": "#000034"
             }
            },
            "type": "waterfall"
           }
          ]
         },
         "layout": {
          "coloraxis": {
           "colorscale": [
            [
             0,
             "#000011"
            ],
            [
             0.1111111111111111,
             "#000012"
            ],
            [
             0.2222222222222222,
             "#000013"
            ],
            [
             0.3333333333333333,
             "#000014"
            ],
            [
             0.4444444444444444,
             "#000015"
            ],
            [
             0.5555555555555556,
             "#000016"
            ],
            [
             0.6666666666666666,
             "#000017"
            ],
            [
             0.7777777777777778,
             "#000018"
            ],
            [
             0.8888888888888888,
             "#000019"
            ],
            [
             1,
             "#000020"
            ]
           ]
          },
          "colorscale": {
           "diverging": [
            [
             0,
             "#000021"
            ],
            [
             0.1,
             "#000022"
            ],
            [
             0.2,
             "#000023"
            ],
            [
             0.3,
             "#000024"
            ],
            [
             0.4,
             "#000025"
            ],
            [
             0.5,
             "#000026"
            ],
            [
             0.6,
             "#000027"
            ],
            [
             0.7,
             "#000028"
            ],
            [
             0.8,
             "#000029"
            ],
            [
             0.9,
             "#000030"
            ],
            [
             1,
             "#000031"
            ]
           ],
           "sequential": [
            [
             0,
             "#000011"
            ],
            [
             0.1111111111111111,
             "#000012"
            ],
            [
             0.2222222222222222,
             "#000013"
            ],
            [
             0.3333333333333333,
             "#000014"
            ],
            [
             0.4444444444444444,
             "#000015"
            ],
            [
             0.5555555555555556,
             "#000016"
            ],
            [
             0.6666666666666666,
             "#000017"
            ],
            [
             0.7777777777777778,
             "#000018"
            ],
            [
             0.8888888888888888,
             "#000019"
            ],
            [
             1,
             "#000020"
            ]
           ],
           "sequentialminus": [
            [
             0,
             "#000011"
            ],
            [
             0.1111111111111111,
             "#000012"
            ],
            [
             0.2222222222222222,
             "#000013"
            ],
            [
             0.3333333333333333,
             "#000014"
            ],
            [
             0.4444444444444444,
             "#000015"
            ],
            [
             0.5555555555555556,
             "#000016"
            ],
            [
             0.6666666666666666,
             "#000017"
            ],
            [
             0.7777777777777778,
             "#000018"
            ],
            [
             0.8888888888888888,
             "#000019"
            ],
            [
             1,
             "#000020"
            ]
           ]
          },
          "colorway": [
           "#000001",
           "#000002",
           "#000003",
           "#000004",
           "#000005",
           "#000006",
           "#000007",
           "#000008",
           "#000009",
           "#000010"
          ]
         }
        },
        "xaxis": {
         "showgrid": false,
         "tickfont": {
          "color": "rgb(100,100,100)",
          "family": "Arial, sans-serif",
          "size": 12
         },
         "title": {
          "text": "Date"
         }
        },
        "yaxis": {
         "gridcolor": "rgb(220,220,220)",
         "showgrid": true,
         "tickfont": {
          "color": "rgb(100,100,100)",
          "family": "Arial, sans-serif",
          "size": 12
         },
         "title": {
          "text": "Units"
         }
        }
       }
      }
     },
     "metadata": {},
     "output_type": "display_data"
    },
    {
     "data": {
      "application/vnd.plotly.v1+json": {
       "config": {
        "plotlyServerURL": "https://plot.ly"
       },
       "data": [
        {
         "hovertemplate": "<b>Date</b>: %{x}<br><b>Inventory</b>: %{y} units<extra></extra>",
         "marker": {
          "color": "rgb(252, 186, 3)",
          "line": {
           "width": 0
          }
         },
         "name": "Inventory",
         "opacity": 1,
         "type": "bar",
         "x": [
          "2016-08-01",
          "2016-08-02",
          "2016-08-03",
          "2016-08-04",
          "2016-08-05",
          "2016-08-06",
          "2016-08-07",
          "2016-08-08",
          "2016-08-09",
          "2016-08-10",
          "2016-08-11",
          "2016-08-12",
          "2016-08-13",
          "2016-08-14",
          "2016-08-15"
         ],
         "y": [
          38,
          25,
          36,
          27,
          27,
          25,
          38,
          25,
          27,
          31,
          31,
          44,
          26,
          22,
          28
         ]
        },
        {
         "hovertemplate": "<b>Date</b>: %{x}<br><b>Projected Initial Inv.</b>: %{y} units<extra></extra>",
         "marker": {
          "color": "rgb(252, 186, 3)",
          "line": {
           "width": 0
          }
         },
         "name": "Projected Initial Inventory",
         "opacity": 0.6,
         "type": "bar",
         "x": [
          "2016-08-16",
          "2016-08-17",
          "2016-08-18",
          "2016-08-19",
          "2016-08-20",
          "2016-08-21",
          "2016-08-22"
         ],
         "y": [
          30,
          28,
          24,
          54,
          43,
          24,
          22
         ]
        },
        {
         "hovertemplate": "<b>Date</b>: %{x}<br><b>Projected Deliveries</b>: %{y} units<extra></extra>",
         "marker": {
          "color": "rgb(3, 148, 252)",
          "line": {
           "width": 0
          }
         },
         "name": "Projected Deliveries",
         "opacity": 0.7,
         "type": "bar",
         "x": [
          "2016-08-16",
          "2016-08-17",
          "2016-08-18",
          "2016-08-19",
          "2016-08-20",
          "2016-08-21",
          "2016-08-22"
         ],
         "y": [
          16,
          16,
          48,
          10,
          0,
          16,
          16
         ]
        },
        {
         "customdata": [
          28,
          15,
          26,
          17,
          17,
          15,
          28,
          15,
          17,
          21,
          21,
          34,
          16,
          12,
          18
         ],
         "hovertemplate": "<b>Date</b>: %{x}<br><b>Sales</b>: %{customdata} units<extra></extra>",
         "marker": {
          "color": "rgb(23, 191, 99)",
          "line": {
           "width": 0
          }
         },
         "name": "Sales",
         "opacity": 1,
         "type": "bar",
         "x": [
          "2016-08-01",
          "2016-08-02",
          "2016-08-03",
          "2016-08-04",
          "2016-08-05",
          "2016-08-06",
          "2016-08-07",
          "2016-08-08",
          "2016-08-09",
          "2016-08-10",
          "2016-08-11",
          "2016-08-12",
          "2016-08-13",
          "2016-08-14",
          "2016-08-15"
         ],
         "y": [
          -28,
          -15,
          -26,
          -17,
          -17,
          -15,
          -28,
          -15,
          -17,
          -21,
          -21,
          -34,
          -16,
          -12,
          -18
         ]
        },
        {
         "customdata": [
          18,
          20,
          18,
          21,
          19,
          18,
          18
         ],
         "hovertemplate": "<b>Date</b>: %{x}<br><b>Projected Fulfilled</b>: %{customdata} units<extra></extra>",
         "marker": {
          "color": "rgb(23, 191, 99)",
          "line": {
           "width": 0
          }
         },
         "name": "Projected Fulfilled Sales",
         "opacity": 0.6,
         "type": "bar",
         "x": [
          "2016-08-16",
          "2016-08-17",
          "2016-08-18",
          "2016-08-19",
          "2016-08-20",
          "2016-08-21",
          "2016-08-22"
         ],
         "y": [
          -18,
          -20,
          -18,
          -21,
          -19,
          -18,
          -18
         ]
        },
        {
         "customdata": [
          0,
          0,
          0,
          0,
          0,
          0,
          0
         ],
         "hovertemplate": "<b>Date</b>: %{x}<br><b>Projected Unfulfilled</b>: %{customdata} units<extra></extra>",
         "marker": {
          "color": "rgb(52, 73, 94)",
          "line": {
           "width": 0
          }
         },
         "name": "Projected Unfulfilled Sales",
         "opacity": 0.7,
         "type": "bar",
         "x": [
          "2016-08-16",
          "2016-08-17",
          "2016-08-18",
          "2016-08-19",
          "2016-08-20",
          "2016-08-21",
          "2016-08-22"
         ],
         "y": [
          0,
          0,
          0,
          0,
          0,
          0,
          0
         ]
        }
       ],
       "layout": {
        "barmode": "relative",
        "font": {
         "color": "rgb(60,60,60)",
         "family": "Arial, sans-serif"
        },
        "legend": {
         "font": {
          "family": "Arial, sans-serif",
          "size": 10
         },
         "orientation": "h",
         "x": 1,
         "xanchor": "right",
         "y": 1.02,
         "yanchor": "bottom"
        },
        "margin": {
         "b": 60,
         "l": 60,
         "r": 30,
         "t": 80
        },
        "paper_bgcolor": "rgb(248, 248, 255)",
        "plot_bgcolor": "rgb(248, 248, 255)",
        "template": {
         "data": {
          "candlestick": [
           {
            "decreasing": {
             "line": {
              "color": "#000033"
             }
            },
            "increasing": {
             "line": {
              "color": "#000032"
             }
            },
            "type": "candlestick"
           }
          ],
          "contour": [
           {
            "colorscale": [
             [
              0,
              "#000011"
             ],
             [
              0.1111111111111111,
              "#000012"
             ],
             [
              0.2222222222222222,
              "#000013"
             ],
             [
              0.3333333333333333,
              "#000014"
             ],
             [
              0.4444444444444444,
              "#000015"
             ],
             [
              0.5555555555555556,
              "#000016"
             ],
             [
              0.6666666666666666,
              "#000017"
             ],
             [
              0.7777777777777778,
              "#000018"
             ],
             [
              0.8888888888888888,
              "#000019"
             ],
             [
              1,
              "#000020"
             ]
            ],
            "type": "contour"
           }
          ],
          "contourcarpet": [
           {
            "colorscale": [
             [
              0,
              "#000011"
             ],
             [
              0.1111111111111111,
              "#000012"
             ],
             [
              0.2222222222222222,
              "#000013"
             ],
             [
              0.3333333333333333,
              "#000014"
             ],
             [
              0.4444444444444444,
              "#000015"
             ],
             [
              0.5555555555555556,
              "#000016"
             ],
             [
              0.6666666666666666,
              "#000017"
             ],
             [
              0.7777777777777778,
              "#000018"
             ],
             [
              0.8888888888888888,
              "#000019"
             ],
             [
              1,
              "#000020"
             ]
            ],
            "type": "contourcarpet"
           }
          ],
          "heatmap": [
           {
            "colorscale": [
             [
              0,
              "#000011"
             ],
             [
              0.1111111111111111,
              "#000012"
             ],
             [
              0.2222222222222222,
              "#000013"
             ],
             [
              0.3333333333333333,
              "#000014"
             ],
             [
              0.4444444444444444,
              "#000015"
             ],
             [
              0.5555555555555556,
              "#000016"
             ],
             [
              0.6666666666666666,
              "#000017"
             ],
             [
              0.7777777777777778,
              "#000018"
             ],
             [
              0.8888888888888888,
              "#000019"
             ],
             [
              1,
              "#000020"
             ]
            ],
            "type": "heatmap"
           }
          ],
          "histogram2d": [
           {
            "colorscale": [
             [
              0,
              "#000011"
             ],
             [
              0.1111111111111111,
              "#000012"
             ],
             [
              0.2222222222222222,
              "#000013"
             ],
             [
              0.3333333333333333,
              "#000014"
             ],
             [
              0.4444444444444444,
              "#000015"
             ],
             [
              0.5555555555555556,
              "#000016"
             ],
             [
              0.6666666666666666,
              "#000017"
             ],
             [
              0.7777777777777778,
              "#000018"
             ],
             [
              0.8888888888888888,
              "#000019"
             ],
             [
              1,
              "#000020"
             ]
            ],
            "type": "histogram2d"
           }
          ],
          "icicle": [
           {
            "textfont": {
             "color": "white"
            },
            "type": "icicle"
           }
          ],
          "sankey": [
           {
            "textfont": {
             "color": "#000036"
            },
            "type": "sankey"
           }
          ],
          "scatter": [
           {
            "marker": {
             "line": {
              "width": 0
             }
            },
            "type": "scatter"
           }
          ],
          "table": [
           {
            "cells": {
             "fill": {
              "color": "#000038"
             },
             "font": {
              "color": "#000037"
             },
             "line": {
              "color": "#000039"
             }
            },
            "header": {
             "fill": {
              "color": "#000040"
             },
             "font": {
              "color": "#000036"
             },
             "line": {
              "color": "#000039"
             }
            },
            "type": "table"
           }
          ],
          "waterfall": [
           {
            "connector": {
             "line": {
              "color": "#000036",
              "width": 2
             }
            },
            "decreasing": {
             "marker": {
              "color": "#000033"
             }
            },
            "increasing": {
             "marker": {
              "color": "#000032"
             }
            },
            "totals": {
             "marker": {
              "color": "#000034"
             }
            },
            "type": "waterfall"
           }
          ]
         },
         "layout": {
          "coloraxis": {
           "colorscale": [
            [
             0,
             "#000011"
            ],
            [
             0.1111111111111111,
             "#000012"
            ],
            [
             0.2222222222222222,
             "#000013"
            ],
            [
             0.3333333333333333,
             "#000014"
            ],
            [
             0.4444444444444444,
             "#000015"
            ],
            [
             0.5555555555555556,
             "#000016"
            ],
            [
             0.6666666666666666,
             "#000017"
            ],
            [
             0.7777777777777778,
             "#000018"
            ],
            [
             0.8888888888888888,
             "#000019"
            ],
            [
             1,
             "#000020"
            ]
           ]
          },
          "colorscale": {
           "diverging": [
            [
             0,
             "#000021"
            ],
            [
             0.1,
             "#000022"
            ],
            [
             0.2,
             "#000023"
            ],
            [
             0.3,
             "#000024"
            ],
            [
             0.4,
             "#000025"
            ],
            [
             0.5,
             "#000026"
            ],
            [
             0.6,
             "#000027"
            ],
            [
             0.7,
             "#000028"
            ],
            [
             0.8,
             "#000029"
            ],
            [
             0.9,
             "#000030"
            ],
            [
             1,
             "#000031"
            ]
           ],
           "sequential": [
            [
             0,
             "#000011"
            ],
            [
             0.1111111111111111,
             "#000012"
            ],
            [
             0.2222222222222222,
             "#000013"
            ],
            [
             0.3333333333333333,
             "#000014"
            ],
            [
             0.4444444444444444,
             "#000015"
            ],
            [
             0.5555555555555556,
             "#000016"
            ],
            [
             0.6666666666666666,
             "#000017"
            ],
            [
             0.7777777777777778,
             "#000018"
            ],
            [
             0.8888888888888888,
             "#000019"
            ],
            [
             1,
             "#000020"
            ]
           ],
           "sequentialminus": [
            [
             0,
             "#000011"
            ],
            [
             0.1111111111111111,
             "#000012"
            ],
            [
             0.2222222222222222,
             "#000013"
            ],
            [
             0.3333333333333333,
             "#000014"
            ],
            [
             0.4444444444444444,
             "#000015"
            ],
            [
             0.5555555555555556,
             "#000016"
            ],
            [
             0.6666666666666666,
             "#000017"
            ],
            [
             0.7777777777777778,
             "#000018"
            ],
            [
             0.8888888888888888,
             "#000019"
            ],
            [
             1,
             "#000020"
            ]
           ]
          },
          "colorway": [
           "#000001",
           "#000002",
           "#000003",
           "#000004",
           "#000005",
           "#000006",
           "#000007",
           "#000008",
           "#000009",
           "#000010"
          ]
         }
        },
        "xaxis": {
         "showgrid": false,
         "tickfont": {
          "color": "rgb(100,100,100)",
          "family": "Arial, sans-serif",
          "size": 12
         },
         "title": {
          "text": "Date"
         }
        },
        "yaxis": {
         "gridcolor": "rgb(220,220,220)",
         "showgrid": true,
         "tickfont": {
          "color": "rgb(100,100,100)",
          "family": "Arial, sans-serif",
          "size": 12
         },
         "title": {
          "text": "Units"
         }
        }
       }
      }
     },
     "metadata": {},
     "output_type": "display_data"
    },
    {
     "data": {
      "application/vnd.plotly.v1+json": {
       "config": {
        "plotlyServerURL": "https://plot.ly"
       },
       "data": [
        {
         "hovertemplate": "<b>Date</b>: %{x}<br><b>Inventory</b>: %{y} units<extra></extra>",
         "marker": {
          "color": "rgb(252, 186, 3)",
          "line": {
           "width": 0
          }
         },
         "name": "Inventory",
         "opacity": 1,
         "type": "bar",
         "x": [
          "2016-08-01",
          "2016-08-02",
          "2016-08-03",
          "2016-08-04",
          "2016-08-05",
          "2016-08-06",
          "2016-08-07",
          "2016-08-08",
          "2016-08-09",
          "2016-08-10",
          "2016-08-11",
          "2016-08-12",
          "2016-08-13",
          "2016-08-14",
          "2016-08-15"
         ],
         "y": [
          40,
          39,
          39,
          32,
          36,
          65,
          54,
          38,
          34,
          34,
          40,
          56,
          71,
          52,
          39
         ]
        },
        {
         "hovertemplate": "<b>Date</b>: %{x}<br><b>Projected Initial Inv.</b>: %{y} units<extra></extra>",
         "marker": {
          "color": "rgb(252, 186, 3)",
          "line": {
           "width": 0
          }
         },
         "name": "Projected Initial Inventory",
         "opacity": 0.6,
         "type": "bar",
         "x": [
          "2016-08-16",
          "2016-08-17",
          "2016-08-18",
          "2016-08-19",
          "2016-08-20",
          "2016-08-21",
          "2016-08-22"
         ],
         "y": [
          30,
          44,
          21,
          48,
          50,
          22,
          20
         ]
        },
        {
         "hovertemplate": "<b>Date</b>: %{x}<br><b>Projected Deliveries</b>: %{y} units<extra></extra>",
         "marker": {
          "color": "rgb(3, 148, 252)",
          "line": {
           "width": 0
          }
         },
         "name": "Projected Deliveries",
         "opacity": 0.7,
         "type": "bar",
         "x": [
          "2016-08-16",
          "2016-08-17",
          "2016-08-18",
          "2016-08-19",
          "2016-08-20",
          "2016-08-21",
          "2016-08-22"
         ],
         "y": [
          42,
          6,
          54,
          32,
          20,
          36,
          30
         ]
        },
        {
         "customdata": [
          30,
          29,
          29,
          22,
          26,
          55,
          44,
          28,
          24,
          24,
          30,
          46,
          61,
          42,
          29
         ],
         "hovertemplate": "<b>Date</b>: %{x}<br><b>Sales</b>: %{customdata} units<extra></extra>",
         "marker": {
          "color": "rgb(23, 191, 99)",
          "line": {
           "width": 0
          }
         },
         "name": "Sales",
         "opacity": 1,
         "type": "bar",
         "x": [
          "2016-08-01",
          "2016-08-02",
          "2016-08-03",
          "2016-08-04",
          "2016-08-05",
          "2016-08-06",
          "2016-08-07",
          "2016-08-08",
          "2016-08-09",
          "2016-08-10",
          "2016-08-11",
          "2016-08-12",
          "2016-08-13",
          "2016-08-14",
          "2016-08-15"
         ],
         "y": [
          -30,
          -29,
          -29,
          -22,
          -26,
          -55,
          -44,
          -28,
          -24,
          -24,
          -30,
          -46,
          -61,
          -42,
          -29
         ]
        },
        {
         "customdata": [
          28,
          29,
          27,
          30,
          48,
          38,
          29
         ],
         "hovertemplate": "<b>Date</b>: %{x}<br><b>Projected Fulfilled</b>: %{customdata} units<extra></extra>",
         "marker": {
          "color": "rgb(23, 191, 99)",
          "line": {
           "width": 0
          }
         },
         "name": "Projected Fulfilled Sales",
         "opacity": 0.6,
         "type": "bar",
         "x": [
          "2016-08-16",
          "2016-08-17",
          "2016-08-18",
          "2016-08-19",
          "2016-08-20",
          "2016-08-21",
          "2016-08-22"
         ],
         "y": [
          -28,
          -29,
          -27,
          -30,
          -48,
          -38,
          -29
         ]
        },
        {
         "customdata": [
          0,
          0,
          0,
          0,
          0,
          0,
          0
         ],
         "hovertemplate": "<b>Date</b>: %{x}<br><b>Projected Unfulfilled</b>: %{customdata} units<extra></extra>",
         "marker": {
          "color": "rgb(52, 73, 94)",
          "line": {
           "width": 0
          }
         },
         "name": "Projected Unfulfilled Sales",
         "opacity": 0.7,
         "type": "bar",
         "x": [
          "2016-08-16",
          "2016-08-17",
          "2016-08-18",
          "2016-08-19",
          "2016-08-20",
          "2016-08-21",
          "2016-08-22"
         ],
         "y": [
          0,
          0,
          0,
          0,
          0,
          0,
          0
         ]
        }
       ],
       "layout": {
        "barmode": "relative",
        "font": {
         "color": "rgb(60,60,60)",
         "family": "Arial, sans-serif"
        },
        "legend": {
         "font": {
          "family": "Arial, sans-serif",
          "size": 10
         },
         "orientation": "h",
         "x": 1,
         "xanchor": "right",
         "y": 1.02,
         "yanchor": "bottom"
        },
        "margin": {
         "b": 60,
         "l": 60,
         "r": 30,
         "t": 80
        },
        "paper_bgcolor": "rgb(248, 248, 255)",
        "plot_bgcolor": "rgb(248, 248, 255)",
        "template": {
         "data": {
          "candlestick": [
           {
            "decreasing": {
             "line": {
              "color": "#000033"
             }
            },
            "increasing": {
             "line": {
              "color": "#000032"
             }
            },
            "type": "candlestick"
           }
          ],
          "contour": [
           {
            "colorscale": [
             [
              0,
              "#000011"
             ],
             [
              0.1111111111111111,
              "#000012"
             ],
             [
              0.2222222222222222,
              "#000013"
             ],
             [
              0.3333333333333333,
              "#000014"
             ],
             [
              0.4444444444444444,
              "#000015"
             ],
             [
              0.5555555555555556,
              "#000016"
             ],
             [
              0.6666666666666666,
              "#000017"
             ],
             [
              0.7777777777777778,
              "#000018"
             ],
             [
              0.8888888888888888,
              "#000019"
             ],
             [
              1,
              "#000020"
             ]
            ],
            "type": "contour"
           }
          ],
          "contourcarpet": [
           {
            "colorscale": [
             [
              0,
              "#000011"
             ],
             [
              0.1111111111111111,
              "#000012"
             ],
             [
              0.2222222222222222,
              "#000013"
             ],
             [
              0.3333333333333333,
              "#000014"
             ],
             [
              0.4444444444444444,
              "#000015"
             ],
             [
              0.5555555555555556,
              "#000016"
             ],
             [
              0.6666666666666666,
              "#000017"
             ],
             [
              0.7777777777777778,
              "#000018"
             ],
             [
              0.8888888888888888,
              "#000019"
             ],
             [
              1,
              "#000020"
             ]
            ],
            "type": "contourcarpet"
           }
          ],
          "heatmap": [
           {
            "colorscale": [
             [
              0,
              "#000011"
             ],
             [
              0.1111111111111111,
              "#000012"
             ],
             [
              0.2222222222222222,
              "#000013"
             ],
             [
              0.3333333333333333,
              "#000014"
             ],
             [
              0.4444444444444444,
              "#000015"
             ],
             [
              0.5555555555555556,
              "#000016"
             ],
             [
              0.6666666666666666,
              "#000017"
             ],
             [
              0.7777777777777778,
              "#000018"
             ],
             [
              0.8888888888888888,
              "#000019"
             ],
             [
              1,
              "#000020"
             ]
            ],
            "type": "heatmap"
           }
          ],
          "histogram2d": [
           {
            "colorscale": [
             [
              0,
              "#000011"
             ],
             [
              0.1111111111111111,
              "#000012"
             ],
             [
              0.2222222222222222,
              "#000013"
             ],
             [
              0.3333333333333333,
              "#000014"
             ],
             [
              0.4444444444444444,
              "#000015"
             ],
             [
              0.5555555555555556,
              "#000016"
             ],
             [
              0.6666666666666666,
              "#000017"
             ],
             [
              0.7777777777777778,
              "#000018"
             ],
             [
              0.8888888888888888,
              "#000019"
             ],
             [
              1,
              "#000020"
             ]
            ],
            "type": "histogram2d"
           }
          ],
          "icicle": [
           {
            "textfont": {
             "color": "white"
            },
            "type": "icicle"
           }
          ],
          "sankey": [
           {
            "textfont": {
             "color": "#000036"
            },
            "type": "sankey"
           }
          ],
          "scatter": [
           {
            "marker": {
             "line": {
              "width": 0
             }
            },
            "type": "scatter"
           }
          ],
          "table": [
           {
            "cells": {
             "fill": {
              "color": "#000038"
             },
             "font": {
              "color": "#000037"
             },
             "line": {
              "color": "#000039"
             }
            },
            "header": {
             "fill": {
              "color": "#000040"
             },
             "font": {
              "color": "#000036"
             },
             "line": {
              "color": "#000039"
             }
            },
            "type": "table"
           }
          ],
          "waterfall": [
           {
            "connector": {
             "line": {
              "color": "#000036",
              "width": 2
             }
            },
            "decreasing": {
             "marker": {
              "color": "#000033"
             }
            },
            "increasing": {
             "marker": {
              "color": "#000032"
             }
            },
            "totals": {
             "marker": {
              "color": "#000034"
             }
            },
            "type": "waterfall"
           }
          ]
         },
         "layout": {
          "coloraxis": {
           "colorscale": [
            [
             0,
             "#000011"
            ],
            [
             0.1111111111111111,
             "#000012"
            ],
            [
             0.2222222222222222,
             "#000013"
            ],
            [
             0.3333333333333333,
             "#000014"
            ],
            [
             0.4444444444444444,
             "#000015"
            ],
            [
             0.5555555555555556,
             "#000016"
            ],
            [
             0.6666666666666666,
             "#000017"
            ],
            [
             0.7777777777777778,
             "#000018"
            ],
            [
             0.8888888888888888,
             "#000019"
            ],
            [
             1,
             "#000020"
            ]
           ]
          },
          "colorscale": {
           "diverging": [
            [
             0,
             "#000021"
            ],
            [
             0.1,
             "#000022"
            ],
            [
             0.2,
             "#000023"
            ],
            [
             0.3,
             "#000024"
            ],
            [
             0.4,
             "#000025"
            ],
            [
             0.5,
             "#000026"
            ],
            [
             0.6,
             "#000027"
            ],
            [
             0.7,
             "#000028"
            ],
            [
             0.8,
             "#000029"
            ],
            [
             0.9,
             "#000030"
            ],
            [
             1,
             "#000031"
            ]
           ],
           "sequential": [
            [
             0,
             "#000011"
            ],
            [
             0.1111111111111111,
             "#000012"
            ],
            [
             0.2222222222222222,
             "#000013"
            ],
            [
             0.3333333333333333,
             "#000014"
            ],
            [
             0.4444444444444444,
             "#000015"
            ],
            [
             0.5555555555555556,
             "#000016"
            ],
            [
             0.6666666666666666,
             "#000017"
            ],
            [
             0.7777777777777778,
             "#000018"
            ],
            [
             0.8888888888888888,
             "#000019"
            ],
            [
             1,
             "#000020"
            ]
           ],
           "sequentialminus": [
            [
             0,
             "#000011"
            ],
            [
             0.1111111111111111,
             "#000012"
            ],
            [
             0.2222222222222222,
             "#000013"
            ],
            [
             0.3333333333333333,
             "#000014"
            ],
            [
             0.4444444444444444,
             "#000015"
            ],
            [
             0.5555555555555556,
             "#000016"
            ],
            [
             0.6666666666666666,
             "#000017"
            ],
            [
             0.7777777777777778,
             "#000018"
            ],
            [
             0.8888888888888888,
             "#000019"
            ],
            [
             1,
             "#000020"
            ]
           ]
          },
          "colorway": [
           "#000001",
           "#000002",
           "#000003",
           "#000004",
           "#000005",
           "#000006",
           "#000007",
           "#000008",
           "#000009",
           "#000010"
          ]
         }
        },
        "xaxis": {
         "showgrid": false,
         "tickfont": {
          "color": "rgb(100,100,100)",
          "family": "Arial, sans-serif",
          "size": 12
         },
         "title": {
          "text": "Date"
         }
        },
        "yaxis": {
         "gridcolor": "rgb(220,220,220)",
         "showgrid": true,
         "tickfont": {
          "color": "rgb(100,100,100)",
          "family": "Arial, sans-serif",
          "size": 12
         },
         "title": {
          "text": "Units"
         }
        }
       }
      }
     },
     "metadata": {},
     "output_type": "display_data"
    },
    {
     "data": {
      "application/vnd.plotly.v1+json": {
       "config": {
        "plotlyServerURL": "https://plot.ly"
       },
       "data": [
        {
         "hovertemplate": "<b>Date</b>: %{x}<br><b>Inventory</b>: %{y} units<extra></extra>",
         "marker": {
          "color": "rgb(252, 186, 3)",
          "line": {
           "width": 0
          }
         },
         "name": "Inventory",
         "opacity": 1,
         "type": "bar",
         "x": [
          "2016-08-01",
          "2016-08-02",
          "2016-08-03",
          "2016-08-04",
          "2016-08-05",
          "2016-08-06",
          "2016-08-07",
          "2016-08-08",
          "2016-08-09",
          "2016-08-10",
          "2016-08-11",
          "2016-08-12",
          "2016-08-13",
          "2016-08-14",
          "2016-08-15"
         ],
         "y": [
          89,
          73,
          72,
          61,
          73,
          102,
          132,
          93,
          69,
          67,
          64,
          64,
          83,
          68,
          84
         ]
        },
        {
         "hovertemplate": "<b>Date</b>: %{x}<br><b>Projected Initial Inv.</b>: %{y} units<extra></extra>",
         "marker": {
          "color": "rgb(252, 186, 3)",
          "line": {
           "width": 0
          }
         },
         "name": "Projected Initial Inventory",
         "opacity": 0.6,
         "type": "bar",
         "x": [
          "2016-08-16",
          "2016-08-17",
          "2016-08-18",
          "2016-08-19",
          "2016-08-20",
          "2016-08-21",
          "2016-08-22"
         ],
         "y": [
          30,
          20,
          20,
          20,
          20,
          21,
          20
         ]
        },
        {
         "hovertemplate": "<b>Date</b>: %{x}<br><b>Projected Deliveries</b>: %{y} units<extra></extra>",
         "marker": {
          "color": "rgb(3, 148, 252)",
          "line": {
           "width": 0
          }
         },
         "name": "Projected Deliveries",
         "opacity": 0.7,
         "type": "bar",
         "x": [
          "2016-08-16",
          "2016-08-17",
          "2016-08-18",
          "2016-08-19",
          "2016-08-20",
          "2016-08-21",
          "2016-08-22"
         ],
         "y": [
          50,
          62,
          60,
          64,
          66,
          64,
          66
         ]
        },
        {
         "customdata": [
          79,
          63,
          62,
          51,
          63,
          92,
          122,
          83,
          59,
          57,
          54,
          54,
          73,
          58,
          74
         ],
         "hovertemplate": "<b>Date</b>: %{x}<br><b>Sales</b>: %{customdata} units<extra></extra>",
         "marker": {
          "color": "rgb(23, 191, 99)",
          "line": {
           "width": 0
          }
         },
         "name": "Sales",
         "opacity": 1,
         "type": "bar",
         "x": [
          "2016-08-01",
          "2016-08-02",
          "2016-08-03",
          "2016-08-04",
          "2016-08-05",
          "2016-08-06",
          "2016-08-07",
          "2016-08-08",
          "2016-08-09",
          "2016-08-10",
          "2016-08-11",
          "2016-08-12",
          "2016-08-13",
          "2016-08-14",
          "2016-08-15"
         ],
         "y": [
          -79,
          -63,
          -62,
          -51,
          -63,
          -92,
          -122,
          -83,
          -59,
          -57,
          -54,
          -54,
          -73,
          -58,
          -74
         ]
        },
        {
         "customdata": [
          60,
          62,
          60,
          64,
          65,
          65,
          65
         ],
         "hovertemplate": "<b>Date</b>: %{x}<br><b>Projected Fulfilled</b>: %{customdata} units<extra></extra>",
         "marker": {
          "color": "rgb(23, 191, 99)",
          "line": {
           "width": 0
          }
         },
         "name": "Projected Fulfilled Sales",
         "opacity": 0.6,
         "type": "bar",
         "x": [
          "2016-08-16",
          "2016-08-17",
          "2016-08-18",
          "2016-08-19",
          "2016-08-20",
          "2016-08-21",
          "2016-08-22"
         ],
         "y": [
          -60,
          -62,
          -60,
          -64,
          -65,
          -65,
          -65
         ]
        },
        {
         "customdata": [
          0,
          0,
          0,
          0,
          0,
          0,
          0
         ],
         "hovertemplate": "<b>Date</b>: %{x}<br><b>Projected Unfulfilled</b>: %{customdata} units<extra></extra>",
         "marker": {
          "color": "rgb(52, 73, 94)",
          "line": {
           "width": 0
          }
         },
         "name": "Projected Unfulfilled Sales",
         "opacity": 0.7,
         "type": "bar",
         "x": [
          "2016-08-16",
          "2016-08-17",
          "2016-08-18",
          "2016-08-19",
          "2016-08-20",
          "2016-08-21",
          "2016-08-22"
         ],
         "y": [
          0,
          0,
          0,
          0,
          0,
          0,
          0
         ]
        }
       ],
       "layout": {
        "barmode": "relative",
        "font": {
         "color": "rgb(60,60,60)",
         "family": "Arial, sans-serif"
        },
        "legend": {
         "font": {
          "family": "Arial, sans-serif",
          "size": 10
         },
         "orientation": "h",
         "x": 1,
         "xanchor": "right",
         "y": 1.02,
         "yanchor": "bottom"
        },
        "margin": {
         "b": 60,
         "l": 60,
         "r": 30,
         "t": 80
        },
        "paper_bgcolor": "rgb(248, 248, 255)",
        "plot_bgcolor": "rgb(248, 248, 255)",
        "template": {
         "data": {
          "candlestick": [
           {
            "decreasing": {
             "line": {
              "color": "#000033"
             }
            },
            "increasing": {
             "line": {
              "color": "#000032"
             }
            },
            "type": "candlestick"
           }
          ],
          "contour": [
           {
            "colorscale": [
             [
              0,
              "#000011"
             ],
             [
              0.1111111111111111,
              "#000012"
             ],
             [
              0.2222222222222222,
              "#000013"
             ],
             [
              0.3333333333333333,
              "#000014"
             ],
             [
              0.4444444444444444,
              "#000015"
             ],
             [
              0.5555555555555556,
              "#000016"
             ],
             [
              0.6666666666666666,
              "#000017"
             ],
             [
              0.7777777777777778,
              "#000018"
             ],
             [
              0.8888888888888888,
              "#000019"
             ],
             [
              1,
              "#000020"
             ]
            ],
            "type": "contour"
           }
          ],
          "contourcarpet": [
           {
            "colorscale": [
             [
              0,
              "#000011"
             ],
             [
              0.1111111111111111,
              "#000012"
             ],
             [
              0.2222222222222222,
              "#000013"
             ],
             [
              0.3333333333333333,
              "#000014"
             ],
             [
              0.4444444444444444,
              "#000015"
             ],
             [
              0.5555555555555556,
              "#000016"
             ],
             [
              0.6666666666666666,
              "#000017"
             ],
             [
              0.7777777777777778,
              "#000018"
             ],
             [
              0.8888888888888888,
              "#000019"
             ],
             [
              1,
              "#000020"
             ]
            ],
            "type": "contourcarpet"
           }
          ],
          "heatmap": [
           {
            "colorscale": [
             [
              0,
              "#000011"
             ],
             [
              0.1111111111111111,
              "#000012"
             ],
             [
              0.2222222222222222,
              "#000013"
             ],
             [
              0.3333333333333333,
              "#000014"
             ],
             [
              0.4444444444444444,
              "#000015"
             ],
             [
              0.5555555555555556,
              "#000016"
             ],
             [
              0.6666666666666666,
              "#000017"
             ],
             [
              0.7777777777777778,
              "#000018"
             ],
             [
              0.8888888888888888,
              "#000019"
             ],
             [
              1,
              "#000020"
             ]
            ],
            "type": "heatmap"
           }
          ],
          "histogram2d": [
           {
            "colorscale": [
             [
              0,
              "#000011"
             ],
             [
              0.1111111111111111,
              "#000012"
             ],
             [
              0.2222222222222222,
              "#000013"
             ],
             [
              0.3333333333333333,
              "#000014"
             ],
             [
              0.4444444444444444,
              "#000015"
             ],
             [
              0.5555555555555556,
              "#000016"
             ],
             [
              0.6666666666666666,
              "#000017"
             ],
             [
              0.7777777777777778,
              "#000018"
             ],
             [
              0.8888888888888888,
              "#000019"
             ],
             [
              1,
              "#000020"
             ]
            ],
            "type": "histogram2d"
           }
          ],
          "icicle": [
           {
            "textfont": {
             "color": "white"
            },
            "type": "icicle"
           }
          ],
          "sankey": [
           {
            "textfont": {
             "color": "#000036"
            },
            "type": "sankey"
           }
          ],
          "scatter": [
           {
            "marker": {
             "line": {
              "width": 0
             }
            },
            "type": "scatter"
           }
          ],
          "table": [
           {
            "cells": {
             "fill": {
              "color": "#000038"
             },
             "font": {
              "color": "#000037"
             },
             "line": {
              "color": "#000039"
             }
            },
            "header": {
             "fill": {
              "color": "#000040"
             },
             "font": {
              "color": "#000036"
             },
             "line": {
              "color": "#000039"
             }
            },
            "type": "table"
           }
          ],
          "waterfall": [
           {
            "connector": {
             "line": {
              "color": "#000036",
              "width": 2
             }
            },
            "decreasing": {
             "marker": {
              "color": "#000033"
             }
            },
            "increasing": {
             "marker": {
              "color": "#000032"
             }
            },
            "totals": {
             "marker": {
              "color": "#000034"
             }
            },
            "type": "waterfall"
           }
          ]
         },
         "layout": {
          "coloraxis": {
           "colorscale": [
            [
             0,
             "#000011"
            ],
            [
             0.1111111111111111,
             "#000012"
            ],
            [
             0.2222222222222222,
             "#000013"
            ],
            [
             0.3333333333333333,
             "#000014"
            ],
            [
             0.4444444444444444,
             "#000015"
            ],
            [
             0.5555555555555556,
             "#000016"
            ],
            [
             0.6666666666666666,
             "#000017"
            ],
            [
             0.7777777777777778,
             "#000018"
            ],
            [
             0.8888888888888888,
             "#000019"
            ],
            [
             1,
             "#000020"
            ]
           ]
          },
          "colorscale": {
           "diverging": [
            [
             0,
             "#000021"
            ],
            [
             0.1,
             "#000022"
            ],
            [
             0.2,
             "#000023"
            ],
            [
             0.3,
             "#000024"
            ],
            [
             0.4,
             "#000025"
            ],
            [
             0.5,
             "#000026"
            ],
            [
             0.6,
             "#000027"
            ],
            [
             0.7,
             "#000028"
            ],
            [
             0.8,
             "#000029"
            ],
            [
             0.9,
             "#000030"
            ],
            [
             1,
             "#000031"
            ]
           ],
           "sequential": [
            [
             0,
             "#000011"
            ],
            [
             0.1111111111111111,
             "#000012"
            ],
            [
             0.2222222222222222,
             "#000013"
            ],
            [
             0.3333333333333333,
             "#000014"
            ],
            [
             0.4444444444444444,
             "#000015"
            ],
            [
             0.5555555555555556,
             "#000016"
            ],
            [
             0.6666666666666666,
             "#000017"
            ],
            [
             0.7777777777777778,
             "#000018"
            ],
            [
             0.8888888888888888,
             "#000019"
            ],
            [
             1,
             "#000020"
            ]
           ],
           "sequentialminus": [
            [
             0,
             "#000011"
            ],
            [
             0.1111111111111111,
             "#000012"
            ],
            [
             0.2222222222222222,
             "#000013"
            ],
            [
             0.3333333333333333,
             "#000014"
            ],
            [
             0.4444444444444444,
             "#000015"
            ],
            [
             0.5555555555555556,
             "#000016"
            ],
            [
             0.6666666666666666,
             "#000017"
            ],
            [
             0.7777777777777778,
             "#000018"
            ],
            [
             0.8888888888888888,
             "#000019"
            ],
            [
             1,
             "#000020"
            ]
           ]
          },
          "colorway": [
           "#000001",
           "#000002",
           "#000003",
           "#000004",
           "#000005",
           "#000006",
           "#000007",
           "#000008",
           "#000009",
           "#000010"
          ]
         }
        },
        "xaxis": {
         "showgrid": false,
         "tickfont": {
          "color": "rgb(100,100,100)",
          "family": "Arial, sans-serif",
          "size": 12
         },
         "title": {
          "text": "Date"
         }
        },
        "yaxis": {
         "gridcolor": "rgb(220,220,220)",
         "showgrid": true,
         "tickfont": {
          "color": "rgb(100,100,100)",
          "family": "Arial, sans-serif",
          "size": 12
         },
         "title": {
          "text": "Units"
         }
        }
       }
      }
     },
     "metadata": {},
     "output_type": "display_data"
    },
    {
     "data": {
      "application/vnd.plotly.v1+json": {
       "config": {
        "plotlyServerURL": "https://plot.ly"
       },
       "data": [
        {
         "hovertemplate": "<b>Date</b>: %{x}<br><b>Inventory</b>: %{y} units<extra></extra>",
         "marker": {
          "color": "rgb(252, 186, 3)",
          "line": {
           "width": 0
          }
         },
         "name": "Inventory",
         "opacity": 1,
         "type": "bar",
         "x": [
          "2016-08-01",
          "2016-08-02",
          "2016-08-03",
          "2016-08-04",
          "2016-08-05",
          "2016-08-06",
          "2016-08-07",
          "2016-08-08",
          "2016-08-09",
          "2016-08-10",
          "2016-08-11",
          "2016-08-12",
          "2016-08-13",
          "2016-08-14",
          "2016-08-15"
         ],
         "y": [
          43,
          24,
          30,
          21,
          30,
          25,
          34,
          30,
          25,
          18,
          23,
          31,
          37,
          45,
          27
         ]
        },
        {
         "hovertemplate": "<b>Date</b>: %{x}<br><b>Projected Initial Inv.</b>: %{y} units<extra></extra>",
         "marker": {
          "color": "rgb(252, 186, 3)",
          "line": {
           "width": 0
          }
         },
         "name": "Projected Initial Inventory",
         "opacity": 0.6,
         "type": "bar",
         "x": [
          "2016-08-16",
          "2016-08-17",
          "2016-08-18",
          "2016-08-19",
          "2016-08-20",
          "2016-08-21",
          "2016-08-22"
         ],
         "y": [
          30,
          27,
          23,
          35,
          31,
          24,
          33
         ]
        },
        {
         "hovertemplate": "<b>Date</b>: %{x}<br><b>Projected Deliveries</b>: %{y} units<extra></extra>",
         "marker": {
          "color": "rgb(3, 148, 252)",
          "line": {
           "width": 0
          }
         },
         "name": "Projected Deliveries",
         "opacity": 0.7,
         "type": "bar",
         "x": [
          "2016-08-16",
          "2016-08-17",
          "2016-08-18",
          "2016-08-19",
          "2016-08-20",
          "2016-08-21",
          "2016-08-22"
         ],
         "y": [
          14,
          14,
          28,
          14,
          14,
          28,
          14
         ]
        },
        {
         "customdata": [
          33,
          14,
          20,
          11,
          20,
          15,
          24,
          20,
          15,
          8,
          13,
          21,
          27,
          35,
          17
         ],
         "hovertemplate": "<b>Date</b>: %{x}<br><b>Sales</b>: %{customdata} units<extra></extra>",
         "marker": {
          "color": "rgb(23, 191, 99)",
          "line": {
           "width": 0
          }
         },
         "name": "Sales",
         "opacity": 1,
         "type": "bar",
         "x": [
          "2016-08-01",
          "2016-08-02",
          "2016-08-03",
          "2016-08-04",
          "2016-08-05",
          "2016-08-06",
          "2016-08-07",
          "2016-08-08",
          "2016-08-09",
          "2016-08-10",
          "2016-08-11",
          "2016-08-12",
          "2016-08-13",
          "2016-08-14",
          "2016-08-15"
         ],
         "y": [
          -33,
          -14,
          -20,
          -11,
          -20,
          -15,
          -24,
          -20,
          -15,
          -8,
          -13,
          -21,
          -27,
          -35,
          -17
         ]
        },
        {
         "customdata": [
          17,
          18,
          16,
          18,
          21,
          19,
          18
         ],
         "hovertemplate": "<b>Date</b>: %{x}<br><b>Projected Fulfilled</b>: %{customdata} units<extra></extra>",
         "marker": {
          "color": "rgb(23, 191, 99)",
          "line": {
           "width": 0
          }
         },
         "name": "Projected Fulfilled Sales",
         "opacity": 0.6,
         "type": "bar",
         "x": [
          "2016-08-16",
          "2016-08-17",
          "2016-08-18",
          "2016-08-19",
          "2016-08-20",
          "2016-08-21",
          "2016-08-22"
         ],
         "y": [
          -17,
          -18,
          -16,
          -18,
          -21,
          -19,
          -18
         ]
        },
        {
         "customdata": [
          0,
          0,
          0,
          0,
          0,
          0,
          0
         ],
         "hovertemplate": "<b>Date</b>: %{x}<br><b>Projected Unfulfilled</b>: %{customdata} units<extra></extra>",
         "marker": {
          "color": "rgb(52, 73, 94)",
          "line": {
           "width": 0
          }
         },
         "name": "Projected Unfulfilled Sales",
         "opacity": 0.7,
         "type": "bar",
         "x": [
          "2016-08-16",
          "2016-08-17",
          "2016-08-18",
          "2016-08-19",
          "2016-08-20",
          "2016-08-21",
          "2016-08-22"
         ],
         "y": [
          0,
          0,
          0,
          0,
          0,
          0,
          0
         ]
        }
       ],
       "layout": {
        "barmode": "relative",
        "font": {
         "color": "rgb(60,60,60)",
         "family": "Arial, sans-serif"
        },
        "legend": {
         "font": {
          "family": "Arial, sans-serif",
          "size": 10
         },
         "orientation": "h",
         "x": 1,
         "xanchor": "right",
         "y": 1.02,
         "yanchor": "bottom"
        },
        "margin": {
         "b": 60,
         "l": 60,
         "r": 30,
         "t": 80
        },
        "paper_bgcolor": "rgb(248, 248, 255)",
        "plot_bgcolor": "rgb(248, 248, 255)",
        "template": {
         "data": {
          "candlestick": [
           {
            "decreasing": {
             "line": {
              "color": "#000033"
             }
            },
            "increasing": {
             "line": {
              "color": "#000032"
             }
            },
            "type": "candlestick"
           }
          ],
          "contour": [
           {
            "colorscale": [
             [
              0,
              "#000011"
             ],
             [
              0.1111111111111111,
              "#000012"
             ],
             [
              0.2222222222222222,
              "#000013"
             ],
             [
              0.3333333333333333,
              "#000014"
             ],
             [
              0.4444444444444444,
              "#000015"
             ],
             [
              0.5555555555555556,
              "#000016"
             ],
             [
              0.6666666666666666,
              "#000017"
             ],
             [
              0.7777777777777778,
              "#000018"
             ],
             [
              0.8888888888888888,
              "#000019"
             ],
             [
              1,
              "#000020"
             ]
            ],
            "type": "contour"
           }
          ],
          "contourcarpet": [
           {
            "colorscale": [
             [
              0,
              "#000011"
             ],
             [
              0.1111111111111111,
              "#000012"
             ],
             [
              0.2222222222222222,
              "#000013"
             ],
             [
              0.3333333333333333,
              "#000014"
             ],
             [
              0.4444444444444444,
              "#000015"
             ],
             [
              0.5555555555555556,
              "#000016"
             ],
             [
              0.6666666666666666,
              "#000017"
             ],
             [
              0.7777777777777778,
              "#000018"
             ],
             [
              0.8888888888888888,
              "#000019"
             ],
             [
              1,
              "#000020"
             ]
            ],
            "type": "contourcarpet"
           }
          ],
          "heatmap": [
           {
            "colorscale": [
             [
              0,
              "#000011"
             ],
             [
              0.1111111111111111,
              "#000012"
             ],
             [
              0.2222222222222222,
              "#000013"
             ],
             [
              0.3333333333333333,
              "#000014"
             ],
             [
              0.4444444444444444,
              "#000015"
             ],
             [
              0.5555555555555556,
              "#000016"
             ],
             [
              0.6666666666666666,
              "#000017"
             ],
             [
              0.7777777777777778,
              "#000018"
             ],
             [
              0.8888888888888888,
              "#000019"
             ],
             [
              1,
              "#000020"
             ]
            ],
            "type": "heatmap"
           }
          ],
          "histogram2d": [
           {
            "colorscale": [
             [
              0,
              "#000011"
             ],
             [
              0.1111111111111111,
              "#000012"
             ],
             [
              0.2222222222222222,
              "#000013"
             ],
             [
              0.3333333333333333,
              "#000014"
             ],
             [
              0.4444444444444444,
              "#000015"
             ],
             [
              0.5555555555555556,
              "#000016"
             ],
             [
              0.6666666666666666,
              "#000017"
             ],
             [
              0.7777777777777778,
              "#000018"
             ],
             [
              0.8888888888888888,
              "#000019"
             ],
             [
              1,
              "#000020"
             ]
            ],
            "type": "histogram2d"
           }
          ],
          "icicle": [
           {
            "textfont": {
             "color": "white"
            },
            "type": "icicle"
           }
          ],
          "sankey": [
           {
            "textfont": {
             "color": "#000036"
            },
            "type": "sankey"
           }
          ],
          "scatter": [
           {
            "marker": {
             "line": {
              "width": 0
             }
            },
            "type": "scatter"
           }
          ],
          "table": [
           {
            "cells": {
             "fill": {
              "color": "#000038"
             },
             "font": {
              "color": "#000037"
             },
             "line": {
              "color": "#000039"
             }
            },
            "header": {
             "fill": {
              "color": "#000040"
             },
             "font": {
              "color": "#000036"
             },
             "line": {
              "color": "#000039"
             }
            },
            "type": "table"
           }
          ],
          "waterfall": [
           {
            "connector": {
             "line": {
              "color": "#000036",
              "width": 2
             }
            },
            "decreasing": {
             "marker": {
              "color": "#000033"
             }
            },
            "increasing": {
             "marker": {
              "color": "#000032"
             }
            },
            "totals": {
             "marker": {
              "color": "#000034"
             }
            },
            "type": "waterfall"
           }
          ]
         },
         "layout": {
          "coloraxis": {
           "colorscale": [
            [
             0,
             "#000011"
            ],
            [
             0.1111111111111111,
             "#000012"
            ],
            [
             0.2222222222222222,
             "#000013"
            ],
            [
             0.3333333333333333,
             "#000014"
            ],
            [
             0.4444444444444444,
             "#000015"
            ],
            [
             0.5555555555555556,
             "#000016"
            ],
            [
             0.6666666666666666,
             "#000017"
            ],
            [
             0.7777777777777778,
             "#000018"
            ],
            [
             0.8888888888888888,
             "#000019"
            ],
            [
             1,
             "#000020"
            ]
           ]
          },
          "colorscale": {
           "diverging": [
            [
             0,
             "#000021"
            ],
            [
             0.1,
             "#000022"
            ],
            [
             0.2,
             "#000023"
            ],
            [
             0.3,
             "#000024"
            ],
            [
             0.4,
             "#000025"
            ],
            [
             0.5,
             "#000026"
            ],
            [
             0.6,
             "#000027"
            ],
            [
             0.7,
             "#000028"
            ],
            [
             0.8,
             "#000029"
            ],
            [
             0.9,
             "#000030"
            ],
            [
             1,
             "#000031"
            ]
           ],
           "sequential": [
            [
             0,
             "#000011"
            ],
            [
             0.1111111111111111,
             "#000012"
            ],
            [
             0.2222222222222222,
             "#000013"
            ],
            [
             0.3333333333333333,
             "#000014"
            ],
            [
             0.4444444444444444,
             "#000015"
            ],
            [
             0.5555555555555556,
             "#000016"
            ],
            [
             0.6666666666666666,
             "#000017"
            ],
            [
             0.7777777777777778,
             "#000018"
            ],
            [
             0.8888888888888888,
             "#000019"
            ],
            [
             1,
             "#000020"
            ]
           ],
           "sequentialminus": [
            [
             0,
             "#000011"
            ],
            [
             0.1111111111111111,
             "#000012"
            ],
            [
             0.2222222222222222,
             "#000013"
            ],
            [
             0.3333333333333333,
             "#000014"
            ],
            [
             0.4444444444444444,
             "#000015"
            ],
            [
             0.5555555555555556,
             "#000016"
            ],
            [
             0.6666666666666666,
             "#000017"
            ],
            [
             0.7777777777777778,
             "#000018"
            ],
            [
             0.8888888888888888,
             "#000019"
            ],
            [
             1,
             "#000020"
            ]
           ]
          },
          "colorway": [
           "#000001",
           "#000002",
           "#000003",
           "#000004",
           "#000005",
           "#000006",
           "#000007",
           "#000008",
           "#000009",
           "#000010"
          ]
         }
        },
        "xaxis": {
         "showgrid": false,
         "tickfont": {
          "color": "rgb(100,100,100)",
          "family": "Arial, sans-serif",
          "size": 12
         },
         "title": {
          "text": "Date"
         }
        },
        "yaxis": {
         "gridcolor": "rgb(220,220,220)",
         "showgrid": true,
         "tickfont": {
          "color": "rgb(100,100,100)",
          "family": "Arial, sans-serif",
          "size": 12
         },
         "title": {
          "text": "Units"
         }
        }
       }
      }
     },
     "metadata": {},
     "output_type": "display_data"
    },
    {
     "data": {
      "application/vnd.plotly.v1+json": {
       "config": {
        "plotlyServerURL": "https://plot.ly"
       },
       "data": [
        {
         "hovertemplate": "<b>Date</b>: %{x}<br><b>Inventory</b>: %{y} units<extra></extra>",
         "marker": {
          "color": "rgb(252, 186, 3)",
          "line": {
           "width": 0
          }
         },
         "name": "Inventory",
         "opacity": 1,
         "type": "bar",
         "x": [
          "2016-08-01",
          "2016-08-02",
          "2016-08-03",
          "2016-08-04",
          "2016-08-05",
          "2016-08-06",
          "2016-08-07",
          "2016-08-08",
          "2016-08-09",
          "2016-08-10",
          "2016-08-11",
          "2016-08-12",
          "2016-08-13",
          "2016-08-14",
          "2016-08-15"
         ],
         "y": [
          32,
          23,
          31,
          23,
          24,
          28,
          30,
          22,
          22,
          22,
          22,
          26,
          21,
          24,
          29
         ]
        },
        {
         "hovertemplate": "<b>Date</b>: %{x}<br><b>Projected Initial Inv.</b>: %{y} units<extra></extra>",
         "marker": {
          "color": "rgb(252, 186, 3)",
          "line": {
           "width": 0
          }
         },
         "name": "Projected Initial Inventory",
         "opacity": 0.6,
         "type": "bar",
         "x": [
          "2016-08-16",
          "2016-08-17",
          "2016-08-18",
          "2016-08-19",
          "2016-08-20",
          "2016-08-21",
          "2016-08-22"
         ],
         "y": [
          30,
          28,
          26,
          25,
          38,
          36,
          34
         ]
        },
        {
         "hovertemplate": "<b>Date</b>: %{x}<br><b>Projected Deliveries</b>: %{y} units<extra></extra>",
         "marker": {
          "color": "rgb(3, 148, 252)",
          "line": {
           "width": 0
          }
         },
         "name": "Projected Deliveries",
         "opacity": 0.7,
         "type": "bar",
         "x": [
          "2016-08-16",
          "2016-08-17",
          "2016-08-18",
          "2016-08-19",
          "2016-08-20",
          "2016-08-21",
          "2016-08-22"
         ],
         "y": [
          14,
          14,
          14,
          28,
          14,
          14,
          14
         ]
        },
        {
         "customdata": [
          22,
          13,
          21,
          13,
          14,
          18,
          20,
          12,
          12,
          12,
          12,
          16,
          11,
          14,
          19
         ],
         "hovertemplate": "<b>Date</b>: %{x}<br><b>Sales</b>: %{customdata} units<extra></extra>",
         "marker": {
          "color": "rgb(23, 191, 99)",
          "line": {
           "width": 0
          }
         },
         "name": "Sales",
         "opacity": 1,
         "type": "bar",
         "x": [
          "2016-08-01",
          "2016-08-02",
          "2016-08-03",
          "2016-08-04",
          "2016-08-05",
          "2016-08-06",
          "2016-08-07",
          "2016-08-08",
          "2016-08-09",
          "2016-08-10",
          "2016-08-11",
          "2016-08-12",
          "2016-08-13",
          "2016-08-14",
          "2016-08-15"
         ],
         "y": [
          -22,
          -13,
          -21,
          -13,
          -14,
          -18,
          -20,
          -12,
          -12,
          -12,
          -12,
          -16,
          -11,
          -14,
          -19
         ]
        },
        {
         "customdata": [
          16,
          16,
          15,
          15,
          16,
          16,
          16
         ],
         "hovertemplate": "<b>Date</b>: %{x}<br><b>Projected Fulfilled</b>: %{customdata} units<extra></extra>",
         "marker": {
          "color": "rgb(23, 191, 99)",
          "line": {
           "width": 0
          }
         },
         "name": "Projected Fulfilled Sales",
         "opacity": 0.6,
         "type": "bar",
         "x": [
          "2016-08-16",
          "2016-08-17",
          "2016-08-18",
          "2016-08-19",
          "2016-08-20",
          "2016-08-21",
          "2016-08-22"
         ],
         "y": [
          -16,
          -16,
          -15,
          -15,
          -16,
          -16,
          -16
         ]
        },
        {
         "customdata": [
          0,
          0,
          0,
          0,
          0,
          0,
          0
         ],
         "hovertemplate": "<b>Date</b>: %{x}<br><b>Projected Unfulfilled</b>: %{customdata} units<extra></extra>",
         "marker": {
          "color": "rgb(52, 73, 94)",
          "line": {
           "width": 0
          }
         },
         "name": "Projected Unfulfilled Sales",
         "opacity": 0.7,
         "type": "bar",
         "x": [
          "2016-08-16",
          "2016-08-17",
          "2016-08-18",
          "2016-08-19",
          "2016-08-20",
          "2016-08-21",
          "2016-08-22"
         ],
         "y": [
          0,
          0,
          0,
          0,
          0,
          0,
          0
         ]
        }
       ],
       "layout": {
        "barmode": "relative",
        "font": {
         "color": "rgb(60,60,60)",
         "family": "Arial, sans-serif"
        },
        "legend": {
         "font": {
          "family": "Arial, sans-serif",
          "size": 10
         },
         "orientation": "h",
         "x": 1,
         "xanchor": "right",
         "y": 1.02,
         "yanchor": "bottom"
        },
        "margin": {
         "b": 60,
         "l": 60,
         "r": 30,
         "t": 80
        },
        "paper_bgcolor": "rgb(248, 248, 255)",
        "plot_bgcolor": "rgb(248, 248, 255)",
        "template": {
         "data": {
          "candlestick": [
           {
            "decreasing": {
             "line": {
              "color": "#000033"
             }
            },
            "increasing": {
             "line": {
              "color": "#000032"
             }
            },
            "type": "candlestick"
           }
          ],
          "contour": [
           {
            "colorscale": [
             [
              0,
              "#000011"
             ],
             [
              0.1111111111111111,
              "#000012"
             ],
             [
              0.2222222222222222,
              "#000013"
             ],
             [
              0.3333333333333333,
              "#000014"
             ],
             [
              0.4444444444444444,
              "#000015"
             ],
             [
              0.5555555555555556,
              "#000016"
             ],
             [
              0.6666666666666666,
              "#000017"
             ],
             [
              0.7777777777777778,
              "#000018"
             ],
             [
              0.8888888888888888,
              "#000019"
             ],
             [
              1,
              "#000020"
             ]
            ],
            "type": "contour"
           }
          ],
          "contourcarpet": [
           {
            "colorscale": [
             [
              0,
              "#000011"
             ],
             [
              0.1111111111111111,
              "#000012"
             ],
             [
              0.2222222222222222,
              "#000013"
             ],
             [
              0.3333333333333333,
              "#000014"
             ],
             [
              0.4444444444444444,
              "#000015"
             ],
             [
              0.5555555555555556,
              "#000016"
             ],
             [
              0.6666666666666666,
              "#000017"
             ],
             [
              0.7777777777777778,
              "#000018"
             ],
             [
              0.8888888888888888,
              "#000019"
             ],
             [
              1,
              "#000020"
             ]
            ],
            "type": "contourcarpet"
           }
          ],
          "heatmap": [
           {
            "colorscale": [
             [
              0,
              "#000011"
             ],
             [
              0.1111111111111111,
              "#000012"
             ],
             [
              0.2222222222222222,
              "#000013"
             ],
             [
              0.3333333333333333,
              "#000014"
             ],
             [
              0.4444444444444444,
              "#000015"
             ],
             [
              0.5555555555555556,
              "#000016"
             ],
             [
              0.6666666666666666,
              "#000017"
             ],
             [
              0.7777777777777778,
              "#000018"
             ],
             [
              0.8888888888888888,
              "#000019"
             ],
             [
              1,
              "#000020"
             ]
            ],
            "type": "heatmap"
           }
          ],
          "histogram2d": [
           {
            "colorscale": [
             [
              0,
              "#000011"
             ],
             [
              0.1111111111111111,
              "#000012"
             ],
             [
              0.2222222222222222,
              "#000013"
             ],
             [
              0.3333333333333333,
              "#000014"
             ],
             [
              0.4444444444444444,
              "#000015"
             ],
             [
              0.5555555555555556,
              "#000016"
             ],
             [
              0.6666666666666666,
              "#000017"
             ],
             [
              0.7777777777777778,
              "#000018"
             ],
             [
              0.8888888888888888,
              "#000019"
             ],
             [
              1,
              "#000020"
             ]
            ],
            "type": "histogram2d"
           }
          ],
          "icicle": [
           {
            "textfont": {
             "color": "white"
            },
            "type": "icicle"
           }
          ],
          "sankey": [
           {
            "textfont": {
             "color": "#000036"
            },
            "type": "sankey"
           }
          ],
          "scatter": [
           {
            "marker": {
             "line": {
              "width": 0
             }
            },
            "type": "scatter"
           }
          ],
          "table": [
           {
            "cells": {
             "fill": {
              "color": "#000038"
             },
             "font": {
              "color": "#000037"
             },
             "line": {
              "color": "#000039"
             }
            },
            "header": {
             "fill": {
              "color": "#000040"
             },
             "font": {
              "color": "#000036"
             },
             "line": {
              "color": "#000039"
             }
            },
            "type": "table"
           }
          ],
          "waterfall": [
           {
            "connector": {
             "line": {
              "color": "#000036",
              "width": 2
             }
            },
            "decreasing": {
             "marker": {
              "color": "#000033"
             }
            },
            "increasing": {
             "marker": {
              "color": "#000032"
             }
            },
            "totals": {
             "marker": {
              "color": "#000034"
             }
            },
            "type": "waterfall"
           }
          ]
         },
         "layout": {
          "coloraxis": {
           "colorscale": [
            [
             0,
             "#000011"
            ],
            [
             0.1111111111111111,
             "#000012"
            ],
            [
             0.2222222222222222,
             "#000013"
            ],
            [
             0.3333333333333333,
             "#000014"
            ],
            [
             0.4444444444444444,
             "#000015"
            ],
            [
             0.5555555555555556,
             "#000016"
            ],
            [
             0.6666666666666666,
             "#000017"
            ],
            [
             0.7777777777777778,
             "#000018"
            ],
            [
             0.8888888888888888,
             "#000019"
            ],
            [
             1,
             "#000020"
            ]
           ]
          },
          "colorscale": {
           "diverging": [
            [
             0,
             "#000021"
            ],
            [
             0.1,
             "#000022"
            ],
            [
             0.2,
             "#000023"
            ],
            [
             0.3,
             "#000024"
            ],
            [
             0.4,
             "#000025"
            ],
            [
             0.5,
             "#000026"
            ],
            [
             0.6,
             "#000027"
            ],
            [
             0.7,
             "#000028"
            ],
            [
             0.8,
             "#000029"
            ],
            [
             0.9,
             "#000030"
            ],
            [
             1,
             "#000031"
            ]
           ],
           "sequential": [
            [
             0,
             "#000011"
            ],
            [
             0.1111111111111111,
             "#000012"
            ],
            [
             0.2222222222222222,
             "#000013"
            ],
            [
             0.3333333333333333,
             "#000014"
            ],
            [
             0.4444444444444444,
             "#000015"
            ],
            [
             0.5555555555555556,
             "#000016"
            ],
            [
             0.6666666666666666,
             "#000017"
            ],
            [
             0.7777777777777778,
             "#000018"
            ],
            [
             0.8888888888888888,
             "#000019"
            ],
            [
             1,
             "#000020"
            ]
           ],
           "sequentialminus": [
            [
             0,
             "#000011"
            ],
            [
             0.1111111111111111,
             "#000012"
            ],
            [
             0.2222222222222222,
             "#000013"
            ],
            [
             0.3333333333333333,
             "#000014"
            ],
            [
             0.4444444444444444,
             "#000015"
            ],
            [
             0.5555555555555556,
             "#000016"
            ],
            [
             0.6666666666666666,
             "#000017"
            ],
            [
             0.7777777777777778,
             "#000018"
            ],
            [
             0.8888888888888888,
             "#000019"
            ],
            [
             1,
             "#000020"
            ]
           ]
          },
          "colorway": [
           "#000001",
           "#000002",
           "#000003",
           "#000004",
           "#000005",
           "#000006",
           "#000007",
           "#000008",
           "#000009",
           "#000010"
          ]
         }
        },
        "xaxis": {
         "showgrid": false,
         "tickfont": {
          "color": "rgb(100,100,100)",
          "family": "Arial, sans-serif",
          "size": 12
         },
         "title": {
          "text": "Date"
         }
        },
        "yaxis": {
         "gridcolor": "rgb(220,220,220)",
         "showgrid": true,
         "tickfont": {
          "color": "rgb(100,100,100)",
          "family": "Arial, sans-serif",
          "size": 12
         },
         "title": {
          "text": "Units"
         }
        }
       }
      }
     },
     "metadata": {},
     "output_type": "display_data"
    },
    {
     "data": {
      "application/vnd.plotly.v1+json": {
       "config": {
        "plotlyServerURL": "https://plot.ly"
       },
       "data": [
        {
         "hovertemplate": "<b>Date</b>: %{x}<br><b>Inventory</b>: %{y} units<extra></extra>",
         "marker": {
          "color": "rgb(252, 186, 3)",
          "line": {
           "width": 0
          }
         },
         "name": "Inventory",
         "opacity": 1,
         "type": "bar",
         "x": [
          "2016-08-01",
          "2016-08-02",
          "2016-08-03",
          "2016-08-04",
          "2016-08-05",
          "2016-08-06",
          "2016-08-07",
          "2016-08-08",
          "2016-08-09",
          "2016-08-10",
          "2016-08-11",
          "2016-08-12",
          "2016-08-13",
          "2016-08-14",
          "2016-08-15"
         ],
         "y": [
          41,
          26,
          26,
          23,
          22,
          29,
          28,
          30,
          23,
          36,
          24,
          25,
          22,
          29,
          32
         ]
        },
        {
         "hovertemplate": "<b>Date</b>: %{x}<br><b>Projected Initial Inv.</b>: %{y} units<extra></extra>",
         "marker": {
          "color": "rgb(252, 186, 3)",
          "line": {
           "width": 0
          }
         },
         "name": "Projected Initial Inventory",
         "opacity": 0.6,
         "type": "bar",
         "x": [
          "2016-08-16",
          "2016-08-17",
          "2016-08-18",
          "2016-08-19",
          "2016-08-20",
          "2016-08-21",
          "2016-08-22"
         ],
         "y": [
          30,
          21,
          24,
          24,
          22,
          24,
          22
         ]
        },
        {
         "hovertemplate": "<b>Date</b>: %{x}<br><b>Projected Deliveries</b>: %{y} units<extra></extra>",
         "marker": {
          "color": "rgb(3, 148, 252)",
          "line": {
           "width": 0
          }
         },
         "name": "Projected Deliveries",
         "opacity": 0.7,
         "type": "bar",
         "x": [
          "2016-08-16",
          "2016-08-17",
          "2016-08-18",
          "2016-08-19",
          "2016-08-20",
          "2016-08-21",
          "2016-08-22"
         ],
         "y": [
          10,
          20,
          16,
          16,
          20,
          16,
          16
         ]
        },
        {
         "customdata": [
          31,
          16,
          16,
          13,
          12,
          19,
          18,
          20,
          13,
          26,
          14,
          15,
          12,
          19,
          22
         ],
         "hovertemplate": "<b>Date</b>: %{x}<br><b>Sales</b>: %{customdata} units<extra></extra>",
         "marker": {
          "color": "rgb(23, 191, 99)",
          "line": {
           "width": 0
          }
         },
         "name": "Sales",
         "opacity": 1,
         "type": "bar",
         "x": [
          "2016-08-01",
          "2016-08-02",
          "2016-08-03",
          "2016-08-04",
          "2016-08-05",
          "2016-08-06",
          "2016-08-07",
          "2016-08-08",
          "2016-08-09",
          "2016-08-10",
          "2016-08-11",
          "2016-08-12",
          "2016-08-13",
          "2016-08-14",
          "2016-08-15"
         ],
         "y": [
          -31,
          -16,
          -16,
          -13,
          -12,
          -19,
          -18,
          -20,
          -13,
          -26,
          -14,
          -15,
          -12,
          -19,
          -22
         ]
        },
        {
         "customdata": [
          19,
          17,
          16,
          18,
          18,
          18,
          18
         ],
         "hovertemplate": "<b>Date</b>: %{x}<br><b>Projected Fulfilled</b>: %{customdata} units<extra></extra>",
         "marker": {
          "color": "rgb(23, 191, 99)",
          "line": {
           "width": 0
          }
         },
         "name": "Projected Fulfilled Sales",
         "opacity": 0.6,
         "type": "bar",
         "x": [
          "2016-08-16",
          "2016-08-17",
          "2016-08-18",
          "2016-08-19",
          "2016-08-20",
          "2016-08-21",
          "2016-08-22"
         ],
         "y": [
          -19,
          -17,
          -16,
          -18,
          -18,
          -18,
          -18
         ]
        },
        {
         "customdata": [
          0,
          1,
          0,
          0,
          0,
          0,
          0
         ],
         "hovertemplate": "<b>Date</b>: %{x}<br><b>Projected Unfulfilled</b>: %{customdata} units<extra></extra>",
         "marker": {
          "color": "rgb(52, 73, 94)",
          "line": {
           "width": 0
          }
         },
         "name": "Projected Unfulfilled Sales",
         "opacity": 0.7,
         "type": "bar",
         "x": [
          "2016-08-16",
          "2016-08-17",
          "2016-08-18",
          "2016-08-19",
          "2016-08-20",
          "2016-08-21",
          "2016-08-22"
         ],
         "y": [
          0,
          -1,
          0,
          0,
          0,
          0,
          0
         ]
        }
       ],
       "layout": {
        "barmode": "relative",
        "font": {
         "color": "rgb(60,60,60)",
         "family": "Arial, sans-serif"
        },
        "legend": {
         "font": {
          "family": "Arial, sans-serif",
          "size": 10
         },
         "orientation": "h",
         "x": 1,
         "xanchor": "right",
         "y": 1.02,
         "yanchor": "bottom"
        },
        "margin": {
         "b": 60,
         "l": 60,
         "r": 30,
         "t": 80
        },
        "paper_bgcolor": "rgb(248, 248, 255)",
        "plot_bgcolor": "rgb(248, 248, 255)",
        "template": {
         "data": {
          "candlestick": [
           {
            "decreasing": {
             "line": {
              "color": "#000033"
             }
            },
            "increasing": {
             "line": {
              "color": "#000032"
             }
            },
            "type": "candlestick"
           }
          ],
          "contour": [
           {
            "colorscale": [
             [
              0,
              "#000011"
             ],
             [
              0.1111111111111111,
              "#000012"
             ],
             [
              0.2222222222222222,
              "#000013"
             ],
             [
              0.3333333333333333,
              "#000014"
             ],
             [
              0.4444444444444444,
              "#000015"
             ],
             [
              0.5555555555555556,
              "#000016"
             ],
             [
              0.6666666666666666,
              "#000017"
             ],
             [
              0.7777777777777778,
              "#000018"
             ],
             [
              0.8888888888888888,
              "#000019"
             ],
             [
              1,
              "#000020"
             ]
            ],
            "type": "contour"
           }
          ],
          "contourcarpet": [
           {
            "colorscale": [
             [
              0,
              "#000011"
             ],
             [
              0.1111111111111111,
              "#000012"
             ],
             [
              0.2222222222222222,
              "#000013"
             ],
             [
              0.3333333333333333,
              "#000014"
             ],
             [
              0.4444444444444444,
              "#000015"
             ],
             [
              0.5555555555555556,
              "#000016"
             ],
             [
              0.6666666666666666,
              "#000017"
             ],
             [
              0.7777777777777778,
              "#000018"
             ],
             [
              0.8888888888888888,
              "#000019"
             ],
             [
              1,
              "#000020"
             ]
            ],
            "type": "contourcarpet"
           }
          ],
          "heatmap": [
           {
            "colorscale": [
             [
              0,
              "#000011"
             ],
             [
              0.1111111111111111,
              "#000012"
             ],
             [
              0.2222222222222222,
              "#000013"
             ],
             [
              0.3333333333333333,
              "#000014"
             ],
             [
              0.4444444444444444,
              "#000015"
             ],
             [
              0.5555555555555556,
              "#000016"
             ],
             [
              0.6666666666666666,
              "#000017"
             ],
             [
              0.7777777777777778,
              "#000018"
             ],
             [
              0.8888888888888888,
              "#000019"
             ],
             [
              1,
              "#000020"
             ]
            ],
            "type": "heatmap"
           }
          ],
          "histogram2d": [
           {
            "colorscale": [
             [
              0,
              "#000011"
             ],
             [
              0.1111111111111111,
              "#000012"
             ],
             [
              0.2222222222222222,
              "#000013"
             ],
             [
              0.3333333333333333,
              "#000014"
             ],
             [
              0.4444444444444444,
              "#000015"
             ],
             [
              0.5555555555555556,
              "#000016"
             ],
             [
              0.6666666666666666,
              "#000017"
             ],
             [
              0.7777777777777778,
              "#000018"
             ],
             [
              0.8888888888888888,
              "#000019"
             ],
             [
              1,
              "#000020"
             ]
            ],
            "type": "histogram2d"
           }
          ],
          "icicle": [
           {
            "textfont": {
             "color": "white"
            },
            "type": "icicle"
           }
          ],
          "sankey": [
           {
            "textfont": {
             "color": "#000036"
            },
            "type": "sankey"
           }
          ],
          "scatter": [
           {
            "marker": {
             "line": {
              "width": 0
             }
            },
            "type": "scatter"
           }
          ],
          "table": [
           {
            "cells": {
             "fill": {
              "color": "#000038"
             },
             "font": {
              "color": "#000037"
             },
             "line": {
              "color": "#000039"
             }
            },
            "header": {
             "fill": {
              "color": "#000040"
             },
             "font": {
              "color": "#000036"
             },
             "line": {
              "color": "#000039"
             }
            },
            "type": "table"
           }
          ],
          "waterfall": [
           {
            "connector": {
             "line": {
              "color": "#000036",
              "width": 2
             }
            },
            "decreasing": {
             "marker": {
              "color": "#000033"
             }
            },
            "increasing": {
             "marker": {
              "color": "#000032"
             }
            },
            "totals": {
             "marker": {
              "color": "#000034"
             }
            },
            "type": "waterfall"
           }
          ]
         },
         "layout": {
          "coloraxis": {
           "colorscale": [
            [
             0,
             "#000011"
            ],
            [
             0.1111111111111111,
             "#000012"
            ],
            [
             0.2222222222222222,
             "#000013"
            ],
            [
             0.3333333333333333,
             "#000014"
            ],
            [
             0.4444444444444444,
             "#000015"
            ],
            [
             0.5555555555555556,
             "#000016"
            ],
            [
             0.6666666666666666,
             "#000017"
            ],
            [
             0.7777777777777778,
             "#000018"
            ],
            [
             0.8888888888888888,
             "#000019"
            ],
            [
             1,
             "#000020"
            ]
           ]
          },
          "colorscale": {
           "diverging": [
            [
             0,
             "#000021"
            ],
            [
             0.1,
             "#000022"
            ],
            [
             0.2,
             "#000023"
            ],
            [
             0.3,
             "#000024"
            ],
            [
             0.4,
             "#000025"
            ],
            [
             0.5,
             "#000026"
            ],
            [
             0.6,
             "#000027"
            ],
            [
             0.7,
             "#000028"
            ],
            [
             0.8,
             "#000029"
            ],
            [
             0.9,
             "#000030"
            ],
            [
             1,
             "#000031"
            ]
           ],
           "sequential": [
            [
             0,
             "#000011"
            ],
            [
             0.1111111111111111,
             "#000012"
            ],
            [
             0.2222222222222222,
             "#000013"
            ],
            [
             0.3333333333333333,
             "#000014"
            ],
            [
             0.4444444444444444,
             "#000015"
            ],
            [
             0.5555555555555556,
             "#000016"
            ],
            [
             0.6666666666666666,
             "#000017"
            ],
            [
             0.7777777777777778,
             "#000018"
            ],
            [
             0.8888888888888888,
             "#000019"
            ],
            [
             1,
             "#000020"
            ]
           ],
           "sequentialminus": [
            [
             0,
             "#000011"
            ],
            [
             0.1111111111111111,
             "#000012"
            ],
            [
             0.2222222222222222,
             "#000013"
            ],
            [
             0.3333333333333333,
             "#000014"
            ],
            [
             0.4444444444444444,
             "#000015"
            ],
            [
             0.5555555555555556,
             "#000016"
            ],
            [
             0.6666666666666666,
             "#000017"
            ],
            [
             0.7777777777777778,
             "#000018"
            ],
            [
             0.8888888888888888,
             "#000019"
            ],
            [
             1,
             "#000020"
            ]
           ]
          },
          "colorway": [
           "#000001",
           "#000002",
           "#000003",
           "#000004",
           "#000005",
           "#000006",
           "#000007",
           "#000008",
           "#000009",
           "#000010"
          ]
         }
        },
        "xaxis": {
         "showgrid": false,
         "tickfont": {
          "color": "rgb(100,100,100)",
          "family": "Arial, sans-serif",
          "size": 12
         },
         "title": {
          "text": "Date"
         }
        },
        "yaxis": {
         "gridcolor": "rgb(220,220,220)",
         "showgrid": true,
         "tickfont": {
          "color": "rgb(100,100,100)",
          "family": "Arial, sans-serif",
          "size": 12
         },
         "title": {
          "text": "Units"
         }
        }
       }
      }
     },
     "metadata": {},
     "output_type": "display_data"
    },
    {
     "data": {
      "application/vnd.plotly.v1+json": {
       "config": {
        "plotlyServerURL": "https://plot.ly"
       },
       "data": [
        {
         "hovertemplate": "<b>Date</b>: %{x}<br><b>Inventory</b>: %{y} units<extra></extra>",
         "marker": {
          "color": "rgb(252, 186, 3)",
          "line": {
           "width": 0
          }
         },
         "name": "Inventory",
         "opacity": 1,
         "type": "bar",
         "x": [
          "2016-08-01",
          "2016-08-02",
          "2016-08-03",
          "2016-08-04",
          "2016-08-05",
          "2016-08-06",
          "2016-08-07",
          "2016-08-08",
          "2016-08-09",
          "2016-08-10",
          "2016-08-11",
          "2016-08-12",
          "2016-08-13",
          "2016-08-14",
          "2016-08-15"
         ],
         "y": [
          153,
          131,
          113,
          104,
          93,
          116,
          160,
          118,
          103,
          103,
          64,
          96,
          124,
          123,
          96
         ]
        },
        {
         "hovertemplate": "<b>Date</b>: %{x}<br><b>Projected Initial Inv.</b>: %{y} units<extra></extra>",
         "marker": {
          "color": "rgb(252, 186, 3)",
          "line": {
           "width": 0
          }
         },
         "name": "Projected Initial Inventory",
         "opacity": 0.6,
         "type": "bar",
         "x": [
          "2016-08-16",
          "2016-08-17",
          "2016-08-18",
          "2016-08-19",
          "2016-08-20",
          "2016-08-21",
          "2016-08-22"
         ],
         "y": [
          30,
          20,
          20,
          20,
          20,
          20,
          20
         ]
        },
        {
         "hovertemplate": "<b>Date</b>: %{x}<br><b>Projected Deliveries</b>: %{y} units<extra></extra>",
         "marker": {
          "color": "rgb(3, 148, 252)",
          "line": {
           "width": 0
          }
         },
         "name": "Projected Deliveries",
         "opacity": 0.7,
         "type": "bar",
         "x": [
          "2016-08-16",
          "2016-08-17",
          "2016-08-18",
          "2016-08-19",
          "2016-08-20",
          "2016-08-21",
          "2016-08-22"
         ],
         "y": [
          64,
          84,
          64,
          80,
          100,
          100,
          86
         ]
        },
        {
         "customdata": [
          143,
          121,
          103,
          94,
          83,
          106,
          150,
          108,
          93,
          93,
          54,
          86,
          114,
          113,
          86
         ],
         "hovertemplate": "<b>Date</b>: %{x}<br><b>Sales</b>: %{customdata} units<extra></extra>",
         "marker": {
          "color": "rgb(23, 191, 99)",
          "line": {
           "width": 0
          }
         },
         "name": "Sales",
         "opacity": 1,
         "type": "bar",
         "x": [
          "2016-08-01",
          "2016-08-02",
          "2016-08-03",
          "2016-08-04",
          "2016-08-05",
          "2016-08-06",
          "2016-08-07",
          "2016-08-08",
          "2016-08-09",
          "2016-08-10",
          "2016-08-11",
          "2016-08-12",
          "2016-08-13",
          "2016-08-14",
          "2016-08-15"
         ],
         "y": [
          -143,
          -121,
          -103,
          -94,
          -83,
          -106,
          -150,
          -108,
          -93,
          -93,
          -54,
          -86,
          -114,
          -113,
          -86
         ]
        },
        {
         "customdata": [
          74,
          84,
          64,
          80,
          100,
          100,
          86
         ],
         "hovertemplate": "<b>Date</b>: %{x}<br><b>Projected Fulfilled</b>: %{customdata} units<extra></extra>",
         "marker": {
          "color": "rgb(23, 191, 99)",
          "line": {
           "width": 0
          }
         },
         "name": "Projected Fulfilled Sales",
         "opacity": 0.6,
         "type": "bar",
         "x": [
          "2016-08-16",
          "2016-08-17",
          "2016-08-18",
          "2016-08-19",
          "2016-08-20",
          "2016-08-21",
          "2016-08-22"
         ],
         "y": [
          -74,
          -84,
          -64,
          -80,
          -100,
          -100,
          -86
         ]
        },
        {
         "customdata": [
          9,
          4,
          9,
          4,
          5,
          4,
          1
         ],
         "hovertemplate": "<b>Date</b>: %{x}<br><b>Projected Unfulfilled</b>: %{customdata} units<extra></extra>",
         "marker": {
          "color": "rgb(52, 73, 94)",
          "line": {
           "width": 0
          }
         },
         "name": "Projected Unfulfilled Sales",
         "opacity": 0.7,
         "type": "bar",
         "x": [
          "2016-08-16",
          "2016-08-17",
          "2016-08-18",
          "2016-08-19",
          "2016-08-20",
          "2016-08-21",
          "2016-08-22"
         ],
         "y": [
          -9,
          -4,
          -9,
          -4,
          -5,
          -4,
          -1
         ]
        }
       ],
       "layout": {
        "barmode": "relative",
        "font": {
         "color": "rgb(60,60,60)",
         "family": "Arial, sans-serif"
        },
        "legend": {
         "font": {
          "family": "Arial, sans-serif",
          "size": 10
         },
         "orientation": "h",
         "x": 1,
         "xanchor": "right",
         "y": 1.02,
         "yanchor": "bottom"
        },
        "margin": {
         "b": 60,
         "l": 60,
         "r": 30,
         "t": 80
        },
        "paper_bgcolor": "rgb(248, 248, 255)",
        "plot_bgcolor": "rgb(248, 248, 255)",
        "template": {
         "data": {
          "candlestick": [
           {
            "decreasing": {
             "line": {
              "color": "#000033"
             }
            },
            "increasing": {
             "line": {
              "color": "#000032"
             }
            },
            "type": "candlestick"
           }
          ],
          "contour": [
           {
            "colorscale": [
             [
              0,
              "#000011"
             ],
             [
              0.1111111111111111,
              "#000012"
             ],
             [
              0.2222222222222222,
              "#000013"
             ],
             [
              0.3333333333333333,
              "#000014"
             ],
             [
              0.4444444444444444,
              "#000015"
             ],
             [
              0.5555555555555556,
              "#000016"
             ],
             [
              0.6666666666666666,
              "#000017"
             ],
             [
              0.7777777777777778,
              "#000018"
             ],
             [
              0.8888888888888888,
              "#000019"
             ],
             [
              1,
              "#000020"
             ]
            ],
            "type": "contour"
           }
          ],
          "contourcarpet": [
           {
            "colorscale": [
             [
              0,
              "#000011"
             ],
             [
              0.1111111111111111,
              "#000012"
             ],
             [
              0.2222222222222222,
              "#000013"
             ],
             [
              0.3333333333333333,
              "#000014"
             ],
             [
              0.4444444444444444,
              "#000015"
             ],
             [
              0.5555555555555556,
              "#000016"
             ],
             [
              0.6666666666666666,
              "#000017"
             ],
             [
              0.7777777777777778,
              "#000018"
             ],
             [
              0.8888888888888888,
              "#000019"
             ],
             [
              1,
              "#000020"
             ]
            ],
            "type": "contourcarpet"
           }
          ],
          "heatmap": [
           {
            "colorscale": [
             [
              0,
              "#000011"
             ],
             [
              0.1111111111111111,
              "#000012"
             ],
             [
              0.2222222222222222,
              "#000013"
             ],
             [
              0.3333333333333333,
              "#000014"
             ],
             [
              0.4444444444444444,
              "#000015"
             ],
             [
              0.5555555555555556,
              "#000016"
             ],
             [
              0.6666666666666666,
              "#000017"
             ],
             [
              0.7777777777777778,
              "#000018"
             ],
             [
              0.8888888888888888,
              "#000019"
             ],
             [
              1,
              "#000020"
             ]
            ],
            "type": "heatmap"
           }
          ],
          "histogram2d": [
           {
            "colorscale": [
             [
              0,
              "#000011"
             ],
             [
              0.1111111111111111,
              "#000012"
             ],
             [
              0.2222222222222222,
              "#000013"
             ],
             [
              0.3333333333333333,
              "#000014"
             ],
             [
              0.4444444444444444,
              "#000015"
             ],
             [
              0.5555555555555556,
              "#000016"
             ],
             [
              0.6666666666666666,
              "#000017"
             ],
             [
              0.7777777777777778,
              "#000018"
             ],
             [
              0.8888888888888888,
              "#000019"
             ],
             [
              1,
              "#000020"
             ]
            ],
            "type": "histogram2d"
           }
          ],
          "icicle": [
           {
            "textfont": {
             "color": "white"
            },
            "type": "icicle"
           }
          ],
          "sankey": [
           {
            "textfont": {
             "color": "#000036"
            },
            "type": "sankey"
           }
          ],
          "scatter": [
           {
            "marker": {
             "line": {
              "width": 0
             }
            },
            "type": "scatter"
           }
          ],
          "table": [
           {
            "cells": {
             "fill": {
              "color": "#000038"
             },
             "font": {
              "color": "#000037"
             },
             "line": {
              "color": "#000039"
             }
            },
            "header": {
             "fill": {
              "color": "#000040"
             },
             "font": {
              "color": "#000036"
             },
             "line": {
              "color": "#000039"
             }
            },
            "type": "table"
           }
          ],
          "waterfall": [
           {
            "connector": {
             "line": {
              "color": "#000036",
              "width": 2
             }
            },
            "decreasing": {
             "marker": {
              "color": "#000033"
             }
            },
            "increasing": {
             "marker": {
              "color": "#000032"
             }
            },
            "totals": {
             "marker": {
              "color": "#000034"
             }
            },
            "type": "waterfall"
           }
          ]
         },
         "layout": {
          "coloraxis": {
           "colorscale": [
            [
             0,
             "#000011"
            ],
            [
             0.1111111111111111,
             "#000012"
            ],
            [
             0.2222222222222222,
             "#000013"
            ],
            [
             0.3333333333333333,
             "#000014"
            ],
            [
             0.4444444444444444,
             "#000015"
            ],
            [
             0.5555555555555556,
             "#000016"
            ],
            [
             0.6666666666666666,
             "#000017"
            ],
            [
             0.7777777777777778,
             "#000018"
            ],
            [
             0.8888888888888888,
             "#000019"
            ],
            [
             1,
             "#000020"
            ]
           ]
          },
          "colorscale": {
           "diverging": [
            [
             0,
             "#000021"
            ],
            [
             0.1,
             "#000022"
            ],
            [
             0.2,
             "#000023"
            ],
            [
             0.3,
             "#000024"
            ],
            [
             0.4,
             "#000025"
            ],
            [
             0.5,
             "#000026"
            ],
            [
             0.6,
             "#000027"
            ],
            [
             0.7,
             "#000028"
            ],
            [
             0.8,
             "#000029"
            ],
            [
             0.9,
             "#000030"
            ],
            [
             1,
             "#000031"
            ]
           ],
           "sequential": [
            [
             0,
             "#000011"
            ],
            [
             0.1111111111111111,
             "#000012"
            ],
            [
             0.2222222222222222,
             "#000013"
            ],
            [
             0.3333333333333333,
             "#000014"
            ],
            [
             0.4444444444444444,
             "#000015"
            ],
            [
             0.5555555555555556,
             "#000016"
            ],
            [
             0.6666666666666666,
             "#000017"
            ],
            [
             0.7777777777777778,
             "#000018"
            ],
            [
             0.8888888888888888,
             "#000019"
            ],
            [
             1,
             "#000020"
            ]
           ],
           "sequentialminus": [
            [
             0,
             "#000011"
            ],
            [
             0.1111111111111111,
             "#000012"
            ],
            [
             0.2222222222222222,
             "#000013"
            ],
            [
             0.3333333333333333,
             "#000014"
            ],
            [
             0.4444444444444444,
             "#000015"
            ],
            [
             0.5555555555555556,
             "#000016"
            ],
            [
             0.6666666666666666,
             "#000017"
            ],
            [
             0.7777777777777778,
             "#000018"
            ],
            [
             0.8888888888888888,
             "#000019"
            ],
            [
             1,
             "#000020"
            ]
           ]
          },
          "colorway": [
           "#000001",
           "#000002",
           "#000003",
           "#000004",
           "#000005",
           "#000006",
           "#000007",
           "#000008",
           "#000009",
           "#000010"
          ]
         }
        },
        "xaxis": {
         "showgrid": false,
         "tickfont": {
          "color": "rgb(100,100,100)",
          "family": "Arial, sans-serif",
          "size": 12
         },
         "title": {
          "text": "Date"
         }
        },
        "yaxis": {
         "gridcolor": "rgb(220,220,220)",
         "showgrid": true,
         "tickfont": {
          "color": "rgb(100,100,100)",
          "family": "Arial, sans-serif",
          "size": 12
         },
         "title": {
          "text": "Units"
         }
        }
       }
      }
     },
     "metadata": {},
     "output_type": "display_data"
    },
    {
     "data": {
      "application/vnd.plotly.v1+json": {
       "config": {
        "plotlyServerURL": "https://plot.ly"
       },
       "data": [
        {
         "hovertemplate": "<b>Date</b>: %{x}<br><b>Inventory</b>: %{y} units<extra></extra>",
         "marker": {
          "color": "rgb(252, 186, 3)",
          "line": {
           "width": 0
          }
         },
         "name": "Inventory",
         "opacity": 1,
         "type": "bar",
         "x": [
          "2016-08-01",
          "2016-08-02",
          "2016-08-03",
          "2016-08-04",
          "2016-08-05",
          "2016-08-06",
          "2016-08-07",
          "2016-08-08",
          "2016-08-09",
          "2016-08-10",
          "2016-08-11",
          "2016-08-12",
          "2016-08-13",
          "2016-08-14",
          "2016-08-15"
         ],
         "y": [
          41,
          24,
          22,
          25,
          24,
          25,
          16,
          22,
          30,
          21,
          27,
          26,
          23,
          26,
          25
         ]
        },
        {
         "hovertemplate": "<b>Date</b>: %{x}<br><b>Projected Initial Inv.</b>: %{y} units<extra></extra>",
         "marker": {
          "color": "rgb(252, 186, 3)",
          "line": {
           "width": 0
          }
         },
         "name": "Projected Initial Inventory",
         "opacity": 0.6,
         "type": "bar",
         "x": [
          "2016-08-16",
          "2016-08-17",
          "2016-08-18",
          "2016-08-19",
          "2016-08-20",
          "2016-08-21",
          "2016-08-22"
         ],
         "y": [
          30,
          61,
          46,
          32,
          56,
          40,
          24
         ]
        },
        {
         "hovertemplate": "<b>Date</b>: %{x}<br><b>Projected Deliveries</b>: %{y} units<extra></extra>",
         "marker": {
          "color": "rgb(3, 148, 252)",
          "line": {
           "width": 0
          }
         },
         "name": "Projected Deliveries",
         "opacity": 0.7,
         "type": "bar",
         "x": [
          "2016-08-16",
          "2016-08-17",
          "2016-08-18",
          "2016-08-19",
          "2016-08-20",
          "2016-08-21",
          "2016-08-22"
         ],
         "y": [
          46,
          0,
          0,
          40,
          0,
          0,
          10
         ]
        },
        {
         "customdata": [
          31,
          14,
          12,
          15,
          14,
          15,
          6,
          12,
          20,
          11,
          17,
          16,
          13,
          16,
          15
         ],
         "hovertemplate": "<b>Date</b>: %{x}<br><b>Sales</b>: %{customdata} units<extra></extra>",
         "marker": {
          "color": "rgb(23, 191, 99)",
          "line": {
           "width": 0
          }
         },
         "name": "Sales",
         "opacity": 1,
         "type": "bar",
         "x": [
          "2016-08-01",
          "2016-08-02",
          "2016-08-03",
          "2016-08-04",
          "2016-08-05",
          "2016-08-06",
          "2016-08-07",
          "2016-08-08",
          "2016-08-09",
          "2016-08-10",
          "2016-08-11",
          "2016-08-12",
          "2016-08-13",
          "2016-08-14",
          "2016-08-15"
         ],
         "y": [
          -31,
          -14,
          -12,
          -15,
          -14,
          -15,
          -6,
          -12,
          -20,
          -11,
          -17,
          -16,
          -13,
          -16,
          -15
         ]
        },
        {
         "customdata": [
          15,
          15,
          14,
          16,
          16,
          16,
          14
         ],
         "hovertemplate": "<b>Date</b>: %{x}<br><b>Projected Fulfilled</b>: %{customdata} units<extra></extra>",
         "marker": {
          "color": "rgb(23, 191, 99)",
          "line": {
           "width": 0
          }
         },
         "name": "Projected Fulfilled Sales",
         "opacity": 0.6,
         "type": "bar",
         "x": [
          "2016-08-16",
          "2016-08-17",
          "2016-08-18",
          "2016-08-19",
          "2016-08-20",
          "2016-08-21",
          "2016-08-22"
         ],
         "y": [
          -15,
          -15,
          -14,
          -16,
          -16,
          -16,
          -14
         ]
        },
        {
         "customdata": [
          0,
          1,
          0,
          0,
          0,
          0,
          0
         ],
         "hovertemplate": "<b>Date</b>: %{x}<br><b>Projected Unfulfilled</b>: %{customdata} units<extra></extra>",
         "marker": {
          "color": "rgb(52, 73, 94)",
          "line": {
           "width": 0
          }
         },
         "name": "Projected Unfulfilled Sales",
         "opacity": 0.7,
         "type": "bar",
         "x": [
          "2016-08-16",
          "2016-08-17",
          "2016-08-18",
          "2016-08-19",
          "2016-08-20",
          "2016-08-21",
          "2016-08-22"
         ],
         "y": [
          0,
          -1,
          0,
          0,
          0,
          0,
          0
         ]
        }
       ],
       "layout": {
        "barmode": "relative",
        "font": {
         "color": "rgb(60,60,60)",
         "family": "Arial, sans-serif"
        },
        "legend": {
         "font": {
          "family": "Arial, sans-serif",
          "size": 10
         },
         "orientation": "h",
         "x": 1,
         "xanchor": "right",
         "y": 1.02,
         "yanchor": "bottom"
        },
        "margin": {
         "b": 60,
         "l": 60,
         "r": 30,
         "t": 80
        },
        "paper_bgcolor": "rgb(248, 248, 255)",
        "plot_bgcolor": "rgb(248, 248, 255)",
        "template": {
         "data": {
          "candlestick": [
           {
            "decreasing": {
             "line": {
              "color": "#000033"
             }
            },
            "increasing": {
             "line": {
              "color": "#000032"
             }
            },
            "type": "candlestick"
           }
          ],
          "contour": [
           {
            "colorscale": [
             [
              0,
              "#000011"
             ],
             [
              0.1111111111111111,
              "#000012"
             ],
             [
              0.2222222222222222,
              "#000013"
             ],
             [
              0.3333333333333333,
              "#000014"
             ],
             [
              0.4444444444444444,
              "#000015"
             ],
             [
              0.5555555555555556,
              "#000016"
             ],
             [
              0.6666666666666666,
              "#000017"
             ],
             [
              0.7777777777777778,
              "#000018"
             ],
             [
              0.8888888888888888,
              "#000019"
             ],
             [
              1,
              "#000020"
             ]
            ],
            "type": "contour"
           }
          ],
          "contourcarpet": [
           {
            "colorscale": [
             [
              0,
              "#000011"
             ],
             [
              0.1111111111111111,
              "#000012"
             ],
             [
              0.2222222222222222,
              "#000013"
             ],
             [
              0.3333333333333333,
              "#000014"
             ],
             [
              0.4444444444444444,
              "#000015"
             ],
             [
              0.5555555555555556,
              "#000016"
             ],
             [
              0.6666666666666666,
              "#000017"
             ],
             [
              0.7777777777777778,
              "#000018"
             ],
             [
              0.8888888888888888,
              "#000019"
             ],
             [
              1,
              "#000020"
             ]
            ],
            "type": "contourcarpet"
           }
          ],
          "heatmap": [
           {
            "colorscale": [
             [
              0,
              "#000011"
             ],
             [
              0.1111111111111111,
              "#000012"
             ],
             [
              0.2222222222222222,
              "#000013"
             ],
             [
              0.3333333333333333,
              "#000014"
             ],
             [
              0.4444444444444444,
              "#000015"
             ],
             [
              0.5555555555555556,
              "#000016"
             ],
             [
              0.6666666666666666,
              "#000017"
             ],
             [
              0.7777777777777778,
              "#000018"
             ],
             [
              0.8888888888888888,
              "#000019"
             ],
             [
              1,
              "#000020"
             ]
            ],
            "type": "heatmap"
           }
          ],
          "histogram2d": [
           {
            "colorscale": [
             [
              0,
              "#000011"
             ],
             [
              0.1111111111111111,
              "#000012"
             ],
             [
              0.2222222222222222,
              "#000013"
             ],
             [
              0.3333333333333333,
              "#000014"
             ],
             [
              0.4444444444444444,
              "#000015"
             ],
             [
              0.5555555555555556,
              "#000016"
             ],
             [
              0.6666666666666666,
              "#000017"
             ],
             [
              0.7777777777777778,
              "#000018"
             ],
             [
              0.8888888888888888,
              "#000019"
             ],
             [
              1,
              "#000020"
             ]
            ],
            "type": "histogram2d"
           }
          ],
          "icicle": [
           {
            "textfont": {
             "color": "white"
            },
            "type": "icicle"
           }
          ],
          "sankey": [
           {
            "textfont": {
             "color": "#000036"
            },
            "type": "sankey"
           }
          ],
          "scatter": [
           {
            "marker": {
             "line": {
              "width": 0
             }
            },
            "type": "scatter"
           }
          ],
          "table": [
           {
            "cells": {
             "fill": {
              "color": "#000038"
             },
             "font": {
              "color": "#000037"
             },
             "line": {
              "color": "#000039"
             }
            },
            "header": {
             "fill": {
              "color": "#000040"
             },
             "font": {
              "color": "#000036"
             },
             "line": {
              "color": "#000039"
             }
            },
            "type": "table"
           }
          ],
          "waterfall": [
           {
            "connector": {
             "line": {
              "color": "#000036",
              "width": 2
             }
            },
            "decreasing": {
             "marker": {
              "color": "#000033"
             }
            },
            "increasing": {
             "marker": {
              "color": "#000032"
             }
            },
            "totals": {
             "marker": {
              "color": "#000034"
             }
            },
            "type": "waterfall"
           }
          ]
         },
         "layout": {
          "coloraxis": {
           "colorscale": [
            [
             0,
             "#000011"
            ],
            [
             0.1111111111111111,
             "#000012"
            ],
            [
             0.2222222222222222,
             "#000013"
            ],
            [
             0.3333333333333333,
             "#000014"
            ],
            [
             0.4444444444444444,
             "#000015"
            ],
            [
             0.5555555555555556,
             "#000016"
            ],
            [
             0.6666666666666666,
             "#000017"
            ],
            [
             0.7777777777777778,
             "#000018"
            ],
            [
             0.8888888888888888,
             "#000019"
            ],
            [
             1,
             "#000020"
            ]
           ]
          },
          "colorscale": {
           "diverging": [
            [
             0,
             "#000021"
            ],
            [
             0.1,
             "#000022"
            ],
            [
             0.2,
             "#000023"
            ],
            [
             0.3,
             "#000024"
            ],
            [
             0.4,
             "#000025"
            ],
            [
             0.5,
             "#000026"
            ],
            [
             0.6,
             "#000027"
            ],
            [
             0.7,
             "#000028"
            ],
            [
             0.8,
             "#000029"
            ],
            [
             0.9,
             "#000030"
            ],
            [
             1,
             "#000031"
            ]
           ],
           "sequential": [
            [
             0,
             "#000011"
            ],
            [
             0.1111111111111111,
             "#000012"
            ],
            [
             0.2222222222222222,
             "#000013"
            ],
            [
             0.3333333333333333,
             "#000014"
            ],
            [
             0.4444444444444444,
             "#000015"
            ],
            [
             0.5555555555555556,
             "#000016"
            ],
            [
             0.6666666666666666,
             "#000017"
            ],
            [
             0.7777777777777778,
             "#000018"
            ],
            [
             0.8888888888888888,
             "#000019"
            ],
            [
             1,
             "#000020"
            ]
           ],
           "sequentialminus": [
            [
             0,
             "#000011"
            ],
            [
             0.1111111111111111,
             "#000012"
            ],
            [
             0.2222222222222222,
             "#000013"
            ],
            [
             0.3333333333333333,
             "#000014"
            ],
            [
             0.4444444444444444,
             "#000015"
            ],
            [
             0.5555555555555556,
             "#000016"
            ],
            [
             0.6666666666666666,
             "#000017"
            ],
            [
             0.7777777777777778,
             "#000018"
            ],
            [
             0.8888888888888888,
             "#000019"
            ],
            [
             1,
             "#000020"
            ]
           ]
          },
          "colorway": [
           "#000001",
           "#000002",
           "#000003",
           "#000004",
           "#000005",
           "#000006",
           "#000007",
           "#000008",
           "#000009",
           "#000010"
          ]
         }
        },
        "xaxis": {
         "showgrid": false,
         "tickfont": {
          "color": "rgb(100,100,100)",
          "family": "Arial, sans-serif",
          "size": 12
         },
         "title": {
          "text": "Date"
         }
        },
        "yaxis": {
         "gridcolor": "rgb(220,220,220)",
         "showgrid": true,
         "tickfont": {
          "color": "rgb(100,100,100)",
          "family": "Arial, sans-serif",
          "size": 12
         },
         "title": {
          "text": "Units"
         }
        }
       }
      }
     },
     "metadata": {},
     "output_type": "display_data"
    },
    {
     "data": {
      "application/vnd.plotly.v1+json": {
       "config": {
        "plotlyServerURL": "https://plot.ly"
       },
       "data": [
        {
         "hovertemplate": "<b>Date</b>: %{x}<br><b>Inventory</b>: %{y} units<extra></extra>",
         "marker": {
          "color": "rgb(252, 186, 3)",
          "line": {
           "width": 0
          }
         },
         "name": "Inventory",
         "opacity": 1,
         "type": "bar",
         "x": [
          "2016-08-01",
          "2016-08-02",
          "2016-08-03",
          "2016-08-04",
          "2016-08-05",
          "2016-08-06",
          "2016-08-07",
          "2016-08-08",
          "2016-08-09",
          "2016-08-10",
          "2016-08-11",
          "2016-08-12",
          "2016-08-13",
          "2016-08-14",
          "2016-08-15"
         ],
         "y": [
          46,
          41,
          50,
          45,
          67,
          86,
          71,
          45,
          32,
          48,
          44,
          104,
          84,
          67,
          45
         ]
        },
        {
         "hovertemplate": "<b>Date</b>: %{x}<br><b>Projected Initial Inv.</b>: %{y} units<extra></extra>",
         "marker": {
          "color": "rgb(252, 186, 3)",
          "line": {
           "width": 0
          }
         },
         "name": "Projected Initial Inventory",
         "opacity": 0.6,
         "type": "bar",
         "x": [
          "2016-08-16",
          "2016-08-17",
          "2016-08-18",
          "2016-08-19",
          "2016-08-20",
          "2016-08-21",
          "2016-08-22"
         ],
         "y": [
          30,
          43,
          20,
          30,
          26,
          21,
          20
         ]
        },
        {
         "hovertemplate": "<b>Date</b>: %{x}<br><b>Projected Deliveries</b>: %{y} units<extra></extra>",
         "marker": {
          "color": "rgb(3, 148, 252)",
          "line": {
           "width": 0
          }
         },
         "name": "Projected Deliveries",
         "opacity": 0.7,
         "type": "bar",
         "x": [
          "2016-08-16",
          "2016-08-17",
          "2016-08-18",
          "2016-08-19",
          "2016-08-20",
          "2016-08-21",
          "2016-08-22"
         ],
         "y": [
          48,
          16,
          48,
          50,
          52,
          52,
          40
         ]
        },
        {
         "customdata": [
          36,
          31,
          40,
          35,
          57,
          76,
          61,
          35,
          22,
          38,
          34,
          94,
          74,
          57,
          35
         ],
         "hovertemplate": "<b>Date</b>: %{x}<br><b>Sales</b>: %{customdata} units<extra></extra>",
         "marker": {
          "color": "rgb(23, 191, 99)",
          "line": {
           "width": 0
          }
         },
         "name": "Sales",
         "opacity": 1,
         "type": "bar",
         "x": [
          "2016-08-01",
          "2016-08-02",
          "2016-08-03",
          "2016-08-04",
          "2016-08-05",
          "2016-08-06",
          "2016-08-07",
          "2016-08-08",
          "2016-08-09",
          "2016-08-10",
          "2016-08-11",
          "2016-08-12",
          "2016-08-13",
          "2016-08-14",
          "2016-08-15"
         ],
         "y": [
          -36,
          -31,
          -40,
          -35,
          -57,
          -76,
          -61,
          -35,
          -22,
          -38,
          -34,
          -94,
          -74,
          -57,
          -35
         ]
        },
        {
         "customdata": [
          35,
          39,
          38,
          54,
          57,
          53,
          39
         ],
         "hovertemplate": "<b>Date</b>: %{x}<br><b>Projected Fulfilled</b>: %{customdata} units<extra></extra>",
         "marker": {
          "color": "rgb(23, 191, 99)",
          "line": {
           "width": 0
          }
         },
         "name": "Projected Fulfilled Sales",
         "opacity": 0.6,
         "type": "bar",
         "x": [
          "2016-08-16",
          "2016-08-17",
          "2016-08-18",
          "2016-08-19",
          "2016-08-20",
          "2016-08-21",
          "2016-08-22"
         ],
         "y": [
          -35,
          -39,
          -38,
          -54,
          -57,
          -53,
          -39
         ]
        },
        {
         "customdata": [
          0,
          0,
          0,
          0,
          0,
          0,
          0
         ],
         "hovertemplate": "<b>Date</b>: %{x}<br><b>Projected Unfulfilled</b>: %{customdata} units<extra></extra>",
         "marker": {
          "color": "rgb(52, 73, 94)",
          "line": {
           "width": 0
          }
         },
         "name": "Projected Unfulfilled Sales",
         "opacity": 0.7,
         "type": "bar",
         "x": [
          "2016-08-16",
          "2016-08-17",
          "2016-08-18",
          "2016-08-19",
          "2016-08-20",
          "2016-08-21",
          "2016-08-22"
         ],
         "y": [
          0,
          0,
          0,
          0,
          0,
          0,
          0
         ]
        }
       ],
       "layout": {
        "barmode": "relative",
        "font": {
         "color": "rgb(60,60,60)",
         "family": "Arial, sans-serif"
        },
        "legend": {
         "font": {
          "family": "Arial, sans-serif",
          "size": 10
         },
         "orientation": "h",
         "x": 1,
         "xanchor": "right",
         "y": 1.02,
         "yanchor": "bottom"
        },
        "margin": {
         "b": 60,
         "l": 60,
         "r": 30,
         "t": 80
        },
        "paper_bgcolor": "rgb(248, 248, 255)",
        "plot_bgcolor": "rgb(248, 248, 255)",
        "template": {
         "data": {
          "candlestick": [
           {
            "decreasing": {
             "line": {
              "color": "#000033"
             }
            },
            "increasing": {
             "line": {
              "color": "#000032"
             }
            },
            "type": "candlestick"
           }
          ],
          "contour": [
           {
            "colorscale": [
             [
              0,
              "#000011"
             ],
             [
              0.1111111111111111,
              "#000012"
             ],
             [
              0.2222222222222222,
              "#000013"
             ],
             [
              0.3333333333333333,
              "#000014"
             ],
             [
              0.4444444444444444,
              "#000015"
             ],
             [
              0.5555555555555556,
              "#000016"
             ],
             [
              0.6666666666666666,
              "#000017"
             ],
             [
              0.7777777777777778,
              "#000018"
             ],
             [
              0.8888888888888888,
              "#000019"
             ],
             [
              1,
              "#000020"
             ]
            ],
            "type": "contour"
           }
          ],
          "contourcarpet": [
           {
            "colorscale": [
             [
              0,
              "#000011"
             ],
             [
              0.1111111111111111,
              "#000012"
             ],
             [
              0.2222222222222222,
              "#000013"
             ],
             [
              0.3333333333333333,
              "#000014"
             ],
             [
              0.4444444444444444,
              "#000015"
             ],
             [
              0.5555555555555556,
              "#000016"
             ],
             [
              0.6666666666666666,
              "#000017"
             ],
             [
              0.7777777777777778,
              "#000018"
             ],
             [
              0.8888888888888888,
              "#000019"
             ],
             [
              1,
              "#000020"
             ]
            ],
            "type": "contourcarpet"
           }
          ],
          "heatmap": [
           {
            "colorscale": [
             [
              0,
              "#000011"
             ],
             [
              0.1111111111111111,
              "#000012"
             ],
             [
              0.2222222222222222,
              "#000013"
             ],
             [
              0.3333333333333333,
              "#000014"
             ],
             [
              0.4444444444444444,
              "#000015"
             ],
             [
              0.5555555555555556,
              "#000016"
             ],
             [
              0.6666666666666666,
              "#000017"
             ],
             [
              0.7777777777777778,
              "#000018"
             ],
             [
              0.8888888888888888,
              "#000019"
             ],
             [
              1,
              "#000020"
             ]
            ],
            "type": "heatmap"
           }
          ],
          "histogram2d": [
           {
            "colorscale": [
             [
              0,
              "#000011"
             ],
             [
              0.1111111111111111,
              "#000012"
             ],
             [
              0.2222222222222222,
              "#000013"
             ],
             [
              0.3333333333333333,
              "#000014"
             ],
             [
              0.4444444444444444,
              "#000015"
             ],
             [
              0.5555555555555556,
              "#000016"
             ],
             [
              0.6666666666666666,
              "#000017"
             ],
             [
              0.7777777777777778,
              "#000018"
             ],
             [
              0.8888888888888888,
              "#000019"
             ],
             [
              1,
              "#000020"
             ]
            ],
            "type": "histogram2d"
           }
          ],
          "icicle": [
           {
            "textfont": {
             "color": "white"
            },
            "type": "icicle"
           }
          ],
          "sankey": [
           {
            "textfont": {
             "color": "#000036"
            },
            "type": "sankey"
           }
          ],
          "scatter": [
           {
            "marker": {
             "line": {
              "width": 0
             }
            },
            "type": "scatter"
           }
          ],
          "table": [
           {
            "cells": {
             "fill": {
              "color": "#000038"
             },
             "font": {
              "color": "#000037"
             },
             "line": {
              "color": "#000039"
             }
            },
            "header": {
             "fill": {
              "color": "#000040"
             },
             "font": {
              "color": "#000036"
             },
             "line": {
              "color": "#000039"
             }
            },
            "type": "table"
           }
          ],
          "waterfall": [
           {
            "connector": {
             "line": {
              "color": "#000036",
              "width": 2
             }
            },
            "decreasing": {
             "marker": {
              "color": "#000033"
             }
            },
            "increasing": {
             "marker": {
              "color": "#000032"
             }
            },
            "totals": {
             "marker": {
              "color": "#000034"
             }
            },
            "type": "waterfall"
           }
          ]
         },
         "layout": {
          "coloraxis": {
           "colorscale": [
            [
             0,
             "#000011"
            ],
            [
             0.1111111111111111,
             "#000012"
            ],
            [
             0.2222222222222222,
             "#000013"
            ],
            [
             0.3333333333333333,
             "#000014"
            ],
            [
             0.4444444444444444,
             "#000015"
            ],
            [
             0.5555555555555556,
             "#000016"
            ],
            [
             0.6666666666666666,
             "#000017"
            ],
            [
             0.7777777777777778,
             "#000018"
            ],
            [
             0.8888888888888888,
             "#000019"
            ],
            [
             1,
             "#000020"
            ]
           ]
          },
          "colorscale": {
           "diverging": [
            [
             0,
             "#000021"
            ],
            [
             0.1,
             "#000022"
            ],
            [
             0.2,
             "#000023"
            ],
            [
             0.3,
             "#000024"
            ],
            [
             0.4,
             "#000025"
            ],
            [
             0.5,
             "#000026"
            ],
            [
             0.6,
             "#000027"
            ],
            [
             0.7,
             "#000028"
            ],
            [
             0.8,
             "#000029"
            ],
            [
             0.9,
             "#000030"
            ],
            [
             1,
             "#000031"
            ]
           ],
           "sequential": [
            [
             0,
             "#000011"
            ],
            [
             0.1111111111111111,
             "#000012"
            ],
            [
             0.2222222222222222,
             "#000013"
            ],
            [
             0.3333333333333333,
             "#000014"
            ],
            [
             0.4444444444444444,
             "#000015"
            ],
            [
             0.5555555555555556,
             "#000016"
            ],
            [
             0.6666666666666666,
             "#000017"
            ],
            [
             0.7777777777777778,
             "#000018"
            ],
            [
             0.8888888888888888,
             "#000019"
            ],
            [
             1,
             "#000020"
            ]
           ],
           "sequentialminus": [
            [
             0,
             "#000011"
            ],
            [
             0.1111111111111111,
             "#000012"
            ],
            [
             0.2222222222222222,
             "#000013"
            ],
            [
             0.3333333333333333,
             "#000014"
            ],
            [
             0.4444444444444444,
             "#000015"
            ],
            [
             0.5555555555555556,
             "#000016"
            ],
            [
             0.6666666666666666,
             "#000017"
            ],
            [
             0.7777777777777778,
             "#000018"
            ],
            [
             0.8888888888888888,
             "#000019"
            ],
            [
             1,
             "#000020"
            ]
           ]
          },
          "colorway": [
           "#000001",
           "#000002",
           "#000003",
           "#000004",
           "#000005",
           "#000006",
           "#000007",
           "#000008",
           "#000009",
           "#000010"
          ]
         }
        },
        "xaxis": {
         "showgrid": false,
         "tickfont": {
          "color": "rgb(100,100,100)",
          "family": "Arial, sans-serif",
          "size": 12
         },
         "title": {
          "text": "Date"
         }
        },
        "yaxis": {
         "gridcolor": "rgb(220,220,220)",
         "showgrid": true,
         "tickfont": {
          "color": "rgb(100,100,100)",
          "family": "Arial, sans-serif",
          "size": 12
         },
         "title": {
          "text": "Units"
         }
        }
       }
      }
     },
     "metadata": {},
     "output_type": "display_data"
    },
    {
     "data": {
      "application/vnd.plotly.v1+json": {
       "config": {
        "plotlyServerURL": "https://plot.ly"
       },
       "data": [
        {
         "hovertemplate": "<b>Date</b>: %{x}<br><b>Inventory</b>: %{y} units<extra></extra>",
         "marker": {
          "color": "rgb(252, 186, 3)",
          "line": {
           "width": 0
          }
         },
         "name": "Inventory",
         "opacity": 1,
         "type": "bar",
         "x": [
          "2016-08-01",
          "2016-08-02",
          "2016-08-03",
          "2016-08-04",
          "2016-08-05",
          "2016-08-06",
          "2016-08-07",
          "2016-08-08",
          "2016-08-09",
          "2016-08-10",
          "2016-08-11",
          "2016-08-12",
          "2016-08-13",
          "2016-08-14",
          "2016-08-15"
         ],
         "y": [
          79,
          56,
          77,
          52,
          66,
          79,
          77,
          90,
          44,
          83,
          71,
          89,
          58,
          60,
          75
         ]
        },
        {
         "hovertemplate": "<b>Date</b>: %{x}<br><b>Projected Initial Inv.</b>: %{y} units<extra></extra>",
         "marker": {
          "color": "rgb(252, 186, 3)",
          "line": {
           "width": 0
          }
         },
         "name": "Projected Initial Inventory",
         "opacity": 0.6,
         "type": "bar",
         "x": [
          "2016-08-16",
          "2016-08-17",
          "2016-08-18",
          "2016-08-19",
          "2016-08-20",
          "2016-08-21",
          "2016-08-22"
         ],
         "y": [
          30,
          20,
          20,
          23,
          21,
          21,
          20
         ]
        },
        {
         "hovertemplate": "<b>Date</b>: %{x}<br><b>Projected Deliveries</b>: %{y} units<extra></extra>",
         "marker": {
          "color": "rgb(3, 148, 252)",
          "line": {
           "width": 0
          }
         },
         "name": "Projected Deliveries",
         "opacity": 0.7,
         "type": "bar",
         "x": [
          "2016-08-16",
          "2016-08-17",
          "2016-08-18",
          "2016-08-19",
          "2016-08-20",
          "2016-08-21",
          "2016-08-22"
         ],
         "y": [
          48,
          60,
          60,
          56,
          56,
          52,
          60
         ]
        },
        {
         "customdata": [
          69,
          46,
          67,
          42,
          56,
          69,
          67,
          80,
          34,
          73,
          61,
          79,
          48,
          50,
          65
         ],
         "hovertemplate": "<b>Date</b>: %{x}<br><b>Sales</b>: %{customdata} units<extra></extra>",
         "marker": {
          "color": "rgb(23, 191, 99)",
          "line": {
           "width": 0
          }
         },
         "name": "Sales",
         "opacity": 1,
         "type": "bar",
         "x": [
          "2016-08-01",
          "2016-08-02",
          "2016-08-03",
          "2016-08-04",
          "2016-08-05",
          "2016-08-06",
          "2016-08-07",
          "2016-08-08",
          "2016-08-09",
          "2016-08-10",
          "2016-08-11",
          "2016-08-12",
          "2016-08-13",
          "2016-08-14",
          "2016-08-15"
         ],
         "y": [
          -69,
          -46,
          -67,
          -42,
          -56,
          -69,
          -67,
          -80,
          -34,
          -73,
          -61,
          -79,
          -48,
          -50,
          -65
         ]
        },
        {
         "customdata": [
          58,
          60,
          57,
          58,
          56,
          53,
          59
         ],
         "hovertemplate": "<b>Date</b>: %{x}<br><b>Projected Fulfilled</b>: %{customdata} units<extra></extra>",
         "marker": {
          "color": "rgb(23, 191, 99)",
          "line": {
           "width": 0
          }
         },
         "name": "Projected Fulfilled Sales",
         "opacity": 0.6,
         "type": "bar",
         "x": [
          "2016-08-16",
          "2016-08-17",
          "2016-08-18",
          "2016-08-19",
          "2016-08-20",
          "2016-08-21",
          "2016-08-22"
         ],
         "y": [
          -58,
          -60,
          -57,
          -58,
          -56,
          -53,
          -59
         ]
        },
        {
         "customdata": [
          0,
          0,
          0,
          0,
          0,
          0,
          0
         ],
         "hovertemplate": "<b>Date</b>: %{x}<br><b>Projected Unfulfilled</b>: %{customdata} units<extra></extra>",
         "marker": {
          "color": "rgb(52, 73, 94)",
          "line": {
           "width": 0
          }
         },
         "name": "Projected Unfulfilled Sales",
         "opacity": 0.7,
         "type": "bar",
         "x": [
          "2016-08-16",
          "2016-08-17",
          "2016-08-18",
          "2016-08-19",
          "2016-08-20",
          "2016-08-21",
          "2016-08-22"
         ],
         "y": [
          0,
          0,
          0,
          0,
          0,
          0,
          0
         ]
        }
       ],
       "layout": {
        "barmode": "relative",
        "font": {
         "color": "rgb(60,60,60)",
         "family": "Arial, sans-serif"
        },
        "legend": {
         "font": {
          "family": "Arial, sans-serif",
          "size": 10
         },
         "orientation": "h",
         "x": 1,
         "xanchor": "right",
         "y": 1.02,
         "yanchor": "bottom"
        },
        "margin": {
         "b": 60,
         "l": 60,
         "r": 30,
         "t": 80
        },
        "paper_bgcolor": "rgb(248, 248, 255)",
        "plot_bgcolor": "rgb(248, 248, 255)",
        "template": {
         "data": {
          "candlestick": [
           {
            "decreasing": {
             "line": {
              "color": "#000033"
             }
            },
            "increasing": {
             "line": {
              "color": "#000032"
             }
            },
            "type": "candlestick"
           }
          ],
          "contour": [
           {
            "colorscale": [
             [
              0,
              "#000011"
             ],
             [
              0.1111111111111111,
              "#000012"
             ],
             [
              0.2222222222222222,
              "#000013"
             ],
             [
              0.3333333333333333,
              "#000014"
             ],
             [
              0.4444444444444444,
              "#000015"
             ],
             [
              0.5555555555555556,
              "#000016"
             ],
             [
              0.6666666666666666,
              "#000017"
             ],
             [
              0.7777777777777778,
              "#000018"
             ],
             [
              0.8888888888888888,
              "#000019"
             ],
             [
              1,
              "#000020"
             ]
            ],
            "type": "contour"
           }
          ],
          "contourcarpet": [
           {
            "colorscale": [
             [
              0,
              "#000011"
             ],
             [
              0.1111111111111111,
              "#000012"
             ],
             [
              0.2222222222222222,
              "#000013"
             ],
             [
              0.3333333333333333,
              "#000014"
             ],
             [
              0.4444444444444444,
              "#000015"
             ],
             [
              0.5555555555555556,
              "#000016"
             ],
             [
              0.6666666666666666,
              "#000017"
             ],
             [
              0.7777777777777778,
              "#000018"
             ],
             [
              0.8888888888888888,
              "#000019"
             ],
             [
              1,
              "#000020"
             ]
            ],
            "type": "contourcarpet"
           }
          ],
          "heatmap": [
           {
            "colorscale": [
             [
              0,
              "#000011"
             ],
             [
              0.1111111111111111,
              "#000012"
             ],
             [
              0.2222222222222222,
              "#000013"
             ],
             [
              0.3333333333333333,
              "#000014"
             ],
             [
              0.4444444444444444,
              "#000015"
             ],
             [
              0.5555555555555556,
              "#000016"
             ],
             [
              0.6666666666666666,
              "#000017"
             ],
             [
              0.7777777777777778,
              "#000018"
             ],
             [
              0.8888888888888888,
              "#000019"
             ],
             [
              1,
              "#000020"
             ]
            ],
            "type": "heatmap"
           }
          ],
          "histogram2d": [
           {
            "colorscale": [
             [
              0,
              "#000011"
             ],
             [
              0.1111111111111111,
              "#000012"
             ],
             [
              0.2222222222222222,
              "#000013"
             ],
             [
              0.3333333333333333,
              "#000014"
             ],
             [
              0.4444444444444444,
              "#000015"
             ],
             [
              0.5555555555555556,
              "#000016"
             ],
             [
              0.6666666666666666,
              "#000017"
             ],
             [
              0.7777777777777778,
              "#000018"
             ],
             [
              0.8888888888888888,
              "#000019"
             ],
             [
              1,
              "#000020"
             ]
            ],
            "type": "histogram2d"
           }
          ],
          "icicle": [
           {
            "textfont": {
             "color": "white"
            },
            "type": "icicle"
           }
          ],
          "sankey": [
           {
            "textfont": {
             "color": "#000036"
            },
            "type": "sankey"
           }
          ],
          "scatter": [
           {
            "marker": {
             "line": {
              "width": 0
             }
            },
            "type": "scatter"
           }
          ],
          "table": [
           {
            "cells": {
             "fill": {
              "color": "#000038"
             },
             "font": {
              "color": "#000037"
             },
             "line": {
              "color": "#000039"
             }
            },
            "header": {
             "fill": {
              "color": "#000040"
             },
             "font": {
              "color": "#000036"
             },
             "line": {
              "color": "#000039"
             }
            },
            "type": "table"
           }
          ],
          "waterfall": [
           {
            "connector": {
             "line": {
              "color": "#000036",
              "width": 2
             }
            },
            "decreasing": {
             "marker": {
              "color": "#000033"
             }
            },
            "increasing": {
             "marker": {
              "color": "#000032"
             }
            },
            "totals": {
             "marker": {
              "color": "#000034"
             }
            },
            "type": "waterfall"
           }
          ]
         },
         "layout": {
          "coloraxis": {
           "colorscale": [
            [
             0,
             "#000011"
            ],
            [
             0.1111111111111111,
             "#000012"
            ],
            [
             0.2222222222222222,
             "#000013"
            ],
            [
             0.3333333333333333,
             "#000014"
            ],
            [
             0.4444444444444444,
             "#000015"
            ],
            [
             0.5555555555555556,
             "#000016"
            ],
            [
             0.6666666666666666,
             "#000017"
            ],
            [
             0.7777777777777778,
             "#000018"
            ],
            [
             0.8888888888888888,
             "#000019"
            ],
            [
             1,
             "#000020"
            ]
           ]
          },
          "colorscale": {
           "diverging": [
            [
             0,
             "#000021"
            ],
            [
             0.1,
             "#000022"
            ],
            [
             0.2,
             "#000023"
            ],
            [
             0.3,
             "#000024"
            ],
            [
             0.4,
             "#000025"
            ],
            [
             0.5,
             "#000026"
            ],
            [
             0.6,
             "#000027"
            ],
            [
             0.7,
             "#000028"
            ],
            [
             0.8,
             "#000029"
            ],
            [
             0.9,
             "#000030"
            ],
            [
             1,
             "#000031"
            ]
           ],
           "sequential": [
            [
             0,
             "#000011"
            ],
            [
             0.1111111111111111,
             "#000012"
            ],
            [
             0.2222222222222222,
             "#000013"
            ],
            [
             0.3333333333333333,
             "#000014"
            ],
            [
             0.4444444444444444,
             "#000015"
            ],
            [
             0.5555555555555556,
             "#000016"
            ],
            [
             0.6666666666666666,
             "#000017"
            ],
            [
             0.7777777777777778,
             "#000018"
            ],
            [
             0.8888888888888888,
             "#000019"
            ],
            [
             1,
             "#000020"
            ]
           ],
           "sequentialminus": [
            [
             0,
             "#000011"
            ],
            [
             0.1111111111111111,
             "#000012"
            ],
            [
             0.2222222222222222,
             "#000013"
            ],
            [
             0.3333333333333333,
             "#000014"
            ],
            [
             0.4444444444444444,
             "#000015"
            ],
            [
             0.5555555555555556,
             "#000016"
            ],
            [
             0.6666666666666666,
             "#000017"
            ],
            [
             0.7777777777777778,
             "#000018"
            ],
            [
             0.8888888888888888,
             "#000019"
            ],
            [
             1,
             "#000020"
            ]
           ]
          },
          "colorway": [
           "#000001",
           "#000002",
           "#000003",
           "#000004",
           "#000005",
           "#000006",
           "#000007",
           "#000008",
           "#000009",
           "#000010"
          ]
         }
        },
        "xaxis": {
         "showgrid": false,
         "tickfont": {
          "color": "rgb(100,100,100)",
          "family": "Arial, sans-serif",
          "size": 12
         },
         "title": {
          "text": "Date"
         }
        },
        "yaxis": {
         "gridcolor": "rgb(220,220,220)",
         "showgrid": true,
         "tickfont": {
          "color": "rgb(100,100,100)",
          "family": "Arial, sans-serif",
          "size": 12
         },
         "title": {
          "text": "Units"
         }
        }
       }
      }
     },
     "metadata": {},
     "output_type": "display_data"
    },
    {
     "data": {
      "application/vnd.plotly.v1+json": {
       "config": {
        "plotlyServerURL": "https://plot.ly"
       },
       "data": [
        {
         "hovertemplate": "<b>Date</b>: %{x}<br><b>Inventory</b>: %{y} units<extra></extra>",
         "marker": {
          "color": "rgb(252, 186, 3)",
          "line": {
           "width": 0
          }
         },
         "name": "Inventory",
         "opacity": 1,
         "type": "bar",
         "x": [
          "2016-08-01",
          "2016-08-02",
          "2016-08-03",
          "2016-08-04",
          "2016-08-05",
          "2016-08-06",
          "2016-08-07",
          "2016-08-08",
          "2016-08-09",
          "2016-08-10",
          "2016-08-11",
          "2016-08-12",
          "2016-08-13",
          "2016-08-14",
          "2016-08-15"
         ],
         "y": [
          36,
          36,
          31,
          26,
          32,
          38,
          34,
          36,
          28,
          30,
          24,
          33,
          26,
          32,
          30
         ]
        },
        {
         "hovertemplate": "<b>Date</b>: %{x}<br><b>Projected Initial Inv.</b>: %{y} units<extra></extra>",
         "marker": {
          "color": "rgb(252, 186, 3)",
          "line": {
           "width": 0
          }
         },
         "name": "Projected Initial Inventory",
         "opacity": 0.6,
         "type": "bar",
         "x": [
          "2016-08-16",
          "2016-08-17",
          "2016-08-18",
          "2016-08-19",
          "2016-08-20",
          "2016-08-21",
          "2016-08-22"
         ],
         "y": [
          30,
          25,
          33,
          29,
          23,
          30,
          24
         ]
        },
        {
         "hovertemplate": "<b>Date</b>: %{x}<br><b>Projected Deliveries</b>: %{y} units<extra></extra>",
         "marker": {
          "color": "rgb(3, 148, 252)",
          "line": {
           "width": 0
          }
         },
         "name": "Projected Deliveries",
         "opacity": 0.7,
         "type": "bar",
         "x": [
          "2016-08-16",
          "2016-08-17",
          "2016-08-18",
          "2016-08-19",
          "2016-08-20",
          "2016-08-21",
          "2016-08-22"
         ],
         "y": [
          14,
          28,
          14,
          14,
          28,
          14,
          28
         ]
        },
        {
         "customdata": [
          26,
          26,
          21,
          16,
          22,
          28,
          24,
          26,
          18,
          20,
          14,
          23,
          16,
          22,
          20
         ],
         "hovertemplate": "<b>Date</b>: %{x}<br><b>Sales</b>: %{customdata} units<extra></extra>",
         "marker": {
          "color": "rgb(23, 191, 99)",
          "line": {
           "width": 0
          }
         },
         "name": "Sales",
         "opacity": 1,
         "type": "bar",
         "x": [
          "2016-08-01",
          "2016-08-02",
          "2016-08-03",
          "2016-08-04",
          "2016-08-05",
          "2016-08-06",
          "2016-08-07",
          "2016-08-08",
          "2016-08-09",
          "2016-08-10",
          "2016-08-11",
          "2016-08-12",
          "2016-08-13",
          "2016-08-14",
          "2016-08-15"
         ],
         "y": [
          -26,
          -26,
          -21,
          -16,
          -22,
          -28,
          -24,
          -26,
          -18,
          -20,
          -14,
          -23,
          -16,
          -22,
          -20
         ]
        },
        {
         "customdata": [
          19,
          20,
          18,
          20,
          21,
          20,
          20
         ],
         "hovertemplate": "<b>Date</b>: %{x}<br><b>Projected Fulfilled</b>: %{customdata} units<extra></extra>",
         "marker": {
          "color": "rgb(23, 191, 99)",
          "line": {
           "width": 0
          }
         },
         "name": "Projected Fulfilled Sales",
         "opacity": 0.6,
         "type": "bar",
         "x": [
          "2016-08-16",
          "2016-08-17",
          "2016-08-18",
          "2016-08-19",
          "2016-08-20",
          "2016-08-21",
          "2016-08-22"
         ],
         "y": [
          -19,
          -20,
          -18,
          -20,
          -21,
          -20,
          -20
         ]
        },
        {
         "customdata": [
          0,
          0,
          0,
          0,
          0,
          0,
          0
         ],
         "hovertemplate": "<b>Date</b>: %{x}<br><b>Projected Unfulfilled</b>: %{customdata} units<extra></extra>",
         "marker": {
          "color": "rgb(52, 73, 94)",
          "line": {
           "width": 0
          }
         },
         "name": "Projected Unfulfilled Sales",
         "opacity": 0.7,
         "type": "bar",
         "x": [
          "2016-08-16",
          "2016-08-17",
          "2016-08-18",
          "2016-08-19",
          "2016-08-20",
          "2016-08-21",
          "2016-08-22"
         ],
         "y": [
          0,
          0,
          0,
          0,
          0,
          0,
          0
         ]
        }
       ],
       "layout": {
        "barmode": "relative",
        "font": {
         "color": "rgb(60,60,60)",
         "family": "Arial, sans-serif"
        },
        "legend": {
         "font": {
          "family": "Arial, sans-serif",
          "size": 10
         },
         "orientation": "h",
         "x": 1,
         "xanchor": "right",
         "y": 1.02,
         "yanchor": "bottom"
        },
        "margin": {
         "b": 60,
         "l": 60,
         "r": 30,
         "t": 80
        },
        "paper_bgcolor": "rgb(248, 248, 255)",
        "plot_bgcolor": "rgb(248, 248, 255)",
        "template": {
         "data": {
          "candlestick": [
           {
            "decreasing": {
             "line": {
              "color": "#000033"
             }
            },
            "increasing": {
             "line": {
              "color": "#000032"
             }
            },
            "type": "candlestick"
           }
          ],
          "contour": [
           {
            "colorscale": [
             [
              0,
              "#000011"
             ],
             [
              0.1111111111111111,
              "#000012"
             ],
             [
              0.2222222222222222,
              "#000013"
             ],
             [
              0.3333333333333333,
              "#000014"
             ],
             [
              0.4444444444444444,
              "#000015"
             ],
             [
              0.5555555555555556,
              "#000016"
             ],
             [
              0.6666666666666666,
              "#000017"
             ],
             [
              0.7777777777777778,
              "#000018"
             ],
             [
              0.8888888888888888,
              "#000019"
             ],
             [
              1,
              "#000020"
             ]
            ],
            "type": "contour"
           }
          ],
          "contourcarpet": [
           {
            "colorscale": [
             [
              0,
              "#000011"
             ],
             [
              0.1111111111111111,
              "#000012"
             ],
             [
              0.2222222222222222,
              "#000013"
             ],
             [
              0.3333333333333333,
              "#000014"
             ],
             [
              0.4444444444444444,
              "#000015"
             ],
             [
              0.5555555555555556,
              "#000016"
             ],
             [
              0.6666666666666666,
              "#000017"
             ],
             [
              0.7777777777777778,
              "#000018"
             ],
             [
              0.8888888888888888,
              "#000019"
             ],
             [
              1,
              "#000020"
             ]
            ],
            "type": "contourcarpet"
           }
          ],
          "heatmap": [
           {
            "colorscale": [
             [
              0,
              "#000011"
             ],
             [
              0.1111111111111111,
              "#000012"
             ],
             [
              0.2222222222222222,
              "#000013"
             ],
             [
              0.3333333333333333,
              "#000014"
             ],
             [
              0.4444444444444444,
              "#000015"
             ],
             [
              0.5555555555555556,
              "#000016"
             ],
             [
              0.6666666666666666,
              "#000017"
             ],
             [
              0.7777777777777778,
              "#000018"
             ],
             [
              0.8888888888888888,
              "#000019"
             ],
             [
              1,
              "#000020"
             ]
            ],
            "type": "heatmap"
           }
          ],
          "histogram2d": [
           {
            "colorscale": [
             [
              0,
              "#000011"
             ],
             [
              0.1111111111111111,
              "#000012"
             ],
             [
              0.2222222222222222,
              "#000013"
             ],
             [
              0.3333333333333333,
              "#000014"
             ],
             [
              0.4444444444444444,
              "#000015"
             ],
             [
              0.5555555555555556,
              "#000016"
             ],
             [
              0.6666666666666666,
              "#000017"
             ],
             [
              0.7777777777777778,
              "#000018"
             ],
             [
              0.8888888888888888,
              "#000019"
             ],
             [
              1,
              "#000020"
             ]
            ],
            "type": "histogram2d"
           }
          ],
          "icicle": [
           {
            "textfont": {
             "color": "white"
            },
            "type": "icicle"
           }
          ],
          "sankey": [
           {
            "textfont": {
             "color": "#000036"
            },
            "type": "sankey"
           }
          ],
          "scatter": [
           {
            "marker": {
             "line": {
              "width": 0
             }
            },
            "type": "scatter"
           }
          ],
          "table": [
           {
            "cells": {
             "fill": {
              "color": "#000038"
             },
             "font": {
              "color": "#000037"
             },
             "line": {
              "color": "#000039"
             }
            },
            "header": {
             "fill": {
              "color": "#000040"
             },
             "font": {
              "color": "#000036"
             },
             "line": {
              "color": "#000039"
             }
            },
            "type": "table"
           }
          ],
          "waterfall": [
           {
            "connector": {
             "line": {
              "color": "#000036",
              "width": 2
             }
            },
            "decreasing": {
             "marker": {
              "color": "#000033"
             }
            },
            "increasing": {
             "marker": {
              "color": "#000032"
             }
            },
            "totals": {
             "marker": {
              "color": "#000034"
             }
            },
            "type": "waterfall"
           }
          ]
         },
         "layout": {
          "coloraxis": {
           "colorscale": [
            [
             0,
             "#000011"
            ],
            [
             0.1111111111111111,
             "#000012"
            ],
            [
             0.2222222222222222,
             "#000013"
            ],
            [
             0.3333333333333333,
             "#000014"
            ],
            [
             0.4444444444444444,
             "#000015"
            ],
            [
             0.5555555555555556,
             "#000016"
            ],
            [
             0.6666666666666666,
             "#000017"
            ],
            [
             0.7777777777777778,
             "#000018"
            ],
            [
             0.8888888888888888,
             "#000019"
            ],
            [
             1,
             "#000020"
            ]
           ]
          },
          "colorscale": {
           "diverging": [
            [
             0,
             "#000021"
            ],
            [
             0.1,
             "#000022"
            ],
            [
             0.2,
             "#000023"
            ],
            [
             0.3,
             "#000024"
            ],
            [
             0.4,
             "#000025"
            ],
            [
             0.5,
             "#000026"
            ],
            [
             0.6,
             "#000027"
            ],
            [
             0.7,
             "#000028"
            ],
            [
             0.8,
             "#000029"
            ],
            [
             0.9,
             "#000030"
            ],
            [
             1,
             "#000031"
            ]
           ],
           "sequential": [
            [
             0,
             "#000011"
            ],
            [
             0.1111111111111111,
             "#000012"
            ],
            [
             0.2222222222222222,
             "#000013"
            ],
            [
             0.3333333333333333,
             "#000014"
            ],
            [
             0.4444444444444444,
             "#000015"
            ],
            [
             0.5555555555555556,
             "#000016"
            ],
            [
             0.6666666666666666,
             "#000017"
            ],
            [
             0.7777777777777778,
             "#000018"
            ],
            [
             0.8888888888888888,
             "#000019"
            ],
            [
             1,
             "#000020"
            ]
           ],
           "sequentialminus": [
            [
             0,
             "#000011"
            ],
            [
             0.1111111111111111,
             "#000012"
            ],
            [
             0.2222222222222222,
             "#000013"
            ],
            [
             0.3333333333333333,
             "#000014"
            ],
            [
             0.4444444444444444,
             "#000015"
            ],
            [
             0.5555555555555556,
             "#000016"
            ],
            [
             0.6666666666666666,
             "#000017"
            ],
            [
             0.7777777777777778,
             "#000018"
            ],
            [
             0.8888888888888888,
             "#000019"
            ],
            [
             1,
             "#000020"
            ]
           ]
          },
          "colorway": [
           "#000001",
           "#000002",
           "#000003",
           "#000004",
           "#000005",
           "#000006",
           "#000007",
           "#000008",
           "#000009",
           "#000010"
          ]
         }
        },
        "xaxis": {
         "showgrid": false,
         "tickfont": {
          "color": "rgb(100,100,100)",
          "family": "Arial, sans-serif",
          "size": 12
         },
         "title": {
          "text": "Date"
         }
        },
        "yaxis": {
         "gridcolor": "rgb(220,220,220)",
         "showgrid": true,
         "tickfont": {
          "color": "rgb(100,100,100)",
          "family": "Arial, sans-serif",
          "size": 12
         },
         "title": {
          "text": "Units"
         }
        }
       }
      }
     },
     "metadata": {},
     "output_type": "display_data"
    },
    {
     "data": {
      "application/vnd.plotly.v1+json": {
       "config": {
        "plotlyServerURL": "https://plot.ly"
       },
       "data": [
        {
         "hovertemplate": "<b>Date</b>: %{x}<br><b>Inventory</b>: %{y} units<extra></extra>",
         "marker": {
          "color": "rgb(252, 186, 3)",
          "line": {
           "width": 0
          }
         },
         "name": "Inventory",
         "opacity": 1,
         "type": "bar",
         "x": [
          "2016-08-01",
          "2016-08-02",
          "2016-08-03",
          "2016-08-04",
          "2016-08-05",
          "2016-08-06",
          "2016-08-07",
          "2016-08-08",
          "2016-08-09",
          "2016-08-10",
          "2016-08-11",
          "2016-08-12",
          "2016-08-13",
          "2016-08-14",
          "2016-08-15"
         ],
         "y": [
          22,
          35,
          19,
          21,
          30,
          39,
          43,
          37,
          19,
          27,
          33,
          31,
          26,
          34,
          30
         ]
        },
        {
         "hovertemplate": "<b>Date</b>: %{x}<br><b>Projected Initial Inv.</b>: %{y} units<extra></extra>",
         "marker": {
          "color": "rgb(252, 186, 3)",
          "line": {
           "width": 0
          }
         },
         "name": "Projected Initial Inventory",
         "opacity": 0.6,
         "type": "bar",
         "x": [
          "2016-08-16",
          "2016-08-17",
          "2016-08-18",
          "2016-08-19",
          "2016-08-20",
          "2016-08-21",
          "2016-08-22"
         ],
         "y": [
          30,
          26,
          21,
          32,
          26,
          20,
          28
         ]
        },
        {
         "hovertemplate": "<b>Date</b>: %{x}<br><b>Projected Deliveries</b>: %{y} units<extra></extra>",
         "marker": {
          "color": "rgb(3, 148, 252)",
          "line": {
           "width": 0
          }
         },
         "name": "Projected Deliveries",
         "opacity": 0.7,
         "type": "bar",
         "x": [
          "2016-08-16",
          "2016-08-17",
          "2016-08-18",
          "2016-08-19",
          "2016-08-20",
          "2016-08-21",
          "2016-08-22"
         ],
         "y": [
          14,
          14,
          28,
          14,
          14,
          28,
          14
         ]
        },
        {
         "customdata": [
          12,
          25,
          9,
          11,
          20,
          29,
          33,
          27,
          9,
          17,
          23,
          21,
          16,
          24,
          20
         ],
         "hovertemplate": "<b>Date</b>: %{x}<br><b>Sales</b>: %{customdata} units<extra></extra>",
         "marker": {
          "color": "rgb(23, 191, 99)",
          "line": {
           "width": 0
          }
         },
         "name": "Sales",
         "opacity": 1,
         "type": "bar",
         "x": [
          "2016-08-01",
          "2016-08-02",
          "2016-08-03",
          "2016-08-04",
          "2016-08-05",
          "2016-08-06",
          "2016-08-07",
          "2016-08-08",
          "2016-08-09",
          "2016-08-10",
          "2016-08-11",
          "2016-08-12",
          "2016-08-13",
          "2016-08-14",
          "2016-08-15"
         ],
         "y": [
          -12,
          -25,
          -9,
          -11,
          -20,
          -29,
          -33,
          -27,
          -9,
          -17,
          -23,
          -21,
          -16,
          -24,
          -20
         ]
        },
        {
         "customdata": [
          18,
          19,
          17,
          20,
          20,
          20,
          20
         ],
         "hovertemplate": "<b>Date</b>: %{x}<br><b>Projected Fulfilled</b>: %{customdata} units<extra></extra>",
         "marker": {
          "color": "rgb(23, 191, 99)",
          "line": {
           "width": 0
          }
         },
         "name": "Projected Fulfilled Sales",
         "opacity": 0.6,
         "type": "bar",
         "x": [
          "2016-08-16",
          "2016-08-17",
          "2016-08-18",
          "2016-08-19",
          "2016-08-20",
          "2016-08-21",
          "2016-08-22"
         ],
         "y": [
          -18,
          -19,
          -17,
          -20,
          -20,
          -20,
          -20
         ]
        },
        {
         "customdata": [
          0,
          0,
          0,
          0,
          0,
          0,
          0
         ],
         "hovertemplate": "<b>Date</b>: %{x}<br><b>Projected Unfulfilled</b>: %{customdata} units<extra></extra>",
         "marker": {
          "color": "rgb(52, 73, 94)",
          "line": {
           "width": 0
          }
         },
         "name": "Projected Unfulfilled Sales",
         "opacity": 0.7,
         "type": "bar",
         "x": [
          "2016-08-16",
          "2016-08-17",
          "2016-08-18",
          "2016-08-19",
          "2016-08-20",
          "2016-08-21",
          "2016-08-22"
         ],
         "y": [
          0,
          0,
          0,
          0,
          0,
          0,
          0
         ]
        }
       ],
       "layout": {
        "barmode": "relative",
        "font": {
         "color": "rgb(60,60,60)",
         "family": "Arial, sans-serif"
        },
        "legend": {
         "font": {
          "family": "Arial, sans-serif",
          "size": 10
         },
         "orientation": "h",
         "x": 1,
         "xanchor": "right",
         "y": 1.02,
         "yanchor": "bottom"
        },
        "margin": {
         "b": 60,
         "l": 60,
         "r": 30,
         "t": 80
        },
        "paper_bgcolor": "rgb(248, 248, 255)",
        "plot_bgcolor": "rgb(248, 248, 255)",
        "template": {
         "data": {
          "candlestick": [
           {
            "decreasing": {
             "line": {
              "color": "#000033"
             }
            },
            "increasing": {
             "line": {
              "color": "#000032"
             }
            },
            "type": "candlestick"
           }
          ],
          "contour": [
           {
            "colorscale": [
             [
              0,
              "#000011"
             ],
             [
              0.1111111111111111,
              "#000012"
             ],
             [
              0.2222222222222222,
              "#000013"
             ],
             [
              0.3333333333333333,
              "#000014"
             ],
             [
              0.4444444444444444,
              "#000015"
             ],
             [
              0.5555555555555556,
              "#000016"
             ],
             [
              0.6666666666666666,
              "#000017"
             ],
             [
              0.7777777777777778,
              "#000018"
             ],
             [
              0.8888888888888888,
              "#000019"
             ],
             [
              1,
              "#000020"
             ]
            ],
            "type": "contour"
           }
          ],
          "contourcarpet": [
           {
            "colorscale": [
             [
              0,
              "#000011"
             ],
             [
              0.1111111111111111,
              "#000012"
             ],
             [
              0.2222222222222222,
              "#000013"
             ],
             [
              0.3333333333333333,
              "#000014"
             ],
             [
              0.4444444444444444,
              "#000015"
             ],
             [
              0.5555555555555556,
              "#000016"
             ],
             [
              0.6666666666666666,
              "#000017"
             ],
             [
              0.7777777777777778,
              "#000018"
             ],
             [
              0.8888888888888888,
              "#000019"
             ],
             [
              1,
              "#000020"
             ]
            ],
            "type": "contourcarpet"
           }
          ],
          "heatmap": [
           {
            "colorscale": [
             [
              0,
              "#000011"
             ],
             [
              0.1111111111111111,
              "#000012"
             ],
             [
              0.2222222222222222,
              "#000013"
             ],
             [
              0.3333333333333333,
              "#000014"
             ],
             [
              0.4444444444444444,
              "#000015"
             ],
             [
              0.5555555555555556,
              "#000016"
             ],
             [
              0.6666666666666666,
              "#000017"
             ],
             [
              0.7777777777777778,
              "#000018"
             ],
             [
              0.8888888888888888,
              "#000019"
             ],
             [
              1,
              "#000020"
             ]
            ],
            "type": "heatmap"
           }
          ],
          "histogram2d": [
           {
            "colorscale": [
             [
              0,
              "#000011"
             ],
             [
              0.1111111111111111,
              "#000012"
             ],
             [
              0.2222222222222222,
              "#000013"
             ],
             [
              0.3333333333333333,
              "#000014"
             ],
             [
              0.4444444444444444,
              "#000015"
             ],
             [
              0.5555555555555556,
              "#000016"
             ],
             [
              0.6666666666666666,
              "#000017"
             ],
             [
              0.7777777777777778,
              "#000018"
             ],
             [
              0.8888888888888888,
              "#000019"
             ],
             [
              1,
              "#000020"
             ]
            ],
            "type": "histogram2d"
           }
          ],
          "icicle": [
           {
            "textfont": {
             "color": "white"
            },
            "type": "icicle"
           }
          ],
          "sankey": [
           {
            "textfont": {
             "color": "#000036"
            },
            "type": "sankey"
           }
          ],
          "scatter": [
           {
            "marker": {
             "line": {
              "width": 0
             }
            },
            "type": "scatter"
           }
          ],
          "table": [
           {
            "cells": {
             "fill": {
              "color": "#000038"
             },
             "font": {
              "color": "#000037"
             },
             "line": {
              "color": "#000039"
             }
            },
            "header": {
             "fill": {
              "color": "#000040"
             },
             "font": {
              "color": "#000036"
             },
             "line": {
              "color": "#000039"
             }
            },
            "type": "table"
           }
          ],
          "waterfall": [
           {
            "connector": {
             "line": {
              "color": "#000036",
              "width": 2
             }
            },
            "decreasing": {
             "marker": {
              "color": "#000033"
             }
            },
            "increasing": {
             "marker": {
              "color": "#000032"
             }
            },
            "totals": {
             "marker": {
              "color": "#000034"
             }
            },
            "type": "waterfall"
           }
          ]
         },
         "layout": {
          "coloraxis": {
           "colorscale": [
            [
             0,
             "#000011"
            ],
            [
             0.1111111111111111,
             "#000012"
            ],
            [
             0.2222222222222222,
             "#000013"
            ],
            [
             0.3333333333333333,
             "#000014"
            ],
            [
             0.4444444444444444,
             "#000015"
            ],
            [
             0.5555555555555556,
             "#000016"
            ],
            [
             0.6666666666666666,
             "#000017"
            ],
            [
             0.7777777777777778,
             "#000018"
            ],
            [
             0.8888888888888888,
             "#000019"
            ],
            [
             1,
             "#000020"
            ]
           ]
          },
          "colorscale": {
           "diverging": [
            [
             0,
             "#000021"
            ],
            [
             0.1,
             "#000022"
            ],
            [
             0.2,
             "#000023"
            ],
            [
             0.3,
             "#000024"
            ],
            [
             0.4,
             "#000025"
            ],
            [
             0.5,
             "#000026"
            ],
            [
             0.6,
             "#000027"
            ],
            [
             0.7,
             "#000028"
            ],
            [
             0.8,
             "#000029"
            ],
            [
             0.9,
             "#000030"
            ],
            [
             1,
             "#000031"
            ]
           ],
           "sequential": [
            [
             0,
             "#000011"
            ],
            [
             0.1111111111111111,
             "#000012"
            ],
            [
             0.2222222222222222,
             "#000013"
            ],
            [
             0.3333333333333333,
             "#000014"
            ],
            [
             0.4444444444444444,
             "#000015"
            ],
            [
             0.5555555555555556,
             "#000016"
            ],
            [
             0.6666666666666666,
             "#000017"
            ],
            [
             0.7777777777777778,
             "#000018"
            ],
            [
             0.8888888888888888,
             "#000019"
            ],
            [
             1,
             "#000020"
            ]
           ],
           "sequentialminus": [
            [
             0,
             "#000011"
            ],
            [
             0.1111111111111111,
             "#000012"
            ],
            [
             0.2222222222222222,
             "#000013"
            ],
            [
             0.3333333333333333,
             "#000014"
            ],
            [
             0.4444444444444444,
             "#000015"
            ],
            [
             0.5555555555555556,
             "#000016"
            ],
            [
             0.6666666666666666,
             "#000017"
            ],
            [
             0.7777777777777778,
             "#000018"
            ],
            [
             0.8888888888888888,
             "#000019"
            ],
            [
             1,
             "#000020"
            ]
           ]
          },
          "colorway": [
           "#000001",
           "#000002",
           "#000003",
           "#000004",
           "#000005",
           "#000006",
           "#000007",
           "#000008",
           "#000009",
           "#000010"
          ]
         }
        },
        "xaxis": {
         "showgrid": false,
         "tickfont": {
          "color": "rgb(100,100,100)",
          "family": "Arial, sans-serif",
          "size": 12
         },
         "title": {
          "text": "Date"
         }
        },
        "yaxis": {
         "gridcolor": "rgb(220,220,220)",
         "showgrid": true,
         "tickfont": {
          "color": "rgb(100,100,100)",
          "family": "Arial, sans-serif",
          "size": 12
         },
         "title": {
          "text": "Units"
         }
        }
       }
      }
     },
     "metadata": {},
     "output_type": "display_data"
    },
    {
     "data": {
      "application/vnd.plotly.v1+json": {
       "config": {
        "plotlyServerURL": "https://plot.ly"
       },
       "data": [
        {
         "hovertemplate": "<b>Date</b>: %{x}<br><b>Inventory</b>: %{y} units<extra></extra>",
         "marker": {
          "color": "rgb(252, 186, 3)",
          "line": {
           "width": 0
          }
         },
         "name": "Inventory",
         "opacity": 1,
         "type": "bar",
         "x": [
          "2016-08-01",
          "2016-08-02",
          "2016-08-03",
          "2016-08-04",
          "2016-08-05",
          "2016-08-06",
          "2016-08-07",
          "2016-08-08",
          "2016-08-09",
          "2016-08-10",
          "2016-08-11",
          "2016-08-12",
          "2016-08-13",
          "2016-08-14",
          "2016-08-15"
         ],
         "y": [
          27,
          28,
          18,
          17,
          20,
          24,
          23,
          28,
          25,
          18,
          24,
          34,
          24,
          19,
          34
         ]
        },
        {
         "hovertemplate": "<b>Date</b>: %{x}<br><b>Projected Initial Inv.</b>: %{y} units<extra></extra>",
         "marker": {
          "color": "rgb(252, 186, 3)",
          "line": {
           "width": 0
          }
         },
         "name": "Projected Initial Inventory",
         "opacity": 0.6,
         "type": "bar",
         "x": [
          "2016-08-16",
          "2016-08-17",
          "2016-08-18",
          "2016-08-19",
          "2016-08-20",
          "2016-08-21",
          "2016-08-22"
         ],
         "y": [
          30,
          23,
          57,
          42,
          25,
          28,
          21
         ]
        },
        {
         "hovertemplate": "<b>Date</b>: %{x}<br><b>Projected Deliveries</b>: %{y} units<extra></extra>",
         "marker": {
          "color": "rgb(3, 148, 252)",
          "line": {
           "width": 0
          }
         },
         "name": "Projected Deliveries",
         "opacity": 0.7,
         "type": "bar",
         "x": [
          "2016-08-16",
          "2016-08-17",
          "2016-08-18",
          "2016-08-19",
          "2016-08-20",
          "2016-08-21",
          "2016-08-22"
         ],
         "y": [
          10,
          50,
          0,
          0,
          20,
          10,
          16
         ]
        },
        {
         "customdata": [
          17,
          18,
          8,
          7,
          10,
          14,
          13,
          18,
          15,
          8,
          14,
          24,
          14,
          9,
          24
         ],
         "hovertemplate": "<b>Date</b>: %{x}<br><b>Sales</b>: %{customdata} units<extra></extra>",
         "marker": {
          "color": "rgb(23, 191, 99)",
          "line": {
           "width": 0
          }
         },
         "name": "Sales",
         "opacity": 1,
         "type": "bar",
         "x": [
          "2016-08-01",
          "2016-08-02",
          "2016-08-03",
          "2016-08-04",
          "2016-08-05",
          "2016-08-06",
          "2016-08-07",
          "2016-08-08",
          "2016-08-09",
          "2016-08-10",
          "2016-08-11",
          "2016-08-12",
          "2016-08-13",
          "2016-08-14",
          "2016-08-15"
         ],
         "y": [
          -17,
          -18,
          -8,
          -7,
          -10,
          -14,
          -13,
          -18,
          -15,
          -8,
          -14,
          -24,
          -14,
          -9,
          -24
         ]
        },
        {
         "customdata": [
          17,
          16,
          15,
          17,
          17,
          17,
          17
         ],
         "hovertemplate": "<b>Date</b>: %{x}<br><b>Projected Fulfilled</b>: %{customdata} units<extra></extra>",
         "marker": {
          "color": "rgb(23, 191, 99)",
          "line": {
           "width": 0
          }
         },
         "name": "Projected Fulfilled Sales",
         "opacity": 0.6,
         "type": "bar",
         "x": [
          "2016-08-16",
          "2016-08-17",
          "2016-08-18",
          "2016-08-19",
          "2016-08-20",
          "2016-08-21",
          "2016-08-22"
         ],
         "y": [
          -17,
          -16,
          -15,
          -17,
          -17,
          -17,
          -17
         ]
        },
        {
         "customdata": [
          0,
          1,
          0,
          0,
          0,
          0,
          0
         ],
         "hovertemplate": "<b>Date</b>: %{x}<br><b>Projected Unfulfilled</b>: %{customdata} units<extra></extra>",
         "marker": {
          "color": "rgb(52, 73, 94)",
          "line": {
           "width": 0
          }
         },
         "name": "Projected Unfulfilled Sales",
         "opacity": 0.7,
         "type": "bar",
         "x": [
          "2016-08-16",
          "2016-08-17",
          "2016-08-18",
          "2016-08-19",
          "2016-08-20",
          "2016-08-21",
          "2016-08-22"
         ],
         "y": [
          0,
          -1,
          0,
          0,
          0,
          0,
          0
         ]
        }
       ],
       "layout": {
        "barmode": "relative",
        "font": {
         "color": "rgb(60,60,60)",
         "family": "Arial, sans-serif"
        },
        "legend": {
         "font": {
          "family": "Arial, sans-serif",
          "size": 10
         },
         "orientation": "h",
         "x": 1,
         "xanchor": "right",
         "y": 1.02,
         "yanchor": "bottom"
        },
        "margin": {
         "b": 60,
         "l": 60,
         "r": 30,
         "t": 80
        },
        "paper_bgcolor": "rgb(248, 248, 255)",
        "plot_bgcolor": "rgb(248, 248, 255)",
        "template": {
         "data": {
          "candlestick": [
           {
            "decreasing": {
             "line": {
              "color": "#000033"
             }
            },
            "increasing": {
             "line": {
              "color": "#000032"
             }
            },
            "type": "candlestick"
           }
          ],
          "contour": [
           {
            "colorscale": [
             [
              0,
              "#000011"
             ],
             [
              0.1111111111111111,
              "#000012"
             ],
             [
              0.2222222222222222,
              "#000013"
             ],
             [
              0.3333333333333333,
              "#000014"
             ],
             [
              0.4444444444444444,
              "#000015"
             ],
             [
              0.5555555555555556,
              "#000016"
             ],
             [
              0.6666666666666666,
              "#000017"
             ],
             [
              0.7777777777777778,
              "#000018"
             ],
             [
              0.8888888888888888,
              "#000019"
             ],
             [
              1,
              "#000020"
             ]
            ],
            "type": "contour"
           }
          ],
          "contourcarpet": [
           {
            "colorscale": [
             [
              0,
              "#000011"
             ],
             [
              0.1111111111111111,
              "#000012"
             ],
             [
              0.2222222222222222,
              "#000013"
             ],
             [
              0.3333333333333333,
              "#000014"
             ],
             [
              0.4444444444444444,
              "#000015"
             ],
             [
              0.5555555555555556,
              "#000016"
             ],
             [
              0.6666666666666666,
              "#000017"
             ],
             [
              0.7777777777777778,
              "#000018"
             ],
             [
              0.8888888888888888,
              "#000019"
             ],
             [
              1,
              "#000020"
             ]
            ],
            "type": "contourcarpet"
           }
          ],
          "heatmap": [
           {
            "colorscale": [
             [
              0,
              "#000011"
             ],
             [
              0.1111111111111111,
              "#000012"
             ],
             [
              0.2222222222222222,
              "#000013"
             ],
             [
              0.3333333333333333,
              "#000014"
             ],
             [
              0.4444444444444444,
              "#000015"
             ],
             [
              0.5555555555555556,
              "#000016"
             ],
             [
              0.6666666666666666,
              "#000017"
             ],
             [
              0.7777777777777778,
              "#000018"
             ],
             [
              0.8888888888888888,
              "#000019"
             ],
             [
              1,
              "#000020"
             ]
            ],
            "type": "heatmap"
           }
          ],
          "histogram2d": [
           {
            "colorscale": [
             [
              0,
              "#000011"
             ],
             [
              0.1111111111111111,
              "#000012"
             ],
             [
              0.2222222222222222,
              "#000013"
             ],
             [
              0.3333333333333333,
              "#000014"
             ],
             [
              0.4444444444444444,
              "#000015"
             ],
             [
              0.5555555555555556,
              "#000016"
             ],
             [
              0.6666666666666666,
              "#000017"
             ],
             [
              0.7777777777777778,
              "#000018"
             ],
             [
              0.8888888888888888,
              "#000019"
             ],
             [
              1,
              "#000020"
             ]
            ],
            "type": "histogram2d"
           }
          ],
          "icicle": [
           {
            "textfont": {
             "color": "white"
            },
            "type": "icicle"
           }
          ],
          "sankey": [
           {
            "textfont": {
             "color": "#000036"
            },
            "type": "sankey"
           }
          ],
          "scatter": [
           {
            "marker": {
             "line": {
              "width": 0
             }
            },
            "type": "scatter"
           }
          ],
          "table": [
           {
            "cells": {
             "fill": {
              "color": "#000038"
             },
             "font": {
              "color": "#000037"
             },
             "line": {
              "color": "#000039"
             }
            },
            "header": {
             "fill": {
              "color": "#000040"
             },
             "font": {
              "color": "#000036"
             },
             "line": {
              "color": "#000039"
             }
            },
            "type": "table"
           }
          ],
          "waterfall": [
           {
            "connector": {
             "line": {
              "color": "#000036",
              "width": 2
             }
            },
            "decreasing": {
             "marker": {
              "color": "#000033"
             }
            },
            "increasing": {
             "marker": {
              "color": "#000032"
             }
            },
            "totals": {
             "marker": {
              "color": "#000034"
             }
            },
            "type": "waterfall"
           }
          ]
         },
         "layout": {
          "coloraxis": {
           "colorscale": [
            [
             0,
             "#000011"
            ],
            [
             0.1111111111111111,
             "#000012"
            ],
            [
             0.2222222222222222,
             "#000013"
            ],
            [
             0.3333333333333333,
             "#000014"
            ],
            [
             0.4444444444444444,
             "#000015"
            ],
            [
             0.5555555555555556,
             "#000016"
            ],
            [
             0.6666666666666666,
             "#000017"
            ],
            [
             0.7777777777777778,
             "#000018"
            ],
            [
             0.8888888888888888,
             "#000019"
            ],
            [
             1,
             "#000020"
            ]
           ]
          },
          "colorscale": {
           "diverging": [
            [
             0,
             "#000021"
            ],
            [
             0.1,
             "#000022"
            ],
            [
             0.2,
             "#000023"
            ],
            [
             0.3,
             "#000024"
            ],
            [
             0.4,
             "#000025"
            ],
            [
             0.5,
             "#000026"
            ],
            [
             0.6,
             "#000027"
            ],
            [
             0.7,
             "#000028"
            ],
            [
             0.8,
             "#000029"
            ],
            [
             0.9,
             "#000030"
            ],
            [
             1,
             "#000031"
            ]
           ],
           "sequential": [
            [
             0,
             "#000011"
            ],
            [
             0.1111111111111111,
             "#000012"
            ],
            [
             0.2222222222222222,
             "#000013"
            ],
            [
             0.3333333333333333,
             "#000014"
            ],
            [
             0.4444444444444444,
             "#000015"
            ],
            [
             0.5555555555555556,
             "#000016"
            ],
            [
             0.6666666666666666,
             "#000017"
            ],
            [
             0.7777777777777778,
             "#000018"
            ],
            [
             0.8888888888888888,
             "#000019"
            ],
            [
             1,
             "#000020"
            ]
           ],
           "sequentialminus": [
            [
             0,
             "#000011"
            ],
            [
             0.1111111111111111,
             "#000012"
            ],
            [
             0.2222222222222222,
             "#000013"
            ],
            [
             0.3333333333333333,
             "#000014"
            ],
            [
             0.4444444444444444,
             "#000015"
            ],
            [
             0.5555555555555556,
             "#000016"
            ],
            [
             0.6666666666666666,
             "#000017"
            ],
            [
             0.7777777777777778,
             "#000018"
            ],
            [
             0.8888888888888888,
             "#000019"
            ],
            [
             1,
             "#000020"
            ]
           ]
          },
          "colorway": [
           "#000001",
           "#000002",
           "#000003",
           "#000004",
           "#000005",
           "#000006",
           "#000007",
           "#000008",
           "#000009",
           "#000010"
          ]
         }
        },
        "xaxis": {
         "showgrid": false,
         "tickfont": {
          "color": "rgb(100,100,100)",
          "family": "Arial, sans-serif",
          "size": 12
         },
         "title": {
          "text": "Date"
         }
        },
        "yaxis": {
         "gridcolor": "rgb(220,220,220)",
         "showgrid": true,
         "tickfont": {
          "color": "rgb(100,100,100)",
          "family": "Arial, sans-serif",
          "size": 12
         },
         "title": {
          "text": "Units"
         }
        }
       }
      }
     },
     "metadata": {},
     "output_type": "display_data"
    },
    {
     "data": {
      "application/vnd.plotly.v1+json": {
       "config": {
        "plotlyServerURL": "https://plot.ly"
       },
       "data": [
        {
         "hovertemplate": "<b>Date</b>: %{x}<br><b>Inventory</b>: %{y} units<extra></extra>",
         "marker": {
          "color": "rgb(252, 186, 3)",
          "line": {
           "width": 0
          }
         },
         "name": "Inventory",
         "opacity": 1,
         "type": "bar",
         "x": [
          "2016-08-01",
          "2016-08-02",
          "2016-08-03",
          "2016-08-04",
          "2016-08-05",
          "2016-08-06",
          "2016-08-07",
          "2016-08-08",
          "2016-08-09",
          "2016-08-10",
          "2016-08-11",
          "2016-08-12",
          "2016-08-13",
          "2016-08-14",
          "2016-08-15"
         ],
         "y": [
          98,
          88,
          97,
          72,
          81,
          105,
          89,
          86,
          64,
          64,
          74,
          91,
          90,
          87,
          72
         ]
        },
        {
         "hovertemplate": "<b>Date</b>: %{x}<br><b>Projected Initial Inv.</b>: %{y} units<extra></extra>",
         "marker": {
          "color": "rgb(252, 186, 3)",
          "line": {
           "width": 0
          }
         },
         "name": "Projected Initial Inventory",
         "opacity": 0.6,
         "type": "bar",
         "x": [
          "2016-08-16",
          "2016-08-17",
          "2016-08-18",
          "2016-08-19",
          "2016-08-20",
          "2016-08-21",
          "2016-08-22"
         ],
         "y": [
          30,
          20,
          20,
          20,
          20,
          20,
          20
         ]
        },
        {
         "hovertemplate": "<b>Date</b>: %{x}<br><b>Projected Deliveries</b>: %{y} units<extra></extra>",
         "marker": {
          "color": "rgb(3, 148, 252)",
          "line": {
           "width": 0
          }
         },
         "name": "Projected Deliveries",
         "opacity": 0.7,
         "type": "bar",
         "x": [
          "2016-08-16",
          "2016-08-17",
          "2016-08-18",
          "2016-08-19",
          "2016-08-20",
          "2016-08-21",
          "2016-08-22"
         ],
         "y": [
          50,
          60,
          60,
          68,
          70,
          66,
          66
         ]
        },
        {
         "customdata": [
          88,
          78,
          87,
          62,
          71,
          95,
          79,
          76,
          54,
          54,
          64,
          81,
          80,
          77,
          62
         ],
         "hovertemplate": "<b>Date</b>: %{x}<br><b>Sales</b>: %{customdata} units<extra></extra>",
         "marker": {
          "color": "rgb(23, 191, 99)",
          "line": {
           "width": 0
          }
         },
         "name": "Sales",
         "opacity": 1,
         "type": "bar",
         "x": [
          "2016-08-01",
          "2016-08-02",
          "2016-08-03",
          "2016-08-04",
          "2016-08-05",
          "2016-08-06",
          "2016-08-07",
          "2016-08-08",
          "2016-08-09",
          "2016-08-10",
          "2016-08-11",
          "2016-08-12",
          "2016-08-13",
          "2016-08-14",
          "2016-08-15"
         ],
         "y": [
          -88,
          -78,
          -87,
          -62,
          -71,
          -95,
          -79,
          -76,
          -54,
          -54,
          -64,
          -81,
          -80,
          -77,
          -62
         ]
        },
        {
         "customdata": [
          60,
          60,
          60,
          68,
          70,
          66,
          66
         ],
         "hovertemplate": "<b>Date</b>: %{x}<br><b>Projected Fulfilled</b>: %{customdata} units<extra></extra>",
         "marker": {
          "color": "rgb(23, 191, 99)",
          "line": {
           "width": 0
          }
         },
         "name": "Projected Fulfilled Sales",
         "opacity": 0.6,
         "type": "bar",
         "x": [
          "2016-08-16",
          "2016-08-17",
          "2016-08-18",
          "2016-08-19",
          "2016-08-20",
          "2016-08-21",
          "2016-08-22"
         ],
         "y": [
          -60,
          -60,
          -60,
          -68,
          -70,
          -66,
          -66
         ]
        },
        {
         "customdata": [
          3,
          8,
          3,
          2,
          0,
          3,
          1
         ],
         "hovertemplate": "<b>Date</b>: %{x}<br><b>Projected Unfulfilled</b>: %{customdata} units<extra></extra>",
         "marker": {
          "color": "rgb(52, 73, 94)",
          "line": {
           "width": 0
          }
         },
         "name": "Projected Unfulfilled Sales",
         "opacity": 0.7,
         "type": "bar",
         "x": [
          "2016-08-16",
          "2016-08-17",
          "2016-08-18",
          "2016-08-19",
          "2016-08-20",
          "2016-08-21",
          "2016-08-22"
         ],
         "y": [
          -3,
          -8,
          -3,
          -2,
          0,
          -3,
          -1
         ]
        }
       ],
       "layout": {
        "barmode": "relative",
        "font": {
         "color": "rgb(60,60,60)",
         "family": "Arial, sans-serif"
        },
        "legend": {
         "font": {
          "family": "Arial, sans-serif",
          "size": 10
         },
         "orientation": "h",
         "x": 1,
         "xanchor": "right",
         "y": 1.02,
         "yanchor": "bottom"
        },
        "margin": {
         "b": 60,
         "l": 60,
         "r": 30,
         "t": 80
        },
        "paper_bgcolor": "rgb(248, 248, 255)",
        "plot_bgcolor": "rgb(248, 248, 255)",
        "template": {
         "data": {
          "candlestick": [
           {
            "decreasing": {
             "line": {
              "color": "#000033"
             }
            },
            "increasing": {
             "line": {
              "color": "#000032"
             }
            },
            "type": "candlestick"
           }
          ],
          "contour": [
           {
            "colorscale": [
             [
              0,
              "#000011"
             ],
             [
              0.1111111111111111,
              "#000012"
             ],
             [
              0.2222222222222222,
              "#000013"
             ],
             [
              0.3333333333333333,
              "#000014"
             ],
             [
              0.4444444444444444,
              "#000015"
             ],
             [
              0.5555555555555556,
              "#000016"
             ],
             [
              0.6666666666666666,
              "#000017"
             ],
             [
              0.7777777777777778,
              "#000018"
             ],
             [
              0.8888888888888888,
              "#000019"
             ],
             [
              1,
              "#000020"
             ]
            ],
            "type": "contour"
           }
          ],
          "contourcarpet": [
           {
            "colorscale": [
             [
              0,
              "#000011"
             ],
             [
              0.1111111111111111,
              "#000012"
             ],
             [
              0.2222222222222222,
              "#000013"
             ],
             [
              0.3333333333333333,
              "#000014"
             ],
             [
              0.4444444444444444,
              "#000015"
             ],
             [
              0.5555555555555556,
              "#000016"
             ],
             [
              0.6666666666666666,
              "#000017"
             ],
             [
              0.7777777777777778,
              "#000018"
             ],
             [
              0.8888888888888888,
              "#000019"
             ],
             [
              1,
              "#000020"
             ]
            ],
            "type": "contourcarpet"
           }
          ],
          "heatmap": [
           {
            "colorscale": [
             [
              0,
              "#000011"
             ],
             [
              0.1111111111111111,
              "#000012"
             ],
             [
              0.2222222222222222,
              "#000013"
             ],
             [
              0.3333333333333333,
              "#000014"
             ],
             [
              0.4444444444444444,
              "#000015"
             ],
             [
              0.5555555555555556,
              "#000016"
             ],
             [
              0.6666666666666666,
              "#000017"
             ],
             [
              0.7777777777777778,
              "#000018"
             ],
             [
              0.8888888888888888,
              "#000019"
             ],
             [
              1,
              "#000020"
             ]
            ],
            "type": "heatmap"
           }
          ],
          "histogram2d": [
           {
            "colorscale": [
             [
              0,
              "#000011"
             ],
             [
              0.1111111111111111,
              "#000012"
             ],
             [
              0.2222222222222222,
              "#000013"
             ],
             [
              0.3333333333333333,
              "#000014"
             ],
             [
              0.4444444444444444,
              "#000015"
             ],
             [
              0.5555555555555556,
              "#000016"
             ],
             [
              0.6666666666666666,
              "#000017"
             ],
             [
              0.7777777777777778,
              "#000018"
             ],
             [
              0.8888888888888888,
              "#000019"
             ],
             [
              1,
              "#000020"
             ]
            ],
            "type": "histogram2d"
           }
          ],
          "icicle": [
           {
            "textfont": {
             "color": "white"
            },
            "type": "icicle"
           }
          ],
          "sankey": [
           {
            "textfont": {
             "color": "#000036"
            },
            "type": "sankey"
           }
          ],
          "scatter": [
           {
            "marker": {
             "line": {
              "width": 0
             }
            },
            "type": "scatter"
           }
          ],
          "table": [
           {
            "cells": {
             "fill": {
              "color": "#000038"
             },
             "font": {
              "color": "#000037"
             },
             "line": {
              "color": "#000039"
             }
            },
            "header": {
             "fill": {
              "color": "#000040"
             },
             "font": {
              "color": "#000036"
             },
             "line": {
              "color": "#000039"
             }
            },
            "type": "table"
           }
          ],
          "waterfall": [
           {
            "connector": {
             "line": {
              "color": "#000036",
              "width": 2
             }
            },
            "decreasing": {
             "marker": {
              "color": "#000033"
             }
            },
            "increasing": {
             "marker": {
              "color": "#000032"
             }
            },
            "totals": {
             "marker": {
              "color": "#000034"
             }
            },
            "type": "waterfall"
           }
          ]
         },
         "layout": {
          "coloraxis": {
           "colorscale": [
            [
             0,
             "#000011"
            ],
            [
             0.1111111111111111,
             "#000012"
            ],
            [
             0.2222222222222222,
             "#000013"
            ],
            [
             0.3333333333333333,
             "#000014"
            ],
            [
             0.4444444444444444,
             "#000015"
            ],
            [
             0.5555555555555556,
             "#000016"
            ],
            [
             0.6666666666666666,
             "#000017"
            ],
            [
             0.7777777777777778,
             "#000018"
            ],
            [
             0.8888888888888888,
             "#000019"
            ],
            [
             1,
             "#000020"
            ]
           ]
          },
          "colorscale": {
           "diverging": [
            [
             0,
             "#000021"
            ],
            [
             0.1,
             "#000022"
            ],
            [
             0.2,
             "#000023"
            ],
            [
             0.3,
             "#000024"
            ],
            [
             0.4,
             "#000025"
            ],
            [
             0.5,
             "#000026"
            ],
            [
             0.6,
             "#000027"
            ],
            [
             0.7,
             "#000028"
            ],
            [
             0.8,
             "#000029"
            ],
            [
             0.9,
             "#000030"
            ],
            [
             1,
             "#000031"
            ]
           ],
           "sequential": [
            [
             0,
             "#000011"
            ],
            [
             0.1111111111111111,
             "#000012"
            ],
            [
             0.2222222222222222,
             "#000013"
            ],
            [
             0.3333333333333333,
             "#000014"
            ],
            [
             0.4444444444444444,
             "#000015"
            ],
            [
             0.5555555555555556,
             "#000016"
            ],
            [
             0.6666666666666666,
             "#000017"
            ],
            [
             0.7777777777777778,
             "#000018"
            ],
            [
             0.8888888888888888,
             "#000019"
            ],
            [
             1,
             "#000020"
            ]
           ],
           "sequentialminus": [
            [
             0,
             "#000011"
            ],
            [
             0.1111111111111111,
             "#000012"
            ],
            [
             0.2222222222222222,
             "#000013"
            ],
            [
             0.3333333333333333,
             "#000014"
            ],
            [
             0.4444444444444444,
             "#000015"
            ],
            [
             0.5555555555555556,
             "#000016"
            ],
            [
             0.6666666666666666,
             "#000017"
            ],
            [
             0.7777777777777778,
             "#000018"
            ],
            [
             0.8888888888888888,
             "#000019"
            ],
            [
             1,
             "#000020"
            ]
           ]
          },
          "colorway": [
           "#000001",
           "#000002",
           "#000003",
           "#000004",
           "#000005",
           "#000006",
           "#000007",
           "#000008",
           "#000009",
           "#000010"
          ]
         }
        },
        "xaxis": {
         "showgrid": false,
         "tickfont": {
          "color": "rgb(100,100,100)",
          "family": "Arial, sans-serif",
          "size": 12
         },
         "title": {
          "text": "Date"
         }
        },
        "yaxis": {
         "gridcolor": "rgb(220,220,220)",
         "showgrid": true,
         "tickfont": {
          "color": "rgb(100,100,100)",
          "family": "Arial, sans-serif",
          "size": 12
         },
         "title": {
          "text": "Units"
         }
        }
       }
      }
     },
     "metadata": {},
     "output_type": "display_data"
    },
    {
     "data": {
      "application/vnd.plotly.v1+json": {
       "config": {
        "plotlyServerURL": "https://plot.ly"
       },
       "data": [
        {
         "hovertemplate": "<b>Date</b>: %{x}<br><b>Inventory</b>: %{y} units<extra></extra>",
         "marker": {
          "color": "rgb(252, 186, 3)",
          "line": {
           "width": 0
          }
         },
         "name": "Inventory",
         "opacity": 1,
         "type": "bar",
         "x": [
          "2016-08-01",
          "2016-08-02",
          "2016-08-03",
          "2016-08-04",
          "2016-08-05",
          "2016-08-06",
          "2016-08-07",
          "2016-08-08",
          "2016-08-09",
          "2016-08-10",
          "2016-08-11",
          "2016-08-12",
          "2016-08-13",
          "2016-08-14",
          "2016-08-15"
         ],
         "y": [
          46,
          30,
          46,
          30,
          41,
          24,
          34,
          36,
          27,
          37,
          37,
          31,
          27,
          27,
          35
         ]
        },
        {
         "hovertemplate": "<b>Date</b>: %{x}<br><b>Projected Initial Inv.</b>: %{y} units<extra></extra>",
         "marker": {
          "color": "rgb(252, 186, 3)",
          "line": {
           "width": 0
          }
         },
         "name": "Projected Initial Inventory",
         "opacity": 0.6,
         "type": "bar",
         "x": [
          "2016-08-16",
          "2016-08-17",
          "2016-08-18",
          "2016-08-19",
          "2016-08-20",
          "2016-08-21",
          "2016-08-22"
         ],
         "y": [
          30,
          55,
          28,
          20,
          27,
          20,
          24
         ]
        },
        {
         "hovertemplate": "<b>Date</b>: %{x}<br><b>Projected Deliveries</b>: %{y} units<extra></extra>",
         "marker": {
          "color": "rgb(3, 148, 252)",
          "line": {
           "width": 0
          }
         },
         "name": "Projected Deliveries",
         "opacity": 0.7,
         "type": "bar",
         "x": [
          "2016-08-16",
          "2016-08-17",
          "2016-08-18",
          "2016-08-19",
          "2016-08-20",
          "2016-08-21",
          "2016-08-22"
         ],
         "y": [
          48,
          0,
          16,
          32,
          16,
          26,
          20
         ]
        },
        {
         "customdata": [
          36,
          20,
          36,
          20,
          31,
          14,
          24,
          26,
          17,
          27,
          27,
          21,
          17,
          17,
          25
         ],
         "hovertemplate": "<b>Date</b>: %{x}<br><b>Sales</b>: %{customdata} units<extra></extra>",
         "marker": {
          "color": "rgb(23, 191, 99)",
          "line": {
           "width": 0
          }
         },
         "name": "Sales",
         "opacity": 1,
         "type": "bar",
         "x": [
          "2016-08-01",
          "2016-08-02",
          "2016-08-03",
          "2016-08-04",
          "2016-08-05",
          "2016-08-06",
          "2016-08-07",
          "2016-08-08",
          "2016-08-09",
          "2016-08-10",
          "2016-08-11",
          "2016-08-12",
          "2016-08-13",
          "2016-08-14",
          "2016-08-15"
         ],
         "y": [
          -36,
          -20,
          -36,
          -20,
          -31,
          -14,
          -24,
          -26,
          -17,
          -27,
          -27,
          -21,
          -17,
          -17,
          -25
         ]
        },
        {
         "customdata": [
          23,
          27,
          24,
          25,
          23,
          22,
          24
         ],
         "hovertemplate": "<b>Date</b>: %{x}<br><b>Projected Fulfilled</b>: %{customdata} units<extra></extra>",
         "marker": {
          "color": "rgb(23, 191, 99)",
          "line": {
           "width": 0
          }
         },
         "name": "Projected Fulfilled Sales",
         "opacity": 0.6,
         "type": "bar",
         "x": [
          "2016-08-16",
          "2016-08-17",
          "2016-08-18",
          "2016-08-19",
          "2016-08-20",
          "2016-08-21",
          "2016-08-22"
         ],
         "y": [
          -23,
          -27,
          -24,
          -25,
          -23,
          -22,
          -24
         ]
        },
        {
         "customdata": [
          0,
          0,
          0,
          0,
          0,
          0,
          0
         ],
         "hovertemplate": "<b>Date</b>: %{x}<br><b>Projected Unfulfilled</b>: %{customdata} units<extra></extra>",
         "marker": {
          "color": "rgb(52, 73, 94)",
          "line": {
           "width": 0
          }
         },
         "name": "Projected Unfulfilled Sales",
         "opacity": 0.7,
         "type": "bar",
         "x": [
          "2016-08-16",
          "2016-08-17",
          "2016-08-18",
          "2016-08-19",
          "2016-08-20",
          "2016-08-21",
          "2016-08-22"
         ],
         "y": [
          0,
          0,
          0,
          0,
          0,
          0,
          0
         ]
        }
       ],
       "layout": {
        "barmode": "relative",
        "font": {
         "color": "rgb(60,60,60)",
         "family": "Arial, sans-serif"
        },
        "legend": {
         "font": {
          "family": "Arial, sans-serif",
          "size": 10
         },
         "orientation": "h",
         "x": 1,
         "xanchor": "right",
         "y": 1.02,
         "yanchor": "bottom"
        },
        "margin": {
         "b": 60,
         "l": 60,
         "r": 30,
         "t": 80
        },
        "paper_bgcolor": "rgb(248, 248, 255)",
        "plot_bgcolor": "rgb(248, 248, 255)",
        "template": {
         "data": {
          "candlestick": [
           {
            "decreasing": {
             "line": {
              "color": "#000033"
             }
            },
            "increasing": {
             "line": {
              "color": "#000032"
             }
            },
            "type": "candlestick"
           }
          ],
          "contour": [
           {
            "colorscale": [
             [
              0,
              "#000011"
             ],
             [
              0.1111111111111111,
              "#000012"
             ],
             [
              0.2222222222222222,
              "#000013"
             ],
             [
              0.3333333333333333,
              "#000014"
             ],
             [
              0.4444444444444444,
              "#000015"
             ],
             [
              0.5555555555555556,
              "#000016"
             ],
             [
              0.6666666666666666,
              "#000017"
             ],
             [
              0.7777777777777778,
              "#000018"
             ],
             [
              0.8888888888888888,
              "#000019"
             ],
             [
              1,
              "#000020"
             ]
            ],
            "type": "contour"
           }
          ],
          "contourcarpet": [
           {
            "colorscale": [
             [
              0,
              "#000011"
             ],
             [
              0.1111111111111111,
              "#000012"
             ],
             [
              0.2222222222222222,
              "#000013"
             ],
             [
              0.3333333333333333,
              "#000014"
             ],
             [
              0.4444444444444444,
              "#000015"
             ],
             [
              0.5555555555555556,
              "#000016"
             ],
             [
              0.6666666666666666,
              "#000017"
             ],
             [
              0.7777777777777778,
              "#000018"
             ],
             [
              0.8888888888888888,
              "#000019"
             ],
             [
              1,
              "#000020"
             ]
            ],
            "type": "contourcarpet"
           }
          ],
          "heatmap": [
           {
            "colorscale": [
             [
              0,
              "#000011"
             ],
             [
              0.1111111111111111,
              "#000012"
             ],
             [
              0.2222222222222222,
              "#000013"
             ],
             [
              0.3333333333333333,
              "#000014"
             ],
             [
              0.4444444444444444,
              "#000015"
             ],
             [
              0.5555555555555556,
              "#000016"
             ],
             [
              0.6666666666666666,
              "#000017"
             ],
             [
              0.7777777777777778,
              "#000018"
             ],
             [
              0.8888888888888888,
              "#000019"
             ],
             [
              1,
              "#000020"
             ]
            ],
            "type": "heatmap"
           }
          ],
          "histogram2d": [
           {
            "colorscale": [
             [
              0,
              "#000011"
             ],
             [
              0.1111111111111111,
              "#000012"
             ],
             [
              0.2222222222222222,
              "#000013"
             ],
             [
              0.3333333333333333,
              "#000014"
             ],
             [
              0.4444444444444444,
              "#000015"
             ],
             [
              0.5555555555555556,
              "#000016"
             ],
             [
              0.6666666666666666,
              "#000017"
             ],
             [
              0.7777777777777778,
              "#000018"
             ],
             [
              0.8888888888888888,
              "#000019"
             ],
             [
              1,
              "#000020"
             ]
            ],
            "type": "histogram2d"
           }
          ],
          "icicle": [
           {
            "textfont": {
             "color": "white"
            },
            "type": "icicle"
           }
          ],
          "sankey": [
           {
            "textfont": {
             "color": "#000036"
            },
            "type": "sankey"
           }
          ],
          "scatter": [
           {
            "marker": {
             "line": {
              "width": 0
             }
            },
            "type": "scatter"
           }
          ],
          "table": [
           {
            "cells": {
             "fill": {
              "color": "#000038"
             },
             "font": {
              "color": "#000037"
             },
             "line": {
              "color": "#000039"
             }
            },
            "header": {
             "fill": {
              "color": "#000040"
             },
             "font": {
              "color": "#000036"
             },
             "line": {
              "color": "#000039"
             }
            },
            "type": "table"
           }
          ],
          "waterfall": [
           {
            "connector": {
             "line": {
              "color": "#000036",
              "width": 2
             }
            },
            "decreasing": {
             "marker": {
              "color": "#000033"
             }
            },
            "increasing": {
             "marker": {
              "color": "#000032"
             }
            },
            "totals": {
             "marker": {
              "color": "#000034"
             }
            },
            "type": "waterfall"
           }
          ]
         },
         "layout": {
          "coloraxis": {
           "colorscale": [
            [
             0,
             "#000011"
            ],
            [
             0.1111111111111111,
             "#000012"
            ],
            [
             0.2222222222222222,
             "#000013"
            ],
            [
             0.3333333333333333,
             "#000014"
            ],
            [
             0.4444444444444444,
             "#000015"
            ],
            [
             0.5555555555555556,
             "#000016"
            ],
            [
             0.6666666666666666,
             "#000017"
            ],
            [
             0.7777777777777778,
             "#000018"
            ],
            [
             0.8888888888888888,
             "#000019"
            ],
            [
             1,
             "#000020"
            ]
           ]
          },
          "colorscale": {
           "diverging": [
            [
             0,
             "#000021"
            ],
            [
             0.1,
             "#000022"
            ],
            [
             0.2,
             "#000023"
            ],
            [
             0.3,
             "#000024"
            ],
            [
             0.4,
             "#000025"
            ],
            [
             0.5,
             "#000026"
            ],
            [
             0.6,
             "#000027"
            ],
            [
             0.7,
             "#000028"
            ],
            [
             0.8,
             "#000029"
            ],
            [
             0.9,
             "#000030"
            ],
            [
             1,
             "#000031"
            ]
           ],
           "sequential": [
            [
             0,
             "#000011"
            ],
            [
             0.1111111111111111,
             "#000012"
            ],
            [
             0.2222222222222222,
             "#000013"
            ],
            [
             0.3333333333333333,
             "#000014"
            ],
            [
             0.4444444444444444,
             "#000015"
            ],
            [
             0.5555555555555556,
             "#000016"
            ],
            [
             0.6666666666666666,
             "#000017"
            ],
            [
             0.7777777777777778,
             "#000018"
            ],
            [
             0.8888888888888888,
             "#000019"
            ],
            [
             1,
             "#000020"
            ]
           ],
           "sequentialminus": [
            [
             0,
             "#000011"
            ],
            [
             0.1111111111111111,
             "#000012"
            ],
            [
             0.2222222222222222,
             "#000013"
            ],
            [
             0.3333333333333333,
             "#000014"
            ],
            [
             0.4444444444444444,
             "#000015"
            ],
            [
             0.5555555555555556,
             "#000016"
            ],
            [
             0.6666666666666666,
             "#000017"
            ],
            [
             0.7777777777777778,
             "#000018"
            ],
            [
             0.8888888888888888,
             "#000019"
            ],
            [
             1,
             "#000020"
            ]
           ]
          },
          "colorway": [
           "#000001",
           "#000002",
           "#000003",
           "#000004",
           "#000005",
           "#000006",
           "#000007",
           "#000008",
           "#000009",
           "#000010"
          ]
         }
        },
        "xaxis": {
         "showgrid": false,
         "tickfont": {
          "color": "rgb(100,100,100)",
          "family": "Arial, sans-serif",
          "size": 12
         },
         "title": {
          "text": "Date"
         }
        },
        "yaxis": {
         "gridcolor": "rgb(220,220,220)",
         "showgrid": true,
         "tickfont": {
          "color": "rgb(100,100,100)",
          "family": "Arial, sans-serif",
          "size": 12
         },
         "title": {
          "text": "Units"
         }
        }
       }
      }
     },
     "metadata": {},
     "output_type": "display_data"
    }
   ],
   "source": [
    "query = query_demand_evolution.format(date_from='2016-08-15')\n",
    "df_demand_evol = pl.read_database_uri(query=query, uri=get_postgres_uri())\n",
    "df_sales = pl.read_database_uri(query=query_sales_stocks.format(date_from='2016-08-15'), uri=get_postgres_uri())\n",
    "plot_inventory_balance(df_demand_evol, df_sales)"
   ]
  },
  {
   "cell_type": "code",
   "execution_count": null,
   "id": "ad5dc838",
   "metadata": {},
   "outputs": [
    {
     "ename": "NameError",
     "evalue": "name 'unmet_demand' is not defined",
     "output_type": "error",
     "traceback": [
      "\u001b[0;31m---------------------------------------------------------------------------\u001b[0m",
      "\u001b[0;31mNameError\u001b[0m                                 Traceback (most recent call last)",
      "Cell \u001b[0;32mIn[11], line 2\u001b[0m\n\u001b[1;32m      1\u001b[0m labels \u001b[38;5;241m=\u001b[39m [\u001b[38;5;124m'\u001b[39m\u001b[38;5;124mFulfilled Sales\u001b[39m\u001b[38;5;124m'\u001b[39m, \u001b[38;5;124m'\u001b[39m\u001b[38;5;124mUnfulfilled Sales\u001b[39m\u001b[38;5;124m'\u001b[39m]\n\u001b[0;32m----> 2\u001b[0m values \u001b[38;5;241m=\u001b[39m [total_sales, \u001b[43munmet_demand\u001b[49m]\n\u001b[1;32m      3\u001b[0m colors \u001b[38;5;241m=\u001b[39m [\u001b[38;5;124m\"\u001b[39m\u001b[38;5;124mrgb(23, 191, 99)\u001b[39m\u001b[38;5;124m\"\u001b[39m, \u001b[38;5;124m\"\u001b[39m\u001b[38;5;124mrgb(52, 73, 94)\u001b[39m\u001b[38;5;124m\"\u001b[39m]\n\u001b[1;32m      5\u001b[0m fig \u001b[38;5;241m=\u001b[39m go\u001b[38;5;241m.\u001b[39mFigure(data\u001b[38;5;241m=\u001b[39m[go\u001b[38;5;241m.\u001b[39mPie(labels\u001b[38;5;241m=\u001b[39mlabels, values\u001b[38;5;241m=\u001b[39mvalues, hole\u001b[38;5;241m=\u001b[39m\u001b[38;5;241m.4\u001b[39m, marker_colors\u001b[38;5;241m=\u001b[39mcolors, opacity\u001b[38;5;241m=\u001b[39m\u001b[38;5;241m0.6\u001b[39m),])\n",
      "\u001b[0;31mNameError\u001b[0m: name 'unmet_demand' is not defined"
     ]
    }
   ],
   "source": [
    "total_sales = 100\n",
    "unmet_demand = 20\n",
    "\n",
    "labels = ['Fulfilled Sales', 'Unfulfilled Sales']\n",
    "values = [total_sales, unmet_demand]\n",
    "colors = [\"rgb(23, 191, 99)\", \"rgb(52, 73, 94)\"]\n",
    "\n",
    "fig = go.Figure(data=[go.Pie(labels=labels, values=values, hole=.4, marker_colors=colors, opacity=0.6),])\n",
    "fig.update_layout(\n",
    "    height=300,\n",
    "    showlegend=True,\n",
    "    legend=dict(orientation=\"h\", yanchor=\"bottom\", y=-0.2, xanchor=\"center\", x=0.5),\n",
    "    margin=dict(l=0, r=0, t=0, b=0),\n",
    "    paper_bgcolor='rgba(0,0,0,0)',\n",
    "    plot_bgcolor='rgba(0,0,0,0)'\n",
    ")"
   ]
  },
  {
   "cell_type": "code",
   "execution_count": null,
   "id": "f9de93f5",
   "metadata": {},
   "outputs": [],
   "source": []
  }
 ],
 "metadata": {
  "kernelspec": {
   "display_name": "operation-research",
   "language": "python",
   "name": "python3"
  },
  "language_info": {
   "codemirror_mode": {
    "name": "ipython",
    "version": 3
   },
   "file_extension": ".py",
   "mimetype": "text/x-python",
   "name": "python",
   "nbconvert_exporter": "python",
   "pygments_lexer": "ipython3",
   "version": "3.10.12"
  }
 },
 "nbformat": 4,
 "nbformat_minor": 5
}
