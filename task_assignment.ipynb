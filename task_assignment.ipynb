{
 "cells": [
  {
   "cell_type": "markdown",
   "metadata": {},
   "source": [
    "Hey, ORville here 👋\n",
    "\n",
    "I'm a logistics manager overseeing the allocation of tasks to employees in our company, FurnitORe.\n",
    "\n",
    "Right now we have 100 tasks that need to be completed, and we also have 100 employees available to handle them.\n",
    "\n",
    "The catch is that assigning a task to an employee has a cost 💸.\n",
    "\n",
    "These costs vary depending on the difficulty of the task, the expertise of the employee, and other factors.\n",
    "\n",
    "I need your help to figure out the most cost-effective way to assign these tasks to employees.\n",
    "\n",
    "You can assume that each task is done by just one employee, and one employee is assigned to just one task.\n",
    "\n",
    "Can you help me solve this problem?"
   ]
  },
  {
   "cell_type": "markdown",
   "metadata": {},
   "source": [
    "## Solution modeled with binary variables\n",
    "\n",
    "**Goal**\n",
    "\n",
    "Minimal cost allocation of workers to tasks\n",
    "\n",
    "$$ \\min \\sum_{w,t}c_{wt}x_{wt} $$\n",
    "\n",
    "**Decisions**:\n",
    "\n",
    "$x_{wt}\\in\\{0,1\\}$ for worker $w$ allocated for task $t$\n",
    "\n",
    "\n",
    "**Data:**\n",
    "\n",
    "Set of workers $W = \\{0..99\\}$\n",
    "\n",
    "Set of tasks $T = \\{0..99\\}$\n",
    "\n",
    "Assignment Cost Matrix $c_{wt}$ for worker $w$ on task $t$\n",
    "\n",
    "\n",
    "\n",
    "**Constraints**\n",
    "\n",
    "| **Description** | **Expression** |\n",
    "| --- | --- |\n",
    "| Each employee is assigned exactly one task | $\\sum_t x_{wt}=1$ |\n",
    "| Each task is completed by exactly one employee | $\\sum_w x_{wt}=1$ |"
   ]
  },
  {
   "cell_type": "code",
   "execution_count": 26,
   "metadata": {},
   "outputs": [],
   "source": [
    "def get_instance(input_filename):\n",
    "    with open(input_filename, \"r\") as file:\n",
    "        data = file.read()\n",
    "\n",
    "    # Split the data into lines\n",
    "    lines = data.strip().split('\\n')\n",
    "    l = 0\n",
    "\n",
    "    # Skip comment lines\n",
    "    while lines[l].startswith('#') or lines[l] == '':\n",
    "        l += 1\n",
    "    \n",
    "    # get metadata parameters (always first line)\n",
    "    metadata = map(int, lines[l].split())\n",
    "    data = []\n",
    "    l += 1\n",
    "\n",
    "    # Process each line\n",
    "    while l < len(lines):\n",
    "        data.append(list(map(int, lines[l].split())))\n",
    "        l += 1\n",
    "\n",
    "    return *metadata, data\n",
    "\n",
    "def parse_to_zero_index(data, indexes):\n",
    "    for i in range(len(data)):\n",
    "        for idx in indexes:\n",
    "            data[i][idx] -= 1\n",
    "    return"
   ]
  },
  {
   "cell_type": "code",
   "execution_count": 27,
   "metadata": {},
   "outputs": [],
   "source": [
    "def correct_format(data):\n",
    "    for i in range(100):\n",
    "        for _ in range(7):\n",
    "            data[i].extend(data[i+1])\n",
    "            data.pop(i+1)\n",
    "    return"
   ]
  },
  {
   "cell_type": "code",
   "execution_count": 28,
   "metadata": {},
   "outputs": [
    {
     "name": "stdout",
     "output_type": "stream",
     "text": [
      "Number of tasks: 100\n",
      "Number of workers: 100\n",
      "Assignment Cost matrix: (100, 100)\n"
     ]
    }
   ],
   "source": [
    "num_tasks, assigment_costs = get_instance(\"data/tasks_employees.txt\")\n",
    "num_workers = num_tasks\n",
    "correct_format(assigment_costs)\n",
    "\n",
    "# Print the extracted data\n",
    "print(f\"Number of tasks: {num_tasks}\")\n",
    "print(f\"Number of workers: {num_workers}\")\n",
    "print(f\"Assignment Cost matrix: {len(assigment_costs), len(assigment_costs[0])}\")"
   ]
  },
  {
   "cell_type": "code",
   "execution_count": 29,
   "metadata": {},
   "outputs": [],
   "source": [
    "from ortools.sat.python import cp_model\n",
    "\n",
    "model = cp_model.CpModel()\n",
    "solver = cp_model.CpSolver()"
   ]
  },
  {
   "cell_type": "code",
   "execution_count": 30,
   "metadata": {},
   "outputs": [],
   "source": [
    "x = [[None] * num_workers for _ in range(num_tasks)]\n",
    "\n",
    "for t in range(num_tasks):\n",
    "    for w in range(num_workers):\n",
    "        x[t][w] = model.NewBoolVar(f'task_{t}_to_worker_{w}')"
   ]
  },
  {
   "cell_type": "code",
   "execution_count": 31,
   "metadata": {},
   "outputs": [],
   "source": [
    "for t in range(num_tasks):\n",
    "    model.Add(sum(x[t]) == 1)"
   ]
  },
  {
   "cell_type": "code",
   "execution_count": 32,
   "metadata": {},
   "outputs": [],
   "source": [
    "for x_w in zip(*x):\n",
    "    model.Add(sum(x_w) == 1)"
   ]
  },
  {
   "cell_type": "code",
   "execution_count": 34,
   "metadata": {},
   "outputs": [],
   "source": [
    "# Specify the type of problem. In this case, we want to minimize the objective function\n",
    "solver.parameters.num_search_workers = 8\n",
    "solver.parameters.max_time_in_seconds = 120\n",
    "model.Minimize(\n",
    "    sum(assigment_costs[t][w] * x[t][w] \n",
    "        for t in range(num_tasks) \n",
    "        for w in range(num_workers)\n",
    "    )\n",
    ")"
   ]
  },
  {
   "cell_type": "code",
   "execution_count": 35,
   "metadata": {},
   "outputs": [
    {
     "name": "stdout",
     "output_type": "stream",
     "text": [
      "Solution 0, time = 0.68 s, objective = 5246\n",
      "Solution 1, time = 0.84 s, objective = 3345\n",
      "Solution 2, time = 0.89 s, objective = 305\n",
      "Solution: Total cost of worker's payment = 305.0\n"
     ]
    }
   ],
   "source": [
    "# Call the solver method to find the optimal solution\n",
    "callback = cp_model.ObjectiveSolutionPrinter()\n",
    "or_status = solver.SolveWithSolutionCallback(model, callback)\n",
    "status = solver.StatusName(or_status)\n",
    "\n",
    "if status in [\"OPTIMAL\", \"FEASIBLE\"]:\n",
    "    print(f'Solution: Total cost of worker\\'s payment = {solver.ObjectiveValue()}')\n",
    "else:\n",
    "    print('A solution could not be found, check the problem specification')"
   ]
  },
  {
   "cell_type": "code",
   "execution_count": 87,
   "metadata": {},
   "outputs": [],
   "source": [
    "solution1 = set()\n",
    "for t in range(num_tasks):\n",
    "    for w in range(num_workers):\n",
    "        if solver.Value(x[t][w]) == 1:\n",
    "            solution1.add((t, w))\n",
    "# [solver.Value(x[s][v]) for v in range(num_cities) if x[s][v] is not None]"
   ]
  },
  {
   "cell_type": "code",
   "execution_count": 88,
   "metadata": {},
   "outputs": [
    {
     "data": {
      "text/plain": [
       "305"
      ]
     },
     "execution_count": 88,
     "metadata": {},
     "output_type": "execute_result"
    }
   ],
   "source": [
    "sum(assigment_costs[t][w] for t, w in solution1)"
   ]
  },
  {
   "cell_type": "markdown",
   "metadata": {},
   "source": [
    "Greedy Approach"
   ]
  },
  {
   "cell_type": "code",
   "execution_count": 101,
   "metadata": {},
   "outputs": [],
   "source": [
    "from collections import deque\n",
    "\n",
    "pq = deque(\n",
    "    sorted((assigment_costs[t][w], t, w) \n",
    "           for t in range(num_tasks) \n",
    "           for w in range(num_workers)\n",
    "        )\n",
    "    )\n",
    "\n",
    "solution2 = set()\n",
    "chosen_tasks = set()\n",
    "chosen_workers = set()\n",
    "total_cost = 0\n",
    "\n",
    "while len(solution2) < 100:\n",
    "    cost, t, w = pq.popleft()\n",
    "    if t in chosen_tasks or w in chosen_workers:\n",
    "        continue\n",
    "    \n",
    "    solution2.add((t, w))\n",
    "    chosen_tasks.add(t)\n",
    "    chosen_workers.add(w)\n",
    "    total_cost += cost\n",
    "    "
   ]
  },
  {
   "cell_type": "code",
   "execution_count": null,
   "metadata": {},
   "outputs": [
    {
     "data": {
      "text/plain": [
       "522"
      ]
     },
     "execution_count": 102,
     "metadata": {},
     "output_type": "execute_result"
    },
    {
     "ename": "",
     "evalue": "",
     "output_type": "error",
     "traceback": [
      "\u001b[1;31mEl kernel se bloqueó al ejecutar código en la celda actual o en una celda anterior. \n",
      "\u001b[1;31mRevise el código de las celdas para identificar una posible causa del error. \n",
      "\u001b[1;31mHaga clic <a href='https://aka.ms/vscodeJupyterKernelCrash'>aquí</a> para obtener más información. \n",
      "\u001b[1;31mVea Jupyter <a href='command:jupyter.viewOutput'>log</a> para obtener más detalles."
     ]
    }
   ],
   "source": [
    "sum(assigment_costs[t][w] for t, w in solution2)"
   ]
  },
  {
   "cell_type": "markdown",
   "metadata": {},
   "source": [
    "Greedy doesn't work. Example\n",
    "\n",
    "| | W1 | W2 |\n",
    "|--|---|---|\n",
    "|T1 | 1 | 2 |\n",
    "|T2 | 3 | 100|"
   ]
  },
  {
   "cell_type": "code",
   "execution_count": 30,
   "metadata": {},
   "outputs": [],
   "source": [
    "from collections import Counter\n",
    "\n",
    "class Solution:\n",
    "    def repeatLimitedString(self, s: str, repeatLimit: int) -> str:\n",
    "        new_s = ''\n",
    "        chars_sorted = sorted([(char, freq) for char, freq in Counter(s).items()])\n",
    "        print(chars_sorted)\n",
    "        \n",
    "        onhold = None\n",
    "        while chars_sorted:\n",
    "\n",
    "            char, freq = chars_sorted.pop()\n",
    "            \n",
    "            if onhold and onhold[0] > char:\n",
    "                take = 1\n",
    "            else:\n",
    "                take = min(repeatLimit, freq)\n",
    "\n",
    "            print(char, take, onhold)\n",
    "            new_s += char * take\n",
    "\n",
    "            if onhold:\n",
    "                chars_sorted.append(onhold)\n",
    "                onhold = None\n",
    "\n",
    "            if take < freq:\n",
    "                onhold = (char, freq - take)\n",
    "        \n",
    "        return new_s\n",
    "    "
   ]
  },
  {
   "cell_type": "code",
   "execution_count": 31,
   "metadata": {},
   "outputs": [
    {
     "name": "stdout",
     "output_type": "stream",
     "text": [
      "[('a', 1), ('b', 2), ('c', 1), ('d', 2), ('e', 2), ('f', 1), ('g', 1), ('h', 1), ('i', 2), ('l', 1), ('n', 1), ('o', 2), ('p', 4), ('q', 2), ('r', 2), ('s', 1), ('u', 2), ('v', 3), ('x', 2), ('y', 1)]\n",
      "y 1 None\n",
      "x 2 None\n",
      "v 2 None\n",
      "u 1 ('v', 1)\n",
      "v 1 ('u', 1)\n",
      "u 1 None\n",
      "s 1 None\n",
      "r 2 None\n",
      "q 2 None\n",
      "p 2 None\n",
      "o 1 ('p', 2)\n",
      "p 2 ('o', 1)\n",
      "o 1 None\n",
      "n 1 None\n",
      "l 1 None\n",
      "i 2 None\n",
      "h 1 None\n",
      "g 1 None\n",
      "f 1 None\n",
      "e 2 None\n",
      "d 2 None\n",
      "c 1 None\n",
      "b 2 None\n",
      "a 1 None\n"
     ]
    },
    {
     "data": {
      "text/plain": [
       "'yxxvvuvusrrqqppopponliihgfeeddcbba'"
      ]
     },
     "execution_count": 31,
     "metadata": {},
     "output_type": "execute_result"
    }
   ],
   "source": [
    "Solution().repeatLimitedString(\"robnsdvpuxbapuqgopqvxdrchivlifeepy\", 2)"
   ]
  },
  {
   "cell_type": "code",
   "execution_count": 1,
   "metadata": {},
   "outputs": [
    {
     "data": {
      "text/plain": [
       "0"
      ]
     },
     "execution_count": 1,
     "metadata": {},
     "output_type": "execute_result"
    }
   ],
   "source": [
    "0 % 9"
   ]
  },
  {
   "cell_type": "code",
   "execution_count": null,
   "metadata": {},
   "outputs": [],
   "source": []
  }
 ],
 "metadata": {
  "kernelspec": {
   "display_name": "operation_research-bYGrJpWX",
   "language": "python",
   "name": "python3"
  },
  "language_info": {
   "codemirror_mode": {
    "name": "ipython",
    "version": 3
   },
   "file_extension": ".py",
   "mimetype": "text/x-python",
   "name": "python",
   "nbconvert_exporter": "python",
   "pygments_lexer": "ipython3",
   "version": "3.9.13"
  }
 },
 "nbformat": 4,
 "nbformat_minor": 2
}
