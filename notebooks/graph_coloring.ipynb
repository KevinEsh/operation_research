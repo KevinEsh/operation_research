{
 "cells": [
  {
   "cell_type": "markdown",
   "metadata": {},
   "source": [
    "Hi, I'm ÉléonORe, and I'm struggling to organize a series of events...\n",
    "\n",
    "Each event requires a dedicated room.\n",
    "\n",
    "Some events have overlapping participants, so I can't schedule them in the same room at the same time.\n",
    "\n",
    "How many rooms do I need? How can I assign each event to a room so that no two overlapping events are scheduled in the same one?\n",
    "\n",
    "Ideally, I want to minimize the total number of rooms used.\n",
    "\n",
    "Can you help me solve this problem?"
   ]
  },
  {
   "cell_type": "markdown",
   "metadata": {},
   "source": [
    "## Solution modeled with binary variables\n",
    "\n",
    "**Goal**\n",
    "\n",
    "Minimize number of rooms to be used during the whole series of events.\n",
    "\n",
    "$\\min \\sum_{r=0}^{m} y_r$\n",
    "\n",
    "**Decisions**:\n",
    "\n",
    "$y_r\\in\\{0,1\\}$ to use room r\n",
    "\n",
    "$x_{er}\\in\\{0,1\\}$ to schedule event $e$ into room $r$\n",
    "\n",
    "\n",
    "**Data:**\n",
    "\n",
    "Set of events $E=\\{1..n\\}$\n",
    "\n",
    "Set of rooms $R = \\{1..n\\}$ (in the worst-case scenario each event is assigned to its own room)\n",
    "\n",
    "Conflict paris $C = \\{(i,j)|i,j\\in E\\}$\n",
    "\n",
    "**Constraints**\n",
    "\n",
    "| Description    | Expression |\n",
    "| -------- | ------- |\n",
    "| One room for each event e  | $\\forall e \\in E: \\sum_r x_{er} = 1$    |\n",
    "| No conflict for each conflict pair (i,j) | $\\forall (i, j) \\in C, r \\in R: x_{ir} + x_{jr} \\leq 1$ |\n",
    "| Room is used only if an event is assigned to it | $\\forall r \\in R: \\sum_e x_{er} \\leq y_r$ |"
   ]
  },
  {
   "cell_type": "code",
   "execution_count": 36,
   "metadata": {},
   "outputs": [],
   "source": [
    "def get_instance(input_filename):\n",
    "    with open(input_filename, \"r\") as file:\n",
    "        data = file.read()\n",
    "\n",
    "    # Split the data into lines\n",
    "    lines = data.strip().split('\\n')\n",
    "    l = 0\n",
    "\n",
    "    # Skip comment lines\n",
    "    while lines[l].startswith('#') or lines[l] == '':\n",
    "        l += 1\n",
    "    \n",
    "    # get metadata parameters (always first line)\n",
    "    metadata = map(int, lines[l].split())\n",
    "    data = []\n",
    "    l += 1\n",
    "\n",
    "    # Process each line\n",
    "    while l < len(lines):\n",
    "        data.append(list(map(int, lines[l].split())))\n",
    "        l += 1\n",
    "\n",
    "    return *metadata, data"
   ]
  },
  {
   "cell_type": "code",
   "execution_count": 55,
   "metadata": {},
   "outputs": [
    {
     "name": "stdout",
     "output_type": "stream",
     "text": [
      "Number of events: 100\n",
      "Number of rooms: 15\n",
      "Number of conflicts: 2487\n"
     ]
    }
   ],
   "source": [
    "num_events, num_conflicts, conflicts = get_instance(\"data/conflicting_events.txt\")\n",
    "\n",
    "#num_rooms = num_events # worst-case scenario\n",
    "num_rooms = 15\n",
    "# Print the extracted data\n",
    "print(f\"Number of events: {num_events}\")\n",
    "print(f\"Number of rooms: {num_rooms}\")\n",
    "print(f\"Number of conflicts: {num_conflicts}\")\n",
    "# print(\"Conflicts:\")\n",
    "# for conflict in conflicts:\n",
    "#     print(conflict)"
   ]
  },
  {
   "cell_type": "code",
   "execution_count": 56,
   "metadata": {},
   "outputs": [],
   "source": [
    "import pandas as pd\n",
    "from ortools.sat.python import cp_model\n",
    "\n",
    "model = cp_model.CpModel()\n",
    "solver = cp_model.CpSolver()\n"
   ]
  },
  {
   "cell_type": "code",
   "execution_count": 57,
   "metadata": {},
   "outputs": [],
   "source": [
    "y = [model.NewBoolVar(name=f'is_room_{r}_active') for r in range(num_rooms)]\n",
    "x = [[model.NewBoolVar(name=f'event_{e}_in_room_{r}') for r in range(num_rooms)] for e in range(num_events)]"
   ]
  },
  {
   "cell_type": "code",
   "execution_count": 58,
   "metadata": {},
   "outputs": [],
   "source": [
    "for e in range(num_events):\n",
    "    model.Add(sum(x[e]) == 1)"
   ]
  },
  {
   "cell_type": "code",
   "execution_count": null,
   "metadata": {},
   "outputs": [],
   "source": [
    "for e1, e2 in conflicts:\n",
    "    e1 -= 1 #parsing to 0-indexed array\n",
    "    e2 -= 1\n",
    "    for r in range(num_rooms):\n",
    "        model.Add(x[e1][r] + x[e2][r] <= 1)"
   ]
  },
  {
   "cell_type": "code",
   "execution_count": 60,
   "metadata": {},
   "outputs": [],
   "source": [
    "# for r, x_room in enumerate(zip(*x)):\n",
    "#     model.Add(sum(x_room) <= y[r])\n",
    "\n",
    "for r in range(num_rooms):\n",
    "    for e in range(num_events):\n",
    "        model.Add(x[e][r] <= y[r])"
   ]
  },
  {
   "cell_type": "code",
   "execution_count": 63,
   "metadata": {},
   "outputs": [],
   "source": [
    "# Specify the type of problem. In this case, we want to minimize the objective function\n",
    "solver.parameters.num_search_workers = 8\n",
    "solver.parameters.max_time_in_seconds = 120\n",
    "model.Minimize(sum(y))"
   ]
  },
  {
   "cell_type": "code",
   "execution_count": 64,
   "metadata": {},
   "outputs": [
    {
     "name": "stdout",
     "output_type": "stream",
     "text": [
      "Solution 0, time = 0.66 s, objective = 15\n",
      "Solution: Total rooms used = 15.0\n"
     ]
    }
   ],
   "source": [
    "# Call the solver method to find the optimal solution\n",
    "callback = cp_model.ObjectiveSolutionPrinter()\n",
    "or_status = solver.SolveWithSolutionCallback(model, callback)\n",
    "status = solver.StatusName(or_status)\n",
    "\n",
    "if status in [\"OPTIMAL\", \"FEASIBLE\"]:\n",
    "    print(f'Solution: Total rooms used = {solver.ObjectiveValue()}')\n",
    "else:\n",
    "    print('A solution could not be found, check the problem specification')"
   ]
  }
 ],
 "metadata": {
  "kernelspec": {
   "display_name": "operation_research-bYGrJpWX",
   "language": "python",
   "name": "python3"
  },
  "language_info": {
   "codemirror_mode": {
    "name": "ipython",
    "version": 3
   },
   "file_extension": ".py",
   "mimetype": "text/x-python",
   "name": "python",
   "nbconvert_exporter": "python",
   "pygments_lexer": "ipython3",
   "version": "3.9.13"
  }
 },
 "nbformat": 4,
 "nbformat_minor": 2
}
